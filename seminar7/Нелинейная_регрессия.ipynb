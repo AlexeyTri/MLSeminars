{
  "nbformat": 4,
  "nbformat_minor": 0,
  "metadata": {
    "colab": {
      "provenance": [],
      "toc_visible": true,
      "authorship_tag": "ABX9TyNzMJq9SOur+sy7+lxxYpJs",
      "include_colab_link": true
    },
    "kernelspec": {
      "name": "python3",
      "display_name": "Python 3"
    },
    "language_info": {
      "name": "python"
    },
    "widgets": {
      "application/vnd.jupyter.widget-state+json": {
        "663c2459f8f5410d93d2fd45dd548e9c": {
          "model_module": "@jupyter-widgets/controls",
          "model_name": "HBoxModel",
          "model_module_version": "1.5.0",
          "state": {
            "_dom_classes": [],
            "_model_module": "@jupyter-widgets/controls",
            "_model_module_version": "1.5.0",
            "_model_name": "HBoxModel",
            "_view_count": null,
            "_view_module": "@jupyter-widgets/controls",
            "_view_module_version": "1.5.0",
            "_view_name": "HBoxView",
            "box_style": "",
            "children": [
              "IPY_MODEL_e7d184a8c59b4b45a9697dcb017a8cd4",
              "IPY_MODEL_fe03bf4b371a4fa2ad3d15567a8cd998",
              "IPY_MODEL_5b0acaca8a0441aaaaab905fe084ad9f"
            ],
            "layout": "IPY_MODEL_01e2e6d7db8d4a7491c8fe433cc85840"
          }
        },
        "e7d184a8c59b4b45a9697dcb017a8cd4": {
          "model_module": "@jupyter-widgets/controls",
          "model_name": "HTMLModel",
          "model_module_version": "1.5.0",
          "state": {
            "_dom_classes": [],
            "_model_module": "@jupyter-widgets/controls",
            "_model_module_version": "1.5.0",
            "_model_name": "HTMLModel",
            "_view_count": null,
            "_view_module": "@jupyter-widgets/controls",
            "_view_module_version": "1.5.0",
            "_view_name": "HTMLView",
            "description": "",
            "description_tooltip": null,
            "layout": "IPY_MODEL_a7abec012f66494683831741bda8245a",
            "placeholder": "​",
            "style": "IPY_MODEL_9df77b190c914743bc261e72e49053e8",
            "value": "100%"
          }
        },
        "fe03bf4b371a4fa2ad3d15567a8cd998": {
          "model_module": "@jupyter-widgets/controls",
          "model_name": "FloatProgressModel",
          "model_module_version": "1.5.0",
          "state": {
            "_dom_classes": [],
            "_model_module": "@jupyter-widgets/controls",
            "_model_module_version": "1.5.0",
            "_model_name": "FloatProgressModel",
            "_view_count": null,
            "_view_module": "@jupyter-widgets/controls",
            "_view_module_version": "1.5.0",
            "_view_name": "ProgressView",
            "bar_style": "",
            "description": "",
            "description_tooltip": null,
            "layout": "IPY_MODEL_db2cc385d2424f25b680e10dede2d501",
            "max": 11,
            "min": 0,
            "orientation": "horizontal",
            "style": "IPY_MODEL_4a97519fe2a045c48713898fa27b67a8",
            "value": 11
          }
        },
        "5b0acaca8a0441aaaaab905fe084ad9f": {
          "model_module": "@jupyter-widgets/controls",
          "model_name": "HTMLModel",
          "model_module_version": "1.5.0",
          "state": {
            "_dom_classes": [],
            "_model_module": "@jupyter-widgets/controls",
            "_model_module_version": "1.5.0",
            "_model_name": "HTMLModel",
            "_view_count": null,
            "_view_module": "@jupyter-widgets/controls",
            "_view_module_version": "1.5.0",
            "_view_name": "HTMLView",
            "description": "",
            "description_tooltip": null,
            "layout": "IPY_MODEL_f4b8dcbe8a6646c39e6545b51d574a2c",
            "placeholder": "​",
            "style": "IPY_MODEL_360783d47fe64365a5c7368c830fd508",
            "value": " 11/11 [01:06&lt;00:00,  6.28s/it]"
          }
        },
        "01e2e6d7db8d4a7491c8fe433cc85840": {
          "model_module": "@jupyter-widgets/base",
          "model_name": "LayoutModel",
          "model_module_version": "1.2.0",
          "state": {
            "_model_module": "@jupyter-widgets/base",
            "_model_module_version": "1.2.0",
            "_model_name": "LayoutModel",
            "_view_count": null,
            "_view_module": "@jupyter-widgets/base",
            "_view_module_version": "1.2.0",
            "_view_name": "LayoutView",
            "align_content": null,
            "align_items": null,
            "align_self": null,
            "border": null,
            "bottom": null,
            "display": null,
            "flex": null,
            "flex_flow": null,
            "grid_area": null,
            "grid_auto_columns": null,
            "grid_auto_flow": null,
            "grid_auto_rows": null,
            "grid_column": null,
            "grid_gap": null,
            "grid_row": null,
            "grid_template_areas": null,
            "grid_template_columns": null,
            "grid_template_rows": null,
            "height": null,
            "justify_content": null,
            "justify_items": null,
            "left": null,
            "margin": null,
            "max_height": null,
            "max_width": null,
            "min_height": null,
            "min_width": null,
            "object_fit": null,
            "object_position": null,
            "order": null,
            "overflow": null,
            "overflow_x": null,
            "overflow_y": null,
            "padding": null,
            "right": null,
            "top": null,
            "visibility": "hidden",
            "width": null
          }
        },
        "a7abec012f66494683831741bda8245a": {
          "model_module": "@jupyter-widgets/base",
          "model_name": "LayoutModel",
          "model_module_version": "1.2.0",
          "state": {
            "_model_module": "@jupyter-widgets/base",
            "_model_module_version": "1.2.0",
            "_model_name": "LayoutModel",
            "_view_count": null,
            "_view_module": "@jupyter-widgets/base",
            "_view_module_version": "1.2.0",
            "_view_name": "LayoutView",
            "align_content": null,
            "align_items": null,
            "align_self": null,
            "border": null,
            "bottom": null,
            "display": null,
            "flex": null,
            "flex_flow": null,
            "grid_area": null,
            "grid_auto_columns": null,
            "grid_auto_flow": null,
            "grid_auto_rows": null,
            "grid_column": null,
            "grid_gap": null,
            "grid_row": null,
            "grid_template_areas": null,
            "grid_template_columns": null,
            "grid_template_rows": null,
            "height": null,
            "justify_content": null,
            "justify_items": null,
            "left": null,
            "margin": null,
            "max_height": null,
            "max_width": null,
            "min_height": null,
            "min_width": null,
            "object_fit": null,
            "object_position": null,
            "order": null,
            "overflow": null,
            "overflow_x": null,
            "overflow_y": null,
            "padding": null,
            "right": null,
            "top": null,
            "visibility": null,
            "width": null
          }
        },
        "9df77b190c914743bc261e72e49053e8": {
          "model_module": "@jupyter-widgets/controls",
          "model_name": "DescriptionStyleModel",
          "model_module_version": "1.5.0",
          "state": {
            "_model_module": "@jupyter-widgets/controls",
            "_model_module_version": "1.5.0",
            "_model_name": "DescriptionStyleModel",
            "_view_count": null,
            "_view_module": "@jupyter-widgets/base",
            "_view_module_version": "1.2.0",
            "_view_name": "StyleView",
            "description_width": ""
          }
        },
        "db2cc385d2424f25b680e10dede2d501": {
          "model_module": "@jupyter-widgets/base",
          "model_name": "LayoutModel",
          "model_module_version": "1.2.0",
          "state": {
            "_model_module": "@jupyter-widgets/base",
            "_model_module_version": "1.2.0",
            "_model_name": "LayoutModel",
            "_view_count": null,
            "_view_module": "@jupyter-widgets/base",
            "_view_module_version": "1.2.0",
            "_view_name": "LayoutView",
            "align_content": null,
            "align_items": null,
            "align_self": null,
            "border": null,
            "bottom": null,
            "display": null,
            "flex": null,
            "flex_flow": null,
            "grid_area": null,
            "grid_auto_columns": null,
            "grid_auto_flow": null,
            "grid_auto_rows": null,
            "grid_column": null,
            "grid_gap": null,
            "grid_row": null,
            "grid_template_areas": null,
            "grid_template_columns": null,
            "grid_template_rows": null,
            "height": null,
            "justify_content": null,
            "justify_items": null,
            "left": null,
            "margin": null,
            "max_height": null,
            "max_width": null,
            "min_height": null,
            "min_width": null,
            "object_fit": null,
            "object_position": null,
            "order": null,
            "overflow": null,
            "overflow_x": null,
            "overflow_y": null,
            "padding": null,
            "right": null,
            "top": null,
            "visibility": null,
            "width": null
          }
        },
        "4a97519fe2a045c48713898fa27b67a8": {
          "model_module": "@jupyter-widgets/controls",
          "model_name": "ProgressStyleModel",
          "model_module_version": "1.5.0",
          "state": {
            "_model_module": "@jupyter-widgets/controls",
            "_model_module_version": "1.5.0",
            "_model_name": "ProgressStyleModel",
            "_view_count": null,
            "_view_module": "@jupyter-widgets/base",
            "_view_module_version": "1.2.0",
            "_view_name": "StyleView",
            "bar_color": null,
            "description_width": ""
          }
        },
        "f4b8dcbe8a6646c39e6545b51d574a2c": {
          "model_module": "@jupyter-widgets/base",
          "model_name": "LayoutModel",
          "model_module_version": "1.2.0",
          "state": {
            "_model_module": "@jupyter-widgets/base",
            "_model_module_version": "1.2.0",
            "_model_name": "LayoutModel",
            "_view_count": null,
            "_view_module": "@jupyter-widgets/base",
            "_view_module_version": "1.2.0",
            "_view_name": "LayoutView",
            "align_content": null,
            "align_items": null,
            "align_self": null,
            "border": null,
            "bottom": null,
            "display": null,
            "flex": null,
            "flex_flow": null,
            "grid_area": null,
            "grid_auto_columns": null,
            "grid_auto_flow": null,
            "grid_auto_rows": null,
            "grid_column": null,
            "grid_gap": null,
            "grid_row": null,
            "grid_template_areas": null,
            "grid_template_columns": null,
            "grid_template_rows": null,
            "height": null,
            "justify_content": null,
            "justify_items": null,
            "left": null,
            "margin": null,
            "max_height": null,
            "max_width": null,
            "min_height": null,
            "min_width": null,
            "object_fit": null,
            "object_position": null,
            "order": null,
            "overflow": null,
            "overflow_x": null,
            "overflow_y": null,
            "padding": null,
            "right": null,
            "top": null,
            "visibility": null,
            "width": null
          }
        },
        "360783d47fe64365a5c7368c830fd508": {
          "model_module": "@jupyter-widgets/controls",
          "model_name": "DescriptionStyleModel",
          "model_module_version": "1.5.0",
          "state": {
            "_model_module": "@jupyter-widgets/controls",
            "_model_module_version": "1.5.0",
            "_model_name": "DescriptionStyleModel",
            "_view_count": null,
            "_view_module": "@jupyter-widgets/base",
            "_view_module_version": "1.2.0",
            "_view_name": "StyleView",
            "description_width": ""
          }
        },
        "a030d8a117a04ba585a86d93c56ce68d": {
          "model_module": "@jupyter-widgets/controls",
          "model_name": "HBoxModel",
          "model_module_version": "1.5.0",
          "state": {
            "_dom_classes": [],
            "_model_module": "@jupyter-widgets/controls",
            "_model_module_version": "1.5.0",
            "_model_name": "HBoxModel",
            "_view_count": null,
            "_view_module": "@jupyter-widgets/controls",
            "_view_module_version": "1.5.0",
            "_view_name": "HBoxView",
            "box_style": "",
            "children": [
              "IPY_MODEL_9350be33fd204d1cbc8430b7ce3ad915",
              "IPY_MODEL_a69c37c9e3ac46c59f696a2ef2b4ffd8"
            ],
            "layout": "IPY_MODEL_2f22462d0e4f4aeb8b278afe836d19d5"
          }
        },
        "9350be33fd204d1cbc8430b7ce3ad915": {
          "model_module": "@jupyter-widgets/controls",
          "model_name": "FloatProgressModel",
          "model_module_version": "1.5.0",
          "state": {
            "_dom_classes": [],
            "_model_module": "@jupyter-widgets/controls",
            "_model_module_version": "1.5.0",
            "_model_name": "FloatProgressModel",
            "_view_count": null,
            "_view_module": "@jupyter-widgets/controls",
            "_view_module_version": "1.5.0",
            "_view_name": "ProgressView",
            "bar_style": "",
            "description": "100%",
            "description_tooltip": null,
            "layout": "IPY_MODEL_82d71fc2fbd84a03ae056233667b177b",
            "max": 999,
            "min": 0,
            "orientation": "horizontal",
            "style": "IPY_MODEL_d0bf8d1c765a47c78563a64504f61fe9",
            "value": 999
          }
        },
        "a69c37c9e3ac46c59f696a2ef2b4ffd8": {
          "model_module": "@jupyter-widgets/controls",
          "model_name": "HTMLModel",
          "model_module_version": "1.5.0",
          "state": {
            "_dom_classes": [],
            "_model_module": "@jupyter-widgets/controls",
            "_model_module_version": "1.5.0",
            "_model_name": "HTMLModel",
            "_view_count": null,
            "_view_module": "@jupyter-widgets/controls",
            "_view_module_version": "1.5.0",
            "_view_name": "HTMLView",
            "description": "",
            "description_tooltip": null,
            "layout": "IPY_MODEL_54ab83cc8c194dcf98a94aa2e4ad1045",
            "placeholder": "​",
            "style": "IPY_MODEL_57d5509736b14d31ad8892b5c06ee1c6",
            "value": " 999/999 [00:00&lt;00:00, 34.50it/s]"
          }
        },
        "2f22462d0e4f4aeb8b278afe836d19d5": {
          "model_module": "@jupyter-widgets/base",
          "model_name": "LayoutModel",
          "model_module_version": "1.2.0",
          "state": {
            "_model_module": "@jupyter-widgets/base",
            "_model_module_version": "1.2.0",
            "_model_name": "LayoutModel",
            "_view_count": null,
            "_view_module": "@jupyter-widgets/base",
            "_view_module_version": "1.2.0",
            "_view_name": "LayoutView",
            "align_content": null,
            "align_items": null,
            "align_self": null,
            "border": null,
            "bottom": null,
            "display": null,
            "flex": null,
            "flex_flow": null,
            "grid_area": null,
            "grid_auto_columns": null,
            "grid_auto_flow": null,
            "grid_auto_rows": null,
            "grid_column": null,
            "grid_gap": null,
            "grid_row": null,
            "grid_template_areas": null,
            "grid_template_columns": null,
            "grid_template_rows": null,
            "height": null,
            "justify_content": null,
            "justify_items": null,
            "left": null,
            "margin": null,
            "max_height": null,
            "max_width": null,
            "min_height": null,
            "min_width": null,
            "object_fit": null,
            "object_position": null,
            "order": null,
            "overflow": null,
            "overflow_x": null,
            "overflow_y": null,
            "padding": null,
            "right": null,
            "top": null,
            "visibility": null,
            "width": null
          }
        },
        "82d71fc2fbd84a03ae056233667b177b": {
          "model_module": "@jupyter-widgets/base",
          "model_name": "LayoutModel",
          "model_module_version": "1.2.0",
          "state": {
            "_model_module": "@jupyter-widgets/base",
            "_model_module_version": "1.2.0",
            "_model_name": "LayoutModel",
            "_view_count": null,
            "_view_module": "@jupyter-widgets/base",
            "_view_module_version": "1.2.0",
            "_view_name": "LayoutView",
            "align_content": null,
            "align_items": null,
            "align_self": null,
            "border": null,
            "bottom": null,
            "display": null,
            "flex": null,
            "flex_flow": null,
            "grid_area": null,
            "grid_auto_columns": null,
            "grid_auto_flow": null,
            "grid_auto_rows": null,
            "grid_column": null,
            "grid_gap": null,
            "grid_row": null,
            "grid_template_areas": null,
            "grid_template_columns": null,
            "grid_template_rows": null,
            "height": null,
            "justify_content": null,
            "justify_items": null,
            "left": null,
            "margin": null,
            "max_height": null,
            "max_width": null,
            "min_height": null,
            "min_width": null,
            "object_fit": null,
            "object_position": null,
            "order": null,
            "overflow": null,
            "overflow_x": null,
            "overflow_y": null,
            "padding": null,
            "right": null,
            "top": null,
            "visibility": null,
            "width": null
          }
        },
        "d0bf8d1c765a47c78563a64504f61fe9": {
          "model_module": "@jupyter-widgets/controls",
          "model_name": "ProgressStyleModel",
          "model_module_version": "1.5.0",
          "state": {
            "_model_module": "@jupyter-widgets/controls",
            "_model_module_version": "1.5.0",
            "_model_name": "ProgressStyleModel",
            "_view_count": null,
            "_view_module": "@jupyter-widgets/base",
            "_view_module_version": "1.2.0",
            "_view_name": "StyleView",
            "bar_color": null,
            "description_width": "initial"
          }
        },
        "54ab83cc8c194dcf98a94aa2e4ad1045": {
          "model_module": "@jupyter-widgets/base",
          "model_name": "LayoutModel",
          "model_module_version": "1.2.0",
          "state": {
            "_model_module": "@jupyter-widgets/base",
            "_model_module_version": "1.2.0",
            "_model_name": "LayoutModel",
            "_view_count": null,
            "_view_module": "@jupyter-widgets/base",
            "_view_module_version": "1.2.0",
            "_view_name": "LayoutView",
            "align_content": null,
            "align_items": null,
            "align_self": null,
            "border": null,
            "bottom": null,
            "display": null,
            "flex": null,
            "flex_flow": null,
            "grid_area": null,
            "grid_auto_columns": null,
            "grid_auto_flow": null,
            "grid_auto_rows": null,
            "grid_column": null,
            "grid_gap": null,
            "grid_row": null,
            "grid_template_areas": null,
            "grid_template_columns": null,
            "grid_template_rows": null,
            "height": null,
            "justify_content": null,
            "justify_items": null,
            "left": null,
            "margin": null,
            "max_height": null,
            "max_width": null,
            "min_height": null,
            "min_width": null,
            "object_fit": null,
            "object_position": null,
            "order": null,
            "overflow": null,
            "overflow_x": null,
            "overflow_y": null,
            "padding": null,
            "right": null,
            "top": null,
            "visibility": null,
            "width": null
          }
        },
        "57d5509736b14d31ad8892b5c06ee1c6": {
          "model_module": "@jupyter-widgets/controls",
          "model_name": "DescriptionStyleModel",
          "model_module_version": "1.5.0",
          "state": {
            "_model_module": "@jupyter-widgets/controls",
            "_model_module_version": "1.5.0",
            "_model_name": "DescriptionStyleModel",
            "_view_count": null,
            "_view_module": "@jupyter-widgets/base",
            "_view_module_version": "1.2.0",
            "_view_name": "StyleView",
            "description_width": ""
          }
        },
        "a1668c8e5b294de696e025819566e98a": {
          "model_module": "@jupyter-widgets/controls",
          "model_name": "HBoxModel",
          "model_module_version": "1.5.0",
          "state": {
            "_dom_classes": [],
            "_model_module": "@jupyter-widgets/controls",
            "_model_module_version": "1.5.0",
            "_model_name": "HBoxModel",
            "_view_count": null,
            "_view_module": "@jupyter-widgets/controls",
            "_view_module_version": "1.5.0",
            "_view_name": "HBoxView",
            "box_style": "",
            "children": [
              "IPY_MODEL_6b1889b2bc734639975ce3751b3b0d9f",
              "IPY_MODEL_3df046ac41ef425bb43143a94bb87240"
            ],
            "layout": "IPY_MODEL_2082a2b46e11411da0554081162acd84"
          }
        },
        "6b1889b2bc734639975ce3751b3b0d9f": {
          "model_module": "@jupyter-widgets/controls",
          "model_name": "FloatProgressModel",
          "model_module_version": "1.5.0",
          "state": {
            "_dom_classes": [],
            "_model_module": "@jupyter-widgets/controls",
            "_model_module_version": "1.5.0",
            "_model_name": "FloatProgressModel",
            "_view_count": null,
            "_view_module": "@jupyter-widgets/controls",
            "_view_module_version": "1.5.0",
            "_view_name": "ProgressView",
            "bar_style": "",
            "description": "100%",
            "description_tooltip": null,
            "layout": "IPY_MODEL_79f629e02b1249d2a578b713519de805",
            "max": 2500,
            "min": 0,
            "orientation": "horizontal",
            "style": "IPY_MODEL_a2b2a8f701614a7da479107fd7472864",
            "value": 2500
          }
        },
        "3df046ac41ef425bb43143a94bb87240": {
          "model_module": "@jupyter-widgets/controls",
          "model_name": "HTMLModel",
          "model_module_version": "1.5.0",
          "state": {
            "_dom_classes": [],
            "_model_module": "@jupyter-widgets/controls",
            "_model_module_version": "1.5.0",
            "_model_name": "HTMLModel",
            "_view_count": null,
            "_view_module": "@jupyter-widgets/controls",
            "_view_module_version": "1.5.0",
            "_view_name": "HTMLView",
            "description": "",
            "description_tooltip": null,
            "layout": "IPY_MODEL_643c32e047df4340b9a08f58b7d4001e",
            "placeholder": "​",
            "style": "IPY_MODEL_5e3299bff2a846519f3a6146310ee0d7",
            "value": " 2500/2500 [00:01&lt;00:00, 194.89it/s]"
          }
        },
        "2082a2b46e11411da0554081162acd84": {
          "model_module": "@jupyter-widgets/base",
          "model_name": "LayoutModel",
          "model_module_version": "1.2.0",
          "state": {
            "_model_module": "@jupyter-widgets/base",
            "_model_module_version": "1.2.0",
            "_model_name": "LayoutModel",
            "_view_count": null,
            "_view_module": "@jupyter-widgets/base",
            "_view_module_version": "1.2.0",
            "_view_name": "LayoutView",
            "align_content": null,
            "align_items": null,
            "align_self": null,
            "border": null,
            "bottom": null,
            "display": null,
            "flex": null,
            "flex_flow": null,
            "grid_area": null,
            "grid_auto_columns": null,
            "grid_auto_flow": null,
            "grid_auto_rows": null,
            "grid_column": null,
            "grid_gap": null,
            "grid_row": null,
            "grid_template_areas": null,
            "grid_template_columns": null,
            "grid_template_rows": null,
            "height": null,
            "justify_content": null,
            "justify_items": null,
            "left": null,
            "margin": null,
            "max_height": null,
            "max_width": null,
            "min_height": null,
            "min_width": null,
            "object_fit": null,
            "object_position": null,
            "order": null,
            "overflow": null,
            "overflow_x": null,
            "overflow_y": null,
            "padding": null,
            "right": null,
            "top": null,
            "visibility": null,
            "width": null
          }
        },
        "79f629e02b1249d2a578b713519de805": {
          "model_module": "@jupyter-widgets/base",
          "model_name": "LayoutModel",
          "model_module_version": "1.2.0",
          "state": {
            "_model_module": "@jupyter-widgets/base",
            "_model_module_version": "1.2.0",
            "_model_name": "LayoutModel",
            "_view_count": null,
            "_view_module": "@jupyter-widgets/base",
            "_view_module_version": "1.2.0",
            "_view_name": "LayoutView",
            "align_content": null,
            "align_items": null,
            "align_self": null,
            "border": null,
            "bottom": null,
            "display": null,
            "flex": null,
            "flex_flow": null,
            "grid_area": null,
            "grid_auto_columns": null,
            "grid_auto_flow": null,
            "grid_auto_rows": null,
            "grid_column": null,
            "grid_gap": null,
            "grid_row": null,
            "grid_template_areas": null,
            "grid_template_columns": null,
            "grid_template_rows": null,
            "height": null,
            "justify_content": null,
            "justify_items": null,
            "left": null,
            "margin": null,
            "max_height": null,
            "max_width": null,
            "min_height": null,
            "min_width": null,
            "object_fit": null,
            "object_position": null,
            "order": null,
            "overflow": null,
            "overflow_x": null,
            "overflow_y": null,
            "padding": null,
            "right": null,
            "top": null,
            "visibility": null,
            "width": null
          }
        },
        "a2b2a8f701614a7da479107fd7472864": {
          "model_module": "@jupyter-widgets/controls",
          "model_name": "ProgressStyleModel",
          "model_module_version": "1.5.0",
          "state": {
            "_model_module": "@jupyter-widgets/controls",
            "_model_module_version": "1.5.0",
            "_model_name": "ProgressStyleModel",
            "_view_count": null,
            "_view_module": "@jupyter-widgets/base",
            "_view_module_version": "1.2.0",
            "_view_name": "StyleView",
            "bar_color": null,
            "description_width": "initial"
          }
        },
        "643c32e047df4340b9a08f58b7d4001e": {
          "model_module": "@jupyter-widgets/base",
          "model_name": "LayoutModel",
          "model_module_version": "1.2.0",
          "state": {
            "_model_module": "@jupyter-widgets/base",
            "_model_module_version": "1.2.0",
            "_model_name": "LayoutModel",
            "_view_count": null,
            "_view_module": "@jupyter-widgets/base",
            "_view_module_version": "1.2.0",
            "_view_name": "LayoutView",
            "align_content": null,
            "align_items": null,
            "align_self": null,
            "border": null,
            "bottom": null,
            "display": null,
            "flex": null,
            "flex_flow": null,
            "grid_area": null,
            "grid_auto_columns": null,
            "grid_auto_flow": null,
            "grid_auto_rows": null,
            "grid_column": null,
            "grid_gap": null,
            "grid_row": null,
            "grid_template_areas": null,
            "grid_template_columns": null,
            "grid_template_rows": null,
            "height": null,
            "justify_content": null,
            "justify_items": null,
            "left": null,
            "margin": null,
            "max_height": null,
            "max_width": null,
            "min_height": null,
            "min_width": null,
            "object_fit": null,
            "object_position": null,
            "order": null,
            "overflow": null,
            "overflow_x": null,
            "overflow_y": null,
            "padding": null,
            "right": null,
            "top": null,
            "visibility": null,
            "width": null
          }
        },
        "5e3299bff2a846519f3a6146310ee0d7": {
          "model_module": "@jupyter-widgets/controls",
          "model_name": "DescriptionStyleModel",
          "model_module_version": "1.5.0",
          "state": {
            "_model_module": "@jupyter-widgets/controls",
            "_model_module_version": "1.5.0",
            "_model_name": "DescriptionStyleModel",
            "_view_count": null,
            "_view_module": "@jupyter-widgets/base",
            "_view_module_version": "1.2.0",
            "_view_name": "StyleView",
            "description_width": ""
          }
        },
        "d91518bb373d42e09cd3ea0e6b9d918c": {
          "model_module": "@jupyter-widgets/controls",
          "model_name": "HBoxModel",
          "model_module_version": "1.5.0",
          "state": {
            "_dom_classes": [],
            "_model_module": "@jupyter-widgets/controls",
            "_model_module_version": "1.5.0",
            "_model_name": "HBoxModel",
            "_view_count": null,
            "_view_module": "@jupyter-widgets/controls",
            "_view_module_version": "1.5.0",
            "_view_name": "HBoxView",
            "box_style": "",
            "children": [
              "IPY_MODEL_b40abc1013054851bd9f86a40ab433c9",
              "IPY_MODEL_d87675d0b0ee42609564aeffa4ffd180"
            ],
            "layout": "IPY_MODEL_a1c144f9c1984c99bfbb989a6a4dfbce"
          }
        },
        "b40abc1013054851bd9f86a40ab433c9": {
          "model_module": "@jupyter-widgets/controls",
          "model_name": "FloatProgressModel",
          "model_module_version": "1.5.0",
          "state": {
            "_dom_classes": [],
            "_model_module": "@jupyter-widgets/controls",
            "_model_module_version": "1.5.0",
            "_model_name": "FloatProgressModel",
            "_view_count": null,
            "_view_module": "@jupyter-widgets/controls",
            "_view_module_version": "1.5.0",
            "_view_name": "ProgressView",
            "bar_style": "",
            "description": "100%",
            "description_tooltip": null,
            "layout": "IPY_MODEL_3eed8a0725e342fb88d87bdd433713f4",
            "max": 2500,
            "min": 0,
            "orientation": "horizontal",
            "style": "IPY_MODEL_d64c9e6862d243fb9933c255a188a731",
            "value": 2500
          }
        },
        "d87675d0b0ee42609564aeffa4ffd180": {
          "model_module": "@jupyter-widgets/controls",
          "model_name": "HTMLModel",
          "model_module_version": "1.5.0",
          "state": {
            "_dom_classes": [],
            "_model_module": "@jupyter-widgets/controls",
            "_model_module_version": "1.5.0",
            "_model_name": "HTMLModel",
            "_view_count": null,
            "_view_module": "@jupyter-widgets/controls",
            "_view_module_version": "1.5.0",
            "_view_name": "HTMLView",
            "description": "",
            "description_tooltip": null,
            "layout": "IPY_MODEL_40836daef1bc4ca8bc63c47bd28fab39",
            "placeholder": "​",
            "style": "IPY_MODEL_b81a01aad9454d9cb47e9b7c4abe3293",
            "value": " 2500/2500 [00:05&lt;00:00, 524.42it/s]"
          }
        },
        "a1c144f9c1984c99bfbb989a6a4dfbce": {
          "model_module": "@jupyter-widgets/base",
          "model_name": "LayoutModel",
          "model_module_version": "1.2.0",
          "state": {
            "_model_module": "@jupyter-widgets/base",
            "_model_module_version": "1.2.0",
            "_model_name": "LayoutModel",
            "_view_count": null,
            "_view_module": "@jupyter-widgets/base",
            "_view_module_version": "1.2.0",
            "_view_name": "LayoutView",
            "align_content": null,
            "align_items": null,
            "align_self": null,
            "border": null,
            "bottom": null,
            "display": null,
            "flex": null,
            "flex_flow": null,
            "grid_area": null,
            "grid_auto_columns": null,
            "grid_auto_flow": null,
            "grid_auto_rows": null,
            "grid_column": null,
            "grid_gap": null,
            "grid_row": null,
            "grid_template_areas": null,
            "grid_template_columns": null,
            "grid_template_rows": null,
            "height": null,
            "justify_content": null,
            "justify_items": null,
            "left": null,
            "margin": null,
            "max_height": null,
            "max_width": null,
            "min_height": null,
            "min_width": null,
            "object_fit": null,
            "object_position": null,
            "order": null,
            "overflow": null,
            "overflow_x": null,
            "overflow_y": null,
            "padding": null,
            "right": null,
            "top": null,
            "visibility": null,
            "width": null
          }
        },
        "3eed8a0725e342fb88d87bdd433713f4": {
          "model_module": "@jupyter-widgets/base",
          "model_name": "LayoutModel",
          "model_module_version": "1.2.0",
          "state": {
            "_model_module": "@jupyter-widgets/base",
            "_model_module_version": "1.2.0",
            "_model_name": "LayoutModel",
            "_view_count": null,
            "_view_module": "@jupyter-widgets/base",
            "_view_module_version": "1.2.0",
            "_view_name": "LayoutView",
            "align_content": null,
            "align_items": null,
            "align_self": null,
            "border": null,
            "bottom": null,
            "display": null,
            "flex": null,
            "flex_flow": null,
            "grid_area": null,
            "grid_auto_columns": null,
            "grid_auto_flow": null,
            "grid_auto_rows": null,
            "grid_column": null,
            "grid_gap": null,
            "grid_row": null,
            "grid_template_areas": null,
            "grid_template_columns": null,
            "grid_template_rows": null,
            "height": null,
            "justify_content": null,
            "justify_items": null,
            "left": null,
            "margin": null,
            "max_height": null,
            "max_width": null,
            "min_height": null,
            "min_width": null,
            "object_fit": null,
            "object_position": null,
            "order": null,
            "overflow": null,
            "overflow_x": null,
            "overflow_y": null,
            "padding": null,
            "right": null,
            "top": null,
            "visibility": null,
            "width": null
          }
        },
        "d64c9e6862d243fb9933c255a188a731": {
          "model_module": "@jupyter-widgets/controls",
          "model_name": "ProgressStyleModel",
          "model_module_version": "1.5.0",
          "state": {
            "_model_module": "@jupyter-widgets/controls",
            "_model_module_version": "1.5.0",
            "_model_name": "ProgressStyleModel",
            "_view_count": null,
            "_view_module": "@jupyter-widgets/base",
            "_view_module_version": "1.2.0",
            "_view_name": "StyleView",
            "bar_color": null,
            "description_width": "initial"
          }
        },
        "40836daef1bc4ca8bc63c47bd28fab39": {
          "model_module": "@jupyter-widgets/base",
          "model_name": "LayoutModel",
          "model_module_version": "1.2.0",
          "state": {
            "_model_module": "@jupyter-widgets/base",
            "_model_module_version": "1.2.0",
            "_model_name": "LayoutModel",
            "_view_count": null,
            "_view_module": "@jupyter-widgets/base",
            "_view_module_version": "1.2.0",
            "_view_name": "LayoutView",
            "align_content": null,
            "align_items": null,
            "align_self": null,
            "border": null,
            "bottom": null,
            "display": null,
            "flex": null,
            "flex_flow": null,
            "grid_area": null,
            "grid_auto_columns": null,
            "grid_auto_flow": null,
            "grid_auto_rows": null,
            "grid_column": null,
            "grid_gap": null,
            "grid_row": null,
            "grid_template_areas": null,
            "grid_template_columns": null,
            "grid_template_rows": null,
            "height": null,
            "justify_content": null,
            "justify_items": null,
            "left": null,
            "margin": null,
            "max_height": null,
            "max_width": null,
            "min_height": null,
            "min_width": null,
            "object_fit": null,
            "object_position": null,
            "order": null,
            "overflow": null,
            "overflow_x": null,
            "overflow_y": null,
            "padding": null,
            "right": null,
            "top": null,
            "visibility": null,
            "width": null
          }
        },
        "b81a01aad9454d9cb47e9b7c4abe3293": {
          "model_module": "@jupyter-widgets/controls",
          "model_name": "DescriptionStyleModel",
          "model_module_version": "1.5.0",
          "state": {
            "_model_module": "@jupyter-widgets/controls",
            "_model_module_version": "1.5.0",
            "_model_name": "DescriptionStyleModel",
            "_view_count": null,
            "_view_module": "@jupyter-widgets/base",
            "_view_module_version": "1.2.0",
            "_view_name": "StyleView",
            "description_width": ""
          }
        }
      }
    }
  },
  "cells": [
    {
      "cell_type": "markdown",
      "metadata": {
        "id": "view-in-github",
        "colab_type": "text"
      },
      "source": [
        "<a href=\"https://colab.research.google.com/github/AlexeyTri/MyMachineLearningSeminars/blob/main/seminar7/%D0%9D%D0%B5%D0%BB%D0%B8%D0%BD%D0%B5%D0%B9%D0%BD%D0%B0%D1%8F_%D1%80%D0%B5%D0%B3%D1%80%D0%B5%D1%81%D1%81%D0%B8%D1%8F.ipynb\" target=\"_parent\"><img src=\"https://colab.research.google.com/assets/colab-badge.svg\" alt=\"Open In Colab\"/></a>"
      ]
    },
    {
      "cell_type": "markdown",
      "source": [
        "**Нелинейная регрессия. Обобщенные линейные модели. Нестандартная функция потерь**"
      ],
      "metadata": {
        "id": "6ArW6Lhckp1l"
      }
    },
    {
      "cell_type": "code",
      "source": [
        "!pip install -U sentence-transformers"
      ],
      "metadata": {
        "id": "1Hmi_MdIoP1n"
      },
      "execution_count": null,
      "outputs": []
    },
    {
      "cell_type": "code",
      "source": [
        "!pip install samplesizelib"
      ],
      "metadata": {
        "id": "5JN5NeICofZm"
      },
      "execution_count": null,
      "outputs": []
    },
    {
      "cell_type": "code",
      "execution_count": 3,
      "metadata": {
        "id": "Do3A4WsmVOUu"
      },
      "outputs": [],
      "source": [
        "import matplotlib.pyplot as plt\n",
        "from matplotlib.image import imread\n",
        "from mpl_toolkits import mplot3d\n",
        "from matplotlib import gridspec\n",
        "from mlxtend.plotting import plot_decision_regions\n",
        "import seaborn as sns\n",
        "import pandas as pd\n",
        "from tqdm.notebook import tqdm\n",
        "\n",
        "from scipy.special import softmax\n",
        "from scipy.spatial.distance import cdist\n",
        "import numpy as np\n",
        "import torch\n",
        "\n",
        "from sklearn.preprocessing import StandardScaler\n",
        "from sklearn.svm import SVC, SVR\n",
        "from sklearn.linear_model import LogisticRegression\n",
        "from sklearn.metrics import classification_report\n",
        "from sklearn.model_selection import KFold, ParameterGrid\n",
        "from sklearn.datasets import make_classification, make_regression\n",
        "from sklearn.model_selection import train_test_split\n",
        "\n",
        "from sklearn.decomposition import PCA\n",
        "\n",
        "from sentence_transformers import SentenceTransformer\n",
        "\n",
        "from samplesizelib.linear.statistical import LikelihoodRatioEstimator\n",
        "from samplesizelib.linear.models import RegressionModel\n",
        "\n",
        "from torchvision import datasets\n",
        "from torchvision import transforms"
      ]
    },
    {
      "cell_type": "markdown",
      "source": [
        "# Нелинейная регрессия"
      ],
      "metadata": {
        "id": "IQkw6Bp6pkre"
      }
    },
    {
      "cell_type": "markdown",
      "source": [
        "## задача 1\n",
        "\n",
        "выборка:\n",
        "\n",
        "$𝔇 = \\{x_i, y_i\\}_{i=1}^l, x_i\\in ℝ, y_i\\in ℝ$\n",
        "\n",
        "известно, что:\n",
        "\n",
        "$y_i = f(x_i) \\forall i \\in 1...l$\n",
        "\n",
        "$𝔉 = \\{f:f(x,w) = w_0 + w_1x + w_2sin(x) + w_3cos(x), w\\in ℝ^4\\}$\n",
        "\n",
        "\n",
        "как апроскимировать выборку $𝔇$?\n",
        "\n",
        "!минимизация функционала\n",
        "\n",
        "$L = \\sum_{i=1}^{l}(f(x_i, w) - y_i)^2 \\to min_w$\n",
        "\n"
      ],
      "metadata": {
        "id": "UaBq4xLYq2Ww"
      }
    },
    {
      "cell_type": "markdown",
      "source": [
        "### вариант 1\n",
        "исходное признаковое описание объектов $x_i$ отображаем в новое пространство признаков $x_i = \\left[1, x_i, sin(x_i), cos(x_i)\\right]$\n",
        "\n",
        "решаем задачу линейное регрессии $y = w^{\\top}x$\n",
        "\n",
        "$\\hat w$ - параметры модели $\\hat f$"
      ],
      "metadata": {
        "id": "ANT9_Xcet8sJ"
      }
    },
    {
      "cell_type": "code",
      "source": [
        "np.random.seed(0)\n",
        "\n",
        "l = 200\n",
        "beta = 2\n",
        "\n",
        "x = np.linspace(-10, 10, l)\n",
        "w = np.array([1, 2, 3, 4])\n",
        "y = w[0] + w[1]*(x)+ w[2] *np.sin(x) + w[3]*np.cos(x) + beta*np.random.randn(l)\n",
        "\n",
        "x_train, x_test, y_train, y_test = train_test_split(x, y, test_size=50)"
      ],
      "metadata": {
        "id": "ILC0-6E0opTu"
      },
      "execution_count": null,
      "outputs": []
    },
    {
      "cell_type": "code",
      "source": [
        "plt.plot(x_train, y_train,'.')\n",
        "\n",
        "plt.grid()\n",
        "plt.show()"
      ],
      "metadata": {
        "colab": {
          "base_uri": "https://localhost:8080/",
          "height": 265
        },
        "id": "n5W4BbraqpBe",
        "outputId": "c768137a-0066-48da-8229-f54a54bb552b"
      },
      "execution_count": null,
      "outputs": [
        {
          "output_type": "display_data",
          "data": {
            "text/plain": [
              "<Figure size 432x288 with 1 Axes>"
            ],
            "image/png": "[encoded data removed]"
          },
          "metadata": {
            "needs_background": "light"
          }
        }
      ]
    },
    {
      "cell_type": "code",
      "source": [
        "def map_feature(x):\n",
        "    return np.vstack([np.ones_like(x), x, np.sin(x), np.cos(x)]).T"
      ],
      "metadata": {
        "id": "c08m7ydDq--e"
      },
      "execution_count": null,
      "outputs": []
    },
    {
      "cell_type": "code",
      "source": [
        "X_train = map_feature(x_train)\n",
        "X_test = map_feature(x_test)"
      ],
      "metadata": {
        "id": "bqDc56jSrVCu"
      },
      "execution_count": null,
      "outputs": []
    },
    {
      "cell_type": "code",
      "source": [
        "w_hat = np.linalg.inv(X_train.T@X_train)@X_train.T@y_train\n",
        "w_hat"
      ],
      "metadata": {
        "colab": {
          "base_uri": "https://localhost:8080/"
        },
        "id": "6B5bWh5LrfO-",
        "outputId": "0a299090-68da-4cd1-aa15-4860f04c3d65"
      },
      "execution_count": null,
      "outputs": [
        {
          "output_type": "execute_result",
          "data": {
            "text/plain": [
              "array([1.13720211, 1.97565739, 2.60619016, 4.18098566])"
            ]
          },
          "metadata": {},
          "execution_count": 8
        }
      ]
    },
    {
      "cell_type": "code",
      "source": [
        "plt.plot(x_train, y_train, '.', label='train')\n",
        "x = np.linspace(-10, 10, 2000)\n",
        "plt.plot(x, map_feature(x)@w_hat, label='predicted')\n",
        "\n",
        "x = np.linspace(1-0,10,2000)\n",
        "plt.plot(x, map_feature(x)@w, label='real')\n",
        "\n",
        "plt.legend(loc='beat')\n",
        "plt.show()"
      ],
      "metadata": {
        "colab": {
          "base_uri": "https://localhost:8080/",
          "height": 528
        },
        "id": "PpmB7j4msGvO",
        "outputId": "90eefa10-17a8-480d-f167-3e1809229685"
      },
      "execution_count": null,
      "outputs": [
        {
          "output_type": "stream",
          "name": "stderr",
          "text": [
            "<ipython-input-9-7cff23db44e1>:8: MatplotlibDeprecationWarning: Unrecognized location 'beat'. Falling back on 'best'; valid locations are\n",
            "\tbest\n",
            "\tupper right\n",
            "\tupper left\n",
            "\tlower left\n",
            "\tlower right\n",
            "\tright\n",
            "\tcenter left\n",
            "\tcenter right\n",
            "\tlower center\n",
            "\tupper center\n",
            "\tcenter\n",
            "This will raise an exception in 3.3.\n",
            "  plt.legend(loc='beat')\n"
          ]
        },
        {
          "output_type": "display_data",
          "data": {
            "text/plain": [
              "<Figure size 432x288 with 1 Axes>"
            ],
            "image/png": "[encoded data removed]"
          },
          "metadata": {
            "needs_background": "light"
          }
        }
      ]
    },
    {
      "cell_type": "markdown",
      "source": [
        "### вариант 2\n",
        "\n",
        "ищем решение $\\hat f$ в пространстве $𝔉$. Функция $\\hat f$ полностью описывается своими параметрами $\\hat w$. Найти $\\hat w$:\n",
        "\n",
        "1. градиентный спуск\n",
        "2. метод Ньютона-Рафсона\n",
        "3. метод Ньютона-Гаусса"
      ],
      "metadata": {
        "id": "lkCY7Hx8tEb5"
      }
    },
    {
      "cell_type": "code",
      "source": [
        "def f(w,x):\n",
        "    X = np.vstack([np.ones_like(x), x , np.sin(x), np.cos(x)]).T\n",
        "    return X@w\n",
        "\n",
        "def d_f_d_w(w, x):\n",
        "    return np.vstack([np.ones_like(x), x, np.sin(x), np.cos(x)]).T\n",
        "\n",
        "def d_L_d_w(w, x, y):\n",
        "    X = np.vstack([np.ones_like(x), x, np.sin(x), np.cos(x)]).T\n",
        "    return 2*X.T@X@w - 2*X.T@y\n",
        "\n",
        "def d_2_L_d_2_w(w, x, y):\n",
        "    X = np.vstack([np.ones_like(x), x, np.sin(x), np.cos(x)]).T \n",
        "    return 2*X.T@X"
      ],
      "metadata": {
        "id": "oVcfU7xutSfG"
      },
      "execution_count": null,
      "outputs": []
    },
    {
      "cell_type": "markdown",
      "source": [
        "#### градиентный спуск\n",
        "\n",
        "$w_{t+1} = w_t - α\\frac{\\partial L}{\\partial w}(w_t)$"
      ],
      "metadata": {
        "id": "Pe_LRM5Xwtm4"
      }
    },
    {
      "cell_type": "code",
      "source": [
        "%%time\n",
        "np.random.seed(0)\n",
        "w_hat = np.random.randn(4)\n",
        "\n",
        "list_of_w = []\n",
        "for t in range(1, 10000):\n",
        "    w_hat = w_hat - 0.0001*d_L_d_w(w_hat, x_train, y_train)\n",
        "    list_of_w.append(w_hat)\n",
        "\n",
        "list_of_w = np.array(list_of_w[:1000])"
      ],
      "metadata": {
        "colab": {
          "base_uri": "https://localhost:8080/"
        },
        "id": "y6qawMKuutA7",
        "outputId": "79329da1-e0ed-4b00-dac7-4c1a52fcf459"
      },
      "execution_count": null,
      "outputs": [
        {
          "output_type": "stream",
          "name": "stdout",
          "text": [
            "CPU times: user 354 ms, sys: 665 µs, total: 355 ms\n",
            "Wall time: 358 ms\n"
          ]
        }
      ]
    },
    {
      "cell_type": "code",
      "source": [
        "_ = plt.plot(list_of_w)\n",
        "plt.scatter([len(list_of_w)]*4, w, marker='*', color='black')\n",
        "plt.grid()"
      ],
      "metadata": {
        "colab": {
          "base_uri": "https://localhost:8080/",
          "height": 265
        },
        "id": "oF4rMqlLxRUq",
        "outputId": "64a94291-896e-46fe-e077-c30156924869"
      },
      "execution_count": null,
      "outputs": [
        {
          "output_type": "display_data",
          "data": {
            "text/plain": [
              "<Figure size 432x288 with 1 Axes>"
            ],
            "image/png": "[encoded data removed]"
          },
          "metadata": {
            "needs_background": "light"
          }
        }
      ]
    },
    {
      "cell_type": "markdown",
      "source": [
        "#### метод Ньютона-Рафсона\n",
        "\n",
        "$w_{t+1} = w_t - α\\left(\\frac{\\partial^2 L}{\\partial w\\partial w^{\\top}}(w_t)\\right)^{-1}\\frac{\\partial L}{\\partial w}(w_t)$"
      ],
      "metadata": {
        "id": "qmKhxXkQy9WO"
      }
    },
    {
      "cell_type": "code",
      "source": [
        "%%time\n",
        "np.random.seed(0)\n",
        "w_hat = np.random.randn(4)\n",
        "\n",
        "list_of_w = []\n",
        "for t in range(1, 10000):\n",
        "    w_hat = w_hat - np.linalg.inv(d_2_L_d_2_w(w_hat, x_train, y_train))@d_L_d_w(w_hat,x_train, y_train)\n",
        "    list_of_w.append(w_hat)\n",
        "\n",
        "list_of_w = np.array(list_of_w[:500])"
      ],
      "metadata": {
        "colab": {
          "base_uri": "https://localhost:8080/"
        },
        "id": "CkmoIpyyznQh",
        "outputId": "fbdd2eb7-e595-43ed-ed3f-996357a809d0"
      },
      "execution_count": null,
      "outputs": [
        {
          "output_type": "stream",
          "name": "stdout",
          "text": [
            "CPU times: user 1.32 s, sys: 1.26 s, total: 2.57 s\n",
            "Wall time: 1.47 s\n"
          ]
        }
      ]
    },
    {
      "cell_type": "code",
      "source": [
        "_ = plt.plot(list_of_w)\n",
        "plt.scatter([len(list_of_w)]*4, w, marker='*', color='black')\n",
        "plt.grid()"
      ],
      "metadata": {
        "colab": {
          "base_uri": "https://localhost:8080/",
          "height": 265
        },
        "id": "UO-hkqMw00i7",
        "outputId": "db8c3859-9a6f-4720-aa50-8d61e429f636"
      },
      "execution_count": null,
      "outputs": [
        {
          "output_type": "display_data",
          "data": {
            "text/plain": [
              "<Figure size 432x288 with 1 Axes>"
            ],
            "image/png": "[encoded data removed]"
          },
          "metadata": {
            "needs_background": "light"
          }
        }
      ]
    },
    {
      "cell_type": "markdown",
      "source": [
        "#### метод Ньютона-Гаусса\n",
        "\n",
        "$w_{t+1} = w_t - α(F_t^{\\top}F_t)^{-1}F_t^{\\top}(f_t - y)$\n",
        "\n",
        "$F_t = ||\\frac{\\partial f}{\\partial w^j}(x_i, w_t)||_{i,j}$\n",
        "\n",
        "$f_t = ||f(x_i, w_t)||_{i}$"
      ],
      "metadata": {
        "id": "66Wkq3Mqz9I8"
      }
    },
    {
      "cell_type": "code",
      "source": [
        "%%time\n",
        "np.random.seed(0)\n",
        "w_hat = np.random.randn(4)\n",
        "\n",
        "list_of_w = []\n",
        "for t in range(1, 10000):\n",
        "    F_t = d_f_d_w(w_hat, x_train)\n",
        "    w_hat = w_hat - np.linalg.inv(F_t.T@F_t)@F_t.T@(f(w_hat, x_train) - y_train)\n",
        "    list_of_w.append(w_hat)\n",
        "\n",
        "list_of_w = np.array(list_of_w[:500])"
      ],
      "metadata": {
        "colab": {
          "base_uri": "https://localhost:8080/"
        },
        "id": "g4igumXP06Qe",
        "outputId": "dd08b429-afd7-40b1-d146-b97a7340f106"
      },
      "execution_count": null,
      "outputs": [
        {
          "output_type": "stream",
          "name": "stdout",
          "text": [
            "CPU times: user 1.19 s, sys: 1.08 s, total: 2.26 s\n",
            "Wall time: 1.21 s\n"
          ]
        }
      ]
    },
    {
      "cell_type": "code",
      "source": [
        "_ = plt.plot(list_of_w)\n",
        "plt.scatter([len(list_of_w)]*4, w, marker='*', color='black')\n",
        "plt.grid()\n",
        "# сходится также мгновенно"
      ],
      "metadata": {
        "colab": {
          "base_uri": "https://localhost:8080/",
          "height": 265
        },
        "id": "K7JNdivG1e56",
        "outputId": "bcc6a80b-dfa7-4973-e0df-254efabb846c"
      },
      "execution_count": null,
      "outputs": [
        {
          "output_type": "display_data",
          "data": {
            "text/plain": [
              "<Figure size 432x288 with 1 Axes>"
            ],
            "image/png": "[encoded data removed]"
          },
          "metadata": {
            "needs_background": "light"
          }
        }
      ]
    },
    {
      "cell_type": "markdown",
      "source": [
        "## задача 2\n",
        "\n",
        "выборка:\n",
        "\n",
        "$𝔇 = \\{x_i, y_i\\}_{i=1}^l, x_i\\in ℝ, y_i\\in ℝ$\n",
        "\n",
        "известно, что:\n",
        "\n",
        "$y_i = f(x_i) \\forall i \\in 1...l$\n",
        "\n",
        "$𝔉 = \\{f:f(x,w) = exp(w_0x) + w_1sin(w_2x), w\\in ℝ^3\\}$\n",
        "\n",
        "\n",
        "как апроскимировать выборку $𝔇$?\n",
        "\n",
        "!минимизация функционала\n",
        "\n",
        "$L = \\sum_{i=1}^{l}(f(x_i, w) - y_i)^2 \\to min_w$"
      ],
      "metadata": {
        "id": "E-xorNzQ1e5y"
      }
    },
    {
      "cell_type": "code",
      "source": [
        "np.random.seed(0)\n",
        "l  =200\n",
        "beta = 0.2\n",
        "\n",
        "x = np.linspace(-2, 2, l)\n",
        "w = np.array([1, 2, 3])\n",
        "y = np.exp(w[0]*x) + w[1]*np.sin(x*w[2]) + beta +np.random.randn(l)\n",
        "\n",
        "x_train, x_test, y_train,y_test = train_test_split(x, y, test_size=50)"
      ],
      "metadata": {
        "id": "0VIq-79g1uDK"
      },
      "execution_count": null,
      "outputs": []
    },
    {
      "cell_type": "code",
      "source": [
        "plt.plot(x_train, y_train, '.')\n",
        "\n",
        "plt.grid()\n",
        "plt.show()"
      ],
      "metadata": {
        "colab": {
          "base_uri": "https://localhost:8080/",
          "height": 265
        },
        "id": "Ia6-MxNw3vbn",
        "outputId": "509b349c-56d9-45e7-b709-2ea9fc0659a9"
      },
      "execution_count": null,
      "outputs": [
        {
          "output_type": "display_data",
          "data": {
            "text/plain": [
              "<Figure size 432x288 with 1 Axes>"
            ],
            "image/png": "[encoded data removed]"
          },
          "metadata": {
            "needs_background": "light"
          }
        }
      ]
    },
    {
      "cell_type": "markdown",
      "source": [
        "#### градиентный спуск\n",
        "\n",
        "$w_{t+1} = w_t - α\\frac{\\partial L}{\\partial w}(w_t)$"
      ],
      "metadata": {
        "id": "OJ5y-jaU2I6s"
      }
    },
    {
      "cell_type": "code",
      "source": [
        "def f (x,w):\n",
        "    return torch.exp(w[0]*x) + w[1]*torch.sin(x*w[2])"
      ],
      "metadata": {
        "id": "WUmszVEO34Lw"
      },
      "execution_count": null,
      "outputs": []
    },
    {
      "cell_type": "code",
      "source": [
        "torch.manual_seed(0)\n",
        "w_hat = torch.randn(3)\n",
        "w_hat.requires_grad = True\n",
        "\n",
        "X_tr = torch.FloatTensor(x_train)\n",
        "y_tr = torch.FloatTensor(y_train)\n",
        "\n",
        "loss_function = torch.nn.MSELoss()\n",
        "optim =torch.optim.SGD([w_hat], lr=0.01 )\n",
        "\n",
        "for i in tqdm(range(1, 1000), leave=False):\n",
        "    optim.zero_grad()\n",
        "    loss = loss_function(f(X_tr, w_hat), y_tr)\n",
        "    loss.backward()\n",
        "\n",
        "    optim.step()"
      ],
      "metadata": {
        "colab": {
          "base_uri": "https://localhost:8080/",
          "height": 17,
          "referenced_widgets": [
            "a030d8a117a04ba585a86d93c56ce68d",
            "9350be33fd204d1cbc8430b7ce3ad915",
            "a69c37c9e3ac46c59f696a2ef2b4ffd8",
            "2f22462d0e4f4aeb8b278afe836d19d5",
            "82d71fc2fbd84a03ae056233667b177b",
            "d0bf8d1c765a47c78563a64504f61fe9",
            "54ab83cc8c194dcf98a94aa2e4ad1045",
            "57d5509736b14d31ad8892b5c06ee1c6"
          ]
        },
        "id": "f8QEl7DH4HWH",
        "outputId": "71c5cda2-315d-4587-d68d-ba808990ade6"
      },
      "execution_count": null,
      "outputs": [
        {
          "output_type": "display_data",
          "data": {
            "text/plain": [
              "HBox(children=(FloatProgress(value=0.0, max=999.0), HTML(value='')))"
            ],
            "application/vnd.jupyter.widget-view+json": {
              "version_major": 2,
              "version_minor": 0,
              "model_id": "a030d8a117a04ba585a86d93c56ce68d"
            }
          },
          "metadata": {}
        }
      ]
    },
    {
      "cell_type": "code",
      "source": [
        "plt.plot(x_train, y_train,'.', label='train')\n",
        "x = np.linspace(-2,2, 2000)\n",
        "plt.plot(x, f(torch.Tensor(x), w_hat).detach().cpu().numpy(), label='prediction')\n",
        "\n",
        "x = np.linspace(-2,2,2000)\n",
        "plt.plot(x, f(torch.Tensor(x), torch.tensor(w)).detach().cpu().numpy(), label='real')\n",
        "\n",
        "plt.legend(loc='best')\n",
        "plt.grid()\n",
        "plt.show()"
      ],
      "metadata": {
        "colab": {
          "base_uri": "https://localhost:8080/",
          "height": 265
        },
        "id": "-MhzhIZg6HNM",
        "outputId": "445a496f-4e30-423d-abc3-e9203377e401"
      },
      "execution_count": null,
      "outputs": [
        {
          "output_type": "display_data",
          "data": {
            "text/plain": [
              "<Figure size 432x288 with 1 Axes>"
            ],
            "image/png": "[encoded data removed]"
          },
          "metadata": {
            "needs_background": "light"
          }
        }
      ]
    },
    {
      "cell_type": "markdown",
      "source": [
        "ОБОБЩЕННАЯ ЛИНЕЙНАЯМОДЕЛЬ\n",
        "1. нормальное распределение - линейная регрессия\n",
        "2. Бернулевское распределение - логистическая регрессия\n",
        "3. Биномиальное распределение - многоклассовая регрессия\n"
      ],
      "metadata": {
        "id": "xoomUVcS7q5J"
      }
    },
    {
      "cell_type": "markdown",
      "source": [
        "# Обобщенная линейная модель\n",
        "\n",
        "пусть правдободобие имеет следующий вид:\n",
        "\n",
        "$𝑝(y|θ,𝜙)=exp\\left(\\frac{yθ - b()θ}{a(𝜙)} + c(y,𝜙)\\right)$\n",
        "\n",
        "примеры распределений, плотность которых имеет данный вид:\n",
        "1. нормальное распределение - линейная регрессия\n",
        "2. биноминальное распределение - логистическая регрессия"
      ],
      "metadata": {
        "id": "-v7FcqW62ghT"
      }
    },
    {
      "cell_type": "markdown",
      "source": [
        "## определение оптимального размера выборки для обобщенно линейных моделей\n",
        "\n",
        "Рассмотрим пример для определения оптимального размера выборки для задачи линейной регресии:\n",
        "во-первых нужно определить понятие оптимальности\n",
        "во-вторых предложить метод\n",
        "\n",
        "пример: тест отношения правдоподобия\n",
        "\n",
        "Рассмотрим гипотезу\n",
        "$H_0:m_u=m_u^0, H_1: m_u \\ne m_u^0$\n",
        "\n",
        "определим следующую статистику:\n",
        "\n",
        "$LR = 2\\left(l(\\hat w)-l(\\hat w^0)\\right), l(w) = logL(w)=\\sum_{i=1}^{l}log 𝑝(y_i|x_i,w)$\n",
        "===\n",
        "\n",
        "будем говорить, что объем выборки $l$ достаточный,если мы можем проверить нулевую гипотезу на уровне значимости $α$ и ошибки второго рода $β$\n",
        "\n",
        "обозначим:\n",
        "1. ответ из принципа максимального правдоподобия $\\hat w = [\\hat w_u, \\hat w_v]$\n",
        "2. ответ из принципа максимального правдоподобия $\\hat w_0 = [\\hat m_u, \\hat w_u^0]$, при условии фиксируемой части вектора $m_u^0$\n",
        "\n",
        "---\n",
        "В случае истинности гипотезы $H_0$ статистика $LR$ ассимпотитечски имеет распределение 𝜒^2(k). В случае истинности гипотезы $H_1$ статистика $LR$ имеет распределение $𝜒^2(k,𝛾)$, где 𝛾 это параметр нецентральности, который выражается в следующем виде:\n",
        "$𝛾 = lΔ^*, Δ=Ε[(2α^{-1}(𝛷)\\{(𝛩-𝛩^*)∇b(𝛩) - b(𝛩) + b(𝛩^*)\\}]$\n",
        "===\n",
        "\n",
        "$𝛩,𝛩^*$ вычисляются при помощи векторов $w = [w_u, w_v], w^* = [w_u^0, w_v^*]$\n",
        "$w_v^*$ решением уравнения:\n",
        "$\\lim_{m\\to ∞}l^{-1}Ε\\left(\\frac{\\partial l([m_u^0, w_v])}{\\partial w_v}\\right) =0$\n",
        "---\n",
        "на основе параметров $α,β$ оптимальный размер выборки $l^*$ получается с решением уравнения:\n",
        "$l^* = \\frac{ℽ^*}{Δ^*}, ℽ^*:𝜒^2_{k,1-\\alpha} = 𝜒^2_{k,β}(ℽ)$\n",
        "===\n",
        "\n",
        "\n",
        "$𝜒^2_{k,1-\\alpha},𝜒^2_{k,β}(ℽ^*)$ квантили распределения $𝜒^2_kи 𝜒^2_k(ℽ^*)$"
      ],
      "metadata": {
        "id": "XVF2u4XcNCaQ"
      }
    },
    {
      "cell_type": "code",
      "source": [
        "data = dict()\n",
        "\n",
        "for n in tqdm(range(2, 103, 10), leave=False):\n",
        "    data[n] = dict()\n",
        "    for l in range(300, 3000, 100):\n",
        "\n",
        "        np.random.seed(0)\n",
        "        X_rg = np.random.randn(l , n)\n",
        "        w = np.random.randn(n)\n",
        "        y_rg = X_rg@w + np.random.randn(l)*n / 20\n",
        "\n",
        "        model = LikelihoodRatioEstimator(RegressionModel, **{'epsilon' : 0.1,\n",
        "                                                             'alpha' : 0.05,\n",
        "                                                             'beta' : 0.05})\n",
        "        \n",
        "        ret = model(X_rg, y_rg)\n",
        "\n",
        "        data[n][l] = ret['m*']"
      ],
      "metadata": {
        "colab": {
          "base_uri": "https://localhost:8080/",
          "height": 17,
          "referenced_widgets": [
            "663c2459f8f5410d93d2fd45dd548e9c",
            "e7d184a8c59b4b45a9697dcb017a8cd4",
            "fe03bf4b371a4fa2ad3d15567a8cd998",
            "5b0acaca8a0441aaaaab905fe084ad9f",
            "01e2e6d7db8d4a7491c8fe433cc85840",
            "a7abec012f66494683831741bda8245a",
            "9df77b190c914743bc261e72e49053e8",
            "db2cc385d2424f25b680e10dede2d501",
            "4a97519fe2a045c48713898fa27b67a8",
            "f4b8dcbe8a6646c39e6545b51d574a2c",
            "360783d47fe64365a5c7368c830fd508"
          ]
        },
        "id": "BL6h1ZBg8Ttt",
        "outputId": "e66dd35a-0e90-4bd3-f2d6-613b4334d239"
      },
      "execution_count": null,
      "outputs": [
        {
          "output_type": "display_data",
          "data": {
            "text/plain": [
              "  0%|          | 0/11 [00:00<?, ?it/s]"
            ],
            "application/vnd.jupyter.widget-view+json": {
              "version_major": 2,
              "version_minor": 0,
              "model_id": "663c2459f8f5410d93d2fd45dd548e9c"
            }
          },
          "metadata": {}
        }
      ]
    },
    {
      "cell_type": "code",
      "source": [
        "ns, ls = np.meshgrid(list(data.keys()), list(data[2].keys()))\n",
        "scores = np.zeros_like(ns)\n",
        "for i in range(len(ns)):\n",
        "    for j in range(len(ns[i])):\n",
        "        scores[i][j] = data[ns[i][j]][ls[i][j]]\n",
        "\n",
        "ax = plt.figure(figsize=(16,6)).gca(projection='3d')\n",
        "ax.plot_surface(ns, ls, scores, cmap='gist_gray', alpha=0.99)\n",
        "ax.set_xlabel(r'$n$', labelpad=14), ax.set_ylabel(r'$l$', labelpad=14)\n",
        "ax.set_zlabel(r'$l*$'), ax.view_init(30,-120)\n",
        "\n",
        "plt.show()"
      ],
      "metadata": {
        "colab": {
          "base_uri": "https://localhost:8080/",
          "height": 357
        },
        "id": "gKOHgRfF7uFG",
        "outputId": "ab0527d2-0316-4d7f-ca23-fb3d1c3ed63f"
      },
      "execution_count": null,
      "outputs": [
        {
          "output_type": "display_data",
          "data": {
            "text/plain": [
              "<Figure size 1152x432 with 1 Axes>"
            ],
            "image/png": "[encoded data removed]"
          },
          "metadata": {
            "needs_background": "light"
          }
        }
      ]
    },
    {
      "cell_type": "markdown",
      "source": [
        "# Нестандартные фунукции потерь\n",
        "\n",
        "* построение эмбедингов\n",
        "рассмотрим задачу построения некоторого представления об объектах для их дальнейшего сравнения.\n",
        "Эмбединг - векторное представление объекта.\n",
        "Рассмотрим задачу построения эмбедингов предложений:\n",
        "\n",
        "$𝔇 = \\{s_i, p_i, n_i\\}_{i=1}^l$\n",
        "\n",
        "$s_i$ - некоторое предложение\n",
        "\n",
        "$p_i$ - множество индексов предложений, по смыслу близких к данному\n",
        "\n",
        "$n_i$ - множество индексов предложений по смыслу далеких от данного\n",
        "\n",
        "\n",
        "требуется построить отображение $f: S\\to ℝ_n$ так чтобы выполнялись следующие условия:\n",
        "\n",
        "$\\sum_{i=1}^{l}\\sum_{j\\in p_i}||f(s_i)-f(s_j)||\\to min$\n",
        "\n",
        "\n",
        "$\\sum_{i=1}^{l}\\sum_{j\\in n_i}||f(s_i)-f(s_j)||\\to max$\n",
        "\n",
        "\n",
        "* TripletLoss\n",
        "\n",
        "\n",
        "$L(f) = \\sum_{i=1}^{l}max\\{0,\\sum_{j\\in p_i}||f(s_i)-f(s_j)|| - \\sum_{j\\in n_i}||f(s_i)-f(s_j)||+margin\\} \\to min_f$\n",
        "===\n",
        "\n",
        "$f$ - параметрическая функция, настройка параметров происходит при помощи градиентных методов\n",
        "\n",
        "на каждом шаге генерится:\n",
        "$l'$ - батч, состоящий из множества троек $(s_i, positive_i, negative_i)$\n",
        "\n",
        "$s_i$ - одно предложение из выборки\n",
        "\n",
        "$positive_i$ - одно предложение похожее на $s_i$\n",
        "\n",
        "$negative_i$ - одно предложение не похожее на $s_i$\n",
        "\n",
        "решаем следующую задачу оптимизации:\n",
        "\n",
        "$L'(f) = \\sum_{i=1}^{l}max\\{0,\\sum_{j\\in p_i}||f(s_i)-f(positive_i)|| - \\sum_{j\\in n_i}||f(s_i)-f(negative_i)||+margin\\} \\to min_f$\n",
        "===\n"
      ],
      "metadata": {
        "id": "7eUaaWfDUcbS"
      }
    },
    {
      "cell_type": "code",
      "source": [
        "model = SentenceTransformer('LaBSE')\n",
        "\n",
        "sentences = ['hello world',\n",
        "             'привет мир',\n",
        "             'прощайте все',\n",
        "             'сегодня лучший день в моей жизни',\n",
        "             'сегодня худший день в моей жизни']\n",
        "\n",
        "vects = model.encode(sentences)\n",
        "d = cdist(vects, vects)"
      ],
      "metadata": {
        "id": "5W4pd-ZxcHVq"
      },
      "execution_count": 5,
      "outputs": []
    },
    {
      "cell_type": "code",
      "source": [
        "ax = plt.figure(figsize=(4,4)).gca()\n",
        "sns.heatmap(d, xticklabels=sentences, yticklabels=sentences, ax=ax, annot=True)\n",
        "\n",
        "plt.show()"
      ],
      "metadata": {
        "colab": {
          "base_uri": "https://localhost:8080/",
          "height": 445
        },
        "id": "z-95hEH5dg2A",
        "outputId": "a9301b78-0db9-4c1e-a796-d2d7de7a9e8f"
      },
      "execution_count": 6,
      "outputs": [
        {
          "output_type": "display_data",
          "data": {
            "text/plain": [
              "<Figure size 288x288 with 2 Axes>"
            ],
            "image/png": "[encoded data removed]"
          },
          "metadata": {
            "needs_background": "light"
          }
        }
      ]
    },
    {
      "cell_type": "markdown",
      "source": [
        "# ⚡ SGD"
      ],
      "metadata": {
        "id": "9SByW_LAecJc"
      }
    },
    {
      "cell_type": "code",
      "source": [
        "from torch.utils.data import TensorDataset, Dataset\n",
        "from torch import nn\n",
        "from torch import optim\n",
        "import math"
      ],
      "metadata": {
        "id": "DrNXwSXeekMy"
      },
      "execution_count": 8,
      "outputs": []
    },
    {
      "cell_type": "code",
      "source": [
        "def gradient(outputs, inputs, grad_outputs=None, retain_graph=None, create_graph=False):\n",
        "    '''\n",
        "    compute the gradient of 'outputs' with respect to 'inputs'\n",
        "    gradient(x.sum(), x)\n",
        "    gradient((x * y).sum(), [x, y])    \n",
        "    '''\n",
        "\n",
        "    if torch.is_tensor(inputs):\n",
        "        inputs = [inputs]\n",
        "    else:\n",
        "        inputs = list(inputs)\n",
        "\n",
        "    grads = torch.autograd.grad(outputs, inputs, grad_outputs,\n",
        "                                allow_unused=True,\n",
        "                                retain_graph=retain_graph,\n",
        "                                create_graph=create_graph)\n",
        "    grads = [x if x is not None else torch.zeros_like(y) for x, y in zip(grads, inputs)]\n",
        "    return torch.cat([x.contiguous().view(-1) for x in grads])\n",
        "\n",
        "def jacobian(outputs, inputs, create_graph=False):    \n",
        "    '''\n",
        "    compute the jacobian of 'outputs' with respect to 'inputs'\n",
        "    jacobian(x,x)\n",
        "    jacobian(x * y, [x, y])\n",
        "    jacobian([x * y, x.sqrt()], [x, y])    \n",
        "    '''\n",
        "    if torch.is_tensor(outputs):\n",
        "        outputs = [outputs]\n",
        "    else:\n",
        "        outputs = list(outputs)\n",
        "        \n",
        "    if torch.is_tensor(inputs):\n",
        "        inputs = [inputs]\n",
        "    else:\n",
        "        inputs = list(inputs)\n",
        "    \n",
        "    jac = []\n",
        "    for output in outputs:\n",
        "        output_flat = output.view(-1)\n",
        "        output_grad = torch.zeros_like(output_flat)\n",
        "        for i in range(len(output_flat)):\n",
        "            output_grad[i] = 1\n",
        "            jac += [gradient(output_flat, inputs,  output_grad, True, create_graph)]\n",
        "            output_grad[i] = 0\n",
        "    return torch.stack(jac)\n",
        "\n",
        "def hessian(output, inputs, out=None, allow_unused=False, create_graph=False):\n",
        "    '''\n",
        "    compute the hessian of 'output' with respect to 'inputs'\n",
        "    hessian((x * y).sum(), [x, y])    \n",
        "    '''\n",
        "    assert output.ndimension() == 0\n",
        "\n",
        "    if torch.is_tensor(inputs):\n",
        "        inputs = [inputs]\n",
        "    else:\n",
        "        inputs = list(inputs)\n",
        "\n",
        "    n = sum(p.numel() for p in inputs)\n",
        "    if out is None:\n",
        "        out = output.new_zeros(n, n)\n",
        "    \n",
        "    ai = 0\n",
        "    for i, inp in enumerate(inputs):\n",
        "        [grad] = torch.autograd.grad(output, inp, create_graph=True, allow_unused=allow_unused)\n",
        "        grad = torch.zeros_like(inp) if grad is None else grad\n",
        "        grad = grad.contiguous().view(-1)\n",
        "\n",
        "        for j in range(inp.numel()):\n",
        "            if grad[j].requires_grad:\n",
        "                row = gradient(grad[j], inputs[i:], retain_graph=True, create_graph=create_graph)[j:]\n",
        "            else:\n",
        "                row = grad[j].new_zeros(sum(x.numel() for x in inputs[i:]) - j)\n",
        "\n",
        "            out[ai, ai:].add_(row.type_as(out))  # ai's row\n",
        "            if ai + 1 < n:\n",
        "                out[ai + 1:, ai].add_(row[1:].type_as(out))  # ai's column\n",
        "            del row\n",
        "            ai += 1\n",
        "        del grad\n",
        "    return out\n",
        "\n",
        "    "
      ],
      "metadata": {
        "id": "dU67yV0bfg80"
      },
      "execution_count": 15,
      "outputs": []
    },
    {
      "cell_type": "code",
      "source": [
        "x = np.linspace(7, 20)\n",
        "y = np.linspace(-1.0, 1.2)\n",
        "\n",
        "def f(x, y):\n",
        "    return 0.5*np.sin(x)/((x-6)**2)**0.1+y**2\n",
        "\n",
        "def f_tensor(x):\n",
        "    return 0.5*torch.sin(x[0])/((x[0]-6)**2)**0.1+x[1]**2"
      ],
      "metadata": {
        "id": "fhYileCZoagU"
      },
      "execution_count": 10,
      "outputs": []
    },
    {
      "cell_type": "code",
      "source": [
        "torch.manual_seed(9)\n",
        "w = torch.Tensor([12.5, 1.15])\n",
        "w.requires_grad = True\n",
        "optim = torch.optim.SGD([w], lr=0.01)\n",
        "\n",
        "list_of_w = []\n",
        "list_of_w.append(w.detach().cpu().numpy().copy())\n",
        "\n",
        "\n",
        "for i in tqdm(range(1, 2501), leave=False):\n",
        "    optim.zero_grad()\n",
        "    \n",
        "    loss = f_tensor(w)\n",
        "    loss.backward()\n",
        "    w.grad += 1.5*torch.randn(2)\n",
        "    \n",
        "    optim.step()\n",
        "    \n",
        "    if i < 100 and i % 10 == 0:\n",
        "        list_of_w.append(w.detach().cpu().numpy().copy())\n",
        "    elif i % 100 == 0:\n",
        "        list_of_w.append(w.detach().cpu().numpy().copy())\n",
        "    \n",
        "list_of_w_sgd = np.array(list_of_w)"
      ],
      "metadata": {
        "colab": {
          "base_uri": "https://localhost:8080/",
          "height": 17,
          "referenced_widgets": [
            "a1668c8e5b294de696e025819566e98a",
            "6b1889b2bc734639975ce3751b3b0d9f",
            "3df046ac41ef425bb43143a94bb87240",
            "2082a2b46e11411da0554081162acd84",
            "79f629e02b1249d2a578b713519de805",
            "a2b2a8f701614a7da479107fd7472864",
            "643c32e047df4340b9a08f58b7d4001e",
            "5e3299bff2a846519f3a6146310ee0d7"
          ]
        },
        "id": "nusDN2r7ogAE",
        "outputId": "e65c1104-56fc-4903-f7c1-d72fede9b923"
      },
      "execution_count": 11,
      "outputs": [
        {
          "output_type": "display_data",
          "data": {
            "text/plain": [
              "HBox(children=(FloatProgress(value=0.0, max=2500.0), HTML(value='')))"
            ],
            "application/vnd.jupyter.widget-view+json": {
              "version_major": 2,
              "version_minor": 0,
              "model_id": "a1668c8e5b294de696e025819566e98a"
            }
          },
          "metadata": {}
        }
      ]
    },
    {
      "cell_type": "code",
      "source": [
        "torch.manual_seed(9)\n",
        "w = torch.Tensor([12.5, 1.15])\n",
        "w.requires_grad = True\n",
        "optim = torch.optim.SGD([w], lr=0.01)\n",
        "\n",
        "list_of_w = []\n",
        "list_of_w.append(w.detach().cpu().numpy().copy())\n",
        "\n",
        "\n",
        "for i in tqdm(range(1, 2501), leave=False):\n",
        "    optim.zero_grad()\n",
        "    \n",
        "    hess = hessian(f_tensor(w), [w])\n",
        "    optim.zero_grad()\n",
        "    grad = gradient(f_tensor(w), [w])\n",
        "    optim.zero_grad()\n",
        "    \n",
        "    w.grad = torch.inverse(hess)@grad\n",
        "    \n",
        "    optim.step()\n",
        "    \n",
        "    if i < 100 and i % 10 == 0:\n",
        "        list_of_w.append(w.detach().cpu().numpy().copy())\n",
        "    elif i % 100 == 0:\n",
        "        list_of_w.append(w.detach().cpu().numpy().copy())\n",
        "    \n",
        "list_of_w_neuton = np.array(list_of_w)"
      ],
      "metadata": {
        "colab": {
          "base_uri": "https://localhost:8080/",
          "height": 17,
          "referenced_widgets": [
            "d91518bb373d42e09cd3ea0e6b9d918c",
            "b40abc1013054851bd9f86a40ab433c9",
            "d87675d0b0ee42609564aeffa4ffd180",
            "a1c144f9c1984c99bfbb989a6a4dfbce",
            "3eed8a0725e342fb88d87bdd433713f4",
            "d64c9e6862d243fb9933c255a188a731",
            "40836daef1bc4ca8bc63c47bd28fab39",
            "b81a01aad9454d9cb47e9b7c4abe3293"
          ]
        },
        "id": "KkcUAsLjoiUD",
        "outputId": "3dad7016-adba-43e1-d645-914a2ddaea70"
      },
      "execution_count": 16,
      "outputs": [
        {
          "output_type": "display_data",
          "data": {
            "text/plain": [
              "HBox(children=(FloatProgress(value=0.0, max=2500.0), HTML(value='')))"
            ],
            "application/vnd.jupyter.widget-view+json": {
              "version_major": 2,
              "version_minor": 0,
              "model_id": "d91518bb373d42e09cd3ea0e6b9d918c"
            }
          },
          "metadata": {}
        }
      ]
    },
    {
      "cell_type": "code",
      "source": [
        "X, Y = np.meshgrid(x, y)\n",
        "scores = f(X, Y)\n",
        "\n",
        "ax = plt.figure(figsize=(14.0, 8.0)).gca(projection='3d')\n",
        "\n",
        "ax.plot_surface(X, Y, scores, cmap='RdPu', alpha=0.4)\n",
        "ax.plot(list_of_w_sgd[:,0], list_of_w_sgd[:,1], \n",
        "        f(list_of_w_sgd[:,0], list_of_w_sgd[:,1]), '-ob')\n",
        "ax.plot(list_of_w_neuton[:,0], list_of_w_neuton[:,1], \n",
        "        f(list_of_w_neuton[:,0], list_of_w_neuton[:,1]), '-og')\n",
        "\n",
        "ax.view_init(60, -140)\n",
        "\n",
        "plt.axis('off')\n",
        "plt.show()"
      ],
      "metadata": {
        "colab": {
          "base_uri": "https://localhost:8080/",
          "height": 423
        },
        "id": "QmOnECXGpEFG",
        "outputId": "e742ba82-a2e2-440e-c2fb-a9c51f104790"
      },
      "execution_count": 22,
      "outputs": [
        {
          "output_type": "display_data",
          "data": {
            "text/plain": [
              "<Figure size 1008x576 with 1 Axes>"
            ],
            "image/png": "[encoded data removed]"
          },
          "metadata": {
            "needs_background": "light"
          }
        }
      ]
    }
  ]
}