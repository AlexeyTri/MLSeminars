{
  "nbformat": 4,
  "nbformat_minor": 0,
  "metadata": {
    "colab": {
      "provenance": [],
      "authorship_tag": "ABX9TyMNlL16RsWT/9pt+kDJenrI",
      "include_colab_link": true
    },
    "kernelspec": {
      "name": "python3",
      "display_name": "Python 3"
    },
    "language_info": {
      "name": "python"
    },
    "accelerator": "GPU",
    "gpuClass": "standard"
  },
  "cells": [
    {
      "cell_type": "markdown",
      "metadata": {
        "id": "view-in-github",
        "colab_type": "text"
      },
      "source": [
        "<a href=\"https://colab.research.google.com/github/AlexeyTri/MyMachineLearningSeminars/blob/main/seminar21/%D0%9E%D0%B1%D1%83%D1%87%D0%B5%D0%BD%D0%B8%D0%B5_%D0%A0%D0%B0%D0%BD%D0%B6%D0%B8%D1%80%D0%BE%D0%B2%D0%B0%D0%BD%D0%B8%D1%8E.ipynb\" target=\"_parent\"><img src=\"https://colab.research.google.com/assets/colab-badge.svg\" alt=\"Open In Colab\"/></a>"
      ]
    },
    {
      "cell_type": "markdown",
      "source": [
        "# Обучение РАНЖИРОВАНИЮ"
      ],
      "metadata": {
        "id": "JxZfWARc8kZ4"
      }
    },
    {
      "cell_type": "markdown",
      "source": [
        "Библиотеки"
      ],
      "metadata": {
        "id": "ijf8LhLx8oiK"
      }
    },
    {
      "cell_type": "code",
      "source": [
        "!pip install --quiet -U pyserini jsonlines scikit-surprise fastrank"
      ],
      "metadata": {
        "id": "e4Kkp6ZR8qqT"
      },
      "execution_count": 5,
      "outputs": []
    },
    {
      "cell_type": "code",
      "source": [
        "from google.colab import drive\n",
        "drive.mount('/content/drive')"
      ],
      "metadata": {
        "colab": {
          "base_uri": "https://localhost:8080/"
        },
        "id": "nDGLFwsvM51K",
        "outputId": "82533dcc-784c-4a11-eead-803d5bf02675"
      },
      "execution_count": 2,
      "outputs": [
        {
          "output_type": "stream",
          "name": "stdout",
          "text": [
            "Mounted at /content/drive\n"
          ]
        }
      ]
    },
    {
      "cell_type": "code",
      "source": [
        "DATA_PATH = './data'\n",
        "!mkdir data\n",
        "!cp /content/drive/MyDrive/DATASET/MachineLearning/topicmodeling/lenta-ru-filtered.csv data\n",
        "!cp /content/drive/MyDrive/DATASETS/MachineLearning/learningrank/MSLR-WEB10K.zip data/\n",
        "!unzip data/MLSR-WEB10K.zip -d data/mlsr"
      ],
      "metadata": {
        "id": "8aI71aCT-iQW"
      },
      "execution_count": null,
      "outputs": []
    },
    {
      "cell_type": "code",
      "source": [
        "import matplotlib.pyplot as plt\n",
        "from mpl_toolkits import mplot3d\n",
        "from matplotlib import gridspec\n",
        "\n",
        "from tqdm.notebook import tqdm\n",
        "import numpy as np\n",
        "import  pandas as pd\n",
        "import seaborn as sns\n",
        "import torch\n",
        "import scipy\n",
        "import json\n",
        "import re\n",
        "import os\n",
        "import jsonlines\n",
        "import lightgbm as lgb\n",
        "\n",
        "from surprise import Dataset, Reader, SVD\n",
        "from fastrank import CDataset, TrainRequest\n",
        "from sklearn.datasets import load_svmlight_file\n",
        "\n",
        "from pyserini.search import SimpleSearcher"
      ],
      "metadata": {
        "id": "tvkNXYoD9PHY"
      },
      "execution_count": 8,
      "outputs": []
    },
    {
      "cell_type": "markdown",
      "source": [
        "# Learning to Rank"
      ],
      "metadata": {
        "id": "0YP61OTQXD41"
      }
    },
    {
      "cell_type": "markdown",
      "source": [
        "Загружаем датасет"
      ],
      "metadata": {
        "id": "0nLAVY8dXMAy"
      }
    },
    {
      "cell_type": "code",
      "source": [
        "DATA_PATH = 'data/mslr/Fold1'\n",
        "(X_train, y_train, qid_train) = load_svmlight_file(\n",
        "    os.path.join(DATA_PATH, 'train.txt'),\n",
        "    dtype=np.float32,\n",
        "    zero_based=False,\n",
        "    query_id=True)\n",
        "(X_val, y_val, qid_val) = load_svmlight_file(\n",
        "    os.path.join(DATA_PATH, 'vali.txt'),\n",
        "    dtype=np.float32,\n",
        "    zero_based=False,\n",
        "    query_id=True)\n",
        "(X_test, y_test, qid_test) = load_svmlight_file(\n",
        "    os.path.join(DATA_PATH, 'test.txt'),\n",
        "    dtype=np.float32,\n",
        "    zero_based=False,\n",
        "    query_id=True)\n",
        "\n",
        "train_size = 50000 \n",
        "X_train = X_train.toarray()[:train_size]\n",
        "y_train = y_train[:train_size]\n",
        "qid_train = qid_train[:train_size]\n",
        "\n",
        "val_size = 10000\n",
        "X_val = X_val.toarray()[:val_size]\n",
        "y_val = y_val[:val_size]\n",
        "qid_val = qid_val[:val_size]\n",
        "\n",
        "\n",
        "test_size = 10000\n",
        "X_test = X_test.toarray()[:test_size]\n",
        "y_test = y_test[:test_size]\n",
        "qid_test = qid_test[:test_size]"
      ],
      "metadata": {
        "id": "OcWDkCxFXT-1"
      },
      "execution_count": null,
      "outputs": []
    },
    {
      "cell_type": "code",
      "source": [
        "ids = np.random.RandomState(42).randint(0, len(X_train), size=5)\n",
        "(X_train[ids][:, :6], y_train[ids], qid_train[ids])"
      ],
      "metadata": {
        "id": "0vPq2HYtZwwm"
      },
      "execution_count": null,
      "outputs": []
    },
    {
      "cell_type": "markdown",
      "source": [
        "Определяем модель"
      ],
      "metadata": {
        "id": "TLMa7TNJddoJ"
      }
    },
    {
      "cell_type": "code",
      "source": [
        "train_request = TrainRequest.random_forest()\n",
        "params = train_request.params\n",
        "params.num_trees = 100\n",
        "params.feature_sampling_rate = 0.5\n",
        "params.insrance_sampling_rate = 0.5\n",
        "\n",
        "params.quiet = True\n",
        "params.seed = 42"
      ],
      "metadata": {
        "id": "v4VgcV_AaOtu"
      },
      "execution_count": null,
      "outputs": []
    },
    {
      "cell_type": "markdown",
      "source": [
        "Специальный формат данных"
      ],
      "metadata": {
        "id": "0wGhTzkxeca1"
      }
    },
    {
      "cell_type": "code",
      "source": [
        "dataset_train = CDataset.from_numpy(X_train, y_train, qid_train)\n",
        "dataset_test = CDataset.from_numpy(X_test, y_test, qid_test)\n",
        "\n",
        "features = dataset_train.feature_names()\n",
        "train_queries = sorted(dataset_train.queries())\n",
        "test_queries = sorted(dataset_test.queries())\n",
        "\n",
        "train = dataset_train.subsample_queries(train_queries)\n",
        "test = dataset_test.subsample_queries(test_queries)"
      ],
      "metadata": {
        "id": "0KiN4sU7ebOW"
      },
      "execution_count": null,
      "outputs": []
    },
    {
      "cell_type": "code",
      "source": [
        "model = train.train_model(train_request)"
      ],
      "metadata": {
        "id": "RsxXJGLWf7-J"
      },
      "execution_count": null,
      "outputs": []
    },
    {
      "cell_type": "markdown",
      "source": [
        "\\begin{align}\n",
        "        \\mathbf{DCG} @ \\mathbf{K} &= \\sum_{k=1}^K \\frac{r_{true}( \\pi^{-1}(k))}{\\log_2(k+1)}\n",
        "\\end{align}\n",
        "\n",
        "\\begin{align}\n",
        "        \\mathbf{IDCG} @ \\mathbf{K} &= \\sum_{k=1}^K \\frac{1}{\\log_2(k+1)}\n",
        "\\end{align}\n",
        "\n",
        "\\begin{align}\n",
        "        \\mathbf{nDCG} @ \\mathbf{K} &= \\frac{\\mathbf{DCG} @ \\mathbf{K}}{{\\mathbf{IDCG} @ \\mathbf{K}}}\n",
        "\\end{align}\n",
        "\n",
        "\n",
        "\n",
        "!TODO добавить описание формул"
      ],
      "metadata": {
        "id": "Gy3GZlhIgMn4"
      }
    },
    {
      "cell_type": "code",
      "source": [
        "test.evaluate(model, \"NDCG@5\")"
      ],
      "metadata": {
        "id": "WvXwX3NFATrK"
      },
      "execution_count": null,
      "outputs": []
    },
    {
      "cell_type": "markdown",
      "source": [
        "# Рекомендательная система"
      ],
      "metadata": {
        "id": "09TzOd05lsMI"
      }
    },
    {
      "cell_type": "code",
      "source": [
        "data = Dataset.load_builtin('ml-100k')\n",
        "trainset =data.build_full_trainset()\n",
        "dataframe = pd.DataFrame(\n",
        "    trainset.all_ratings(),\n",
        "    columns=['uid', 'iid', 'rating'])\n",
        "dataframe.sample(5, random_state=42)"
      ],
      "metadata": {
        "id": "KthIHgeGAiz1"
      },
      "execution_count": null,
      "outputs": []
    },
    {
      "cell_type": "code",
      "source": [
        "algo = SVD\n",
        "algo = algo.fit(trainset)"
      ],
      "metadata": {
        "id": "y1AdobUynNaS"
      },
      "execution_count": null,
      "outputs": []
    },
    {
      "cell_type": "code",
      "source": [
        "(algo.predict('10', '4').est,\n",
        " algo.predict('10', '5').est,\n",
        " algo.predict('10', '6').est)"
      ],
      "metadata": {
        "id": "9DFCrM63naFV"
      },
      "execution_count": null,
      "outputs": []
    },
    {
      "cell_type": "markdown",
      "source": [
        "# Поисковая система"
      ],
      "metadata": {
        "id": "QiQDsk1_n8qI"
      }
    },
    {
      "cell_type": "code",
      "source": [
        "data = pd.reaf_csv('data/lenta-ru-filtred.csv')"
      ],
      "metadata": {
        "id": "8QsjkU98nu8P"
      },
      "execution_count": null,
      "outputs": []
    },
    {
      "cell_type": "markdown",
      "source": [
        "Генерация документов"
      ],
      "metadata": {
        "id": "bORdns51pXCA"
      }
    },
    {
      "cell_type": "code",
      "source": [
        "COLLECTION_DIR = 'data/collection/lenta'\n",
        "if not os.path.exists(COLLECTION_DIR):\n",
        "    os.makedirs(COLLECTION_DIR)\n",
        "\n",
        "collection = data.values\n",
        "\n",
        "batch_size = 32768\n",
        "for ind in tqdm(range(0, len(collection), batch_size)):\n",
        "    files = [{'id': ind+i,\n",
        "              'contents': doc[0],\n",
        "              'tag': doc[1],\n",
        "              'date': doc[-1]}\n",
        "             for i, doc in enumerate(collection[ind:ind+batch_size])]\n",
        "    with jsonlines.open(os.path.join(COLLECTION_DIR,\n",
        "                                     '{}.jsonl'.format(ind)),\n",
        "                        mode='w') as writer:\n",
        "        writer.write_all(files)"
      ],
      "metadata": {
        "id": "T5aS0_7ypPcp"
      },
      "execution_count": null,
      "outputs": []
    },
    {
      "cell_type": "code",
      "source": [
        "with open(os.path.join(COLLECTION_DIR,\n",
        "                       '{}.jsoinl'.format(ind))) as f:\n",
        "    print('\\n'.join(f.read().splitlines()[-5:]))"
      ],
      "metadata": {
        "id": "O60o4qkVrRcH"
      },
      "execution_count": null,
      "outputs": []
    },
    {
      "cell_type": "markdown",
      "source": [
        "Построение индекса"
      ],
      "metadata": {
        "id": "u5k38VNwsBm3"
      }
    },
    {
      "cell_type": "code",
      "source": [
        "INDEX_DIR = 'data/index/lenta'\n",
        "if not os.path.exists(INDEX_DIR):\n",
        "    os.makedirs(INDEX_DIR)"
      ],
      "metadata": {
        "id": "kM39mkTysGAu"
      },
      "execution_count": null,
      "outputs": []
    },
    {
      "cell_type": "code",
      "source": [
        "!python -m pyserini.index -collection JsonCollection -generator DefaultLuceneDocumentGenerator \\\n",
        " -threads 16 -input {COLLECTION_DIR} \\\n",
        " -index {INDEX_DIR} -storePositions -storeDocvectors -storeRaw"
      ],
      "metadata": {
        "id": "U7HtlFSdscMT"
      },
      "execution_count": null,
      "outputs": []
    },
    {
      "cell_type": "markdown",
      "source": [
        "Используем поисковый индекс\n",
        "\n",
        "ВМ-25\n",
        "\n",
        "Пусть дан запрос Q, содержащий слова\\begin{align}q_1,...,q_n\\end{align} тогда функция ВМ-25 дает следующую оценку релевантности документа D запросу Q:\n",
        "\n",
        "\n",
        "\n",
        "\n",
        "\\begin{align} score(D,Q) = \\sum_{i=1}^nIDF_{q_{i}} \\cdot \\frac{tf(q_{i},D) \\cdot (k_{1}+1)}{tf(q_{i},D)+k_{1} \\cdot(1-b+b\\cdot\\frac{|D|}{avgdl})} \\end{align}"
      ],
      "metadata": {
        "id": "YP0E0ypWs_Ta"
      }
    },
    {
      "cell_type": "code",
      "source": [
        "searcher = SimpleSearcher(INDEX_DIR)\n",
        "searcher.set_bm25()\n",
        "hits = searcher.search('Поисковик', k=1)\n",
        "\n",
        "for i in range(len(hits)):\n",
        "    doc = searcher.doc(hits[i].docid)\n",
        "    print(doc.raw())"
      ],
      "metadata": {
        "id": "IFnjUriPvxi7"
      },
      "execution_count": null,
      "outputs": []
    },
    {
      "cell_type": "markdown",
      "source": [
        "QLD\n",
        "\n",
        "\n",
        "Идея: латентное размещение Дирихле "
      ],
      "metadata": {
        "id": "2a14IIiWw6Z7"
      }
    },
    {
      "cell_type": "code",
      "source": [
        "searcher = SimpleSearcher(INDEX_DIR)\n",
        "searcher.set_qld()\n",
        "hits = searcher.search('Посиковик', k=1)\n",
        "\n",
        "for i in range(len(hits)):\n",
        "    doc = searcher.doc(hits[i].docid)\n",
        "    print(doc.raw())"
      ],
      "metadata": {
        "id": "lk37HQH6w5Yj"
      },
      "execution_count": null,
      "outputs": []
    },
    {
      "cell_type": "markdown",
      "source": [
        "RM3\n",
        "\n",
        "Пусть дан запрос Q, содержащий слова\\begin{align}q_1,...,q_n\\end{align} тогда функция ВМ-25 дает следующую оценку релевантности документа D запросу Q:\n",
        "\n",
        "\n",
        "\n",
        "\\begin{align} score(t,Q) = \\alpha \\cdot {softmax}\\left(\\sum_{d\\in{PRD}}\\left(\\frac{tf(t,d)}{|d|}\\cdot\\prod_{i=1}^k\\frac{tf(q_i,d)+\\mu p(q_i)}{|q|+\\mu}\n",
        "\\right)\\right) + (1-\\alpha)\\cdot(\\frac{tf(t,Q)}{|Q|})\\end{align}\n",
        "\n"
      ],
      "metadata": {
        "id": "PdOIwyozxoMg"
      }
    },
    {
      "cell_type": "code",
      "source": [
        "searcher = SimpleSearcher(INDEX_DIR)\n",
        "searcher.set_rm3()\n",
        "hits = searcher.search('Посиковик', k=1)\n",
        "\n",
        "for i in range(len(hits)):\n",
        "    doc = searcher.doc(hits[i].docid)\n",
        "    print(doc.raw())"
      ],
      "metadata": {
        "id": "cUGuYO760L12"
      },
      "execution_count": null,
      "outputs": []
    }
  ]
}