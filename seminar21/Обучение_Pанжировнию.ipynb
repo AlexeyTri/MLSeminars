{
  "nbformat": 4,
  "nbformat_minor": 0,
  "metadata": {
    "colab": {
      "provenance": [],
      "authorship_tag": "ABX9TyOb8K3l9Gvs5T/pQyWdSvUF",
      "include_colab_link": true
    },
    "kernelspec": {
      "name": "python3",
      "display_name": "Python 3"
    },
    "language_info": {
      "name": "python"
    }
  },
  "cells": [
    {
      "cell_type": "markdown",
      "metadata": {
        "id": "view-in-github",
        "colab_type": "text"
      },
      "source": [
        "<a href=\"https://colab.research.google.com/github/AlexeyTri/MyMachineLearningSeminars/blob/main/seminar21/%D0%9E%D0%B1%D1%83%D1%87%D0%B5%D0%BD%D0%B8%D0%B5_P%D0%B0%D0%BD%D0%B6%D0%B8%D1%80%D0%BE%D0%B2%D0%BD%D0%B8%D1%8E.ipynb\" target=\"_parent\"><img src=\"https://colab.research.google.com/assets/colab-badge.svg\" alt=\"Open In Colab\"/></a>"
      ]
    },
    {
      "cell_type": "code",
      "execution_count": null,
      "metadata": {
        "id": "5-TPgDR9sTLF"
      },
      "outputs": [],
      "source": [
        "!!pip install --quiet -U  pyserini jsonlines scikit-surprise fastrank"
      ]
    },
    {
      "cell_type": "code",
      "source": [
        "!pip install  faiss"
      ],
      "metadata": {
        "id": "nVu2eRWl1nZ-"
      },
      "execution_count": null,
      "outputs": []
    },
    {
      "cell_type": "code",
      "source": [
        "from google.colab import drive\n",
        "drive.mount('/content/drive')"
      ],
      "metadata": {
        "colab": {
          "base_uri": "https://localhost:8080/"
        },
        "id": "veNpEpPOu6di",
        "outputId": "783df3ca-8725-49bc-a03a-82fd146b4462"
      },
      "execution_count": 3,
      "outputs": [
        {
          "output_type": "stream",
          "name": "stdout",
          "text": [
            "Mounted at /content/drive\n"
          ]
        }
      ]
    },
    {
      "cell_type": "code",
      "source": [
        "# DATA_PATH = './new_data'\n",
        "# !mkdir new_data\n",
        "# !cp /content/drive/MyDrive/'МФТИ машинное обучение'/'Домашки'/'2-й семестр'/'dataset for seminar 19'/lenta-ru-filtred.csv new_data\n",
        "# !cp /content/drive/MyDrive/'МФТИ машинное обучение'/'Домашки'/'2-й семестр'/'dataset for seminar 19'/MSLR-WEB10K.zip new_data/\n",
        "!unzip new_data/MSLR-WEB10K.zip -d new_data/mslr"
      ],
      "metadata": {
        "id": "aXGJx0cavxES"
      },
      "execution_count": null,
      "outputs": []
    },
    {
      "cell_type": "markdown",
      "source": [
        "Библиотеки"
      ],
      "metadata": {
        "id": "elUkavG_yDbf"
      }
    },
    {
      "cell_type": "code",
      "source": [
        "import matplotlib.pyplot as plt\n",
        "from mpl_toolkits import mplot3d\n",
        "from matplotlib import gridspec\n",
        "\n",
        "from tqdm.notebook import tqdm\n",
        "import numpy as np\n",
        "import pandas as pd\n",
        "import seaborn as sns\n",
        "import torch\n",
        "import scipy\n",
        "import json\n",
        "import re\n",
        "import os\n",
        "import jsonlines\n",
        "import lightgbm as lgb\n",
        "\n",
        "from surprise import Dataset, Reader, SVD\n",
        "from fastrank import CDataset, TrainRequest\n",
        "from sklearn.datasets import load_svmlight_file\n",
        "# строка кода не работает\n",
        "# from pyserini.search import SimpleSearcher"
      ],
      "metadata": {
        "id": "RMH9U0YPyIeN"
      },
      "execution_count": 24,
      "outputs": []
    },
    {
      "cell_type": "markdown",
      "source": [
        "# Learning to Rank"
      ],
      "metadata": {
        "id": "OSYr_oFj6mvQ"
      }
    },
    {
      "cell_type": "markdown",
      "source": [
        "Загружаем DataSet"
      ],
      "metadata": {
        "id": "HcAiVTSC6r7H"
      }
    },
    {
      "cell_type": "code",
      "source": [
        "DATA_PATH = 'new_data/mslr/Fold1'\n",
        "(X_train, y_train, qid_train) = load_svmlight_file(\n",
        "    os.path.join(DATA_PATH, 'train.txt'),\n",
        "    dtype=np.float32,\n",
        "    zero_based=False,\n",
        "    query_id=True)\n",
        "(X_val, y_val, qid_val) = load_svmlight_file(\n",
        "    os.path.join(DATA_PATH, 'vali.txt'),\n",
        "    dtype=np.float32,\n",
        "    zero_based=False,\n",
        "    query_id=True)\n",
        "(X_test, y_test, qid_test) = load_svmlight_file(\n",
        "    os.path.join(DATA_PATH, 'test.txt'),\n",
        "    dtype=np.float32,\n",
        "    zero_based=False,\n",
        "    query_id=True)\n",
        "\n",
        "train_size = 50000\n",
        "X_train = X_train.toarray()[:train_size]\n",
        "y_train = y_train[:train_size]\n",
        "qid_train = qid_train[:train_size]\n",
        "\n",
        "val_size = 10000\n",
        "X_val = X_val.toarray()[:val_size]\n",
        "y_val = y_val[:val_size]\n",
        "qid_val = qid_val[:val_size]\n",
        "\n",
        "test_size = 1000\n",
        "X_test = X_test.toarray()[:test_size]\n",
        "y_test = y_test[:test_size]\n",
        "qid_test = qid_test[:test_size]"
      ],
      "metadata": {
        "id": "K2RrLaWU6Z3d"
      },
      "execution_count": 29,
      "outputs": []
    },
    {
      "cell_type": "code",
      "source": [
        "ids = np.random.RandomState(42).randint(0, len(X_train), size=5)\n",
        "(X_train[ids][:,:6], y_train[ids], qid_train[ids])"
      ],
      "metadata": {
        "colab": {
          "base_uri": "https://localhost:8080/"
        },
        "id": "VQkG6Lqq9Ey5",
        "outputId": "3ec0cc09-67d5-4068-85f8-f314a21c5c33"
      },
      "execution_count": 30,
      "outputs": [
        {
          "output_type": "execute_result",
          "data": {
            "text/plain": [
              "(array([[2.      , 0.      , 1.      , 1.      , 2.      , 1.      ],\n",
              "        [3.      , 0.      , 3.      , 2.      , 3.      , 1.      ],\n",
              "        [2.      , 1.      , 2.      , 0.      , 2.      , 1.      ],\n",
              "        [2.      , 0.      , 1.      , 0.      , 2.      , 1.      ],\n",
              "        [6.      , 2.      , 1.      , 1.      , 6.      , 0.857143]],\n",
              "       dtype=float32),\n",
              " array([0., 0., 2., 0., 1.]),\n",
              " array([2071,  151, 4966, 5971, 1486]))"
            ]
          },
          "metadata": {},
          "execution_count": 30
        }
      ]
    },
    {
      "cell_type": "markdown",
      "source": [
        "Определяем модель"
      ],
      "metadata": {
        "id": "s7JKtKEC-Z8s"
      }
    },
    {
      "cell_type": "code",
      "source": [
        "train_request = TrainRequest.random_forest()\n",
        "params = train_request.params\n",
        "params.num_trees = 100\n",
        "params.feature_sampling_rate = 0.5\n",
        "params.instance_sampling_rate = 0.5\n",
        "\n",
        "params.quit = True\n",
        "params.seed =42"
      ],
      "metadata": {
        "id": "NWiT6VCc-d-K"
      },
      "execution_count": 31,
      "outputs": []
    },
    {
      "cell_type": "markdown",
      "source": [
        "Специальный формат данных"
      ],
      "metadata": {
        "id": "jT3fIOJjAW6D"
      }
    },
    {
      "cell_type": "code",
      "source": [
        "dataset_train = CDataset.from_numpy(X_train, y_train, qid_train)\n",
        "dataset_test = CDataset.from_numpy(X_test, y_test, qid_test)\n",
        "\n",
        "features = dataset_train.feature_names()\n",
        "train_queries = sorted(dataset_train.queries())\n",
        "test_queries = sorted(dataset_test.queries())\n",
        "\n",
        "train = dataset_train.subsample_queries(train_queries)\n",
        "test = dataset_test.subsample_queries(test_queries)"
      ],
      "metadata": {
        "id": "oyztGLIzAV-a"
      },
      "execution_count": 32,
      "outputs": []
    },
    {
      "cell_type": "code",
      "source": [
        "model = train.train_model(train_request)"
      ],
      "metadata": {
        "id": "lZdo1jtEBn52"
      },
      "execution_count": 33,
      "outputs": []
    }
  ]
}