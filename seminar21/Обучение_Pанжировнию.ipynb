{
  "nbformat": 4,
  "nbformat_minor": 0,
  "metadata": {
    "colab": {
      "provenance": [],
      "authorship_tag": "ABX9TyO5Nq0sj9OFH3520L/bvurU",
      "include_colab_link": true
    },
    "kernelspec": {
      "name": "python3",
      "display_name": "Python 3"
    },
    "language_info": {
      "name": "python"
    },
    "widgets": {
      "application/vnd.jupyter.widget-state+json": {
        "9dd04fc90b7943c9bcf08d6768da81a8": {
          "model_module": "@jupyter-widgets/controls",
          "model_name": "HBoxModel",
          "model_module_version": "1.5.0",
          "state": {
            "_dom_classes": [],
            "_model_module": "@jupyter-widgets/controls",
            "_model_module_version": "1.5.0",
            "_model_name": "HBoxModel",
            "_view_count": null,
            "_view_module": "@jupyter-widgets/controls",
            "_view_module_version": "1.5.0",
            "_view_name": "HBoxView",
            "box_style": "",
            "children": [
              "IPY_MODEL_d49a1a5cdb974e2c9617513826e2d0ea",
              "IPY_MODEL_391d3a5f69b04541b7556394960a9fa2",
              "IPY_MODEL_4d2d8a35d72d4265b3ee079e5c9e8730"
            ],
            "layout": "IPY_MODEL_eab5cf51313f4cdd94945fb5a7ad731f"
          }
        },
        "d49a1a5cdb974e2c9617513826e2d0ea": {
          "model_module": "@jupyter-widgets/controls",
          "model_name": "HTMLModel",
          "model_module_version": "1.5.0",
          "state": {
            "_dom_classes": [],
            "_model_module": "@jupyter-widgets/controls",
            "_model_module_version": "1.5.0",
            "_model_name": "HTMLModel",
            "_view_count": null,
            "_view_module": "@jupyter-widgets/controls",
            "_view_module_version": "1.5.0",
            "_view_name": "HTMLView",
            "description": "",
            "description_tooltip": null,
            "layout": "IPY_MODEL_a4f1d4eb032940e5bb6daed34fd3fa76",
            "placeholder": "​",
            "style": "IPY_MODEL_a17c5eb0c5c94c1497c86a09f0344c54",
            "value": "100%"
          }
        },
        "391d3a5f69b04541b7556394960a9fa2": {
          "model_module": "@jupyter-widgets/controls",
          "model_name": "FloatProgressModel",
          "model_module_version": "1.5.0",
          "state": {
            "_dom_classes": [],
            "_model_module": "@jupyter-widgets/controls",
            "_model_module_version": "1.5.0",
            "_model_name": "FloatProgressModel",
            "_view_count": null,
            "_view_module": "@jupyter-widgets/controls",
            "_view_module_version": "1.5.0",
            "_view_name": "ProgressView",
            "bar_style": "success",
            "description": "",
            "description_tooltip": null,
            "layout": "IPY_MODEL_0a6e758705f4445a994bd7602472147d",
            "max": 25,
            "min": 0,
            "orientation": "horizontal",
            "style": "IPY_MODEL_689bdca4774f47d6a1a36746939b33cb",
            "value": 25
          }
        },
        "4d2d8a35d72d4265b3ee079e5c9e8730": {
          "model_module": "@jupyter-widgets/controls",
          "model_name": "HTMLModel",
          "model_module_version": "1.5.0",
          "state": {
            "_dom_classes": [],
            "_model_module": "@jupyter-widgets/controls",
            "_model_module_version": "1.5.0",
            "_model_name": "HTMLModel",
            "_view_count": null,
            "_view_module": "@jupyter-widgets/controls",
            "_view_module_version": "1.5.0",
            "_view_name": "HTMLView",
            "description": "",
            "description_tooltip": null,
            "layout": "IPY_MODEL_573bb67bfe6c4e74a21704427d5ac267",
            "placeholder": "​",
            "style": "IPY_MODEL_81b411f612ba4895a39f95c5241abd9f",
            "value": " 25/25 [00:23&lt;00:00,  1.43it/s]"
          }
        },
        "eab5cf51313f4cdd94945fb5a7ad731f": {
          "model_module": "@jupyter-widgets/base",
          "model_name": "LayoutModel",
          "model_module_version": "1.2.0",
          "state": {
            "_model_module": "@jupyter-widgets/base",
            "_model_module_version": "1.2.0",
            "_model_name": "LayoutModel",
            "_view_count": null,
            "_view_module": "@jupyter-widgets/base",
            "_view_module_version": "1.2.0",
            "_view_name": "LayoutView",
            "align_content": null,
            "align_items": null,
            "align_self": null,
            "border": null,
            "bottom": null,
            "display": null,
            "flex": null,
            "flex_flow": null,
            "grid_area": null,
            "grid_auto_columns": null,
            "grid_auto_flow": null,
            "grid_auto_rows": null,
            "grid_column": null,
            "grid_gap": null,
            "grid_row": null,
            "grid_template_areas": null,
            "grid_template_columns": null,
            "grid_template_rows": null,
            "height": null,
            "justify_content": null,
            "justify_items": null,
            "left": null,
            "margin": null,
            "max_height": null,
            "max_width": null,
            "min_height": null,
            "min_width": null,
            "object_fit": null,
            "object_position": null,
            "order": null,
            "overflow": null,
            "overflow_x": null,
            "overflow_y": null,
            "padding": null,
            "right": null,
            "top": null,
            "visibility": null,
            "width": null
          }
        },
        "a4f1d4eb032940e5bb6daed34fd3fa76": {
          "model_module": "@jupyter-widgets/base",
          "model_name": "LayoutModel",
          "model_module_version": "1.2.0",
          "state": {
            "_model_module": "@jupyter-widgets/base",
            "_model_module_version": "1.2.0",
            "_model_name": "LayoutModel",
            "_view_count": null,
            "_view_module": "@jupyter-widgets/base",
            "_view_module_version": "1.2.0",
            "_view_name": "LayoutView",
            "align_content": null,
            "align_items": null,
            "align_self": null,
            "border": null,
            "bottom": null,
            "display": null,
            "flex": null,
            "flex_flow": null,
            "grid_area": null,
            "grid_auto_columns": null,
            "grid_auto_flow": null,
            "grid_auto_rows": null,
            "grid_column": null,
            "grid_gap": null,
            "grid_row": null,
            "grid_template_areas": null,
            "grid_template_columns": null,
            "grid_template_rows": null,
            "height": null,
            "justify_content": null,
            "justify_items": null,
            "left": null,
            "margin": null,
            "max_height": null,
            "max_width": null,
            "min_height": null,
            "min_width": null,
            "object_fit": null,
            "object_position": null,
            "order": null,
            "overflow": null,
            "overflow_x": null,
            "overflow_y": null,
            "padding": null,
            "right": null,
            "top": null,
            "visibility": null,
            "width": null
          }
        },
        "a17c5eb0c5c94c1497c86a09f0344c54": {
          "model_module": "@jupyter-widgets/controls",
          "model_name": "DescriptionStyleModel",
          "model_module_version": "1.5.0",
          "state": {
            "_model_module": "@jupyter-widgets/controls",
            "_model_module_version": "1.5.0",
            "_model_name": "DescriptionStyleModel",
            "_view_count": null,
            "_view_module": "@jupyter-widgets/base",
            "_view_module_version": "1.2.0",
            "_view_name": "StyleView",
            "description_width": ""
          }
        },
        "0a6e758705f4445a994bd7602472147d": {
          "model_module": "@jupyter-widgets/base",
          "model_name": "LayoutModel",
          "model_module_version": "1.2.0",
          "state": {
            "_model_module": "@jupyter-widgets/base",
            "_model_module_version": "1.2.0",
            "_model_name": "LayoutModel",
            "_view_count": null,
            "_view_module": "@jupyter-widgets/base",
            "_view_module_version": "1.2.0",
            "_view_name": "LayoutView",
            "align_content": null,
            "align_items": null,
            "align_self": null,
            "border": null,
            "bottom": null,
            "display": null,
            "flex": null,
            "flex_flow": null,
            "grid_area": null,
            "grid_auto_columns": null,
            "grid_auto_flow": null,
            "grid_auto_rows": null,
            "grid_column": null,
            "grid_gap": null,
            "grid_row": null,
            "grid_template_areas": null,
            "grid_template_columns": null,
            "grid_template_rows": null,
            "height": null,
            "justify_content": null,
            "justify_items": null,
            "left": null,
            "margin": null,
            "max_height": null,
            "max_width": null,
            "min_height": null,
            "min_width": null,
            "object_fit": null,
            "object_position": null,
            "order": null,
            "overflow": null,
            "overflow_x": null,
            "overflow_y": null,
            "padding": null,
            "right": null,
            "top": null,
            "visibility": null,
            "width": null
          }
        },
        "689bdca4774f47d6a1a36746939b33cb": {
          "model_module": "@jupyter-widgets/controls",
          "model_name": "ProgressStyleModel",
          "model_module_version": "1.5.0",
          "state": {
            "_model_module": "@jupyter-widgets/controls",
            "_model_module_version": "1.5.0",
            "_model_name": "ProgressStyleModel",
            "_view_count": null,
            "_view_module": "@jupyter-widgets/base",
            "_view_module_version": "1.2.0",
            "_view_name": "StyleView",
            "bar_color": null,
            "description_width": ""
          }
        },
        "573bb67bfe6c4e74a21704427d5ac267": {
          "model_module": "@jupyter-widgets/base",
          "model_name": "LayoutModel",
          "model_module_version": "1.2.0",
          "state": {
            "_model_module": "@jupyter-widgets/base",
            "_model_module_version": "1.2.0",
            "_model_name": "LayoutModel",
            "_view_count": null,
            "_view_module": "@jupyter-widgets/base",
            "_view_module_version": "1.2.0",
            "_view_name": "LayoutView",
            "align_content": null,
            "align_items": null,
            "align_self": null,
            "border": null,
            "bottom": null,
            "display": null,
            "flex": null,
            "flex_flow": null,
            "grid_area": null,
            "grid_auto_columns": null,
            "grid_auto_flow": null,
            "grid_auto_rows": null,
            "grid_column": null,
            "grid_gap": null,
            "grid_row": null,
            "grid_template_areas": null,
            "grid_template_columns": null,
            "grid_template_rows": null,
            "height": null,
            "justify_content": null,
            "justify_items": null,
            "left": null,
            "margin": null,
            "max_height": null,
            "max_width": null,
            "min_height": null,
            "min_width": null,
            "object_fit": null,
            "object_position": null,
            "order": null,
            "overflow": null,
            "overflow_x": null,
            "overflow_y": null,
            "padding": null,
            "right": null,
            "top": null,
            "visibility": null,
            "width": null
          }
        },
        "81b411f612ba4895a39f95c5241abd9f": {
          "model_module": "@jupyter-widgets/controls",
          "model_name": "DescriptionStyleModel",
          "model_module_version": "1.5.0",
          "state": {
            "_model_module": "@jupyter-widgets/controls",
            "_model_module_version": "1.5.0",
            "_model_name": "DescriptionStyleModel",
            "_view_count": null,
            "_view_module": "@jupyter-widgets/base",
            "_view_module_version": "1.2.0",
            "_view_name": "StyleView",
            "description_width": ""
          }
        }
      }
    }
  },
  "cells": [
    {
      "cell_type": "markdown",
      "metadata": {
        "id": "view-in-github",
        "colab_type": "text"
      },
      "source": [
        "<a href=\"https://colab.research.google.com/github/AlexeyTri/MyMachineLearningSeminars/blob/main/seminar21/%D0%9E%D0%B1%D1%83%D1%87%D0%B5%D0%BD%D0%B8%D0%B5_P%D0%B0%D0%BD%D0%B6%D0%B8%D1%80%D0%BE%D0%B2%D0%BD%D0%B8%D1%8E.ipynb\" target=\"_parent\"><img src=\"https://colab.research.google.com/assets/colab-badge.svg\" alt=\"Open In Colab\"/></a>"
      ]
    },
    {
      "cell_type": "code",
      "execution_count": null,
      "metadata": {
        "id": "5-TPgDR9sTLF"
      },
      "outputs": [],
      "source": [
        "!!pip install --quiet -U  pyserini jsonlines scikit-surprise fastrank"
      ]
    },
    {
      "cell_type": "code",
      "source": [
        "!pip install  faiss"
      ],
      "metadata": {
        "id": "nVu2eRWl1nZ-"
      },
      "execution_count": null,
      "outputs": []
    },
    {
      "cell_type": "code",
      "source": [
        "from google.colab import drive\n",
        "drive.mount('/content/drive')"
      ],
      "metadata": {
        "colab": {
          "base_uri": "https://localhost:8080/"
        },
        "id": "veNpEpPOu6di",
        "outputId": "783df3ca-8725-49bc-a03a-82fd146b4462"
      },
      "execution_count": 3,
      "outputs": [
        {
          "output_type": "stream",
          "name": "stdout",
          "text": [
            "Mounted at /content/drive\n"
          ]
        }
      ]
    },
    {
      "cell_type": "code",
      "source": [
        "# DATA_PATH = './new_data'\n",
        "# !mkdir new_data\n",
        "# !cp /content/drive/MyDrive/'МФТИ машинное обучение'/'Домашки'/'2-й семестр'/'dataset for seminar 19'/lenta-ru-filtred.csv new_data\n",
        "# !cp /content/drive/MyDrive/'МФТИ машинное обучение'/'Домашки'/'2-й семестр'/'dataset for seminar 19'/MSLR-WEB10K.zip new_data/\n",
        "!unzip new_data/MSLR-WEB10K.zip -d new_data/mslr"
      ],
      "metadata": {
        "id": "aXGJx0cavxES"
      },
      "execution_count": null,
      "outputs": []
    },
    {
      "cell_type": "markdown",
      "source": [
        "Библиотеки"
      ],
      "metadata": {
        "id": "elUkavG_yDbf"
      }
    },
    {
      "cell_type": "code",
      "source": [
        "import matplotlib.pyplot as plt\n",
        "from mpl_toolkits import mplot3d\n",
        "from matplotlib import gridspec\n",
        "\n",
        "from tqdm.notebook import tqdm\n",
        "import numpy as np\n",
        "import pandas as pd\n",
        "import seaborn as sns\n",
        "import torch\n",
        "import scipy\n",
        "import json\n",
        "import re\n",
        "import os\n",
        "import jsonlines\n",
        "import lightgbm as lgb\n",
        "\n",
        "from surprise import Dataset, Reader, SVD\n",
        "from fastrank import CDataset, TrainRequest\n",
        "from sklearn.datasets import load_svmlight_file\n",
        "# строка кода не работает\n",
        "# from pyserini.search import SimpleSearcher"
      ],
      "metadata": {
        "id": "RMH9U0YPyIeN"
      },
      "execution_count": 36,
      "outputs": []
    },
    {
      "cell_type": "markdown",
      "source": [
        "# Learning to Rank"
      ],
      "metadata": {
        "id": "OSYr_oFj6mvQ"
      }
    },
    {
      "cell_type": "markdown",
      "source": [
        "Загружаем DataSet"
      ],
      "metadata": {
        "id": "HcAiVTSC6r7H"
      }
    },
    {
      "cell_type": "code",
      "source": [
        "DATA_PATH = 'new_data/mslr/Fold1'\n",
        "(X_train, y_train, qid_train) = load_svmlight_file(\n",
        "    os.path.join(DATA_PATH, 'train.txt'),\n",
        "    dtype=np.float32,\n",
        "    zero_based=False,\n",
        "    query_id=True)\n",
        "(X_val, y_val, qid_val) = load_svmlight_file(\n",
        "    os.path.join(DATA_PATH, 'vali.txt'),\n",
        "    dtype=np.float32,\n",
        "    zero_based=False,\n",
        "    query_id=True)\n",
        "(X_test, y_test, qid_test) = load_svmlight_file(\n",
        "    os.path.join(DATA_PATH, 'test.txt'),\n",
        "    dtype=np.float32,\n",
        "    zero_based=False,\n",
        "    query_id=True)\n",
        "\n",
        "train_size = 50000\n",
        "X_train = X_train.toarray()[:train_size]\n",
        "y_train = y_train[:train_size]\n",
        "qid_train = qid_train[:train_size]\n",
        "\n",
        "val_size = 10000\n",
        "X_val = X_val.toarray()[:val_size]\n",
        "y_val = y_val[:val_size]\n",
        "qid_val = qid_val[:val_size]\n",
        "\n",
        "test_size = 1000\n",
        "X_test = X_test.toarray()[:test_size]\n",
        "y_test = y_test[:test_size]\n",
        "qid_test = qid_test[:test_size]"
      ],
      "metadata": {
        "id": "K2RrLaWU6Z3d"
      },
      "execution_count": 29,
      "outputs": []
    },
    {
      "cell_type": "code",
      "source": [
        "ids = np.random.RandomState(42).randint(0, len(X_train), size=5)\n",
        "(X_train[ids][:,:6], y_train[ids], qid_train[ids])"
      ],
      "metadata": {
        "colab": {
          "base_uri": "https://localhost:8080/"
        },
        "id": "VQkG6Lqq9Ey5",
        "outputId": "3ec0cc09-67d5-4068-85f8-f314a21c5c33"
      },
      "execution_count": 30,
      "outputs": [
        {
          "output_type": "execute_result",
          "data": {
            "text/plain": [
              "(array([[2.      , 0.      , 1.      , 1.      , 2.      , 1.      ],\n",
              "        [3.      , 0.      , 3.      , 2.      , 3.      , 1.      ],\n",
              "        [2.      , 1.      , 2.      , 0.      , 2.      , 1.      ],\n",
              "        [2.      , 0.      , 1.      , 0.      , 2.      , 1.      ],\n",
              "        [6.      , 2.      , 1.      , 1.      , 6.      , 0.857143]],\n",
              "       dtype=float32),\n",
              " array([0., 0., 2., 0., 1.]),\n",
              " array([2071,  151, 4966, 5971, 1486]))"
            ]
          },
          "metadata": {},
          "execution_count": 30
        }
      ]
    },
    {
      "cell_type": "markdown",
      "source": [
        "Определяем модель"
      ],
      "metadata": {
        "id": "s7JKtKEC-Z8s"
      }
    },
    {
      "cell_type": "code",
      "source": [
        "train_request = TrainRequest.random_forest()\n",
        "params = train_request.params\n",
        "params.num_trees = 100\n",
        "params.feature_sampling_rate = 0.5\n",
        "params.instance_sampling_rate = 0.5\n",
        "\n",
        "params.quit = True\n",
        "params.seed =42"
      ],
      "metadata": {
        "id": "NWiT6VCc-d-K"
      },
      "execution_count": 31,
      "outputs": []
    },
    {
      "cell_type": "markdown",
      "source": [
        "Специальный формат данных"
      ],
      "metadata": {
        "id": "jT3fIOJjAW6D"
      }
    },
    {
      "cell_type": "code",
      "source": [
        "dataset_train = CDataset.from_numpy(X_train, y_train, qid_train)\n",
        "dataset_test = CDataset.from_numpy(X_test, y_test, qid_test)\n",
        "\n",
        "features = dataset_train.feature_names()\n",
        "train_queries = sorted(dataset_train.queries())\n",
        "test_queries = sorted(dataset_test.queries())\n",
        "\n",
        "train = dataset_train.subsample_queries(train_queries)\n",
        "test = dataset_test.subsample_queries(test_queries)"
      ],
      "metadata": {
        "id": "oyztGLIzAV-a"
      },
      "execution_count": 32,
      "outputs": []
    },
    {
      "cell_type": "markdown",
      "source": [],
      "metadata": {
        "id": "wgLIC8HNFxtk"
      }
    },
    {
      "cell_type": "code",
      "source": [
        "model = train.train_model(train_request)"
      ],
      "metadata": {
        "id": "lZdo1jtEBn52"
      },
      "execution_count": 33,
      "outputs": []
    },
    {
      "cell_type": "markdown",
      "source": [
        "\\begin{align}\n",
        "        \\mathbf{DCG@K} &= \\sum_{k=1}^K \\frac{r_{true}(π^{-1}(k))}{log_2(k+1)}, &  \\mathbf{IDCG@K}&= \\sum_{k=1}^K \\frac{1}{log_2(k+1)}, & \\mathbf{nDCG@K} &= \\frac{\\mathbf{DCG@K}}{\\mathbf{IDCG@K}}\n",
        "    \\end{align}"
      ],
      "metadata": {
        "id": "vINqT47zDyBx"
      }
    },
    {
      "cell_type": "code",
      "source": [
        "test.evaluate(model, 'NDCG@5')"
      ],
      "metadata": {
        "id": "7QxkY_94F2R2"
      },
      "execution_count": null,
      "outputs": []
    },
    {
      "cell_type": "markdown",
      "source": [
        "# Рекомендательная система"
      ],
      "metadata": {
        "id": "mF03iztqGRw6"
      }
    },
    {
      "cell_type": "code",
      "source": [
        "data = Dataset.load_builtin('ml-100k')\n",
        "trainset = data.build_full_trainset()\n",
        "dataframe = pd.DataFrame(\n",
        "    trainset.all_ratings(),\n",
        "    columns=['id', 'iid', 'raiting'])\n",
        "dataframe.sample(5, random_state=42)"
      ],
      "metadata": {
        "id": "gQyVc5aEGYbg"
      },
      "execution_count": null,
      "outputs": []
    },
    {
      "cell_type": "code",
      "source": [
        "algo = SVD()\n",
        "algo = algo.fit(trainset)"
      ],
      "metadata": {
        "id": "uTV3KWiRHUli"
      },
      "execution_count": 39,
      "outputs": []
    },
    {
      "cell_type": "code",
      "source": [
        "(algo.predict('10','4').est,\n",
        " algo.predict('10','5').est,\n",
        " algo.predict('10','6').est)"
      ],
      "metadata": {
        "colab": {
          "base_uri": "https://localhost:8080/"
        },
        "id": "mvv1AlKWHbvw",
        "outputId": "0f0b5240-7bf7-4ef4-c31c-612709152401"
      },
      "execution_count": 41,
      "outputs": [
        {
          "output_type": "execute_result",
          "data": {
            "text/plain": [
              "(4.007853728232699, 3.590404992491329, 4.1198711505764)"
            ]
          },
          "metadata": {},
          "execution_count": 41
        }
      ]
    },
    {
      "cell_type": "markdown",
      "source": [
        "# Поисковая система"
      ],
      "metadata": {
        "id": "q2kH6OK0Hpst"
      }
    },
    {
      "cell_type": "code",
      "source": [
        "data = pd.read_csv('/content/new_data/lenta-ru-filtred.csv')"
      ],
      "metadata": {
        "id": "Ya96odrkH3dt"
      },
      "execution_count": 42,
      "outputs": []
    },
    {
      "cell_type": "code",
      "source": [
        "data"
      ],
      "metadata": {
        "id": "2-jY00FxIGgr"
      },
      "execution_count": null,
      "outputs": []
    },
    {
      "cell_type": "code",
      "source": [
        "from pandas.core.algorithms import doc\n",
        "COLLECTION_DIR = 'new_data/collection/lenta'\n",
        "if not os.path.exists(COLLECTION_DIR):\n",
        "    os.makedirs(COLLECTION_DIR)\n",
        "\n",
        "collection = data.values\n",
        "batch_size = 32768\n",
        "for ind in tqdm(range(0, len(collection), batch_size)):\n",
        "    files=[{'id': ind+1,\n",
        "            'contents': doc[0],\n",
        "            'tag': doc[1],\n",
        "            'date': doc[-1]}\n",
        "           for i, doc in  enumerate(collection[ind:ind+batch_size])]\n",
        "    with jsonlines.open(os.path.join(COLLECTION_DIR, '{}.jsonl'.format(ind)),\n",
        "                        mode='w') as writer:\n",
        "                        writer.write_all(files)"
      ],
      "metadata": {
        "colab": {
          "base_uri": "https://localhost:8080/",
          "height": 49,
          "referenced_widgets": [
            "9dd04fc90b7943c9bcf08d6768da81a8",
            "d49a1a5cdb974e2c9617513826e2d0ea",
            "391d3a5f69b04541b7556394960a9fa2",
            "4d2d8a35d72d4265b3ee079e5c9e8730",
            "eab5cf51313f4cdd94945fb5a7ad731f",
            "a4f1d4eb032940e5bb6daed34fd3fa76",
            "a17c5eb0c5c94c1497c86a09f0344c54",
            "0a6e758705f4445a994bd7602472147d",
            "689bdca4774f47d6a1a36746939b33cb",
            "573bb67bfe6c4e74a21704427d5ac267",
            "81b411f612ba4895a39f95c5241abd9f"
          ]
        },
        "id": "GKommNvvIHgk",
        "outputId": "159ffd73-e7ec-494c-e576-7650a3f38b08"
      },
      "execution_count": 44,
      "outputs": [
        {
          "output_type": "display_data",
          "data": {
            "text/plain": [
              "  0%|          | 0/25 [00:00<?, ?it/s]"
            ],
            "application/vnd.jupyter.widget-view+json": {
              "version_major": 2,
              "version_minor": 0,
              "model_id": "9dd04fc90b7943c9bcf08d6768da81a8"
            }
          },
          "metadata": {}
        }
      ]
    },
    {
      "cell_type": "code",
      "source": [
        "with open(os.path.join(COLLECTION_DIR, \n",
        "                       '{}.jsonl'.format(ind))) as f:\n",
        "  print('\\n'.join(f.read().splitlines()[-5:]))"
      ],
      "metadata": {
        "colab": {
          "base_uri": "https://localhost:8080/"
        },
        "id": "KmZKUUg8LiPM",
        "outputId": "5eb352bd-24dc-4ee5-8920-2d109466e843"
      },
      "execution_count": 45,
      "outputs": [
        {
          "output_type": "stream",
          "name": "stdout",
          "text": [
            "{\"id\": 786433, \"contents\": \"Певец Сергей Шнуров раскритиковал свою коллегу Полину Гагарину в эфире шоу «Голос» на Первом канале. Момент передачи опубликован на YouTube. После выступления подопечных Гагариной Шнуров обратил внимание на номер 17-летней участницы Аланы Чочиевой. По мнению певца, исполненная девушкой песня Аллы Пугачевой «Опять метель» была выбрана неудачно. «Перед нами ангел, который поет: \\\"Сильная женщина плачет у окна\\\". Откуда это, зачем?» — возмутился он. Однако другой наставник, продюсер Константин Меладзе, с ним не согласился. По его мнению, Чочиевой досталась сложная композиция, и она спела ее по-своему хорошо. Гагарина также поддержала свою подопечную, отметив, что та «не выступает с табличкой», на которой указан ее возраст. Это не первый конфликтный эпизод на «Голосе». До этого Гагарину оскорбило поведение уральского певца Арсения Курчанина. Во время выступления артист насыпал на стол певицы семечки, однако позже их убрал Шнуров.\", \"tag\": \"ТВ и радио\", \"date\": 937}\n",
            "{\"id\": 786433, \"contents\": \"Министерство юстиции России предложило изменить правила взыскания долгов. Соответствующий документ опубликован на портале проектов нормативных правовых актов. В частности, предлагается законодательно закрепить использование роботов-коллекторов — инструмента для отправки голосовых сообщений — для сбора задолженности с граждан. Уточняется, что такие роботы применяют систему генерации речи и способны поддерживать различные сценарии разговоров. Их использование будет считаться за взаимодействие с должником, однако он, в свою очередь, может отказаться от получения сообщений. Кроме того, документ предусматривает обязательный досудебный порядок возврата просроченных долгов физических лиц. Взыскатель может обратиться в суд только в том случае, если должник не расплатился в течение 30 дней после получения предложения о возврате долга. Также в документе говорится о том, что Правительством России могут быть установлены особенности взаимодействия с должником при возврате просроченной задолженности по оплате жилищно-коммунальных услуг. Помимо этого, Минюст предложил включить в госреестр организации, занимающиеся возвратом просроченных долгов по кредитам. Речь идет, в частности, о кредитных и микрофинансовых организациях, кредитных потребительских кооперативах и ломбардах. Предполагается, что изменения вступят в силу в январе 2021 года. В сентябре Министерство экономического развития России разработало законопроект о сохранении на счету гражданина после взыскания с него всех долгов средств в размере прожиточного минимума. Реформа не затронет ряд категорий должников. Среди них — должники по алиментам, коммунальным услугам, штрафам и налогам. Также не оставят средств тем, кто возмещает вред от преступления.\", \"tag\": \"Все\", \"date\": 1720}\n",
            "{\"id\": 786433, \"contents\": \"Испытание США ранее запрещенной Договором о ликвидации ракет средней и меньшей дальности (ДРСМД) ракеты может стать черной датой для Европы. Об этом заявил сенатор Алексей Пушков в своем Twitter. По словам политика, за испытаниями может последовать размещение американских ракет в Европе. Это, в свою очередь, вернет континент во времена холодной войны. «Мрачный сценарий», — заключил он. США испытали запрещенную ранее ракету 12 декабря в штате Калифорния. В американском военном ведомстве сообщили, что оружие испытывалось в неядерной конфигурации. По данным СМИ, оно пролетело более 500 километров. Кремль расценил действия Вашингтона как доказательство того, что выход из соглашения был давно запланирован американской стороной. Согласно заключенному между СССР и США в 1987 году договору, запрещались производство и испытания крылатых и баллистических ракет с дальностью от 500 километров. Минувшим летом Вашингтон вышел из договора, объяснив это решение якобы систематическими нарушениями условий соглашения российской стороной. Москва опровергла все обвинения.\", \"tag\": \"Политика\", \"date\": 1067}\n",
            "{\"id\": 786433, \"contents\": \"В ближайшие дни в европейской части России погода будет аномально теплой, говорится в сообщении на сайте Гидрометцентра. Температура превысит свои обычные для этого времени значения на 5-8 градусов и будет похожа на ноябрьскую, пообещали синоптики. Самое большое отклонение от нормы россияне смогут наблюдать в северо-восточных районах: в Ненецком автономном округе и Республике Коми вместо 30-градусных морозов ожидается минус 10-15 градусов, днем минус 3-8, а местами «оттепель». «Причина такой аномалии — атлантические циклоны, которые перемещаются вдоль арктического побережья и несут с собой очень теплый воздух Атлантики», — сообщает Гидрометцентр. Центральный район в субботу окажется в области повышенного атмосферного давления, в отдельных районах ожидаются небольшие осадки, возможны туман и гололед. Ночью температура составит от нуля до минус пяти градусов, днем — от минус четырех до плюс трех градусов. В воскресенье ожидаются дождь и мокрый снег, ветер до 15 метров в секунду, температура повысится на 2-3 градуса. В Санкт-Петербурге на выходных ночная температура составит около нуля, днем до 2 градусов тепла. В Москве в субботу ожидается преимущественно без осадков, в течение суток температура будет около нуля градусов. В воскресенье в столице пройдет дождь и мокрый снег, воздух прогреется до плюс 3 градусов. Понедельник также будет теплым и с осадками, отмечают метеорологи. Кроме того, в Мурманской, Архангельской и Вологодской областях ожидается от нуля до минус 5 градусов. В Карелии, Ленинградской, Псковской и Новгородской областях — около нуля и мокрый снег с дождем. В Поволжье ночью на выходных прогнозируется до 15 градусов мороза, днем — минус 2-7. На юге европейской территории местами пройдут осадки в виде дождя и снега, в отдельных районах ожидаются туманы, отложение гололеда и изморози. В Крыму в выходные пройдут небольшие дожди. \", \"tag\": \"Общество\", \"date\": 1870}\n",
            "{\"id\": 786433, \"contents\": \"Ведущие футбольные чемпионаты ушли на зимние каникулы, но только не Английская премьер-лига (АПЛ). Самое время поучаствовать в совместном конкурсе букмекерской компании Olimp.Bet и тренажера игры на ставках social.bet «Новый год по-английски»! С 14 декабря 2019 года по 23 января 2020 года делайте виртуальные ставки на social.bet, добивайтесь максимальной прибыли и поднимайтесь в рейтинге участников. Призовой фонд конкурса — 100 тысяч рублей фрибетами, 11 подписок на ОККО Спорт, три футболки любимой команды АПЛ и мячи с автографами известных экспертов. В случае, если одинаковой максимальной прибыли в конкурсе достигнут два или более участников, выиграет тот, кто сделал больше ставок. Для участия в конкурсе необходимо зарегистрироваться на странице конкурса и в БК «Олимп». Отпразднуй «Новый год по-английски»!\", \"tag\": \"Английский футбол\", \"date\": 818}\n"
          ]
        }
      ]
    },
    {
      "cell_type": "markdown",
      "source": [
        "Построение индекса"
      ],
      "metadata": {
        "id": "Z0hWNGTrLvsG"
      }
    },
    {
      "cell_type": "code",
      "source": [
        "INDEX_DIR = 'new_data/index/lenta'\n",
        "if not os.path.exists(INDEX_DIR):\n",
        "    os.makedirs(INDEX_DIR)"
      ],
      "metadata": {
        "id": "Mjw-Na4dLxt6"
      },
      "execution_count": 46,
      "outputs": []
    },
    {
      "cell_type": "code",
      "source": [
        "!python -m pyserini.index -collection JsonCollection -generator DefaultLuceneDocumentGenerator \\\n",
        " -threads 16 -input {COLLECTION_DIR} \\\n",
        " -index {INDEX_DIR} -storePositions -storeDocvectors -storeRaw"
      ],
      "metadata": {
        "id": "9Cz3d1UqL4_s"
      },
      "execution_count": null,
      "outputs": []
    },
    {
      "cell_type": "markdown",
      "source": [
        "## Испльзуем поисковый индекс\n"
      ],
      "metadata": {
        "id": "SXK-j8KGNOXk"
      }
    },
    {
      "cell_type": "markdown",
      "source": [
        "* BM-25\n",
        "\n",
        "Пусть дан запрос Q, содержащий слова q_1,...,q_n тогда функция BM25 дает следующую оценку релеваности документа D запросу Q\n",
        "\n",
        "\\begin{align}\n",
        "        \\mathbf{score(D,Q)} &= \\sum_{i=1}^n \n",
        "        \\mathbf{IDF(q_i)}) \\cdot \\frac{tf(q_i, D) \\cdot (k_1 + 1)}{tf(q_i, D) +  k_1 \\cdot (1 - b + b \\cdot \\frac{|D|}{avgdl})}\n",
        "    \\end{align}\n",
        "\n",
        "где tf(q_i, D) есть частота слова q_i в документе D, |D| есть длина документа, а avgdl- средняя длина документа в коллекции. k1 и b - свободные коэффициенты"
      ],
      "metadata": {
        "id": "YffeeggfNVw6"
      }
    },
    {
      "cell_type": "code",
      "source": [
        "# код не работает\n",
        "\n",
        "# searcher = SimpleSearcher(INDEX_DIR)\n",
        "# searcher.set_bm25()\n",
        "# hits = searcher.search('Поисковик', k=1)\n",
        "\n",
        "# for i in range(len(hits)):\n",
        "#     doc = searcher.doc(hits[i].docid)\n",
        "#     print(doc.raw())"
      ],
      "metadata": {
        "id": "x0_xEAprMSKq"
      },
      "execution_count": null,
      "outputs": []
    },
    {
      "cell_type": "markdown",
      "source": [
        "* QLD\n",
        "\n",
        "Идея: латентное размещение Дирихле (отсылка к тематическим моделям)"
      ],
      "metadata": {
        "id": "flIQyKWWSeK4"
      }
    },
    {
      "cell_type": "code",
      "source": [
        "# код не работает\n",
        "\n",
        "# searcher = SimpleSearcher(INDEX_DIR)\n",
        "# searcher.set_qld()\n",
        "# hits = searcher.search('Поисковик', k=1)\n",
        "\n",
        "# for i in range(len(hits)):\n",
        "#     doc = searcher.doc(hits[i].docid)\n",
        "#     print(doc.raw())"
      ],
      "metadata": {
        "id": "KFsnbUkGSUt_"
      },
      "execution_count": null,
      "outputs": []
    },
    {
      "cell_type": "markdown",
      "source": [
        "* RM3\n",
        "\n",
        "Пусть дан запрос Q, содержащий слова q_1,...,q_n тогда функция BM25 дает следующую оценку релеваности токена t запросу Q\n",
        "\n",
        "\\begin{align}\n",
        "        \\mathbf{score(t,Q)} &= \\alpha \\cdot softmax \\left( \\sum_{d\\in{PRD}}^{} \\left[\\frac{tf(t, D)}{|d|} \\cdot \\prod_{i=1}^k \\frac{tf(q_i, d)+μp(q_i)}{|d|+μ} \\right]\\right) + (1-α) \\cdot \\left(\\frac{tf(t, Q)}{|Q|}\\right)\n",
        "    \\end{align}\n",
        "\n",
        "\n",
        "где tf(t, D) есть частота токена t в документе d, |d| есть длина документа, а avgdl- средняя длина документа в коллекции. a и m - свободные коэффициенты"
      ],
      "metadata": {
        "id": "WKAGlQSkSjWD"
      }
    },
    {
      "cell_type": "code",
      "source": [
        "# код не работает\n",
        "\n",
        "# searcher = SimpleSearcher(INDEX_DIR)\n",
        "# searcher.set_rm3()\n",
        "# hits = searcher.search('Поисковик', k=1)\n",
        "\n",
        "# for i in range(len(hits)):\n",
        "#     doc = searcher.doc(hits[i].docid)\n",
        "#     print(doc.raw())"
      ],
      "metadata": {
        "id": "npTm653rSU1q"
      },
      "execution_count": null,
      "outputs": []
    }
  ]
}