{
  "nbformat": 4,
  "nbformat_minor": 0,
  "metadata": {
    "colab": {
      "provenance": [],
      "authorship_tag": "ABX9TyNwu6C54V8XwMmZaNluails",
      "include_colab_link": true
    },
    "kernelspec": {
      "name": "python3",
      "display_name": "Python 3"
    },
    "language_info": {
      "name": "python"
    },
    "widgets": {
      "application/vnd.jupyter.widget-state+json": {
        "26b94bd703fb4a0cba84aeafecefefb4": {
          "model_module": "@jupyter-widgets/controls",
          "model_name": "HBoxModel",
          "model_module_version": "1.5.0",
          "state": {
            "_dom_classes": [],
            "_model_module": "@jupyter-widgets/controls",
            "_model_module_version": "1.5.0",
            "_model_name": "HBoxModel",
            "_view_count": null,
            "_view_module": "@jupyter-widgets/controls",
            "_view_module_version": "1.5.0",
            "_view_name": "HBoxView",
            "box_style": "",
            "children": [
              "IPY_MODEL_0a0a7b06cadb4d77959f018b1fb1dcc5",
              "IPY_MODEL_3170eb78c3ee4fc784f7d7536efaa168",
              "IPY_MODEL_34ba0fe4bca74962b4b1c9cc65a47eac"
            ],
            "layout": "IPY_MODEL_6412e79a85c047aa804ec7648b6b22aa"
          }
        },
        "0a0a7b06cadb4d77959f018b1fb1dcc5": {
          "model_module": "@jupyter-widgets/controls",
          "model_name": "HTMLModel",
          "model_module_version": "1.5.0",
          "state": {
            "_dom_classes": [],
            "_model_module": "@jupyter-widgets/controls",
            "_model_module_version": "1.5.0",
            "_model_name": "HTMLModel",
            "_view_count": null,
            "_view_module": "@jupyter-widgets/controls",
            "_view_module_version": "1.5.0",
            "_view_name": "HTMLView",
            "description": "",
            "description_tooltip": null,
            "layout": "IPY_MODEL_ce1cd7e4043e4727882863d2707c6d67",
            "placeholder": "​",
            "style": "IPY_MODEL_37df412a4d254074acdb88ccc7bf466a",
            "value": "Downloading: 100%"
          }
        },
        "3170eb78c3ee4fc784f7d7536efaa168": {
          "model_module": "@jupyter-widgets/controls",
          "model_name": "FloatProgressModel",
          "model_module_version": "1.5.0",
          "state": {
            "_dom_classes": [],
            "_model_module": "@jupyter-widgets/controls",
            "_model_module_version": "1.5.0",
            "_model_name": "FloatProgressModel",
            "_view_count": null,
            "_view_module": "@jupyter-widgets/controls",
            "_view_module_version": "1.5.0",
            "_view_name": "ProgressView",
            "bar_style": "success",
            "description": "",
            "description_tooltip": null,
            "layout": "IPY_MODEL_f8eaa8fb6acc481aaacaf2cf4cbf0014",
            "max": 28,
            "min": 0,
            "orientation": "horizontal",
            "style": "IPY_MODEL_dc73ab8ccd094c54885b338dace76ea3",
            "value": 28
          }
        },
        "34ba0fe4bca74962b4b1c9cc65a47eac": {
          "model_module": "@jupyter-widgets/controls",
          "model_name": "HTMLModel",
          "model_module_version": "1.5.0",
          "state": {
            "_dom_classes": [],
            "_model_module": "@jupyter-widgets/controls",
            "_model_module_version": "1.5.0",
            "_model_name": "HTMLModel",
            "_view_count": null,
            "_view_module": "@jupyter-widgets/controls",
            "_view_module_version": "1.5.0",
            "_view_name": "HTMLView",
            "description": "",
            "description_tooltip": null,
            "layout": "IPY_MODEL_c88910b8edf84d44b5c5e4500df7a3fb",
            "placeholder": "​",
            "style": "IPY_MODEL_d403556d54ad4d41bc32b0ed60018b89",
            "value": " 28.0/28.0 [00:00&lt;00:00, 404B/s]"
          }
        },
        "6412e79a85c047aa804ec7648b6b22aa": {
          "model_module": "@jupyter-widgets/base",
          "model_name": "LayoutModel",
          "model_module_version": "1.2.0",
          "state": {
            "_model_module": "@jupyter-widgets/base",
            "_model_module_version": "1.2.0",
            "_model_name": "LayoutModel",
            "_view_count": null,
            "_view_module": "@jupyter-widgets/base",
            "_view_module_version": "1.2.0",
            "_view_name": "LayoutView",
            "align_content": null,
            "align_items": null,
            "align_self": null,
            "border": null,
            "bottom": null,
            "display": null,
            "flex": null,
            "flex_flow": null,
            "grid_area": null,
            "grid_auto_columns": null,
            "grid_auto_flow": null,
            "grid_auto_rows": null,
            "grid_column": null,
            "grid_gap": null,
            "grid_row": null,
            "grid_template_areas": null,
            "grid_template_columns": null,
            "grid_template_rows": null,
            "height": null,
            "justify_content": null,
            "justify_items": null,
            "left": null,
            "margin": null,
            "max_height": null,
            "max_width": null,
            "min_height": null,
            "min_width": null,
            "object_fit": null,
            "object_position": null,
            "order": null,
            "overflow": null,
            "overflow_x": null,
            "overflow_y": null,
            "padding": null,
            "right": null,
            "top": null,
            "visibility": null,
            "width": null
          }
        },
        "ce1cd7e4043e4727882863d2707c6d67": {
          "model_module": "@jupyter-widgets/base",
          "model_name": "LayoutModel",
          "model_module_version": "1.2.0",
          "state": {
            "_model_module": "@jupyter-widgets/base",
            "_model_module_version": "1.2.0",
            "_model_name": "LayoutModel",
            "_view_count": null,
            "_view_module": "@jupyter-widgets/base",
            "_view_module_version": "1.2.0",
            "_view_name": "LayoutView",
            "align_content": null,
            "align_items": null,
            "align_self": null,
            "border": null,
            "bottom": null,
            "display": null,
            "flex": null,
            "flex_flow": null,
            "grid_area": null,
            "grid_auto_columns": null,
            "grid_auto_flow": null,
            "grid_auto_rows": null,
            "grid_column": null,
            "grid_gap": null,
            "grid_row": null,
            "grid_template_areas": null,
            "grid_template_columns": null,
            "grid_template_rows": null,
            "height": null,
            "justify_content": null,
            "justify_items": null,
            "left": null,
            "margin": null,
            "max_height": null,
            "max_width": null,
            "min_height": null,
            "min_width": null,
            "object_fit": null,
            "object_position": null,
            "order": null,
            "overflow": null,
            "overflow_x": null,
            "overflow_y": null,
            "padding": null,
            "right": null,
            "top": null,
            "visibility": null,
            "width": null
          }
        },
        "37df412a4d254074acdb88ccc7bf466a": {
          "model_module": "@jupyter-widgets/controls",
          "model_name": "DescriptionStyleModel",
          "model_module_version": "1.5.0",
          "state": {
            "_model_module": "@jupyter-widgets/controls",
            "_model_module_version": "1.5.0",
            "_model_name": "DescriptionStyleModel",
            "_view_count": null,
            "_view_module": "@jupyter-widgets/base",
            "_view_module_version": "1.2.0",
            "_view_name": "StyleView",
            "description_width": ""
          }
        },
        "f8eaa8fb6acc481aaacaf2cf4cbf0014": {
          "model_module": "@jupyter-widgets/base",
          "model_name": "LayoutModel",
          "model_module_version": "1.2.0",
          "state": {
            "_model_module": "@jupyter-widgets/base",
            "_model_module_version": "1.2.0",
            "_model_name": "LayoutModel",
            "_view_count": null,
            "_view_module": "@jupyter-widgets/base",
            "_view_module_version": "1.2.0",
            "_view_name": "LayoutView",
            "align_content": null,
            "align_items": null,
            "align_self": null,
            "border": null,
            "bottom": null,
            "display": null,
            "flex": null,
            "flex_flow": null,
            "grid_area": null,
            "grid_auto_columns": null,
            "grid_auto_flow": null,
            "grid_auto_rows": null,
            "grid_column": null,
            "grid_gap": null,
            "grid_row": null,
            "grid_template_areas": null,
            "grid_template_columns": null,
            "grid_template_rows": null,
            "height": null,
            "justify_content": null,
            "justify_items": null,
            "left": null,
            "margin": null,
            "max_height": null,
            "max_width": null,
            "min_height": null,
            "min_width": null,
            "object_fit": null,
            "object_position": null,
            "order": null,
            "overflow": null,
            "overflow_x": null,
            "overflow_y": null,
            "padding": null,
            "right": null,
            "top": null,
            "visibility": null,
            "width": null
          }
        },
        "dc73ab8ccd094c54885b338dace76ea3": {
          "model_module": "@jupyter-widgets/controls",
          "model_name": "ProgressStyleModel",
          "model_module_version": "1.5.0",
          "state": {
            "_model_module": "@jupyter-widgets/controls",
            "_model_module_version": "1.5.0",
            "_model_name": "ProgressStyleModel",
            "_view_count": null,
            "_view_module": "@jupyter-widgets/base",
            "_view_module_version": "1.2.0",
            "_view_name": "StyleView",
            "bar_color": null,
            "description_width": ""
          }
        },
        "c88910b8edf84d44b5c5e4500df7a3fb": {
          "model_module": "@jupyter-widgets/base",
          "model_name": "LayoutModel",
          "model_module_version": "1.2.0",
          "state": {
            "_model_module": "@jupyter-widgets/base",
            "_model_module_version": "1.2.0",
            "_model_name": "LayoutModel",
            "_view_count": null,
            "_view_module": "@jupyter-widgets/base",
            "_view_module_version": "1.2.0",
            "_view_name": "LayoutView",
            "align_content": null,
            "align_items": null,
            "align_self": null,
            "border": null,
            "bottom": null,
            "display": null,
            "flex": null,
            "flex_flow": null,
            "grid_area": null,
            "grid_auto_columns": null,
            "grid_auto_flow": null,
            "grid_auto_rows": null,
            "grid_column": null,
            "grid_gap": null,
            "grid_row": null,
            "grid_template_areas": null,
            "grid_template_columns": null,
            "grid_template_rows": null,
            "height": null,
            "justify_content": null,
            "justify_items": null,
            "left": null,
            "margin": null,
            "max_height": null,
            "max_width": null,
            "min_height": null,
            "min_width": null,
            "object_fit": null,
            "object_position": null,
            "order": null,
            "overflow": null,
            "overflow_x": null,
            "overflow_y": null,
            "padding": null,
            "right": null,
            "top": null,
            "visibility": null,
            "width": null
          }
        },
        "d403556d54ad4d41bc32b0ed60018b89": {
          "model_module": "@jupyter-widgets/controls",
          "model_name": "DescriptionStyleModel",
          "model_module_version": "1.5.0",
          "state": {
            "_model_module": "@jupyter-widgets/controls",
            "_model_module_version": "1.5.0",
            "_model_name": "DescriptionStyleModel",
            "_view_count": null,
            "_view_module": "@jupyter-widgets/base",
            "_view_module_version": "1.2.0",
            "_view_name": "StyleView",
            "description_width": ""
          }
        },
        "cd6c959624fd4d329f69ed675c77f1fb": {
          "model_module": "@jupyter-widgets/controls",
          "model_name": "HBoxModel",
          "model_module_version": "1.5.0",
          "state": {
            "_dom_classes": [],
            "_model_module": "@jupyter-widgets/controls",
            "_model_module_version": "1.5.0",
            "_model_name": "HBoxModel",
            "_view_count": null,
            "_view_module": "@jupyter-widgets/controls",
            "_view_module_version": "1.5.0",
            "_view_name": "HBoxView",
            "box_style": "",
            "children": [
              "IPY_MODEL_6656141c8a394f04a9b44b2d316a4667",
              "IPY_MODEL_a4c097d1a5f44e3684fc49982b041a01",
              "IPY_MODEL_b74ea94f1fdb47bfadb88afb9af26cc9"
            ],
            "layout": "IPY_MODEL_b28f427b8767446a80d1a7eabbfec6d7"
          }
        },
        "6656141c8a394f04a9b44b2d316a4667": {
          "model_module": "@jupyter-widgets/controls",
          "model_name": "HTMLModel",
          "model_module_version": "1.5.0",
          "state": {
            "_dom_classes": [],
            "_model_module": "@jupyter-widgets/controls",
            "_model_module_version": "1.5.0",
            "_model_name": "HTMLModel",
            "_view_count": null,
            "_view_module": "@jupyter-widgets/controls",
            "_view_module_version": "1.5.0",
            "_view_name": "HTMLView",
            "description": "",
            "description_tooltip": null,
            "layout": "IPY_MODEL_81f0b03a5f40412e9593c8f9e1b35108",
            "placeholder": "​",
            "style": "IPY_MODEL_7f2ed43ce09b4e798f17154c2432dba4",
            "value": "Downloading: 100%"
          }
        },
        "a4c097d1a5f44e3684fc49982b041a01": {
          "model_module": "@jupyter-widgets/controls",
          "model_name": "FloatProgressModel",
          "model_module_version": "1.5.0",
          "state": {
            "_dom_classes": [],
            "_model_module": "@jupyter-widgets/controls",
            "_model_module_version": "1.5.0",
            "_model_name": "FloatProgressModel",
            "_view_count": null,
            "_view_module": "@jupyter-widgets/controls",
            "_view_module_version": "1.5.0",
            "_view_name": "ProgressView",
            "bar_style": "success",
            "description": "",
            "description_tooltip": null,
            "layout": "IPY_MODEL_9d7e2aff3de24347aa996ca8790099eb",
            "max": 625,
            "min": 0,
            "orientation": "horizontal",
            "style": "IPY_MODEL_97352c386ffc47c18b29b1ef4b904c6b",
            "value": 625
          }
        },
        "b74ea94f1fdb47bfadb88afb9af26cc9": {
          "model_module": "@jupyter-widgets/controls",
          "model_name": "HTMLModel",
          "model_module_version": "1.5.0",
          "state": {
            "_dom_classes": [],
            "_model_module": "@jupyter-widgets/controls",
            "_model_module_version": "1.5.0",
            "_model_name": "HTMLModel",
            "_view_count": null,
            "_view_module": "@jupyter-widgets/controls",
            "_view_module_version": "1.5.0",
            "_view_name": "HTMLView",
            "description": "",
            "description_tooltip": null,
            "layout": "IPY_MODEL_9a541c257fff4065ac163c03b63a85d6",
            "placeholder": "​",
            "style": "IPY_MODEL_24cf82fc45764a63b1d1739f63192a9f",
            "value": " 625/625 [00:00&lt;00:00, 6.38kB/s]"
          }
        },
        "b28f427b8767446a80d1a7eabbfec6d7": {
          "model_module": "@jupyter-widgets/base",
          "model_name": "LayoutModel",
          "model_module_version": "1.2.0",
          "state": {
            "_model_module": "@jupyter-widgets/base",
            "_model_module_version": "1.2.0",
            "_model_name": "LayoutModel",
            "_view_count": null,
            "_view_module": "@jupyter-widgets/base",
            "_view_module_version": "1.2.0",
            "_view_name": "LayoutView",
            "align_content": null,
            "align_items": null,
            "align_self": null,
            "border": null,
            "bottom": null,
            "display": null,
            "flex": null,
            "flex_flow": null,
            "grid_area": null,
            "grid_auto_columns": null,
            "grid_auto_flow": null,
            "grid_auto_rows": null,
            "grid_column": null,
            "grid_gap": null,
            "grid_row": null,
            "grid_template_areas": null,
            "grid_template_columns": null,
            "grid_template_rows": null,
            "height": null,
            "justify_content": null,
            "justify_items": null,
            "left": null,
            "margin": null,
            "max_height": null,
            "max_width": null,
            "min_height": null,
            "min_width": null,
            "object_fit": null,
            "object_position": null,
            "order": null,
            "overflow": null,
            "overflow_x": null,
            "overflow_y": null,
            "padding": null,
            "right": null,
            "top": null,
            "visibility": null,
            "width": null
          }
        },
        "81f0b03a5f40412e9593c8f9e1b35108": {
          "model_module": "@jupyter-widgets/base",
          "model_name": "LayoutModel",
          "model_module_version": "1.2.0",
          "state": {
            "_model_module": "@jupyter-widgets/base",
            "_model_module_version": "1.2.0",
            "_model_name": "LayoutModel",
            "_view_count": null,
            "_view_module": "@jupyter-widgets/base",
            "_view_module_version": "1.2.0",
            "_view_name": "LayoutView",
            "align_content": null,
            "align_items": null,
            "align_self": null,
            "border": null,
            "bottom": null,
            "display": null,
            "flex": null,
            "flex_flow": null,
            "grid_area": null,
            "grid_auto_columns": null,
            "grid_auto_flow": null,
            "grid_auto_rows": null,
            "grid_column": null,
            "grid_gap": null,
            "grid_row": null,
            "grid_template_areas": null,
            "grid_template_columns": null,
            "grid_template_rows": null,
            "height": null,
            "justify_content": null,
            "justify_items": null,
            "left": null,
            "margin": null,
            "max_height": null,
            "max_width": null,
            "min_height": null,
            "min_width": null,
            "object_fit": null,
            "object_position": null,
            "order": null,
            "overflow": null,
            "overflow_x": null,
            "overflow_y": null,
            "padding": null,
            "right": null,
            "top": null,
            "visibility": null,
            "width": null
          }
        },
        "7f2ed43ce09b4e798f17154c2432dba4": {
          "model_module": "@jupyter-widgets/controls",
          "model_name": "DescriptionStyleModel",
          "model_module_version": "1.5.0",
          "state": {
            "_model_module": "@jupyter-widgets/controls",
            "_model_module_version": "1.5.0",
            "_model_name": "DescriptionStyleModel",
            "_view_count": null,
            "_view_module": "@jupyter-widgets/base",
            "_view_module_version": "1.2.0",
            "_view_name": "StyleView",
            "description_width": ""
          }
        },
        "9d7e2aff3de24347aa996ca8790099eb": {
          "model_module": "@jupyter-widgets/base",
          "model_name": "LayoutModel",
          "model_module_version": "1.2.0",
          "state": {
            "_model_module": "@jupyter-widgets/base",
            "_model_module_version": "1.2.0",
            "_model_name": "LayoutModel",
            "_view_count": null,
            "_view_module": "@jupyter-widgets/base",
            "_view_module_version": "1.2.0",
            "_view_name": "LayoutView",
            "align_content": null,
            "align_items": null,
            "align_self": null,
            "border": null,
            "bottom": null,
            "display": null,
            "flex": null,
            "flex_flow": null,
            "grid_area": null,
            "grid_auto_columns": null,
            "grid_auto_flow": null,
            "grid_auto_rows": null,
            "grid_column": null,
            "grid_gap": null,
            "grid_row": null,
            "grid_template_areas": null,
            "grid_template_columns": null,
            "grid_template_rows": null,
            "height": null,
            "justify_content": null,
            "justify_items": null,
            "left": null,
            "margin": null,
            "max_height": null,
            "max_width": null,
            "min_height": null,
            "min_width": null,
            "object_fit": null,
            "object_position": null,
            "order": null,
            "overflow": null,
            "overflow_x": null,
            "overflow_y": null,
            "padding": null,
            "right": null,
            "top": null,
            "visibility": null,
            "width": null
          }
        },
        "97352c386ffc47c18b29b1ef4b904c6b": {
          "model_module": "@jupyter-widgets/controls",
          "model_name": "ProgressStyleModel",
          "model_module_version": "1.5.0",
          "state": {
            "_model_module": "@jupyter-widgets/controls",
            "_model_module_version": "1.5.0",
            "_model_name": "ProgressStyleModel",
            "_view_count": null,
            "_view_module": "@jupyter-widgets/base",
            "_view_module_version": "1.2.0",
            "_view_name": "StyleView",
            "bar_color": null,
            "description_width": ""
          }
        },
        "9a541c257fff4065ac163c03b63a85d6": {
          "model_module": "@jupyter-widgets/base",
          "model_name": "LayoutModel",
          "model_module_version": "1.2.0",
          "state": {
            "_model_module": "@jupyter-widgets/base",
            "_model_module_version": "1.2.0",
            "_model_name": "LayoutModel",
            "_view_count": null,
            "_view_module": "@jupyter-widgets/base",
            "_view_module_version": "1.2.0",
            "_view_name": "LayoutView",
            "align_content": null,
            "align_items": null,
            "align_self": null,
            "border": null,
            "bottom": null,
            "display": null,
            "flex": null,
            "flex_flow": null,
            "grid_area": null,
            "grid_auto_columns": null,
            "grid_auto_flow": null,
            "grid_auto_rows": null,
            "grid_column": null,
            "grid_gap": null,
            "grid_row": null,
            "grid_template_areas": null,
            "grid_template_columns": null,
            "grid_template_rows": null,
            "height": null,
            "justify_content": null,
            "justify_items": null,
            "left": null,
            "margin": null,
            "max_height": null,
            "max_width": null,
            "min_height": null,
            "min_width": null,
            "object_fit": null,
            "object_position": null,
            "order": null,
            "overflow": null,
            "overflow_x": null,
            "overflow_y": null,
            "padding": null,
            "right": null,
            "top": null,
            "visibility": null,
            "width": null
          }
        },
        "24cf82fc45764a63b1d1739f63192a9f": {
          "model_module": "@jupyter-widgets/controls",
          "model_name": "DescriptionStyleModel",
          "model_module_version": "1.5.0",
          "state": {
            "_model_module": "@jupyter-widgets/controls",
            "_model_module_version": "1.5.0",
            "_model_name": "DescriptionStyleModel",
            "_view_count": null,
            "_view_module": "@jupyter-widgets/base",
            "_view_module_version": "1.2.0",
            "_view_name": "StyleView",
            "description_width": ""
          }
        },
        "77ab46a0013f41e4b1c43f9ce484d602": {
          "model_module": "@jupyter-widgets/controls",
          "model_name": "HBoxModel",
          "model_module_version": "1.5.0",
          "state": {
            "_dom_classes": [],
            "_model_module": "@jupyter-widgets/controls",
            "_model_module_version": "1.5.0",
            "_model_name": "HBoxModel",
            "_view_count": null,
            "_view_module": "@jupyter-widgets/controls",
            "_view_module_version": "1.5.0",
            "_view_name": "HBoxView",
            "box_style": "",
            "children": [
              "IPY_MODEL_218dddda282c4dc7ad748b16f9543ec9",
              "IPY_MODEL_ef611b553adb43f692c2307cd6213b87",
              "IPY_MODEL_83eeb882f42547fda3ad6971c45c1b29"
            ],
            "layout": "IPY_MODEL_17ce4d91624b452abceeb5c61ffb6447"
          }
        },
        "218dddda282c4dc7ad748b16f9543ec9": {
          "model_module": "@jupyter-widgets/controls",
          "model_name": "HTMLModel",
          "model_module_version": "1.5.0",
          "state": {
            "_dom_classes": [],
            "_model_module": "@jupyter-widgets/controls",
            "_model_module_version": "1.5.0",
            "_model_name": "HTMLModel",
            "_view_count": null,
            "_view_module": "@jupyter-widgets/controls",
            "_view_module_version": "1.5.0",
            "_view_name": "HTMLView",
            "description": "",
            "description_tooltip": null,
            "layout": "IPY_MODEL_27b828c202d64470af1acee12cc77d57",
            "placeholder": "​",
            "style": "IPY_MODEL_af34cd7927ed4c149bd158fb13c7f991",
            "value": "Downloading: 100%"
          }
        },
        "ef611b553adb43f692c2307cd6213b87": {
          "model_module": "@jupyter-widgets/controls",
          "model_name": "FloatProgressModel",
          "model_module_version": "1.5.0",
          "state": {
            "_dom_classes": [],
            "_model_module": "@jupyter-widgets/controls",
            "_model_module_version": "1.5.0",
            "_model_name": "FloatProgressModel",
            "_view_count": null,
            "_view_module": "@jupyter-widgets/controls",
            "_view_module_version": "1.5.0",
            "_view_name": "ProgressView",
            "bar_style": "success",
            "description": "",
            "description_tooltip": null,
            "layout": "IPY_MODEL_968c4c2668ce483293a4ddb302a5b710",
            "max": 871891,
            "min": 0,
            "orientation": "horizontal",
            "style": "IPY_MODEL_f86e20f4f8634a63b432ea9cec40febd",
            "value": 871891
          }
        },
        "83eeb882f42547fda3ad6971c45c1b29": {
          "model_module": "@jupyter-widgets/controls",
          "model_name": "HTMLModel",
          "model_module_version": "1.5.0",
          "state": {
            "_dom_classes": [],
            "_model_module": "@jupyter-widgets/controls",
            "_model_module_version": "1.5.0",
            "_model_name": "HTMLModel",
            "_view_count": null,
            "_view_module": "@jupyter-widgets/controls",
            "_view_module_version": "1.5.0",
            "_view_name": "HTMLView",
            "description": "",
            "description_tooltip": null,
            "layout": "IPY_MODEL_de6033bb93ed49f78e7d25a48ab719a0",
            "placeholder": "​",
            "style": "IPY_MODEL_76808daaa53c4446bd92d1669ad1f426",
            "value": " 872k/872k [00:00&lt;00:00, 2.74MB/s]"
          }
        },
        "17ce4d91624b452abceeb5c61ffb6447": {
          "model_module": "@jupyter-widgets/base",
          "model_name": "LayoutModel",
          "model_module_version": "1.2.0",
          "state": {
            "_model_module": "@jupyter-widgets/base",
            "_model_module_version": "1.2.0",
            "_model_name": "LayoutModel",
            "_view_count": null,
            "_view_module": "@jupyter-widgets/base",
            "_view_module_version": "1.2.0",
            "_view_name": "LayoutView",
            "align_content": null,
            "align_items": null,
            "align_self": null,
            "border": null,
            "bottom": null,
            "display": null,
            "flex": null,
            "flex_flow": null,
            "grid_area": null,
            "grid_auto_columns": null,
            "grid_auto_flow": null,
            "grid_auto_rows": null,
            "grid_column": null,
            "grid_gap": null,
            "grid_row": null,
            "grid_template_areas": null,
            "grid_template_columns": null,
            "grid_template_rows": null,
            "height": null,
            "justify_content": null,
            "justify_items": null,
            "left": null,
            "margin": null,
            "max_height": null,
            "max_width": null,
            "min_height": null,
            "min_width": null,
            "object_fit": null,
            "object_position": null,
            "order": null,
            "overflow": null,
            "overflow_x": null,
            "overflow_y": null,
            "padding": null,
            "right": null,
            "top": null,
            "visibility": null,
            "width": null
          }
        },
        "27b828c202d64470af1acee12cc77d57": {
          "model_module": "@jupyter-widgets/base",
          "model_name": "LayoutModel",
          "model_module_version": "1.2.0",
          "state": {
            "_model_module": "@jupyter-widgets/base",
            "_model_module_version": "1.2.0",
            "_model_name": "LayoutModel",
            "_view_count": null,
            "_view_module": "@jupyter-widgets/base",
            "_view_module_version": "1.2.0",
            "_view_name": "LayoutView",
            "align_content": null,
            "align_items": null,
            "align_self": null,
            "border": null,
            "bottom": null,
            "display": null,
            "flex": null,
            "flex_flow": null,
            "grid_area": null,
            "grid_auto_columns": null,
            "grid_auto_flow": null,
            "grid_auto_rows": null,
            "grid_column": null,
            "grid_gap": null,
            "grid_row": null,
            "grid_template_areas": null,
            "grid_template_columns": null,
            "grid_template_rows": null,
            "height": null,
            "justify_content": null,
            "justify_items": null,
            "left": null,
            "margin": null,
            "max_height": null,
            "max_width": null,
            "min_height": null,
            "min_width": null,
            "object_fit": null,
            "object_position": null,
            "order": null,
            "overflow": null,
            "overflow_x": null,
            "overflow_y": null,
            "padding": null,
            "right": null,
            "top": null,
            "visibility": null,
            "width": null
          }
        },
        "af34cd7927ed4c149bd158fb13c7f991": {
          "model_module": "@jupyter-widgets/controls",
          "model_name": "DescriptionStyleModel",
          "model_module_version": "1.5.0",
          "state": {
            "_model_module": "@jupyter-widgets/controls",
            "_model_module_version": "1.5.0",
            "_model_name": "DescriptionStyleModel",
            "_view_count": null,
            "_view_module": "@jupyter-widgets/base",
            "_view_module_version": "1.2.0",
            "_view_name": "StyleView",
            "description_width": ""
          }
        },
        "968c4c2668ce483293a4ddb302a5b710": {
          "model_module": "@jupyter-widgets/base",
          "model_name": "LayoutModel",
          "model_module_version": "1.2.0",
          "state": {
            "_model_module": "@jupyter-widgets/base",
            "_model_module_version": "1.2.0",
            "_model_name": "LayoutModel",
            "_view_count": null,
            "_view_module": "@jupyter-widgets/base",
            "_view_module_version": "1.2.0",
            "_view_name": "LayoutView",
            "align_content": null,
            "align_items": null,
            "align_self": null,
            "border": null,
            "bottom": null,
            "display": null,
            "flex": null,
            "flex_flow": null,
            "grid_area": null,
            "grid_auto_columns": null,
            "grid_auto_flow": null,
            "grid_auto_rows": null,
            "grid_column": null,
            "grid_gap": null,
            "grid_row": null,
            "grid_template_areas": null,
            "grid_template_columns": null,
            "grid_template_rows": null,
            "height": null,
            "justify_content": null,
            "justify_items": null,
            "left": null,
            "margin": null,
            "max_height": null,
            "max_width": null,
            "min_height": null,
            "min_width": null,
            "object_fit": null,
            "object_position": null,
            "order": null,
            "overflow": null,
            "overflow_x": null,
            "overflow_y": null,
            "padding": null,
            "right": null,
            "top": null,
            "visibility": null,
            "width": null
          }
        },
        "f86e20f4f8634a63b432ea9cec40febd": {
          "model_module": "@jupyter-widgets/controls",
          "model_name": "ProgressStyleModel",
          "model_module_version": "1.5.0",
          "state": {
            "_model_module": "@jupyter-widgets/controls",
            "_model_module_version": "1.5.0",
            "_model_name": "ProgressStyleModel",
            "_view_count": null,
            "_view_module": "@jupyter-widgets/base",
            "_view_module_version": "1.2.0",
            "_view_name": "StyleView",
            "bar_color": null,
            "description_width": ""
          }
        },
        "de6033bb93ed49f78e7d25a48ab719a0": {
          "model_module": "@jupyter-widgets/base",
          "model_name": "LayoutModel",
          "model_module_version": "1.2.0",
          "state": {
            "_model_module": "@jupyter-widgets/base",
            "_model_module_version": "1.2.0",
            "_model_name": "LayoutModel",
            "_view_count": null,
            "_view_module": "@jupyter-widgets/base",
            "_view_module_version": "1.2.0",
            "_view_name": "LayoutView",
            "align_content": null,
            "align_items": null,
            "align_self": null,
            "border": null,
            "bottom": null,
            "display": null,
            "flex": null,
            "flex_flow": null,
            "grid_area": null,
            "grid_auto_columns": null,
            "grid_auto_flow": null,
            "grid_auto_rows": null,
            "grid_column": null,
            "grid_gap": null,
            "grid_row": null,
            "grid_template_areas": null,
            "grid_template_columns": null,
            "grid_template_rows": null,
            "height": null,
            "justify_content": null,
            "justify_items": null,
            "left": null,
            "margin": null,
            "max_height": null,
            "max_width": null,
            "min_height": null,
            "min_width": null,
            "object_fit": null,
            "object_position": null,
            "order": null,
            "overflow": null,
            "overflow_x": null,
            "overflow_y": null,
            "padding": null,
            "right": null,
            "top": null,
            "visibility": null,
            "width": null
          }
        },
        "76808daaa53c4446bd92d1669ad1f426": {
          "model_module": "@jupyter-widgets/controls",
          "model_name": "DescriptionStyleModel",
          "model_module_version": "1.5.0",
          "state": {
            "_model_module": "@jupyter-widgets/controls",
            "_model_module_version": "1.5.0",
            "_model_name": "DescriptionStyleModel",
            "_view_count": null,
            "_view_module": "@jupyter-widgets/base",
            "_view_module_version": "1.2.0",
            "_view_name": "StyleView",
            "description_width": ""
          }
        },
        "87d034df3a334a5da1ccba56f0290056": {
          "model_module": "@jupyter-widgets/controls",
          "model_name": "HBoxModel",
          "model_module_version": "1.5.0",
          "state": {
            "_dom_classes": [],
            "_model_module": "@jupyter-widgets/controls",
            "_model_module_version": "1.5.0",
            "_model_name": "HBoxModel",
            "_view_count": null,
            "_view_module": "@jupyter-widgets/controls",
            "_view_module_version": "1.5.0",
            "_view_name": "HBoxView",
            "box_style": "",
            "children": [
              "IPY_MODEL_94914a0f3d1e41029c8bb0edae3621bd",
              "IPY_MODEL_983c667d2f7249468555cbfeda62df98",
              "IPY_MODEL_f965226933a14e02a892b0b3ff3efd88"
            ],
            "layout": "IPY_MODEL_8732077c5aae4349afb3016cdf4c7b45"
          }
        },
        "94914a0f3d1e41029c8bb0edae3621bd": {
          "model_module": "@jupyter-widgets/controls",
          "model_name": "HTMLModel",
          "model_module_version": "1.5.0",
          "state": {
            "_dom_classes": [],
            "_model_module": "@jupyter-widgets/controls",
            "_model_module_version": "1.5.0",
            "_model_name": "HTMLModel",
            "_view_count": null,
            "_view_module": "@jupyter-widgets/controls",
            "_view_module_version": "1.5.0",
            "_view_name": "HTMLView",
            "description": "",
            "description_tooltip": null,
            "layout": "IPY_MODEL_6cec65e3cb4447a2a6e472b275b9f936",
            "placeholder": "​",
            "style": "IPY_MODEL_cac797ef2bbd40ebaa4247ecfd164311",
            "value": "Downloading: 100%"
          }
        },
        "983c667d2f7249468555cbfeda62df98": {
          "model_module": "@jupyter-widgets/controls",
          "model_name": "FloatProgressModel",
          "model_module_version": "1.5.0",
          "state": {
            "_dom_classes": [],
            "_model_module": "@jupyter-widgets/controls",
            "_model_module_version": "1.5.0",
            "_model_name": "FloatProgressModel",
            "_view_count": null,
            "_view_module": "@jupyter-widgets/controls",
            "_view_module_version": "1.5.0",
            "_view_name": "ProgressView",
            "bar_style": "success",
            "description": "",
            "description_tooltip": null,
            "layout": "IPY_MODEL_fd529054a5564a868c64afa3001b90fe",
            "max": 1715180,
            "min": 0,
            "orientation": "horizontal",
            "style": "IPY_MODEL_b65d42d1f6b040c9ad641ea7b1e9c5a5",
            "value": 1715180
          }
        },
        "f965226933a14e02a892b0b3ff3efd88": {
          "model_module": "@jupyter-widgets/controls",
          "model_name": "HTMLModel",
          "model_module_version": "1.5.0",
          "state": {
            "_dom_classes": [],
            "_model_module": "@jupyter-widgets/controls",
            "_model_module_version": "1.5.0",
            "_model_name": "HTMLModel",
            "_view_count": null,
            "_view_module": "@jupyter-widgets/controls",
            "_view_module_version": "1.5.0",
            "_view_name": "HTMLView",
            "description": "",
            "description_tooltip": null,
            "layout": "IPY_MODEL_08d28476ca5c406f8abae1298b3681b0",
            "placeholder": "​",
            "style": "IPY_MODEL_a256832bbbb14231a172875e372eb599",
            "value": " 1.72M/1.72M [00:00&lt;00:00, 6.79MB/s]"
          }
        },
        "8732077c5aae4349afb3016cdf4c7b45": {
          "model_module": "@jupyter-widgets/base",
          "model_name": "LayoutModel",
          "model_module_version": "1.2.0",
          "state": {
            "_model_module": "@jupyter-widgets/base",
            "_model_module_version": "1.2.0",
            "_model_name": "LayoutModel",
            "_view_count": null,
            "_view_module": "@jupyter-widgets/base",
            "_view_module_version": "1.2.0",
            "_view_name": "LayoutView",
            "align_content": null,
            "align_items": null,
            "align_self": null,
            "border": null,
            "bottom": null,
            "display": null,
            "flex": null,
            "flex_flow": null,
            "grid_area": null,
            "grid_auto_columns": null,
            "grid_auto_flow": null,
            "grid_auto_rows": null,
            "grid_column": null,
            "grid_gap": null,
            "grid_row": null,
            "grid_template_areas": null,
            "grid_template_columns": null,
            "grid_template_rows": null,
            "height": null,
            "justify_content": null,
            "justify_items": null,
            "left": null,
            "margin": null,
            "max_height": null,
            "max_width": null,
            "min_height": null,
            "min_width": null,
            "object_fit": null,
            "object_position": null,
            "order": null,
            "overflow": null,
            "overflow_x": null,
            "overflow_y": null,
            "padding": null,
            "right": null,
            "top": null,
            "visibility": null,
            "width": null
          }
        },
        "6cec65e3cb4447a2a6e472b275b9f936": {
          "model_module": "@jupyter-widgets/base",
          "model_name": "LayoutModel",
          "model_module_version": "1.2.0",
          "state": {
            "_model_module": "@jupyter-widgets/base",
            "_model_module_version": "1.2.0",
            "_model_name": "LayoutModel",
            "_view_count": null,
            "_view_module": "@jupyter-widgets/base",
            "_view_module_version": "1.2.0",
            "_view_name": "LayoutView",
            "align_content": null,
            "align_items": null,
            "align_self": null,
            "border": null,
            "bottom": null,
            "display": null,
            "flex": null,
            "flex_flow": null,
            "grid_area": null,
            "grid_auto_columns": null,
            "grid_auto_flow": null,
            "grid_auto_rows": null,
            "grid_column": null,
            "grid_gap": null,
            "grid_row": null,
            "grid_template_areas": null,
            "grid_template_columns": null,
            "grid_template_rows": null,
            "height": null,
            "justify_content": null,
            "justify_items": null,
            "left": null,
            "margin": null,
            "max_height": null,
            "max_width": null,
            "min_height": null,
            "min_width": null,
            "object_fit": null,
            "object_position": null,
            "order": null,
            "overflow": null,
            "overflow_x": null,
            "overflow_y": null,
            "padding": null,
            "right": null,
            "top": null,
            "visibility": null,
            "width": null
          }
        },
        "cac797ef2bbd40ebaa4247ecfd164311": {
          "model_module": "@jupyter-widgets/controls",
          "model_name": "DescriptionStyleModel",
          "model_module_version": "1.5.0",
          "state": {
            "_model_module": "@jupyter-widgets/controls",
            "_model_module_version": "1.5.0",
            "_model_name": "DescriptionStyleModel",
            "_view_count": null,
            "_view_module": "@jupyter-widgets/base",
            "_view_module_version": "1.2.0",
            "_view_name": "StyleView",
            "description_width": ""
          }
        },
        "fd529054a5564a868c64afa3001b90fe": {
          "model_module": "@jupyter-widgets/base",
          "model_name": "LayoutModel",
          "model_module_version": "1.2.0",
          "state": {
            "_model_module": "@jupyter-widgets/base",
            "_model_module_version": "1.2.0",
            "_model_name": "LayoutModel",
            "_view_count": null,
            "_view_module": "@jupyter-widgets/base",
            "_view_module_version": "1.2.0",
            "_view_name": "LayoutView",
            "align_content": null,
            "align_items": null,
            "align_self": null,
            "border": null,
            "bottom": null,
            "display": null,
            "flex": null,
            "flex_flow": null,
            "grid_area": null,
            "grid_auto_columns": null,
            "grid_auto_flow": null,
            "grid_auto_rows": null,
            "grid_column": null,
            "grid_gap": null,
            "grid_row": null,
            "grid_template_areas": null,
            "grid_template_columns": null,
            "grid_template_rows": null,
            "height": null,
            "justify_content": null,
            "justify_items": null,
            "left": null,
            "margin": null,
            "max_height": null,
            "max_width": null,
            "min_height": null,
            "min_width": null,
            "object_fit": null,
            "object_position": null,
            "order": null,
            "overflow": null,
            "overflow_x": null,
            "overflow_y": null,
            "padding": null,
            "right": null,
            "top": null,
            "visibility": null,
            "width": null
          }
        },
        "b65d42d1f6b040c9ad641ea7b1e9c5a5": {
          "model_module": "@jupyter-widgets/controls",
          "model_name": "ProgressStyleModel",
          "model_module_version": "1.5.0",
          "state": {
            "_model_module": "@jupyter-widgets/controls",
            "_model_module_version": "1.5.0",
            "_model_name": "ProgressStyleModel",
            "_view_count": null,
            "_view_module": "@jupyter-widgets/base",
            "_view_module_version": "1.2.0",
            "_view_name": "StyleView",
            "bar_color": null,
            "description_width": ""
          }
        },
        "08d28476ca5c406f8abae1298b3681b0": {
          "model_module": "@jupyter-widgets/base",
          "model_name": "LayoutModel",
          "model_module_version": "1.2.0",
          "state": {
            "_model_module": "@jupyter-widgets/base",
            "_model_module_version": "1.2.0",
            "_model_name": "LayoutModel",
            "_view_count": null,
            "_view_module": "@jupyter-widgets/base",
            "_view_module_version": "1.2.0",
            "_view_name": "LayoutView",
            "align_content": null,
            "align_items": null,
            "align_self": null,
            "border": null,
            "bottom": null,
            "display": null,
            "flex": null,
            "flex_flow": null,
            "grid_area": null,
            "grid_auto_columns": null,
            "grid_auto_flow": null,
            "grid_auto_rows": null,
            "grid_column": null,
            "grid_gap": null,
            "grid_row": null,
            "grid_template_areas": null,
            "grid_template_columns": null,
            "grid_template_rows": null,
            "height": null,
            "justify_content": null,
            "justify_items": null,
            "left": null,
            "margin": null,
            "max_height": null,
            "max_width": null,
            "min_height": null,
            "min_width": null,
            "object_fit": null,
            "object_position": null,
            "order": null,
            "overflow": null,
            "overflow_x": null,
            "overflow_y": null,
            "padding": null,
            "right": null,
            "top": null,
            "visibility": null,
            "width": null
          }
        },
        "a256832bbbb14231a172875e372eb599": {
          "model_module": "@jupyter-widgets/controls",
          "model_name": "DescriptionStyleModel",
          "model_module_version": "1.5.0",
          "state": {
            "_model_module": "@jupyter-widgets/controls",
            "_model_module_version": "1.5.0",
            "_model_name": "DescriptionStyleModel",
            "_view_count": null,
            "_view_module": "@jupyter-widgets/base",
            "_view_module_version": "1.2.0",
            "_view_name": "StyleView",
            "description_width": ""
          }
        },
        "06168d7733594b8f8ebe0d395f8b3e10": {
          "model_module": "@jupyter-widgets/controls",
          "model_name": "HBoxModel",
          "model_module_version": "1.5.0",
          "state": {
            "_dom_classes": [],
            "_model_module": "@jupyter-widgets/controls",
            "_model_module_version": "1.5.0",
            "_model_name": "HBoxModel",
            "_view_count": null,
            "_view_module": "@jupyter-widgets/controls",
            "_view_module_version": "1.5.0",
            "_view_name": "HBoxView",
            "box_style": "",
            "children": [
              "IPY_MODEL_04129747e33640a08a6ab93fc97dd6fd",
              "IPY_MODEL_8e63ba9e63c04061baebfb7614ff3ba3",
              "IPY_MODEL_96529bfbd5084a4caff8d3c4145cd360"
            ],
            "layout": "IPY_MODEL_3d2d68af884a403fa5f54e995ce37f70"
          }
        },
        "04129747e33640a08a6ab93fc97dd6fd": {
          "model_module": "@jupyter-widgets/controls",
          "model_name": "HTMLModel",
          "model_module_version": "1.5.0",
          "state": {
            "_dom_classes": [],
            "_model_module": "@jupyter-widgets/controls",
            "_model_module_version": "1.5.0",
            "_model_name": "HTMLModel",
            "_view_count": null,
            "_view_module": "@jupyter-widgets/controls",
            "_view_module_version": "1.5.0",
            "_view_name": "HTMLView",
            "description": "",
            "description_tooltip": null,
            "layout": "IPY_MODEL_07f45753602e498085e7ca664fa90ef1",
            "placeholder": "​",
            "style": "IPY_MODEL_b7a5d585fa1e40999ac9afab3dc811a2",
            "value": "epoch:   7%"
          }
        },
        "8e63ba9e63c04061baebfb7614ff3ba3": {
          "model_module": "@jupyter-widgets/controls",
          "model_name": "FloatProgressModel",
          "model_module_version": "1.5.0",
          "state": {
            "_dom_classes": [],
            "_model_module": "@jupyter-widgets/controls",
            "_model_module_version": "1.5.0",
            "_model_name": "FloatProgressModel",
            "_view_count": null,
            "_view_module": "@jupyter-widgets/controls",
            "_view_module_version": "1.5.0",
            "_view_name": "ProgressView",
            "bar_style": "",
            "description": "",
            "description_tooltip": null,
            "layout": "IPY_MODEL_e6f4a48895f04578856604e5b294b729",
            "max": 15,
            "min": 0,
            "orientation": "horizontal",
            "style": "IPY_MODEL_5609ccd8640c445bbe4163e77b4f570b",
            "value": 1
          }
        },
        "96529bfbd5084a4caff8d3c4145cd360": {
          "model_module": "@jupyter-widgets/controls",
          "model_name": "HTMLModel",
          "model_module_version": "1.5.0",
          "state": {
            "_dom_classes": [],
            "_model_module": "@jupyter-widgets/controls",
            "_model_module_version": "1.5.0",
            "_model_name": "HTMLModel",
            "_view_count": null,
            "_view_module": "@jupyter-widgets/controls",
            "_view_module_version": "1.5.0",
            "_view_name": "HTMLView",
            "description": "",
            "description_tooltip": null,
            "layout": "IPY_MODEL_2fbfcbaf778d427faa197fe15e8e88c2",
            "placeholder": "​",
            "style": "IPY_MODEL_b88417c02cd6442c8c09f004130c0009",
            "value": " 1/15 [1:48:15&lt;25:15:33, 6495.27s/it, train epoch loss=7.93]"
          }
        },
        "3d2d68af884a403fa5f54e995ce37f70": {
          "model_module": "@jupyter-widgets/base",
          "model_name": "LayoutModel",
          "model_module_version": "1.2.0",
          "state": {
            "_model_module": "@jupyter-widgets/base",
            "_model_module_version": "1.2.0",
            "_model_name": "LayoutModel",
            "_view_count": null,
            "_view_module": "@jupyter-widgets/base",
            "_view_module_version": "1.2.0",
            "_view_name": "LayoutView",
            "align_content": null,
            "align_items": null,
            "align_self": null,
            "border": null,
            "bottom": null,
            "display": null,
            "flex": null,
            "flex_flow": null,
            "grid_area": null,
            "grid_auto_columns": null,
            "grid_auto_flow": null,
            "grid_auto_rows": null,
            "grid_column": null,
            "grid_gap": null,
            "grid_row": null,
            "grid_template_areas": null,
            "grid_template_columns": null,
            "grid_template_rows": null,
            "height": null,
            "justify_content": null,
            "justify_items": null,
            "left": null,
            "margin": null,
            "max_height": null,
            "max_width": null,
            "min_height": null,
            "min_width": null,
            "object_fit": null,
            "object_position": null,
            "order": null,
            "overflow": null,
            "overflow_x": null,
            "overflow_y": null,
            "padding": null,
            "right": null,
            "top": null,
            "visibility": null,
            "width": null
          }
        },
        "07f45753602e498085e7ca664fa90ef1": {
          "model_module": "@jupyter-widgets/base",
          "model_name": "LayoutModel",
          "model_module_version": "1.2.0",
          "state": {
            "_model_module": "@jupyter-widgets/base",
            "_model_module_version": "1.2.0",
            "_model_name": "LayoutModel",
            "_view_count": null,
            "_view_module": "@jupyter-widgets/base",
            "_view_module_version": "1.2.0",
            "_view_name": "LayoutView",
            "align_content": null,
            "align_items": null,
            "align_self": null,
            "border": null,
            "bottom": null,
            "display": null,
            "flex": null,
            "flex_flow": null,
            "grid_area": null,
            "grid_auto_columns": null,
            "grid_auto_flow": null,
            "grid_auto_rows": null,
            "grid_column": null,
            "grid_gap": null,
            "grid_row": null,
            "grid_template_areas": null,
            "grid_template_columns": null,
            "grid_template_rows": null,
            "height": null,
            "justify_content": null,
            "justify_items": null,
            "left": null,
            "margin": null,
            "max_height": null,
            "max_width": null,
            "min_height": null,
            "min_width": null,
            "object_fit": null,
            "object_position": null,
            "order": null,
            "overflow": null,
            "overflow_x": null,
            "overflow_y": null,
            "padding": null,
            "right": null,
            "top": null,
            "visibility": null,
            "width": null
          }
        },
        "b7a5d585fa1e40999ac9afab3dc811a2": {
          "model_module": "@jupyter-widgets/controls",
          "model_name": "DescriptionStyleModel",
          "model_module_version": "1.5.0",
          "state": {
            "_model_module": "@jupyter-widgets/controls",
            "_model_module_version": "1.5.0",
            "_model_name": "DescriptionStyleModel",
            "_view_count": null,
            "_view_module": "@jupyter-widgets/base",
            "_view_module_version": "1.2.0",
            "_view_name": "StyleView",
            "description_width": ""
          }
        },
        "e6f4a48895f04578856604e5b294b729": {
          "model_module": "@jupyter-widgets/base",
          "model_name": "LayoutModel",
          "model_module_version": "1.2.0",
          "state": {
            "_model_module": "@jupyter-widgets/base",
            "_model_module_version": "1.2.0",
            "_model_name": "LayoutModel",
            "_view_count": null,
            "_view_module": "@jupyter-widgets/base",
            "_view_module_version": "1.2.0",
            "_view_name": "LayoutView",
            "align_content": null,
            "align_items": null,
            "align_self": null,
            "border": null,
            "bottom": null,
            "display": null,
            "flex": null,
            "flex_flow": null,
            "grid_area": null,
            "grid_auto_columns": null,
            "grid_auto_flow": null,
            "grid_auto_rows": null,
            "grid_column": null,
            "grid_gap": null,
            "grid_row": null,
            "grid_template_areas": null,
            "grid_template_columns": null,
            "grid_template_rows": null,
            "height": null,
            "justify_content": null,
            "justify_items": null,
            "left": null,
            "margin": null,
            "max_height": null,
            "max_width": null,
            "min_height": null,
            "min_width": null,
            "object_fit": null,
            "object_position": null,
            "order": null,
            "overflow": null,
            "overflow_x": null,
            "overflow_y": null,
            "padding": null,
            "right": null,
            "top": null,
            "visibility": null,
            "width": null
          }
        },
        "5609ccd8640c445bbe4163e77b4f570b": {
          "model_module": "@jupyter-widgets/controls",
          "model_name": "ProgressStyleModel",
          "model_module_version": "1.5.0",
          "state": {
            "_model_module": "@jupyter-widgets/controls",
            "_model_module_version": "1.5.0",
            "_model_name": "ProgressStyleModel",
            "_view_count": null,
            "_view_module": "@jupyter-widgets/base",
            "_view_module_version": "1.2.0",
            "_view_name": "StyleView",
            "bar_color": null,
            "description_width": ""
          }
        },
        "2fbfcbaf778d427faa197fe15e8e88c2": {
          "model_module": "@jupyter-widgets/base",
          "model_name": "LayoutModel",
          "model_module_version": "1.2.0",
          "state": {
            "_model_module": "@jupyter-widgets/base",
            "_model_module_version": "1.2.0",
            "_model_name": "LayoutModel",
            "_view_count": null,
            "_view_module": "@jupyter-widgets/base",
            "_view_module_version": "1.2.0",
            "_view_name": "LayoutView",
            "align_content": null,
            "align_items": null,
            "align_self": null,
            "border": null,
            "bottom": null,
            "display": null,
            "flex": null,
            "flex_flow": null,
            "grid_area": null,
            "grid_auto_columns": null,
            "grid_auto_flow": null,
            "grid_auto_rows": null,
            "grid_column": null,
            "grid_gap": null,
            "grid_row": null,
            "grid_template_areas": null,
            "grid_template_columns": null,
            "grid_template_rows": null,
            "height": null,
            "justify_content": null,
            "justify_items": null,
            "left": null,
            "margin": null,
            "max_height": null,
            "max_width": null,
            "min_height": null,
            "min_width": null,
            "object_fit": null,
            "object_position": null,
            "order": null,
            "overflow": null,
            "overflow_x": null,
            "overflow_y": null,
            "padding": null,
            "right": null,
            "top": null,
            "visibility": null,
            "width": null
          }
        },
        "b88417c02cd6442c8c09f004130c0009": {
          "model_module": "@jupyter-widgets/controls",
          "model_name": "DescriptionStyleModel",
          "model_module_version": "1.5.0",
          "state": {
            "_model_module": "@jupyter-widgets/controls",
            "_model_module_version": "1.5.0",
            "_model_name": "DescriptionStyleModel",
            "_view_count": null,
            "_view_module": "@jupyter-widgets/base",
            "_view_module_version": "1.2.0",
            "_view_name": "StyleView",
            "description_width": ""
          }
        },
        "54901378239a4e39ab3b3023c53d8523": {
          "model_module": "@jupyter-widgets/controls",
          "model_name": "HBoxModel",
          "model_module_version": "1.5.0",
          "state": {
            "_dom_classes": [],
            "_model_module": "@jupyter-widgets/controls",
            "_model_module_version": "1.5.0",
            "_model_name": "HBoxModel",
            "_view_count": null,
            "_view_module": "@jupyter-widgets/controls",
            "_view_module_version": "1.5.0",
            "_view_name": "HBoxView",
            "box_style": "",
            "children": [
              "IPY_MODEL_96b2d864ce674adeb9e9d0fb57b381dc",
              "IPY_MODEL_6235aa2cd2f94ce6b557154963afb737",
              "IPY_MODEL_7ad5eea949d54dc8ba0d104c4601ef9b"
            ],
            "layout": "IPY_MODEL_41ebea14d81f4846b458e11f12b9da21"
          }
        },
        "96b2d864ce674adeb9e9d0fb57b381dc": {
          "model_module": "@jupyter-widgets/controls",
          "model_name": "HTMLModel",
          "model_module_version": "1.5.0",
          "state": {
            "_dom_classes": [],
            "_model_module": "@jupyter-widgets/controls",
            "_model_module_version": "1.5.0",
            "_model_name": "HTMLModel",
            "_view_count": null,
            "_view_module": "@jupyter-widgets/controls",
            "_view_module_version": "1.5.0",
            "_view_name": "HTMLView",
            "description": "",
            "description_tooltip": null,
            "layout": "IPY_MODEL_823b1d1f33cd4c97a4de0e0a3ec3b2b4",
            "placeholder": "​",
            "style": "IPY_MODEL_5526cd22f20249b2b9de4aaf7c3e2743",
            "value": "100%"
          }
        },
        "6235aa2cd2f94ce6b557154963afb737": {
          "model_module": "@jupyter-widgets/controls",
          "model_name": "FloatProgressModel",
          "model_module_version": "1.5.0",
          "state": {
            "_dom_classes": [],
            "_model_module": "@jupyter-widgets/controls",
            "_model_module_version": "1.5.0",
            "_model_name": "FloatProgressModel",
            "_view_count": null,
            "_view_module": "@jupyter-widgets/controls",
            "_view_module_version": "1.5.0",
            "_view_name": "ProgressView",
            "bar_style": "",
            "description": "",
            "description_tooltip": null,
            "layout": "IPY_MODEL_065d382a601c45fcbdde141a4c83ace8",
            "max": 297,
            "min": 0,
            "orientation": "horizontal",
            "style": "IPY_MODEL_5f27c87789ce46d2914b8538df7812ef",
            "value": 297
          }
        },
        "7ad5eea949d54dc8ba0d104c4601ef9b": {
          "model_module": "@jupyter-widgets/controls",
          "model_name": "HTMLModel",
          "model_module_version": "1.5.0",
          "state": {
            "_dom_classes": [],
            "_model_module": "@jupyter-widgets/controls",
            "_model_module_version": "1.5.0",
            "_model_name": "HTMLModel",
            "_view_count": null,
            "_view_module": "@jupyter-widgets/controls",
            "_view_module_version": "1.5.0",
            "_view_name": "HTMLView",
            "description": "",
            "description_tooltip": null,
            "layout": "IPY_MODEL_31b94e17708d42bfbe717b43e84ad139",
            "placeholder": "​",
            "style": "IPY_MODEL_cebf8f168b4f4a8c8dc5000f4a4ef6cf",
            "value": " 297/297 [1:48:15&lt;00:00, 17.53s/it]"
          }
        },
        "41ebea14d81f4846b458e11f12b9da21": {
          "model_module": "@jupyter-widgets/base",
          "model_name": "LayoutModel",
          "model_module_version": "1.2.0",
          "state": {
            "_model_module": "@jupyter-widgets/base",
            "_model_module_version": "1.2.0",
            "_model_name": "LayoutModel",
            "_view_count": null,
            "_view_module": "@jupyter-widgets/base",
            "_view_module_version": "1.2.0",
            "_view_name": "LayoutView",
            "align_content": null,
            "align_items": null,
            "align_self": null,
            "border": null,
            "bottom": null,
            "display": null,
            "flex": null,
            "flex_flow": null,
            "grid_area": null,
            "grid_auto_columns": null,
            "grid_auto_flow": null,
            "grid_auto_rows": null,
            "grid_column": null,
            "grid_gap": null,
            "grid_row": null,
            "grid_template_areas": null,
            "grid_template_columns": null,
            "grid_template_rows": null,
            "height": null,
            "justify_content": null,
            "justify_items": null,
            "left": null,
            "margin": null,
            "max_height": null,
            "max_width": null,
            "min_height": null,
            "min_width": null,
            "object_fit": null,
            "object_position": null,
            "order": null,
            "overflow": null,
            "overflow_x": null,
            "overflow_y": null,
            "padding": null,
            "right": null,
            "top": null,
            "visibility": "hidden",
            "width": null
          }
        },
        "823b1d1f33cd4c97a4de0e0a3ec3b2b4": {
          "model_module": "@jupyter-widgets/base",
          "model_name": "LayoutModel",
          "model_module_version": "1.2.0",
          "state": {
            "_model_module": "@jupyter-widgets/base",
            "_model_module_version": "1.2.0",
            "_model_name": "LayoutModel",
            "_view_count": null,
            "_view_module": "@jupyter-widgets/base",
            "_view_module_version": "1.2.0",
            "_view_name": "LayoutView",
            "align_content": null,
            "align_items": null,
            "align_self": null,
            "border": null,
            "bottom": null,
            "display": null,
            "flex": null,
            "flex_flow": null,
            "grid_area": null,
            "grid_auto_columns": null,
            "grid_auto_flow": null,
            "grid_auto_rows": null,
            "grid_column": null,
            "grid_gap": null,
            "grid_row": null,
            "grid_template_areas": null,
            "grid_template_columns": null,
            "grid_template_rows": null,
            "height": null,
            "justify_content": null,
            "justify_items": null,
            "left": null,
            "margin": null,
            "max_height": null,
            "max_width": null,
            "min_height": null,
            "min_width": null,
            "object_fit": null,
            "object_position": null,
            "order": null,
            "overflow": null,
            "overflow_x": null,
            "overflow_y": null,
            "padding": null,
            "right": null,
            "top": null,
            "visibility": null,
            "width": null
          }
        },
        "5526cd22f20249b2b9de4aaf7c3e2743": {
          "model_module": "@jupyter-widgets/controls",
          "model_name": "DescriptionStyleModel",
          "model_module_version": "1.5.0",
          "state": {
            "_model_module": "@jupyter-widgets/controls",
            "_model_module_version": "1.5.0",
            "_model_name": "DescriptionStyleModel",
            "_view_count": null,
            "_view_module": "@jupyter-widgets/base",
            "_view_module_version": "1.2.0",
            "_view_name": "StyleView",
            "description_width": ""
          }
        },
        "065d382a601c45fcbdde141a4c83ace8": {
          "model_module": "@jupyter-widgets/base",
          "model_name": "LayoutModel",
          "model_module_version": "1.2.0",
          "state": {
            "_model_module": "@jupyter-widgets/base",
            "_model_module_version": "1.2.0",
            "_model_name": "LayoutModel",
            "_view_count": null,
            "_view_module": "@jupyter-widgets/base",
            "_view_module_version": "1.2.0",
            "_view_name": "LayoutView",
            "align_content": null,
            "align_items": null,
            "align_self": null,
            "border": null,
            "bottom": null,
            "display": null,
            "flex": null,
            "flex_flow": null,
            "grid_area": null,
            "grid_auto_columns": null,
            "grid_auto_flow": null,
            "grid_auto_rows": null,
            "grid_column": null,
            "grid_gap": null,
            "grid_row": null,
            "grid_template_areas": null,
            "grid_template_columns": null,
            "grid_template_rows": null,
            "height": null,
            "justify_content": null,
            "justify_items": null,
            "left": null,
            "margin": null,
            "max_height": null,
            "max_width": null,
            "min_height": null,
            "min_width": null,
            "object_fit": null,
            "object_position": null,
            "order": null,
            "overflow": null,
            "overflow_x": null,
            "overflow_y": null,
            "padding": null,
            "right": null,
            "top": null,
            "visibility": null,
            "width": null
          }
        },
        "5f27c87789ce46d2914b8538df7812ef": {
          "model_module": "@jupyter-widgets/controls",
          "model_name": "ProgressStyleModel",
          "model_module_version": "1.5.0",
          "state": {
            "_model_module": "@jupyter-widgets/controls",
            "_model_module_version": "1.5.0",
            "_model_name": "ProgressStyleModel",
            "_view_count": null,
            "_view_module": "@jupyter-widgets/base",
            "_view_module_version": "1.2.0",
            "_view_name": "StyleView",
            "bar_color": null,
            "description_width": ""
          }
        },
        "31b94e17708d42bfbe717b43e84ad139": {
          "model_module": "@jupyter-widgets/base",
          "model_name": "LayoutModel",
          "model_module_version": "1.2.0",
          "state": {
            "_model_module": "@jupyter-widgets/base",
            "_model_module_version": "1.2.0",
            "_model_name": "LayoutModel",
            "_view_count": null,
            "_view_module": "@jupyter-widgets/base",
            "_view_module_version": "1.2.0",
            "_view_name": "LayoutView",
            "align_content": null,
            "align_items": null,
            "align_self": null,
            "border": null,
            "bottom": null,
            "display": null,
            "flex": null,
            "flex_flow": null,
            "grid_area": null,
            "grid_auto_columns": null,
            "grid_auto_flow": null,
            "grid_auto_rows": null,
            "grid_column": null,
            "grid_gap": null,
            "grid_row": null,
            "grid_template_areas": null,
            "grid_template_columns": null,
            "grid_template_rows": null,
            "height": null,
            "justify_content": null,
            "justify_items": null,
            "left": null,
            "margin": null,
            "max_height": null,
            "max_width": null,
            "min_height": null,
            "min_width": null,
            "object_fit": null,
            "object_position": null,
            "order": null,
            "overflow": null,
            "overflow_x": null,
            "overflow_y": null,
            "padding": null,
            "right": null,
            "top": null,
            "visibility": null,
            "width": null
          }
        },
        "cebf8f168b4f4a8c8dc5000f4a4ef6cf": {
          "model_module": "@jupyter-widgets/controls",
          "model_name": "DescriptionStyleModel",
          "model_module_version": "1.5.0",
          "state": {
            "_model_module": "@jupyter-widgets/controls",
            "_model_module_version": "1.5.0",
            "_model_name": "DescriptionStyleModel",
            "_view_count": null,
            "_view_module": "@jupyter-widgets/base",
            "_view_module_version": "1.2.0",
            "_view_name": "StyleView",
            "description_width": ""
          }
        },
        "ca34b8aa87804426964e6d83a9e2dde2": {
          "model_module": "@jupyter-widgets/controls",
          "model_name": "HBoxModel",
          "model_module_version": "1.5.0",
          "state": {
            "_dom_classes": [],
            "_model_module": "@jupyter-widgets/controls",
            "_model_module_version": "1.5.0",
            "_model_name": "HBoxModel",
            "_view_count": null,
            "_view_module": "@jupyter-widgets/controls",
            "_view_module_version": "1.5.0",
            "_view_name": "HBoxView",
            "box_style": "",
            "children": [
              "IPY_MODEL_b3d56b23c186401dac21ec2c54e12ff0",
              "IPY_MODEL_9f1135c6ee0c47bfacc24eba2971b696",
              "IPY_MODEL_77bf1833600b442fa578930588a7e2bf"
            ],
            "layout": "IPY_MODEL_74d0ab05440d4ed0b9333b1207373510"
          }
        },
        "b3d56b23c186401dac21ec2c54e12ff0": {
          "model_module": "@jupyter-widgets/controls",
          "model_name": "HTMLModel",
          "model_module_version": "1.5.0",
          "state": {
            "_dom_classes": [],
            "_model_module": "@jupyter-widgets/controls",
            "_model_module_version": "1.5.0",
            "_model_name": "HTMLModel",
            "_view_count": null,
            "_view_module": "@jupyter-widgets/controls",
            "_view_module_version": "1.5.0",
            "_view_name": "HTMLView",
            "description": "",
            "description_tooltip": null,
            "layout": "IPY_MODEL_585b7194a22240ce9e16286a12c37f13",
            "placeholder": "​",
            "style": "IPY_MODEL_3007892f925948eea78630a4bc9e07be",
            "value": " 83%"
          }
        },
        "9f1135c6ee0c47bfacc24eba2971b696": {
          "model_module": "@jupyter-widgets/controls",
          "model_name": "FloatProgressModel",
          "model_module_version": "1.5.0",
          "state": {
            "_dom_classes": [],
            "_model_module": "@jupyter-widgets/controls",
            "_model_module_version": "1.5.0",
            "_model_name": "FloatProgressModel",
            "_view_count": null,
            "_view_module": "@jupyter-widgets/controls",
            "_view_module_version": "1.5.0",
            "_view_name": "ProgressView",
            "bar_style": "",
            "description": "",
            "description_tooltip": null,
            "layout": "IPY_MODEL_b153018b50f6440d9da67f8f54de3f04",
            "max": 297,
            "min": 0,
            "orientation": "horizontal",
            "style": "IPY_MODEL_93ceee46d44346399fb7551008f7ec85",
            "value": 247
          }
        },
        "77bf1833600b442fa578930588a7e2bf": {
          "model_module": "@jupyter-widgets/controls",
          "model_name": "HTMLModel",
          "model_module_version": "1.5.0",
          "state": {
            "_dom_classes": [],
            "_model_module": "@jupyter-widgets/controls",
            "_model_module_version": "1.5.0",
            "_model_name": "HTMLModel",
            "_view_count": null,
            "_view_module": "@jupyter-widgets/controls",
            "_view_module_version": "1.5.0",
            "_view_name": "HTMLView",
            "description": "",
            "description_tooltip": null,
            "layout": "IPY_MODEL_1890b05c71a740a3a85541cb309c37f9",
            "placeholder": "​",
            "style": "IPY_MODEL_ecaed1e6d2a844d2b63f4940bac9c102",
            "value": " 247/297 [1:33:22&lt;23:27, 28.16s/it]"
          }
        },
        "74d0ab05440d4ed0b9333b1207373510": {
          "model_module": "@jupyter-widgets/base",
          "model_name": "LayoutModel",
          "model_module_version": "1.2.0",
          "state": {
            "_model_module": "@jupyter-widgets/base",
            "_model_module_version": "1.2.0",
            "_model_name": "LayoutModel",
            "_view_count": null,
            "_view_module": "@jupyter-widgets/base",
            "_view_module_version": "1.2.0",
            "_view_name": "LayoutView",
            "align_content": null,
            "align_items": null,
            "align_self": null,
            "border": null,
            "bottom": null,
            "display": null,
            "flex": null,
            "flex_flow": null,
            "grid_area": null,
            "grid_auto_columns": null,
            "grid_auto_flow": null,
            "grid_auto_rows": null,
            "grid_column": null,
            "grid_gap": null,
            "grid_row": null,
            "grid_template_areas": null,
            "grid_template_columns": null,
            "grid_template_rows": null,
            "height": null,
            "justify_content": null,
            "justify_items": null,
            "left": null,
            "margin": null,
            "max_height": null,
            "max_width": null,
            "min_height": null,
            "min_width": null,
            "object_fit": null,
            "object_position": null,
            "order": null,
            "overflow": null,
            "overflow_x": null,
            "overflow_y": null,
            "padding": null,
            "right": null,
            "top": null,
            "visibility": null,
            "width": null
          }
        },
        "585b7194a22240ce9e16286a12c37f13": {
          "model_module": "@jupyter-widgets/base",
          "model_name": "LayoutModel",
          "model_module_version": "1.2.0",
          "state": {
            "_model_module": "@jupyter-widgets/base",
            "_model_module_version": "1.2.0",
            "_model_name": "LayoutModel",
            "_view_count": null,
            "_view_module": "@jupyter-widgets/base",
            "_view_module_version": "1.2.0",
            "_view_name": "LayoutView",
            "align_content": null,
            "align_items": null,
            "align_self": null,
            "border": null,
            "bottom": null,
            "display": null,
            "flex": null,
            "flex_flow": null,
            "grid_area": null,
            "grid_auto_columns": null,
            "grid_auto_flow": null,
            "grid_auto_rows": null,
            "grid_column": null,
            "grid_gap": null,
            "grid_row": null,
            "grid_template_areas": null,
            "grid_template_columns": null,
            "grid_template_rows": null,
            "height": null,
            "justify_content": null,
            "justify_items": null,
            "left": null,
            "margin": null,
            "max_height": null,
            "max_width": null,
            "min_height": null,
            "min_width": null,
            "object_fit": null,
            "object_position": null,
            "order": null,
            "overflow": null,
            "overflow_x": null,
            "overflow_y": null,
            "padding": null,
            "right": null,
            "top": null,
            "visibility": null,
            "width": null
          }
        },
        "3007892f925948eea78630a4bc9e07be": {
          "model_module": "@jupyter-widgets/controls",
          "model_name": "DescriptionStyleModel",
          "model_module_version": "1.5.0",
          "state": {
            "_model_module": "@jupyter-widgets/controls",
            "_model_module_version": "1.5.0",
            "_model_name": "DescriptionStyleModel",
            "_view_count": null,
            "_view_module": "@jupyter-widgets/base",
            "_view_module_version": "1.2.0",
            "_view_name": "StyleView",
            "description_width": ""
          }
        },
        "b153018b50f6440d9da67f8f54de3f04": {
          "model_module": "@jupyter-widgets/base",
          "model_name": "LayoutModel",
          "model_module_version": "1.2.0",
          "state": {
            "_model_module": "@jupyter-widgets/base",
            "_model_module_version": "1.2.0",
            "_model_name": "LayoutModel",
            "_view_count": null,
            "_view_module": "@jupyter-widgets/base",
            "_view_module_version": "1.2.0",
            "_view_name": "LayoutView",
            "align_content": null,
            "align_items": null,
            "align_self": null,
            "border": null,
            "bottom": null,
            "display": null,
            "flex": null,
            "flex_flow": null,
            "grid_area": null,
            "grid_auto_columns": null,
            "grid_auto_flow": null,
            "grid_auto_rows": null,
            "grid_column": null,
            "grid_gap": null,
            "grid_row": null,
            "grid_template_areas": null,
            "grid_template_columns": null,
            "grid_template_rows": null,
            "height": null,
            "justify_content": null,
            "justify_items": null,
            "left": null,
            "margin": null,
            "max_height": null,
            "max_width": null,
            "min_height": null,
            "min_width": null,
            "object_fit": null,
            "object_position": null,
            "order": null,
            "overflow": null,
            "overflow_x": null,
            "overflow_y": null,
            "padding": null,
            "right": null,
            "top": null,
            "visibility": null,
            "width": null
          }
        },
        "93ceee46d44346399fb7551008f7ec85": {
          "model_module": "@jupyter-widgets/controls",
          "model_name": "ProgressStyleModel",
          "model_module_version": "1.5.0",
          "state": {
            "_model_module": "@jupyter-widgets/controls",
            "_model_module_version": "1.5.0",
            "_model_name": "ProgressStyleModel",
            "_view_count": null,
            "_view_module": "@jupyter-widgets/base",
            "_view_module_version": "1.2.0",
            "_view_name": "StyleView",
            "bar_color": null,
            "description_width": ""
          }
        },
        "1890b05c71a740a3a85541cb309c37f9": {
          "model_module": "@jupyter-widgets/base",
          "model_name": "LayoutModel",
          "model_module_version": "1.2.0",
          "state": {
            "_model_module": "@jupyter-widgets/base",
            "_model_module_version": "1.2.0",
            "_model_name": "LayoutModel",
            "_view_count": null,
            "_view_module": "@jupyter-widgets/base",
            "_view_module_version": "1.2.0",
            "_view_name": "LayoutView",
            "align_content": null,
            "align_items": null,
            "align_self": null,
            "border": null,
            "bottom": null,
            "display": null,
            "flex": null,
            "flex_flow": null,
            "grid_area": null,
            "grid_auto_columns": null,
            "grid_auto_flow": null,
            "grid_auto_rows": null,
            "grid_column": null,
            "grid_gap": null,
            "grid_row": null,
            "grid_template_areas": null,
            "grid_template_columns": null,
            "grid_template_rows": null,
            "height": null,
            "justify_content": null,
            "justify_items": null,
            "left": null,
            "margin": null,
            "max_height": null,
            "max_width": null,
            "min_height": null,
            "min_width": null,
            "object_fit": null,
            "object_position": null,
            "order": null,
            "overflow": null,
            "overflow_x": null,
            "overflow_y": null,
            "padding": null,
            "right": null,
            "top": null,
            "visibility": null,
            "width": null
          }
        },
        "ecaed1e6d2a844d2b63f4940bac9c102": {
          "model_module": "@jupyter-widgets/controls",
          "model_name": "DescriptionStyleModel",
          "model_module_version": "1.5.0",
          "state": {
            "_model_module": "@jupyter-widgets/controls",
            "_model_module_version": "1.5.0",
            "_model_name": "DescriptionStyleModel",
            "_view_count": null,
            "_view_module": "@jupyter-widgets/base",
            "_view_module_version": "1.2.0",
            "_view_name": "StyleView",
            "description_width": ""
          }
        }
      }
    }
  },
  "cells": [
    {
      "cell_type": "markdown",
      "metadata": {
        "id": "view-in-github",
        "colab_type": "text"
      },
      "source": [
        "<a href=\"https://colab.research.google.com/github/AlexeyTri/MyMachineLearningSeminars/blob/main/%D0%9C%D0%BE%D0%B4%D0%B5%D0%BB%D0%B8_%D0%B2%D0%BD%D0%B8%D0%BC%D0%B0%D0%BD%D0%B8%D1%8F_%D0%B8_%D1%82%D1%80%D0%B0%D0%BD%D1%81%D1%84%D0%BE%D1%80%D0%BC%D0%B5%D1%80%D1%8B.ipynb\" target=\"_parent\"><img src=\"https://colab.research.google.com/assets/colab-badge.svg\" alt=\"Open In Colab\"/></a>"
      ]
    },
    {
      "cell_type": "markdown",
      "source": [
        "# Attention is all you need. Трансформеры.\n"
      ],
      "metadata": {
        "id": "_UPsA1XP_eM9"
      }
    },
    {
      "cell_type": "markdown",
      "source": [
        "#Бибилиотеки, загрузка данных, код обучения"
      ],
      "metadata": {
        "id": "pjL-0BxBNu7o"
      }
    },
    {
      "cell_type": "markdown",
      "source": [
        "*http://opus.nlpl.eu/Wikipedia-v1.0.php - выборка Wikipedia en-ru  и ru-en*\n",
        "\n",
        "*данные раземещены на GoogleDrive*\n"
      ],
      "metadata": {
        "id": "iZmuaFBDhsMJ"
      }
    },
    {
      "cell_type": "code",
      "source": [
        "!pip install --quiet -U transformers torch sentencepiece"
      ],
      "metadata": {
        "id": "OBBRjcklA5_W"
      },
      "execution_count": 1,
      "outputs": []
    },
    {
      "cell_type": "code",
      "source": [
        "import matplotlib.pyplot as plt\n",
        "from mpl_toolkits import mplot3d\n",
        "from matplotlib import gridspec\n",
        "\n",
        "from tqdm.notebook import tqdm\n",
        "import numpy as np\n",
        "import  pandas as pd\n",
        "import seaborn as sns\n",
        "import torch\n",
        "import scipy\n",
        "# AutoModel это класс создающий зкземпляр соответствующей модели, с переданными на вход настроенными весами, конфигурацией и словарем\n",
        "from transformers import AutoModel, AutoTokenizer\n",
        "# конфигурация модели Marian https://huggingface.co/docs/transformers/v4.25.1/en/model_doc/marian#transformers.MarianConfig\n",
        "# This model is also a PyTorch torch.nn.Module subclass. Use it as a regular PyTorch\n",
        "from transformers import MarianMTModel, MarianTokenizer\n",
        "\n",
        "from sklearn.metrics import classification_report\n",
        "from torch.utils.tensorboard import SummaryWriter"
      ],
      "metadata": {
        "id": "aOMiWn7--eyc"
      },
      "execution_count": 2,
      "outputs": []
    },
    {
      "cell_type": "code",
      "source": [
        "import warnings\n",
        "warnings.filterwarnings(\"ignore\")"
      ],
      "metadata": {
        "id": "v9zxdAciCabt"
      },
      "execution_count": 3,
      "outputs": []
    },
    {
      "cell_type": "code",
      "source": [
        "device = 'cuda' if torch.cuda.is_available() else 'cpu'\n",
        "device\n"
      ],
      "metadata": {
        "colab": {
          "base_uri": "https://localhost:8080/",
          "height": 35
        },
        "id": "zRbsyyCTDF-G",
        "outputId": "8c6d99f6-f3cb-4c19-e621-8e0d22eaa0e0"
      },
      "execution_count": 4,
      "outputs": [
        {
          "output_type": "execute_result",
          "data": {
            "text/plain": [
              "'cpu'"
            ],
            "application/vnd.google.colaboratory.intrinsic+json": {
              "type": "string"
            }
          },
          "metadata": {},
          "execution_count": 4
        }
      ]
    },
    {
      "cell_type": "code",
      "source": [
        "from google.colab import drive\n",
        "drive.mount('/gdrive')\n",
        "%cd /gdrive"
      ],
      "metadata": {
        "colab": {
          "base_uri": "https://localhost:8080/"
        },
        "id": "Q09D7EbQQCfR",
        "outputId": "33dec07f-794f-4cc4-c89c-4361c1bfaf7e"
      },
      "execution_count": 5,
      "outputs": [
        {
          "output_type": "stream",
          "name": "stdout",
          "text": [
            "Drive already mounted at /gdrive; to attempt to forcibly remount, call drive.mount(\"/gdrive\", force_remount=True).\n",
            "/gdrive\n"
          ]
        }
      ]
    },
    {
      "cell_type": "code",
      "source": [
        "with open('/gdrive/MyDrive/Wikipedia.en-ru.en') as f:\n",
        "    en_all_texts = f.read().splitlines()\n",
        "with open('/gdrive/MyDrive/Wikipedia.en-ru.ru') as f:\n",
        "    ru_all_texts = f.read().splitlines()"
      ],
      "metadata": {
        "id": "_UiKM4m5QZLX"
      },
      "execution_count": 6,
      "outputs": []
    },
    {
      "cell_type": "code",
      "source": [
        "ru_texts = []\n",
        "en_texts = []\n",
        "\n",
        "for ru_text, en_text in zip(ru_all_texts, en_all_texts):\n",
        "    if len(ru_text) < 100 and len(en_text) < 100:\n",
        "        ru_texts.append(ru_text.lower())\n",
        "        en_texts.append(en_text.lower())"
      ],
      "metadata": {
        "id": "3_OwyyfKQnOh"
      },
      "execution_count": 7,
      "outputs": []
    },
    {
      "cell_type": "code",
      "source": [
        "len(ru_texts), len(en_texts)"
      ],
      "metadata": {
        "colab": {
          "base_uri": "https://localhost:8080/"
        },
        "id": "-_0AL-ZsQzD4",
        "outputId": "dd165b01-4f16-41bb-a129-ab8c3065acce"
      },
      "execution_count": 8,
      "outputs": [
        {
          "output_type": "execute_result",
          "data": {
            "text/plain": [
              "(306887, 306887)"
            ]
          },
          "metadata": {},
          "execution_count": 8
        }
      ]
    },
    {
      "cell_type": "code",
      "source": [
        "ru_texts[:20]"
      ],
      "metadata": {
        "id": "rWjziT4tL_If",
        "colab": {
          "base_uri": "https://localhost:8080/"
        },
        "outputId": "e345c91a-9875-414d-90f8-003afbbd536a"
      },
      "execution_count": 9,
      "outputs": [
        {
          "output_type": "execute_result",
          "data": {
            "text/plain": [
              "['через неделю, 1 сентября, германия начала вторжение в польшу.',\n",
              " '29 марта 2004 года литва вступила в нато.',\n",
              " 'число занятых в промышленности — 27,5 % трудоспособного населения.',\n",
              " 'традиционно в россии популярны настольные интеллектуальные игры.',\n",
              " 'о статусе соционики существуют противоположные мнения.',\n",
              " 'д.',\n",
              " '2004.',\n",
              " '2014.',\n",
              " '3-16.',\n",
              " '2014.',\n",
              " '24-40.',\n",
              " 'гос.',\n",
              " 'церковь строилась в качестве кафедрального собора неподалёку от княжеского терема.',\n",
              " 'г.',\n",
              " '* всемирная история.',\n",
              " 'началось стачечное движение и забастовки на железных дорогах россии.',\n",
              " 'на кавказе начались столкновения армян с азербайджанцами, продолжавшиеся в 1905—1906 годах.',\n",
              " 'жителей (1999), с пригородами — 87 800 жителей.',\n",
              " 'д.).',\n",
              " 'n, (2006).']"
            ]
          },
          "metadata": {},
          "execution_count": 9
        }
      ]
    },
    {
      "cell_type": "markdown",
      "source": [
        "Блок кода для обучения"
      ],
      "metadata": {
        "id": "qnk3uEKUMH6h"
      }
    },
    {
      "cell_type": "code",
      "source": [
        "def train_on_batch(model, x_batch, y_batch, optimizer, loss_function):\n",
        "    model.train()\n",
        "    optimizer.zero_grad()\n",
        "\n",
        "    output = model(x_batch.to(model.device), y_batch.to(model.device))\n",
        "\n",
        "    loss = loss_function(output.transpose(1,2),\n",
        "                         y_batch.to(model.device))\n",
        "    \n",
        "    loss.backward()\n",
        "    optimizer.step()\n",
        "    return loss.cpu().item()"
      ],
      "metadata": {
        "id": "cPUh1SDkMMEv"
      },
      "execution_count": 10,
      "outputs": []
    },
    {
      "cell_type": "markdown",
      "source": [
        "TODO => CALLBACK"
      ],
      "metadata": {
        "id": "sDXdxM_vOmtj"
      }
    },
    {
      "cell_type": "code",
      "source": [
        "def train_epoch(train_generator, model, loss_function, optimizer, callback=None):\n",
        "    epoch_loss = 0\n",
        "    total = 0\n",
        "    for it, (batch_of_x, batch_of_y) in enumerate(train_generator):\n",
        "        batch_loss = train_on_batch(model, batch_of_x, batch_of_y, optimizer, loss_function)\n",
        "\n",
        "        if callback is not None:\n",
        "            with torch.no_grad():\n",
        "                callback(model, batch_loss)\n",
        "        epoch_loss += batch_loss*len(batch_of_x)\n",
        "        total += len(batch_of_x)\n",
        "\n",
        "    return epoch_loss/total"
      ],
      "metadata": {
        "id": "O2yHXJTbNqYe"
      },
      "execution_count": 11,
      "outputs": []
    },
    {
      "cell_type": "code",
      "source": [
        "def trainer(count_of_epoch,\n",
        "            batch_size,\n",
        "            dataset,\n",
        "            model,\n",
        "            loss_function,\n",
        "            optimizer,\n",
        "            lr=0.001,\n",
        "            callback=None):\n",
        "    optima = optimizer(model.parameters(), lr=lr)\n",
        "\n",
        "    iterations = tqdm(range(count_of_epoch), desc='epoch')\n",
        "    iterations.set_postfix({'train epoch loss': np.nan})\n",
        "    for it in iterations:\n",
        "        batch_generator = tqdm(\n",
        "            torch.utils.data.DataLoader(dataset=dataset,\n",
        "                                        batch_size=batch_size,\n",
        "                                        shuffle=True, pin_memory=True),\n",
        "                               leave=False, total=len(dataset)//batch_size+(len(dataset)%batch_size>0))\n",
        "        epoch_loss = train_epoch(train_generator=batch_generator,\n",
        "                                 model=model,\n",
        "                                 loss_function=loss_function,\n",
        "                                 optimizer=optima,\n",
        "                                 callback=callback)\n",
        "        iterations.set_postfix({'train epoch loss': epoch_loss})"
      ],
      "metadata": {
        "id": "U0wM_pspRE0S"
      },
      "execution_count": 12,
      "outputs": []
    },
    {
      "cell_type": "markdown",
      "source": [
        "# Attn RNN\n"
      ],
      "metadata": {
        "id": "nr6SldZvo9rA"
      }
    },
    {
      "cell_type": "markdown",
      "source": [
        "\\begin{align}\n",
        "        \\mathbf{с} &= Attn(q,K,V)=\\sum_{i=1} v_i SoftMax_i a(k_i,q)\n",
        "    \\end{align}\n",
        "\n",
        "    * q - вектор-запрос, для которого хотим вычислить контекст\n",
        "    * K = (к_1,...,k_n) - вектор-ключи, сравниваемые с запросом\n",
        "    * V = (v_1,...,v_n) - векторы-значения, образующие контекст\n",
        "    * a(k_i,q) - оценка релевантности (сходства) ключа k_i запросу q\n",
        "    * c - искомый вектор контекста "
      ],
      "metadata": {
        "id": "Nave7PVyq4c4"
      }
    },
    {
      "cell_type": "code",
      "source": [
        "class Encoder(torch.nn.Module):\n",
        "    @property\n",
        "    def device(self):\n",
        "        return next(self.parameters()).device\n",
        "\n",
        "    def __init__(self, vocab_size, emb_dim=30, hidden_dim=30):\n",
        "        super(Encoder, self).__init__()\n",
        "        self.embedding = torch.nn.Embedding(vocab_size, emb_dim)\n",
        "        self.lstm = torch.nn.LSTM(emb_dim, hidden_dim, batch_first=True)\n",
        "\n",
        "    def forward(self, input):\n",
        "        r'''\n",
        "        :param input: тензор размера batch_size x seq_len --- список токенов\n",
        "        '''\n",
        "\n",
        "        act = self.embedding(input)\n",
        "        act, hidden = self.lstm(act)\n",
        "        return act, hidden\n"
      ],
      "metadata": {
        "id": "s-T8gsLfzyH5"
      },
      "execution_count": 14,
      "outputs": []
    },
    {
      "cell_type": "code",
      "source": [
        "class Decoder(torch.nn.Module):\n",
        "    @property\n",
        "    def device(self):\n",
        "        return next(self.parameters()).device\n",
        "\n",
        "    def __init__(self, vocab_size, emb_dim=30, hidden_dim=30):\n",
        "        super(Decoder, self).__init__()\n",
        "        self.embedding = torch.nn.Embedding(vocab_size, emb_dim)\n",
        "        self.attention = torch.nn.MultiheadAttention(emb_dim, 1)\n",
        "        self.lstm = torch.nn.LSTM(emb_dim, hidden_dim, batch_first=True)\n",
        "        self.linear = torch.nn.Linear(hidden_dim, vocab_size)\n",
        "\n",
        "    def forward(self, input, encoder_outputs, hidden):\n",
        "        r\"\"\"\n",
        "        :param input: тензор размера batch_size x seq_len\n",
        "        \"\"\"\n",
        "        act = self.embedding(input)\n",
        "        act, _ = self.attention(act.transpose(0,1),\n",
        "                                encoder_outputs.transpose(0,1),\n",
        "                                encoder_outputs.transpose(0,1))\n",
        "        act = act.transpose(0,1)\n",
        "        act, hidden = self.lstm(act, hidden)\n",
        "        return self.linear(act), hidden"
      ],
      "metadata": {
        "id": "TfXX-kBk3HtS"
      },
      "execution_count": 15,
      "outputs": []
    },
    {
      "cell_type": "code",
      "source": [
        "class seq2seq(torch.nn.Module):\n",
        "    @property\n",
        "    def device(self):\n",
        "        return next(self.parameters()).device\n",
        "    \n",
        "    def __init__(self, vocab_size, emb_dim=30, hidden_dim=30):\n",
        "        super(seq2seq, self).__init__()\n",
        "        self.vocab_size = vocab_size\n",
        "        self.encoder = Encoder(vocab_size, emb_dim, hidden_dim)\n",
        "        self.decoder = Decoder(vocab_size, emb_dim, hidden_dim)\n",
        "\n",
        "    def forward(self, input, decoder_input=None, max_seq_len=64):\n",
        "        r'''\n",
        "        '''\n",
        "        encoder_output, hidden = self.encoder(input)\n",
        "\n",
        "        if decoder_input is None:\n",
        "            translated_scores = torch.zeros(len(input),\n",
        "                                            max_seq_len,\n",
        "                                            self.vocab_size).to(self.device)\n",
        "            translated_scores[:, 0, input[:,0]] = 1.\n",
        "            for i in range(1, max_seq_len):\n",
        "                translated_scores[:, i:i+1], hidden = self.decoder(\n",
        "                    torch.argmax(translated_scores[:, i-1:i], axis=-1),\n",
        "                    encoder_output,hidden)\n",
        "        else:\n",
        "            translated_scores, _ = self.decoder(decoder_input, encoder_output, hidden)\n",
        "        return translated_scores"
      ],
      "metadata": {
        "id": "FSVVY93o6r3M"
      },
      "execution_count": 16,
      "outputs": []
    },
    {
      "cell_type": "code",
      "source": [
        "tokenizer = AutoTokenizer.from_pretrained('bert-base-multilingual-uncased', verbose=False)\n",
        "tokenizer.vocab_size"
      ],
      "metadata": {
        "colab": {
          "base_uri": "https://localhost:8080/",
          "height": 162,
          "referenced_widgets": [
            "26b94bd703fb4a0cba84aeafecefefb4",
            "0a0a7b06cadb4d77959f018b1fb1dcc5",
            "3170eb78c3ee4fc784f7d7536efaa168",
            "34ba0fe4bca74962b4b1c9cc65a47eac",
            "6412e79a85c047aa804ec7648b6b22aa",
            "ce1cd7e4043e4727882863d2707c6d67",
            "37df412a4d254074acdb88ccc7bf466a",
            "f8eaa8fb6acc481aaacaf2cf4cbf0014",
            "dc73ab8ccd094c54885b338dace76ea3",
            "c88910b8edf84d44b5c5e4500df7a3fb",
            "d403556d54ad4d41bc32b0ed60018b89",
            "cd6c959624fd4d329f69ed675c77f1fb",
            "6656141c8a394f04a9b44b2d316a4667",
            "a4c097d1a5f44e3684fc49982b041a01",
            "b74ea94f1fdb47bfadb88afb9af26cc9",
            "b28f427b8767446a80d1a7eabbfec6d7",
            "81f0b03a5f40412e9593c8f9e1b35108",
            "7f2ed43ce09b4e798f17154c2432dba4",
            "9d7e2aff3de24347aa996ca8790099eb",
            "97352c386ffc47c18b29b1ef4b904c6b",
            "9a541c257fff4065ac163c03b63a85d6",
            "24cf82fc45764a63b1d1739f63192a9f",
            "77ab46a0013f41e4b1c43f9ce484d602",
            "218dddda282c4dc7ad748b16f9543ec9",
            "ef611b553adb43f692c2307cd6213b87",
            "83eeb882f42547fda3ad6971c45c1b29",
            "17ce4d91624b452abceeb5c61ffb6447",
            "27b828c202d64470af1acee12cc77d57",
            "af34cd7927ed4c149bd158fb13c7f991",
            "968c4c2668ce483293a4ddb302a5b710",
            "f86e20f4f8634a63b432ea9cec40febd",
            "de6033bb93ed49f78e7d25a48ab719a0",
            "76808daaa53c4446bd92d1669ad1f426",
            "87d034df3a334a5da1ccba56f0290056",
            "94914a0f3d1e41029c8bb0edae3621bd",
            "983c667d2f7249468555cbfeda62df98",
            "f965226933a14e02a892b0b3ff3efd88",
            "8732077c5aae4349afb3016cdf4c7b45",
            "6cec65e3cb4447a2a6e472b275b9f936",
            "cac797ef2bbd40ebaa4247ecfd164311",
            "fd529054a5564a868c64afa3001b90fe",
            "b65d42d1f6b040c9ad641ea7b1e9c5a5",
            "08d28476ca5c406f8abae1298b3681b0",
            "a256832bbbb14231a172875e372eb599"
          ]
        },
        "id": "xNCapO8hAMxI",
        "outputId": "9c48c4ac-ae06-4523-d5c9-fce4d4c88c1d"
      },
      "execution_count": 17,
      "outputs": [
        {
          "output_type": "display_data",
          "data": {
            "text/plain": [
              "Downloading:   0%|          | 0.00/28.0 [00:00<?, ?B/s]"
            ],
            "application/vnd.jupyter.widget-view+json": {
              "version_major": 2,
              "version_minor": 0,
              "model_id": "26b94bd703fb4a0cba84aeafecefefb4"
            }
          },
          "metadata": {}
        },
        {
          "output_type": "display_data",
          "data": {
            "text/plain": [
              "Downloading:   0%|          | 0.00/625 [00:00<?, ?B/s]"
            ],
            "application/vnd.jupyter.widget-view+json": {
              "version_major": 2,
              "version_minor": 0,
              "model_id": "cd6c959624fd4d329f69ed675c77f1fb"
            }
          },
          "metadata": {}
        },
        {
          "output_type": "display_data",
          "data": {
            "text/plain": [
              "Downloading:   0%|          | 0.00/872k [00:00<?, ?B/s]"
            ],
            "application/vnd.jupyter.widget-view+json": {
              "version_major": 2,
              "version_minor": 0,
              "model_id": "77ab46a0013f41e4b1c43f9ce484d602"
            }
          },
          "metadata": {}
        },
        {
          "output_type": "display_data",
          "data": {
            "text/plain": [
              "Downloading:   0%|          | 0.00/1.72M [00:00<?, ?B/s]"
            ],
            "application/vnd.jupyter.widget-view+json": {
              "version_major": 2,
              "version_minor": 0,
              "model_id": "87d034df3a334a5da1ccba56f0290056"
            }
          },
          "metadata": {}
        },
        {
          "output_type": "execute_result",
          "data": {
            "text/plain": [
              "105879"
            ]
          },
          "metadata": {},
          "execution_count": 17
        }
      ]
    },
    {
      "cell_type": "code",
      "source": [
        "en_text_tenzors = tokenizer(en_texts[:20000],\n",
        "                            return_tensors='pt', max_length=64, padding=True)\n",
        "ru_text_tenzors = tokenizer(ru_texts[:20000],\n",
        "                            return_tensors='pt', max_length=64, padding=True)"
      ],
      "metadata": {
        "id": "yYVne5emCTmS"
      },
      "execution_count": 18,
      "outputs": []
    },
    {
      "cell_type": "code",
      "source": [
        "dataset_train_pt = torch.utils.data.TensorDataset(\n",
        "    en_text_tenzors['input_ids'][:19000], ru_text_tenzors['input_ids'][:19000])\n",
        "dataset_test_pt = torch.utils.data.TensorDataset(\n",
        "    en_text_tenzors['input_ids'][19000:], ru_text_tenzors['input_ids'][19000:])"
      ],
      "metadata": {
        "id": "JK_Y4CTOC2cR"
      },
      "execution_count": 19,
      "outputs": []
    },
    {
      "cell_type": "code",
      "source": [
        "model = seq2seq(tokenizer.vocab_size)\n",
        "model.to(device)"
      ],
      "metadata": {
        "id": "HnPAyDCNDrOr"
      },
      "execution_count": null,
      "outputs": []
    },
    {
      "cell_type": "code",
      "source": [
        "# https://pytorch.org/docs/stable/generated/torch.nn.CrossEntropyLoss.html\n",
        "loss_function = torch.nn.CrossEntropyLoss(ignore_index=0)\n",
        "optimizer = torch.optim.Adam"
      ],
      "metadata": {
        "id": "I0PIxxurEP57"
      },
      "execution_count": 21,
      "outputs": []
    },
    {
      "cell_type": "code",
      "source": [
        "trainer(count_of_epoch=15, \n",
        "        batch_size=64, \n",
        "        dataset=dataset_train_pt,\n",
        "        model=model, \n",
        "        loss_function=loss_function,\n",
        "        optimizer = optimizer,\n",
        "        lr=0.001,\n",
        "        callback=None)"
      ],
      "metadata": {
        "colab": {
          "base_uri": "https://localhost:8080/",
          "height": 81,
          "referenced_widgets": [
            "06168d7733594b8f8ebe0d395f8b3e10",
            "04129747e33640a08a6ab93fc97dd6fd",
            "8e63ba9e63c04061baebfb7614ff3ba3",
            "96529bfbd5084a4caff8d3c4145cd360",
            "3d2d68af884a403fa5f54e995ce37f70",
            "07f45753602e498085e7ca664fa90ef1",
            "b7a5d585fa1e40999ac9afab3dc811a2",
            "e6f4a48895f04578856604e5b294b729",
            "5609ccd8640c445bbe4163e77b4f570b",
            "2fbfcbaf778d427faa197fe15e8e88c2",
            "b88417c02cd6442c8c09f004130c0009",
            "54901378239a4e39ab3b3023c53d8523",
            "96b2d864ce674adeb9e9d0fb57b381dc",
            "6235aa2cd2f94ce6b557154963afb737",
            "7ad5eea949d54dc8ba0d104c4601ef9b",
            "41ebea14d81f4846b458e11f12b9da21",
            "823b1d1f33cd4c97a4de0e0a3ec3b2b4",
            "5526cd22f20249b2b9de4aaf7c3e2743",
            "065d382a601c45fcbdde141a4c83ace8",
            "5f27c87789ce46d2914b8538df7812ef",
            "31b94e17708d42bfbe717b43e84ad139",
            "cebf8f168b4f4a8c8dc5000f4a4ef6cf",
            "ca34b8aa87804426964e6d83a9e2dde2",
            "b3d56b23c186401dac21ec2c54e12ff0",
            "9f1135c6ee0c47bfacc24eba2971b696",
            "77bf1833600b442fa578930588a7e2bf",
            "74d0ab05440d4ed0b9333b1207373510",
            "585b7194a22240ce9e16286a12c37f13",
            "3007892f925948eea78630a4bc9e07be",
            "b153018b50f6440d9da67f8f54de3f04",
            "93ceee46d44346399fb7551008f7ec85",
            "1890b05c71a740a3a85541cb309c37f9",
            "ecaed1e6d2a844d2b63f4940bac9c102"
          ]
        },
        "id": "pC9HpOOUETXC",
        "outputId": "4a23d99e-0170-483f-ca27-ee72f0ae1933"
      },
      "execution_count": null,
      "outputs": [
        {
          "output_type": "display_data",
          "data": {
            "text/plain": [
              "epoch:   0%|          | 0/15 [00:00<?, ?it/s]"
            ],
            "application/vnd.jupyter.widget-view+json": {
              "version_major": 2,
              "version_minor": 0,
              "model_id": "06168d7733594b8f8ebe0d395f8b3e10"
            }
          },
          "metadata": {}
        },
        {
          "output_type": "display_data",
          "data": {
            "text/plain": [
              "  0%|          | 0/297 [00:00<?, ?it/s]"
            ],
            "application/vnd.jupyter.widget-view+json": {
              "version_major": 2,
              "version_minor": 0,
              "model_id": "54901378239a4e39ab3b3023c53d8523"
            }
          },
          "metadata": {}
        },
        {
          "output_type": "display_data",
          "data": {
            "text/plain": [
              "  0%|          | 0/297 [00:00<?, ?it/s]"
            ],
            "application/vnd.jupyter.widget-view+json": {
              "version_major": 2,
              "version_minor": 0,
              "model_id": "ca34b8aa87804426964e6d83a9e2dde2"
            }
          },
          "metadata": {}
        }
      ]
    },
    {
      "cell_type": "code",
      "source": [
        "tokens_en = tokenizer(['in 1924, most of the site was converted to a museum.'], return_tensors='pt')\n",
        "tokens_ru = tokenizer(['в 1924 году крепость стала музеем'],return_tensors='pt')\n",
        "with torch.no_grad():\n",
        "    answer = torch.argmax(\n",
        "        model(tokens_en['input_ids'].to(model.device),\n",
        "              tokens_ru['input_ids'].to(model.device), max_seq_len=10),axis=-1)\n",
        "tokenizer.decode(answer[0])"
      ],
      "metadata": {
        "id": "bs6P7STFKomF"
      },
      "execution_count": null,
      "outputs": []
    },
    {
      "cell_type": "code",
      "source": [
        "with torch.no_grad():\n",
        "    encoder_outputs, _=model.encoder(\n",
        "        tokens_en['input_ids'].to(model.device))\n",
        "    decoder_embedding = model.decoder.embedding(\n",
        "        tokens_ru['input_ids'].to(model.device))\n",
        "    \n",
        "    act, act_weight = model.decoder.attention(\n",
        "        decoder_embedding.transpose(0,1),\n",
        "        encoder_outputs.transpose(0,1),\n",
        "        encoder_outputs.transpose(0,1))"
      ],
      "metadata": {
        "id": "ydxzuKDhM6fw"
      },
      "execution_count": null,
      "outputs": []
    },
    {
      "cell_type": "code",
      "source": [
        "attention_frame = pd.DataFrame(\n",
        "    act_weight[0].cpu().numpy(),\n",
        "    index=tokenizer.convert_ids_to_tokens(\n",
        "        tokens_ru['input_ids'][0].cpu().numpy()),\n",
        "    columns=tokenizer.convert_ids_to_tokens(\n",
        "        tokens_en['input_ids'][0].cpu().numpy()))"
      ],
      "metadata": {
        "id": "C4ob8k2gOHpJ"
      },
      "execution_count": null,
      "outputs": []
    },
    {
      "cell_type": "code",
      "source": [
        "sns.heatmap(data=attention_frame)\n",
        "\n",
        "plt.show()"
      ],
      "metadata": {
        "id": "IQ8m15wVQCCE"
      },
      "execution_count": null,
      "outputs": []
    },
    {
      "cell_type": "markdown",
      "source": [
        "# ТРАНСФОРМЕР"
      ],
      "metadata": {
        "id": "oTTnrp9FQFJb"
      }
    },
    {
      "cell_type": "markdown",
      "source": [
        "**seq2seq** -  RNN для снтеза последовательностей"
      ],
      "metadata": {
        "id": "9KsUZ1pARC00"
      }
    },
    {
      "cell_type": "code",
      "source": [
        "class Encoder(torch.nn.Module):\n",
        "    @property\n",
        "    def device(self):\n",
        "        return next(self.parameters()).device\n",
        "\n",
        "    def __init__(self, vocab_size, emb_dim=30, hidden_dim=30):\n",
        "        super(Encoder, self).__init__()\n",
        "        self.layers = torch.nn.Sequential()\n",
        "        self.embedding = torch.nn.Embedding(vocab_size, emb_dim)\n",
        "        self.attention1 = torch.nn.MultiheadAttention(emb_dim, 1)\n",
        "        self.linear1 = torch.nn.Linear(emb_dim, hidden_dim)\n",
        "        self.relu = torch.nn.ReLU()\n",
        "        self.attention2 = torch.nn.MultiheadAttention(hidden_dim,1)\n",
        "        self.linear2 = torch.nn.Linear(hidden_dim, hidden_dim)\n",
        "\n",
        "    def forward(self, input):\n",
        "        r'''\n",
        "        :param input: тензор размера batch_size x seq_len --- список токенов\n",
        "        '''\n",
        "        input = input.transponse(0,1)\n",
        "        act = self.embedding(input)\n",
        "        act, _ = self.attention1(act, act, act)\n",
        "        act = self.relu(act)\n",
        "        act = self.linear1(act)\n",
        "        act = self.relu(act)\n",
        "        act, _= self.attention2(act, act, act)\n",
        "        act = self.relu(act)\n",
        "        act = self.linear2(act)\n",
        "        return act.transpose(0, 1)"
      ],
      "metadata": {
        "id": "1MNlhNpxQpKr"
      },
      "execution_count": null,
      "outputs": []
    },
    {
      "cell_type": "code",
      "source": [
        "class Decoder(torch.nn.Module):\n",
        "    @property\n",
        "    def device(self):\n",
        "        return next(self.parameters()).device\n",
        "\n",
        "    def __init__(self, vocab_size, emb_dim=30, hidden_dim=30):\n",
        "        super(Decoder, self).__init__()\n",
        "        self.embedding = torch.nn.Embedding(vocab_size, emb_dim)\n",
        "        self.attention = torch.nn.MultiheadAttention(emb_dim, 1)\n",
        "        self.linear1 = torch.nn.Linear(emb_dim, hidden_dim)\n",
        "        self.relu = torch.nn.ReLU()\n",
        "\n",
        "        self.attention2 = torch.nn.MultiheadAttention(hidden_dim, 1)\n",
        "        self.linear2 = torch.nn.Linear(hidden_dim, hidden_dim)\n",
        "\n",
        "        self.linear = torch.nn.Linear(hidden_dim, vocab_size)\n",
        "\n",
        "    def forward(self, input, encoder_outputs):\n",
        "        r'''\n",
        "        :param input: тезор размера batch_size x seq_len\n",
        "        '''\n",
        "        input = input.transpose(0, 1)\n",
        "        act = self.embedding(input)\n",
        "\n",
        "        act, _ = self.attention(act, \n",
        "                                encoder_outputs.transpose(0, 1), \n",
        "                                encoder_outputs.transpose(0, 1))\n",
        "        \n",
        "        act = self.relu(act)\n",
        "        act = self.linear1(act)\n",
        "        act = self.relu(act)\n",
        "        act, _ = self.attention2(act, \n",
        "                                 encoder_outputs.transpose(0, 1), \n",
        "                                 encoder_outputs.transpose(0, 1))\n",
        "        act = self.relu(act)\n",
        "        act = self.linear2(act)\n",
        "\n",
        "        return self.linear(act).transpose(0, 1)\n"
      ],
      "metadata": {
        "id": "9b5XOpOkQpsG"
      },
      "execution_count": null,
      "outputs": []
    },
    {
      "cell_type": "code",
      "source": [
        "class seq2seq(torch.nn.Module):\n",
        "    @property\n",
        "    def device(self):\n",
        "        return next(self.parameters()).device\n",
        "    def __init__(self, vocab_size, emb_dim=30, hidden_dim=30):\n",
        "        super(seq2seq, self).__init__()\n",
        "        self.vocab_size = vocab_size\n",
        "        self.encoder = Encoder(vocab_size, emb_dim, hidden_dim)\n",
        "        self.decoder = Decoder(vocab_size, emb_dim, hidden_dim)\n",
        "\n",
        "    def forward(self, input, decoder_input=None, max_seq_len=64):\n",
        "        r'''\n",
        "        '''\n",
        "        encoder_output = self.encoder(input)\n",
        "        if decoder_input is None:\n",
        "            translated_scores = torch.zeros(len(input),\n",
        "                                            max_seq_len,\n",
        "                                            self.vocab_size).to(self.device)\n",
        "            translated_scores[:,0,input[:,0]] = 1\n",
        "            for i in range(1, max_seq_len):\n",
        "                translated_scores[:, i:i+1] = self.decoder(\n",
        "                    torch.argmax(translated_scores, axis=-1),\n",
        "                    encoder_output)[:, i:i+1]\n",
        "        else:\n",
        "            translated_scores = self.decoder(\n",
        "                decoder_input, encoder_output)\n",
        "        return translated_scores"
      ],
      "metadata": {
        "id": "gK157lszQpyE"
      },
      "execution_count": null,
      "outputs": []
    },
    {
      "cell_type": "code",
      "source": [
        "model = seq2seq(tokenizer.vocab_size)\n",
        "model.to(device)"
      ],
      "metadata": {
        "id": "LSCtZP3qnDMm"
      },
      "execution_count": null,
      "outputs": []
    },
    {
      "cell_type": "code",
      "source": [
        "tokens_en = tokenizer(['in 1924, most of the site was converted to a museum.'],return_tensors='pt')\n",
        "tokens_ru = tokenizer(['в 1924 году крепость стала музеем.'],return_tensors='pt')\n",
        "with torch.no_grad():\n",
        "    answer = torch.argmax(\n",
        "        model(tokens_en['input_ids'].to(model.device),\n",
        "              tokens_ru['input_ids'].to(model.device)),\n",
        "              axis=-1\n",
        "    )\n",
        "tokenizer.decode(answer[0])"
      ],
      "metadata": {
        "id": "qQ8EyzKEoSTF"
      },
      "execution_count": null,
      "outputs": []
    },
    {
      "cell_type": "code",
      "source": [
        "loss_function = torch.nn.CrossEntropyLoss(ignore_index=0)\n",
        "optimizer = torch.optim.Adam"
      ],
      "metadata": {
        "id": "73ZJuwQEqFys"
      },
      "execution_count": null,
      "outputs": []
    },
    {
      "cell_type": "code",
      "source": [
        "trainer(count_of_epoch=5,\n",
        "        batch_size=64,\n",
        "        dataset=dataset_train_pt,\n",
        "        model=model,\n",
        "        loss_function=loss_function,\n",
        "        optimizer=optimizer,\n",
        "        lr=0.001,\n",
        "        callback=None)"
      ],
      "metadata": {
        "id": "Y4h2FXqsrqXg"
      },
      "execution_count": null,
      "outputs": []
    },
    {
      "cell_type": "code",
      "source": [
        "tokens_en = tokenizer(['in 1924, most of the site was converted to a museum.'], return_tensors='pt')\n",
        "tokens_ru = tokenizer(['в 1924 году крепость стала музеем.'], return_tensors='pt')\n",
        "with torch.no_grad():\n",
        "    answer = torch.argmax(\n",
        "        model(tokens_en['input_ids'].to(model.device), \n",
        "              tokens_ru['input_ids'].to(model.device)), \n",
        "        axis=-1)\n",
        "tokenizer.decode(answer[0])"
      ],
      "metadata": {
        "id": "zBGfCfH5sSqw"
      },
      "execution_count": null,
      "outputs": []
    },
    {
      "cell_type": "markdown",
      "source": [
        "# **Tensor2Tensor**"
      ],
      "metadata": {
        "id": "hIJCEyMtsXoM"
      }
    },
    {
      "cell_type": "code",
      "source": [
        "from transformers import MarianMTModel\n",
        "tokenizer = MarianTokenizer.from_pretrained('Helsinki-NLP/opus-mt-ru-en')\n",
        "model = MarianMTModel.from_pretrained('Helsinki-NLP/opus-mt-ru-en')\n",
        "model.to(device)"
      ],
      "metadata": {
        "id": "T2P0DrpqtDtx"
      },
      "execution_count": null,
      "outputs": []
    },
    {
      "cell_type": "code",
      "source": [
        "batch_x = tokenizer.prepare_seq2seq_batch(src_texts=['Привет мир, меня зовут Трансформер'],return_tensors='pt')"
      ],
      "metadata": {
        "id": "coDLa4fVudp2"
      },
      "execution_count": null,
      "outputs": []
    },
    {
      "cell_type": "code",
      "source": [
        "tokenizer.batch_decode(model.generate(**batch_x.to(device)))"
      ],
      "metadata": {
        "id": "QkLurviFvIM_"
      },
      "execution_count": null,
      "outputs": []
    },
    {
      "cell_type": "markdown",
      "source": [
        "# Токенизация Byte Pair Encoding **BPE**"
      ],
      "metadata": {
        "id": "rHoIQHP8v14g"
      }
    },
    {
      "cell_type": "code",
      "source": [
        "tokenizer = AutoTokenizer.from_pretrained('sentence-transformers/LaBSE', verbose=False)\n",
        "tokenizer.vocab_size"
      ],
      "metadata": {
        "id": "a_1tAofMwk1v"
      },
      "execution_count": null,
      "outputs": []
    },
    {
      "cell_type": "code",
      "source": [
        "tokenizer.tokenize('Hello Mathematic, my Name is Alexey, how are you&')"
      ],
      "metadata": {
        "id": "frx2xZSvxOUf"
      },
      "execution_count": null,
      "outputs": []
    },
    {
      "cell_type": "markdown",
      "source": [
        "# Bidirectional Encoder Representations from Transfomers - BERT"
      ],
      "metadata": {
        "id": "3zudr7X0xuQ4"
      }
    },
    {
      "cell_type": "code",
      "source": [
        "tokenizer = AutoTokenizer.from_pretrained('bert-base-multilingual-cased', verbose=False)\n",
        "model = AutoModel.from_pretrained('bert-base-multilingual-cased')\n",
        "model.to(device)"
      ],
      "metadata": {
        "id": "vWgjiTAkxkvq"
      },
      "execution_count": null,
      "outputs": []
    },
    {
      "cell_type": "code",
      "source": [
        "tokens = tokenizer(['Hello World','Alexey Litovchenko'], return_tensors='pt', padding=True)\n",
        "with torch.no_grad():\n",
        "    output =  model(**tokens.to(device))"
      ],
      "metadata": {
        "id": "rNaegSwSzGnF"
      },
      "execution_count": null,
      "outputs": []
    },
    {
      "cell_type": "code",
      "source": [
        "tokens['input_ids']"
      ],
      "metadata": {
        "id": "pT_SaDYw1WJY"
      },
      "execution_count": null,
      "outputs": []
    },
    {
      "cell_type": "code",
      "source": [
        "output[0].shape, output[1].shape"
      ],
      "metadata": {
        "id": "S7LlGOtG1bRm"
      },
      "execution_count": null,
      "outputs": []
    },
    {
      "cell_type": "code",
      "source": [
        "tokens"
      ],
      "metadata": {
        "id": "9ZoTvEx81myH"
      },
      "execution_count": null,
      "outputs": []
    },
    {
      "cell_type": "markdown",
      "source": [
        "#Language-agnostic BERT Sentence Embedding **BERT**"
      ],
      "metadata": {
        "id": "-6NR8_MK1owj"
      }
    },
    {
      "cell_type": "code",
      "source": [
        "tokenizer = AutoTokenizer.from_pretrained('sentence-transformers/LaBSE', \n",
        "                                          verbose=False)\n",
        "model = AutoModel.from_pretrained('sentence-transformers/LaBSE')\n",
        "model.to(device)\n"
      ],
      "metadata": {
        "id": "dqkdiwQS1nqC"
      },
      "execution_count": null,
      "outputs": []
    },
    {
      "cell_type": "code",
      "source": [
        "tokens = tokenizer(['Moscow Institute of Physics and Technology', \n",
        "                    'Московский Физико-Технический Институт', \n",
        "                    'Московский Государственный Университет', \n",
        "                    'Moscow State University'], \n",
        "                   return_tensors='pt', padding=True)\n",
        "\n",
        "with torch.no_grad():\n",
        "    output = model(**tokens.to(device))\n",
        "\n",
        "sentence_embeding = output[1].cpu().numpy()"
      ],
      "metadata": {
        "id": "kgyyBE2X3OaH"
      },
      "execution_count": null,
      "outputs": []
    },
    {
      "cell_type": "code",
      "source": [
        "sentence_embeding.shape"
      ],
      "metadata": {
        "id": "ut8CRbCB3VIf"
      },
      "execution_count": null,
      "outputs": []
    },
    {
      "cell_type": "code",
      "source": [
        "frame = pd.DataFrame(np.round(\n",
        "    scipy.spatial.distance.cdist(sentence_embeding, sentence_embeding, \n",
        "                                 metric='cosine'), 2))"
      ],
      "metadata": {
        "id": "r-JmdWQQ3XIl"
      },
      "execution_count": null,
      "outputs": []
    },
    {
      "cell_type": "code",
      "source": [
        "sns.heatmap(data=frame)\n",
        "\n",
        "plt.show()"
      ],
      "metadata": {
        "id": "I2F0mrl53Yz-"
      },
      "execution_count": null,
      "outputs": []
    }
  ]
}