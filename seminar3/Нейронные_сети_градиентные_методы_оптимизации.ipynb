{
  "nbformat": 4,
  "nbformat_minor": 0,
  "metadata": {
    "colab": {
      "provenance": [],
      "toc_visible": true,
      "authorship_tag": "ABX9TyMa2tXPBPE1r0BTzpkD36uv",
      "include_colab_link": true
    },
    "kernelspec": {
      "name": "python3",
      "display_name": "Python 3"
    },
    "language_info": {
      "name": "python"
    },
    "accelerator": "GPU",
    "gpuClass": "standard",
    "widgets": {
      "application/vnd.jupyter.widget-state+json": {
        "acf7561b486544d7a8ff7170ca8673ed": {
          "model_module": "@jupyter-widgets/controls",
          "model_name": "HBoxModel",
          "model_module_version": "1.5.0",
          "state": {
            "_dom_classes": [],
            "_model_module": "@jupyter-widgets/controls",
            "_model_module_version": "1.5.0",
            "_model_name": "HBoxModel",
            "_view_count": null,
            "_view_module": "@jupyter-widgets/controls",
            "_view_module_version": "1.5.0",
            "_view_name": "HBoxView",
            "box_style": "",
            "children": [
              "IPY_MODEL_577e9aaa5189465d9b4de5baa5338051",
              "IPY_MODEL_dcae4306d5b7411b86c3a234a49cb82a",
              "IPY_MODEL_b44b8bb79d614e769f99456cb0a71616"
            ],
            "layout": "IPY_MODEL_62c73f5e7f8d40c3bb7695674a5cf292"
          }
        },
        "577e9aaa5189465d9b4de5baa5338051": {
          "model_module": "@jupyter-widgets/controls",
          "model_name": "HTMLModel",
          "model_module_version": "1.5.0",
          "state": {
            "_dom_classes": [],
            "_model_module": "@jupyter-widgets/controls",
            "_model_module_version": "1.5.0",
            "_model_name": "HTMLModel",
            "_view_count": null,
            "_view_module": "@jupyter-widgets/controls",
            "_view_module_version": "1.5.0",
            "_view_name": "HTMLView",
            "description": "",
            "description_tooltip": null,
            "layout": "IPY_MODEL_fca51335b03a4074849a9d48192629e1",
            "placeholder": "​",
            "style": "IPY_MODEL_123b365ac9c341188847927299c849cf",
            "value": "  0%"
          }
        },
        "dcae4306d5b7411b86c3a234a49cb82a": {
          "model_module": "@jupyter-widgets/controls",
          "model_name": "FloatProgressModel",
          "model_module_version": "1.5.0",
          "state": {
            "_dom_classes": [],
            "_model_module": "@jupyter-widgets/controls",
            "_model_module_version": "1.5.0",
            "_model_name": "FloatProgressModel",
            "_view_count": null,
            "_view_module": "@jupyter-widgets/controls",
            "_view_module_version": "1.5.0",
            "_view_name": "ProgressView",
            "bar_style": "",
            "description": "",
            "description_tooltip": null,
            "layout": "IPY_MODEL_0203ec7b386640fd9f15adb382f6104e",
            "max": 4,
            "min": 0,
            "orientation": "horizontal",
            "style": "IPY_MODEL_1b526903a1cc433d8dcc57c57dae508c",
            "value": 4
          }
        },
        "b44b8bb79d614e769f99456cb0a71616": {
          "model_module": "@jupyter-widgets/controls",
          "model_name": "HTMLModel",
          "model_module_version": "1.5.0",
          "state": {
            "_dom_classes": [],
            "_model_module": "@jupyter-widgets/controls",
            "_model_module_version": "1.5.0",
            "_model_name": "HTMLModel",
            "_view_count": null,
            "_view_module": "@jupyter-widgets/controls",
            "_view_module_version": "1.5.0",
            "_view_name": "HTMLView",
            "description": "",
            "description_tooltip": null,
            "layout": "IPY_MODEL_3bb356bae91e4578bd6a215c55dd4e40",
            "placeholder": "​",
            "style": "IPY_MODEL_e2e87a6b4af14022806e05e76c3a2cd8",
            "value": " 0/4 [00:00&lt;?, ?it/s]"
          }
        },
        "62c73f5e7f8d40c3bb7695674a5cf292": {
          "model_module": "@jupyter-widgets/base",
          "model_name": "LayoutModel",
          "model_module_version": "1.2.0",
          "state": {
            "_model_module": "@jupyter-widgets/base",
            "_model_module_version": "1.2.0",
            "_model_name": "LayoutModel",
            "_view_count": null,
            "_view_module": "@jupyter-widgets/base",
            "_view_module_version": "1.2.0",
            "_view_name": "LayoutView",
            "align_content": null,
            "align_items": null,
            "align_self": null,
            "border": null,
            "bottom": null,
            "display": null,
            "flex": null,
            "flex_flow": null,
            "grid_area": null,
            "grid_auto_columns": null,
            "grid_auto_flow": null,
            "grid_auto_rows": null,
            "grid_column": null,
            "grid_gap": null,
            "grid_row": null,
            "grid_template_areas": null,
            "grid_template_columns": null,
            "grid_template_rows": null,
            "height": null,
            "justify_content": null,
            "justify_items": null,
            "left": null,
            "margin": null,
            "max_height": null,
            "max_width": null,
            "min_height": null,
            "min_width": null,
            "object_fit": null,
            "object_position": null,
            "order": null,
            "overflow": null,
            "overflow_x": null,
            "overflow_y": null,
            "padding": null,
            "right": null,
            "top": null,
            "visibility": "hidden",
            "width": null
          }
        },
        "fca51335b03a4074849a9d48192629e1": {
          "model_module": "@jupyter-widgets/base",
          "model_name": "LayoutModel",
          "model_module_version": "1.2.0",
          "state": {
            "_model_module": "@jupyter-widgets/base",
            "_model_module_version": "1.2.0",
            "_model_name": "LayoutModel",
            "_view_count": null,
            "_view_module": "@jupyter-widgets/base",
            "_view_module_version": "1.2.0",
            "_view_name": "LayoutView",
            "align_content": null,
            "align_items": null,
            "align_self": null,
            "border": null,
            "bottom": null,
            "display": null,
            "flex": null,
            "flex_flow": null,
            "grid_area": null,
            "grid_auto_columns": null,
            "grid_auto_flow": null,
            "grid_auto_rows": null,
            "grid_column": null,
            "grid_gap": null,
            "grid_row": null,
            "grid_template_areas": null,
            "grid_template_columns": null,
            "grid_template_rows": null,
            "height": null,
            "justify_content": null,
            "justify_items": null,
            "left": null,
            "margin": null,
            "max_height": null,
            "max_width": null,
            "min_height": null,
            "min_width": null,
            "object_fit": null,
            "object_position": null,
            "order": null,
            "overflow": null,
            "overflow_x": null,
            "overflow_y": null,
            "padding": null,
            "right": null,
            "top": null,
            "visibility": null,
            "width": null
          }
        },
        "123b365ac9c341188847927299c849cf": {
          "model_module": "@jupyter-widgets/controls",
          "model_name": "DescriptionStyleModel",
          "model_module_version": "1.5.0",
          "state": {
            "_model_module": "@jupyter-widgets/controls",
            "_model_module_version": "1.5.0",
            "_model_name": "DescriptionStyleModel",
            "_view_count": null,
            "_view_module": "@jupyter-widgets/base",
            "_view_module_version": "1.2.0",
            "_view_name": "StyleView",
            "description_width": ""
          }
        },
        "0203ec7b386640fd9f15adb382f6104e": {
          "model_module": "@jupyter-widgets/base",
          "model_name": "LayoutModel",
          "model_module_version": "1.2.0",
          "state": {
            "_model_module": "@jupyter-widgets/base",
            "_model_module_version": "1.2.0",
            "_model_name": "LayoutModel",
            "_view_count": null,
            "_view_module": "@jupyter-widgets/base",
            "_view_module_version": "1.2.0",
            "_view_name": "LayoutView",
            "align_content": null,
            "align_items": null,
            "align_self": null,
            "border": null,
            "bottom": null,
            "display": null,
            "flex": null,
            "flex_flow": null,
            "grid_area": null,
            "grid_auto_columns": null,
            "grid_auto_flow": null,
            "grid_auto_rows": null,
            "grid_column": null,
            "grid_gap": null,
            "grid_row": null,
            "grid_template_areas": null,
            "grid_template_columns": null,
            "grid_template_rows": null,
            "height": null,
            "justify_content": null,
            "justify_items": null,
            "left": null,
            "margin": null,
            "max_height": null,
            "max_width": null,
            "min_height": null,
            "min_width": null,
            "object_fit": null,
            "object_position": null,
            "order": null,
            "overflow": null,
            "overflow_x": null,
            "overflow_y": null,
            "padding": null,
            "right": null,
            "top": null,
            "visibility": null,
            "width": null
          }
        },
        "1b526903a1cc433d8dcc57c57dae508c": {
          "model_module": "@jupyter-widgets/controls",
          "model_name": "ProgressStyleModel",
          "model_module_version": "1.5.0",
          "state": {
            "_model_module": "@jupyter-widgets/controls",
            "_model_module_version": "1.5.0",
            "_model_name": "ProgressStyleModel",
            "_view_count": null,
            "_view_module": "@jupyter-widgets/base",
            "_view_module_version": "1.2.0",
            "_view_name": "StyleView",
            "bar_color": null,
            "description_width": ""
          }
        },
        "3bb356bae91e4578bd6a215c55dd4e40": {
          "model_module": "@jupyter-widgets/base",
          "model_name": "LayoutModel",
          "model_module_version": "1.2.0",
          "state": {
            "_model_module": "@jupyter-widgets/base",
            "_model_module_version": "1.2.0",
            "_model_name": "LayoutModel",
            "_view_count": null,
            "_view_module": "@jupyter-widgets/base",
            "_view_module_version": "1.2.0",
            "_view_name": "LayoutView",
            "align_content": null,
            "align_items": null,
            "align_self": null,
            "border": null,
            "bottom": null,
            "display": null,
            "flex": null,
            "flex_flow": null,
            "grid_area": null,
            "grid_auto_columns": null,
            "grid_auto_flow": null,
            "grid_auto_rows": null,
            "grid_column": null,
            "grid_gap": null,
            "grid_row": null,
            "grid_template_areas": null,
            "grid_template_columns": null,
            "grid_template_rows": null,
            "height": null,
            "justify_content": null,
            "justify_items": null,
            "left": null,
            "margin": null,
            "max_height": null,
            "max_width": null,
            "min_height": null,
            "min_width": null,
            "object_fit": null,
            "object_position": null,
            "order": null,
            "overflow": null,
            "overflow_x": null,
            "overflow_y": null,
            "padding": null,
            "right": null,
            "top": null,
            "visibility": null,
            "width": null
          }
        },
        "e2e87a6b4af14022806e05e76c3a2cd8": {
          "model_module": "@jupyter-widgets/controls",
          "model_name": "DescriptionStyleModel",
          "model_module_version": "1.5.0",
          "state": {
            "_model_module": "@jupyter-widgets/controls",
            "_model_module_version": "1.5.0",
            "_model_name": "DescriptionStyleModel",
            "_view_count": null,
            "_view_module": "@jupyter-widgets/base",
            "_view_module_version": "1.2.0",
            "_view_name": "StyleView",
            "description_width": ""
          }
        },
        "9f906f9b5d4a46d690e8bcd1fdb49e9a": {
          "model_module": "@jupyter-widgets/controls",
          "model_name": "HBoxModel",
          "model_module_version": "1.5.0",
          "state": {
            "_dom_classes": [],
            "_model_module": "@jupyter-widgets/controls",
            "_model_module_version": "1.5.0",
            "_model_name": "HBoxModel",
            "_view_count": null,
            "_view_module": "@jupyter-widgets/controls",
            "_view_module_version": "1.5.0",
            "_view_name": "HBoxView",
            "box_style": "",
            "children": [
              "IPY_MODEL_b619f54657ae49fd8b8ce095d55aa8ed",
              "IPY_MODEL_cc8ce9a82e464a9abe5d91ea1d266fbb",
              "IPY_MODEL_9428071d28ae4ce9abfb741d686e44ed"
            ],
            "layout": "IPY_MODEL_c84a043763ea40d9b8708cadadfdc490"
          }
        },
        "b619f54657ae49fd8b8ce095d55aa8ed": {
          "model_module": "@jupyter-widgets/controls",
          "model_name": "HTMLModel",
          "model_module_version": "1.5.0",
          "state": {
            "_dom_classes": [],
            "_model_module": "@jupyter-widgets/controls",
            "_model_module_version": "1.5.0",
            "_model_name": "HTMLModel",
            "_view_count": null,
            "_view_module": "@jupyter-widgets/controls",
            "_view_module_version": "1.5.0",
            "_view_name": "HTMLView",
            "description": "",
            "description_tooltip": null,
            "layout": "IPY_MODEL_febb75ccb32d4a589c63dd4b3572082e",
            "placeholder": "​",
            "style": "IPY_MODEL_905f3f7f2c1147c0b3143a3d6ab62d9e",
            "value": " 99%"
          }
        },
        "cc8ce9a82e464a9abe5d91ea1d266fbb": {
          "model_module": "@jupyter-widgets/controls",
          "model_name": "FloatProgressModel",
          "model_module_version": "1.5.0",
          "state": {
            "_dom_classes": [],
            "_model_module": "@jupyter-widgets/controls",
            "_model_module_version": "1.5.0",
            "_model_name": "FloatProgressModel",
            "_view_count": null,
            "_view_module": "@jupyter-widgets/controls",
            "_view_module_version": "1.5.0",
            "_view_name": "ProgressView",
            "bar_style": "",
            "description": "",
            "description_tooltip": null,
            "layout": "IPY_MODEL_fbb613caae204c3cb15ec68af33792f9",
            "max": 938,
            "min": 0,
            "orientation": "horizontal",
            "style": "IPY_MODEL_99d2fbc80cc549ffb6104e4e38f28214",
            "value": 938
          }
        },
        "9428071d28ae4ce9abfb741d686e44ed": {
          "model_module": "@jupyter-widgets/controls",
          "model_name": "HTMLModel",
          "model_module_version": "1.5.0",
          "state": {
            "_dom_classes": [],
            "_model_module": "@jupyter-widgets/controls",
            "_model_module_version": "1.5.0",
            "_model_name": "HTMLModel",
            "_view_count": null,
            "_view_module": "@jupyter-widgets/controls",
            "_view_module_version": "1.5.0",
            "_view_name": "HTMLView",
            "description": "",
            "description_tooltip": null,
            "layout": "IPY_MODEL_9df29647e36f4c2895c11cb646ff5e38",
            "placeholder": "​",
            "style": "IPY_MODEL_88426ac3540d4e869a692604cb0ae602",
            "value": " 927/938 [00:07&lt;00:00, 126.93it/s]"
          }
        },
        "c84a043763ea40d9b8708cadadfdc490": {
          "model_module": "@jupyter-widgets/base",
          "model_name": "LayoutModel",
          "model_module_version": "1.2.0",
          "state": {
            "_model_module": "@jupyter-widgets/base",
            "_model_module_version": "1.2.0",
            "_model_name": "LayoutModel",
            "_view_count": null,
            "_view_module": "@jupyter-widgets/base",
            "_view_module_version": "1.2.0",
            "_view_name": "LayoutView",
            "align_content": null,
            "align_items": null,
            "align_self": null,
            "border": null,
            "bottom": null,
            "display": null,
            "flex": null,
            "flex_flow": null,
            "grid_area": null,
            "grid_auto_columns": null,
            "grid_auto_flow": null,
            "grid_auto_rows": null,
            "grid_column": null,
            "grid_gap": null,
            "grid_row": null,
            "grid_template_areas": null,
            "grid_template_columns": null,
            "grid_template_rows": null,
            "height": null,
            "justify_content": null,
            "justify_items": null,
            "left": null,
            "margin": null,
            "max_height": null,
            "max_width": null,
            "min_height": null,
            "min_width": null,
            "object_fit": null,
            "object_position": null,
            "order": null,
            "overflow": null,
            "overflow_x": null,
            "overflow_y": null,
            "padding": null,
            "right": null,
            "top": null,
            "visibility": "hidden",
            "width": null
          }
        },
        "febb75ccb32d4a589c63dd4b3572082e": {
          "model_module": "@jupyter-widgets/base",
          "model_name": "LayoutModel",
          "model_module_version": "1.2.0",
          "state": {
            "_model_module": "@jupyter-widgets/base",
            "_model_module_version": "1.2.0",
            "_model_name": "LayoutModel",
            "_view_count": null,
            "_view_module": "@jupyter-widgets/base",
            "_view_module_version": "1.2.0",
            "_view_name": "LayoutView",
            "align_content": null,
            "align_items": null,
            "align_self": null,
            "border": null,
            "bottom": null,
            "display": null,
            "flex": null,
            "flex_flow": null,
            "grid_area": null,
            "grid_auto_columns": null,
            "grid_auto_flow": null,
            "grid_auto_rows": null,
            "grid_column": null,
            "grid_gap": null,
            "grid_row": null,
            "grid_template_areas": null,
            "grid_template_columns": null,
            "grid_template_rows": null,
            "height": null,
            "justify_content": null,
            "justify_items": null,
            "left": null,
            "margin": null,
            "max_height": null,
            "max_width": null,
            "min_height": null,
            "min_width": null,
            "object_fit": null,
            "object_position": null,
            "order": null,
            "overflow": null,
            "overflow_x": null,
            "overflow_y": null,
            "padding": null,
            "right": null,
            "top": null,
            "visibility": null,
            "width": null
          }
        },
        "905f3f7f2c1147c0b3143a3d6ab62d9e": {
          "model_module": "@jupyter-widgets/controls",
          "model_name": "DescriptionStyleModel",
          "model_module_version": "1.5.0",
          "state": {
            "_model_module": "@jupyter-widgets/controls",
            "_model_module_version": "1.5.0",
            "_model_name": "DescriptionStyleModel",
            "_view_count": null,
            "_view_module": "@jupyter-widgets/base",
            "_view_module_version": "1.2.0",
            "_view_name": "StyleView",
            "description_width": ""
          }
        },
        "fbb613caae204c3cb15ec68af33792f9": {
          "model_module": "@jupyter-widgets/base",
          "model_name": "LayoutModel",
          "model_module_version": "1.2.0",
          "state": {
            "_model_module": "@jupyter-widgets/base",
            "_model_module_version": "1.2.0",
            "_model_name": "LayoutModel",
            "_view_count": null,
            "_view_module": "@jupyter-widgets/base",
            "_view_module_version": "1.2.0",
            "_view_name": "LayoutView",
            "align_content": null,
            "align_items": null,
            "align_self": null,
            "border": null,
            "bottom": null,
            "display": null,
            "flex": null,
            "flex_flow": null,
            "grid_area": null,
            "grid_auto_columns": null,
            "grid_auto_flow": null,
            "grid_auto_rows": null,
            "grid_column": null,
            "grid_gap": null,
            "grid_row": null,
            "grid_template_areas": null,
            "grid_template_columns": null,
            "grid_template_rows": null,
            "height": null,
            "justify_content": null,
            "justify_items": null,
            "left": null,
            "margin": null,
            "max_height": null,
            "max_width": null,
            "min_height": null,
            "min_width": null,
            "object_fit": null,
            "object_position": null,
            "order": null,
            "overflow": null,
            "overflow_x": null,
            "overflow_y": null,
            "padding": null,
            "right": null,
            "top": null,
            "visibility": null,
            "width": null
          }
        },
        "99d2fbc80cc549ffb6104e4e38f28214": {
          "model_module": "@jupyter-widgets/controls",
          "model_name": "ProgressStyleModel",
          "model_module_version": "1.5.0",
          "state": {
            "_model_module": "@jupyter-widgets/controls",
            "_model_module_version": "1.5.0",
            "_model_name": "ProgressStyleModel",
            "_view_count": null,
            "_view_module": "@jupyter-widgets/base",
            "_view_module_version": "1.2.0",
            "_view_name": "StyleView",
            "bar_color": null,
            "description_width": ""
          }
        },
        "9df29647e36f4c2895c11cb646ff5e38": {
          "model_module": "@jupyter-widgets/base",
          "model_name": "LayoutModel",
          "model_module_version": "1.2.0",
          "state": {
            "_model_module": "@jupyter-widgets/base",
            "_model_module_version": "1.2.0",
            "_model_name": "LayoutModel",
            "_view_count": null,
            "_view_module": "@jupyter-widgets/base",
            "_view_module_version": "1.2.0",
            "_view_name": "LayoutView",
            "align_content": null,
            "align_items": null,
            "align_self": null,
            "border": null,
            "bottom": null,
            "display": null,
            "flex": null,
            "flex_flow": null,
            "grid_area": null,
            "grid_auto_columns": null,
            "grid_auto_flow": null,
            "grid_auto_rows": null,
            "grid_column": null,
            "grid_gap": null,
            "grid_row": null,
            "grid_template_areas": null,
            "grid_template_columns": null,
            "grid_template_rows": null,
            "height": null,
            "justify_content": null,
            "justify_items": null,
            "left": null,
            "margin": null,
            "max_height": null,
            "max_width": null,
            "min_height": null,
            "min_width": null,
            "object_fit": null,
            "object_position": null,
            "order": null,
            "overflow": null,
            "overflow_x": null,
            "overflow_y": null,
            "padding": null,
            "right": null,
            "top": null,
            "visibility": null,
            "width": null
          }
        },
        "88426ac3540d4e869a692604cb0ae602": {
          "model_module": "@jupyter-widgets/controls",
          "model_name": "DescriptionStyleModel",
          "model_module_version": "1.5.0",
          "state": {
            "_model_module": "@jupyter-widgets/controls",
            "_model_module_version": "1.5.0",
            "_model_name": "DescriptionStyleModel",
            "_view_count": null,
            "_view_module": "@jupyter-widgets/base",
            "_view_module_version": "1.2.0",
            "_view_name": "StyleView",
            "description_width": ""
          }
        }
      }
    }
  },
  "cells": [
    {
      "cell_type": "markdown",
      "metadata": {
        "id": "view-in-github",
        "colab_type": "text"
      },
      "source": [
        "<a href=\"https://colab.research.google.com/github/AlexeyTri/MyMachineLearningSeminars/blob/main/seminar3/%D0%9D%D0%B5%D0%B9%D1%80%D0%BE%D0%BD%D0%BD%D1%8B%D0%B5_%D1%81%D0%B5%D1%82%D0%B8_%D0%B3%D1%80%D0%B0%D0%B4%D0%B8%D0%B5%D0%BD%D1%82%D0%BD%D1%8B%D0%B5_%D0%BC%D0%B5%D1%82%D0%BE%D0%B4%D1%8B_%D0%BE%D0%BF%D1%82%D0%B8%D0%BC%D0%B8%D0%B7%D0%B0%D1%86%D0%B8%D0%B8.ipynb\" target=\"_parent\"><img src=\"https://colab.research.google.com/assets/colab-badge.svg\" alt=\"Open In Colab\"/></a>"
      ]
    },
    {
      "cell_type": "markdown",
      "source": [
        "**Нейронные сети: AUTOGRAD** "
      ],
      "metadata": {
        "id": "77zeba9Kpf2e"
      }
    },
    {
      "cell_type": "code",
      "execution_count": 21,
      "metadata": {
        "id": "LNRFaKxgfz_R"
      },
      "outputs": [],
      "source": [
        "import matplotlib.pyplot as plt\n",
        "from matplotlib import gridspec\n",
        "import seaborn as sns\n",
        "import pandas as pd\n",
        "from tqdm.notebook import tqdm\n",
        "\n",
        "from scipy.special import expit\n",
        "import numpy as np\n",
        "import torch\n",
        "\n",
        "from sklearn.linear_model import LogisticRegression, LinearRegression\n",
        "from sklearn.model_selection import LeaveOneOut, KFold, ParameterGrid\n",
        "from sklearn.metrics import classification_report\n",
        "\n",
        "from torchvision import datasets\n",
        "from torchvision import transforms"
      ]
    },
    {
      "cell_type": "markdown",
      "source": [
        "# Автоматическое дифференцирование\n",
        "\n",
        "* пример:\n",
        "\n",
        "\\begin{align}\n",
        "f(x) = x_3⋅\\cos(\\frac{x_1}{x_2}) ⋅\\left(\\exp(x_3) + \\frac{x_1}{x_2}\\right)\\\\\\\n",
        "\\textbf{дифференцирование вперед $x_1$:}\\\\\n",
        "\\frac{\\partial z_1}{\\partial x_1} = \\frac{1}{x_2}\\\\\n",
        "\\frac{\\partial z_2}{\\partial x_1} = 0\\\\\n",
        "\\frac{\\partial z_3}{\\partial x_1} = \\frac{\\partial z_3}{\\partial z_1}\\frac{\\partial z_1}{\\partial x_1}=-\\sin({\\frac{x_1}{x_2}})\\frac{1}{x_2}\\\\\n",
        "\\frac{\\partial z_4}{\\partial x_1} = \\frac{\\partial z_4}{\\partial z_1}\\frac{\\partial z_1}{\\partial x_1} + \\frac{\\partial z_4}{\\partial z_2}\\frac{\\partial z_2}{\\partial x_1}=\\frac{1}{x_2}\\\\\n",
        "\\frac{\\partial z_5}{\\partial x_1} =\\frac{\\partial z_5}{\\partial z_3}\\frac{\\partial z_3}{\\partial x_1}⋅\\frac{\\partial z_5}{\\partial z_4}\\frac{\\partial z_4}{\\partial x_1} = -\\sin({\\frac{x_1}{x_2}})\\frac{1}{x_2}\\left(\\exp(x_3) + \\frac{x_1}{x_2}\\right) + \\cos(\\frac{x_1}{x_2})\\frac{1}{x_2}\\\\\n",
        "\\frac{\\partial z_6}{\\partial x_1} =\\frac{\\partial z_6}{\\partial z_5}\\frac{\\partial z_5}{\\partial x_1}⋅\\frac{\\partial z_6}{\\partial x_3}\\frac{\\partial x_3}{\\partial x_1} =x_3\\left( -\\sin({\\frac{x_1}{x_2}})\\frac{1}{x_2}\\left(\\exp(x_3) + \\frac{x_1}{x_2}\\right) + \\cos(\\frac{x_1}{x_2})\\frac{1}{x_2}\\right)\\\\\n",
        "\\frac{\\partial f}{\\partial x_1} = \\frac{\\partial f}{\\partial x_1}\\frac{\\partial z_6}{\\partial x_1}= x_3\\left( -\\sin({\\frac{x_1}{x_2}})\\frac{1}{x_2}\\left(\\exp(x_3) + \\frac{x_1}{x_2}\\right) + \\cos(\\frac{x_1}{x_2})\\frac{1}{x_2}\\right)\\\\\\\\\\\\\n",
        "\\textbf{дифференцирование назад $x_1$:}\\\\\n",
        "\\frac{\\partial f}{\\partial z_6} = 1\\\\\n",
        "\\frac{\\partial f}{\\partial z_5} = \\frac{\\partial f}{\\partial z_6}\\frac{\\partial z_6}{\\partial z_5} = x_3\\\\\n",
        "\\frac{\\partial f}{\\partial z_4} = \\frac{\\partial f}{\\partial z_5}\\frac{\\partial z_5}{\\partial z_4} = x_3\\cos(\\frac{x_1}{x_2})\\\\\n",
        "\\frac{\\partial f}{\\partial z_3} = \\frac{\\partial f}{\\partial z_5}\\frac{\\partial z_5}{\\partial z_3} = x_3\\left(\\exp(x_3) + \\frac{x_1}{x_2}\\right)\\\\\n",
        "\\frac{\\partial f}{\\partial z_2} = \\frac{\\partial f}{\\partial z_4}\\frac{\\partial z_4}{\\partial z_2} = x_3\\cos(\\frac{x_1}{x_2})\\\\\n",
        "\\frac{\\partial f}{\\partial z_1} = \\frac{\\partial f}{\\partial z_3}\\frac{\\partial z_3}{\\partial z_1} +  \\frac{\\partial f}{\\partial z_4}\\frac{\\partial z_4}{\\partial z_1}= -\\sin{\\frac{x_1}{x_2}}\\left(x_3\\left(\\exp(x_3) + \\frac{x_1}{x_2}\\right)\\right) + x_3\\cos(\\frac{x_1}{x_2})\\\\\n",
        "\\frac{\\partial f}{\\partial x_1} = \\frac{\\partial z_1}{\\partial z_1}\\frac{\\partial z_1}{\\partial x_1} = \\frac{\\partial f}{\\partial z_3}\\frac{\\partial z_3}{\\partial z_1} +  \\frac{\\partial f}{\\partial z_4}\\frac{\\partial z_4}{\\partial z_1}= \\frac{1}{x_2}\\left(-\\sin{\\frac{x_1}{x_2}}\\left(x_3\\left(\\exp(x_3) + \\frac{x_1}{x_2}\\right)\\right) + x_3\\cos(\\frac{x_1}{x_2})\\right)\n",
        "\\end{align} \n",
        "\n",
        "\n",
        "* Вывод-?"
      ],
      "metadata": {
        "id": "Nr1ZDSOFp2ek"
      }
    },
    {
      "cell_type": "markdown",
      "source": [
        "# Полносвязная NN - PERCEPTRON\n",
        "\n",
        "в матричном виде\n",
        "\\begin{align}\n",
        "f(x,W) = W_{n_2+1}σ(...W_2σ(W_1x)...)\n",
        "\\end{align} \n",
        "\n",
        "$n$ размерность пространства признаков (input_dim)\n",
        "\n",
        "$n_1$ размерность скрытого слоя (hidden_dim)\n",
        "\n",
        "$n_2$ количество скрытых слоев (num_layers)\n",
        "\n",
        "$n_3$ размерность пространства ответов (output_dim)\n",
        "\n",
        "! при $n_2 = 0$ получаем линейную регрессию, соответственно она является частным случаем персептрона\n"
      ],
      "metadata": {
        "id": "UrbBc-QCKVPb"
      }
    },
    {
      "cell_type": "code",
      "source": [
        "MNIST_train = datasets.FashionMNIST('./fasihonmnist', train=True, download=True,\n",
        "                              transform=transforms.ToTensor())\n",
        "MNIST_test = datasets.FashionMNIST('./fashionmnist', train=False, download=True, \n",
        "                             transform=transforms.ToTensor())"
      ],
      "metadata": {
        "id": "qt1rKLDpkjbv"
      },
      "execution_count": 36,
      "outputs": []
    },
    {
      "cell_type": "code",
      "source": [
        "fig, gs = plt.figure(figsize=(19, 4)), gridspec.GridSpec(1,4)\n",
        "\n",
        "ax = []\n",
        "\n",
        "for i in range(4):\n",
        "    ax.append(fig.add_subplot(gs[i]))\n",
        "    ax[i].imshow(np.array(MNIST_train[i][0][0]), 'gray')\n",
        "\n",
        "plt.show()"
      ],
      "metadata": {
        "colab": {
          "base_uri": "https://localhost:8080/",
          "height": 226
        },
        "id": "C_povj9_x11_",
        "outputId": "ba061527-a0bd-4213-882f-84e9c11a2cd5"
      },
      "execution_count": 38,
      "outputs": [
        {
          "output_type": "display_data",
          "data": {
            "text/plain": [
              "<Figure size 1368x288 with 4 Axes>"
            ],
            "image/png": "[encoded data removed]"
          },
          "metadata": {
            "needs_background": "light"
          }
        }
      ]
    },
    {
      "cell_type": "code",
      "source": [
        "class Perceptron(torch.nn.Module):\n",
        "    @property\n",
        "    def device(self):\n",
        "        for p in self.parameters():\n",
        "            return p.device\n",
        "    \n",
        "    def __init__(self, input_dim=784, num_layers=0,hidden_dim=64, output_dim=10, p=0.0):\n",
        "        super(Perceptron, self).__init__()\n",
        "    \n",
        "        self.layers = torch.nn.Sequential()\n",
        "\n",
        "        prev_size = input_dim\n",
        "        for i in range(num_layers):\n",
        "            self.layers.add_module('layer{}'.format(i), torch.nn.Linear(prev_size, hidden_dim))\n",
        "            self.layers.add_module('relu{}'.format(i), torch.nn.ReLU())\n",
        "            self.layers.add_module('dropout{}'.format(i), torch.nn.Dropout(p=p))\n",
        "            prev_size=hidden_dim\n",
        "\n",
        "        self.layers.add_module('classifier', torch.nn.Linear(prev_size, output_dim))\n",
        "\n",
        "    def forward(self, input):\n",
        "        return self.layers(input)"
      ],
      "metadata": {
        "id": "xGpz_pRhRPmL"
      },
      "execution_count": 24,
      "outputs": []
    },
    {
      "cell_type": "code",
      "source": [
        "device = torch.device('cuda' if torch.cuda.is_available() else 'cpu') # считаем на центарльнгом процессоре\n",
        "device"
      ],
      "metadata": {
        "colab": {
          "base_uri": "https://localhost:8080/"
        },
        "id": "wWJK6Ee17Wqa",
        "outputId": "886371f8-1e4b-4363-b7a7-69c355c61d82"
      },
      "execution_count": 25,
      "outputs": [
        {
          "output_type": "execute_result",
          "data": {
            "text/plain": [
              "device(type='cuda')"
            ]
          },
          "metadata": {},
          "execution_count": 25
        }
      ]
    },
    {
      "cell_type": "code",
      "source": [
        "model = Perceptron()\n",
        "model.to(device)"
      ],
      "metadata": {
        "id": "ArYLB2g07q8c"
      },
      "execution_count": null,
      "outputs": []
    },
    {
      "cell_type": "code",
      "source": [
        "model = Perceptron(num_layers=1)\n",
        "model.to(device)"
      ],
      "metadata": {
        "id": "nAtBfpT28Ige"
      },
      "execution_count": null,
      "outputs": []
    },
    {
      "cell_type": "code",
      "source": [
        "model = Perceptron(num_layers=2)\n",
        "model.to(device)"
      ],
      "metadata": {
        "id": "yYEXTve09RgN"
      },
      "execution_count": null,
      "outputs": []
    },
    {
      "cell_type": "markdown",
      "source": [
        "### саппорт функции: test, train, draw"
      ],
      "metadata": {
        "id": "fR2DVFvwZJYR"
      }
    },
    {
      "cell_type": "code",
      "source": [
        "def testing(model, dataset):\n",
        "    generator = torch.utils.data.DataLoader(dataset, batch_size=64)\n",
        "\n",
        "    pred = []\n",
        "    real = []\n",
        "\n",
        "    for x, y in generator:\n",
        "        x = x.view([-1, 784]).to(device)\n",
        "        y = y.to(device)\n",
        "\n",
        "        pred.extend(torch.argmax(model(x), dim=-1).cpu().numpy().tolist())\n",
        "        real.extend(y.cpu().numpy().tolist())\n",
        "    return np.mean(np.array(real) == np.array(pred)), classification_report(real, pred)"
      ],
      "metadata": {
        "id": "N_adSqMdfZ7z"
      },
      "execution_count": 44,
      "outputs": []
    },
    {
      "cell_type": "code",
      "source": [
        "def trainer(model, dataset, loss_function, optimizer, epochs):\n",
        "    for epoch in tqdm(range(epochs), leave=False):\n",
        "        generator = torch.utils.data.DataLoader(dataset, batch_size=64, shuffle=True)\n",
        "    for x, y  in tqdm(generator, leave=False):\n",
        "        optimizer.zero_grad()\n",
        "        x = x.view([-1, 784]).to(device)\n",
        "        y = y.to(device)\n",
        "        # классификация модели\n",
        "        output = model(x)\n",
        "        # расчет функции потерь\n",
        "        loss = loss_function(output, y)\n",
        "        # расчет градиента\n",
        "        loss.backward()\n",
        "        # w с крышечкой\n",
        "        optimizer.step()"
      ],
      "metadata": {
        "id": "v-LmFzTrhyt6"
      },
      "execution_count": 45,
      "outputs": []
    },
    {
      "cell_type": "code",
      "source": [
        "def draw_table(data, title=['ACCURACY'], width=[60, 11]):    \n",
        "    row_format = '|' + '|'.join([(\"{:>\"+str(w)+\"}\") for w in width]) + '|'\n",
        "    row_format_bet = '+' + '+'.join([(\"{:>\"+str(w)+\"}\") for w in width]) + '+'\n",
        "    \n",
        "    print(row_format_bet.format(\n",
        "        \"-\"*width[0], *[\"-\"*width[i+1] for i, _ in enumerate(title)]))\n",
        "    print(row_format.format(\"\", *title))\n",
        "    print(row_format_bet.format(\n",
        "        \"-\"*width[0], *[\"-\"*width[i+1] for i, _ in enumerate(title)]))\n",
        "    for key in data:\n",
        "        if len(key) > width[0]:\n",
        "            row_name = '...' + key[len(key)-width[0]+3:]\n",
        "        else:\n",
        "            row_name = key\n",
        "        print(row_format.format(row_name, *[round(x, 2) for x in data[key]]))\n",
        "        print(row_format_bet.format(\n",
        "            \"-\"*width[0], *[\"-\"*width[i+1] for i, _ in enumerate(title)]))"
      ],
      "metadata": {
        "id": "sjbY3N7MDI6o"
      },
      "execution_count": 46,
      "outputs": []
    },
    {
      "cell_type": "code",
      "source": [
        "model = Perceptron(num_layers=0)\n",
        "model.to(device)"
      ],
      "metadata": {
        "id": "5Ts0smo_EHSW"
      },
      "execution_count": null,
      "outputs": []
    },
    {
      "cell_type": "code",
      "source": [
        "_ = model.eval()\n",
        "acc, report = testing(model, MNIST_test)\n",
        "print(report)"
      ],
      "metadata": {
        "id": "24a9GIqYEOBN"
      },
      "execution_count": null,
      "outputs": []
    },
    {
      "cell_type": "code",
      "source": [
        "_ = model.train()\n",
        "trainer(model=model, \n",
        "        dataset=MNIST_train, \n",
        "        loss_function=torch.nn.CrossEntropyLoss(), \n",
        "        optimizer=torch.optim.Adam(model.parameters(), lr=0.001), \n",
        "        epochs=4)"
      ],
      "metadata": {
        "colab": {
          "base_uri": "https://localhost:8080/",
          "height": 17,
          "referenced_widgets": [
            "acf7561b486544d7a8ff7170ca8673ed",
            "577e9aaa5189465d9b4de5baa5338051",
            "dcae4306d5b7411b86c3a234a49cb82a",
            "b44b8bb79d614e769f99456cb0a71616",
            "62c73f5e7f8d40c3bb7695674a5cf292",
            "fca51335b03a4074849a9d48192629e1",
            "123b365ac9c341188847927299c849cf",
            "0203ec7b386640fd9f15adb382f6104e",
            "1b526903a1cc433d8dcc57c57dae508c",
            "3bb356bae91e4578bd6a215c55dd4e40",
            "e2e87a6b4af14022806e05e76c3a2cd8",
            "9f906f9b5d4a46d690e8bcd1fdb49e9a",
            "b619f54657ae49fd8b8ce095d55aa8ed",
            "cc8ce9a82e464a9abe5d91ea1d266fbb",
            "9428071d28ae4ce9abfb741d686e44ed",
            "c84a043763ea40d9b8708cadadfdc490",
            "febb75ccb32d4a589c63dd4b3572082e",
            "905f3f7f2c1147c0b3143a3d6ab62d9e",
            "fbb613caae204c3cb15ec68af33792f9",
            "99d2fbc80cc549ffb6104e4e38f28214",
            "9df29647e36f4c2895c11cb646ff5e38",
            "88426ac3540d4e869a692604cb0ae602"
          ]
        },
        "id": "uuybMhObErh6",
        "outputId": "829ac0e5-8641-46cf-9b2c-b7a103ba0af6"
      },
      "execution_count": 58,
      "outputs": [
        {
          "output_type": "display_data",
          "data": {
            "text/plain": [
              "  0%|          | 0/4 [00:00<?, ?it/s]"
            ],
            "application/vnd.jupyter.widget-view+json": {
              "version_major": 2,
              "version_minor": 0,
              "model_id": "acf7561b486544d7a8ff7170ca8673ed"
            }
          },
          "metadata": {}
        },
        {
          "output_type": "display_data",
          "data": {
            "text/plain": [
              "  0%|          | 0/938 [00:00<?, ?it/s]"
            ],
            "application/vnd.jupyter.widget-view+json": {
              "version_major": 2,
              "version_minor": 0,
              "model_id": "9f906f9b5d4a46d690e8bcd1fdb49e9a"
            }
          },
          "metadata": {}
        }
      ]
    },
    {
      "cell_type": "code",
      "source": [
        "_ = model.eval()\n",
        "acc, report = testing(model, MNIST_test)\n",
        "print(report)"
      ],
      "metadata": {
        "id": "imHOkSRgGPm6"
      },
      "execution_count": null,
      "outputs": []
    },
    {
      "cell_type": "markdown",
      "source": [
        "## гиперпараметры:\n",
        "\n",
        "\n",
        "\n",
        "1.   num_layers\n",
        "2.   hidden_dim\n",
        "3.   lr\n",
        "4.   p\n",
        "\n",
        "CROSS-VALIDATION"
      ],
      "metadata": {
        "id": "cDuBiWirm1Fm"
      }
    },
    {
      "cell_type": "code",
      "source": [
        "cross_val = KFold(3)\n",
        "number_of_batch = cross_val.get_n_splits(MNIST_train)\n",
        "\n",
        "grid = ParameterGrid({'num_layers': [0, 2], \n",
        "                      'hidden_dim': [8, 64],\n",
        "                      'p': [0.3, 0.7],\n",
        "                      'lr': [0.001]})\n",
        "\n",
        "X_train = MNIST_train.transform(MNIST_train.data.numpy()).transpose(0,1)\n",
        "Y_train = MNIST_train.targets.data"
      ],
      "metadata": {
        "id": "8QAshbClHOj9"
      },
      "execution_count": 61,
      "outputs": []
    },
    {
      "cell_type": "code",
      "source": [
        "scores = dict()\n",
        "for item in tqdm(grid):\n",
        "    list_of_scores = []\n",
        "    for train_index, test_index in tqdm(cross_val.split(X_train), \n",
        "                                        total=number_of_batch, leave=False):\n",
        "        x_train_fold = X_train[train_index]\n",
        "        x_test_fold = X_train[test_index]\n",
        "        y_train_fold = Y_train[train_index]\n",
        "        y_test_fold = Y_train[test_index]\n",
        "\n",
        "        traindata = torch.utils.data.TensorDataset(x_train_fold, y_train_fold)\n",
        "        testdata = torch.utils.data.TensorDataset(x_test_fold, y_test_fold)\n",
        "\n",
        "        model = Perceptron(num_layers=item['num_layers'], p=item['p'],\n",
        "                           hidden_dim=item['hidden_dim'])\n",
        "        model.to(device)\n",
        "        _ = model.train()\n",
        "        trainer(model=model, \n",
        "                dataset=traindata, \n",
        "                loss_function=torch.nn.CrossEntropyLoss(), \n",
        "                optimizer=torch.optim.Adam(model.parameters(), lr=item['lr']), \n",
        "                epochs=4)\n",
        "        \n",
        "        _ = model.eval()\n",
        "        acc, report = testing(model, testdata)\n",
        "        list_of_scores.append(acc)\n",
        "    scores[str(item)] = [np.mean(list_of_scores)]"
      ],
      "metadata": {
        "id": "aJF0lQnlHzZd"
      },
      "execution_count": null,
      "outputs": []
    },
    {
      "cell_type": "code",
      "source": [
        "draw_table(scores)"
      ],
      "metadata": {
        "colab": {
          "base_uri": "https://localhost:8080/"
        },
        "id": "lU_ci2-xIQrV",
        "outputId": "6e4ac683-080d-4054-dc26-b2596ff2d6b2"
      },
      "execution_count": 63,
      "outputs": [
        {
          "output_type": "stream",
          "name": "stdout",
          "text": [
            "+------------------------------------------------------------+-----------+\n",
            "|                                                            |   ACCURACY|\n",
            "+------------------------------------------------------------+-----------+\n",
            "|   {'hidden_dim': 8, 'lr': 0.001, 'num_layers': 0, 'p': 0.3}|       0.82|\n",
            "+------------------------------------------------------------+-----------+\n",
            "|   {'hidden_dim': 8, 'lr': 0.001, 'num_layers': 0, 'p': 0.7}|       0.82|\n",
            "+------------------------------------------------------------+-----------+\n",
            "|   {'hidden_dim': 8, 'lr': 0.001, 'num_layers': 2, 'p': 0.3}|        0.6|\n",
            "+------------------------------------------------------------+-----------+\n",
            "|   {'hidden_dim': 8, 'lr': 0.001, 'num_layers': 2, 'p': 0.7}|       0.41|\n",
            "+------------------------------------------------------------+-----------+\n",
            "|  {'hidden_dim': 64, 'lr': 0.001, 'num_layers': 0, 'p': 0.3}|       0.82|\n",
            "+------------------------------------------------------------+-----------+\n",
            "|  {'hidden_dim': 64, 'lr': 0.001, 'num_layers': 0, 'p': 0.7}|       0.82|\n",
            "+------------------------------------------------------------+-----------+\n",
            "|  {'hidden_dim': 64, 'lr': 0.001, 'num_layers': 2, 'p': 0.3}|       0.82|\n",
            "+------------------------------------------------------------+-----------+\n",
            "|  {'hidden_dim': 64, 'lr': 0.001, 'num_layers': 2, 'p': 0.7}|       0.67|\n",
            "+------------------------------------------------------------+-----------+\n"
          ]
        }
      ]
    }
  ]
}