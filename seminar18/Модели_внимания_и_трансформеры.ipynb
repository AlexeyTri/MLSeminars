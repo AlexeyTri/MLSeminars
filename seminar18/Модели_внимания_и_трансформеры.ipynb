{
  "nbformat": 4,
  "nbformat_minor": 0,
  "metadata": {
    "colab": {
      "provenance": [],
      "authorship_tag": "ABX9TyP7OUKDQSYYtgnc2pBfLnqu",
      "include_colab_link": true
    },
    "kernelspec": {
      "name": "python3",
      "display_name": "Python 3"
    },
    "language_info": {
      "name": "python"
    },
    "widgets": {
      "application/vnd.jupyter.widget-state+json": {
        "86c48daa4af24c5a97ceb649b8ba9752": {
          "model_module": "@jupyter-widgets/controls",
          "model_name": "HBoxModel",
          "model_module_version": "1.5.0",
          "state": {
            "_dom_classes": [],
            "_model_module": "@jupyter-widgets/controls",
            "_model_module_version": "1.5.0",
            "_model_name": "HBoxModel",
            "_view_count": null,
            "_view_module": "@jupyter-widgets/controls",
            "_view_module_version": "1.5.0",
            "_view_name": "HBoxView",
            "box_style": "",
            "children": [
              "IPY_MODEL_326c446b81b14e3fa5199f05478109a2",
              "IPY_MODEL_adee96472ba648fab20d5e2130ecad0c",
              "IPY_MODEL_5e82ad94dc7143a49c6c128b17d3d78a"
            ],
            "layout": "IPY_MODEL_12f67b58b6e849c2b2c83366c74b0932"
          }
        },
        "326c446b81b14e3fa5199f05478109a2": {
          "model_module": "@jupyter-widgets/controls",
          "model_name": "HTMLModel",
          "model_module_version": "1.5.0",
          "state": {
            "_dom_classes": [],
            "_model_module": "@jupyter-widgets/controls",
            "_model_module_version": "1.5.0",
            "_model_name": "HTMLModel",
            "_view_count": null,
            "_view_module": "@jupyter-widgets/controls",
            "_view_module_version": "1.5.0",
            "_view_name": "HTMLView",
            "description": "",
            "description_tooltip": null,
            "layout": "IPY_MODEL_efdbc6e2596449038662795d3abaf90c",
            "placeholder": "​",
            "style": "IPY_MODEL_43367cf051f94b3ab7849654638ad76d",
            "value": "Downloading: 100%"
          }
        },
        "adee96472ba648fab20d5e2130ecad0c": {
          "model_module": "@jupyter-widgets/controls",
          "model_name": "FloatProgressModel",
          "model_module_version": "1.5.0",
          "state": {
            "_dom_classes": [],
            "_model_module": "@jupyter-widgets/controls",
            "_model_module_version": "1.5.0",
            "_model_name": "FloatProgressModel",
            "_view_count": null,
            "_view_module": "@jupyter-widgets/controls",
            "_view_module_version": "1.5.0",
            "_view_name": "ProgressView",
            "bar_style": "success",
            "description": "",
            "description_tooltip": null,
            "layout": "IPY_MODEL_6a6ae056de7e42b4be0e6a63650e5e7e",
            "max": 28,
            "min": 0,
            "orientation": "horizontal",
            "style": "IPY_MODEL_7e9fe5a14d24495d89e5e6fea062c926",
            "value": 28
          }
        },
        "5e82ad94dc7143a49c6c128b17d3d78a": {
          "model_module": "@jupyter-widgets/controls",
          "model_name": "HTMLModel",
          "model_module_version": "1.5.0",
          "state": {
            "_dom_classes": [],
            "_model_module": "@jupyter-widgets/controls",
            "_model_module_version": "1.5.0",
            "_model_name": "HTMLModel",
            "_view_count": null,
            "_view_module": "@jupyter-widgets/controls",
            "_view_module_version": "1.5.0",
            "_view_name": "HTMLView",
            "description": "",
            "description_tooltip": null,
            "layout": "IPY_MODEL_6d11991f8ebc475c9618c988808b6be0",
            "placeholder": "​",
            "style": "IPY_MODEL_1a10533144fa43d984354fd432173595",
            "value": " 28.0/28.0 [00:00&lt;00:00, 946B/s]"
          }
        },
        "12f67b58b6e849c2b2c83366c74b0932": {
          "model_module": "@jupyter-widgets/base",
          "model_name": "LayoutModel",
          "model_module_version": "1.2.0",
          "state": {
            "_model_module": "@jupyter-widgets/base",
            "_model_module_version": "1.2.0",
            "_model_name": "LayoutModel",
            "_view_count": null,
            "_view_module": "@jupyter-widgets/base",
            "_view_module_version": "1.2.0",
            "_view_name": "LayoutView",
            "align_content": null,
            "align_items": null,
            "align_self": null,
            "border": null,
            "bottom": null,
            "display": null,
            "flex": null,
            "flex_flow": null,
            "grid_area": null,
            "grid_auto_columns": null,
            "grid_auto_flow": null,
            "grid_auto_rows": null,
            "grid_column": null,
            "grid_gap": null,
            "grid_row": null,
            "grid_template_areas": null,
            "grid_template_columns": null,
            "grid_template_rows": null,
            "height": null,
            "justify_content": null,
            "justify_items": null,
            "left": null,
            "margin": null,
            "max_height": null,
            "max_width": null,
            "min_height": null,
            "min_width": null,
            "object_fit": null,
            "object_position": null,
            "order": null,
            "overflow": null,
            "overflow_x": null,
            "overflow_y": null,
            "padding": null,
            "right": null,
            "top": null,
            "visibility": null,
            "width": null
          }
        },
        "efdbc6e2596449038662795d3abaf90c": {
          "model_module": "@jupyter-widgets/base",
          "model_name": "LayoutModel",
          "model_module_version": "1.2.0",
          "state": {
            "_model_module": "@jupyter-widgets/base",
            "_model_module_version": "1.2.0",
            "_model_name": "LayoutModel",
            "_view_count": null,
            "_view_module": "@jupyter-widgets/base",
            "_view_module_version": "1.2.0",
            "_view_name": "LayoutView",
            "align_content": null,
            "align_items": null,
            "align_self": null,
            "border": null,
            "bottom": null,
            "display": null,
            "flex": null,
            "flex_flow": null,
            "grid_area": null,
            "grid_auto_columns": null,
            "grid_auto_flow": null,
            "grid_auto_rows": null,
            "grid_column": null,
            "grid_gap": null,
            "grid_row": null,
            "grid_template_areas": null,
            "grid_template_columns": null,
            "grid_template_rows": null,
            "height": null,
            "justify_content": null,
            "justify_items": null,
            "left": null,
            "margin": null,
            "max_height": null,
            "max_width": null,
            "min_height": null,
            "min_width": null,
            "object_fit": null,
            "object_position": null,
            "order": null,
            "overflow": null,
            "overflow_x": null,
            "overflow_y": null,
            "padding": null,
            "right": null,
            "top": null,
            "visibility": null,
            "width": null
          }
        },
        "43367cf051f94b3ab7849654638ad76d": {
          "model_module": "@jupyter-widgets/controls",
          "model_name": "DescriptionStyleModel",
          "model_module_version": "1.5.0",
          "state": {
            "_model_module": "@jupyter-widgets/controls",
            "_model_module_version": "1.5.0",
            "_model_name": "DescriptionStyleModel",
            "_view_count": null,
            "_view_module": "@jupyter-widgets/base",
            "_view_module_version": "1.2.0",
            "_view_name": "StyleView",
            "description_width": ""
          }
        },
        "6a6ae056de7e42b4be0e6a63650e5e7e": {
          "model_module": "@jupyter-widgets/base",
          "model_name": "LayoutModel",
          "model_module_version": "1.2.0",
          "state": {
            "_model_module": "@jupyter-widgets/base",
            "_model_module_version": "1.2.0",
            "_model_name": "LayoutModel",
            "_view_count": null,
            "_view_module": "@jupyter-widgets/base",
            "_view_module_version": "1.2.0",
            "_view_name": "LayoutView",
            "align_content": null,
            "align_items": null,
            "align_self": null,
            "border": null,
            "bottom": null,
            "display": null,
            "flex": null,
            "flex_flow": null,
            "grid_area": null,
            "grid_auto_columns": null,
            "grid_auto_flow": null,
            "grid_auto_rows": null,
            "grid_column": null,
            "grid_gap": null,
            "grid_row": null,
            "grid_template_areas": null,
            "grid_template_columns": null,
            "grid_template_rows": null,
            "height": null,
            "justify_content": null,
            "justify_items": null,
            "left": null,
            "margin": null,
            "max_height": null,
            "max_width": null,
            "min_height": null,
            "min_width": null,
            "object_fit": null,
            "object_position": null,
            "order": null,
            "overflow": null,
            "overflow_x": null,
            "overflow_y": null,
            "padding": null,
            "right": null,
            "top": null,
            "visibility": null,
            "width": null
          }
        },
        "7e9fe5a14d24495d89e5e6fea062c926": {
          "model_module": "@jupyter-widgets/controls",
          "model_name": "ProgressStyleModel",
          "model_module_version": "1.5.0",
          "state": {
            "_model_module": "@jupyter-widgets/controls",
            "_model_module_version": "1.5.0",
            "_model_name": "ProgressStyleModel",
            "_view_count": null,
            "_view_module": "@jupyter-widgets/base",
            "_view_module_version": "1.2.0",
            "_view_name": "StyleView",
            "bar_color": null,
            "description_width": ""
          }
        },
        "6d11991f8ebc475c9618c988808b6be0": {
          "model_module": "@jupyter-widgets/base",
          "model_name": "LayoutModel",
          "model_module_version": "1.2.0",
          "state": {
            "_model_module": "@jupyter-widgets/base",
            "_model_module_version": "1.2.0",
            "_model_name": "LayoutModel",
            "_view_count": null,
            "_view_module": "@jupyter-widgets/base",
            "_view_module_version": "1.2.0",
            "_view_name": "LayoutView",
            "align_content": null,
            "align_items": null,
            "align_self": null,
            "border": null,
            "bottom": null,
            "display": null,
            "flex": null,
            "flex_flow": null,
            "grid_area": null,
            "grid_auto_columns": null,
            "grid_auto_flow": null,
            "grid_auto_rows": null,
            "grid_column": null,
            "grid_gap": null,
            "grid_row": null,
            "grid_template_areas": null,
            "grid_template_columns": null,
            "grid_template_rows": null,
            "height": null,
            "justify_content": null,
            "justify_items": null,
            "left": null,
            "margin": null,
            "max_height": null,
            "max_width": null,
            "min_height": null,
            "min_width": null,
            "object_fit": null,
            "object_position": null,
            "order": null,
            "overflow": null,
            "overflow_x": null,
            "overflow_y": null,
            "padding": null,
            "right": null,
            "top": null,
            "visibility": null,
            "width": null
          }
        },
        "1a10533144fa43d984354fd432173595": {
          "model_module": "@jupyter-widgets/controls",
          "model_name": "DescriptionStyleModel",
          "model_module_version": "1.5.0",
          "state": {
            "_model_module": "@jupyter-widgets/controls",
            "_model_module_version": "1.5.0",
            "_model_name": "DescriptionStyleModel",
            "_view_count": null,
            "_view_module": "@jupyter-widgets/base",
            "_view_module_version": "1.2.0",
            "_view_name": "StyleView",
            "description_width": ""
          }
        },
        "32c82181139146b487c9ad9fef0b7c84": {
          "model_module": "@jupyter-widgets/controls",
          "model_name": "HBoxModel",
          "model_module_version": "1.5.0",
          "state": {
            "_dom_classes": [],
            "_model_module": "@jupyter-widgets/controls",
            "_model_module_version": "1.5.0",
            "_model_name": "HBoxModel",
            "_view_count": null,
            "_view_module": "@jupyter-widgets/controls",
            "_view_module_version": "1.5.0",
            "_view_name": "HBoxView",
            "box_style": "",
            "children": [
              "IPY_MODEL_153edd843d174ecba9f13158b67ea401",
              "IPY_MODEL_d249d08412a7409bae4d1e44152c986a",
              "IPY_MODEL_03bb4be0c4f24886b3158364c3847844"
            ],
            "layout": "IPY_MODEL_cacd4adbdc9140eb84303ace1af77ccb"
          }
        },
        "153edd843d174ecba9f13158b67ea401": {
          "model_module": "@jupyter-widgets/controls",
          "model_name": "HTMLModel",
          "model_module_version": "1.5.0",
          "state": {
            "_dom_classes": [],
            "_model_module": "@jupyter-widgets/controls",
            "_model_module_version": "1.5.0",
            "_model_name": "HTMLModel",
            "_view_count": null,
            "_view_module": "@jupyter-widgets/controls",
            "_view_module_version": "1.5.0",
            "_view_name": "HTMLView",
            "description": "",
            "description_tooltip": null,
            "layout": "IPY_MODEL_6b95ef81c10446cb8e75012e54f96700",
            "placeholder": "​",
            "style": "IPY_MODEL_b29d3deea61d493c909313e610bdc72f",
            "value": "Downloading: 100%"
          }
        },
        "d249d08412a7409bae4d1e44152c986a": {
          "model_module": "@jupyter-widgets/controls",
          "model_name": "FloatProgressModel",
          "model_module_version": "1.5.0",
          "state": {
            "_dom_classes": [],
            "_model_module": "@jupyter-widgets/controls",
            "_model_module_version": "1.5.0",
            "_model_name": "FloatProgressModel",
            "_view_count": null,
            "_view_module": "@jupyter-widgets/controls",
            "_view_module_version": "1.5.0",
            "_view_name": "ProgressView",
            "bar_style": "success",
            "description": "",
            "description_tooltip": null,
            "layout": "IPY_MODEL_6c7efc431a914f7b9566dc1f98e5c520",
            "max": 625,
            "min": 0,
            "orientation": "horizontal",
            "style": "IPY_MODEL_dfd9175326e646b99d8ddbd5a8c98a2b",
            "value": 625
          }
        },
        "03bb4be0c4f24886b3158364c3847844": {
          "model_module": "@jupyter-widgets/controls",
          "model_name": "HTMLModel",
          "model_module_version": "1.5.0",
          "state": {
            "_dom_classes": [],
            "_model_module": "@jupyter-widgets/controls",
            "_model_module_version": "1.5.0",
            "_model_name": "HTMLModel",
            "_view_count": null,
            "_view_module": "@jupyter-widgets/controls",
            "_view_module_version": "1.5.0",
            "_view_name": "HTMLView",
            "description": "",
            "description_tooltip": null,
            "layout": "IPY_MODEL_65fed65815454697b768a15daacfdb76",
            "placeholder": "​",
            "style": "IPY_MODEL_762c5c27e1d74fc78e73c0c45675f928",
            "value": " 625/625 [00:00&lt;00:00, 17.8kB/s]"
          }
        },
        "cacd4adbdc9140eb84303ace1af77ccb": {
          "model_module": "@jupyter-widgets/base",
          "model_name": "LayoutModel",
          "model_module_version": "1.2.0",
          "state": {
            "_model_module": "@jupyter-widgets/base",
            "_model_module_version": "1.2.0",
            "_model_name": "LayoutModel",
            "_view_count": null,
            "_view_module": "@jupyter-widgets/base",
            "_view_module_version": "1.2.0",
            "_view_name": "LayoutView",
            "align_content": null,
            "align_items": null,
            "align_self": null,
            "border": null,
            "bottom": null,
            "display": null,
            "flex": null,
            "flex_flow": null,
            "grid_area": null,
            "grid_auto_columns": null,
            "grid_auto_flow": null,
            "grid_auto_rows": null,
            "grid_column": null,
            "grid_gap": null,
            "grid_row": null,
            "grid_template_areas": null,
            "grid_template_columns": null,
            "grid_template_rows": null,
            "height": null,
            "justify_content": null,
            "justify_items": null,
            "left": null,
            "margin": null,
            "max_height": null,
            "max_width": null,
            "min_height": null,
            "min_width": null,
            "object_fit": null,
            "object_position": null,
            "order": null,
            "overflow": null,
            "overflow_x": null,
            "overflow_y": null,
            "padding": null,
            "right": null,
            "top": null,
            "visibility": null,
            "width": null
          }
        },
        "6b95ef81c10446cb8e75012e54f96700": {
          "model_module": "@jupyter-widgets/base",
          "model_name": "LayoutModel",
          "model_module_version": "1.2.0",
          "state": {
            "_model_module": "@jupyter-widgets/base",
            "_model_module_version": "1.2.0",
            "_model_name": "LayoutModel",
            "_view_count": null,
            "_view_module": "@jupyter-widgets/base",
            "_view_module_version": "1.2.0",
            "_view_name": "LayoutView",
            "align_content": null,
            "align_items": null,
            "align_self": null,
            "border": null,
            "bottom": null,
            "display": null,
            "flex": null,
            "flex_flow": null,
            "grid_area": null,
            "grid_auto_columns": null,
            "grid_auto_flow": null,
            "grid_auto_rows": null,
            "grid_column": null,
            "grid_gap": null,
            "grid_row": null,
            "grid_template_areas": null,
            "grid_template_columns": null,
            "grid_template_rows": null,
            "height": null,
            "justify_content": null,
            "justify_items": null,
            "left": null,
            "margin": null,
            "max_height": null,
            "max_width": null,
            "min_height": null,
            "min_width": null,
            "object_fit": null,
            "object_position": null,
            "order": null,
            "overflow": null,
            "overflow_x": null,
            "overflow_y": null,
            "padding": null,
            "right": null,
            "top": null,
            "visibility": null,
            "width": null
          }
        },
        "b29d3deea61d493c909313e610bdc72f": {
          "model_module": "@jupyter-widgets/controls",
          "model_name": "DescriptionStyleModel",
          "model_module_version": "1.5.0",
          "state": {
            "_model_module": "@jupyter-widgets/controls",
            "_model_module_version": "1.5.0",
            "_model_name": "DescriptionStyleModel",
            "_view_count": null,
            "_view_module": "@jupyter-widgets/base",
            "_view_module_version": "1.2.0",
            "_view_name": "StyleView",
            "description_width": ""
          }
        },
        "6c7efc431a914f7b9566dc1f98e5c520": {
          "model_module": "@jupyter-widgets/base",
          "model_name": "LayoutModel",
          "model_module_version": "1.2.0",
          "state": {
            "_model_module": "@jupyter-widgets/base",
            "_model_module_version": "1.2.0",
            "_model_name": "LayoutModel",
            "_view_count": null,
            "_view_module": "@jupyter-widgets/base",
            "_view_module_version": "1.2.0",
            "_view_name": "LayoutView",
            "align_content": null,
            "align_items": null,
            "align_self": null,
            "border": null,
            "bottom": null,
            "display": null,
            "flex": null,
            "flex_flow": null,
            "grid_area": null,
            "grid_auto_columns": null,
            "grid_auto_flow": null,
            "grid_auto_rows": null,
            "grid_column": null,
            "grid_gap": null,
            "grid_row": null,
            "grid_template_areas": null,
            "grid_template_columns": null,
            "grid_template_rows": null,
            "height": null,
            "justify_content": null,
            "justify_items": null,
            "left": null,
            "margin": null,
            "max_height": null,
            "max_width": null,
            "min_height": null,
            "min_width": null,
            "object_fit": null,
            "object_position": null,
            "order": null,
            "overflow": null,
            "overflow_x": null,
            "overflow_y": null,
            "padding": null,
            "right": null,
            "top": null,
            "visibility": null,
            "width": null
          }
        },
        "dfd9175326e646b99d8ddbd5a8c98a2b": {
          "model_module": "@jupyter-widgets/controls",
          "model_name": "ProgressStyleModel",
          "model_module_version": "1.5.0",
          "state": {
            "_model_module": "@jupyter-widgets/controls",
            "_model_module_version": "1.5.0",
            "_model_name": "ProgressStyleModel",
            "_view_count": null,
            "_view_module": "@jupyter-widgets/base",
            "_view_module_version": "1.2.0",
            "_view_name": "StyleView",
            "bar_color": null,
            "description_width": ""
          }
        },
        "65fed65815454697b768a15daacfdb76": {
          "model_module": "@jupyter-widgets/base",
          "model_name": "LayoutModel",
          "model_module_version": "1.2.0",
          "state": {
            "_model_module": "@jupyter-widgets/base",
            "_model_module_version": "1.2.0",
            "_model_name": "LayoutModel",
            "_view_count": null,
            "_view_module": "@jupyter-widgets/base",
            "_view_module_version": "1.2.0",
            "_view_name": "LayoutView",
            "align_content": null,
            "align_items": null,
            "align_self": null,
            "border": null,
            "bottom": null,
            "display": null,
            "flex": null,
            "flex_flow": null,
            "grid_area": null,
            "grid_auto_columns": null,
            "grid_auto_flow": null,
            "grid_auto_rows": null,
            "grid_column": null,
            "grid_gap": null,
            "grid_row": null,
            "grid_template_areas": null,
            "grid_template_columns": null,
            "grid_template_rows": null,
            "height": null,
            "justify_content": null,
            "justify_items": null,
            "left": null,
            "margin": null,
            "max_height": null,
            "max_width": null,
            "min_height": null,
            "min_width": null,
            "object_fit": null,
            "object_position": null,
            "order": null,
            "overflow": null,
            "overflow_x": null,
            "overflow_y": null,
            "padding": null,
            "right": null,
            "top": null,
            "visibility": null,
            "width": null
          }
        },
        "762c5c27e1d74fc78e73c0c45675f928": {
          "model_module": "@jupyter-widgets/controls",
          "model_name": "DescriptionStyleModel",
          "model_module_version": "1.5.0",
          "state": {
            "_model_module": "@jupyter-widgets/controls",
            "_model_module_version": "1.5.0",
            "_model_name": "DescriptionStyleModel",
            "_view_count": null,
            "_view_module": "@jupyter-widgets/base",
            "_view_module_version": "1.2.0",
            "_view_name": "StyleView",
            "description_width": ""
          }
        },
        "5e2291dfd4794bf397b8063dfcf6acc3": {
          "model_module": "@jupyter-widgets/controls",
          "model_name": "HBoxModel",
          "model_module_version": "1.5.0",
          "state": {
            "_dom_classes": [],
            "_model_module": "@jupyter-widgets/controls",
            "_model_module_version": "1.5.0",
            "_model_name": "HBoxModel",
            "_view_count": null,
            "_view_module": "@jupyter-widgets/controls",
            "_view_module_version": "1.5.0",
            "_view_name": "HBoxView",
            "box_style": "",
            "children": [
              "IPY_MODEL_f7d55326aa584d60a9379b588cffc453",
              "IPY_MODEL_2c1779dd7a97487b9a56e17b068b498c",
              "IPY_MODEL_7507a2289ee54a9d8acaf147f1e00ec4"
            ],
            "layout": "IPY_MODEL_edf8bf25857f48f0bf1bcfec57705281"
          }
        },
        "f7d55326aa584d60a9379b588cffc453": {
          "model_module": "@jupyter-widgets/controls",
          "model_name": "HTMLModel",
          "model_module_version": "1.5.0",
          "state": {
            "_dom_classes": [],
            "_model_module": "@jupyter-widgets/controls",
            "_model_module_version": "1.5.0",
            "_model_name": "HTMLModel",
            "_view_count": null,
            "_view_module": "@jupyter-widgets/controls",
            "_view_module_version": "1.5.0",
            "_view_name": "HTMLView",
            "description": "",
            "description_tooltip": null,
            "layout": "IPY_MODEL_d7038aaf8c324585bf5cd2ef10661be5",
            "placeholder": "​",
            "style": "IPY_MODEL_69db5fd34f604a47a7d0115c9432b9c9",
            "value": "Downloading: 100%"
          }
        },
        "2c1779dd7a97487b9a56e17b068b498c": {
          "model_module": "@jupyter-widgets/controls",
          "model_name": "FloatProgressModel",
          "model_module_version": "1.5.0",
          "state": {
            "_dom_classes": [],
            "_model_module": "@jupyter-widgets/controls",
            "_model_module_version": "1.5.0",
            "_model_name": "FloatProgressModel",
            "_view_count": null,
            "_view_module": "@jupyter-widgets/controls",
            "_view_module_version": "1.5.0",
            "_view_name": "ProgressView",
            "bar_style": "success",
            "description": "",
            "description_tooltip": null,
            "layout": "IPY_MODEL_79d2ca413b7e4fc18bb1e2c055b0897e",
            "max": 871891,
            "min": 0,
            "orientation": "horizontal",
            "style": "IPY_MODEL_79f68a2ed1d4449297c09d77eb026900",
            "value": 871891
          }
        },
        "7507a2289ee54a9d8acaf147f1e00ec4": {
          "model_module": "@jupyter-widgets/controls",
          "model_name": "HTMLModel",
          "model_module_version": "1.5.0",
          "state": {
            "_dom_classes": [],
            "_model_module": "@jupyter-widgets/controls",
            "_model_module_version": "1.5.0",
            "_model_name": "HTMLModel",
            "_view_count": null,
            "_view_module": "@jupyter-widgets/controls",
            "_view_module_version": "1.5.0",
            "_view_name": "HTMLView",
            "description": "",
            "description_tooltip": null,
            "layout": "IPY_MODEL_3c4821955abc401f8594d3c89d4c90fc",
            "placeholder": "​",
            "style": "IPY_MODEL_b60ae84a9ced4e249651aa6c41b5f499",
            "value": " 872k/872k [00:01&lt;00:00, 1.20MB/s]"
          }
        },
        "edf8bf25857f48f0bf1bcfec57705281": {
          "model_module": "@jupyter-widgets/base",
          "model_name": "LayoutModel",
          "model_module_version": "1.2.0",
          "state": {
            "_model_module": "@jupyter-widgets/base",
            "_model_module_version": "1.2.0",
            "_model_name": "LayoutModel",
            "_view_count": null,
            "_view_module": "@jupyter-widgets/base",
            "_view_module_version": "1.2.0",
            "_view_name": "LayoutView",
            "align_content": null,
            "align_items": null,
            "align_self": null,
            "border": null,
            "bottom": null,
            "display": null,
            "flex": null,
            "flex_flow": null,
            "grid_area": null,
            "grid_auto_columns": null,
            "grid_auto_flow": null,
            "grid_auto_rows": null,
            "grid_column": null,
            "grid_gap": null,
            "grid_row": null,
            "grid_template_areas": null,
            "grid_template_columns": null,
            "grid_template_rows": null,
            "height": null,
            "justify_content": null,
            "justify_items": null,
            "left": null,
            "margin": null,
            "max_height": null,
            "max_width": null,
            "min_height": null,
            "min_width": null,
            "object_fit": null,
            "object_position": null,
            "order": null,
            "overflow": null,
            "overflow_x": null,
            "overflow_y": null,
            "padding": null,
            "right": null,
            "top": null,
            "visibility": null,
            "width": null
          }
        },
        "d7038aaf8c324585bf5cd2ef10661be5": {
          "model_module": "@jupyter-widgets/base",
          "model_name": "LayoutModel",
          "model_module_version": "1.2.0",
          "state": {
            "_model_module": "@jupyter-widgets/base",
            "_model_module_version": "1.2.0",
            "_model_name": "LayoutModel",
            "_view_count": null,
            "_view_module": "@jupyter-widgets/base",
            "_view_module_version": "1.2.0",
            "_view_name": "LayoutView",
            "align_content": null,
            "align_items": null,
            "align_self": null,
            "border": null,
            "bottom": null,
            "display": null,
            "flex": null,
            "flex_flow": null,
            "grid_area": null,
            "grid_auto_columns": null,
            "grid_auto_flow": null,
            "grid_auto_rows": null,
            "grid_column": null,
            "grid_gap": null,
            "grid_row": null,
            "grid_template_areas": null,
            "grid_template_columns": null,
            "grid_template_rows": null,
            "height": null,
            "justify_content": null,
            "justify_items": null,
            "left": null,
            "margin": null,
            "max_height": null,
            "max_width": null,
            "min_height": null,
            "min_width": null,
            "object_fit": null,
            "object_position": null,
            "order": null,
            "overflow": null,
            "overflow_x": null,
            "overflow_y": null,
            "padding": null,
            "right": null,
            "top": null,
            "visibility": null,
            "width": null
          }
        },
        "69db5fd34f604a47a7d0115c9432b9c9": {
          "model_module": "@jupyter-widgets/controls",
          "model_name": "DescriptionStyleModel",
          "model_module_version": "1.5.0",
          "state": {
            "_model_module": "@jupyter-widgets/controls",
            "_model_module_version": "1.5.0",
            "_model_name": "DescriptionStyleModel",
            "_view_count": null,
            "_view_module": "@jupyter-widgets/base",
            "_view_module_version": "1.2.0",
            "_view_name": "StyleView",
            "description_width": ""
          }
        },
        "79d2ca413b7e4fc18bb1e2c055b0897e": {
          "model_module": "@jupyter-widgets/base",
          "model_name": "LayoutModel",
          "model_module_version": "1.2.0",
          "state": {
            "_model_module": "@jupyter-widgets/base",
            "_model_module_version": "1.2.0",
            "_model_name": "LayoutModel",
            "_view_count": null,
            "_view_module": "@jupyter-widgets/base",
            "_view_module_version": "1.2.0",
            "_view_name": "LayoutView",
            "align_content": null,
            "align_items": null,
            "align_self": null,
            "border": null,
            "bottom": null,
            "display": null,
            "flex": null,
            "flex_flow": null,
            "grid_area": null,
            "grid_auto_columns": null,
            "grid_auto_flow": null,
            "grid_auto_rows": null,
            "grid_column": null,
            "grid_gap": null,
            "grid_row": null,
            "grid_template_areas": null,
            "grid_template_columns": null,
            "grid_template_rows": null,
            "height": null,
            "justify_content": null,
            "justify_items": null,
            "left": null,
            "margin": null,
            "max_height": null,
            "max_width": null,
            "min_height": null,
            "min_width": null,
            "object_fit": null,
            "object_position": null,
            "order": null,
            "overflow": null,
            "overflow_x": null,
            "overflow_y": null,
            "padding": null,
            "right": null,
            "top": null,
            "visibility": null,
            "width": null
          }
        },
        "79f68a2ed1d4449297c09d77eb026900": {
          "model_module": "@jupyter-widgets/controls",
          "model_name": "ProgressStyleModel",
          "model_module_version": "1.5.0",
          "state": {
            "_model_module": "@jupyter-widgets/controls",
            "_model_module_version": "1.5.0",
            "_model_name": "ProgressStyleModel",
            "_view_count": null,
            "_view_module": "@jupyter-widgets/base",
            "_view_module_version": "1.2.0",
            "_view_name": "StyleView",
            "bar_color": null,
            "description_width": ""
          }
        },
        "3c4821955abc401f8594d3c89d4c90fc": {
          "model_module": "@jupyter-widgets/base",
          "model_name": "LayoutModel",
          "model_module_version": "1.2.0",
          "state": {
            "_model_module": "@jupyter-widgets/base",
            "_model_module_version": "1.2.0",
            "_model_name": "LayoutModel",
            "_view_count": null,
            "_view_module": "@jupyter-widgets/base",
            "_view_module_version": "1.2.0",
            "_view_name": "LayoutView",
            "align_content": null,
            "align_items": null,
            "align_self": null,
            "border": null,
            "bottom": null,
            "display": null,
            "flex": null,
            "flex_flow": null,
            "grid_area": null,
            "grid_auto_columns": null,
            "grid_auto_flow": null,
            "grid_auto_rows": null,
            "grid_column": null,
            "grid_gap": null,
            "grid_row": null,
            "grid_template_areas": null,
            "grid_template_columns": null,
            "grid_template_rows": null,
            "height": null,
            "justify_content": null,
            "justify_items": null,
            "left": null,
            "margin": null,
            "max_height": null,
            "max_width": null,
            "min_height": null,
            "min_width": null,
            "object_fit": null,
            "object_position": null,
            "order": null,
            "overflow": null,
            "overflow_x": null,
            "overflow_y": null,
            "padding": null,
            "right": null,
            "top": null,
            "visibility": null,
            "width": null
          }
        },
        "b60ae84a9ced4e249651aa6c41b5f499": {
          "model_module": "@jupyter-widgets/controls",
          "model_name": "DescriptionStyleModel",
          "model_module_version": "1.5.0",
          "state": {
            "_model_module": "@jupyter-widgets/controls",
            "_model_module_version": "1.5.0",
            "_model_name": "DescriptionStyleModel",
            "_view_count": null,
            "_view_module": "@jupyter-widgets/base",
            "_view_module_version": "1.2.0",
            "_view_name": "StyleView",
            "description_width": ""
          }
        },
        "dd1c98255cdc49d489fa69d026c181bf": {
          "model_module": "@jupyter-widgets/controls",
          "model_name": "HBoxModel",
          "model_module_version": "1.5.0",
          "state": {
            "_dom_classes": [],
            "_model_module": "@jupyter-widgets/controls",
            "_model_module_version": "1.5.0",
            "_model_name": "HBoxModel",
            "_view_count": null,
            "_view_module": "@jupyter-widgets/controls",
            "_view_module_version": "1.5.0",
            "_view_name": "HBoxView",
            "box_style": "",
            "children": [
              "IPY_MODEL_058d1ba5a63e4200a454bac005d7ff61",
              "IPY_MODEL_0115a308393947aa8fff9ea9d604dbb8",
              "IPY_MODEL_0902499db7c843f481b92c03d780ceae"
            ],
            "layout": "IPY_MODEL_79fec857338a49feaf0eb754ef2897d3"
          }
        },
        "058d1ba5a63e4200a454bac005d7ff61": {
          "model_module": "@jupyter-widgets/controls",
          "model_name": "HTMLModel",
          "model_module_version": "1.5.0",
          "state": {
            "_dom_classes": [],
            "_model_module": "@jupyter-widgets/controls",
            "_model_module_version": "1.5.0",
            "_model_name": "HTMLModel",
            "_view_count": null,
            "_view_module": "@jupyter-widgets/controls",
            "_view_module_version": "1.5.0",
            "_view_name": "HTMLView",
            "description": "",
            "description_tooltip": null,
            "layout": "IPY_MODEL_a8454a3f455d4e29be3e68469e7328a5",
            "placeholder": "​",
            "style": "IPY_MODEL_be0dda5aa43b45aaa156f5c7cd465960",
            "value": "Downloading: 100%"
          }
        },
        "0115a308393947aa8fff9ea9d604dbb8": {
          "model_module": "@jupyter-widgets/controls",
          "model_name": "FloatProgressModel",
          "model_module_version": "1.5.0",
          "state": {
            "_dom_classes": [],
            "_model_module": "@jupyter-widgets/controls",
            "_model_module_version": "1.5.0",
            "_model_name": "FloatProgressModel",
            "_view_count": null,
            "_view_module": "@jupyter-widgets/controls",
            "_view_module_version": "1.5.0",
            "_view_name": "ProgressView",
            "bar_style": "success",
            "description": "",
            "description_tooltip": null,
            "layout": "IPY_MODEL_791193dc8b4f4188bf7fde883e1b7ccf",
            "max": 1715180,
            "min": 0,
            "orientation": "horizontal",
            "style": "IPY_MODEL_22fcd065e62c4dd68ddd5d580a71baef",
            "value": 1715180
          }
        },
        "0902499db7c843f481b92c03d780ceae": {
          "model_module": "@jupyter-widgets/controls",
          "model_name": "HTMLModel",
          "model_module_version": "1.5.0",
          "state": {
            "_dom_classes": [],
            "_model_module": "@jupyter-widgets/controls",
            "_model_module_version": "1.5.0",
            "_model_name": "HTMLModel",
            "_view_count": null,
            "_view_module": "@jupyter-widgets/controls",
            "_view_module_version": "1.5.0",
            "_view_name": "HTMLView",
            "description": "",
            "description_tooltip": null,
            "layout": "IPY_MODEL_8c489735b31e4a4fb31aa9ddbe557c40",
            "placeholder": "​",
            "style": "IPY_MODEL_45fe2c9d6ab24c43ad88cfcbf828713e",
            "value": " 1.72M/1.72M [00:01&lt;00:00, 2.09MB/s]"
          }
        },
        "79fec857338a49feaf0eb754ef2897d3": {
          "model_module": "@jupyter-widgets/base",
          "model_name": "LayoutModel",
          "model_module_version": "1.2.0",
          "state": {
            "_model_module": "@jupyter-widgets/base",
            "_model_module_version": "1.2.0",
            "_model_name": "LayoutModel",
            "_view_count": null,
            "_view_module": "@jupyter-widgets/base",
            "_view_module_version": "1.2.0",
            "_view_name": "LayoutView",
            "align_content": null,
            "align_items": null,
            "align_self": null,
            "border": null,
            "bottom": null,
            "display": null,
            "flex": null,
            "flex_flow": null,
            "grid_area": null,
            "grid_auto_columns": null,
            "grid_auto_flow": null,
            "grid_auto_rows": null,
            "grid_column": null,
            "grid_gap": null,
            "grid_row": null,
            "grid_template_areas": null,
            "grid_template_columns": null,
            "grid_template_rows": null,
            "height": null,
            "justify_content": null,
            "justify_items": null,
            "left": null,
            "margin": null,
            "max_height": null,
            "max_width": null,
            "min_height": null,
            "min_width": null,
            "object_fit": null,
            "object_position": null,
            "order": null,
            "overflow": null,
            "overflow_x": null,
            "overflow_y": null,
            "padding": null,
            "right": null,
            "top": null,
            "visibility": null,
            "width": null
          }
        },
        "a8454a3f455d4e29be3e68469e7328a5": {
          "model_module": "@jupyter-widgets/base",
          "model_name": "LayoutModel",
          "model_module_version": "1.2.0",
          "state": {
            "_model_module": "@jupyter-widgets/base",
            "_model_module_version": "1.2.0",
            "_model_name": "LayoutModel",
            "_view_count": null,
            "_view_module": "@jupyter-widgets/base",
            "_view_module_version": "1.2.0",
            "_view_name": "LayoutView",
            "align_content": null,
            "align_items": null,
            "align_self": null,
            "border": null,
            "bottom": null,
            "display": null,
            "flex": null,
            "flex_flow": null,
            "grid_area": null,
            "grid_auto_columns": null,
            "grid_auto_flow": null,
            "grid_auto_rows": null,
            "grid_column": null,
            "grid_gap": null,
            "grid_row": null,
            "grid_template_areas": null,
            "grid_template_columns": null,
            "grid_template_rows": null,
            "height": null,
            "justify_content": null,
            "justify_items": null,
            "left": null,
            "margin": null,
            "max_height": null,
            "max_width": null,
            "min_height": null,
            "min_width": null,
            "object_fit": null,
            "object_position": null,
            "order": null,
            "overflow": null,
            "overflow_x": null,
            "overflow_y": null,
            "padding": null,
            "right": null,
            "top": null,
            "visibility": null,
            "width": null
          }
        },
        "be0dda5aa43b45aaa156f5c7cd465960": {
          "model_module": "@jupyter-widgets/controls",
          "model_name": "DescriptionStyleModel",
          "model_module_version": "1.5.0",
          "state": {
            "_model_module": "@jupyter-widgets/controls",
            "_model_module_version": "1.5.0",
            "_model_name": "DescriptionStyleModel",
            "_view_count": null,
            "_view_module": "@jupyter-widgets/base",
            "_view_module_version": "1.2.0",
            "_view_name": "StyleView",
            "description_width": ""
          }
        },
        "791193dc8b4f4188bf7fde883e1b7ccf": {
          "model_module": "@jupyter-widgets/base",
          "model_name": "LayoutModel",
          "model_module_version": "1.2.0",
          "state": {
            "_model_module": "@jupyter-widgets/base",
            "_model_module_version": "1.2.0",
            "_model_name": "LayoutModel",
            "_view_count": null,
            "_view_module": "@jupyter-widgets/base",
            "_view_module_version": "1.2.0",
            "_view_name": "LayoutView",
            "align_content": null,
            "align_items": null,
            "align_self": null,
            "border": null,
            "bottom": null,
            "display": null,
            "flex": null,
            "flex_flow": null,
            "grid_area": null,
            "grid_auto_columns": null,
            "grid_auto_flow": null,
            "grid_auto_rows": null,
            "grid_column": null,
            "grid_gap": null,
            "grid_row": null,
            "grid_template_areas": null,
            "grid_template_columns": null,
            "grid_template_rows": null,
            "height": null,
            "justify_content": null,
            "justify_items": null,
            "left": null,
            "margin": null,
            "max_height": null,
            "max_width": null,
            "min_height": null,
            "min_width": null,
            "object_fit": null,
            "object_position": null,
            "order": null,
            "overflow": null,
            "overflow_x": null,
            "overflow_y": null,
            "padding": null,
            "right": null,
            "top": null,
            "visibility": null,
            "width": null
          }
        },
        "22fcd065e62c4dd68ddd5d580a71baef": {
          "model_module": "@jupyter-widgets/controls",
          "model_name": "ProgressStyleModel",
          "model_module_version": "1.5.0",
          "state": {
            "_model_module": "@jupyter-widgets/controls",
            "_model_module_version": "1.5.0",
            "_model_name": "ProgressStyleModel",
            "_view_count": null,
            "_view_module": "@jupyter-widgets/base",
            "_view_module_version": "1.2.0",
            "_view_name": "StyleView",
            "bar_color": null,
            "description_width": ""
          }
        },
        "8c489735b31e4a4fb31aa9ddbe557c40": {
          "model_module": "@jupyter-widgets/base",
          "model_name": "LayoutModel",
          "model_module_version": "1.2.0",
          "state": {
            "_model_module": "@jupyter-widgets/base",
            "_model_module_version": "1.2.0",
            "_model_name": "LayoutModel",
            "_view_count": null,
            "_view_module": "@jupyter-widgets/base",
            "_view_module_version": "1.2.0",
            "_view_name": "LayoutView",
            "align_content": null,
            "align_items": null,
            "align_self": null,
            "border": null,
            "bottom": null,
            "display": null,
            "flex": null,
            "flex_flow": null,
            "grid_area": null,
            "grid_auto_columns": null,
            "grid_auto_flow": null,
            "grid_auto_rows": null,
            "grid_column": null,
            "grid_gap": null,
            "grid_row": null,
            "grid_template_areas": null,
            "grid_template_columns": null,
            "grid_template_rows": null,
            "height": null,
            "justify_content": null,
            "justify_items": null,
            "left": null,
            "margin": null,
            "max_height": null,
            "max_width": null,
            "min_height": null,
            "min_width": null,
            "object_fit": null,
            "object_position": null,
            "order": null,
            "overflow": null,
            "overflow_x": null,
            "overflow_y": null,
            "padding": null,
            "right": null,
            "top": null,
            "visibility": null,
            "width": null
          }
        },
        "45fe2c9d6ab24c43ad88cfcbf828713e": {
          "model_module": "@jupyter-widgets/controls",
          "model_name": "DescriptionStyleModel",
          "model_module_version": "1.5.0",
          "state": {
            "_model_module": "@jupyter-widgets/controls",
            "_model_module_version": "1.5.0",
            "_model_name": "DescriptionStyleModel",
            "_view_count": null,
            "_view_module": "@jupyter-widgets/base",
            "_view_module_version": "1.2.0",
            "_view_name": "StyleView",
            "description_width": ""
          }
        },
        "dc83c176910a484096d785a78e7ad5b8": {
          "model_module": "@jupyter-widgets/controls",
          "model_name": "HBoxModel",
          "model_module_version": "1.5.0",
          "state": {
            "_dom_classes": [],
            "_model_module": "@jupyter-widgets/controls",
            "_model_module_version": "1.5.0",
            "_model_name": "HBoxModel",
            "_view_count": null,
            "_view_module": "@jupyter-widgets/controls",
            "_view_module_version": "1.5.0",
            "_view_name": "HBoxView",
            "box_style": "",
            "children": [
              "IPY_MODEL_d1fd6b77975c40bfbb36296b76909070",
              "IPY_MODEL_d1b466b361ba4fbe8611a065cf302df3",
              "IPY_MODEL_056a4b3e674743dcb7a4b9e2637b4101"
            ],
            "layout": "IPY_MODEL_1070e8a2afa242c79ca64d8e83f8267b"
          }
        },
        "d1fd6b77975c40bfbb36296b76909070": {
          "model_module": "@jupyter-widgets/controls",
          "model_name": "HTMLModel",
          "model_module_version": "1.5.0",
          "state": {
            "_dom_classes": [],
            "_model_module": "@jupyter-widgets/controls",
            "_model_module_version": "1.5.0",
            "_model_name": "HTMLModel",
            "_view_count": null,
            "_view_module": "@jupyter-widgets/controls",
            "_view_module_version": "1.5.0",
            "_view_name": "HTMLView",
            "description": "",
            "description_tooltip": null,
            "layout": "IPY_MODEL_d8bd09256c714fd0a332836cbba5db37",
            "placeholder": "​",
            "style": "IPY_MODEL_2cedb9c24875409b86a108553eb41835",
            "value": "epoch:   0%"
          }
        },
        "d1b466b361ba4fbe8611a065cf302df3": {
          "model_module": "@jupyter-widgets/controls",
          "model_name": "FloatProgressModel",
          "model_module_version": "1.5.0",
          "state": {
            "_dom_classes": [],
            "_model_module": "@jupyter-widgets/controls",
            "_model_module_version": "1.5.0",
            "_model_name": "FloatProgressModel",
            "_view_count": null,
            "_view_module": "@jupyter-widgets/controls",
            "_view_module_version": "1.5.0",
            "_view_name": "ProgressView",
            "bar_style": "",
            "description": "",
            "description_tooltip": null,
            "layout": "IPY_MODEL_ceb40a90221c449abb70c1e72c326699",
            "max": 5,
            "min": 0,
            "orientation": "horizontal",
            "style": "IPY_MODEL_cadde7563d664b8d9109e15ee81b5366",
            "value": 0
          }
        },
        "056a4b3e674743dcb7a4b9e2637b4101": {
          "model_module": "@jupyter-widgets/controls",
          "model_name": "HTMLModel",
          "model_module_version": "1.5.0",
          "state": {
            "_dom_classes": [],
            "_model_module": "@jupyter-widgets/controls",
            "_model_module_version": "1.5.0",
            "_model_name": "HTMLModel",
            "_view_count": null,
            "_view_module": "@jupyter-widgets/controls",
            "_view_module_version": "1.5.0",
            "_view_name": "HTMLView",
            "description": "",
            "description_tooltip": null,
            "layout": "IPY_MODEL_c0dbb4bb1fe948f0b5492b7bb9582dee",
            "placeholder": "​",
            "style": "IPY_MODEL_a9c72c93700e4734a8dafb4f88404018",
            "value": " 0/5 [00:00&lt;?, ?it/s, train epoch loss=nan]"
          }
        },
        "1070e8a2afa242c79ca64d8e83f8267b": {
          "model_module": "@jupyter-widgets/base",
          "model_name": "LayoutModel",
          "model_module_version": "1.2.0",
          "state": {
            "_model_module": "@jupyter-widgets/base",
            "_model_module_version": "1.2.0",
            "_model_name": "LayoutModel",
            "_view_count": null,
            "_view_module": "@jupyter-widgets/base",
            "_view_module_version": "1.2.0",
            "_view_name": "LayoutView",
            "align_content": null,
            "align_items": null,
            "align_self": null,
            "border": null,
            "bottom": null,
            "display": null,
            "flex": null,
            "flex_flow": null,
            "grid_area": null,
            "grid_auto_columns": null,
            "grid_auto_flow": null,
            "grid_auto_rows": null,
            "grid_column": null,
            "grid_gap": null,
            "grid_row": null,
            "grid_template_areas": null,
            "grid_template_columns": null,
            "grid_template_rows": null,
            "height": null,
            "justify_content": null,
            "justify_items": null,
            "left": null,
            "margin": null,
            "max_height": null,
            "max_width": null,
            "min_height": null,
            "min_width": null,
            "object_fit": null,
            "object_position": null,
            "order": null,
            "overflow": null,
            "overflow_x": null,
            "overflow_y": null,
            "padding": null,
            "right": null,
            "top": null,
            "visibility": null,
            "width": null
          }
        },
        "d8bd09256c714fd0a332836cbba5db37": {
          "model_module": "@jupyter-widgets/base",
          "model_name": "LayoutModel",
          "model_module_version": "1.2.0",
          "state": {
            "_model_module": "@jupyter-widgets/base",
            "_model_module_version": "1.2.0",
            "_model_name": "LayoutModel",
            "_view_count": null,
            "_view_module": "@jupyter-widgets/base",
            "_view_module_version": "1.2.0",
            "_view_name": "LayoutView",
            "align_content": null,
            "align_items": null,
            "align_self": null,
            "border": null,
            "bottom": null,
            "display": null,
            "flex": null,
            "flex_flow": null,
            "grid_area": null,
            "grid_auto_columns": null,
            "grid_auto_flow": null,
            "grid_auto_rows": null,
            "grid_column": null,
            "grid_gap": null,
            "grid_row": null,
            "grid_template_areas": null,
            "grid_template_columns": null,
            "grid_template_rows": null,
            "height": null,
            "justify_content": null,
            "justify_items": null,
            "left": null,
            "margin": null,
            "max_height": null,
            "max_width": null,
            "min_height": null,
            "min_width": null,
            "object_fit": null,
            "object_position": null,
            "order": null,
            "overflow": null,
            "overflow_x": null,
            "overflow_y": null,
            "padding": null,
            "right": null,
            "top": null,
            "visibility": null,
            "width": null
          }
        },
        "2cedb9c24875409b86a108553eb41835": {
          "model_module": "@jupyter-widgets/controls",
          "model_name": "DescriptionStyleModel",
          "model_module_version": "1.5.0",
          "state": {
            "_model_module": "@jupyter-widgets/controls",
            "_model_module_version": "1.5.0",
            "_model_name": "DescriptionStyleModel",
            "_view_count": null,
            "_view_module": "@jupyter-widgets/base",
            "_view_module_version": "1.2.0",
            "_view_name": "StyleView",
            "description_width": ""
          }
        },
        "ceb40a90221c449abb70c1e72c326699": {
          "model_module": "@jupyter-widgets/base",
          "model_name": "LayoutModel",
          "model_module_version": "1.2.0",
          "state": {
            "_model_module": "@jupyter-widgets/base",
            "_model_module_version": "1.2.0",
            "_model_name": "LayoutModel",
            "_view_count": null,
            "_view_module": "@jupyter-widgets/base",
            "_view_module_version": "1.2.0",
            "_view_name": "LayoutView",
            "align_content": null,
            "align_items": null,
            "align_self": null,
            "border": null,
            "bottom": null,
            "display": null,
            "flex": null,
            "flex_flow": null,
            "grid_area": null,
            "grid_auto_columns": null,
            "grid_auto_flow": null,
            "grid_auto_rows": null,
            "grid_column": null,
            "grid_gap": null,
            "grid_row": null,
            "grid_template_areas": null,
            "grid_template_columns": null,
            "grid_template_rows": null,
            "height": null,
            "justify_content": null,
            "justify_items": null,
            "left": null,
            "margin": null,
            "max_height": null,
            "max_width": null,
            "min_height": null,
            "min_width": null,
            "object_fit": null,
            "object_position": null,
            "order": null,
            "overflow": null,
            "overflow_x": null,
            "overflow_y": null,
            "padding": null,
            "right": null,
            "top": null,
            "visibility": null,
            "width": null
          }
        },
        "cadde7563d664b8d9109e15ee81b5366": {
          "model_module": "@jupyter-widgets/controls",
          "model_name": "ProgressStyleModel",
          "model_module_version": "1.5.0",
          "state": {
            "_model_module": "@jupyter-widgets/controls",
            "_model_module_version": "1.5.0",
            "_model_name": "ProgressStyleModel",
            "_view_count": null,
            "_view_module": "@jupyter-widgets/base",
            "_view_module_version": "1.2.0",
            "_view_name": "StyleView",
            "bar_color": null,
            "description_width": ""
          }
        },
        "c0dbb4bb1fe948f0b5492b7bb9582dee": {
          "model_module": "@jupyter-widgets/base",
          "model_name": "LayoutModel",
          "model_module_version": "1.2.0",
          "state": {
            "_model_module": "@jupyter-widgets/base",
            "_model_module_version": "1.2.0",
            "_model_name": "LayoutModel",
            "_view_count": null,
            "_view_module": "@jupyter-widgets/base",
            "_view_module_version": "1.2.0",
            "_view_name": "LayoutView",
            "align_content": null,
            "align_items": null,
            "align_self": null,
            "border": null,
            "bottom": null,
            "display": null,
            "flex": null,
            "flex_flow": null,
            "grid_area": null,
            "grid_auto_columns": null,
            "grid_auto_flow": null,
            "grid_auto_rows": null,
            "grid_column": null,
            "grid_gap": null,
            "grid_row": null,
            "grid_template_areas": null,
            "grid_template_columns": null,
            "grid_template_rows": null,
            "height": null,
            "justify_content": null,
            "justify_items": null,
            "left": null,
            "margin": null,
            "max_height": null,
            "max_width": null,
            "min_height": null,
            "min_width": null,
            "object_fit": null,
            "object_position": null,
            "order": null,
            "overflow": null,
            "overflow_x": null,
            "overflow_y": null,
            "padding": null,
            "right": null,
            "top": null,
            "visibility": null,
            "width": null
          }
        },
        "a9c72c93700e4734a8dafb4f88404018": {
          "model_module": "@jupyter-widgets/controls",
          "model_name": "DescriptionStyleModel",
          "model_module_version": "1.5.0",
          "state": {
            "_model_module": "@jupyter-widgets/controls",
            "_model_module_version": "1.5.0",
            "_model_name": "DescriptionStyleModel",
            "_view_count": null,
            "_view_module": "@jupyter-widgets/base",
            "_view_module_version": "1.2.0",
            "_view_name": "StyleView",
            "description_width": ""
          }
        },
        "c2d00378fbfe475c928ff5c38352c70f": {
          "model_module": "@jupyter-widgets/controls",
          "model_name": "HBoxModel",
          "model_module_version": "1.5.0",
          "state": {
            "_dom_classes": [],
            "_model_module": "@jupyter-widgets/controls",
            "_model_module_version": "1.5.0",
            "_model_name": "HBoxModel",
            "_view_count": null,
            "_view_module": "@jupyter-widgets/controls",
            "_view_module_version": "1.5.0",
            "_view_name": "HBoxView",
            "box_style": "",
            "children": [
              "IPY_MODEL_a7b0a9f310884c1cbb752404283952cc",
              "IPY_MODEL_c6c00059b55746f6be4e000957028cee",
              "IPY_MODEL_31a720d439ae4334bd349d0948a7d37b"
            ],
            "layout": "IPY_MODEL_f248f0f79b3542a98d8b511feab3fb69"
          }
        },
        "a7b0a9f310884c1cbb752404283952cc": {
          "model_module": "@jupyter-widgets/controls",
          "model_name": "HTMLModel",
          "model_module_version": "1.5.0",
          "state": {
            "_dom_classes": [],
            "_model_module": "@jupyter-widgets/controls",
            "_model_module_version": "1.5.0",
            "_model_name": "HTMLModel",
            "_view_count": null,
            "_view_module": "@jupyter-widgets/controls",
            "_view_module_version": "1.5.0",
            "_view_name": "HTMLView",
            "description": "",
            "description_tooltip": null,
            "layout": "IPY_MODEL_79b8c5c9de0749e8a2eee0bda8febf56",
            "placeholder": "​",
            "style": "IPY_MODEL_5907672243b6427db7212c71f675c9f6",
            "value": " 38%"
          }
        },
        "c6c00059b55746f6be4e000957028cee": {
          "model_module": "@jupyter-widgets/controls",
          "model_name": "FloatProgressModel",
          "model_module_version": "1.5.0",
          "state": {
            "_dom_classes": [],
            "_model_module": "@jupyter-widgets/controls",
            "_model_module_version": "1.5.0",
            "_model_name": "FloatProgressModel",
            "_view_count": null,
            "_view_module": "@jupyter-widgets/controls",
            "_view_module_version": "1.5.0",
            "_view_name": "ProgressView",
            "bar_style": "",
            "description": "",
            "description_tooltip": null,
            "layout": "IPY_MODEL_a4ecd0228854414f98adafac0abaeb62",
            "max": 297,
            "min": 0,
            "orientation": "horizontal",
            "style": "IPY_MODEL_ba446b42a1094a01a8dc6b7905266f78",
            "value": 113
          }
        },
        "31a720d439ae4334bd349d0948a7d37b": {
          "model_module": "@jupyter-widgets/controls",
          "model_name": "HTMLModel",
          "model_module_version": "1.5.0",
          "state": {
            "_dom_classes": [],
            "_model_module": "@jupyter-widgets/controls",
            "_model_module_version": "1.5.0",
            "_model_name": "HTMLModel",
            "_view_count": null,
            "_view_module": "@jupyter-widgets/controls",
            "_view_module_version": "1.5.0",
            "_view_name": "HTMLView",
            "description": "",
            "description_tooltip": null,
            "layout": "IPY_MODEL_3177bf1c025a4f5d8c35e2540726dd6f",
            "placeholder": "​",
            "style": "IPY_MODEL_b2dfd938cedb48ac81dc7f77380c80cc",
            "value": " 113/297 [31:44&lt;54:09, 17.66s/it]"
          }
        },
        "f248f0f79b3542a98d8b511feab3fb69": {
          "model_module": "@jupyter-widgets/base",
          "model_name": "LayoutModel",
          "model_module_version": "1.2.0",
          "state": {
            "_model_module": "@jupyter-widgets/base",
            "_model_module_version": "1.2.0",
            "_model_name": "LayoutModel",
            "_view_count": null,
            "_view_module": "@jupyter-widgets/base",
            "_view_module_version": "1.2.0",
            "_view_name": "LayoutView",
            "align_content": null,
            "align_items": null,
            "align_self": null,
            "border": null,
            "bottom": null,
            "display": null,
            "flex": null,
            "flex_flow": null,
            "grid_area": null,
            "grid_auto_columns": null,
            "grid_auto_flow": null,
            "grid_auto_rows": null,
            "grid_column": null,
            "grid_gap": null,
            "grid_row": null,
            "grid_template_areas": null,
            "grid_template_columns": null,
            "grid_template_rows": null,
            "height": null,
            "justify_content": null,
            "justify_items": null,
            "left": null,
            "margin": null,
            "max_height": null,
            "max_width": null,
            "min_height": null,
            "min_width": null,
            "object_fit": null,
            "object_position": null,
            "order": null,
            "overflow": null,
            "overflow_x": null,
            "overflow_y": null,
            "padding": null,
            "right": null,
            "top": null,
            "visibility": null,
            "width": null
          }
        },
        "79b8c5c9de0749e8a2eee0bda8febf56": {
          "model_module": "@jupyter-widgets/base",
          "model_name": "LayoutModel",
          "model_module_version": "1.2.0",
          "state": {
            "_model_module": "@jupyter-widgets/base",
            "_model_module_version": "1.2.0",
            "_model_name": "LayoutModel",
            "_view_count": null,
            "_view_module": "@jupyter-widgets/base",
            "_view_module_version": "1.2.0",
            "_view_name": "LayoutView",
            "align_content": null,
            "align_items": null,
            "align_self": null,
            "border": null,
            "bottom": null,
            "display": null,
            "flex": null,
            "flex_flow": null,
            "grid_area": null,
            "grid_auto_columns": null,
            "grid_auto_flow": null,
            "grid_auto_rows": null,
            "grid_column": null,
            "grid_gap": null,
            "grid_row": null,
            "grid_template_areas": null,
            "grid_template_columns": null,
            "grid_template_rows": null,
            "height": null,
            "justify_content": null,
            "justify_items": null,
            "left": null,
            "margin": null,
            "max_height": null,
            "max_width": null,
            "min_height": null,
            "min_width": null,
            "object_fit": null,
            "object_position": null,
            "order": null,
            "overflow": null,
            "overflow_x": null,
            "overflow_y": null,
            "padding": null,
            "right": null,
            "top": null,
            "visibility": null,
            "width": null
          }
        },
        "5907672243b6427db7212c71f675c9f6": {
          "model_module": "@jupyter-widgets/controls",
          "model_name": "DescriptionStyleModel",
          "model_module_version": "1.5.0",
          "state": {
            "_model_module": "@jupyter-widgets/controls",
            "_model_module_version": "1.5.0",
            "_model_name": "DescriptionStyleModel",
            "_view_count": null,
            "_view_module": "@jupyter-widgets/base",
            "_view_module_version": "1.2.0",
            "_view_name": "StyleView",
            "description_width": ""
          }
        },
        "a4ecd0228854414f98adafac0abaeb62": {
          "model_module": "@jupyter-widgets/base",
          "model_name": "LayoutModel",
          "model_module_version": "1.2.0",
          "state": {
            "_model_module": "@jupyter-widgets/base",
            "_model_module_version": "1.2.0",
            "_model_name": "LayoutModel",
            "_view_count": null,
            "_view_module": "@jupyter-widgets/base",
            "_view_module_version": "1.2.0",
            "_view_name": "LayoutView",
            "align_content": null,
            "align_items": null,
            "align_self": null,
            "border": null,
            "bottom": null,
            "display": null,
            "flex": null,
            "flex_flow": null,
            "grid_area": null,
            "grid_auto_columns": null,
            "grid_auto_flow": null,
            "grid_auto_rows": null,
            "grid_column": null,
            "grid_gap": null,
            "grid_row": null,
            "grid_template_areas": null,
            "grid_template_columns": null,
            "grid_template_rows": null,
            "height": null,
            "justify_content": null,
            "justify_items": null,
            "left": null,
            "margin": null,
            "max_height": null,
            "max_width": null,
            "min_height": null,
            "min_width": null,
            "object_fit": null,
            "object_position": null,
            "order": null,
            "overflow": null,
            "overflow_x": null,
            "overflow_y": null,
            "padding": null,
            "right": null,
            "top": null,
            "visibility": null,
            "width": null
          }
        },
        "ba446b42a1094a01a8dc6b7905266f78": {
          "model_module": "@jupyter-widgets/controls",
          "model_name": "ProgressStyleModel",
          "model_module_version": "1.5.0",
          "state": {
            "_model_module": "@jupyter-widgets/controls",
            "_model_module_version": "1.5.0",
            "_model_name": "ProgressStyleModel",
            "_view_count": null,
            "_view_module": "@jupyter-widgets/base",
            "_view_module_version": "1.2.0",
            "_view_name": "StyleView",
            "bar_color": null,
            "description_width": ""
          }
        },
        "3177bf1c025a4f5d8c35e2540726dd6f": {
          "model_module": "@jupyter-widgets/base",
          "model_name": "LayoutModel",
          "model_module_version": "1.2.0",
          "state": {
            "_model_module": "@jupyter-widgets/base",
            "_model_module_version": "1.2.0",
            "_model_name": "LayoutModel",
            "_view_count": null,
            "_view_module": "@jupyter-widgets/base",
            "_view_module_version": "1.2.0",
            "_view_name": "LayoutView",
            "align_content": null,
            "align_items": null,
            "align_self": null,
            "border": null,
            "bottom": null,
            "display": null,
            "flex": null,
            "flex_flow": null,
            "grid_area": null,
            "grid_auto_columns": null,
            "grid_auto_flow": null,
            "grid_auto_rows": null,
            "grid_column": null,
            "grid_gap": null,
            "grid_row": null,
            "grid_template_areas": null,
            "grid_template_columns": null,
            "grid_template_rows": null,
            "height": null,
            "justify_content": null,
            "justify_items": null,
            "left": null,
            "margin": null,
            "max_height": null,
            "max_width": null,
            "min_height": null,
            "min_width": null,
            "object_fit": null,
            "object_position": null,
            "order": null,
            "overflow": null,
            "overflow_x": null,
            "overflow_y": null,
            "padding": null,
            "right": null,
            "top": null,
            "visibility": null,
            "width": null
          }
        },
        "b2dfd938cedb48ac81dc7f77380c80cc": {
          "model_module": "@jupyter-widgets/controls",
          "model_name": "DescriptionStyleModel",
          "model_module_version": "1.5.0",
          "state": {
            "_model_module": "@jupyter-widgets/controls",
            "_model_module_version": "1.5.0",
            "_model_name": "DescriptionStyleModel",
            "_view_count": null,
            "_view_module": "@jupyter-widgets/base",
            "_view_module_version": "1.2.0",
            "_view_name": "StyleView",
            "description_width": ""
          }
        }
      }
    }
  },
  "cells": [
    {
      "cell_type": "markdown",
      "metadata": {
        "id": "view-in-github",
        "colab_type": "text"
      },
      "source": [
        "<a href=\"https://colab.research.google.com/github/AlexeyTri/MyMachineLearningSeminars/blob/main/seminar18/%D0%9C%D0%BE%D0%B4%D0%B5%D0%BB%D0%B8_%D0%B2%D0%BD%D0%B8%D0%BC%D0%B0%D0%BD%D0%B8%D1%8F_%D0%B8_%D1%82%D1%80%D0%B0%D0%BD%D1%81%D1%84%D0%BE%D1%80%D0%BC%D0%B5%D1%80%D1%8B.ipynb\" target=\"_parent\"><img src=\"https://colab.research.google.com/assets/colab-badge.svg\" alt=\"Open In Colab\"/></a>"
      ]
    },
    {
      "cell_type": "markdown",
      "source": [
        "# Attention is all you need. Трансформеры.\n"
      ],
      "metadata": {
        "id": "_UPsA1XP_eM9"
      }
    },
    {
      "cell_type": "markdown",
      "source": [
        "#Бибилиотеки, загрузка данных, код обучения"
      ],
      "metadata": {
        "id": "pjL-0BxBNu7o"
      }
    },
    {
      "cell_type": "markdown",
      "source": [
        "*http://opus.nlpl.eu/Wikipedia-v1.0.php - выборка Wikipedia en-ru  и ru-en*\n",
        "\n",
        "*данные раземещены на GoogleDrive*\n"
      ],
      "metadata": {
        "id": "iZmuaFBDhsMJ"
      }
    },
    {
      "cell_type": "code",
      "source": [
        "!pip install --quiet -U transformers torch sentencepiece"
      ],
      "metadata": {
        "id": "OBBRjcklA5_W",
        "colab": {
          "base_uri": "https://localhost:8080/"
        },
        "outputId": "ca7ca13f-0192-49b0-a118-e56d6f78c6c9"
      },
      "execution_count": 1,
      "outputs": [
        {
          "output_type": "stream",
          "name": "stdout",
          "text": [
            "\u001b[K     |████████████████████████████████| 5.8 MB 4.1 MB/s \n",
            "\u001b[K     |████████████████████████████████| 1.3 MB 65.6 MB/s \n",
            "\u001b[K     |████████████████████████████████| 7.6 MB 7.6 MB/s \n",
            "\u001b[K     |████████████████████████████████| 182 kB 10.5 MB/s \n",
            "\u001b[?25h"
          ]
        }
      ]
    },
    {
      "cell_type": "code",
      "source": [
        "import matplotlib.pyplot as plt\n",
        "from mpl_toolkits import mplot3d\n",
        "from matplotlib import gridspec\n",
        "\n",
        "from tqdm.notebook import tqdm\n",
        "import numpy as np\n",
        "import  pandas as pd\n",
        "import seaborn as sns\n",
        "import torch\n",
        "import scipy\n",
        "# AutoModel это класс создающий зкземпляр соответствующей модели, с переданными на вход настроенными весами, конфигурацией и словарем\n",
        "from transformers import AutoModel, AutoTokenizer\n",
        "# конфигурация модели Marian https://huggingface.co/docs/transformers/v4.25.1/en/model_doc/marian#transformers.MarianConfig\n",
        "# This model is also a PyTorch torch.nn.Module subclass. Use it as a regular PyTorch\n",
        "from transformers import MarianMTModel, MarianTokenizer\n",
        "\n",
        "from sklearn.metrics import classification_report\n",
        "from torch.utils.tensorboard import SummaryWriter"
      ],
      "metadata": {
        "id": "aOMiWn7--eyc"
      },
      "execution_count": 2,
      "outputs": []
    },
    {
      "cell_type": "code",
      "source": [
        "import warnings\n",
        "warnings.filterwarnings(\"ignore\")"
      ],
      "metadata": {
        "id": "v9zxdAciCabt"
      },
      "execution_count": 3,
      "outputs": []
    },
    {
      "cell_type": "code",
      "source": [
        "device = 'cuda' if torch.cuda.is_available() else 'cpu'\n",
        "device\n"
      ],
      "metadata": {
        "colab": {
          "base_uri": "https://localhost:8080/",
          "height": 35
        },
        "id": "zRbsyyCTDF-G",
        "outputId": "2dd07266-8c71-4d8f-cc24-8791ae5e761d"
      },
      "execution_count": 4,
      "outputs": [
        {
          "output_type": "execute_result",
          "data": {
            "text/plain": [
              "'cpu'"
            ],
            "application/vnd.google.colaboratory.intrinsic+json": {
              "type": "string"
            }
          },
          "metadata": {},
          "execution_count": 4
        }
      ]
    },
    {
      "cell_type": "code",
      "source": [
        "from google.colab import drive\n",
        "drive.mount('/gdrive')\n",
        "%cd /gdrive"
      ],
      "metadata": {
        "colab": {
          "base_uri": "https://localhost:8080/"
        },
        "id": "Q09D7EbQQCfR",
        "outputId": "d9642471-169c-43b2-f278-686925276a45"
      },
      "execution_count": 5,
      "outputs": [
        {
          "output_type": "stream",
          "name": "stdout",
          "text": [
            "Mounted at /gdrive\n",
            "/gdrive\n"
          ]
        }
      ]
    },
    {
      "cell_type": "code",
      "source": [
        "with open('/gdrive/MyDrive/Wikipedia.en-ru.en') as f:\n",
        "    en_all_texts = f.read().splitlines()\n",
        "with open('/gdrive/MyDrive/Wikipedia.en-ru.ru') as f:\n",
        "    ru_all_texts = f.read().splitlines()"
      ],
      "metadata": {
        "id": "_UiKM4m5QZLX"
      },
      "execution_count": 6,
      "outputs": []
    },
    {
      "cell_type": "code",
      "source": [
        "ru_texts = []\n",
        "en_texts = []\n",
        "\n",
        "for ru_text, en_text in zip(ru_all_texts, en_all_texts):\n",
        "    if len(ru_text) < 100 and len(en_text) < 100:\n",
        "        ru_texts.append(ru_text.lower())\n",
        "        en_texts.append(en_text.lower())"
      ],
      "metadata": {
        "id": "3_OwyyfKQnOh"
      },
      "execution_count": 7,
      "outputs": []
    },
    {
      "cell_type": "code",
      "source": [
        "len(ru_texts), len(en_texts)"
      ],
      "metadata": {
        "colab": {
          "base_uri": "https://localhost:8080/"
        },
        "id": "-_0AL-ZsQzD4",
        "outputId": "e991e4fd-c920-4973-8fdf-3a2f16f5551b"
      },
      "execution_count": 8,
      "outputs": [
        {
          "output_type": "execute_result",
          "data": {
            "text/plain": [
              "(306887, 306887)"
            ]
          },
          "metadata": {},
          "execution_count": 8
        }
      ]
    },
    {
      "cell_type": "code",
      "source": [
        "ru_texts[:20]"
      ],
      "metadata": {
        "id": "rWjziT4tL_If",
        "colab": {
          "base_uri": "https://localhost:8080/"
        },
        "outputId": "8c4246b6-fca3-4ad5-811f-c48433e9384e"
      },
      "execution_count": 9,
      "outputs": [
        {
          "output_type": "execute_result",
          "data": {
            "text/plain": [
              "['через неделю, 1 сентября, германия начала вторжение в польшу.',\n",
              " '29 марта 2004 года литва вступила в нато.',\n",
              " 'число занятых в промышленности — 27,5 % трудоспособного населения.',\n",
              " 'традиционно в россии популярны настольные интеллектуальные игры.',\n",
              " 'о статусе соционики существуют противоположные мнения.',\n",
              " 'д.',\n",
              " '2004.',\n",
              " '2014.',\n",
              " '3-16.',\n",
              " '2014.',\n",
              " '24-40.',\n",
              " 'гос.',\n",
              " 'церковь строилась в качестве кафедрального собора неподалёку от княжеского терема.',\n",
              " 'г.',\n",
              " '* всемирная история.',\n",
              " 'началось стачечное движение и забастовки на железных дорогах россии.',\n",
              " 'на кавказе начались столкновения армян с азербайджанцами, продолжавшиеся в 1905—1906 годах.',\n",
              " 'жителей (1999), с пригородами — 87 800 жителей.',\n",
              " 'д.).',\n",
              " 'n, (2006).']"
            ]
          },
          "metadata": {},
          "execution_count": 9
        }
      ]
    },
    {
      "cell_type": "markdown",
      "source": [
        "Блок кода для обучения"
      ],
      "metadata": {
        "id": "qnk3uEKUMH6h"
      }
    },
    {
      "cell_type": "code",
      "source": [
        "def train_on_batch(model, x_batch, y_batch, optimizer, loss_function):\n",
        "    model.train()\n",
        "    optimizer.zero_grad()\n",
        "\n",
        "    output = model(x_batch.to(model.device), y_batch.to(model.device))\n",
        "\n",
        "    loss = loss_function(output.transpose(1,2),\n",
        "                         y_batch.to(model.device))\n",
        "    \n",
        "    loss.backward()\n",
        "    optimizer.step()\n",
        "    return loss.cpu().item()"
      ],
      "metadata": {
        "id": "cPUh1SDkMMEv"
      },
      "execution_count": 10,
      "outputs": []
    },
    {
      "cell_type": "markdown",
      "source": [
        "TODO => CALLBACK"
      ],
      "metadata": {
        "id": "sDXdxM_vOmtj"
      }
    },
    {
      "cell_type": "code",
      "source": [
        "def train_epoch(train_generator, model, loss_function, optimizer, callback=None):\n",
        "    epoch_loss = 0\n",
        "    total = 0\n",
        "    for it, (batch_of_x, batch_of_y) in enumerate(train_generator):\n",
        "        batch_loss = train_on_batch(model, batch_of_x, batch_of_y, optimizer, loss_function)\n",
        "\n",
        "        if callback is not None:\n",
        "            with torch.no_grad():\n",
        "                callback(model, batch_loss)\n",
        "        epoch_loss += batch_loss*len(batch_of_x)\n",
        "        total += len(batch_of_x)\n",
        "\n",
        "    return epoch_loss/total"
      ],
      "metadata": {
        "id": "O2yHXJTbNqYe"
      },
      "execution_count": 11,
      "outputs": []
    },
    {
      "cell_type": "code",
      "source": [
        "def trainer(count_of_epoch,\n",
        "            batch_size,\n",
        "            dataset,\n",
        "            model,\n",
        "            loss_function,\n",
        "            optimizer,\n",
        "            lr=0.001,\n",
        "            callback=None):\n",
        "    optima = optimizer(model.parameters(), lr=lr)\n",
        "\n",
        "    iterations = tqdm(range(count_of_epoch), desc='epoch')\n",
        "    iterations.set_postfix({'train epoch loss': np.nan})\n",
        "    for it in iterations:\n",
        "        batch_generator = tqdm(\n",
        "            torch.utils.data.DataLoader(dataset=dataset,\n",
        "                                        batch_size=batch_size,\n",
        "                                        shuffle=True, pin_memory=True),\n",
        "                               leave=False, total=len(dataset)//batch_size+(len(dataset)%batch_size>0))\n",
        "        epoch_loss = train_epoch(train_generator=batch_generator,\n",
        "                                 model=model,\n",
        "                                 loss_function=loss_function,\n",
        "                                 optimizer=optima,\n",
        "                                 callback=callback)\n",
        "        iterations.set_postfix({'train epoch loss': epoch_loss})"
      ],
      "metadata": {
        "id": "U0wM_pspRE0S"
      },
      "execution_count": 12,
      "outputs": []
    },
    {
      "cell_type": "markdown",
      "source": [
        "# Attn RNN\n"
      ],
      "metadata": {
        "id": "nr6SldZvo9rA"
      }
    },
    {
      "cell_type": "markdown",
      "source": [
        "\\begin{align}\n",
        "        \\mathbf{с} &= Attn(q,K,V)=\\sum_{i=1} v_i SoftMax_i a(k_i,q)\n",
        "    \\end{align}\n",
        "\n",
        "    * q - вектор-запрос, для которого хотим вычислить контекст\n",
        "    * K = (к_1,...,k_n) - вектор-ключи, сравниваемые с запросом\n",
        "    * V = (v_1,...,v_n) - векторы-значения, образующие контекст\n",
        "    * a(k_i,q) - оценка релевантности (сходства) ключа k_i запросу q\n",
        "    * c - искомый вектор контекста "
      ],
      "metadata": {
        "id": "Nave7PVyq4c4"
      }
    },
    {
      "cell_type": "code",
      "source": [
        "class Encoder(torch.nn.Module):\n",
        "    @property\n",
        "    def device(self):\n",
        "        return next(self.parameters()).device\n",
        "\n",
        "    def __init__(self, vocab_size, emb_dim=30, hidden_dim=30):\n",
        "        super(Encoder, self).__init__()\n",
        "        self.embedding = torch.nn.Embedding(vocab_size, emb_dim)\n",
        "        self.lstm = torch.nn.LSTM(emb_dim, hidden_dim, batch_first=True)\n",
        "\n",
        "    def forward(self, input):\n",
        "        r'''\n",
        "        :param input: тензор размера batch_size x seq_len --- список токенов\n",
        "        '''\n",
        "\n",
        "        act = self.embedding(input)\n",
        "        act, hidden = self.lstm(act)\n",
        "        return act, hidden\n"
      ],
      "metadata": {
        "id": "s-T8gsLfzyH5"
      },
      "execution_count": 13,
      "outputs": []
    },
    {
      "cell_type": "code",
      "source": [
        "class Decoder(torch.nn.Module):\n",
        "    @property\n",
        "    def device(self):\n",
        "        return next(self.parameters()).device\n",
        "\n",
        "    def __init__(self, vocab_size, emb_dim=30, hidden_dim=30):\n",
        "        super(Decoder, self).__init__()\n",
        "        self.embedding = torch.nn.Embedding(vocab_size, emb_dim)\n",
        "        self.attention = torch.nn.MultiheadAttention(emb_dim, 1)\n",
        "        self.lstm = torch.nn.LSTM(emb_dim, hidden_dim, batch_first=True)\n",
        "        self.linear = torch.nn.Linear(hidden_dim, vocab_size)\n",
        "\n",
        "    def forward(self, input, encoder_outputs, hidden):\n",
        "        r\"\"\"\n",
        "        :param input: тензор размера batch_size x seq_len\n",
        "        \"\"\"\n",
        "        act = self.embedding(input)\n",
        "        act, _ = self.attention(act.transpose(0,1),\n",
        "                                encoder_outputs.transpose(0,1),\n",
        "                                encoder_outputs.transpose(0,1))\n",
        "        act = act.transpose(0,1)\n",
        "        act, hidden = self.lstm(act, hidden)\n",
        "        return self.linear(act), hidden"
      ],
      "metadata": {
        "id": "TfXX-kBk3HtS"
      },
      "execution_count": 14,
      "outputs": []
    },
    {
      "cell_type": "code",
      "source": [
        "class seq2seq(torch.nn.Module):\n",
        "    @property\n",
        "    def device(self):\n",
        "        return next(self.parameters()).device\n",
        "    \n",
        "    def __init__(self, vocab_size, emb_dim=30, hidden_dim=30):\n",
        "        super(seq2seq, self).__init__()\n",
        "        self.vocab_size = vocab_size\n",
        "        self.encoder = Encoder(vocab_size, emb_dim, hidden_dim)\n",
        "        self.decoder = Decoder(vocab_size, emb_dim, hidden_dim)\n",
        "\n",
        "    def forward(self, input, decoder_input=None, max_seq_len=64):\n",
        "        r'''\n",
        "        '''\n",
        "        encoder_output, hidden = self.encoder(input)\n",
        "\n",
        "        if decoder_input is None:\n",
        "            translated_scores = torch.zeros(len(input),\n",
        "                                            max_seq_len,\n",
        "                                            self.vocab_size).to(self.device)\n",
        "            translated_scores[:, 0, input[:,0]] = 1.\n",
        "            for i in range(1, max_seq_len):\n",
        "                translated_scores[:, i:i+1], hidden = self.decoder(\n",
        "                    torch.argmax(translated_scores[:, i-1:i], axis=-1),\n",
        "                    encoder_output,hidden)\n",
        "        else:\n",
        "            translated_scores, _ = self.decoder(decoder_input, encoder_output, hidden)\n",
        "        return translated_scores"
      ],
      "metadata": {
        "id": "FSVVY93o6r3M"
      },
      "execution_count": 15,
      "outputs": []
    },
    {
      "cell_type": "code",
      "source": [
        "tokenizer = AutoTokenizer.from_pretrained('bert-base-multilingual-uncased', verbose=False)\n",
        "tokenizer.vocab_size"
      ],
      "metadata": {
        "colab": {
          "base_uri": "https://localhost:8080/",
          "height": 162,
          "referenced_widgets": [
            "86c48daa4af24c5a97ceb649b8ba9752",
            "326c446b81b14e3fa5199f05478109a2",
            "adee96472ba648fab20d5e2130ecad0c",
            "5e82ad94dc7143a49c6c128b17d3d78a",
            "12f67b58b6e849c2b2c83366c74b0932",
            "efdbc6e2596449038662795d3abaf90c",
            "43367cf051f94b3ab7849654638ad76d",
            "6a6ae056de7e42b4be0e6a63650e5e7e",
            "7e9fe5a14d24495d89e5e6fea062c926",
            "6d11991f8ebc475c9618c988808b6be0",
            "1a10533144fa43d984354fd432173595",
            "32c82181139146b487c9ad9fef0b7c84",
            "153edd843d174ecba9f13158b67ea401",
            "d249d08412a7409bae4d1e44152c986a",
            "03bb4be0c4f24886b3158364c3847844",
            "cacd4adbdc9140eb84303ace1af77ccb",
            "6b95ef81c10446cb8e75012e54f96700",
            "b29d3deea61d493c909313e610bdc72f",
            "6c7efc431a914f7b9566dc1f98e5c520",
            "dfd9175326e646b99d8ddbd5a8c98a2b",
            "65fed65815454697b768a15daacfdb76",
            "762c5c27e1d74fc78e73c0c45675f928",
            "5e2291dfd4794bf397b8063dfcf6acc3",
            "f7d55326aa584d60a9379b588cffc453",
            "2c1779dd7a97487b9a56e17b068b498c",
            "7507a2289ee54a9d8acaf147f1e00ec4",
            "edf8bf25857f48f0bf1bcfec57705281",
            "d7038aaf8c324585bf5cd2ef10661be5",
            "69db5fd34f604a47a7d0115c9432b9c9",
            "79d2ca413b7e4fc18bb1e2c055b0897e",
            "79f68a2ed1d4449297c09d77eb026900",
            "3c4821955abc401f8594d3c89d4c90fc",
            "b60ae84a9ced4e249651aa6c41b5f499",
            "dd1c98255cdc49d489fa69d026c181bf",
            "058d1ba5a63e4200a454bac005d7ff61",
            "0115a308393947aa8fff9ea9d604dbb8",
            "0902499db7c843f481b92c03d780ceae",
            "79fec857338a49feaf0eb754ef2897d3",
            "a8454a3f455d4e29be3e68469e7328a5",
            "be0dda5aa43b45aaa156f5c7cd465960",
            "791193dc8b4f4188bf7fde883e1b7ccf",
            "22fcd065e62c4dd68ddd5d580a71baef",
            "8c489735b31e4a4fb31aa9ddbe557c40",
            "45fe2c9d6ab24c43ad88cfcbf828713e"
          ]
        },
        "id": "xNCapO8hAMxI",
        "outputId": "d37f08ec-fe64-4b7c-8a97-2c6d9af8382f"
      },
      "execution_count": 20,
      "outputs": [
        {
          "output_type": "display_data",
          "data": {
            "text/plain": [
              "Downloading:   0%|          | 0.00/28.0 [00:00<?, ?B/s]"
            ],
            "application/vnd.jupyter.widget-view+json": {
              "version_major": 2,
              "version_minor": 0,
              "model_id": "86c48daa4af24c5a97ceb649b8ba9752"
            }
          },
          "metadata": {}
        },
        {
          "output_type": "display_data",
          "data": {
            "text/plain": [
              "Downloading:   0%|          | 0.00/625 [00:00<?, ?B/s]"
            ],
            "application/vnd.jupyter.widget-view+json": {
              "version_major": 2,
              "version_minor": 0,
              "model_id": "32c82181139146b487c9ad9fef0b7c84"
            }
          },
          "metadata": {}
        },
        {
          "output_type": "display_data",
          "data": {
            "text/plain": [
              "Downloading:   0%|          | 0.00/872k [00:00<?, ?B/s]"
            ],
            "application/vnd.jupyter.widget-view+json": {
              "version_major": 2,
              "version_minor": 0,
              "model_id": "5e2291dfd4794bf397b8063dfcf6acc3"
            }
          },
          "metadata": {}
        },
        {
          "output_type": "display_data",
          "data": {
            "text/plain": [
              "Downloading:   0%|          | 0.00/1.72M [00:00<?, ?B/s]"
            ],
            "application/vnd.jupyter.widget-view+json": {
              "version_major": 2,
              "version_minor": 0,
              "model_id": "dd1c98255cdc49d489fa69d026c181bf"
            }
          },
          "metadata": {}
        },
        {
          "output_type": "execute_result",
          "data": {
            "text/plain": [
              "105879"
            ]
          },
          "metadata": {},
          "execution_count": 20
        }
      ]
    },
    {
      "cell_type": "code",
      "source": [
        "en_text_tenzors = tokenizer(en_texts[:20000],\n",
        "                            return_tensors='pt', max_length=64, padding=True)\n",
        "ru_text_tenzors = tokenizer(ru_texts[:20000],\n",
        "                            return_tensors='pt', max_length=64, padding=True)"
      ],
      "metadata": {
        "id": "yYVne5emCTmS"
      },
      "execution_count": 21,
      "outputs": []
    },
    {
      "cell_type": "code",
      "source": [
        "dataset_train_pt = torch.utils.data.TensorDataset(\n",
        "    en_text_tenzors['input_ids'][:19000], ru_text_tenzors['input_ids'][:19000])\n",
        "dataset_test_pt = torch.utils.data.TensorDataset(\n",
        "    en_text_tenzors['input_ids'][19000:], ru_text_tenzors['input_ids'][19000:])"
      ],
      "metadata": {
        "id": "JK_Y4CTOC2cR"
      },
      "execution_count": 22,
      "outputs": []
    },
    {
      "cell_type": "code",
      "source": [
        "model = seq2seq(tokenizer.vocab_size)\n",
        "model.to(device)"
      ],
      "metadata": {
        "colab": {
          "base_uri": "https://localhost:8080/"
        },
        "id": "HnPAyDCNDrOr",
        "outputId": "071f2d72-ea33-4d10-e819-17e6aead93ac"
      },
      "execution_count": 23,
      "outputs": [
        {
          "output_type": "execute_result",
          "data": {
            "text/plain": [
              "seq2seq(\n",
              "  (encoder): Encoder(\n",
              "    (layers): Sequential()\n",
              "    (embedding): Embedding(105879, 30)\n",
              "    (attention1): MultiheadAttention(\n",
              "      (out_proj): NonDynamicallyQuantizableLinear(in_features=30, out_features=30, bias=True)\n",
              "    )\n",
              "    (linear1): Linear(in_features=30, out_features=30, bias=True)\n",
              "    (relu): ReLU()\n",
              "    (attention2): MultiheadAttention(\n",
              "      (out_proj): NonDynamicallyQuantizableLinear(in_features=30, out_features=30, bias=True)\n",
              "    )\n",
              "    (linear2): Linear(in_features=30, out_features=30, bias=True)\n",
              "  )\n",
              "  (decoder): Decoder(\n",
              "    (embedding): Embedding(105879, 30)\n",
              "    (attention): MultiheadAttention(\n",
              "      (out_proj): NonDynamicallyQuantizableLinear(in_features=30, out_features=30, bias=True)\n",
              "    )\n",
              "    (linear1): Linear(in_features=30, out_features=30, bias=True)\n",
              "    (relu): ReLU()\n",
              "    (attention2): MultiheadAttention(\n",
              "      (out_proj): NonDynamicallyQuantizableLinear(in_features=30, out_features=30, bias=True)\n",
              "    )\n",
              "    (linear2): Linear(in_features=30, out_features=30, bias=True)\n",
              "    (linear): Linear(in_features=30, out_features=105879, bias=True)\n",
              "  )\n",
              ")"
            ]
          },
          "metadata": {},
          "execution_count": 23
        }
      ]
    },
    {
      "cell_type": "code",
      "source": [
        "# https://pytorch.org/docs/stable/generated/torch.nn.CrossEntropyLoss.html\n",
        "loss_function = torch.nn.CrossEntropyLoss(ignore_index=0)\n",
        "optimizer = torch.optim.Adam"
      ],
      "metadata": {
        "id": "I0PIxxurEP57"
      },
      "execution_count": 24,
      "outputs": []
    },
    {
      "cell_type": "code",
      "source": [
        "trainer(count_of_epoch=15, \n",
        "        batch_size=64, \n",
        "        dataset=dataset_train_pt,\n",
        "        model=model, \n",
        "        loss_function=loss_function,\n",
        "        optimizer = optimizer,\n",
        "        lr=0.001,\n",
        "        callback=None)"
      ],
      "metadata": {
        "id": "pC9HpOOUETXC"
      },
      "execution_count": null,
      "outputs": []
    },
    {
      "cell_type": "code",
      "source": [
        "tokens_en = tokenizer(['in 1924, most of the site was converted to a museum.'], return_tensors='pt')\n",
        "tokens_ru = tokenizer(['в 1924 году крепость стала музеем'],return_tensors='pt')\n",
        "with torch.no_grad():\n",
        "    answer = torch.argmax(\n",
        "        model(tokens_en['input_ids'].to(model.device),\n",
        "              tokens_ru['input_ids'].to(model.device), max_seq_len=10),axis=-1)\n",
        "tokenizer.decode(answer[0])"
      ],
      "metadata": {
        "id": "bs6P7STFKomF"
      },
      "execution_count": null,
      "outputs": []
    },
    {
      "cell_type": "code",
      "source": [
        "with torch.no_grad():\n",
        "    encoder_outputs, _=model.encoder(\n",
        "        tokens_en['input_ids'].to(model.device))\n",
        "    decoder_embedding = model.decoder.embedding(\n",
        "        tokens_ru['input_ids'].to(model.device))\n",
        "    \n",
        "    act, act_weight = model.decoder.attention(\n",
        "        decoder_embedding.transpose(0,1),\n",
        "        encoder_outputs.transpose(0,1),\n",
        "        encoder_outputs.transpose(0,1))"
      ],
      "metadata": {
        "id": "ydxzuKDhM6fw"
      },
      "execution_count": null,
      "outputs": []
    },
    {
      "cell_type": "code",
      "source": [
        "attention_frame = pd.DataFrame(\n",
        "    act_weight[0].cpu().numpy(),\n",
        "    index=tokenizer.convert_ids_to_tokens(\n",
        "        tokens_ru['input_ids'][0].cpu().numpy()),\n",
        "    columns=tokenizer.convert_ids_to_tokens(\n",
        "        tokens_en['input_ids'][0].cpu().numpy()))"
      ],
      "metadata": {
        "id": "C4ob8k2gOHpJ"
      },
      "execution_count": null,
      "outputs": []
    },
    {
      "cell_type": "code",
      "source": [
        "sns.heatmap(data=attention_frame)\n",
        "\n",
        "plt.show()"
      ],
      "metadata": {
        "id": "IQ8m15wVQCCE"
      },
      "execution_count": null,
      "outputs": []
    },
    {
      "cell_type": "markdown",
      "source": [
        "# ТРАНСФОРМЕР"
      ],
      "metadata": {
        "id": "oTTnrp9FQFJb"
      }
    },
    {
      "cell_type": "markdown",
      "source": [
        "**seq2seq** -  RNN для снтеза последовательностей"
      ],
      "metadata": {
        "id": "9KsUZ1pARC00"
      }
    },
    {
      "cell_type": "code",
      "source": [
        "class Encoder(torch.nn.Module):\n",
        "    @property\n",
        "    def device(self):\n",
        "        return next(self.parameters()).device\n",
        "\n",
        "    def __init__(self, vocab_size, emb_dim=30, hidden_dim=30):\n",
        "        super(Encoder, self).__init__()\n",
        "        self.layers = torch.nn.Sequential()\n",
        "        self.embedding = torch.nn.Embedding(vocab_size, emb_dim)\n",
        "        self.attention1 = torch.nn.MultiheadAttention(emb_dim, 1)\n",
        "        self.linear1 = torch.nn.Linear(emb_dim, hidden_dim)\n",
        "        self.relu = torch.nn.ReLU()\n",
        "        self.attention2 = torch.nn.MultiheadAttention(hidden_dim,1)\n",
        "        self.linear2 = torch.nn.Linear(hidden_dim, hidden_dim)\n",
        "\n",
        "    def forward(self, input):\n",
        "        r'''\n",
        "        :param input: тензор размера batch_size x seq_len --- список токенов\n",
        "        '''\n",
        "        input = input.transpose(0,1)\n",
        "        act = self.embedding(input)\n",
        "        act, _ = self.attention1(act, act, act)\n",
        "        act = self.relu(act)\n",
        "        act = self.linear1(act)\n",
        "        act = self.relu(act)\n",
        "        act, _= self.attention2(act, act, act)\n",
        "        act = self.relu(act)\n",
        "        act = self.linear2(act)\n",
        "        return act.transpose(0, 1)"
      ],
      "metadata": {
        "id": "1MNlhNpxQpKr"
      },
      "execution_count": 29,
      "outputs": []
    },
    {
      "cell_type": "code",
      "source": [
        "class Decoder(torch.nn.Module):\n",
        "    @property\n",
        "    def device(self):\n",
        "        return next(self.parameters()).device\n",
        "\n",
        "    def __init__(self, vocab_size, emb_dim=30, hidden_dim=30):\n",
        "        super(Decoder, self).__init__()\n",
        "        self.embedding = torch.nn.Embedding(vocab_size, emb_dim)\n",
        "        self.attention = torch.nn.MultiheadAttention(emb_dim, 1)\n",
        "        self.linear1 = torch.nn.Linear(emb_dim, hidden_dim)\n",
        "        self.relu = torch.nn.ReLU()\n",
        "\n",
        "        self.attention2 = torch.nn.MultiheadAttention(hidden_dim, 1)\n",
        "        self.linear2 = torch.nn.Linear(hidden_dim, hidden_dim)\n",
        "\n",
        "        self.linear = torch.nn.Linear(hidden_dim, vocab_size)\n",
        "\n",
        "    def forward(self, input, encoder_outputs):\n",
        "        r'''\n",
        "        :param input: тезор размера batch_size x seq_len\n",
        "        '''\n",
        "        input = input.transpose(0, 1)\n",
        "        act = self.embedding(input)\n",
        "\n",
        "        act, _ = self.attention(act, \n",
        "                                encoder_outputs.transpose(0, 1), \n",
        "                                encoder_outputs.transpose(0, 1))\n",
        "        \n",
        "        act = self.relu(act)\n",
        "        act = self.linear1(act)\n",
        "        act = self.relu(act)\n",
        "        act, _ = self.attention2(act, \n",
        "                                 encoder_outputs.transpose(0, 1), \n",
        "                                 encoder_outputs.transpose(0, 1))\n",
        "        act = self.relu(act)\n",
        "        act = self.linear2(act)\n",
        "\n",
        "        return self.linear(act).transpose(0, 1)\n"
      ],
      "metadata": {
        "id": "9b5XOpOkQpsG"
      },
      "execution_count": 30,
      "outputs": []
    },
    {
      "cell_type": "code",
      "source": [
        "class seq2seq(torch.nn.Module):\n",
        "    @property\n",
        "    def device(self):\n",
        "        return next(self.parameters()).device\n",
        "    def __init__(self, vocab_size, emb_dim=30, hidden_dim=30):\n",
        "        super(seq2seq, self).__init__()\n",
        "        self.vocab_size = vocab_size\n",
        "        self.encoder = Encoder(vocab_size, emb_dim, hidden_dim)\n",
        "        self.decoder = Decoder(vocab_size, emb_dim, hidden_dim)\n",
        "\n",
        "    def forward(self, input, decoder_input=None, max_seq_len=64):\n",
        "        r'''\n",
        "        '''\n",
        "        encoder_output = self.encoder(input)\n",
        "        if decoder_input is None:\n",
        "            translated_scores = torch.zeros(len(input),\n",
        "                                            max_seq_len,\n",
        "                                            self.vocab_size).to(self.device)\n",
        "            translated_scores[:,0,input[:,0]] = 1\n",
        "            for i in range(1, max_seq_len):\n",
        "                translated_scores[:, i:i+1] = self.decoder(\n",
        "                    torch.argmax(translated_scores, axis=-1),\n",
        "                    encoder_output)[:, i:i+1]\n",
        "        else:\n",
        "            translated_scores = self.decoder(\n",
        "                decoder_input, encoder_output)\n",
        "        return translated_scores"
      ],
      "metadata": {
        "id": "gK157lszQpyE"
      },
      "execution_count": 31,
      "outputs": []
    },
    {
      "cell_type": "code",
      "source": [
        "model = seq2seq(tokenizer.vocab_size)\n",
        "model.to(device)"
      ],
      "metadata": {
        "colab": {
          "base_uri": "https://localhost:8080/"
        },
        "id": "LSCtZP3qnDMm",
        "outputId": "5c365544-9bd8-4bdc-e5b2-7a53ce65ed3c"
      },
      "execution_count": 32,
      "outputs": [
        {
          "output_type": "execute_result",
          "data": {
            "text/plain": [
              "seq2seq(\n",
              "  (encoder): Encoder(\n",
              "    (layers): Sequential()\n",
              "    (embedding): Embedding(105879, 30)\n",
              "    (attention1): MultiheadAttention(\n",
              "      (out_proj): NonDynamicallyQuantizableLinear(in_features=30, out_features=30, bias=True)\n",
              "    )\n",
              "    (linear1): Linear(in_features=30, out_features=30, bias=True)\n",
              "    (relu): ReLU()\n",
              "    (attention2): MultiheadAttention(\n",
              "      (out_proj): NonDynamicallyQuantizableLinear(in_features=30, out_features=30, bias=True)\n",
              "    )\n",
              "    (linear2): Linear(in_features=30, out_features=30, bias=True)\n",
              "  )\n",
              "  (decoder): Decoder(\n",
              "    (embedding): Embedding(105879, 30)\n",
              "    (attention): MultiheadAttention(\n",
              "      (out_proj): NonDynamicallyQuantizableLinear(in_features=30, out_features=30, bias=True)\n",
              "    )\n",
              "    (linear1): Linear(in_features=30, out_features=30, bias=True)\n",
              "    (relu): ReLU()\n",
              "    (attention2): MultiheadAttention(\n",
              "      (out_proj): NonDynamicallyQuantizableLinear(in_features=30, out_features=30, bias=True)\n",
              "    )\n",
              "    (linear2): Linear(in_features=30, out_features=30, bias=True)\n",
              "    (linear): Linear(in_features=30, out_features=105879, bias=True)\n",
              "  )\n",
              ")"
            ]
          },
          "metadata": {},
          "execution_count": 32
        }
      ]
    },
    {
      "cell_type": "code",
      "source": [
        "tokens_en = tokenizer(['in 1924, most of the site was converted to a museum.'],return_tensors='pt')\n",
        "tokens_ru = tokenizer(['в 1924 году крепость стала музеем.'],return_tensors='pt')\n",
        "with torch.no_grad():\n",
        "    answer = torch.argmax(\n",
        "        model(tokens_en['input_ids'].to(model.device),\n",
        "              tokens_ru['input_ids'].to(model.device)),\n",
        "              axis=-1\n",
        "    )\n",
        "tokenizer.decode(answer[0])"
      ],
      "metadata": {
        "colab": {
          "base_uri": "https://localhost:8080/",
          "height": 35
        },
        "id": "qQ8EyzKEoSTF",
        "outputId": "50cfdca2-c6da-4bb6-849b-74789f7bdd4a"
      },
      "execution_count": 33,
      "outputs": [
        {
          "output_type": "execute_result",
          "data": {
            "text/plain": [
              "'##ghedghedghedghedghedghedghedghedghedghed'"
            ],
            "application/vnd.google.colaboratory.intrinsic+json": {
              "type": "string"
            }
          },
          "metadata": {},
          "execution_count": 33
        }
      ]
    },
    {
      "cell_type": "code",
      "source": [
        "loss_function = torch.nn.CrossEntropyLoss(ignore_index=0)\n",
        "optimizer = torch.optim.Adam"
      ],
      "metadata": {
        "id": "73ZJuwQEqFys"
      },
      "execution_count": 34,
      "outputs": []
    },
    {
      "cell_type": "code",
      "source": [
        "trainer(count_of_epoch=5,\n",
        "        batch_size=64,\n",
        "        dataset=dataset_train_pt,\n",
        "        model=model,\n",
        "        loss_function=loss_function,\n",
        "        optimizer=optimizer,\n",
        "        lr=0.001,\n",
        "        callback=None)"
      ],
      "metadata": {
        "colab": {
          "base_uri": "https://localhost:8080/",
          "height": 81,
          "referenced_widgets": [
            "dc83c176910a484096d785a78e7ad5b8",
            "d1fd6b77975c40bfbb36296b76909070",
            "d1b466b361ba4fbe8611a065cf302df3",
            "056a4b3e674743dcb7a4b9e2637b4101",
            "1070e8a2afa242c79ca64d8e83f8267b",
            "d8bd09256c714fd0a332836cbba5db37",
            "2cedb9c24875409b86a108553eb41835",
            "ceb40a90221c449abb70c1e72c326699",
            "cadde7563d664b8d9109e15ee81b5366",
            "c0dbb4bb1fe948f0b5492b7bb9582dee",
            "a9c72c93700e4734a8dafb4f88404018",
            "c2d00378fbfe475c928ff5c38352c70f",
            "a7b0a9f310884c1cbb752404283952cc",
            "c6c00059b55746f6be4e000957028cee",
            "31a720d439ae4334bd349d0948a7d37b",
            "f248f0f79b3542a98d8b511feab3fb69",
            "79b8c5c9de0749e8a2eee0bda8febf56",
            "5907672243b6427db7212c71f675c9f6",
            "a4ecd0228854414f98adafac0abaeb62",
            "ba446b42a1094a01a8dc6b7905266f78",
            "3177bf1c025a4f5d8c35e2540726dd6f",
            "b2dfd938cedb48ac81dc7f77380c80cc"
          ]
        },
        "id": "Y4h2FXqsrqXg",
        "outputId": "3fc8053e-8da0-447c-daad-fe3fba21221c"
      },
      "execution_count": null,
      "outputs": [
        {
          "output_type": "display_data",
          "data": {
            "text/plain": [
              "epoch:   0%|          | 0/5 [00:00<?, ?it/s]"
            ],
            "application/vnd.jupyter.widget-view+json": {
              "version_major": 2,
              "version_minor": 0,
              "model_id": "dc83c176910a484096d785a78e7ad5b8"
            }
          },
          "metadata": {}
        },
        {
          "output_type": "display_data",
          "data": {
            "text/plain": [
              "  0%|          | 0/297 [00:00<?, ?it/s]"
            ],
            "application/vnd.jupyter.widget-view+json": {
              "version_major": 2,
              "version_minor": 0,
              "model_id": "c2d00378fbfe475c928ff5c38352c70f"
            }
          },
          "metadata": {}
        }
      ]
    },
    {
      "cell_type": "code",
      "source": [
        "tokens_en = tokenizer(['in 1924, most of the site was converted to a museum.'], return_tensors='pt')\n",
        "tokens_ru = tokenizer(['в 1924 году крепость стала музеем.'], return_tensors='pt')\n",
        "with torch.no_grad():\n",
        "    answer = torch.argmax(\n",
        "        model(tokens_en['input_ids'].to(model.device), \n",
        "              tokens_ru['input_ids'].to(model.device)), \n",
        "        axis=-1)\n",
        "tokenizer.decode(answer[0])"
      ],
      "metadata": {
        "id": "zBGfCfH5sSqw"
      },
      "execution_count": null,
      "outputs": []
    },
    {
      "cell_type": "markdown",
      "source": [
        "# **Tensor2Tensor**"
      ],
      "metadata": {
        "id": "hIJCEyMtsXoM"
      }
    },
    {
      "cell_type": "code",
      "source": [
        "from transformers import MarianMTModel\n",
        "tokenizer = MarianTokenizer.from_pretrained('Helsinki-NLP/opus-mt-ru-en')\n",
        "model = MarianMTModel.from_pretrained('Helsinki-NLP/opus-mt-ru-en')\n",
        "model.to(device)"
      ],
      "metadata": {
        "id": "T2P0DrpqtDtx"
      },
      "execution_count": null,
      "outputs": []
    },
    {
      "cell_type": "code",
      "source": [
        "batch_x = tokenizer.prepare_seq2seq_batch(src_texts=['Привет мир, меня зовут Трансформер'],return_tensors='pt')"
      ],
      "metadata": {
        "id": "coDLa4fVudp2"
      },
      "execution_count": null,
      "outputs": []
    },
    {
      "cell_type": "code",
      "source": [
        "tokenizer.batch_decode(model.generate(**batch_x.to(device)))"
      ],
      "metadata": {
        "id": "QkLurviFvIM_"
      },
      "execution_count": null,
      "outputs": []
    },
    {
      "cell_type": "markdown",
      "source": [
        "# Токенизация Byte Pair Encoding **BPE**"
      ],
      "metadata": {
        "id": "rHoIQHP8v14g"
      }
    },
    {
      "cell_type": "code",
      "source": [
        "tokenizer = AutoTokenizer.from_pretrained('sentence-transformers/LaBSE', verbose=False)\n",
        "tokenizer.vocab_size"
      ],
      "metadata": {
        "id": "a_1tAofMwk1v"
      },
      "execution_count": null,
      "outputs": []
    },
    {
      "cell_type": "code",
      "source": [
        "tokenizer.tokenize('Hello Mathematic, my Name is Alexey, how are you&')"
      ],
      "metadata": {
        "id": "frx2xZSvxOUf"
      },
      "execution_count": null,
      "outputs": []
    },
    {
      "cell_type": "markdown",
      "source": [
        "# Bidirectional Encoder Representations from Transfomers - BERT"
      ],
      "metadata": {
        "id": "3zudr7X0xuQ4"
      }
    },
    {
      "cell_type": "code",
      "source": [
        "tokenizer = AutoTokenizer.from_pretrained('bert-base-multilingual-cased', verbose=False)\n",
        "model = AutoModel.from_pretrained('bert-base-multilingual-cased')\n",
        "model.to(device)"
      ],
      "metadata": {
        "id": "vWgjiTAkxkvq"
      },
      "execution_count": null,
      "outputs": []
    },
    {
      "cell_type": "code",
      "source": [
        "tokens = tokenizer(['Hello World','Alexey Litovchenko'], return_tensors='pt', padding=True)\n",
        "with torch.no_grad():\n",
        "    output =  model(**tokens.to(device))"
      ],
      "metadata": {
        "id": "rNaegSwSzGnF"
      },
      "execution_count": null,
      "outputs": []
    },
    {
      "cell_type": "code",
      "source": [
        "tokens['input_ids']"
      ],
      "metadata": {
        "id": "pT_SaDYw1WJY"
      },
      "execution_count": null,
      "outputs": []
    },
    {
      "cell_type": "code",
      "source": [
        "output[0].shape, output[1].shape"
      ],
      "metadata": {
        "id": "S7LlGOtG1bRm"
      },
      "execution_count": null,
      "outputs": []
    },
    {
      "cell_type": "code",
      "source": [
        "tokens"
      ],
      "metadata": {
        "id": "9ZoTvEx81myH"
      },
      "execution_count": null,
      "outputs": []
    },
    {
      "cell_type": "markdown",
      "source": [
        "#Language-agnostic BERT Sentence Embedding **BERT**"
      ],
      "metadata": {
        "id": "-6NR8_MK1owj"
      }
    },
    {
      "cell_type": "code",
      "source": [
        "tokenizer = AutoTokenizer.from_pretrained('sentence-transformers/LaBSE', \n",
        "                                          verbose=False)\n",
        "model = AutoModel.from_pretrained('sentence-transformers/LaBSE')\n",
        "model.to(device)\n"
      ],
      "metadata": {
        "id": "dqkdiwQS1nqC"
      },
      "execution_count": null,
      "outputs": []
    },
    {
      "cell_type": "code",
      "source": [
        "tokens = tokenizer(['Moscow Institute of Physics and Technology', \n",
        "                    'Московский Физико-Технический Институт', \n",
        "                    'Московский Государственный Университет', \n",
        "                    'Moscow State University'], \n",
        "                   return_tensors='pt', padding=True)\n",
        "\n",
        "with torch.no_grad():\n",
        "    output = model(**tokens.to(device))\n",
        "\n",
        "sentence_embeding = output[1].cpu().numpy()"
      ],
      "metadata": {
        "id": "kgyyBE2X3OaH"
      },
      "execution_count": null,
      "outputs": []
    },
    {
      "cell_type": "code",
      "source": [
        "sentence_embeding.shape"
      ],
      "metadata": {
        "id": "ut8CRbCB3VIf"
      },
      "execution_count": null,
      "outputs": []
    },
    {
      "cell_type": "code",
      "source": [
        "frame = pd.DataFrame(np.round(\n",
        "    scipy.spatial.distance.cdist(sentence_embeding, sentence_embeding, \n",
        "                                 metric='cosine'), 2))"
      ],
      "metadata": {
        "id": "r-JmdWQQ3XIl"
      },
      "execution_count": null,
      "outputs": []
    },
    {
      "cell_type": "code",
      "source": [
        "sns.heatmap(data=frame)\n",
        "\n",
        "plt.show()"
      ],
      "metadata": {
        "id": "I2F0mrl53Yz-"
      },
      "execution_count": null,
      "outputs": []
    }
  ]
}