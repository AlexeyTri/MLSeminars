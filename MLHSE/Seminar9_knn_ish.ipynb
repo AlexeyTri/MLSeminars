{
  "nbformat": 4,
  "nbformat_minor": 0,
  "metadata": {
    "colab": {
      "provenance": [],
      "authorship_tag": "ABX9TyOGKbfhY0hU1p9bXFmm57Jo",
      "include_colab_link": true
    },
    "kernelspec": {
      "name": "python3",
      "display_name": "Python 3"
    },
    "language_info": {
      "name": "python"
    }
  },
  "cells": [
    {
      "cell_type": "markdown",
      "metadata": {
        "id": "view-in-github",
        "colab_type": "text"
      },
      "source": [
        "<a href=\"https://colab.research.google.com/github/AlexeyTri/MLSeminars/blob/main/MLHSE/Seminar9_knn_ish.ipynb\" target=\"_parent\"><img src=\"https://colab.research.google.com/assets/colab-badge.svg\" alt=\"Open In Colab\"/></a>"
      ]
    },
    {
      "cell_type": "code",
      "execution_count": 3,
      "metadata": {
        "colab": {
          "base_uri": "https://localhost:8080/"
        },
        "id": "YiuzevvmjM9G",
        "outputId": "262a459f-22ad-479a-ffeb-7a12d6b39fa1"
      },
      "outputs": [
        {
          "output_type": "stream",
          "name": "stderr",
          "text": [
            "/usr/local/lib/python3.8/dist-packages/IPython/core/interactiveshell.py:3326: FutureWarning: The error_bad_lines argument has been deprecated and will be removed in a future version.\n",
            "\n",
            "\n",
            "  exec(code_obj, self.user_global_ns, self.user_ns)\n",
            "b'Skipping line 284: expected 4 fields, saw 5\\nSkipping line 2398: expected 4 fields, saw 5\\nSkipping line 2438: expected 4 fields, saw 6\\nSkipping line 3104: expected 4 fields, saw 6\\nSkipping line 3618: expected 4 fields, saw 5\\nSkipping line 3742: expected 4 fields, saw 7\\nSkipping line 4694: expected 4 fields, saw 9\\nSkipping line 5272: expected 4 fields, saw 5\\nSkipping line 6194: expected 4 fields, saw 5\\nSkipping line 7017: expected 4 fields, saw 6\\nSkipping line 7786: expected 4 fields, saw 5\\nSkipping line 8407: expected 4 fields, saw 5\\nSkipping line 8529: expected 4 fields, saw 5\\nSkipping line 8820: expected 4 fields, saw 5\\nSkipping line 9157: expected 4 fields, saw 7\\nSkipping line 9952: expected 4 fields, saw 5\\nSkipping line 10203: expected 4 fields, saw 5\\nSkipping line 10415: expected 4 fields, saw 6\\nSkipping line 11784: expected 4 fields, saw 5\\nSkipping line 11835: expected 4 fields, saw 5\\nSkipping line 12371: expected 4 fields, saw 5\\nSkipping line 16156: expected 4 fields, saw 6\\nSkipping line 17208: expected 4 fields, saw 5\\nSkipping line 17354: expected 4 fields, saw 5\\nSkipping line 17862: expected 4 fields, saw 6\\nSkipping line 18157: expected 4 fields, saw 5\\nSkipping line 18251: expected 4 fields, saw 7\\nSkipping line 20236: expected 4 fields, saw 5\\nSkipping line 20429: expected 4 fields, saw 5\\nSkipping line 23566: expected 4 fields, saw 5\\nSkipping line 24369: expected 4 fields, saw 5\\nSkipping line 25380: expected 4 fields, saw 5\\nSkipping line 26916: expected 4 fields, saw 5\\nSkipping line 27263: expected 4 fields, saw 6\\nSkipping line 27358: expected 4 fields, saw 5\\n'\n"
          ]
        }
      ],
      "source": [
        "import pandas as pd\n",
        "\n",
        "df = pd.read_csv(\"https://raw.githubusercontent.com/Murcha1990/MLDS_ML_2022/main/%D0%97%D0%B0%D0%BD%D1%8F%D1%82%D0%B8%D0%B5%209_knn_lsh/Tweets.csv\", delimiter=',', error_bad_lines=False)"
      ]
    },
    {
      "cell_type": "code",
      "source": [
        "df = df[['text']].dropna()"
      ],
      "metadata": {
        "id": "MLB8ZX5skrc9"
      },
      "execution_count": 7,
      "outputs": []
    },
    {
      "cell_type": "code",
      "source": [
        "import numpy as np"
      ],
      "metadata": {
        "id": "wnpgS5oRxDEk"
      },
      "execution_count": 9,
      "outputs": []
    },
    {
      "cell_type": "code",
      "source": [
        "df.reset_index(drop=True, inplace=True)\n",
        "df['id'] = np.arange(len(df))"
      ],
      "metadata": {
        "id": "7cD8gwwVwWNw"
      },
      "execution_count": 10,
      "outputs": []
    },
    {
      "cell_type": "code",
      "source": [
        "from sklearn.feature_extraction.text import TfidfVectorizer\n",
        "\n",
        "tfidf = TfidfVectorizer(\n",
        "    analyzer='char',\n",
        "    ngram_range=(1,3),\n",
        "    min_df=0,\n",
        "    stop_words='english'\n",
        ")\n",
        "\n",
        "X_tfidf = tfidf.fit_transform(df['text'])\n",
        "X_tfidf"
      ],
      "metadata": {
        "colab": {
          "base_uri": "https://localhost:8080/"
        },
        "id": "5_WbM08qyNRG",
        "outputId": "935e9b6c-d421-4d49-d017-48afcf9cdfce"
      },
      "execution_count": 11,
      "outputs": [
        {
          "output_type": "execute_result",
          "data": {
            "text/plain": [
              "<21027x24002 sparse matrix of type '<class 'numpy.float64'>'\n",
              "\twith 2580648 stored elements in Compressed Sparse Row format>"
            ]
          },
          "metadata": {},
          "execution_count": 11
        }
      ]
    },
    {
      "cell_type": "code",
      "source": [
        "# get_similiraty_items return top 5 NN\n",
        "def get_similiraty_items(X_tfidf, item_id, topn=5):\n",
        "\n",
        "    query = X_tfidf[item_id]\n",
        "    scores = X_tfidf.dot(query.T).toarray().ravel()\n",
        "    best = np.argpartition(scores, -topn)[-topn:] # return index!\n",
        "    return sorted(zip(best, scores[best]), key=lambda x: -x[1])"
      ],
      "metadata": {
        "id": "Kzh1lOZH1wPu"
      },
      "execution_count": 18,
      "outputs": []
    },
    {
      "cell_type": "code",
      "source": [
        "similar_items = get_similiraty_items(X_tfidf, item_id=15)"
      ],
      "metadata": {
        "id": "9n9VN7SO4idu"
      },
      "execution_count": 19,
      "outputs": []
    },
    {
      "cell_type": "code",
      "source": [
        "for similar_item, similariti in similar_items:\n",
        "    print(similar_item, similariti)\n",
        "    item_description = df.loc[similar_item]['text']\n",
        "    print('similar item id:', similar_item)\n",
        "    print('similarity:', similariti)\n",
        "    print('item description:', item_description)\n",
        "    print()"
      ],
      "metadata": {
        "colab": {
          "base_uri": "https://localhost:8080/"
        },
        "id": "AChRHKT5429G",
        "outputId": "c6d036d8-43b4-4d1f-d390-8be9adfd9c5d"
      },
      "execution_count": 22,
      "outputs": [
        {
          "output_type": "stream",
          "name": "stdout",
          "text": [
            "15 1.0000000000000002\n",
            "similar item id: 15\n",
            "similarity: 1.0000000000000002\n",
            "item description: is cleaning the house for her family who is comming later today..\n",
            "\n",
            "10072 0.5336534905823506\n",
            "similar item id: 10072\n",
            "similarity: 0.5336534905823506\n",
            "item description: Cleaning the house\n",
            "\n",
            "4495 0.48954643197016023\n",
            "similar item id: 4495\n",
            "similarity: 0.48954643197016023\n",
            "item description:  hot weather for the lose. And I have to clean too!  Cleaning in the heat sucks balls.\n",
            "\n",
            "678 0.45118380147029297\n",
            "similar item id: 678\n",
            "similarity: 0.45118380147029297\n",
            "item description: Searching my home for a few things to cook them for dinner this evening. It`s mothers day so guess who im eating with\n",
            "\n",
            "3382 0.4492543819216047\n",
            "similar item id: 3382\n",
            "similarity: 0.4492543819216047\n",
            "item description: cleaning cleaning cleaning today then working out!  i love not working!\n",
            "\n"
          ]
        }
      ]
    },
    {
      "cell_type": "code",
      "source": [
        "def generate_random_vectofizer(dim, n_vectors):\n",
        "    return np.random.randn(dim, n_vectors)"
      ],
      "metadata": {
        "id": "tq2mFa-S6_On"
      },
      "execution_count": 23,
      "outputs": []
    },
    {
      "cell_type": "code",
      "source": [
        "vocab_size = len(tfidf.get_feature_names())\n",
        "print('vocabulary size:', vocab_size)\n",
        "\n",
        "np.random.seed(0)\n",
        "n_vectors = 16\n",
        "random_vectors = generate_random_vectofizer(vocab_size, n_vectors)\n",
        "print('dimension:', random_vectors.shape)\n",
        "\n",
        "random_vectors"
      ],
      "metadata": {
        "colab": {
          "base_uri": "https://localhost:8080/"
        },
        "id": "6mITXjUx8mvO",
        "outputId": "f6817294-e17e-46af-cc48-f9620b339f62"
      },
      "execution_count": 29,
      "outputs": [
        {
          "output_type": "stream",
          "name": "stdout",
          "text": [
            "vocabulary size: 24002\n",
            "dimension: (24002, 16)\n"
          ]
        },
        {
          "output_type": "stream",
          "name": "stderr",
          "text": [
            "/usr/local/lib/python3.8/dist-packages/sklearn/utils/deprecation.py:87: FutureWarning: Function get_feature_names is deprecated; get_feature_names is deprecated in 1.0 and will be removed in 1.2. Please use get_feature_names_out instead.\n",
            "  warnings.warn(msg, category=FutureWarning)\n"
          ]
        },
        {
          "output_type": "execute_result",
          "data": {
            "text/plain": [
              "array([[ 1.76405235,  0.40015721,  0.97873798, ...,  0.12167502,\n",
              "         0.44386323,  0.33367433],\n",
              "       [ 1.49407907, -0.20515826,  0.3130677 , ...,  1.46935877,\n",
              "         0.15494743,  0.37816252],\n",
              "       [-0.88778575, -1.98079647, -0.34791215, ..., -0.4380743 ,\n",
              "        -1.25279536,  0.77749036],\n",
              "       ...,\n",
              "       [-1.31821475,  0.36817968,  0.53415198, ...,  1.60818267,\n",
              "         0.57866133, -1.7089848 ],\n",
              "       [-0.83863877,  0.61162805,  0.83759737, ...,  0.8996262 ,\n",
              "         0.04076996, -2.66958722],\n",
              "       [-0.28932216,  0.7880676 , -0.01545824, ..., -1.54590442,\n",
              "         0.54839386,  0.87119482]])"
            ]
          },
          "metadata": {},
          "execution_count": 29
        }
      ]
    },
    {
      "cell_type": "code",
      "source": [
        "data_point = X_tfidf[0]\n",
        "\n",
        "bin_indices_bits = data_point.dot(random_vectors) >= 0\n",
        "\n",
        "print('dimension:', bin_indices_bits.shape)\n",
        "bin_indices_bits"
      ],
      "metadata": {
        "colab": {
          "base_uri": "https://localhost:8080/"
        },
        "id": "6hTU--x1_bw7",
        "outputId": "36041747-1a69-4af9-f9eb-11c119cf35f2"
      },
      "execution_count": 31,
      "outputs": [
        {
          "output_type": "stream",
          "name": "stdout",
          "text": [
            "dimension: (1, 16)\n"
          ]
        },
        {
          "output_type": "execute_result",
          "data": {
            "text/plain": [
              "array([[ True,  True, False,  True, False, False,  True,  True, False,\n",
              "        False, False, False,  True,  True,  True, False]])"
            ]
          },
          "metadata": {},
          "execution_count": 31
        }
      ]
    },
    {
      "cell_type": "code",
      "source": [
        "powers_two = 1 << np.arange(n_vectors-1, -1, step=-1)\n",
        "print(powers_two)\n",
        "\n",
        "bin_indices = bin_indices_bits.dot(powers_two)\n",
        "print(bin_indices)"
      ],
      "metadata": {
        "colab": {
          "base_uri": "https://localhost:8080/"
        },
        "id": "mFRG-QU4ABnv",
        "outputId": "13726505-75cd-4f77-f44a-153c21b7fc6b"
      },
      "execution_count": 34,
      "outputs": [
        {
          "output_type": "stream",
          "name": "stdout",
          "text": [
            "[32768 16384  8192  4096  2048  1024   512   256   128    64    32    16\n",
            "     8     4     2     1]\n",
            "[54030]\n"
          ]
        }
      ]
    },
    {
      "cell_type": "code",
      "source": [
        "bin_indices_bits = X_tfidf.dot(random_vectors) >= 0\n",
        "print(bin_indices_bits.shape)\n",
        "\n",
        "bin_indices = bin_indices_bits.dot(powers_two)\n",
        "bin_indices.shape"
      ],
      "metadata": {
        "colab": {
          "base_uri": "https://localhost:8080/"
        },
        "id": "u_6dYXkPDatX",
        "outputId": "46342752-b4cc-49d5-af46-19ff4b4c4760"
      },
      "execution_count": 38,
      "outputs": [
        {
          "output_type": "stream",
          "name": "stdout",
          "text": [
            "(21027, 16)\n"
          ]
        },
        {
          "output_type": "execute_result",
          "data": {
            "text/plain": [
              "(21027,)"
            ]
          },
          "metadata": {},
          "execution_count": 38
        }
      ]
    },
    {
      "cell_type": "code",
      "source": [
        "from collections import defaultdict"
      ],
      "metadata": {
        "id": "JnsOJM_eEbdR"
      },
      "execution_count": 39,
      "outputs": []
    },
    {
      "cell_type": "code",
      "source": [
        "def train_lsh(X_tfidf, n_vectors, seed=None):\n",
        "    if seed is not None:\n",
        "        np.random.seed(seed)\n",
        "\n",
        "    dim = X_tfidf.shape[1]\n",
        "    random_vectors = generate_random_vectofizer(dim, n_vectors)\n",
        "\n",
        "    bin_indices_bits = X_tfidf.dot(random_vectors) >= 0\n",
        "    power_of_two = 1 << np.arange(n_vectors-1, -1, step=-1)\n",
        "    bin_indices = bin_indices_bits.dot(power_of_two)\n",
        "\n",
        "    table = defaultdict(list)\n",
        "    for idx, bin_index in enumerate(bin_indices):\n",
        "        table[bin_index].append(idx)\n",
        "\n",
        "    model={\n",
        "        'table': table,\n",
        "        'random_vectors': random_vectors,\n",
        "        'bin_indices': bin_indices,\n",
        "        'bin_indices_bits': bin_indices_bits\n",
        "    }\n",
        "    return model\n",
        "\n",
        "n_vectors = 16\n",
        "model = train_lsh(X_tfidf, n_vectors, seed=143)    "
      ],
      "metadata": {
        "id": "jJt7xV07FEhr"
      },
      "execution_count": 63,
      "outputs": []
    },
    {
      "cell_type": "code",
      "source": [
        "similar_items_ids = [similar_item for similar_item, _ in similar_items]\n",
        "bits1 = model['bin_indices_bits'][similar_items_ids[0]]\n",
        "bits2 = model['bin_indices_bits'][similar_items_ids[1]]\n",
        "\n",
        "print('bits 1:', bits1)\n",
        "print('bits 2:', bits2)\n",
        "print('Number of agreed bins:', np.sum(bits1 == bits2))"
      ],
      "metadata": {
        "colab": {
          "base_uri": "https://localhost:8080/"
        },
        "id": "qJYylhInI8Kx",
        "outputId": "59b2eb5e-8916-43b8-8004-074f87953446"
      },
      "execution_count": 64,
      "outputs": [
        {
          "output_type": "stream",
          "name": "stdout",
          "text": [
            "bits 1: [False False  True False  True  True False False False  True  True False\n",
            " False False False False]\n",
            "bits 2: [False False  True False  True  True  True False False  True False False\n",
            " False  True False False]\n",
            "Number of agreed bins: 13\n"
          ]
        }
      ]
    },
    {
      "cell_type": "code",
      "source": [
        "from itertools import combinations"
      ],
      "metadata": {
        "id": "Iynd-SglI8Nn"
      },
      "execution_count": 44,
      "outputs": []
    },
    {
      "cell_type": "code",
      "source": [
        "def search_nearby_bins(query_bin_bits, table, search_radius=3, candidate_set=None):\n",
        "    if candidate_set is None:\n",
        "        candidate_set = set()\n",
        "\n",
        "    n_vectors = query_bin_bits.shape[0]\n",
        "    powers_of_two = 1 << np.arange(n_vectors-1,-1, step=-1)\n",
        "\n",
        "    for different_bits in combinations(range(n_vectors), search_radius):\n",
        "        index = list(different_bits)\n",
        "        alternate_bits = query_bin_bits.copy()\n",
        "        alternate_bits[index] = np.logical_not(alternate_bits[index])\n",
        "\n",
        "        nearby_bin = alternate_bits.dot(powers_two)\n",
        "\n",
        "        if nearby_bin in table:\n",
        "            candidate_set.update(table[nearby_bin])\n",
        "\n",
        "    return candidate_set"
      ],
      "metadata": {
        "id": "trDuXBokI8Qa"
      },
      "execution_count": 65,
      "outputs": []
    },
    {
      "cell_type": "code",
      "source": [
        "from sklearn.metrics.pairwise import pairwise_distances\n"
      ],
      "metadata": {
        "id": "lbl_T3KlI8TS"
      },
      "execution_count": 74,
      "outputs": []
    },
    {
      "cell_type": "code",
      "source": [
        "def get_nearest_neighbors(X_tfidf, query_vector, model, max_search_radius=3):\n",
        "    table = model['table']\n",
        "    random_vectors = model['random_vectors']\n",
        "\n",
        "    # compute bin index for the query vector, in bit representation.\n",
        "    bin_index_bits = np.ravel(query_vector.dot(random_vectors) >= 0)\n",
        "\n",
        "    # search nearby bins and collect candidates\n",
        "    candidate_set = set()\n",
        "    for search_radius in range(max_search_radius + 1):\n",
        "        candidate_set = search_nearby_bins(bin_index_bits, table, search_radius, candidate_set)\n",
        "\n",
        "    # sort candidates by their true distances from the query\n",
        "    candidate_list = list(candidate_set)\n",
        "    candidates = X_tfidf[candidate_list]\n",
        "    distance = pairwise_distances(candidates, query_vector, metric='cosine').flatten()\n",
        "    \n",
        "    distance_col = 'distance'\n",
        "    nearest_neighbors = pd.DataFrame({\n",
        "        'id': candidate_list, distance_col: distance\n",
        "    }).sort_values(distance_col).reset_index(drop=True)\n",
        "    return nearest_neighbors"
      ],
      "metadata": {
        "id": "t-u-opEqI8WM"
      },
      "execution_count": 75,
      "outputs": []
    },
    {
      "cell_type": "code",
      "source": [
        "print('original similar items:\\n' + str(similar_items))\n",
        "\n",
        "item_id = 15\n",
        "query_vector = X_tfidf[item_id]\n",
        "nearest_neighbors = get_nearest_neighbors(X_tfidf, query_vector, model, max_search_radius=5)\n",
        "print('dimension: ', nearest_neighbors.shape)\n",
        "nearest_neighbors.head()"
      ],
      "metadata": {
        "colab": {
          "base_uri": "https://localhost:8080/",
          "height": 261
        },
        "id": "w9S4CSzBI8Y2",
        "outputId": "2a1c1311-c87d-4be2-cdf0-9ee93911df35"
      },
      "execution_count": 76,
      "outputs": [
        {
          "output_type": "stream",
          "name": "stdout",
          "text": [
            "original similar items:\n",
            "[(15, 1.0000000000000002), (10072, 0.5336534905823506), (4495, 0.48954643197016023), (678, 0.45118380147029297), (3382, 0.4492543819216047)]\n",
            "dimension:  (3292, 2)\n"
          ]
        },
        {
          "output_type": "execute_result",
          "data": {
            "text/plain": [
              "      id  distance\n",
              "0     15  0.000000\n",
              "1  10072  0.466347\n",
              "2   4495  0.510454\n",
              "3   3382  0.550746\n",
              "4  12193  0.552188"
            ],
            "text/html": [
              "\n",
              "  <div id=\"df-76a935e7-1e73-4c9f-a605-b68dd2b637d1\">\n",
              "    <div class=\"colab-df-container\">\n",
              "      <div>\n",
              "<style scoped>\n",
              "    .dataframe tbody tr th:only-of-type {\n",
              "        vertical-align: middle;\n",
              "    }\n",
              "\n",
              "    .dataframe tbody tr th {\n",
              "        vertical-align: top;\n",
              "    }\n",
              "\n",
              "    .dataframe thead th {\n",
              "        text-align: right;\n",
              "    }\n",
              "</style>\n",
              "<table border=\"1\" class=\"dataframe\">\n",
              "  <thead>\n",
              "    <tr style=\"text-align: right;\">\n",
              "      <th></th>\n",
              "      <th>id</th>\n",
              "      <th>distance</th>\n",
              "    </tr>\n",
              "  </thead>\n",
              "  <tbody>\n",
              "    <tr>\n",
              "      <th>0</th>\n",
              "      <td>15</td>\n",
              "      <td>0.000000</td>\n",
              "    </tr>\n",
              "    <tr>\n",
              "      <th>1</th>\n",
              "      <td>10072</td>\n",
              "      <td>0.466347</td>\n",
              "    </tr>\n",
              "    <tr>\n",
              "      <th>2</th>\n",
              "      <td>4495</td>\n",
              "      <td>0.510454</td>\n",
              "    </tr>\n",
              "    <tr>\n",
              "      <th>3</th>\n",
              "      <td>3382</td>\n",
              "      <td>0.550746</td>\n",
              "    </tr>\n",
              "    <tr>\n",
              "      <th>4</th>\n",
              "      <td>12193</td>\n",
              "      <td>0.552188</td>\n",
              "    </tr>\n",
              "  </tbody>\n",
              "</table>\n",
              "</div>\n",
              "      <button class=\"colab-df-convert\" onclick=\"convertToInteractive('df-76a935e7-1e73-4c9f-a605-b68dd2b637d1')\"\n",
              "              title=\"Convert this dataframe to an interactive table.\"\n",
              "              style=\"display:none;\">\n",
              "        \n",
              "  <svg xmlns=\"http://www.w3.org/2000/svg\" height=\"24px\"viewBox=\"0 0 24 24\"\n",
              "       width=\"24px\">\n",
              "    <path d=\"M0 0h24v24H0V0z\" fill=\"none\"/>\n",
              "    <path d=\"M18.56 5.44l.94 2.06.94-2.06 2.06-.94-2.06-.94-.94-2.06-.94 2.06-2.06.94zm-11 1L8.5 8.5l.94-2.06 2.06-.94-2.06-.94L8.5 2.5l-.94 2.06-2.06.94zm10 10l.94 2.06.94-2.06 2.06-.94-2.06-.94-.94-2.06-.94 2.06-2.06.94z\"/><path d=\"M17.41 7.96l-1.37-1.37c-.4-.4-.92-.59-1.43-.59-.52 0-1.04.2-1.43.59L10.3 9.45l-7.72 7.72c-.78.78-.78 2.05 0 2.83L4 21.41c.39.39.9.59 1.41.59.51 0 1.02-.2 1.41-.59l7.78-7.78 2.81-2.81c.8-.78.8-2.07 0-2.86zM5.41 20L4 18.59l7.72-7.72 1.47 1.35L5.41 20z\"/>\n",
              "  </svg>\n",
              "      </button>\n",
              "      \n",
              "  <style>\n",
              "    .colab-df-container {\n",
              "      display:flex;\n",
              "      flex-wrap:wrap;\n",
              "      gap: 12px;\n",
              "    }\n",
              "\n",
              "    .colab-df-convert {\n",
              "      background-color: #E8F0FE;\n",
              "      border: none;\n",
              "      border-radius: 50%;\n",
              "      cursor: pointer;\n",
              "      display: none;\n",
              "      fill: #1967D2;\n",
              "      height: 32px;\n",
              "      padding: 0 0 0 0;\n",
              "      width: 32px;\n",
              "    }\n",
              "\n",
              "    .colab-df-convert:hover {\n",
              "      background-color: #E2EBFA;\n",
              "      box-shadow: 0px 1px 2px rgba(60, 64, 67, 0.3), 0px 1px 3px 1px rgba(60, 64, 67, 0.15);\n",
              "      fill: #174EA6;\n",
              "    }\n",
              "\n",
              "    [theme=dark] .colab-df-convert {\n",
              "      background-color: #3B4455;\n",
              "      fill: #D2E3FC;\n",
              "    }\n",
              "\n",
              "    [theme=dark] .colab-df-convert:hover {\n",
              "      background-color: #434B5C;\n",
              "      box-shadow: 0px 1px 3px 1px rgba(0, 0, 0, 0.15);\n",
              "      filter: drop-shadow(0px 1px 2px rgba(0, 0, 0, 0.3));\n",
              "      fill: #FFFFFF;\n",
              "    }\n",
              "  </style>\n",
              "\n",
              "      <script>\n",
              "        const buttonEl =\n",
              "          document.querySelector('#df-76a935e7-1e73-4c9f-a605-b68dd2b637d1 button.colab-df-convert');\n",
              "        buttonEl.style.display =\n",
              "          google.colab.kernel.accessAllowed ? 'block' : 'none';\n",
              "\n",
              "        async function convertToInteractive(key) {\n",
              "          const element = document.querySelector('#df-76a935e7-1e73-4c9f-a605-b68dd2b637d1');\n",
              "          const dataTable =\n",
              "            await google.colab.kernel.invokeFunction('convertToInteractive',\n",
              "                                                     [key], {});\n",
              "          if (!dataTable) return;\n",
              "\n",
              "          const docLinkHtml = 'Like what you see? Visit the ' +\n",
              "            '<a target=\"_blank\" href=https://colab.research.google.com/notebooks/data_table.ipynb>data table notebook</a>'\n",
              "            + ' to learn more about interactive tables.';\n",
              "          element.innerHTML = '';\n",
              "          dataTable['output_type'] = 'display_data';\n",
              "          await google.colab.output.renderOutput(dataTable, element);\n",
              "          const docLink = document.createElement('div');\n",
              "          docLink.innerHTML = docLinkHtml;\n",
              "          element.appendChild(docLink);\n",
              "        }\n",
              "      </script>\n",
              "    </div>\n",
              "  </div>\n",
              "  "
            ]
          },
          "metadata": {},
          "execution_count": 76
        }
      ]
    },
    {
      "cell_type": "code",
      "source": [
        "nearest_neighbors = get_nearest_neighbors(X_tfidf, query_vector, model, max_search_radius=10)\n",
        "print('dimension: ', nearest_neighbors.shape)\n",
        "nearest_neighbors.head()"
      ],
      "metadata": {
        "colab": {
          "base_uri": "https://localhost:8080/",
          "height": 225
        },
        "id": "etzLk-IWI8br",
        "outputId": "bd50efc4-cbc3-4396-826e-f50a452e4a4e"
      },
      "execution_count": 77,
      "outputs": [
        {
          "output_type": "stream",
          "name": "stdout",
          "text": [
            "dimension:  (20087, 2)\n"
          ]
        },
        {
          "output_type": "execute_result",
          "data": {
            "text/plain": [
              "      id  distance\n",
              "0     15  0.000000\n",
              "1  10072  0.466347\n",
              "2   4495  0.510454\n",
              "3    678  0.548816\n",
              "4   3382  0.550746"
            ],
            "text/html": [
              "\n",
              "  <div id=\"df-36281d4e-bec0-472a-8fd6-d726d997ec51\">\n",
              "    <div class=\"colab-df-container\">\n",
              "      <div>\n",
              "<style scoped>\n",
              "    .dataframe tbody tr th:only-of-type {\n",
              "        vertical-align: middle;\n",
              "    }\n",
              "\n",
              "    .dataframe tbody tr th {\n",
              "        vertical-align: top;\n",
              "    }\n",
              "\n",
              "    .dataframe thead th {\n",
              "        text-align: right;\n",
              "    }\n",
              "</style>\n",
              "<table border=\"1\" class=\"dataframe\">\n",
              "  <thead>\n",
              "    <tr style=\"text-align: right;\">\n",
              "      <th></th>\n",
              "      <th>id</th>\n",
              "      <th>distance</th>\n",
              "    </tr>\n",
              "  </thead>\n",
              "  <tbody>\n",
              "    <tr>\n",
              "      <th>0</th>\n",
              "      <td>15</td>\n",
              "      <td>0.000000</td>\n",
              "    </tr>\n",
              "    <tr>\n",
              "      <th>1</th>\n",
              "      <td>10072</td>\n",
              "      <td>0.466347</td>\n",
              "    </tr>\n",
              "    <tr>\n",
              "      <th>2</th>\n",
              "      <td>4495</td>\n",
              "      <td>0.510454</td>\n",
              "    </tr>\n",
              "    <tr>\n",
              "      <th>3</th>\n",
              "      <td>678</td>\n",
              "      <td>0.548816</td>\n",
              "    </tr>\n",
              "    <tr>\n",
              "      <th>4</th>\n",
              "      <td>3382</td>\n",
              "      <td>0.550746</td>\n",
              "    </tr>\n",
              "  </tbody>\n",
              "</table>\n",
              "</div>\n",
              "      <button class=\"colab-df-convert\" onclick=\"convertToInteractive('df-36281d4e-bec0-472a-8fd6-d726d997ec51')\"\n",
              "              title=\"Convert this dataframe to an interactive table.\"\n",
              "              style=\"display:none;\">\n",
              "        \n",
              "  <svg xmlns=\"http://www.w3.org/2000/svg\" height=\"24px\"viewBox=\"0 0 24 24\"\n",
              "       width=\"24px\">\n",
              "    <path d=\"M0 0h24v24H0V0z\" fill=\"none\"/>\n",
              "    <path d=\"M18.56 5.44l.94 2.06.94-2.06 2.06-.94-2.06-.94-.94-2.06-.94 2.06-2.06.94zm-11 1L8.5 8.5l.94-2.06 2.06-.94-2.06-.94L8.5 2.5l-.94 2.06-2.06.94zm10 10l.94 2.06.94-2.06 2.06-.94-2.06-.94-.94-2.06-.94 2.06-2.06.94z\"/><path d=\"M17.41 7.96l-1.37-1.37c-.4-.4-.92-.59-1.43-.59-.52 0-1.04.2-1.43.59L10.3 9.45l-7.72 7.72c-.78.78-.78 2.05 0 2.83L4 21.41c.39.39.9.59 1.41.59.51 0 1.02-.2 1.41-.59l7.78-7.78 2.81-2.81c.8-.78.8-2.07 0-2.86zM5.41 20L4 18.59l7.72-7.72 1.47 1.35L5.41 20z\"/>\n",
              "  </svg>\n",
              "      </button>\n",
              "      \n",
              "  <style>\n",
              "    .colab-df-container {\n",
              "      display:flex;\n",
              "      flex-wrap:wrap;\n",
              "      gap: 12px;\n",
              "    }\n",
              "\n",
              "    .colab-df-convert {\n",
              "      background-color: #E8F0FE;\n",
              "      border: none;\n",
              "      border-radius: 50%;\n",
              "      cursor: pointer;\n",
              "      display: none;\n",
              "      fill: #1967D2;\n",
              "      height: 32px;\n",
              "      padding: 0 0 0 0;\n",
              "      width: 32px;\n",
              "    }\n",
              "\n",
              "    .colab-df-convert:hover {\n",
              "      background-color: #E2EBFA;\n",
              "      box-shadow: 0px 1px 2px rgba(60, 64, 67, 0.3), 0px 1px 3px 1px rgba(60, 64, 67, 0.15);\n",
              "      fill: #174EA6;\n",
              "    }\n",
              "\n",
              "    [theme=dark] .colab-df-convert {\n",
              "      background-color: #3B4455;\n",
              "      fill: #D2E3FC;\n",
              "    }\n",
              "\n",
              "    [theme=dark] .colab-df-convert:hover {\n",
              "      background-color: #434B5C;\n",
              "      box-shadow: 0px 1px 3px 1px rgba(0, 0, 0, 0.15);\n",
              "      filter: drop-shadow(0px 1px 2px rgba(0, 0, 0, 0.3));\n",
              "      fill: #FFFFFF;\n",
              "    }\n",
              "  </style>\n",
              "\n",
              "      <script>\n",
              "        const buttonEl =\n",
              "          document.querySelector('#df-36281d4e-bec0-472a-8fd6-d726d997ec51 button.colab-df-convert');\n",
              "        buttonEl.style.display =\n",
              "          google.colab.kernel.accessAllowed ? 'block' : 'none';\n",
              "\n",
              "        async function convertToInteractive(key) {\n",
              "          const element = document.querySelector('#df-36281d4e-bec0-472a-8fd6-d726d997ec51');\n",
              "          const dataTable =\n",
              "            await google.colab.kernel.invokeFunction('convertToInteractive',\n",
              "                                                     [key], {});\n",
              "          if (!dataTable) return;\n",
              "\n",
              "          const docLinkHtml = 'Like what you see? Visit the ' +\n",
              "            '<a target=\"_blank\" href=https://colab.research.google.com/notebooks/data_table.ipynb>data table notebook</a>'\n",
              "            + ' to learn more about interactive tables.';\n",
              "          element.innerHTML = '';\n",
              "          dataTable['output_type'] = 'display_data';\n",
              "          await google.colab.output.renderOutput(dataTable, element);\n",
              "          const docLink = document.createElement('div');\n",
              "          docLink.innerHTML = docLinkHtml;\n",
              "          element.appendChild(docLink);\n",
              "        }\n",
              "      </script>\n",
              "    </div>\n",
              "  </div>\n",
              "  "
            ]
          },
          "metadata": {},
          "execution_count": 77
        }
      ]
    },
    {
      "cell_type": "code",
      "source": [
        "\n",
        "# we can perform a join with the original table to get the description\n",
        "# for sanity checking purpose\n",
        "nearest_neighbors.head().merge(df, on='id', how='inner')"
      ],
      "metadata": {
        "colab": {
          "base_uri": "https://localhost:8080/",
          "height": 206
        },
        "id": "OJwKVagzI8eY",
        "outputId": "8297925a-29db-4034-d93f-e120432eea1e"
      },
      "execution_count": 78,
      "outputs": [
        {
          "output_type": "execute_result",
          "data": {
            "text/plain": [
              "      id  distance                                               text\n",
              "0     15  0.000000  is cleaning the house for her family who is co...\n",
              "1  10072  0.466347                                 Cleaning the house\n",
              "2   4495  0.510454   hot weather for the lose. And I have to clean...\n",
              "3    678  0.548816  Searching my home for a few things to cook the...\n",
              "4   3382  0.550746  cleaning cleaning cleaning today then working ..."
            ],
            "text/html": [
              "\n",
              "  <div id=\"df-8397b65b-2178-4265-8a0b-52419883674a\">\n",
              "    <div class=\"colab-df-container\">\n",
              "      <div>\n",
              "<style scoped>\n",
              "    .dataframe tbody tr th:only-of-type {\n",
              "        vertical-align: middle;\n",
              "    }\n",
              "\n",
              "    .dataframe tbody tr th {\n",
              "        vertical-align: top;\n",
              "    }\n",
              "\n",
              "    .dataframe thead th {\n",
              "        text-align: right;\n",
              "    }\n",
              "</style>\n",
              "<table border=\"1\" class=\"dataframe\">\n",
              "  <thead>\n",
              "    <tr style=\"text-align: right;\">\n",
              "      <th></th>\n",
              "      <th>id</th>\n",
              "      <th>distance</th>\n",
              "      <th>text</th>\n",
              "    </tr>\n",
              "  </thead>\n",
              "  <tbody>\n",
              "    <tr>\n",
              "      <th>0</th>\n",
              "      <td>15</td>\n",
              "      <td>0.000000</td>\n",
              "      <td>is cleaning the house for her family who is co...</td>\n",
              "    </tr>\n",
              "    <tr>\n",
              "      <th>1</th>\n",
              "      <td>10072</td>\n",
              "      <td>0.466347</td>\n",
              "      <td>Cleaning the house</td>\n",
              "    </tr>\n",
              "    <tr>\n",
              "      <th>2</th>\n",
              "      <td>4495</td>\n",
              "      <td>0.510454</td>\n",
              "      <td>hot weather for the lose. And I have to clean...</td>\n",
              "    </tr>\n",
              "    <tr>\n",
              "      <th>3</th>\n",
              "      <td>678</td>\n",
              "      <td>0.548816</td>\n",
              "      <td>Searching my home for a few things to cook the...</td>\n",
              "    </tr>\n",
              "    <tr>\n",
              "      <th>4</th>\n",
              "      <td>3382</td>\n",
              "      <td>0.550746</td>\n",
              "      <td>cleaning cleaning cleaning today then working ...</td>\n",
              "    </tr>\n",
              "  </tbody>\n",
              "</table>\n",
              "</div>\n",
              "      <button class=\"colab-df-convert\" onclick=\"convertToInteractive('df-8397b65b-2178-4265-8a0b-52419883674a')\"\n",
              "              title=\"Convert this dataframe to an interactive table.\"\n",
              "              style=\"display:none;\">\n",
              "        \n",
              "  <svg xmlns=\"http://www.w3.org/2000/svg\" height=\"24px\"viewBox=\"0 0 24 24\"\n",
              "       width=\"24px\">\n",
              "    <path d=\"M0 0h24v24H0V0z\" fill=\"none\"/>\n",
              "    <path d=\"M18.56 5.44l.94 2.06.94-2.06 2.06-.94-2.06-.94-.94-2.06-.94 2.06-2.06.94zm-11 1L8.5 8.5l.94-2.06 2.06-.94-2.06-.94L8.5 2.5l-.94 2.06-2.06.94zm10 10l.94 2.06.94-2.06 2.06-.94-2.06-.94-.94-2.06-.94 2.06-2.06.94z\"/><path d=\"M17.41 7.96l-1.37-1.37c-.4-.4-.92-.59-1.43-.59-.52 0-1.04.2-1.43.59L10.3 9.45l-7.72 7.72c-.78.78-.78 2.05 0 2.83L4 21.41c.39.39.9.59 1.41.59.51 0 1.02-.2 1.41-.59l7.78-7.78 2.81-2.81c.8-.78.8-2.07 0-2.86zM5.41 20L4 18.59l7.72-7.72 1.47 1.35L5.41 20z\"/>\n",
              "  </svg>\n",
              "      </button>\n",
              "      \n",
              "  <style>\n",
              "    .colab-df-container {\n",
              "      display:flex;\n",
              "      flex-wrap:wrap;\n",
              "      gap: 12px;\n",
              "    }\n",
              "\n",
              "    .colab-df-convert {\n",
              "      background-color: #E8F0FE;\n",
              "      border: none;\n",
              "      border-radius: 50%;\n",
              "      cursor: pointer;\n",
              "      display: none;\n",
              "      fill: #1967D2;\n",
              "      height: 32px;\n",
              "      padding: 0 0 0 0;\n",
              "      width: 32px;\n",
              "    }\n",
              "\n",
              "    .colab-df-convert:hover {\n",
              "      background-color: #E2EBFA;\n",
              "      box-shadow: 0px 1px 2px rgba(60, 64, 67, 0.3), 0px 1px 3px 1px rgba(60, 64, 67, 0.15);\n",
              "      fill: #174EA6;\n",
              "    }\n",
              "\n",
              "    [theme=dark] .colab-df-convert {\n",
              "      background-color: #3B4455;\n",
              "      fill: #D2E3FC;\n",
              "    }\n",
              "\n",
              "    [theme=dark] .colab-df-convert:hover {\n",
              "      background-color: #434B5C;\n",
              "      box-shadow: 0px 1px 3px 1px rgba(0, 0, 0, 0.15);\n",
              "      filter: drop-shadow(0px 1px 2px rgba(0, 0, 0, 0.3));\n",
              "      fill: #FFFFFF;\n",
              "    }\n",
              "  </style>\n",
              "\n",
              "      <script>\n",
              "        const buttonEl =\n",
              "          document.querySelector('#df-8397b65b-2178-4265-8a0b-52419883674a button.colab-df-convert');\n",
              "        buttonEl.style.display =\n",
              "          google.colab.kernel.accessAllowed ? 'block' : 'none';\n",
              "\n",
              "        async function convertToInteractive(key) {\n",
              "          const element = document.querySelector('#df-8397b65b-2178-4265-8a0b-52419883674a');\n",
              "          const dataTable =\n",
              "            await google.colab.kernel.invokeFunction('convertToInteractive',\n",
              "                                                     [key], {});\n",
              "          if (!dataTable) return;\n",
              "\n",
              "          const docLinkHtml = 'Like what you see? Visit the ' +\n",
              "            '<a target=\"_blank\" href=https://colab.research.google.com/notebooks/data_table.ipynb>data table notebook</a>'\n",
              "            + ' to learn more about interactive tables.';\n",
              "          element.innerHTML = '';\n",
              "          dataTable['output_type'] = 'display_data';\n",
              "          await google.colab.output.renderOutput(dataTable, element);\n",
              "          const docLink = document.createElement('div');\n",
              "          docLink.innerHTML = docLinkHtml;\n",
              "          element.appendChild(docLink);\n",
              "        }\n",
              "      </script>\n",
              "    </div>\n",
              "  </div>\n",
              "  "
            ]
          },
          "metadata": {},
          "execution_count": 78
        }
      ]
    },
    {
      "cell_type": "code",
      "source": [],
      "metadata": {
        "id": "cWijSWIOI8hK"
      },
      "execution_count": null,
      "outputs": []
    },
    {
      "cell_type": "code",
      "source": [],
      "metadata": {
        "id": "RHCSb2aiI8jf"
      },
      "execution_count": null,
      "outputs": []
    }
  ]
}