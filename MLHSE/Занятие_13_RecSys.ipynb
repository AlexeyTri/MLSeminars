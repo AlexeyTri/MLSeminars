{
  "nbformat": 4,
  "nbformat_minor": 0,
  "metadata": {
    "colab": {
      "provenance": [],
      "authorship_tag": "ABX9TyOK3e20E/J27dp8n9xZcB4Q",
      "include_colab_link": true
    },
    "kernelspec": {
      "name": "python3",
      "display_name": "Python 3"
    },
    "language_info": {
      "name": "python"
    },
    "widgets": {
      "application/vnd.jupyter.widget-state+json": {
        "e6081aca178546028189dc45b7b38830": {
          "model_module": "@jupyter-widgets/controls",
          "model_name": "HBoxModel",
          "model_module_version": "1.5.0",
          "state": {
            "_dom_classes": [],
            "_model_module": "@jupyter-widgets/controls",
            "_model_module_version": "1.5.0",
            "_model_name": "HBoxModel",
            "_view_count": null,
            "_view_module": "@jupyter-widgets/controls",
            "_view_module_version": "1.5.0",
            "_view_name": "HBoxView",
            "box_style": "",
            "children": [
              "IPY_MODEL_0fc36257edab41709bbf33ec41f30d5c",
              "IPY_MODEL_0127d9c5b33c4ab3ae412140f53aa7d8",
              "IPY_MODEL_9edd9b5ab791405c9d237e326b6f335b"
            ],
            "layout": "IPY_MODEL_a854ed1e75c1463ead1f9479ee116ce0"
          }
        },
        "0fc36257edab41709bbf33ec41f30d5c": {
          "model_module": "@jupyter-widgets/controls",
          "model_name": "HTMLModel",
          "model_module_version": "1.5.0",
          "state": {
            "_dom_classes": [],
            "_model_module": "@jupyter-widgets/controls",
            "_model_module_version": "1.5.0",
            "_model_name": "HTMLModel",
            "_view_count": null,
            "_view_module": "@jupyter-widgets/controls",
            "_view_module_version": "1.5.0",
            "_view_name": "HTMLView",
            "description": "",
            "description_tooltip": null,
            "layout": "IPY_MODEL_36603b9a8c6941269051f466d1230dac",
            "placeholder": "​",
            "style": "IPY_MODEL_26f6a75c6070446595a914d87d5d4004",
            "value": "100%"
          }
        },
        "0127d9c5b33c4ab3ae412140f53aa7d8": {
          "model_module": "@jupyter-widgets/controls",
          "model_name": "FloatProgressModel",
          "model_module_version": "1.5.0",
          "state": {
            "_dom_classes": [],
            "_model_module": "@jupyter-widgets/controls",
            "_model_module_version": "1.5.0",
            "_model_name": "FloatProgressModel",
            "_view_count": null,
            "_view_module": "@jupyter-widgets/controls",
            "_view_module_version": "1.5.0",
            "_view_name": "ProgressView",
            "bar_style": "success",
            "description": "",
            "description_tooltip": null,
            "layout": "IPY_MODEL_2aadd7823582499788c46eab20e1ff88",
            "max": 1111,
            "min": 0,
            "orientation": "horizontal",
            "style": "IPY_MODEL_459185e9dc2a4897a36b98eb81de0548",
            "value": 1111
          }
        },
        "9edd9b5ab791405c9d237e326b6f335b": {
          "model_module": "@jupyter-widgets/controls",
          "model_name": "HTMLModel",
          "model_module_version": "1.5.0",
          "state": {
            "_dom_classes": [],
            "_model_module": "@jupyter-widgets/controls",
            "_model_module_version": "1.5.0",
            "_model_name": "HTMLModel",
            "_view_count": null,
            "_view_module": "@jupyter-widgets/controls",
            "_view_module_version": "1.5.0",
            "_view_name": "HTMLView",
            "description": "",
            "description_tooltip": null,
            "layout": "IPY_MODEL_d821241b940c41f0b4732b501331d9d5",
            "placeholder": "​",
            "style": "IPY_MODEL_80a37ef03bf345eb877225c4a4b05c1a",
            "value": " 1111/1111 [00:44&lt;00:00, 265.69it/s]"
          }
        },
        "a854ed1e75c1463ead1f9479ee116ce0": {
          "model_module": "@jupyter-widgets/base",
          "model_name": "LayoutModel",
          "model_module_version": "1.2.0",
          "state": {
            "_model_module": "@jupyter-widgets/base",
            "_model_module_version": "1.2.0",
            "_model_name": "LayoutModel",
            "_view_count": null,
            "_view_module": "@jupyter-widgets/base",
            "_view_module_version": "1.2.0",
            "_view_name": "LayoutView",
            "align_content": null,
            "align_items": null,
            "align_self": null,
            "border": null,
            "bottom": null,
            "display": null,
            "flex": null,
            "flex_flow": null,
            "grid_area": null,
            "grid_auto_columns": null,
            "grid_auto_flow": null,
            "grid_auto_rows": null,
            "grid_column": null,
            "grid_gap": null,
            "grid_row": null,
            "grid_template_areas": null,
            "grid_template_columns": null,
            "grid_template_rows": null,
            "height": null,
            "justify_content": null,
            "justify_items": null,
            "left": null,
            "margin": null,
            "max_height": null,
            "max_width": null,
            "min_height": null,
            "min_width": null,
            "object_fit": null,
            "object_position": null,
            "order": null,
            "overflow": null,
            "overflow_x": null,
            "overflow_y": null,
            "padding": null,
            "right": null,
            "top": null,
            "visibility": null,
            "width": null
          }
        },
        "36603b9a8c6941269051f466d1230dac": {
          "model_module": "@jupyter-widgets/base",
          "model_name": "LayoutModel",
          "model_module_version": "1.2.0",
          "state": {
            "_model_module": "@jupyter-widgets/base",
            "_model_module_version": "1.2.0",
            "_model_name": "LayoutModel",
            "_view_count": null,
            "_view_module": "@jupyter-widgets/base",
            "_view_module_version": "1.2.0",
            "_view_name": "LayoutView",
            "align_content": null,
            "align_items": null,
            "align_self": null,
            "border": null,
            "bottom": null,
            "display": null,
            "flex": null,
            "flex_flow": null,
            "grid_area": null,
            "grid_auto_columns": null,
            "grid_auto_flow": null,
            "grid_auto_rows": null,
            "grid_column": null,
            "grid_gap": null,
            "grid_row": null,
            "grid_template_areas": null,
            "grid_template_columns": null,
            "grid_template_rows": null,
            "height": null,
            "justify_content": null,
            "justify_items": null,
            "left": null,
            "margin": null,
            "max_height": null,
            "max_width": null,
            "min_height": null,
            "min_width": null,
            "object_fit": null,
            "object_position": null,
            "order": null,
            "overflow": null,
            "overflow_x": null,
            "overflow_y": null,
            "padding": null,
            "right": null,
            "top": null,
            "visibility": null,
            "width": null
          }
        },
        "26f6a75c6070446595a914d87d5d4004": {
          "model_module": "@jupyter-widgets/controls",
          "model_name": "DescriptionStyleModel",
          "model_module_version": "1.5.0",
          "state": {
            "_model_module": "@jupyter-widgets/controls",
            "_model_module_version": "1.5.0",
            "_model_name": "DescriptionStyleModel",
            "_view_count": null,
            "_view_module": "@jupyter-widgets/base",
            "_view_module_version": "1.2.0",
            "_view_name": "StyleView",
            "description_width": ""
          }
        },
        "2aadd7823582499788c46eab20e1ff88": {
          "model_module": "@jupyter-widgets/base",
          "model_name": "LayoutModel",
          "model_module_version": "1.2.0",
          "state": {
            "_model_module": "@jupyter-widgets/base",
            "_model_module_version": "1.2.0",
            "_model_name": "LayoutModel",
            "_view_count": null,
            "_view_module": "@jupyter-widgets/base",
            "_view_module_version": "1.2.0",
            "_view_name": "LayoutView",
            "align_content": null,
            "align_items": null,
            "align_self": null,
            "border": null,
            "bottom": null,
            "display": null,
            "flex": null,
            "flex_flow": null,
            "grid_area": null,
            "grid_auto_columns": null,
            "grid_auto_flow": null,
            "grid_auto_rows": null,
            "grid_column": null,
            "grid_gap": null,
            "grid_row": null,
            "grid_template_areas": null,
            "grid_template_columns": null,
            "grid_template_rows": null,
            "height": null,
            "justify_content": null,
            "justify_items": null,
            "left": null,
            "margin": null,
            "max_height": null,
            "max_width": null,
            "min_height": null,
            "min_width": null,
            "object_fit": null,
            "object_position": null,
            "order": null,
            "overflow": null,
            "overflow_x": null,
            "overflow_y": null,
            "padding": null,
            "right": null,
            "top": null,
            "visibility": null,
            "width": null
          }
        },
        "459185e9dc2a4897a36b98eb81de0548": {
          "model_module": "@jupyter-widgets/controls",
          "model_name": "ProgressStyleModel",
          "model_module_version": "1.5.0",
          "state": {
            "_model_module": "@jupyter-widgets/controls",
            "_model_module_version": "1.5.0",
            "_model_name": "ProgressStyleModel",
            "_view_count": null,
            "_view_module": "@jupyter-widgets/base",
            "_view_module_version": "1.2.0",
            "_view_name": "StyleView",
            "bar_color": null,
            "description_width": ""
          }
        },
        "d821241b940c41f0b4732b501331d9d5": {
          "model_module": "@jupyter-widgets/base",
          "model_name": "LayoutModel",
          "model_module_version": "1.2.0",
          "state": {
            "_model_module": "@jupyter-widgets/base",
            "_model_module_version": "1.2.0",
            "_model_name": "LayoutModel",
            "_view_count": null,
            "_view_module": "@jupyter-widgets/base",
            "_view_module_version": "1.2.0",
            "_view_name": "LayoutView",
            "align_content": null,
            "align_items": null,
            "align_self": null,
            "border": null,
            "bottom": null,
            "display": null,
            "flex": null,
            "flex_flow": null,
            "grid_area": null,
            "grid_auto_columns": null,
            "grid_auto_flow": null,
            "grid_auto_rows": null,
            "grid_column": null,
            "grid_gap": null,
            "grid_row": null,
            "grid_template_areas": null,
            "grid_template_columns": null,
            "grid_template_rows": null,
            "height": null,
            "justify_content": null,
            "justify_items": null,
            "left": null,
            "margin": null,
            "max_height": null,
            "max_width": null,
            "min_height": null,
            "min_width": null,
            "object_fit": null,
            "object_position": null,
            "order": null,
            "overflow": null,
            "overflow_x": null,
            "overflow_y": null,
            "padding": null,
            "right": null,
            "top": null,
            "visibility": null,
            "width": null
          }
        },
        "80a37ef03bf345eb877225c4a4b05c1a": {
          "model_module": "@jupyter-widgets/controls",
          "model_name": "DescriptionStyleModel",
          "model_module_version": "1.5.0",
          "state": {
            "_model_module": "@jupyter-widgets/controls",
            "_model_module_version": "1.5.0",
            "_model_name": "DescriptionStyleModel",
            "_view_count": null,
            "_view_module": "@jupyter-widgets/base",
            "_view_module_version": "1.2.0",
            "_view_name": "StyleView",
            "description_width": ""
          }
        },
        "1b17a9e15fd94de3b81ab9ed162ffc6b": {
          "model_module": "@jupyter-widgets/controls",
          "model_name": "HBoxModel",
          "model_module_version": "1.5.0",
          "state": {
            "_dom_classes": [],
            "_model_module": "@jupyter-widgets/controls",
            "_model_module_version": "1.5.0",
            "_model_name": "HBoxModel",
            "_view_count": null,
            "_view_module": "@jupyter-widgets/controls",
            "_view_module_version": "1.5.0",
            "_view_name": "HBoxView",
            "box_style": "",
            "children": [
              "IPY_MODEL_548dce47947f4bf0b9f52e0820036f73",
              "IPY_MODEL_c396296c8943443795e6ffdc158b494c",
              "IPY_MODEL_5fba92965b50419cb4dc811003797c0f"
            ],
            "layout": "IPY_MODEL_37de7e28db2540e3b1ee9e507d21245b"
          }
        },
        "548dce47947f4bf0b9f52e0820036f73": {
          "model_module": "@jupyter-widgets/controls",
          "model_name": "HTMLModel",
          "model_module_version": "1.5.0",
          "state": {
            "_dom_classes": [],
            "_model_module": "@jupyter-widgets/controls",
            "_model_module_version": "1.5.0",
            "_model_name": "HTMLModel",
            "_view_count": null,
            "_view_module": "@jupyter-widgets/controls",
            "_view_module_version": "1.5.0",
            "_view_name": "HTMLView",
            "description": "",
            "description_tooltip": null,
            "layout": "IPY_MODEL_95c57b33479c4841b68c1eeacf1b2b62",
            "placeholder": "​",
            "style": "IPY_MODEL_b7f93d3985fc47709cb09fa980aba64f",
            "value": "100%"
          }
        },
        "c396296c8943443795e6ffdc158b494c": {
          "model_module": "@jupyter-widgets/controls",
          "model_name": "FloatProgressModel",
          "model_module_version": "1.5.0",
          "state": {
            "_dom_classes": [],
            "_model_module": "@jupyter-widgets/controls",
            "_model_module_version": "1.5.0",
            "_model_name": "FloatProgressModel",
            "_view_count": null,
            "_view_module": "@jupyter-widgets/controls",
            "_view_module_version": "1.5.0",
            "_view_name": "ProgressView",
            "bar_style": "success",
            "description": "",
            "description_tooltip": null,
            "layout": "IPY_MODEL_506aef932bd44bd198f39dc7d0b581c0",
            "max": 1112,
            "min": 0,
            "orientation": "horizontal",
            "style": "IPY_MODEL_8da60f3eb79c4b71a0c521bc74a20311",
            "value": 1112
          }
        },
        "5fba92965b50419cb4dc811003797c0f": {
          "model_module": "@jupyter-widgets/controls",
          "model_name": "HTMLModel",
          "model_module_version": "1.5.0",
          "state": {
            "_dom_classes": [],
            "_model_module": "@jupyter-widgets/controls",
            "_model_module_version": "1.5.0",
            "_model_name": "HTMLModel",
            "_view_count": null,
            "_view_module": "@jupyter-widgets/controls",
            "_view_module_version": "1.5.0",
            "_view_name": "HTMLView",
            "description": "",
            "description_tooltip": null,
            "layout": "IPY_MODEL_c4b9f14d63a44769bd503a4cbb625205",
            "placeholder": "​",
            "style": "IPY_MODEL_8588ca85ab2249fe9b989bd7e70446a6",
            "value": " 1112/1112 [00:02&lt;00:00, 475.82it/s]"
          }
        },
        "37de7e28db2540e3b1ee9e507d21245b": {
          "model_module": "@jupyter-widgets/base",
          "model_name": "LayoutModel",
          "model_module_version": "1.2.0",
          "state": {
            "_model_module": "@jupyter-widgets/base",
            "_model_module_version": "1.2.0",
            "_model_name": "LayoutModel",
            "_view_count": null,
            "_view_module": "@jupyter-widgets/base",
            "_view_module_version": "1.2.0",
            "_view_name": "LayoutView",
            "align_content": null,
            "align_items": null,
            "align_self": null,
            "border": null,
            "bottom": null,
            "display": null,
            "flex": null,
            "flex_flow": null,
            "grid_area": null,
            "grid_auto_columns": null,
            "grid_auto_flow": null,
            "grid_auto_rows": null,
            "grid_column": null,
            "grid_gap": null,
            "grid_row": null,
            "grid_template_areas": null,
            "grid_template_columns": null,
            "grid_template_rows": null,
            "height": null,
            "justify_content": null,
            "justify_items": null,
            "left": null,
            "margin": null,
            "max_height": null,
            "max_width": null,
            "min_height": null,
            "min_width": null,
            "object_fit": null,
            "object_position": null,
            "order": null,
            "overflow": null,
            "overflow_x": null,
            "overflow_y": null,
            "padding": null,
            "right": null,
            "top": null,
            "visibility": null,
            "width": null
          }
        },
        "95c57b33479c4841b68c1eeacf1b2b62": {
          "model_module": "@jupyter-widgets/base",
          "model_name": "LayoutModel",
          "model_module_version": "1.2.0",
          "state": {
            "_model_module": "@jupyter-widgets/base",
            "_model_module_version": "1.2.0",
            "_model_name": "LayoutModel",
            "_view_count": null,
            "_view_module": "@jupyter-widgets/base",
            "_view_module_version": "1.2.0",
            "_view_name": "LayoutView",
            "align_content": null,
            "align_items": null,
            "align_self": null,
            "border": null,
            "bottom": null,
            "display": null,
            "flex": null,
            "flex_flow": null,
            "grid_area": null,
            "grid_auto_columns": null,
            "grid_auto_flow": null,
            "grid_auto_rows": null,
            "grid_column": null,
            "grid_gap": null,
            "grid_row": null,
            "grid_template_areas": null,
            "grid_template_columns": null,
            "grid_template_rows": null,
            "height": null,
            "justify_content": null,
            "justify_items": null,
            "left": null,
            "margin": null,
            "max_height": null,
            "max_width": null,
            "min_height": null,
            "min_width": null,
            "object_fit": null,
            "object_position": null,
            "order": null,
            "overflow": null,
            "overflow_x": null,
            "overflow_y": null,
            "padding": null,
            "right": null,
            "top": null,
            "visibility": null,
            "width": null
          }
        },
        "b7f93d3985fc47709cb09fa980aba64f": {
          "model_module": "@jupyter-widgets/controls",
          "model_name": "DescriptionStyleModel",
          "model_module_version": "1.5.0",
          "state": {
            "_model_module": "@jupyter-widgets/controls",
            "_model_module_version": "1.5.0",
            "_model_name": "DescriptionStyleModel",
            "_view_count": null,
            "_view_module": "@jupyter-widgets/base",
            "_view_module_version": "1.2.0",
            "_view_name": "StyleView",
            "description_width": ""
          }
        },
        "506aef932bd44bd198f39dc7d0b581c0": {
          "model_module": "@jupyter-widgets/base",
          "model_name": "LayoutModel",
          "model_module_version": "1.2.0",
          "state": {
            "_model_module": "@jupyter-widgets/base",
            "_model_module_version": "1.2.0",
            "_model_name": "LayoutModel",
            "_view_count": null,
            "_view_module": "@jupyter-widgets/base",
            "_view_module_version": "1.2.0",
            "_view_name": "LayoutView",
            "align_content": null,
            "align_items": null,
            "align_self": null,
            "border": null,
            "bottom": null,
            "display": null,
            "flex": null,
            "flex_flow": null,
            "grid_area": null,
            "grid_auto_columns": null,
            "grid_auto_flow": null,
            "grid_auto_rows": null,
            "grid_column": null,
            "grid_gap": null,
            "grid_row": null,
            "grid_template_areas": null,
            "grid_template_columns": null,
            "grid_template_rows": null,
            "height": null,
            "justify_content": null,
            "justify_items": null,
            "left": null,
            "margin": null,
            "max_height": null,
            "max_width": null,
            "min_height": null,
            "min_width": null,
            "object_fit": null,
            "object_position": null,
            "order": null,
            "overflow": null,
            "overflow_x": null,
            "overflow_y": null,
            "padding": null,
            "right": null,
            "top": null,
            "visibility": null,
            "width": null
          }
        },
        "8da60f3eb79c4b71a0c521bc74a20311": {
          "model_module": "@jupyter-widgets/controls",
          "model_name": "ProgressStyleModel",
          "model_module_version": "1.5.0",
          "state": {
            "_model_module": "@jupyter-widgets/controls",
            "_model_module_version": "1.5.0",
            "_model_name": "ProgressStyleModel",
            "_view_count": null,
            "_view_module": "@jupyter-widgets/base",
            "_view_module_version": "1.2.0",
            "_view_name": "StyleView",
            "bar_color": null,
            "description_width": ""
          }
        },
        "c4b9f14d63a44769bd503a4cbb625205": {
          "model_module": "@jupyter-widgets/base",
          "model_name": "LayoutModel",
          "model_module_version": "1.2.0",
          "state": {
            "_model_module": "@jupyter-widgets/base",
            "_model_module_version": "1.2.0",
            "_model_name": "LayoutModel",
            "_view_count": null,
            "_view_module": "@jupyter-widgets/base",
            "_view_module_version": "1.2.0",
            "_view_name": "LayoutView",
            "align_content": null,
            "align_items": null,
            "align_self": null,
            "border": null,
            "bottom": null,
            "display": null,
            "flex": null,
            "flex_flow": null,
            "grid_area": null,
            "grid_auto_columns": null,
            "grid_auto_flow": null,
            "grid_auto_rows": null,
            "grid_column": null,
            "grid_gap": null,
            "grid_row": null,
            "grid_template_areas": null,
            "grid_template_columns": null,
            "grid_template_rows": null,
            "height": null,
            "justify_content": null,
            "justify_items": null,
            "left": null,
            "margin": null,
            "max_height": null,
            "max_width": null,
            "min_height": null,
            "min_width": null,
            "object_fit": null,
            "object_position": null,
            "order": null,
            "overflow": null,
            "overflow_x": null,
            "overflow_y": null,
            "padding": null,
            "right": null,
            "top": null,
            "visibility": null,
            "width": null
          }
        },
        "8588ca85ab2249fe9b989bd7e70446a6": {
          "model_module": "@jupyter-widgets/controls",
          "model_name": "DescriptionStyleModel",
          "model_module_version": "1.5.0",
          "state": {
            "_model_module": "@jupyter-widgets/controls",
            "_model_module_version": "1.5.0",
            "_model_name": "DescriptionStyleModel",
            "_view_count": null,
            "_view_module": "@jupyter-widgets/base",
            "_view_module_version": "1.2.0",
            "_view_name": "StyleView",
            "description_width": ""
          }
        },
        "47304832ab6e4ff6817241cf40afe488": {
          "model_module": "@jupyter-widgets/controls",
          "model_name": "HBoxModel",
          "model_module_version": "1.5.0",
          "state": {
            "_dom_classes": [],
            "_model_module": "@jupyter-widgets/controls",
            "_model_module_version": "1.5.0",
            "_model_name": "HBoxModel",
            "_view_count": null,
            "_view_module": "@jupyter-widgets/controls",
            "_view_module_version": "1.5.0",
            "_view_name": "HBoxView",
            "box_style": "",
            "children": [
              "IPY_MODEL_2573abe4fa694725b2bfba9ff429a955",
              "IPY_MODEL_bb0963afac1d437ab01ccdeaec9a3e1e",
              "IPY_MODEL_a78a54b7e11845d1b7533ff6875c4845"
            ],
            "layout": "IPY_MODEL_e59cd21ae60a4d68bdacf441df5e73ff"
          }
        },
        "2573abe4fa694725b2bfba9ff429a955": {
          "model_module": "@jupyter-widgets/controls",
          "model_name": "HTMLModel",
          "model_module_version": "1.5.0",
          "state": {
            "_dom_classes": [],
            "_model_module": "@jupyter-widgets/controls",
            "_model_module_version": "1.5.0",
            "_model_name": "HTMLModel",
            "_view_count": null,
            "_view_module": "@jupyter-widgets/controls",
            "_view_module_version": "1.5.0",
            "_view_name": "HTMLView",
            "description": "",
            "description_tooltip": null,
            "layout": "IPY_MODEL_3a5b059884d14109adba9d6bfddeae10",
            "placeholder": "​",
            "style": "IPY_MODEL_81980e29613147fd9f516201ffb3c9a9",
            "value": "100%"
          }
        },
        "bb0963afac1d437ab01ccdeaec9a3e1e": {
          "model_module": "@jupyter-widgets/controls",
          "model_name": "FloatProgressModel",
          "model_module_version": "1.5.0",
          "state": {
            "_dom_classes": [],
            "_model_module": "@jupyter-widgets/controls",
            "_model_module_version": "1.5.0",
            "_model_name": "FloatProgressModel",
            "_view_count": null,
            "_view_module": "@jupyter-widgets/controls",
            "_view_module_version": "1.5.0",
            "_view_name": "ProgressView",
            "bar_style": "success",
            "description": "",
            "description_tooltip": null,
            "layout": "IPY_MODEL_309b674c71904b24a040db89faf49e53",
            "max": 1112,
            "min": 0,
            "orientation": "horizontal",
            "style": "IPY_MODEL_078c207d5c094f10878840c9a235fd07",
            "value": 1112
          }
        },
        "a78a54b7e11845d1b7533ff6875c4845": {
          "model_module": "@jupyter-widgets/controls",
          "model_name": "HTMLModel",
          "model_module_version": "1.5.0",
          "state": {
            "_dom_classes": [],
            "_model_module": "@jupyter-widgets/controls",
            "_model_module_version": "1.5.0",
            "_model_name": "HTMLModel",
            "_view_count": null,
            "_view_module": "@jupyter-widgets/controls",
            "_view_module_version": "1.5.0",
            "_view_name": "HTMLView",
            "description": "",
            "description_tooltip": null,
            "layout": "IPY_MODEL_296ecead348b4791b3a547d19ddce90e",
            "placeholder": "​",
            "style": "IPY_MODEL_f789fce6b901417e8e7890783566c3f4",
            "value": " 1112/1112 [00:03&lt;00:00, 392.09it/s]"
          }
        },
        "e59cd21ae60a4d68bdacf441df5e73ff": {
          "model_module": "@jupyter-widgets/base",
          "model_name": "LayoutModel",
          "model_module_version": "1.2.0",
          "state": {
            "_model_module": "@jupyter-widgets/base",
            "_model_module_version": "1.2.0",
            "_model_name": "LayoutModel",
            "_view_count": null,
            "_view_module": "@jupyter-widgets/base",
            "_view_module_version": "1.2.0",
            "_view_name": "LayoutView",
            "align_content": null,
            "align_items": null,
            "align_self": null,
            "border": null,
            "bottom": null,
            "display": null,
            "flex": null,
            "flex_flow": null,
            "grid_area": null,
            "grid_auto_columns": null,
            "grid_auto_flow": null,
            "grid_auto_rows": null,
            "grid_column": null,
            "grid_gap": null,
            "grid_row": null,
            "grid_template_areas": null,
            "grid_template_columns": null,
            "grid_template_rows": null,
            "height": null,
            "justify_content": null,
            "justify_items": null,
            "left": null,
            "margin": null,
            "max_height": null,
            "max_width": null,
            "min_height": null,
            "min_width": null,
            "object_fit": null,
            "object_position": null,
            "order": null,
            "overflow": null,
            "overflow_x": null,
            "overflow_y": null,
            "padding": null,
            "right": null,
            "top": null,
            "visibility": null,
            "width": null
          }
        },
        "3a5b059884d14109adba9d6bfddeae10": {
          "model_module": "@jupyter-widgets/base",
          "model_name": "LayoutModel",
          "model_module_version": "1.2.0",
          "state": {
            "_model_module": "@jupyter-widgets/base",
            "_model_module_version": "1.2.0",
            "_model_name": "LayoutModel",
            "_view_count": null,
            "_view_module": "@jupyter-widgets/base",
            "_view_module_version": "1.2.0",
            "_view_name": "LayoutView",
            "align_content": null,
            "align_items": null,
            "align_self": null,
            "border": null,
            "bottom": null,
            "display": null,
            "flex": null,
            "flex_flow": null,
            "grid_area": null,
            "grid_auto_columns": null,
            "grid_auto_flow": null,
            "grid_auto_rows": null,
            "grid_column": null,
            "grid_gap": null,
            "grid_row": null,
            "grid_template_areas": null,
            "grid_template_columns": null,
            "grid_template_rows": null,
            "height": null,
            "justify_content": null,
            "justify_items": null,
            "left": null,
            "margin": null,
            "max_height": null,
            "max_width": null,
            "min_height": null,
            "min_width": null,
            "object_fit": null,
            "object_position": null,
            "order": null,
            "overflow": null,
            "overflow_x": null,
            "overflow_y": null,
            "padding": null,
            "right": null,
            "top": null,
            "visibility": null,
            "width": null
          }
        },
        "81980e29613147fd9f516201ffb3c9a9": {
          "model_module": "@jupyter-widgets/controls",
          "model_name": "DescriptionStyleModel",
          "model_module_version": "1.5.0",
          "state": {
            "_model_module": "@jupyter-widgets/controls",
            "_model_module_version": "1.5.0",
            "_model_name": "DescriptionStyleModel",
            "_view_count": null,
            "_view_module": "@jupyter-widgets/base",
            "_view_module_version": "1.2.0",
            "_view_name": "StyleView",
            "description_width": ""
          }
        },
        "309b674c71904b24a040db89faf49e53": {
          "model_module": "@jupyter-widgets/base",
          "model_name": "LayoutModel",
          "model_module_version": "1.2.0",
          "state": {
            "_model_module": "@jupyter-widgets/base",
            "_model_module_version": "1.2.0",
            "_model_name": "LayoutModel",
            "_view_count": null,
            "_view_module": "@jupyter-widgets/base",
            "_view_module_version": "1.2.0",
            "_view_name": "LayoutView",
            "align_content": null,
            "align_items": null,
            "align_self": null,
            "border": null,
            "bottom": null,
            "display": null,
            "flex": null,
            "flex_flow": null,
            "grid_area": null,
            "grid_auto_columns": null,
            "grid_auto_flow": null,
            "grid_auto_rows": null,
            "grid_column": null,
            "grid_gap": null,
            "grid_row": null,
            "grid_template_areas": null,
            "grid_template_columns": null,
            "grid_template_rows": null,
            "height": null,
            "justify_content": null,
            "justify_items": null,
            "left": null,
            "margin": null,
            "max_height": null,
            "max_width": null,
            "min_height": null,
            "min_width": null,
            "object_fit": null,
            "object_position": null,
            "order": null,
            "overflow": null,
            "overflow_x": null,
            "overflow_y": null,
            "padding": null,
            "right": null,
            "top": null,
            "visibility": null,
            "width": null
          }
        },
        "078c207d5c094f10878840c9a235fd07": {
          "model_module": "@jupyter-widgets/controls",
          "model_name": "ProgressStyleModel",
          "model_module_version": "1.5.0",
          "state": {
            "_model_module": "@jupyter-widgets/controls",
            "_model_module_version": "1.5.0",
            "_model_name": "ProgressStyleModel",
            "_view_count": null,
            "_view_module": "@jupyter-widgets/base",
            "_view_module_version": "1.2.0",
            "_view_name": "StyleView",
            "bar_color": null,
            "description_width": ""
          }
        },
        "296ecead348b4791b3a547d19ddce90e": {
          "model_module": "@jupyter-widgets/base",
          "model_name": "LayoutModel",
          "model_module_version": "1.2.0",
          "state": {
            "_model_module": "@jupyter-widgets/base",
            "_model_module_version": "1.2.0",
            "_model_name": "LayoutModel",
            "_view_count": null,
            "_view_module": "@jupyter-widgets/base",
            "_view_module_version": "1.2.0",
            "_view_name": "LayoutView",
            "align_content": null,
            "align_items": null,
            "align_self": null,
            "border": null,
            "bottom": null,
            "display": null,
            "flex": null,
            "flex_flow": null,
            "grid_area": null,
            "grid_auto_columns": null,
            "grid_auto_flow": null,
            "grid_auto_rows": null,
            "grid_column": null,
            "grid_gap": null,
            "grid_row": null,
            "grid_template_areas": null,
            "grid_template_columns": null,
            "grid_template_rows": null,
            "height": null,
            "justify_content": null,
            "justify_items": null,
            "left": null,
            "margin": null,
            "max_height": null,
            "max_width": null,
            "min_height": null,
            "min_width": null,
            "object_fit": null,
            "object_position": null,
            "order": null,
            "overflow": null,
            "overflow_x": null,
            "overflow_y": null,
            "padding": null,
            "right": null,
            "top": null,
            "visibility": null,
            "width": null
          }
        },
        "f789fce6b901417e8e7890783566c3f4": {
          "model_module": "@jupyter-widgets/controls",
          "model_name": "DescriptionStyleModel",
          "model_module_version": "1.5.0",
          "state": {
            "_model_module": "@jupyter-widgets/controls",
            "_model_module_version": "1.5.0",
            "_model_name": "DescriptionStyleModel",
            "_view_count": null,
            "_view_module": "@jupyter-widgets/base",
            "_view_module_version": "1.2.0",
            "_view_name": "StyleView",
            "description_width": ""
          }
        },
        "34e12d2e27e74648aebdefdf1307b824": {
          "model_module": "@jupyter-widgets/controls",
          "model_name": "HBoxModel",
          "model_module_version": "1.5.0",
          "state": {
            "_dom_classes": [],
            "_model_module": "@jupyter-widgets/controls",
            "_model_module_version": "1.5.0",
            "_model_name": "HBoxModel",
            "_view_count": null,
            "_view_module": "@jupyter-widgets/controls",
            "_view_module_version": "1.5.0",
            "_view_name": "HBoxView",
            "box_style": "",
            "children": [
              "IPY_MODEL_402a096bd76d4645b5e0becef542af3a",
              "IPY_MODEL_dd172e7358c54325af66c80b75c3d1cd",
              "IPY_MODEL_6011b326431744e2993de3f862a5d7fe"
            ],
            "layout": "IPY_MODEL_53bdcaa8cadd4b48bf2193280fed1410"
          }
        },
        "402a096bd76d4645b5e0becef542af3a": {
          "model_module": "@jupyter-widgets/controls",
          "model_name": "HTMLModel",
          "model_module_version": "1.5.0",
          "state": {
            "_dom_classes": [],
            "_model_module": "@jupyter-widgets/controls",
            "_model_module_version": "1.5.0",
            "_model_name": "HTMLModel",
            "_view_count": null,
            "_view_module": "@jupyter-widgets/controls",
            "_view_module_version": "1.5.0",
            "_view_name": "HTMLView",
            "description": "",
            "description_tooltip": null,
            "layout": "IPY_MODEL_fa4c075ffd70474da1669b0711cb37e0",
            "placeholder": "​",
            "style": "IPY_MODEL_01c41264776b4b339323b1d38285f033",
            "value": "100%"
          }
        },
        "dd172e7358c54325af66c80b75c3d1cd": {
          "model_module": "@jupyter-widgets/controls",
          "model_name": "FloatProgressModel",
          "model_module_version": "1.5.0",
          "state": {
            "_dom_classes": [],
            "_model_module": "@jupyter-widgets/controls",
            "_model_module_version": "1.5.0",
            "_model_name": "FloatProgressModel",
            "_view_count": null,
            "_view_module": "@jupyter-widgets/controls",
            "_view_module_version": "1.5.0",
            "_view_name": "ProgressView",
            "bar_style": "success",
            "description": "",
            "description_tooltip": null,
            "layout": "IPY_MODEL_c75a1676ef464a3e926b51ee3c1c9d17",
            "max": 1112,
            "min": 0,
            "orientation": "horizontal",
            "style": "IPY_MODEL_5d0e21d5750e4d1eadd5595e7f0fbf30",
            "value": 1112
          }
        },
        "6011b326431744e2993de3f862a5d7fe": {
          "model_module": "@jupyter-widgets/controls",
          "model_name": "HTMLModel",
          "model_module_version": "1.5.0",
          "state": {
            "_dom_classes": [],
            "_model_module": "@jupyter-widgets/controls",
            "_model_module_version": "1.5.0",
            "_model_name": "HTMLModel",
            "_view_count": null,
            "_view_module": "@jupyter-widgets/controls",
            "_view_module_version": "1.5.0",
            "_view_name": "HTMLView",
            "description": "",
            "description_tooltip": null,
            "layout": "IPY_MODEL_da5afba3f4894c47abbadfaa5a7a45ee",
            "placeholder": "​",
            "style": "IPY_MODEL_e468debd475543cb91f70e52dc682f8c",
            "value": " 1112/1112 [00:02&lt;00:00, 420.86it/s]"
          }
        },
        "53bdcaa8cadd4b48bf2193280fed1410": {
          "model_module": "@jupyter-widgets/base",
          "model_name": "LayoutModel",
          "model_module_version": "1.2.0",
          "state": {
            "_model_module": "@jupyter-widgets/base",
            "_model_module_version": "1.2.0",
            "_model_name": "LayoutModel",
            "_view_count": null,
            "_view_module": "@jupyter-widgets/base",
            "_view_module_version": "1.2.0",
            "_view_name": "LayoutView",
            "align_content": null,
            "align_items": null,
            "align_self": null,
            "border": null,
            "bottom": null,
            "display": null,
            "flex": null,
            "flex_flow": null,
            "grid_area": null,
            "grid_auto_columns": null,
            "grid_auto_flow": null,
            "grid_auto_rows": null,
            "grid_column": null,
            "grid_gap": null,
            "grid_row": null,
            "grid_template_areas": null,
            "grid_template_columns": null,
            "grid_template_rows": null,
            "height": null,
            "justify_content": null,
            "justify_items": null,
            "left": null,
            "margin": null,
            "max_height": null,
            "max_width": null,
            "min_height": null,
            "min_width": null,
            "object_fit": null,
            "object_position": null,
            "order": null,
            "overflow": null,
            "overflow_x": null,
            "overflow_y": null,
            "padding": null,
            "right": null,
            "top": null,
            "visibility": null,
            "width": null
          }
        },
        "fa4c075ffd70474da1669b0711cb37e0": {
          "model_module": "@jupyter-widgets/base",
          "model_name": "LayoutModel",
          "model_module_version": "1.2.0",
          "state": {
            "_model_module": "@jupyter-widgets/base",
            "_model_module_version": "1.2.0",
            "_model_name": "LayoutModel",
            "_view_count": null,
            "_view_module": "@jupyter-widgets/base",
            "_view_module_version": "1.2.0",
            "_view_name": "LayoutView",
            "align_content": null,
            "align_items": null,
            "align_self": null,
            "border": null,
            "bottom": null,
            "display": null,
            "flex": null,
            "flex_flow": null,
            "grid_area": null,
            "grid_auto_columns": null,
            "grid_auto_flow": null,
            "grid_auto_rows": null,
            "grid_column": null,
            "grid_gap": null,
            "grid_row": null,
            "grid_template_areas": null,
            "grid_template_columns": null,
            "grid_template_rows": null,
            "height": null,
            "justify_content": null,
            "justify_items": null,
            "left": null,
            "margin": null,
            "max_height": null,
            "max_width": null,
            "min_height": null,
            "min_width": null,
            "object_fit": null,
            "object_position": null,
            "order": null,
            "overflow": null,
            "overflow_x": null,
            "overflow_y": null,
            "padding": null,
            "right": null,
            "top": null,
            "visibility": null,
            "width": null
          }
        },
        "01c41264776b4b339323b1d38285f033": {
          "model_module": "@jupyter-widgets/controls",
          "model_name": "DescriptionStyleModel",
          "model_module_version": "1.5.0",
          "state": {
            "_model_module": "@jupyter-widgets/controls",
            "_model_module_version": "1.5.0",
            "_model_name": "DescriptionStyleModel",
            "_view_count": null,
            "_view_module": "@jupyter-widgets/base",
            "_view_module_version": "1.2.0",
            "_view_name": "StyleView",
            "description_width": ""
          }
        },
        "c75a1676ef464a3e926b51ee3c1c9d17": {
          "model_module": "@jupyter-widgets/base",
          "model_name": "LayoutModel",
          "model_module_version": "1.2.0",
          "state": {
            "_model_module": "@jupyter-widgets/base",
            "_model_module_version": "1.2.0",
            "_model_name": "LayoutModel",
            "_view_count": null,
            "_view_module": "@jupyter-widgets/base",
            "_view_module_version": "1.2.0",
            "_view_name": "LayoutView",
            "align_content": null,
            "align_items": null,
            "align_self": null,
            "border": null,
            "bottom": null,
            "display": null,
            "flex": null,
            "flex_flow": null,
            "grid_area": null,
            "grid_auto_columns": null,
            "grid_auto_flow": null,
            "grid_auto_rows": null,
            "grid_column": null,
            "grid_gap": null,
            "grid_row": null,
            "grid_template_areas": null,
            "grid_template_columns": null,
            "grid_template_rows": null,
            "height": null,
            "justify_content": null,
            "justify_items": null,
            "left": null,
            "margin": null,
            "max_height": null,
            "max_width": null,
            "min_height": null,
            "min_width": null,
            "object_fit": null,
            "object_position": null,
            "order": null,
            "overflow": null,
            "overflow_x": null,
            "overflow_y": null,
            "padding": null,
            "right": null,
            "top": null,
            "visibility": null,
            "width": null
          }
        },
        "5d0e21d5750e4d1eadd5595e7f0fbf30": {
          "model_module": "@jupyter-widgets/controls",
          "model_name": "ProgressStyleModel",
          "model_module_version": "1.5.0",
          "state": {
            "_model_module": "@jupyter-widgets/controls",
            "_model_module_version": "1.5.0",
            "_model_name": "ProgressStyleModel",
            "_view_count": null,
            "_view_module": "@jupyter-widgets/base",
            "_view_module_version": "1.2.0",
            "_view_name": "StyleView",
            "bar_color": null,
            "description_width": ""
          }
        },
        "da5afba3f4894c47abbadfaa5a7a45ee": {
          "model_module": "@jupyter-widgets/base",
          "model_name": "LayoutModel",
          "model_module_version": "1.2.0",
          "state": {
            "_model_module": "@jupyter-widgets/base",
            "_model_module_version": "1.2.0",
            "_model_name": "LayoutModel",
            "_view_count": null,
            "_view_module": "@jupyter-widgets/base",
            "_view_module_version": "1.2.0",
            "_view_name": "LayoutView",
            "align_content": null,
            "align_items": null,
            "align_self": null,
            "border": null,
            "bottom": null,
            "display": null,
            "flex": null,
            "flex_flow": null,
            "grid_area": null,
            "grid_auto_columns": null,
            "grid_auto_flow": null,
            "grid_auto_rows": null,
            "grid_column": null,
            "grid_gap": null,
            "grid_row": null,
            "grid_template_areas": null,
            "grid_template_columns": null,
            "grid_template_rows": null,
            "height": null,
            "justify_content": null,
            "justify_items": null,
            "left": null,
            "margin": null,
            "max_height": null,
            "max_width": null,
            "min_height": null,
            "min_width": null,
            "object_fit": null,
            "object_position": null,
            "order": null,
            "overflow": null,
            "overflow_x": null,
            "overflow_y": null,
            "padding": null,
            "right": null,
            "top": null,
            "visibility": null,
            "width": null
          }
        },
        "e468debd475543cb91f70e52dc682f8c": {
          "model_module": "@jupyter-widgets/controls",
          "model_name": "DescriptionStyleModel",
          "model_module_version": "1.5.0",
          "state": {
            "_model_module": "@jupyter-widgets/controls",
            "_model_module_version": "1.5.0",
            "_model_name": "DescriptionStyleModel",
            "_view_count": null,
            "_view_module": "@jupyter-widgets/base",
            "_view_module_version": "1.2.0",
            "_view_name": "StyleView",
            "description_width": ""
          }
        },
        "b52d673b49b24c9188c953a404e1a108": {
          "model_module": "@jupyter-widgets/controls",
          "model_name": "HBoxModel",
          "model_module_version": "1.5.0",
          "state": {
            "_dom_classes": [],
            "_model_module": "@jupyter-widgets/controls",
            "_model_module_version": "1.5.0",
            "_model_name": "HBoxModel",
            "_view_count": null,
            "_view_module": "@jupyter-widgets/controls",
            "_view_module_version": "1.5.0",
            "_view_name": "HBoxView",
            "box_style": "",
            "children": [
              "IPY_MODEL_4965803d9e554f89a5d0a8c38bc3d1a4",
              "IPY_MODEL_999a7ab631da4c10aff8fb72a39c4c49",
              "IPY_MODEL_1b1960a8c2fc429b83456580635f4491"
            ],
            "layout": "IPY_MODEL_ea51607f43174746a59600e7779e0b76"
          }
        },
        "4965803d9e554f89a5d0a8c38bc3d1a4": {
          "model_module": "@jupyter-widgets/controls",
          "model_name": "HTMLModel",
          "model_module_version": "1.5.0",
          "state": {
            "_dom_classes": [],
            "_model_module": "@jupyter-widgets/controls",
            "_model_module_version": "1.5.0",
            "_model_name": "HTMLModel",
            "_view_count": null,
            "_view_module": "@jupyter-widgets/controls",
            "_view_module_version": "1.5.0",
            "_view_name": "HTMLView",
            "description": "",
            "description_tooltip": null,
            "layout": "IPY_MODEL_4b40ff20281d44d2bb7b3be2c4aa014c",
            "placeholder": "​",
            "style": "IPY_MODEL_e796f478105a48fdb90635350fa1dece",
            "value": "100%"
          }
        },
        "999a7ab631da4c10aff8fb72a39c4c49": {
          "model_module": "@jupyter-widgets/controls",
          "model_name": "FloatProgressModel",
          "model_module_version": "1.5.0",
          "state": {
            "_dom_classes": [],
            "_model_module": "@jupyter-widgets/controls",
            "_model_module_version": "1.5.0",
            "_model_name": "FloatProgressModel",
            "_view_count": null,
            "_view_module": "@jupyter-widgets/controls",
            "_view_module_version": "1.5.0",
            "_view_name": "ProgressView",
            "bar_style": "success",
            "description": "",
            "description_tooltip": null,
            "layout": "IPY_MODEL_70d9e97ad7da437fa34323f51c2cb532",
            "max": 146645,
            "min": 0,
            "orientation": "horizontal",
            "style": "IPY_MODEL_3a760b9b9b6d43c1a001b544102b4012",
            "value": 146645
          }
        },
        "1b1960a8c2fc429b83456580635f4491": {
          "model_module": "@jupyter-widgets/controls",
          "model_name": "HTMLModel",
          "model_module_version": "1.5.0",
          "state": {
            "_dom_classes": [],
            "_model_module": "@jupyter-widgets/controls",
            "_model_module_version": "1.5.0",
            "_model_name": "HTMLModel",
            "_view_count": null,
            "_view_module": "@jupyter-widgets/controls",
            "_view_module_version": "1.5.0",
            "_view_name": "HTMLView",
            "description": "",
            "description_tooltip": null,
            "layout": "IPY_MODEL_24e7251a62824182b4973bea05cf9c69",
            "placeholder": "​",
            "style": "IPY_MODEL_0084b86e1332420ca44cce966015cfbc",
            "value": " 146645/146645 [00:55&lt;00:00, 4079.79it/s]"
          }
        },
        "ea51607f43174746a59600e7779e0b76": {
          "model_module": "@jupyter-widgets/base",
          "model_name": "LayoutModel",
          "model_module_version": "1.2.0",
          "state": {
            "_model_module": "@jupyter-widgets/base",
            "_model_module_version": "1.2.0",
            "_model_name": "LayoutModel",
            "_view_count": null,
            "_view_module": "@jupyter-widgets/base",
            "_view_module_version": "1.2.0",
            "_view_name": "LayoutView",
            "align_content": null,
            "align_items": null,
            "align_self": null,
            "border": null,
            "bottom": null,
            "display": null,
            "flex": null,
            "flex_flow": null,
            "grid_area": null,
            "grid_auto_columns": null,
            "grid_auto_flow": null,
            "grid_auto_rows": null,
            "grid_column": null,
            "grid_gap": null,
            "grid_row": null,
            "grid_template_areas": null,
            "grid_template_columns": null,
            "grid_template_rows": null,
            "height": null,
            "justify_content": null,
            "justify_items": null,
            "left": null,
            "margin": null,
            "max_height": null,
            "max_width": null,
            "min_height": null,
            "min_width": null,
            "object_fit": null,
            "object_position": null,
            "order": null,
            "overflow": null,
            "overflow_x": null,
            "overflow_y": null,
            "padding": null,
            "right": null,
            "top": null,
            "visibility": null,
            "width": null
          }
        },
        "4b40ff20281d44d2bb7b3be2c4aa014c": {
          "model_module": "@jupyter-widgets/base",
          "model_name": "LayoutModel",
          "model_module_version": "1.2.0",
          "state": {
            "_model_module": "@jupyter-widgets/base",
            "_model_module_version": "1.2.0",
            "_model_name": "LayoutModel",
            "_view_count": null,
            "_view_module": "@jupyter-widgets/base",
            "_view_module_version": "1.2.0",
            "_view_name": "LayoutView",
            "align_content": null,
            "align_items": null,
            "align_self": null,
            "border": null,
            "bottom": null,
            "display": null,
            "flex": null,
            "flex_flow": null,
            "grid_area": null,
            "grid_auto_columns": null,
            "grid_auto_flow": null,
            "grid_auto_rows": null,
            "grid_column": null,
            "grid_gap": null,
            "grid_row": null,
            "grid_template_areas": null,
            "grid_template_columns": null,
            "grid_template_rows": null,
            "height": null,
            "justify_content": null,
            "justify_items": null,
            "left": null,
            "margin": null,
            "max_height": null,
            "max_width": null,
            "min_height": null,
            "min_width": null,
            "object_fit": null,
            "object_position": null,
            "order": null,
            "overflow": null,
            "overflow_x": null,
            "overflow_y": null,
            "padding": null,
            "right": null,
            "top": null,
            "visibility": null,
            "width": null
          }
        },
        "e796f478105a48fdb90635350fa1dece": {
          "model_module": "@jupyter-widgets/controls",
          "model_name": "DescriptionStyleModel",
          "model_module_version": "1.5.0",
          "state": {
            "_model_module": "@jupyter-widgets/controls",
            "_model_module_version": "1.5.0",
            "_model_name": "DescriptionStyleModel",
            "_view_count": null,
            "_view_module": "@jupyter-widgets/base",
            "_view_module_version": "1.2.0",
            "_view_name": "StyleView",
            "description_width": ""
          }
        },
        "70d9e97ad7da437fa34323f51c2cb532": {
          "model_module": "@jupyter-widgets/base",
          "model_name": "LayoutModel",
          "model_module_version": "1.2.0",
          "state": {
            "_model_module": "@jupyter-widgets/base",
            "_model_module_version": "1.2.0",
            "_model_name": "LayoutModel",
            "_view_count": null,
            "_view_module": "@jupyter-widgets/base",
            "_view_module_version": "1.2.0",
            "_view_name": "LayoutView",
            "align_content": null,
            "align_items": null,
            "align_self": null,
            "border": null,
            "bottom": null,
            "display": null,
            "flex": null,
            "flex_flow": null,
            "grid_area": null,
            "grid_auto_columns": null,
            "grid_auto_flow": null,
            "grid_auto_rows": null,
            "grid_column": null,
            "grid_gap": null,
            "grid_row": null,
            "grid_template_areas": null,
            "grid_template_columns": null,
            "grid_template_rows": null,
            "height": null,
            "justify_content": null,
            "justify_items": null,
            "left": null,
            "margin": null,
            "max_height": null,
            "max_width": null,
            "min_height": null,
            "min_width": null,
            "object_fit": null,
            "object_position": null,
            "order": null,
            "overflow": null,
            "overflow_x": null,
            "overflow_y": null,
            "padding": null,
            "right": null,
            "top": null,
            "visibility": null,
            "width": null
          }
        },
        "3a760b9b9b6d43c1a001b544102b4012": {
          "model_module": "@jupyter-widgets/controls",
          "model_name": "ProgressStyleModel",
          "model_module_version": "1.5.0",
          "state": {
            "_model_module": "@jupyter-widgets/controls",
            "_model_module_version": "1.5.0",
            "_model_name": "ProgressStyleModel",
            "_view_count": null,
            "_view_module": "@jupyter-widgets/base",
            "_view_module_version": "1.2.0",
            "_view_name": "StyleView",
            "bar_color": null,
            "description_width": ""
          }
        },
        "24e7251a62824182b4973bea05cf9c69": {
          "model_module": "@jupyter-widgets/base",
          "model_name": "LayoutModel",
          "model_module_version": "1.2.0",
          "state": {
            "_model_module": "@jupyter-widgets/base",
            "_model_module_version": "1.2.0",
            "_model_name": "LayoutModel",
            "_view_count": null,
            "_view_module": "@jupyter-widgets/base",
            "_view_module_version": "1.2.0",
            "_view_name": "LayoutView",
            "align_content": null,
            "align_items": null,
            "align_self": null,
            "border": null,
            "bottom": null,
            "display": null,
            "flex": null,
            "flex_flow": null,
            "grid_area": null,
            "grid_auto_columns": null,
            "grid_auto_flow": null,
            "grid_auto_rows": null,
            "grid_column": null,
            "grid_gap": null,
            "grid_row": null,
            "grid_template_areas": null,
            "grid_template_columns": null,
            "grid_template_rows": null,
            "height": null,
            "justify_content": null,
            "justify_items": null,
            "left": null,
            "margin": null,
            "max_height": null,
            "max_width": null,
            "min_height": null,
            "min_width": null,
            "object_fit": null,
            "object_position": null,
            "order": null,
            "overflow": null,
            "overflow_x": null,
            "overflow_y": null,
            "padding": null,
            "right": null,
            "top": null,
            "visibility": null,
            "width": null
          }
        },
        "0084b86e1332420ca44cce966015cfbc": {
          "model_module": "@jupyter-widgets/controls",
          "model_name": "DescriptionStyleModel",
          "model_module_version": "1.5.0",
          "state": {
            "_model_module": "@jupyter-widgets/controls",
            "_model_module_version": "1.5.0",
            "_model_name": "DescriptionStyleModel",
            "_view_count": null,
            "_view_module": "@jupyter-widgets/base",
            "_view_module_version": "1.2.0",
            "_view_name": "StyleView",
            "description_width": ""
          }
        },
        "ad2e993e55a240a49545438fdde23865": {
          "model_module": "@jupyter-widgets/controls",
          "model_name": "HBoxModel",
          "model_module_version": "1.5.0",
          "state": {
            "_dom_classes": [],
            "_model_module": "@jupyter-widgets/controls",
            "_model_module_version": "1.5.0",
            "_model_name": "HBoxModel",
            "_view_count": null,
            "_view_module": "@jupyter-widgets/controls",
            "_view_module_version": "1.5.0",
            "_view_name": "HBoxView",
            "box_style": "",
            "children": [
              "IPY_MODEL_1bea86de33da435dbc71c43bba0cc15e",
              "IPY_MODEL_ee573e4b30a64317a537c7efa6bbce0d",
              "IPY_MODEL_c9a7246a16d74c359ba52e87b1585c51"
            ],
            "layout": "IPY_MODEL_d1d76019284642e69962d0d5b19e3811"
          }
        },
        "1bea86de33da435dbc71c43bba0cc15e": {
          "model_module": "@jupyter-widgets/controls",
          "model_name": "HTMLModel",
          "model_module_version": "1.5.0",
          "state": {
            "_dom_classes": [],
            "_model_module": "@jupyter-widgets/controls",
            "_model_module_version": "1.5.0",
            "_model_name": "HTMLModel",
            "_view_count": null,
            "_view_module": "@jupyter-widgets/controls",
            "_view_module_version": "1.5.0",
            "_view_name": "HTMLView",
            "description": "",
            "description_tooltip": null,
            "layout": "IPY_MODEL_88dc1a24c204400985a78de3f8ab0b5a",
            "placeholder": "​",
            "style": "IPY_MODEL_cdc609dcae0e48e7a533e75c582bedfd",
            "value": "100%"
          }
        },
        "ee573e4b30a64317a537c7efa6bbce0d": {
          "model_module": "@jupyter-widgets/controls",
          "model_name": "FloatProgressModel",
          "model_module_version": "1.5.0",
          "state": {
            "_dom_classes": [],
            "_model_module": "@jupyter-widgets/controls",
            "_model_module_version": "1.5.0",
            "_model_name": "FloatProgressModel",
            "_view_count": null,
            "_view_module": "@jupyter-widgets/controls",
            "_view_module_version": "1.5.0",
            "_view_name": "ProgressView",
            "bar_style": "success",
            "description": "",
            "description_tooltip": null,
            "layout": "IPY_MODEL_15222266dff840baad0091eb160f205f",
            "max": 1112,
            "min": 0,
            "orientation": "horizontal",
            "style": "IPY_MODEL_03eebed96fdb4dd0b13886c9957fed2d",
            "value": 1112
          }
        },
        "c9a7246a16d74c359ba52e87b1585c51": {
          "model_module": "@jupyter-widgets/controls",
          "model_name": "HTMLModel",
          "model_module_version": "1.5.0",
          "state": {
            "_dom_classes": [],
            "_model_module": "@jupyter-widgets/controls",
            "_model_module_version": "1.5.0",
            "_model_name": "HTMLModel",
            "_view_count": null,
            "_view_module": "@jupyter-widgets/controls",
            "_view_module_version": "1.5.0",
            "_view_name": "HTMLView",
            "description": "",
            "description_tooltip": null,
            "layout": "IPY_MODEL_b457bbc2d53548a892a1dfd429b0f6e0",
            "placeholder": "​",
            "style": "IPY_MODEL_10d599256bf0411a92d09a51c3f65f5e",
            "value": " 1112/1112 [01:05&lt;00:00, 18.41it/s]"
          }
        },
        "d1d76019284642e69962d0d5b19e3811": {
          "model_module": "@jupyter-widgets/base",
          "model_name": "LayoutModel",
          "model_module_version": "1.2.0",
          "state": {
            "_model_module": "@jupyter-widgets/base",
            "_model_module_version": "1.2.0",
            "_model_name": "LayoutModel",
            "_view_count": null,
            "_view_module": "@jupyter-widgets/base",
            "_view_module_version": "1.2.0",
            "_view_name": "LayoutView",
            "align_content": null,
            "align_items": null,
            "align_self": null,
            "border": null,
            "bottom": null,
            "display": null,
            "flex": null,
            "flex_flow": null,
            "grid_area": null,
            "grid_auto_columns": null,
            "grid_auto_flow": null,
            "grid_auto_rows": null,
            "grid_column": null,
            "grid_gap": null,
            "grid_row": null,
            "grid_template_areas": null,
            "grid_template_columns": null,
            "grid_template_rows": null,
            "height": null,
            "justify_content": null,
            "justify_items": null,
            "left": null,
            "margin": null,
            "max_height": null,
            "max_width": null,
            "min_height": null,
            "min_width": null,
            "object_fit": null,
            "object_position": null,
            "order": null,
            "overflow": null,
            "overflow_x": null,
            "overflow_y": null,
            "padding": null,
            "right": null,
            "top": null,
            "visibility": null,
            "width": null
          }
        },
        "88dc1a24c204400985a78de3f8ab0b5a": {
          "model_module": "@jupyter-widgets/base",
          "model_name": "LayoutModel",
          "model_module_version": "1.2.0",
          "state": {
            "_model_module": "@jupyter-widgets/base",
            "_model_module_version": "1.2.0",
            "_model_name": "LayoutModel",
            "_view_count": null,
            "_view_module": "@jupyter-widgets/base",
            "_view_module_version": "1.2.0",
            "_view_name": "LayoutView",
            "align_content": null,
            "align_items": null,
            "align_self": null,
            "border": null,
            "bottom": null,
            "display": null,
            "flex": null,
            "flex_flow": null,
            "grid_area": null,
            "grid_auto_columns": null,
            "grid_auto_flow": null,
            "grid_auto_rows": null,
            "grid_column": null,
            "grid_gap": null,
            "grid_row": null,
            "grid_template_areas": null,
            "grid_template_columns": null,
            "grid_template_rows": null,
            "height": null,
            "justify_content": null,
            "justify_items": null,
            "left": null,
            "margin": null,
            "max_height": null,
            "max_width": null,
            "min_height": null,
            "min_width": null,
            "object_fit": null,
            "object_position": null,
            "order": null,
            "overflow": null,
            "overflow_x": null,
            "overflow_y": null,
            "padding": null,
            "right": null,
            "top": null,
            "visibility": null,
            "width": null
          }
        },
        "cdc609dcae0e48e7a533e75c582bedfd": {
          "model_module": "@jupyter-widgets/controls",
          "model_name": "DescriptionStyleModel",
          "model_module_version": "1.5.0",
          "state": {
            "_model_module": "@jupyter-widgets/controls",
            "_model_module_version": "1.5.0",
            "_model_name": "DescriptionStyleModel",
            "_view_count": null,
            "_view_module": "@jupyter-widgets/base",
            "_view_module_version": "1.2.0",
            "_view_name": "StyleView",
            "description_width": ""
          }
        },
        "15222266dff840baad0091eb160f205f": {
          "model_module": "@jupyter-widgets/base",
          "model_name": "LayoutModel",
          "model_module_version": "1.2.0",
          "state": {
            "_model_module": "@jupyter-widgets/base",
            "_model_module_version": "1.2.0",
            "_model_name": "LayoutModel",
            "_view_count": null,
            "_view_module": "@jupyter-widgets/base",
            "_view_module_version": "1.2.0",
            "_view_name": "LayoutView",
            "align_content": null,
            "align_items": null,
            "align_self": null,
            "border": null,
            "bottom": null,
            "display": null,
            "flex": null,
            "flex_flow": null,
            "grid_area": null,
            "grid_auto_columns": null,
            "grid_auto_flow": null,
            "grid_auto_rows": null,
            "grid_column": null,
            "grid_gap": null,
            "grid_row": null,
            "grid_template_areas": null,
            "grid_template_columns": null,
            "grid_template_rows": null,
            "height": null,
            "justify_content": null,
            "justify_items": null,
            "left": null,
            "margin": null,
            "max_height": null,
            "max_width": null,
            "min_height": null,
            "min_width": null,
            "object_fit": null,
            "object_position": null,
            "order": null,
            "overflow": null,
            "overflow_x": null,
            "overflow_y": null,
            "padding": null,
            "right": null,
            "top": null,
            "visibility": null,
            "width": null
          }
        },
        "03eebed96fdb4dd0b13886c9957fed2d": {
          "model_module": "@jupyter-widgets/controls",
          "model_name": "ProgressStyleModel",
          "model_module_version": "1.5.0",
          "state": {
            "_model_module": "@jupyter-widgets/controls",
            "_model_module_version": "1.5.0",
            "_model_name": "ProgressStyleModel",
            "_view_count": null,
            "_view_module": "@jupyter-widgets/base",
            "_view_module_version": "1.2.0",
            "_view_name": "StyleView",
            "bar_color": null,
            "description_width": ""
          }
        },
        "b457bbc2d53548a892a1dfd429b0f6e0": {
          "model_module": "@jupyter-widgets/base",
          "model_name": "LayoutModel",
          "model_module_version": "1.2.0",
          "state": {
            "_model_module": "@jupyter-widgets/base",
            "_model_module_version": "1.2.0",
            "_model_name": "LayoutModel",
            "_view_count": null,
            "_view_module": "@jupyter-widgets/base",
            "_view_module_version": "1.2.0",
            "_view_name": "LayoutView",
            "align_content": null,
            "align_items": null,
            "align_self": null,
            "border": null,
            "bottom": null,
            "display": null,
            "flex": null,
            "flex_flow": null,
            "grid_area": null,
            "grid_auto_columns": null,
            "grid_auto_flow": null,
            "grid_auto_rows": null,
            "grid_column": null,
            "grid_gap": null,
            "grid_row": null,
            "grid_template_areas": null,
            "grid_template_columns": null,
            "grid_template_rows": null,
            "height": null,
            "justify_content": null,
            "justify_items": null,
            "left": null,
            "margin": null,
            "max_height": null,
            "max_width": null,
            "min_height": null,
            "min_width": null,
            "object_fit": null,
            "object_position": null,
            "order": null,
            "overflow": null,
            "overflow_x": null,
            "overflow_y": null,
            "padding": null,
            "right": null,
            "top": null,
            "visibility": null,
            "width": null
          }
        },
        "10d599256bf0411a92d09a51c3f65f5e": {
          "model_module": "@jupyter-widgets/controls",
          "model_name": "DescriptionStyleModel",
          "model_module_version": "1.5.0",
          "state": {
            "_model_module": "@jupyter-widgets/controls",
            "_model_module_version": "1.5.0",
            "_model_name": "DescriptionStyleModel",
            "_view_count": null,
            "_view_module": "@jupyter-widgets/base",
            "_view_module_version": "1.2.0",
            "_view_name": "StyleView",
            "description_width": ""
          }
        }
      }
    }
  },
  "cells": [
    {
      "cell_type": "markdown",
      "metadata": {
        "id": "view-in-github",
        "colab_type": "text"
      },
      "source": [
        "<a href=\"https://colab.research.google.com/github/AlexeyTri/MLSeminars/blob/main/MLHSE/%D0%97%D0%B0%D0%BD%D1%8F%D1%82%D0%B8%D0%B5_13_RecSys.ipynb\" target=\"_parent\"><img src=\"https://colab.research.google.com/assets/colab-badge.svg\" alt=\"Open In Colab\"/></a>"
      ]
    },
    {
      "cell_type": "code",
      "execution_count": 43,
      "metadata": {
        "colab": {
          "base_uri": "https://localhost:8080/"
        },
        "id": "pWvW8ZQ4HNDu",
        "outputId": "ca067dbb-d534-40da-8a01-fa0c47ff2f79"
      },
      "outputs": [
        {
          "output_type": "stream",
          "name": "stdout",
          "text": [
            "Populating the interactive namespace from numpy and matplotlib\n"
          ]
        },
        {
          "output_type": "stream",
          "name": "stderr",
          "text": [
            "/usr/local/lib/python3.9/dist-packages/IPython/core/magics/pylab.py:159: UserWarning: pylab import has clobbered these variables: ['svd']\n",
            "`%matplotlib` prevents importing * from pylab and numpy\n",
            "  warn(\"pylab import has clobbered these variables: %s\"  % clobbered +\n"
          ]
        }
      ],
      "source": [
        "%pylab inline\n",
        "\n",
        "import numpy as np\n",
        "import pandas as pd\n",
        "import math\n",
        "\n",
        "from tqdm import tqdm_notebook"
      ]
    },
    {
      "cell_type": "code",
      "source": [
        "!pip install --user kaggle"
      ],
      "metadata": {
        "colab": {
          "base_uri": "https://localhost:8080/"
        },
        "id": "N0sno7nIIjAj",
        "outputId": "8f90d0d9-bc65-4e18-af68-33b567d6f442"
      },
      "execution_count": null,
      "outputs": [
        {
          "output_type": "stream",
          "name": "stdout",
          "text": [
            "Looking in indexes: https://pypi.org/simple, https://us-python.pkg.dev/colab-wheels/public/simple/\n",
            "Requirement already satisfied: kaggle in /usr/local/lib/python3.9/dist-packages (1.5.13)\n",
            "Requirement already satisfied: tqdm in /usr/local/lib/python3.9/dist-packages (from kaggle) (4.65.0)\n",
            "Requirement already satisfied: certifi in /usr/local/lib/python3.9/dist-packages (from kaggle) (2022.12.7)\n",
            "Requirement already satisfied: python-dateutil in /usr/local/lib/python3.9/dist-packages (from kaggle) (2.8.2)\n",
            "Requirement already satisfied: urllib3 in /usr/local/lib/python3.9/dist-packages (from kaggle) (1.26.15)\n",
            "Requirement already satisfied: python-slugify in /usr/local/lib/python3.9/dist-packages (from kaggle) (8.0.1)\n",
            "Requirement already satisfied: six>=1.10 in /usr/local/lib/python3.9/dist-packages (from kaggle) (1.15.0)\n",
            "Requirement already satisfied: requests in /usr/local/lib/python3.9/dist-packages (from kaggle) (2.25.1)\n",
            "Requirement already satisfied: text-unidecode>=1.3 in /usr/local/lib/python3.9/dist-packages (from python-slugify->kaggle) (1.3)\n",
            "Requirement already satisfied: chardet<5,>=3.0.2 in /usr/local/lib/python3.9/dist-packages (from requests->kaggle) (4.0.0)\n",
            "Requirement already satisfied: idna<3,>=2.5 in /usr/local/lib/python3.9/dist-packages (from requests->kaggle) (2.10)\n"
          ]
        }
      ]
    },
    {
      "cell_type": "code",
      "source": [
        "from google.colab import files\n",
        "\n",
        "uploaded = files.upload()\n",
        "\n",
        "for fn in uploaded.keys():\n",
        "    print('User upload file \"{name}\" with lenght {lenght} bytes'.format(name=fn, lenght=len(uploaded[fn])))\n",
        "\n",
        "!mkdir -p ~/.kaggle/ && mv kaggle.json ~/.kaggle/ && chmod 600 ~/.kaggle/kaggle.json"
      ],
      "metadata": {
        "colab": {
          "base_uri": "https://localhost:8080/",
          "height": 91
        },
        "id": "TmU13ls0IpZk",
        "outputId": "208dc433-fb9d-461b-8339-5c5befc94f7f"
      },
      "execution_count": null,
      "outputs": [
        {
          "output_type": "display_data",
          "data": {
            "text/plain": [
              "<IPython.core.display.HTML object>"
            ],
            "text/html": [
              "\n",
              "     <input type=\"file\" id=\"files-97c01233-ed86-428f-b4f7-787235e22205\" name=\"files[]\" multiple disabled\n",
              "        style=\"border:none\" />\n",
              "     <output id=\"result-97c01233-ed86-428f-b4f7-787235e22205\">\n",
              "      Upload widget is only available when the cell has been executed in the\n",
              "      current browser session. Please rerun this cell to enable.\n",
              "      </output>\n",
              "      <script>// Copyright 2017 Google LLC\n",
              "//\n",
              "// Licensed under the Apache License, Version 2.0 (the \"License\");\n",
              "// you may not use this file except in compliance with the License.\n",
              "// You may obtain a copy of the License at\n",
              "//\n",
              "//      http://www.apache.org/licenses/LICENSE-2.0\n",
              "//\n",
              "// Unless required by applicable law or agreed to in writing, software\n",
              "// distributed under the License is distributed on an \"AS IS\" BASIS,\n",
              "// WITHOUT WARRANTIES OR CONDITIONS OF ANY KIND, either express or implied.\n",
              "// See the License for the specific language governing permissions and\n",
              "// limitations under the License.\n",
              "\n",
              "/**\n",
              " * @fileoverview Helpers for google.colab Python module.\n",
              " */\n",
              "(function(scope) {\n",
              "function span(text, styleAttributes = {}) {\n",
              "  const element = document.createElement('span');\n",
              "  element.textContent = text;\n",
              "  for (const key of Object.keys(styleAttributes)) {\n",
              "    element.style[key] = styleAttributes[key];\n",
              "  }\n",
              "  return element;\n",
              "}\n",
              "\n",
              "// Max number of bytes which will be uploaded at a time.\n",
              "const MAX_PAYLOAD_SIZE = 100 * 1024;\n",
              "\n",
              "function _uploadFiles(inputId, outputId) {\n",
              "  const steps = uploadFilesStep(inputId, outputId);\n",
              "  const outputElement = document.getElementById(outputId);\n",
              "  // Cache steps on the outputElement to make it available for the next call\n",
              "  // to uploadFilesContinue from Python.\n",
              "  outputElement.steps = steps;\n",
              "\n",
              "  return _uploadFilesContinue(outputId);\n",
              "}\n",
              "\n",
              "// This is roughly an async generator (not supported in the browser yet),\n",
              "// where there are multiple asynchronous steps and the Python side is going\n",
              "// to poll for completion of each step.\n",
              "// This uses a Promise to block the python side on completion of each step,\n",
              "// then passes the result of the previous step as the input to the next step.\n",
              "function _uploadFilesContinue(outputId) {\n",
              "  const outputElement = document.getElementById(outputId);\n",
              "  const steps = outputElement.steps;\n",
              "\n",
              "  const next = steps.next(outputElement.lastPromiseValue);\n",
              "  return Promise.resolve(next.value.promise).then((value) => {\n",
              "    // Cache the last promise value to make it available to the next\n",
              "    // step of the generator.\n",
              "    outputElement.lastPromiseValue = value;\n",
              "    return next.value.response;\n",
              "  });\n",
              "}\n",
              "\n",
              "/**\n",
              " * Generator function which is called between each async step of the upload\n",
              " * process.\n",
              " * @param {string} inputId Element ID of the input file picker element.\n",
              " * @param {string} outputId Element ID of the output display.\n",
              " * @return {!Iterable<!Object>} Iterable of next steps.\n",
              " */\n",
              "function* uploadFilesStep(inputId, outputId) {\n",
              "  const inputElement = document.getElementById(inputId);\n",
              "  inputElement.disabled = false;\n",
              "\n",
              "  const outputElement = document.getElementById(outputId);\n",
              "  outputElement.innerHTML = '';\n",
              "\n",
              "  const pickedPromise = new Promise((resolve) => {\n",
              "    inputElement.addEventListener('change', (e) => {\n",
              "      resolve(e.target.files);\n",
              "    });\n",
              "  });\n",
              "\n",
              "  const cancel = document.createElement('button');\n",
              "  inputElement.parentElement.appendChild(cancel);\n",
              "  cancel.textContent = 'Cancel upload';\n",
              "  const cancelPromise = new Promise((resolve) => {\n",
              "    cancel.onclick = () => {\n",
              "      resolve(null);\n",
              "    };\n",
              "  });\n",
              "\n",
              "  // Wait for the user to pick the files.\n",
              "  const files = yield {\n",
              "    promise: Promise.race([pickedPromise, cancelPromise]),\n",
              "    response: {\n",
              "      action: 'starting',\n",
              "    }\n",
              "  };\n",
              "\n",
              "  cancel.remove();\n",
              "\n",
              "  // Disable the input element since further picks are not allowed.\n",
              "  inputElement.disabled = true;\n",
              "\n",
              "  if (!files) {\n",
              "    return {\n",
              "      response: {\n",
              "        action: 'complete',\n",
              "      }\n",
              "    };\n",
              "  }\n",
              "\n",
              "  for (const file of files) {\n",
              "    const li = document.createElement('li');\n",
              "    li.append(span(file.name, {fontWeight: 'bold'}));\n",
              "    li.append(span(\n",
              "        `(${file.type || 'n/a'}) - ${file.size} bytes, ` +\n",
              "        `last modified: ${\n",
              "            file.lastModifiedDate ? file.lastModifiedDate.toLocaleDateString() :\n",
              "                                    'n/a'} - `));\n",
              "    const percent = span('0% done');\n",
              "    li.appendChild(percent);\n",
              "\n",
              "    outputElement.appendChild(li);\n",
              "\n",
              "    const fileDataPromise = new Promise((resolve) => {\n",
              "      const reader = new FileReader();\n",
              "      reader.onload = (e) => {\n",
              "        resolve(e.target.result);\n",
              "      };\n",
              "      reader.readAsArrayBuffer(file);\n",
              "    });\n",
              "    // Wait for the data to be ready.\n",
              "    let fileData = yield {\n",
              "      promise: fileDataPromise,\n",
              "      response: {\n",
              "        action: 'continue',\n",
              "      }\n",
              "    };\n",
              "\n",
              "    // Use a chunked sending to avoid message size limits. See b/62115660.\n",
              "    let position = 0;\n",
              "    do {\n",
              "      const length = Math.min(fileData.byteLength - position, MAX_PAYLOAD_SIZE);\n",
              "      const chunk = new Uint8Array(fileData, position, length);\n",
              "      position += length;\n",
              "\n",
              "      const base64 = btoa(String.fromCharCode.apply(null, chunk));\n",
              "      yield {\n",
              "        response: {\n",
              "          action: 'append',\n",
              "          file: file.name,\n",
              "          data: base64,\n",
              "        },\n",
              "      };\n",
              "\n",
              "      let percentDone = fileData.byteLength === 0 ?\n",
              "          100 :\n",
              "          Math.round((position / fileData.byteLength) * 100);\n",
              "      percent.textContent = `${percentDone}% done`;\n",
              "\n",
              "    } while (position < fileData.byteLength);\n",
              "  }\n",
              "\n",
              "  // All done.\n",
              "  yield {\n",
              "    response: {\n",
              "      action: 'complete',\n",
              "    }\n",
              "  };\n",
              "}\n",
              "\n",
              "scope.google = scope.google || {};\n",
              "scope.google.colab = scope.google.colab || {};\n",
              "scope.google.colab._files = {\n",
              "  _uploadFiles,\n",
              "  _uploadFilesContinue,\n",
              "};\n",
              "})(self);\n",
              "</script> "
            ]
          },
          "metadata": {}
        },
        {
          "output_type": "stream",
          "name": "stdout",
          "text": [
            "Saving kaggle.json to kaggle.json\n",
            "User upload file \"kaggle.json\" with lenght 68 bytes\n"
          ]
        }
      ]
    },
    {
      "cell_type": "code",
      "source": [
        "! kaggle competitions list"
      ],
      "metadata": {
        "colab": {
          "base_uri": "https://localhost:8080/"
        },
        "id": "iABy-dGqK04o",
        "outputId": "34f3106d-2fd2-4796-a070-8595576ee9ac"
      },
      "execution_count": null,
      "outputs": [
        {
          "output_type": "stream",
          "name": "stdout",
          "text": [
            "ref                                                                                 deadline             category            reward  teamCount  userHasEntered  \n",
            "----------------------------------------------------------------------------------  -------------------  ---------------  ---------  ---------  --------------  \n",
            "https://www.kaggle.com/competitions/vesuvius-challenge-ink-detection                2023-06-14 23:59:00  Featured          $250,000          0           False  \n",
            "https://www.kaggle.com/competitions/asl-signs                                       2023-05-01 23:59:00  Research          $100,000        519           False  \n",
            "https://www.kaggle.com/competitions/tlvmc-parkinsons-freezing-gait-prediction       2023-06-08 23:59:00  Research          $100,000         88           False  \n",
            "https://www.kaggle.com/competitions/amp-parkinsons-disease-progression-prediction   2023-05-18 23:59:00  Featured           $60,000        551           False  \n",
            "https://www.kaggle.com/competitions/lux-ai-season-2                                 2023-04-24 23:59:00  Featured           $55,000        453           False  \n",
            "https://www.kaggle.com/competitions/predict-student-performance-from-game-play      2023-05-08 23:59:00  Featured           $55,000        891           False  \n",
            "https://www.kaggle.com/competitions/march-machine-learning-mania-2023               2023-03-16 16:00:00  Featured           $50,000        751           False  \n",
            "https://www.kaggle.com/competitions/icecube-neutrinos-in-deep-ice                   2023-04-19 23:59:00  Research           $50,000        551           False  \n",
            "https://www.kaggle.com/competitions/stable-diffusion-image-to-prompts               2023-05-15 23:59:00  Featured           $50,000        508           False  \n",
            "https://www.kaggle.com/competitions/birdclef-2023                                   2023-05-24 23:59:00  Research           $50,000        285           False  \n",
            "https://www.kaggle.com/competitions/warmup-round-march-machine-learning-mania-2023  2023-03-16 16:00:00  Featured         Knowledge        146           False  \n",
            "https://www.kaggle.com/competitions/playground-series-s3e10                         2023-03-20 23:59:00  Playground            Swag        543           False  \n",
            "https://www.kaggle.com/competitions/titanic                                         2030-01-01 00:00:00  Getting Started  Knowledge      14624           False  \n",
            "https://www.kaggle.com/competitions/house-prices-advanced-regression-techniques     2030-01-01 00:00:00  Getting Started  Knowledge       4219            True  \n",
            "https://www.kaggle.com/competitions/spaceship-titanic                               2030-01-01 00:00:00  Getting Started  Knowledge       2355           False  \n",
            "https://www.kaggle.com/competitions/digit-recognizer                                2030-01-01 00:00:00  Getting Started  Knowledge       1341           False  \n",
            "https://www.kaggle.com/competitions/nlp-getting-started                             2030-01-01 00:00:00  Getting Started  Knowledge       1021           False  \n",
            "https://www.kaggle.com/competitions/connectx                                        2030-01-01 00:00:00  Getting Started  Knowledge        246           False  \n",
            "https://www.kaggle.com/competitions/tpu-getting-started                             2030-06-03 23:59:00  Getting Started  Knowledge        143           False  \n",
            "https://www.kaggle.com/competitions/store-sales-time-series-forecasting             2030-06-30 23:59:00  Getting Started  Knowledge        616           False  \n"
          ]
        }
      ]
    },
    {
      "cell_type": "code",
      "source": [
        "! kaggle datasets list -h"
      ],
      "metadata": {
        "colab": {
          "base_uri": "https://localhost:8080/"
        },
        "id": "Nsi-zCA2LMtj",
        "outputId": "dad39e06-5bd0-47e1-d710-3e522b40d406"
      },
      "execution_count": null,
      "outputs": [
        {
          "output_type": "stream",
          "name": "stdout",
          "text": [
            "usage: kaggle datasets list\n",
            "       [-h]\n",
            "       [--sort-by SORT_BY]\n",
            "       [--size SIZE]\n",
            "       [--file-type FILE_TYPE]\n",
            "       [--license LICENSE_NAME]\n",
            "       [--tags TAG_IDS]\n",
            "       [-s SEARCH]\n",
            "       [-m]\n",
            "       [--user USER]\n",
            "       [-p PAGE]\n",
            "       [-v]\n",
            "       [--max-size MAX_SIZE]\n",
            "       [--min-size MIN_SIZE]\n",
            "\n",
            "optional arguments:\n",
            "  -h, --help\n",
            "    show this help message and exit\n",
            "  --sort-by SORT_BY\n",
            "    Sort list results. Default is 'hottest'. Valid options are 'hottest', 'votes', 'updated', and 'active'\n",
            "  --size SIZE\n",
            "    DEPRECATED. Please use --max-size and --min-size to filter dataset sizes.\n",
            "  --file-type FILE_TYPE\n",
            "    Search for datasets with a specific file type. Default is 'all'. Valid options are 'all', 'csv', 'sqlite', 'json', and 'bigQuery'. Please note that bigQuery datasets cannot be downloaded\n",
            "  --license LICENSE_NAME\n",
            "    Search for datasets with a specific license. Default is 'all'. Valid options are 'all', 'cc', 'gpl', 'odb', and 'other'\n",
            "  --tags TAG_IDS\n",
            "    Search for datasets that have specific tags. Tag list should be comma separated\n",
            "  -s SEARCH, --search SEARCH\n",
            "    Term(s) to search for\n",
            "  -m, --mine\n",
            "    Display only my items\n",
            "  --user USER\n",
            "    Find public datasets owned by a specific user or organization\n",
            "  -p PAGE, --page PAGE\n",
            "    Page number for results paging. Page size is 20 by default\n",
            "  -v, --csv\n",
            "    Print results in CSV format (if not set print in table format)\n",
            "  --max-size MAX_SIZE\n",
            "    Specify the maximum size of the dataset to return (bytes)\n",
            "  --min-size MIN_SIZE\n",
            "    Specify the minimum size of the dataset to return (bytes)\n"
          ]
        }
      ]
    },
    {
      "cell_type": "code",
      "source": [
        "! kaggle datasets download -d gspmoreira/articles-sharing-reading-from-cit-deskdrop"
      ],
      "metadata": {
        "colab": {
          "base_uri": "https://localhost:8080/"
        },
        "id": "YGRHKv0fOrJK",
        "outputId": "32d41bdf-279f-47e4-ff78-673aad78234e"
      },
      "execution_count": null,
      "outputs": [
        {
          "output_type": "stream",
          "name": "stdout",
          "text": [
            "Downloading articles-sharing-reading-from-cit-deskdrop.zip to /content\n",
            " 85% 7.00M/8.20M [00:00<00:00, 13.3MB/s]\n",
            "100% 8.20M/8.20M [00:00<00:00, 10.6MB/s]\n"
          ]
        }
      ]
    },
    {
      "cell_type": "code",
      "source": [
        "! unzip articles-sharing-reading-from-cit-deskdrop.zip"
      ],
      "metadata": {
        "colab": {
          "base_uri": "https://localhost:8080/"
        },
        "id": "vGkK-BTjP0Wz",
        "outputId": "84c62e1c-856b-49bb-ff3e-56b021fa3f20"
      },
      "execution_count": null,
      "outputs": [
        {
          "output_type": "stream",
          "name": "stdout",
          "text": [
            "Archive:  articles-sharing-reading-from-cit-deskdrop.zip\n",
            "  inflating: shared_articles.csv     \n",
            "  inflating: users_interactions.csv  \n"
          ]
        }
      ]
    },
    {
      "cell_type": "code",
      "source": [
        "articls_df = pd.read_csv('shared_articles.csv')"
      ],
      "metadata": {
        "id": "ep_WdhXAQqZJ"
      },
      "execution_count": null,
      "outputs": []
    },
    {
      "cell_type": "code",
      "source": [
        "articls_df = articls_df[articls_df['eventType'] == 'CONTENT SHARED']\n"
      ],
      "metadata": {
        "id": "AQQQfhn6Q4VQ"
      },
      "execution_count": null,
      "outputs": []
    },
    {
      "cell_type": "code",
      "source": [
        "interactions_df = pd.read_csv('/content/users_interactions.csv')"
      ],
      "metadata": {
        "id": "11EPIyabRXLB"
      },
      "execution_count": null,
      "outputs": []
    },
    {
      "cell_type": "code",
      "source": [
        "interactions_df.personId = interactions_df.personId.astype(str)\n",
        "interactions_df.contentId = interactions_df.contentId.astype(str)\n",
        "articls_df.contentId = articls_df.contentId.astype(str)"
      ],
      "metadata": {
        "id": "m_mvoaqoSe_8"
      },
      "execution_count": null,
      "outputs": []
    },
    {
      "cell_type": "code",
      "source": [
        "event_type_strenght = {\n",
        "    'VIEW': 1.0,\n",
        "    'LIKE': 2.0,\n",
        "    'BOOKMARK': 2.5,\n",
        "    'FOLLOW': 3.0,\n",
        "    'COMMENT CREATED': 4.0\n",
        "}"
      ],
      "metadata": {
        "id": "7ogDwB4STx3k"
      },
      "execution_count": null,
      "outputs": []
    },
    {
      "cell_type": "code",
      "source": [
        "interactions_df['eventStrength'] = interactions_df.eventType.apply(lambda x: event_type_strenght[x])"
      ],
      "metadata": {
        "id": "oRZoG5ZUULHX"
      },
      "execution_count": null,
      "outputs": []
    },
    {
      "cell_type": "code",
      "source": [
        "users_interactions_count_df = (\n",
        "    interactions_df.groupby(['personId', 'contentId'])\n",
        "    .first()\n",
        "    .reset_index()\n",
        "    .groupby(['personId']).size()\n",
        ")"
      ],
      "metadata": {
        "id": "xIE6-q26VOvU"
      },
      "execution_count": null,
      "outputs": []
    },
    {
      "cell_type": "code",
      "source": [
        "users_with_enough_df = users_interactions_count_df[users_interactions_count_df >=5].reset_index()[['personId']]"
      ],
      "metadata": {
        "id": "Szg_39cjV5Mu"
      },
      "execution_count": null,
      "outputs": []
    },
    {
      "cell_type": "code",
      "source": [
        "users_interactions_count_df.hist(bins=30)"
      ],
      "metadata": {
        "colab": {
          "base_uri": "https://localhost:8080/",
          "height": 283
        },
        "id": "6IeqMGbrXDXO",
        "outputId": "18ea404c-28da-4571-cdae-735c4fc833dc"
      },
      "execution_count": null,
      "outputs": [
        {
          "output_type": "execute_result",
          "data": {
            "text/plain": [
              "<AxesSubplot:>"
            ]
          },
          "metadata": {},
          "execution_count": 16
        },
        {
          "output_type": "display_data",
          "data": {
            "text/plain": [
              "<Figure size 432x288 with 1 Axes>"
            ],
            "image/png": "[encoded data removed]"
          },
          "metadata": {
            "needs_background": "light"
          }
        }
      ]
    },
    {
      "cell_type": "code",
      "source": [
        "interactions_from_selected_users_df = interactions_df.loc[np.in1d(interactions_df.personId, users_with_enough_df)]"
      ],
      "metadata": {
        "id": "v-GlVFIlXSSB"
      },
      "execution_count": null,
      "outputs": []
    },
    {
      "cell_type": "code",
      "source": [
        "def smooth_user_preference(x):\n",
        "    return np.log2(1+x)\n",
        "    # return math.log(1+x, 2)"
      ],
      "metadata": {
        "id": "BHE72ZBIXwKU"
      },
      "execution_count": null,
      "outputs": []
    },
    {
      "cell_type": "code",
      "source": [
        "interactions_full_df = (\n",
        "    interactions_from_selected_users_df.groupby(['personId', 'contentId']).eventStrength.sum()\n",
        "    .apply(smooth_user_preference).reset_index().set_index(['personId', 'contentId'])\n",
        ")"
      ],
      "metadata": {
        "id": "x3c9pcLbajrG"
      },
      "execution_count": null,
      "outputs": []
    },
    {
      "cell_type": "code",
      "source": [
        "interactions_full_df['last_timestamp'] = (\n",
        "    interactions_from_selected_users_df.groupby(['personId', 'contentId'])['timestamp'].last()\n",
        ")"
      ],
      "metadata": {
        "id": "ZU1CzNDedMHd"
      },
      "execution_count": null,
      "outputs": []
    },
    {
      "cell_type": "code",
      "source": [
        "interactions_full_df = interactions_full_df.reset_index()"
      ],
      "metadata": {
        "id": "029BKphyeDLf"
      },
      "execution_count": null,
      "outputs": []
    },
    {
      "cell_type": "code",
      "source": [
        "interactions_full_df"
      ],
      "metadata": {
        "colab": {
          "base_uri": "https://localhost:8080/",
          "height": 423
        },
        "id": "7zhaPLHceDSf",
        "outputId": "31fa1d44-58db-4cc9-eb0c-95887f5f7e77"
      },
      "execution_count": null,
      "outputs": [
        {
          "output_type": "execute_result",
          "data": {
            "text/plain": [
              "                   personId             contentId  eventStrength  \\\n",
              "0      -1007001694607905623  -5065077552540450930       1.000000   \n",
              "1      -1007001694607905623  -6623581327558800021       1.000000   \n",
              "2      -1007001694607905623   -793729620925729327       1.000000   \n",
              "3      -1007001694607905623   1469580151036142903       1.000000   \n",
              "4      -1007001694607905623   7270966256391553686       1.584963   \n",
              "...                     ...                   ...            ...   \n",
              "39101    998688566268269815   -401664538366009049       1.000000   \n",
              "39102    998688566268269815   3456674717452933449       2.584963   \n",
              "39103    998688566268269815   6881796783400625893       1.000000   \n",
              "39104    998688566268269815   7174452660053929140       2.321928   \n",
              "39105    998688566268269815    739747367187387064       1.000000   \n",
              "\n",
              "       last_timestamp  \n",
              "0          1470395911  \n",
              "1          1487240080  \n",
              "2          1472834892  \n",
              "3          1487240062  \n",
              "4          1485994324  \n",
              "...               ...  \n",
              "39101      1474567449  \n",
              "39102      1478802088  \n",
              "39103      1474567675  \n",
              "39104      1478812905  \n",
              "39105      1474567514  \n",
              "\n",
              "[39106 rows x 4 columns]"
            ],
            "text/html": [
              "\n",
              "  <div id=\"df-01fa55c0-5ccc-4770-b1f2-3d36376a4abb\">\n",
              "    <div class=\"colab-df-container\">\n",
              "      <div>\n",
              "<style scoped>\n",
              "    .dataframe tbody tr th:only-of-type {\n",
              "        vertical-align: middle;\n",
              "    }\n",
              "\n",
              "    .dataframe tbody tr th {\n",
              "        vertical-align: top;\n",
              "    }\n",
              "\n",
              "    .dataframe thead th {\n",
              "        text-align: right;\n",
              "    }\n",
              "</style>\n",
              "<table border=\"1\" class=\"dataframe\">\n",
              "  <thead>\n",
              "    <tr style=\"text-align: right;\">\n",
              "      <th></th>\n",
              "      <th>personId</th>\n",
              "      <th>contentId</th>\n",
              "      <th>eventStrength</th>\n",
              "      <th>last_timestamp</th>\n",
              "    </tr>\n",
              "  </thead>\n",
              "  <tbody>\n",
              "    <tr>\n",
              "      <th>0</th>\n",
              "      <td>-1007001694607905623</td>\n",
              "      <td>-5065077552540450930</td>\n",
              "      <td>1.000000</td>\n",
              "      <td>1470395911</td>\n",
              "    </tr>\n",
              "    <tr>\n",
              "      <th>1</th>\n",
              "      <td>-1007001694607905623</td>\n",
              "      <td>-6623581327558800021</td>\n",
              "      <td>1.000000</td>\n",
              "      <td>1487240080</td>\n",
              "    </tr>\n",
              "    <tr>\n",
              "      <th>2</th>\n",
              "      <td>-1007001694607905623</td>\n",
              "      <td>-793729620925729327</td>\n",
              "      <td>1.000000</td>\n",
              "      <td>1472834892</td>\n",
              "    </tr>\n",
              "    <tr>\n",
              "      <th>3</th>\n",
              "      <td>-1007001694607905623</td>\n",
              "      <td>1469580151036142903</td>\n",
              "      <td>1.000000</td>\n",
              "      <td>1487240062</td>\n",
              "    </tr>\n",
              "    <tr>\n",
              "      <th>4</th>\n",
              "      <td>-1007001694607905623</td>\n",
              "      <td>7270966256391553686</td>\n",
              "      <td>1.584963</td>\n",
              "      <td>1485994324</td>\n",
              "    </tr>\n",
              "    <tr>\n",
              "      <th>...</th>\n",
              "      <td>...</td>\n",
              "      <td>...</td>\n",
              "      <td>...</td>\n",
              "      <td>...</td>\n",
              "    </tr>\n",
              "    <tr>\n",
              "      <th>39101</th>\n",
              "      <td>998688566268269815</td>\n",
              "      <td>-401664538366009049</td>\n",
              "      <td>1.000000</td>\n",
              "      <td>1474567449</td>\n",
              "    </tr>\n",
              "    <tr>\n",
              "      <th>39102</th>\n",
              "      <td>998688566268269815</td>\n",
              "      <td>3456674717452933449</td>\n",
              "      <td>2.584963</td>\n",
              "      <td>1478802088</td>\n",
              "    </tr>\n",
              "    <tr>\n",
              "      <th>39103</th>\n",
              "      <td>998688566268269815</td>\n",
              "      <td>6881796783400625893</td>\n",
              "      <td>1.000000</td>\n",
              "      <td>1474567675</td>\n",
              "    </tr>\n",
              "    <tr>\n",
              "      <th>39104</th>\n",
              "      <td>998688566268269815</td>\n",
              "      <td>7174452660053929140</td>\n",
              "      <td>2.321928</td>\n",
              "      <td>1478812905</td>\n",
              "    </tr>\n",
              "    <tr>\n",
              "      <th>39105</th>\n",
              "      <td>998688566268269815</td>\n",
              "      <td>739747367187387064</td>\n",
              "      <td>1.000000</td>\n",
              "      <td>1474567514</td>\n",
              "    </tr>\n",
              "  </tbody>\n",
              "</table>\n",
              "<p>39106 rows × 4 columns</p>\n",
              "</div>\n",
              "      <button class=\"colab-df-convert\" onclick=\"convertToInteractive('df-01fa55c0-5ccc-4770-b1f2-3d36376a4abb')\"\n",
              "              title=\"Convert this dataframe to an interactive table.\"\n",
              "              style=\"display:none;\">\n",
              "        \n",
              "  <svg xmlns=\"http://www.w3.org/2000/svg\" height=\"24px\"viewBox=\"0 0 24 24\"\n",
              "       width=\"24px\">\n",
              "    <path d=\"M0 0h24v24H0V0z\" fill=\"none\"/>\n",
              "    <path d=\"M18.56 5.44l.94 2.06.94-2.06 2.06-.94-2.06-.94-.94-2.06-.94 2.06-2.06.94zm-11 1L8.5 8.5l.94-2.06 2.06-.94-2.06-.94L8.5 2.5l-.94 2.06-2.06.94zm10 10l.94 2.06.94-2.06 2.06-.94-2.06-.94-.94-2.06-.94 2.06-2.06.94z\"/><path d=\"M17.41 7.96l-1.37-1.37c-.4-.4-.92-.59-1.43-.59-.52 0-1.04.2-1.43.59L10.3 9.45l-7.72 7.72c-.78.78-.78 2.05 0 2.83L4 21.41c.39.39.9.59 1.41.59.51 0 1.02-.2 1.41-.59l7.78-7.78 2.81-2.81c.8-.78.8-2.07 0-2.86zM5.41 20L4 18.59l7.72-7.72 1.47 1.35L5.41 20z\"/>\n",
              "  </svg>\n",
              "      </button>\n",
              "      \n",
              "  <style>\n",
              "    .colab-df-container {\n",
              "      display:flex;\n",
              "      flex-wrap:wrap;\n",
              "      gap: 12px;\n",
              "    }\n",
              "\n",
              "    .colab-df-convert {\n",
              "      background-color: #E8F0FE;\n",
              "      border: none;\n",
              "      border-radius: 50%;\n",
              "      cursor: pointer;\n",
              "      display: none;\n",
              "      fill: #1967D2;\n",
              "      height: 32px;\n",
              "      padding: 0 0 0 0;\n",
              "      width: 32px;\n",
              "    }\n",
              "\n",
              "    .colab-df-convert:hover {\n",
              "      background-color: #E2EBFA;\n",
              "      box-shadow: 0px 1px 2px rgba(60, 64, 67, 0.3), 0px 1px 3px 1px rgba(60, 64, 67, 0.15);\n",
              "      fill: #174EA6;\n",
              "    }\n",
              "\n",
              "    [theme=dark] .colab-df-convert {\n",
              "      background-color: #3B4455;\n",
              "      fill: #D2E3FC;\n",
              "    }\n",
              "\n",
              "    [theme=dark] .colab-df-convert:hover {\n",
              "      background-color: #434B5C;\n",
              "      box-shadow: 0px 1px 3px 1px rgba(0, 0, 0, 0.15);\n",
              "      filter: drop-shadow(0px 1px 2px rgba(0, 0, 0, 0.3));\n",
              "      fill: #FFFFFF;\n",
              "    }\n",
              "  </style>\n",
              "\n",
              "      <script>\n",
              "        const buttonEl =\n",
              "          document.querySelector('#df-01fa55c0-5ccc-4770-b1f2-3d36376a4abb button.colab-df-convert');\n",
              "        buttonEl.style.display =\n",
              "          google.colab.kernel.accessAllowed ? 'block' : 'none';\n",
              "\n",
              "        async function convertToInteractive(key) {\n",
              "          const element = document.querySelector('#df-01fa55c0-5ccc-4770-b1f2-3d36376a4abb');\n",
              "          const dataTable =\n",
              "            await google.colab.kernel.invokeFunction('convertToInteractive',\n",
              "                                                     [key], {});\n",
              "          if (!dataTable) return;\n",
              "\n",
              "          const docLinkHtml = 'Like what you see? Visit the ' +\n",
              "            '<a target=\"_blank\" href=https://colab.research.google.com/notebooks/data_table.ipynb>data table notebook</a>'\n",
              "            + ' to learn more about interactive tables.';\n",
              "          element.innerHTML = '';\n",
              "          dataTable['output_type'] = 'display_data';\n",
              "          await google.colab.output.renderOutput(dataTable, element);\n",
              "          const docLink = document.createElement('div');\n",
              "          docLink.innerHTML = docLinkHtml;\n",
              "          element.appendChild(docLink);\n",
              "        }\n",
              "      </script>\n",
              "    </div>\n",
              "  </div>\n",
              "  "
            ]
          },
          "metadata": {},
          "execution_count": 22
        }
      ]
    },
    {
      "cell_type": "code",
      "source": [
        "from sklearn.model_selection import train_test_split\n",
        "\n",
        "split_ts = 1475519530\n",
        "interactions_train_df = interactions_full_df.loc[interactions_full_df.last_timestamp < split_ts].copy()\n",
        "interactions_test_df = interactions_full_df.loc[interactions_full_df.last_timestamp >= split_ts].copy()\n",
        "\n",
        "print('# interactions on Train set: %d' % len(interactions_train_df))\n",
        "print('# interactions on Test set: %d' % len(interactions_test_df))\n",
        "\n",
        "interactions_train_df"
      ],
      "metadata": {
        "colab": {
          "base_uri": "https://localhost:8080/",
          "height": 460
        },
        "id": "jEDDJ0LDeDdS",
        "outputId": "c71a3472-be40-4bc9-ebce-ebf79e9e1134"
      },
      "execution_count": 148,
      "outputs": [
        {
          "output_type": "stream",
          "name": "stdout",
          "text": [
            "# interactions on Train set: 29329\n",
            "# interactions on Test set: 9777\n"
          ]
        },
        {
          "output_type": "execute_result",
          "data": {
            "text/plain": [
              "                   personId             contentId  eventStrength  \\\n",
              "0      -1007001694607905623  -5065077552540450930            1.0   \n",
              "2      -1007001694607905623   -793729620925729327            1.0   \n",
              "6      -1032019229384696495  -1006791494035379303            1.0   \n",
              "7      -1032019229384696495  -1039912738963181810            1.0   \n",
              "8      -1032019229384696495  -1081723567492738167            2.0   \n",
              "...                     ...                   ...            ...   \n",
              "39099    997469202936578234   9112765177685685246            2.0   \n",
              "39100    998688566268269815  -1255189867397298842            1.0   \n",
              "39101    998688566268269815   -401664538366009049            1.0   \n",
              "39103    998688566268269815   6881796783400625893            1.0   \n",
              "39105    998688566268269815    739747367187387064            1.0   \n",
              "\n",
              "       last_timestamp  \n",
              "0          1470395911  \n",
              "2          1472834892  \n",
              "6          1469129122  \n",
              "7          1459376415  \n",
              "8          1464054093  \n",
              "...               ...  \n",
              "39099      1472479493  \n",
              "39100      1474567164  \n",
              "39101      1474567449  \n",
              "39103      1474567675  \n",
              "39105      1474567514  \n",
              "\n",
              "[29329 rows x 4 columns]"
            ],
            "text/html": [
              "\n",
              "  <div id=\"df-72b27fba-f766-446c-a28a-a457ffef5881\">\n",
              "    <div class=\"colab-df-container\">\n",
              "      <div>\n",
              "<style scoped>\n",
              "    .dataframe tbody tr th:only-of-type {\n",
              "        vertical-align: middle;\n",
              "    }\n",
              "\n",
              "    .dataframe tbody tr th {\n",
              "        vertical-align: top;\n",
              "    }\n",
              "\n",
              "    .dataframe thead th {\n",
              "        text-align: right;\n",
              "    }\n",
              "</style>\n",
              "<table border=\"1\" class=\"dataframe\">\n",
              "  <thead>\n",
              "    <tr style=\"text-align: right;\">\n",
              "      <th></th>\n",
              "      <th>personId</th>\n",
              "      <th>contentId</th>\n",
              "      <th>eventStrength</th>\n",
              "      <th>last_timestamp</th>\n",
              "    </tr>\n",
              "  </thead>\n",
              "  <tbody>\n",
              "    <tr>\n",
              "      <th>0</th>\n",
              "      <td>-1007001694607905623</td>\n",
              "      <td>-5065077552540450930</td>\n",
              "      <td>1.0</td>\n",
              "      <td>1470395911</td>\n",
              "    </tr>\n",
              "    <tr>\n",
              "      <th>2</th>\n",
              "      <td>-1007001694607905623</td>\n",
              "      <td>-793729620925729327</td>\n",
              "      <td>1.0</td>\n",
              "      <td>1472834892</td>\n",
              "    </tr>\n",
              "    <tr>\n",
              "      <th>6</th>\n",
              "      <td>-1032019229384696495</td>\n",
              "      <td>-1006791494035379303</td>\n",
              "      <td>1.0</td>\n",
              "      <td>1469129122</td>\n",
              "    </tr>\n",
              "    <tr>\n",
              "      <th>7</th>\n",
              "      <td>-1032019229384696495</td>\n",
              "      <td>-1039912738963181810</td>\n",
              "      <td>1.0</td>\n",
              "      <td>1459376415</td>\n",
              "    </tr>\n",
              "    <tr>\n",
              "      <th>8</th>\n",
              "      <td>-1032019229384696495</td>\n",
              "      <td>-1081723567492738167</td>\n",
              "      <td>2.0</td>\n",
              "      <td>1464054093</td>\n",
              "    </tr>\n",
              "    <tr>\n",
              "      <th>...</th>\n",
              "      <td>...</td>\n",
              "      <td>...</td>\n",
              "      <td>...</td>\n",
              "      <td>...</td>\n",
              "    </tr>\n",
              "    <tr>\n",
              "      <th>39099</th>\n",
              "      <td>997469202936578234</td>\n",
              "      <td>9112765177685685246</td>\n",
              "      <td>2.0</td>\n",
              "      <td>1472479493</td>\n",
              "    </tr>\n",
              "    <tr>\n",
              "      <th>39100</th>\n",
              "      <td>998688566268269815</td>\n",
              "      <td>-1255189867397298842</td>\n",
              "      <td>1.0</td>\n",
              "      <td>1474567164</td>\n",
              "    </tr>\n",
              "    <tr>\n",
              "      <th>39101</th>\n",
              "      <td>998688566268269815</td>\n",
              "      <td>-401664538366009049</td>\n",
              "      <td>1.0</td>\n",
              "      <td>1474567449</td>\n",
              "    </tr>\n",
              "    <tr>\n",
              "      <th>39103</th>\n",
              "      <td>998688566268269815</td>\n",
              "      <td>6881796783400625893</td>\n",
              "      <td>1.0</td>\n",
              "      <td>1474567675</td>\n",
              "    </tr>\n",
              "    <tr>\n",
              "      <th>39105</th>\n",
              "      <td>998688566268269815</td>\n",
              "      <td>739747367187387064</td>\n",
              "      <td>1.0</td>\n",
              "      <td>1474567514</td>\n",
              "    </tr>\n",
              "  </tbody>\n",
              "</table>\n",
              "<p>29329 rows × 4 columns</p>\n",
              "</div>\n",
              "      <button class=\"colab-df-convert\" onclick=\"convertToInteractive('df-72b27fba-f766-446c-a28a-a457ffef5881')\"\n",
              "              title=\"Convert this dataframe to an interactive table.\"\n",
              "              style=\"display:none;\">\n",
              "        \n",
              "  <svg xmlns=\"http://www.w3.org/2000/svg\" height=\"24px\"viewBox=\"0 0 24 24\"\n",
              "       width=\"24px\">\n",
              "    <path d=\"M0 0h24v24H0V0z\" fill=\"none\"/>\n",
              "    <path d=\"M18.56 5.44l.94 2.06.94-2.06 2.06-.94-2.06-.94-.94-2.06-.94 2.06-2.06.94zm-11 1L8.5 8.5l.94-2.06 2.06-.94-2.06-.94L8.5 2.5l-.94 2.06-2.06.94zm10 10l.94 2.06.94-2.06 2.06-.94-2.06-.94-.94-2.06-.94 2.06-2.06.94z\"/><path d=\"M17.41 7.96l-1.37-1.37c-.4-.4-.92-.59-1.43-.59-.52 0-1.04.2-1.43.59L10.3 9.45l-7.72 7.72c-.78.78-.78 2.05 0 2.83L4 21.41c.39.39.9.59 1.41.59.51 0 1.02-.2 1.41-.59l7.78-7.78 2.81-2.81c.8-.78.8-2.07 0-2.86zM5.41 20L4 18.59l7.72-7.72 1.47 1.35L5.41 20z\"/>\n",
              "  </svg>\n",
              "      </button>\n",
              "      \n",
              "  <style>\n",
              "    .colab-df-container {\n",
              "      display:flex;\n",
              "      flex-wrap:wrap;\n",
              "      gap: 12px;\n",
              "    }\n",
              "\n",
              "    .colab-df-convert {\n",
              "      background-color: #E8F0FE;\n",
              "      border: none;\n",
              "      border-radius: 50%;\n",
              "      cursor: pointer;\n",
              "      display: none;\n",
              "      fill: #1967D2;\n",
              "      height: 32px;\n",
              "      padding: 0 0 0 0;\n",
              "      width: 32px;\n",
              "    }\n",
              "\n",
              "    .colab-df-convert:hover {\n",
              "      background-color: #E2EBFA;\n",
              "      box-shadow: 0px 1px 2px rgba(60, 64, 67, 0.3), 0px 1px 3px 1px rgba(60, 64, 67, 0.15);\n",
              "      fill: #174EA6;\n",
              "    }\n",
              "\n",
              "    [theme=dark] .colab-df-convert {\n",
              "      background-color: #3B4455;\n",
              "      fill: #D2E3FC;\n",
              "    }\n",
              "\n",
              "    [theme=dark] .colab-df-convert:hover {\n",
              "      background-color: #434B5C;\n",
              "      box-shadow: 0px 1px 3px 1px rgba(0, 0, 0, 0.15);\n",
              "      filter: drop-shadow(0px 1px 2px rgba(0, 0, 0, 0.3));\n",
              "      fill: #FFFFFF;\n",
              "    }\n",
              "  </style>\n",
              "\n",
              "      <script>\n",
              "        const buttonEl =\n",
              "          document.querySelector('#df-72b27fba-f766-446c-a28a-a457ffef5881 button.colab-df-convert');\n",
              "        buttonEl.style.display =\n",
              "          google.colab.kernel.accessAllowed ? 'block' : 'none';\n",
              "\n",
              "        async function convertToInteractive(key) {\n",
              "          const element = document.querySelector('#df-72b27fba-f766-446c-a28a-a457ffef5881');\n",
              "          const dataTable =\n",
              "            await google.colab.kernel.invokeFunction('convertToInteractive',\n",
              "                                                     [key], {});\n",
              "          if (!dataTable) return;\n",
              "\n",
              "          const docLinkHtml = 'Like what you see? Visit the ' +\n",
              "            '<a target=\"_blank\" href=https://colab.research.google.com/notebooks/data_table.ipynb>data table notebook</a>'\n",
              "            + ' to learn more about interactive tables.';\n",
              "          element.innerHTML = '';\n",
              "          dataTable['output_type'] = 'display_data';\n",
              "          await google.colab.output.renderOutput(dataTable, element);\n",
              "          const docLink = document.createElement('div');\n",
              "          docLink.innerHTML = docLinkHtml;\n",
              "          element.appendChild(docLink);\n",
              "        }\n",
              "      </script>\n",
              "    </div>\n",
              "  </div>\n",
              "  "
            ]
          },
          "metadata": {},
          "execution_count": 148
        }
      ]
    },
    {
      "cell_type": "code",
      "source": [
        "interactions = (\n",
        "    interactions_train_df\n",
        "    .groupby('personId')['contentId'].agg(lambda x: list(x))\n",
        "    .reset_index()\n",
        "    .rename(columns={'contentId': 'true_train'})\n",
        "    .set_index('personId')\n",
        ")\n",
        "\n",
        "interactions['true_test'] = (\n",
        "    interactions_test_df\n",
        "    .groupby('personId')['contentId'].agg(lambda x: list(x))\n",
        ")\n",
        "\n",
        "# заполнение пропусков пустыми списками\n",
        "interactions.loc[pd.isnull(interactions.true_test), 'true_test'] = [\n",
        "    [''] for x in range(len(interactions.loc[pd.isnull(interactions.true_test), 'true_test']))]\n",
        "\n",
        "interactions.head(5)"
      ],
      "metadata": {
        "colab": {
          "base_uri": "https://localhost:8080/",
          "height": 237
        },
        "id": "SAYgiiXUeDiE",
        "outputId": "6e2a74d5-9419-4b8a-ec09-eaaf20a4964e"
      },
      "execution_count": 149,
      "outputs": [
        {
          "output_type": "execute_result",
          "data": {
            "text/plain": [
              "                                                             true_train  \\\n",
              "personId                                                                  \n",
              "-1007001694607905623        [-5065077552540450930, -793729620925729327]   \n",
              "-1032019229384696495  [-1006791494035379303, -1039912738963181810, -...   \n",
              "-108842214936804958   [-1196068832249300490, -133139342397538859, -1...   \n",
              "-1130272294246983140  [-1150591229250318592, -1196068832249300490, -...   \n",
              "-1160159014793528221  [-133139342397538859, -387651900461462767, 377...   \n",
              "\n",
              "                                                              true_test  \n",
              "personId                                                                 \n",
              "-1007001694607905623  [-6623581327558800021, 1469580151036142903, 72...  \n",
              "-1032019229384696495  [-1415040208471067980, -2555801390963402198, -...  \n",
              "-108842214936804958   [-2780168264183400543, -3060116862184714437, -...  \n",
              "-1130272294246983140  [-1606980109000976010, -1663441888197894674, -...  \n",
              "-1160159014793528221                             [-3462051751080362224]  "
            ],
            "text/html": [
              "\n",
              "  <div id=\"df-0914bcca-4e19-4e5b-a735-49ef2d8b2959\">\n",
              "    <div class=\"colab-df-container\">\n",
              "      <div>\n",
              "<style scoped>\n",
              "    .dataframe tbody tr th:only-of-type {\n",
              "        vertical-align: middle;\n",
              "    }\n",
              "\n",
              "    .dataframe tbody tr th {\n",
              "        vertical-align: top;\n",
              "    }\n",
              "\n",
              "    .dataframe thead th {\n",
              "        text-align: right;\n",
              "    }\n",
              "</style>\n",
              "<table border=\"1\" class=\"dataframe\">\n",
              "  <thead>\n",
              "    <tr style=\"text-align: right;\">\n",
              "      <th></th>\n",
              "      <th>true_train</th>\n",
              "      <th>true_test</th>\n",
              "    </tr>\n",
              "    <tr>\n",
              "      <th>personId</th>\n",
              "      <th></th>\n",
              "      <th></th>\n",
              "    </tr>\n",
              "  </thead>\n",
              "  <tbody>\n",
              "    <tr>\n",
              "      <th>-1007001694607905623</th>\n",
              "      <td>[-5065077552540450930, -793729620925729327]</td>\n",
              "      <td>[-6623581327558800021, 1469580151036142903, 72...</td>\n",
              "    </tr>\n",
              "    <tr>\n",
              "      <th>-1032019229384696495</th>\n",
              "      <td>[-1006791494035379303, -1039912738963181810, -...</td>\n",
              "      <td>[-1415040208471067980, -2555801390963402198, -...</td>\n",
              "    </tr>\n",
              "    <tr>\n",
              "      <th>-108842214936804958</th>\n",
              "      <td>[-1196068832249300490, -133139342397538859, -1...</td>\n",
              "      <td>[-2780168264183400543, -3060116862184714437, -...</td>\n",
              "    </tr>\n",
              "    <tr>\n",
              "      <th>-1130272294246983140</th>\n",
              "      <td>[-1150591229250318592, -1196068832249300490, -...</td>\n",
              "      <td>[-1606980109000976010, -1663441888197894674, -...</td>\n",
              "    </tr>\n",
              "    <tr>\n",
              "      <th>-1160159014793528221</th>\n",
              "      <td>[-133139342397538859, -387651900461462767, 377...</td>\n",
              "      <td>[-3462051751080362224]</td>\n",
              "    </tr>\n",
              "  </tbody>\n",
              "</table>\n",
              "</div>\n",
              "      <button class=\"colab-df-convert\" onclick=\"convertToInteractive('df-0914bcca-4e19-4e5b-a735-49ef2d8b2959')\"\n",
              "              title=\"Convert this dataframe to an interactive table.\"\n",
              "              style=\"display:none;\">\n",
              "        \n",
              "  <svg xmlns=\"http://www.w3.org/2000/svg\" height=\"24px\"viewBox=\"0 0 24 24\"\n",
              "       width=\"24px\">\n",
              "    <path d=\"M0 0h24v24H0V0z\" fill=\"none\"/>\n",
              "    <path d=\"M18.56 5.44l.94 2.06.94-2.06 2.06-.94-2.06-.94-.94-2.06-.94 2.06-2.06.94zm-11 1L8.5 8.5l.94-2.06 2.06-.94-2.06-.94L8.5 2.5l-.94 2.06-2.06.94zm10 10l.94 2.06.94-2.06 2.06-.94-2.06-.94-.94-2.06-.94 2.06-2.06.94z\"/><path d=\"M17.41 7.96l-1.37-1.37c-.4-.4-.92-.59-1.43-.59-.52 0-1.04.2-1.43.59L10.3 9.45l-7.72 7.72c-.78.78-.78 2.05 0 2.83L4 21.41c.39.39.9.59 1.41.59.51 0 1.02-.2 1.41-.59l7.78-7.78 2.81-2.81c.8-.78.8-2.07 0-2.86zM5.41 20L4 18.59l7.72-7.72 1.47 1.35L5.41 20z\"/>\n",
              "  </svg>\n",
              "      </button>\n",
              "      \n",
              "  <style>\n",
              "    .colab-df-container {\n",
              "      display:flex;\n",
              "      flex-wrap:wrap;\n",
              "      gap: 12px;\n",
              "    }\n",
              "\n",
              "    .colab-df-convert {\n",
              "      background-color: #E8F0FE;\n",
              "      border: none;\n",
              "      border-radius: 50%;\n",
              "      cursor: pointer;\n",
              "      display: none;\n",
              "      fill: #1967D2;\n",
              "      height: 32px;\n",
              "      padding: 0 0 0 0;\n",
              "      width: 32px;\n",
              "    }\n",
              "\n",
              "    .colab-df-convert:hover {\n",
              "      background-color: #E2EBFA;\n",
              "      box-shadow: 0px 1px 2px rgba(60, 64, 67, 0.3), 0px 1px 3px 1px rgba(60, 64, 67, 0.15);\n",
              "      fill: #174EA6;\n",
              "    }\n",
              "\n",
              "    [theme=dark] .colab-df-convert {\n",
              "      background-color: #3B4455;\n",
              "      fill: #D2E3FC;\n",
              "    }\n",
              "\n",
              "    [theme=dark] .colab-df-convert:hover {\n",
              "      background-color: #434B5C;\n",
              "      box-shadow: 0px 1px 3px 1px rgba(0, 0, 0, 0.15);\n",
              "      filter: drop-shadow(0px 1px 2px rgba(0, 0, 0, 0.3));\n",
              "      fill: #FFFFFF;\n",
              "    }\n",
              "  </style>\n",
              "\n",
              "      <script>\n",
              "        const buttonEl =\n",
              "          document.querySelector('#df-0914bcca-4e19-4e5b-a735-49ef2d8b2959 button.colab-df-convert');\n",
              "        buttonEl.style.display =\n",
              "          google.colab.kernel.accessAllowed ? 'block' : 'none';\n",
              "\n",
              "        async function convertToInteractive(key) {\n",
              "          const element = document.querySelector('#df-0914bcca-4e19-4e5b-a735-49ef2d8b2959');\n",
              "          const dataTable =\n",
              "            await google.colab.kernel.invokeFunction('convertToInteractive',\n",
              "                                                     [key], {});\n",
              "          if (!dataTable) return;\n",
              "\n",
              "          const docLinkHtml = 'Like what you see? Visit the ' +\n",
              "            '<a target=\"_blank\" href=https://colab.research.google.com/notebooks/data_table.ipynb>data table notebook</a>'\n",
              "            + ' to learn more about interactive tables.';\n",
              "          element.innerHTML = '';\n",
              "          dataTable['output_type'] = 'display_data';\n",
              "          await google.colab.output.renderOutput(dataTable, element);\n",
              "          const docLink = document.createElement('div');\n",
              "          docLink.innerHTML = docLinkHtml;\n",
              "          element.appendChild(docLink);\n",
              "        }\n",
              "      </script>\n",
              "    </div>\n",
              "  </div>\n",
              "  "
            ]
          },
          "metadata": {},
          "execution_count": 149
        }
      ]
    },
    {
      "cell_type": "markdown",
      "source": [
        "## 1 BASELINE - модель по популярности"
      ],
      "metadata": {
        "id": "jPVSO9LrBvu1"
      }
    },
    {
      "cell_type": "code",
      "source": [
        "popular_content = (\n",
        "    interactions_train_df\n",
        "    .groupby('contentId')\n",
        "    .eventStrength.sum().reset_index()\n",
        "    .sort_values('eventStrength', ascending=False)\n",
        "    .contentId.values\n",
        ")"
      ],
      "metadata": {
        "id": "wOyZ5kdZdMNp"
      },
      "execution_count": 67,
      "outputs": []
    },
    {
      "cell_type": "code",
      "source": [
        "articls_df.loc[articls_df.contentId == popular_content[1]]['title'].values"
      ],
      "metadata": {
        "colab": {
          "base_uri": "https://localhost:8080/"
        },
        "id": "wOUqf2v2EVu9",
        "outputId": "df385b63-9b4b-46d8-aa73-b25b7ea9e585"
      },
      "execution_count": 68,
      "outputs": [
        {
          "output_type": "execute_result",
          "data": {
            "text/plain": [
              "array(['Novo workaholic trabalha, pratica esportes e tem tempo para a família. Conheça'],\n",
              "      dtype=object)"
            ]
          },
          "metadata": {},
          "execution_count": 68
        }
      ]
    },
    {
      "cell_type": "code",
      "source": [
        "top_k = 10\n",
        "\n",
        "interactions['prediction_popular'] = (\n",
        "    interactions.true_train\n",
        "    .apply(\n",
        "        lambda x:\n",
        "        popular_content[~np.in1d(popular_content, x)][:top_k]\n",
        "    )\n",
        ")\n",
        "\n",
        "interactions['prediction_popular'][0]"
      ],
      "metadata": {
        "colab": {
          "base_uri": "https://localhost:8080/"
        },
        "id": "90POYjynGlpr",
        "outputId": "2ebf75a3-113e-43ae-9315-f4ee2db19a0b"
      },
      "execution_count": 69,
      "outputs": [
        {
          "output_type": "execute_result",
          "data": {
            "text/plain": [
              "array(['-6783772548752091658', '-133139342397538859',\n",
              "       '-8208801367848627943', '8224860111193157980',\n",
              "       '7507067965574797372', '-2358756719610361882',\n",
              "       '-6843047699859121724', '-1297580205670251233',\n",
              "       '8657408509986329668', '3367026768872537336'], dtype=object)"
            ]
          },
          "metadata": {},
          "execution_count": 69
        }
      ]
    },
    {
      "cell_type": "code",
      "source": [
        "def calc_precision(column):\n",
        "    return (\n",
        "        interactions\n",
        "        .apply(\n",
        "            lambda row:\n",
        "            len(set(row['true_test']).intersection(\n",
        "                set(row[column]))) /\n",
        "            min(len(row['true_test']) + 0.001, 10.0),\n",
        "            axis=1)).mean()"
      ],
      "metadata": {
        "id": "8qDrw7TUJxXu"
      },
      "execution_count": 70,
      "outputs": []
    },
    {
      "cell_type": "code",
      "source": [
        "calc_precision('prediction_popular')"
      ],
      "metadata": {
        "colab": {
          "base_uri": "https://localhost:8080/"
        },
        "id": "0rhH_kBZKiWK",
        "outputId": "e512ead9-615a-4cda-b3bd-b7065cc26b0d"
      },
      "execution_count": 71,
      "outputs": [
        {
          "output_type": "execute_result",
          "data": {
            "text/plain": [
              "0.006454207722621089"
            ]
          },
          "metadata": {},
          "execution_count": 71
        }
      ]
    },
    {
      "cell_type": "markdown",
      "source": [
        "## 2 COLLABORATIVE FILTER"
      ],
      "metadata": {
        "id": "UZAcIlMsv7X0"
      }
    },
    {
      "cell_type": "code",
      "source": [
        "ratings = pd.pivot_table(\n",
        "    interactions_train_df,\n",
        "    values='eventStrength',\n",
        "    index='personId',\n",
        "    columns='contentId'\n",
        ").fillna(0)"
      ],
      "metadata": {
        "id": "-2jd7pYrwSz0"
      },
      "execution_count": 150,
      "outputs": []
    },
    {
      "cell_type": "code",
      "source": [
        "ratings"
      ],
      "metadata": {
        "colab": {
          "base_uri": "https://localhost:8080/",
          "height": 519
        },
        "id": "ZkXcOOO0xb_L",
        "outputId": "fea240b8-f6bd-491a-81dd-e58a6adb3696"
      },
      "execution_count": 73,
      "outputs": [
        {
          "output_type": "execute_result",
          "data": {
            "text/plain": [
              "contentId             -1006791494035379303  -1021685224930603833  \\\n",
              "personId                                                           \n",
              "-1007001694607905623                   0.0                   0.0   \n",
              "-1032019229384696495                   1.0                   0.0   \n",
              "-108842214936804958                    0.0                   0.0   \n",
              "-1130272294246983140                   0.0                   0.0   \n",
              "-1160159014793528221                   0.0                   0.0   \n",
              "...                                    ...                   ...   \n",
              "953707509720613429                     0.0                   0.0   \n",
              "983095443598229476                     0.0                   0.0   \n",
              "989049974880576288                     0.0                   0.0   \n",
              "997469202936578234                     0.0                   0.0   \n",
              "998688566268269815                     0.0                   0.0   \n",
              "\n",
              "contentId             -1022885988494278200  -1024046541613287684  \\\n",
              "personId                                                           \n",
              "-1007001694607905623                   0.0                   0.0   \n",
              "-1032019229384696495                   0.0                   0.0   \n",
              "-108842214936804958                    0.0                   0.0   \n",
              "-1130272294246983140                   0.0                   0.0   \n",
              "-1160159014793528221                   0.0                   0.0   \n",
              "...                                    ...                   ...   \n",
              "953707509720613429                     0.0                   0.0   \n",
              "983095443598229476                     0.0                   0.0   \n",
              "989049974880576288                     0.0                   0.0   \n",
              "997469202936578234                     0.0                   0.0   \n",
              "998688566268269815                     0.0                   0.0   \n",
              "\n",
              "contentId             -1033806831489252007  -1038011342017850  \\\n",
              "personId                                                        \n",
              "-1007001694607905623                   0.0                0.0   \n",
              "-1032019229384696495                   0.0                0.0   \n",
              "-108842214936804958                    0.0                0.0   \n",
              "-1130272294246983140                   0.0                0.0   \n",
              "-1160159014793528221                   0.0                0.0   \n",
              "...                                    ...                ...   \n",
              "953707509720613429                     0.0                0.0   \n",
              "983095443598229476                     0.0                0.0   \n",
              "989049974880576288                     0.0                0.0   \n",
              "997469202936578234                     0.0                0.0   \n",
              "998688566268269815                     0.0                0.0   \n",
              "\n",
              "contentId             -1039912738963181810  -1046621686880462790  \\\n",
              "personId                                                           \n",
              "-1007001694607905623                   0.0                   0.0   \n",
              "-1032019229384696495                   1.0                   0.0   \n",
              "-108842214936804958                    0.0                   0.0   \n",
              "-1130272294246983140                   0.0                   0.0   \n",
              "-1160159014793528221                   0.0                   0.0   \n",
              "...                                    ...                   ...   \n",
              "953707509720613429                     0.0                   0.0   \n",
              "983095443598229476                     0.0                   0.0   \n",
              "989049974880576288                     0.0                   0.0   \n",
              "997469202936578234                     0.0                   0.0   \n",
              "998688566268269815                     0.0                   0.0   \n",
              "\n",
              "contentId             -1051830303851697653  -1055630159212837930  ...  \\\n",
              "personId                                                          ...   \n",
              "-1007001694607905623                   0.0                   0.0  ...   \n",
              "-1032019229384696495                   0.0                   0.0  ...   \n",
              "-108842214936804958                    0.0                   0.0  ...   \n",
              "-1130272294246983140                   0.0                   0.0  ...   \n",
              "-1160159014793528221                   0.0                   0.0  ...   \n",
              "...                                    ...                   ...  ...   \n",
              "953707509720613429                     0.0                   0.0  ...   \n",
              "983095443598229476                     0.0                   0.0  ...   \n",
              "989049974880576288                     0.0                   0.0  ...   \n",
              "997469202936578234                     0.0                   0.0  ...   \n",
              "998688566268269815                     0.0                   0.0  ...   \n",
              "\n",
              "contentId             9217155070834564627  921770761777842242  \\\n",
              "personId                                                        \n",
              "-1007001694607905623                  0.0                 0.0   \n",
              "-1032019229384696495                  3.0                 0.0   \n",
              "-108842214936804958                   0.0                 0.0   \n",
              "-1130272294246983140                  0.0                 0.0   \n",
              "-1160159014793528221                  0.0                 0.0   \n",
              "...                                   ...                 ...   \n",
              "953707509720613429                    0.0                 0.0   \n",
              "983095443598229476                    0.0                 0.0   \n",
              "989049974880576288                    0.0                 0.0   \n",
              "997469202936578234                    0.0                 0.0   \n",
              "998688566268269815                    0.0                 0.0   \n",
              "\n",
              "contentId             9220445660318725468  9222265156747237864  \\\n",
              "personId                                                         \n",
              "-1007001694607905623                  0.0                  0.0   \n",
              "-1032019229384696495                  0.0                  0.0   \n",
              "-108842214936804958                   0.0                  0.0   \n",
              "-1130272294246983140                  0.0                  0.0   \n",
              "-1160159014793528221                  0.0                  0.0   \n",
              "...                                   ...                  ...   \n",
              "953707509720613429                    0.0                  0.0   \n",
              "983095443598229476                    0.0                  0.0   \n",
              "989049974880576288                    0.0                  0.0   \n",
              "997469202936578234                    0.0                  0.0   \n",
              "998688566268269815                    0.0                  0.0   \n",
              "\n",
              "contentId             943818026930898372  957332268361319692  \\\n",
              "personId                                                       \n",
              "-1007001694607905623            0.000000                 0.0   \n",
              "-1032019229384696495            2.321928                 0.0   \n",
              "-108842214936804958             0.000000                 0.0   \n",
              "-1130272294246983140            1.000000                 0.0   \n",
              "-1160159014793528221            0.000000                 0.0   \n",
              "...                                  ...                 ...   \n",
              "953707509720613429              0.000000                 0.0   \n",
              "983095443598229476              0.000000                 0.0   \n",
              "989049974880576288              0.000000                 0.0   \n",
              "997469202936578234              0.000000                 0.0   \n",
              "998688566268269815              0.000000                 0.0   \n",
              "\n",
              "contentId             966067567430037498  972258375127367383  \\\n",
              "personId                                                       \n",
              "-1007001694607905623                 0.0                 0.0   \n",
              "-1032019229384696495                 0.0                 0.0   \n",
              "-108842214936804958                  2.0                 0.0   \n",
              "-1130272294246983140                 0.0                 0.0   \n",
              "-1160159014793528221                 0.0                 0.0   \n",
              "...                                  ...                 ...   \n",
              "953707509720613429                   0.0                 0.0   \n",
              "983095443598229476                   0.0                 0.0   \n",
              "989049974880576288                   0.0                 0.0   \n",
              "997469202936578234                   0.0                 0.0   \n",
              "998688566268269815                   0.0                 0.0   \n",
              "\n",
              "contentId             980458131533897249  98528655405030624  \n",
              "personId                                                     \n",
              "-1007001694607905623                 0.0                0.0  \n",
              "-1032019229384696495                 0.0                0.0  \n",
              "-108842214936804958                  0.0                0.0  \n",
              "-1130272294246983140                 0.0                0.0  \n",
              "-1160159014793528221                 0.0                0.0  \n",
              "...                                  ...                ...  \n",
              "953707509720613429                   0.0                0.0  \n",
              "983095443598229476                   0.0                0.0  \n",
              "989049974880576288                   0.0                0.0  \n",
              "997469202936578234                   0.0                0.0  \n",
              "998688566268269815                   0.0                0.0  \n",
              "\n",
              "[1112 rows x 2366 columns]"
            ],
            "text/html": [
              "\n",
              "  <div id=\"df-e5d413e2-e027-40b9-a592-4debc6efbed4\">\n",
              "    <div class=\"colab-df-container\">\n",
              "      <div>\n",
              "<style scoped>\n",
              "    .dataframe tbody tr th:only-of-type {\n",
              "        vertical-align: middle;\n",
              "    }\n",
              "\n",
              "    .dataframe tbody tr th {\n",
              "        vertical-align: top;\n",
              "    }\n",
              "\n",
              "    .dataframe thead th {\n",
              "        text-align: right;\n",
              "    }\n",
              "</style>\n",
              "<table border=\"1\" class=\"dataframe\">\n",
              "  <thead>\n",
              "    <tr style=\"text-align: right;\">\n",
              "      <th>contentId</th>\n",
              "      <th>-1006791494035379303</th>\n",
              "      <th>-1021685224930603833</th>\n",
              "      <th>-1022885988494278200</th>\n",
              "      <th>-1024046541613287684</th>\n",
              "      <th>-1033806831489252007</th>\n",
              "      <th>-1038011342017850</th>\n",
              "      <th>-1039912738963181810</th>\n",
              "      <th>-1046621686880462790</th>\n",
              "      <th>-1051830303851697653</th>\n",
              "      <th>-1055630159212837930</th>\n",
              "      <th>...</th>\n",
              "      <th>9217155070834564627</th>\n",
              "      <th>921770761777842242</th>\n",
              "      <th>9220445660318725468</th>\n",
              "      <th>9222265156747237864</th>\n",
              "      <th>943818026930898372</th>\n",
              "      <th>957332268361319692</th>\n",
              "      <th>966067567430037498</th>\n",
              "      <th>972258375127367383</th>\n",
              "      <th>980458131533897249</th>\n",
              "      <th>98528655405030624</th>\n",
              "    </tr>\n",
              "    <tr>\n",
              "      <th>personId</th>\n",
              "      <th></th>\n",
              "      <th></th>\n",
              "      <th></th>\n",
              "      <th></th>\n",
              "      <th></th>\n",
              "      <th></th>\n",
              "      <th></th>\n",
              "      <th></th>\n",
              "      <th></th>\n",
              "      <th></th>\n",
              "      <th></th>\n",
              "      <th></th>\n",
              "      <th></th>\n",
              "      <th></th>\n",
              "      <th></th>\n",
              "      <th></th>\n",
              "      <th></th>\n",
              "      <th></th>\n",
              "      <th></th>\n",
              "      <th></th>\n",
              "      <th></th>\n",
              "    </tr>\n",
              "  </thead>\n",
              "  <tbody>\n",
              "    <tr>\n",
              "      <th>-1007001694607905623</th>\n",
              "      <td>0.0</td>\n",
              "      <td>0.0</td>\n",
              "      <td>0.0</td>\n",
              "      <td>0.0</td>\n",
              "      <td>0.0</td>\n",
              "      <td>0.0</td>\n",
              "      <td>0.0</td>\n",
              "      <td>0.0</td>\n",
              "      <td>0.0</td>\n",
              "      <td>0.0</td>\n",
              "      <td>...</td>\n",
              "      <td>0.0</td>\n",
              "      <td>0.0</td>\n",
              "      <td>0.0</td>\n",
              "      <td>0.0</td>\n",
              "      <td>0.000000</td>\n",
              "      <td>0.0</td>\n",
              "      <td>0.0</td>\n",
              "      <td>0.0</td>\n",
              "      <td>0.0</td>\n",
              "      <td>0.0</td>\n",
              "    </tr>\n",
              "    <tr>\n",
              "      <th>-1032019229384696495</th>\n",
              "      <td>1.0</td>\n",
              "      <td>0.0</td>\n",
              "      <td>0.0</td>\n",
              "      <td>0.0</td>\n",
              "      <td>0.0</td>\n",
              "      <td>0.0</td>\n",
              "      <td>1.0</td>\n",
              "      <td>0.0</td>\n",
              "      <td>0.0</td>\n",
              "      <td>0.0</td>\n",
              "      <td>...</td>\n",
              "      <td>3.0</td>\n",
              "      <td>0.0</td>\n",
              "      <td>0.0</td>\n",
              "      <td>0.0</td>\n",
              "      <td>2.321928</td>\n",
              "      <td>0.0</td>\n",
              "      <td>0.0</td>\n",
              "      <td>0.0</td>\n",
              "      <td>0.0</td>\n",
              "      <td>0.0</td>\n",
              "    </tr>\n",
              "    <tr>\n",
              "      <th>-108842214936804958</th>\n",
              "      <td>0.0</td>\n",
              "      <td>0.0</td>\n",
              "      <td>0.0</td>\n",
              "      <td>0.0</td>\n",
              "      <td>0.0</td>\n",
              "      <td>0.0</td>\n",
              "      <td>0.0</td>\n",
              "      <td>0.0</td>\n",
              "      <td>0.0</td>\n",
              "      <td>0.0</td>\n",
              "      <td>...</td>\n",
              "      <td>0.0</td>\n",
              "      <td>0.0</td>\n",
              "      <td>0.0</td>\n",
              "      <td>0.0</td>\n",
              "      <td>0.000000</td>\n",
              "      <td>0.0</td>\n",
              "      <td>2.0</td>\n",
              "      <td>0.0</td>\n",
              "      <td>0.0</td>\n",
              "      <td>0.0</td>\n",
              "    </tr>\n",
              "    <tr>\n",
              "      <th>-1130272294246983140</th>\n",
              "      <td>0.0</td>\n",
              "      <td>0.0</td>\n",
              "      <td>0.0</td>\n",
              "      <td>0.0</td>\n",
              "      <td>0.0</td>\n",
              "      <td>0.0</td>\n",
              "      <td>0.0</td>\n",
              "      <td>0.0</td>\n",
              "      <td>0.0</td>\n",
              "      <td>0.0</td>\n",
              "      <td>...</td>\n",
              "      <td>0.0</td>\n",
              "      <td>0.0</td>\n",
              "      <td>0.0</td>\n",
              "      <td>0.0</td>\n",
              "      <td>1.000000</td>\n",
              "      <td>0.0</td>\n",
              "      <td>0.0</td>\n",
              "      <td>0.0</td>\n",
              "      <td>0.0</td>\n",
              "      <td>0.0</td>\n",
              "    </tr>\n",
              "    <tr>\n",
              "      <th>-1160159014793528221</th>\n",
              "      <td>0.0</td>\n",
              "      <td>0.0</td>\n",
              "      <td>0.0</td>\n",
              "      <td>0.0</td>\n",
              "      <td>0.0</td>\n",
              "      <td>0.0</td>\n",
              "      <td>0.0</td>\n",
              "      <td>0.0</td>\n",
              "      <td>0.0</td>\n",
              "      <td>0.0</td>\n",
              "      <td>...</td>\n",
              "      <td>0.0</td>\n",
              "      <td>0.0</td>\n",
              "      <td>0.0</td>\n",
              "      <td>0.0</td>\n",
              "      <td>0.000000</td>\n",
              "      <td>0.0</td>\n",
              "      <td>0.0</td>\n",
              "      <td>0.0</td>\n",
              "      <td>0.0</td>\n",
              "      <td>0.0</td>\n",
              "    </tr>\n",
              "    <tr>\n",
              "      <th>...</th>\n",
              "      <td>...</td>\n",
              "      <td>...</td>\n",
              "      <td>...</td>\n",
              "      <td>...</td>\n",
              "      <td>...</td>\n",
              "      <td>...</td>\n",
              "      <td>...</td>\n",
              "      <td>...</td>\n",
              "      <td>...</td>\n",
              "      <td>...</td>\n",
              "      <td>...</td>\n",
              "      <td>...</td>\n",
              "      <td>...</td>\n",
              "      <td>...</td>\n",
              "      <td>...</td>\n",
              "      <td>...</td>\n",
              "      <td>...</td>\n",
              "      <td>...</td>\n",
              "      <td>...</td>\n",
              "      <td>...</td>\n",
              "      <td>...</td>\n",
              "    </tr>\n",
              "    <tr>\n",
              "      <th>953707509720613429</th>\n",
              "      <td>0.0</td>\n",
              "      <td>0.0</td>\n",
              "      <td>0.0</td>\n",
              "      <td>0.0</td>\n",
              "      <td>0.0</td>\n",
              "      <td>0.0</td>\n",
              "      <td>0.0</td>\n",
              "      <td>0.0</td>\n",
              "      <td>0.0</td>\n",
              "      <td>0.0</td>\n",
              "      <td>...</td>\n",
              "      <td>0.0</td>\n",
              "      <td>0.0</td>\n",
              "      <td>0.0</td>\n",
              "      <td>0.0</td>\n",
              "      <td>0.000000</td>\n",
              "      <td>0.0</td>\n",
              "      <td>0.0</td>\n",
              "      <td>0.0</td>\n",
              "      <td>0.0</td>\n",
              "      <td>0.0</td>\n",
              "    </tr>\n",
              "    <tr>\n",
              "      <th>983095443598229476</th>\n",
              "      <td>0.0</td>\n",
              "      <td>0.0</td>\n",
              "      <td>0.0</td>\n",
              "      <td>0.0</td>\n",
              "      <td>0.0</td>\n",
              "      <td>0.0</td>\n",
              "      <td>0.0</td>\n",
              "      <td>0.0</td>\n",
              "      <td>0.0</td>\n",
              "      <td>0.0</td>\n",
              "      <td>...</td>\n",
              "      <td>0.0</td>\n",
              "      <td>0.0</td>\n",
              "      <td>0.0</td>\n",
              "      <td>0.0</td>\n",
              "      <td>0.000000</td>\n",
              "      <td>0.0</td>\n",
              "      <td>0.0</td>\n",
              "      <td>0.0</td>\n",
              "      <td>0.0</td>\n",
              "      <td>0.0</td>\n",
              "    </tr>\n",
              "    <tr>\n",
              "      <th>989049974880576288</th>\n",
              "      <td>0.0</td>\n",
              "      <td>0.0</td>\n",
              "      <td>0.0</td>\n",
              "      <td>0.0</td>\n",
              "      <td>0.0</td>\n",
              "      <td>0.0</td>\n",
              "      <td>0.0</td>\n",
              "      <td>0.0</td>\n",
              "      <td>0.0</td>\n",
              "      <td>0.0</td>\n",
              "      <td>...</td>\n",
              "      <td>0.0</td>\n",
              "      <td>0.0</td>\n",
              "      <td>0.0</td>\n",
              "      <td>0.0</td>\n",
              "      <td>0.000000</td>\n",
              "      <td>0.0</td>\n",
              "      <td>0.0</td>\n",
              "      <td>0.0</td>\n",
              "      <td>0.0</td>\n",
              "      <td>0.0</td>\n",
              "    </tr>\n",
              "    <tr>\n",
              "      <th>997469202936578234</th>\n",
              "      <td>0.0</td>\n",
              "      <td>0.0</td>\n",
              "      <td>0.0</td>\n",
              "      <td>0.0</td>\n",
              "      <td>0.0</td>\n",
              "      <td>0.0</td>\n",
              "      <td>0.0</td>\n",
              "      <td>0.0</td>\n",
              "      <td>0.0</td>\n",
              "      <td>0.0</td>\n",
              "      <td>...</td>\n",
              "      <td>0.0</td>\n",
              "      <td>0.0</td>\n",
              "      <td>0.0</td>\n",
              "      <td>0.0</td>\n",
              "      <td>0.000000</td>\n",
              "      <td>0.0</td>\n",
              "      <td>0.0</td>\n",
              "      <td>0.0</td>\n",
              "      <td>0.0</td>\n",
              "      <td>0.0</td>\n",
              "    </tr>\n",
              "    <tr>\n",
              "      <th>998688566268269815</th>\n",
              "      <td>0.0</td>\n",
              "      <td>0.0</td>\n",
              "      <td>0.0</td>\n",
              "      <td>0.0</td>\n",
              "      <td>0.0</td>\n",
              "      <td>0.0</td>\n",
              "      <td>0.0</td>\n",
              "      <td>0.0</td>\n",
              "      <td>0.0</td>\n",
              "      <td>0.0</td>\n",
              "      <td>...</td>\n",
              "      <td>0.0</td>\n",
              "      <td>0.0</td>\n",
              "      <td>0.0</td>\n",
              "      <td>0.0</td>\n",
              "      <td>0.000000</td>\n",
              "      <td>0.0</td>\n",
              "      <td>0.0</td>\n",
              "      <td>0.0</td>\n",
              "      <td>0.0</td>\n",
              "      <td>0.0</td>\n",
              "    </tr>\n",
              "  </tbody>\n",
              "</table>\n",
              "<p>1112 rows × 2366 columns</p>\n",
              "</div>\n",
              "      <button class=\"colab-df-convert\" onclick=\"convertToInteractive('df-e5d413e2-e027-40b9-a592-4debc6efbed4')\"\n",
              "              title=\"Convert this dataframe to an interactive table.\"\n",
              "              style=\"display:none;\">\n",
              "        \n",
              "  <svg xmlns=\"http://www.w3.org/2000/svg\" height=\"24px\"viewBox=\"0 0 24 24\"\n",
              "       width=\"24px\">\n",
              "    <path d=\"M0 0h24v24H0V0z\" fill=\"none\"/>\n",
              "    <path d=\"M18.56 5.44l.94 2.06.94-2.06 2.06-.94-2.06-.94-.94-2.06-.94 2.06-2.06.94zm-11 1L8.5 8.5l.94-2.06 2.06-.94-2.06-.94L8.5 2.5l-.94 2.06-2.06.94zm10 10l.94 2.06.94-2.06 2.06-.94-2.06-.94-.94-2.06-.94 2.06-2.06.94z\"/><path d=\"M17.41 7.96l-1.37-1.37c-.4-.4-.92-.59-1.43-.59-.52 0-1.04.2-1.43.59L10.3 9.45l-7.72 7.72c-.78.78-.78 2.05 0 2.83L4 21.41c.39.39.9.59 1.41.59.51 0 1.02-.2 1.41-.59l7.78-7.78 2.81-2.81c.8-.78.8-2.07 0-2.86zM5.41 20L4 18.59l7.72-7.72 1.47 1.35L5.41 20z\"/>\n",
              "  </svg>\n",
              "      </button>\n",
              "      \n",
              "  <style>\n",
              "    .colab-df-container {\n",
              "      display:flex;\n",
              "      flex-wrap:wrap;\n",
              "      gap: 12px;\n",
              "    }\n",
              "\n",
              "    .colab-df-convert {\n",
              "      background-color: #E8F0FE;\n",
              "      border: none;\n",
              "      border-radius: 50%;\n",
              "      cursor: pointer;\n",
              "      display: none;\n",
              "      fill: #1967D2;\n",
              "      height: 32px;\n",
              "      padding: 0 0 0 0;\n",
              "      width: 32px;\n",
              "    }\n",
              "\n",
              "    .colab-df-convert:hover {\n",
              "      background-color: #E2EBFA;\n",
              "      box-shadow: 0px 1px 2px rgba(60, 64, 67, 0.3), 0px 1px 3px 1px rgba(60, 64, 67, 0.15);\n",
              "      fill: #174EA6;\n",
              "    }\n",
              "\n",
              "    [theme=dark] .colab-df-convert {\n",
              "      background-color: #3B4455;\n",
              "      fill: #D2E3FC;\n",
              "    }\n",
              "\n",
              "    [theme=dark] .colab-df-convert:hover {\n",
              "      background-color: #434B5C;\n",
              "      box-shadow: 0px 1px 3px 1px rgba(0, 0, 0, 0.15);\n",
              "      filter: drop-shadow(0px 1px 2px rgba(0, 0, 0, 0.3));\n",
              "      fill: #FFFFFF;\n",
              "    }\n",
              "  </style>\n",
              "\n",
              "      <script>\n",
              "        const buttonEl =\n",
              "          document.querySelector('#df-e5d413e2-e027-40b9-a592-4debc6efbed4 button.colab-df-convert');\n",
              "        buttonEl.style.display =\n",
              "          google.colab.kernel.accessAllowed ? 'block' : 'none';\n",
              "\n",
              "        async function convertToInteractive(key) {\n",
              "          const element = document.querySelector('#df-e5d413e2-e027-40b9-a592-4debc6efbed4');\n",
              "          const dataTable =\n",
              "            await google.colab.kernel.invokeFunction('convertToInteractive',\n",
              "                                                     [key], {});\n",
              "          if (!dataTable) return;\n",
              "\n",
              "          const docLinkHtml = 'Like what you see? Visit the ' +\n",
              "            '<a target=\"_blank\" href=https://colab.research.google.com/notebooks/data_table.ipynb>data table notebook</a>'\n",
              "            + ' to learn more about interactive tables.';\n",
              "          element.innerHTML = '';\n",
              "          dataTable['output_type'] = 'display_data';\n",
              "          await google.colab.output.renderOutput(dataTable, element);\n",
              "          const docLink = document.createElement('div');\n",
              "          docLink.innerHTML = docLinkHtml;\n",
              "          element.appendChild(docLink);\n",
              "        }\n",
              "      </script>\n",
              "    </div>\n",
              "  </div>\n",
              "  "
            ]
          },
          "metadata": {},
          "execution_count": 73
        }
      ]
    },
    {
      "cell_type": "code",
      "source": [
        "ratings_m = ratings.values"
      ],
      "metadata": {
        "id": "tpXw5IKZ1NiS"
      },
      "execution_count": 74,
      "outputs": []
    },
    {
      "cell_type": "code",
      "source": [
        "similarity_users = np.zeros((len(ratings_m), len(ratings_m)))\n",
        "\n",
        "for i in tqdm_notebook(range(len(ratings_m)-1)):\n",
        "    for j in range(i+1, len(ratings_m)):\n",
        "        \n",
        "        # nonzero elements of two users\n",
        "        mask_uv = (ratings_m[i] != 0) & (ratings_m[j] != 0)\n",
        "        \n",
        "        # continue if no intersection\n",
        "        if np.sum(mask_uv) == 0:\n",
        "            continue\n",
        "            \n",
        "        # get nonzero elements\n",
        "        ratings_v = ratings_m[i, mask_uv]\n",
        "        ratings_u = ratings_m[j, mask_uv]\n",
        "        \n",
        "        # for nonzero std\n",
        "        if len(np.unique(ratings_v)) < 2 or len(np.unique(ratings_u)) < 2:\n",
        "            continue\n",
        "\n",
        "        similarity_users[i,j] = np.corrcoef(ratings_v, ratings_u)[0, 1]\n",
        "        similarity_users[j,i] = similarity_users[i,j]\n",
        "\n"
      ],
      "metadata": {
        "colab": {
          "base_uri": "https://localhost:8080/",
          "height": 104,
          "referenced_widgets": [
            "e6081aca178546028189dc45b7b38830",
            "0fc36257edab41709bbf33ec41f30d5c",
            "0127d9c5b33c4ab3ae412140f53aa7d8",
            "9edd9b5ab791405c9d237e326b6f335b",
            "a854ed1e75c1463ead1f9479ee116ce0",
            "36603b9a8c6941269051f466d1230dac",
            "26f6a75c6070446595a914d87d5d4004",
            "2aadd7823582499788c46eab20e1ff88",
            "459185e9dc2a4897a36b98eb81de0548",
            "d821241b940c41f0b4732b501331d9d5",
            "80a37ef03bf345eb877225c4a4b05c1a"
          ]
        },
        "id": "HGe0WtG-0QFb",
        "outputId": "2a935956-7964-4181-b0cb-7b09d8893d13"
      },
      "execution_count": 75,
      "outputs": [
        {
          "output_type": "stream",
          "name": "stderr",
          "text": [
            "<ipython-input-75-86175ec9a813>:3: TqdmDeprecationWarning: This function will be removed in tqdm==5.0.0\n",
            "Please use `tqdm.notebook.tqdm` instead of `tqdm.tqdm_notebook`\n",
            "  for i in tqdm_notebook(range(len(ratings_m)-1)):\n"
          ]
        },
        {
          "output_type": "display_data",
          "data": {
            "text/plain": [
              "  0%|          | 0/1111 [00:00<?, ?it/s]"
            ],
            "application/vnd.jupyter.widget-view+json": {
              "version_major": 2,
              "version_minor": 0,
              "model_id": "e6081aca178546028189dc45b7b38830"
            }
          },
          "metadata": {}
        }
      ]
    },
    {
      "cell_type": "code",
      "source": [
        "prediction_user_based = []\n",
        "\n",
        "for i in tqdm_notebook(range(len(similarity_users))):\n",
        "\n",
        "    users_sim = similarity_users[i] > 0\n",
        "\n",
        "    if len(users_sim) == 0:\n",
        "        prediction_user_based.append([])\n",
        "    else:\n",
        "        tmp_recommend = np.argsort(ratings_m[users_sim].sum(axis=0))[::-1]\n",
        "        tmp_recommend = ratings.columns[tmp_recommend]\n",
        "        recommend = np.array(tmp_recommend)[~np.in1d(tmp_recommend, interactions.iloc[i])][:10]\n",
        "        prediction_user_based.append(list(recommend))\n",
        "\n",
        "interactions['prediction_user_based'] = prediction_user_based"
      ],
      "metadata": {
        "colab": {
          "base_uri": "https://localhost:8080/",
          "height": 104,
          "referenced_widgets": [
            "1b17a9e15fd94de3b81ab9ed162ffc6b",
            "548dce47947f4bf0b9f52e0820036f73",
            "c396296c8943443795e6ffdc158b494c",
            "5fba92965b50419cb4dc811003797c0f",
            "37de7e28db2540e3b1ee9e507d21245b",
            "95c57b33479c4841b68c1eeacf1b2b62",
            "b7f93d3985fc47709cb09fa980aba64f",
            "506aef932bd44bd198f39dc7d0b581c0",
            "8da60f3eb79c4b71a0c521bc74a20311",
            "c4b9f14d63a44769bd503a4cbb625205",
            "8588ca85ab2249fe9b989bd7e70446a6"
          ]
        },
        "id": "qU0HSLnK0v9q",
        "outputId": "8c18eb34-335d-4ffc-eb96-c6e551e367cb"
      },
      "execution_count": 76,
      "outputs": [
        {
          "output_type": "stream",
          "name": "stderr",
          "text": [
            "<ipython-input-76-a0a2c85b3d06>:3: TqdmDeprecationWarning: This function will be removed in tqdm==5.0.0\n",
            "Please use `tqdm.notebook.tqdm` instead of `tqdm.tqdm_notebook`\n",
            "  for i in tqdm_notebook(range(len(similarity_users))):\n"
          ]
        },
        {
          "output_type": "display_data",
          "data": {
            "text/plain": [
              "  0%|          | 0/1112 [00:00<?, ?it/s]"
            ],
            "application/vnd.jupyter.widget-view+json": {
              "version_major": 2,
              "version_minor": 0,
              "model_id": "1b17a9e15fd94de3b81ab9ed162ffc6b"
            }
          },
          "metadata": {}
        }
      ]
    },
    {
      "cell_type": "code",
      "source": [
        "calc_precision('prediction_user_based')"
      ],
      "metadata": {
        "colab": {
          "base_uri": "https://localhost:8080/"
        },
        "id": "2NUrMkY84cCZ",
        "outputId": "774ea461-4aeb-423a-df68-84d22059625b"
      },
      "execution_count": 77,
      "outputs": [
        {
          "output_type": "execute_result",
          "data": {
            "text/plain": [
              "0.0033918377988156998"
            ]
          },
          "metadata": {},
          "execution_count": 77
        }
      ]
    },
    {
      "cell_type": "markdown",
      "source": [
        "## SVD in ratings"
      ],
      "metadata": {
        "id": "SFbNVXpG5PTK"
      }
    },
    {
      "cell_type": "code",
      "source": [
        "from scipy.linalg import svd"
      ],
      "metadata": {
        "id": "gSKxC2Z05VIh"
      },
      "execution_count": 78,
      "outputs": []
    },
    {
      "cell_type": "code",
      "source": [
        "U, sigma, V = svd(ratings)\n",
        "\n",
        "print(ratings.shape, U.shape, sigma.shape, V.shape)"
      ],
      "metadata": {
        "colab": {
          "base_uri": "https://localhost:8080/"
        },
        "id": "RjN_1R1L5aSV",
        "outputId": "ac4205dd-9d49-41ca-ee9e-f3418627100e"
      },
      "execution_count": 79,
      "outputs": [
        {
          "output_type": "stream",
          "name": "stdout",
          "text": [
            "(1112, 2366) (1112, 1112) (1112,) (2366, 2366)\n"
          ]
        }
      ]
    },
    {
      "cell_type": "code",
      "source": [
        "Sigma = np.zeros((1112, 2366))\n",
        "Sigma[:1112, :1112] = np.diag(sigma)\n",
        "\n",
        "new_ratings = U.dot(Sigma).dot(V)\n",
        "\n",
        "print(sum(sum((new_ratings - ratings.values) ** 2)))"
      ],
      "metadata": {
        "colab": {
          "base_uri": "https://localhost:8080/"
        },
        "id": "dgzHZKwC5aVC",
        "outputId": "d4508e1c-eec2-4af3-b665-3157b0cb9fa6"
      },
      "execution_count": 80,
      "outputs": [
        {
          "output_type": "stream",
          "name": "stdout",
          "text": [
            "9.925722114202145e-25\n"
          ]
        }
      ]
    },
    {
      "cell_type": "code",
      "source": [
        "K = 100\n",
        "\n",
        "sigma[K:] = 0\n",
        "Sigma = np.zeros((1112, 2366))\n",
        "Sigma[:1112, :1112] = np.diag(sigma)"
      ],
      "metadata": {
        "id": "3pXDb-rr5aYG"
      },
      "execution_count": 81,
      "outputs": []
    },
    {
      "cell_type": "code",
      "source": [
        "new_ratings = U.dot(Sigma).dot(V)\n",
        "\n",
        "print(sum(sum((new_ratings - ratings.values) ** 2)))\n",
        "print(sum(sum((ratings.values.mean() - ratings.values) ** 2)))"
      ],
      "metadata": {
        "colab": {
          "base_uri": "https://localhost:8080/"
        },
        "id": "sDA6JG3L5ab6",
        "outputId": "445d80f1-7e10-42a6-f5f5-e264eaa4ad46"
      },
      "execution_count": 82,
      "outputs": [
        {
          "output_type": "stream",
          "name": "stdout",
          "text": [
            "25843.424898912766\n",
            "78622.13000466056\n"
          ]
        }
      ]
    },
    {
      "cell_type": "code",
      "source": [
        "new_ratings = pd.DataFrame(new_ratings, index=ratings.index, columns=ratings.columns)\n",
        "\n",
        "predictions = []\n",
        "\n",
        "for personId in tqdm_notebook(interactions.index):\n",
        "    prediction = (\n",
        "        new_ratings\n",
        "        .loc[personId]\n",
        "        .sort_values(ascending=False)\n",
        "        .index.values\n",
        "    )\n",
        "    \n",
        "    predictions.append(\n",
        "        list(prediction[~np.in1d(\n",
        "            prediction,\n",
        "            interactions.loc[personId, 'true_train'])])[:top_k])\n",
        "\n",
        "interactions['prediction_svd'] = predictions"
      ],
      "metadata": {
        "colab": {
          "base_uri": "https://localhost:8080/",
          "height": 104,
          "referenced_widgets": [
            "47304832ab6e4ff6817241cf40afe488",
            "2573abe4fa694725b2bfba9ff429a955",
            "bb0963afac1d437ab01ccdeaec9a3e1e",
            "a78a54b7e11845d1b7533ff6875c4845",
            "e59cd21ae60a4d68bdacf441df5e73ff",
            "3a5b059884d14109adba9d6bfddeae10",
            "81980e29613147fd9f516201ffb3c9a9",
            "309b674c71904b24a040db89faf49e53",
            "078c207d5c094f10878840c9a235fd07",
            "296ecead348b4791b3a547d19ddce90e",
            "f789fce6b901417e8e7890783566c3f4"
          ]
        },
        "id": "LiFkPLtJ5af3",
        "outputId": "992f529f-c4c9-4f5d-91c5-ff42d0294e2f"
      },
      "execution_count": 83,
      "outputs": [
        {
          "output_type": "stream",
          "name": "stderr",
          "text": [
            "<ipython-input-83-28944ec765f3>:5: TqdmDeprecationWarning: This function will be removed in tqdm==5.0.0\n",
            "Please use `tqdm.notebook.tqdm` instead of `tqdm.tqdm_notebook`\n",
            "  for personId in tqdm_notebook(interactions.index):\n"
          ]
        },
        {
          "output_type": "display_data",
          "data": {
            "text/plain": [
              "  0%|          | 0/1112 [00:00<?, ?it/s]"
            ],
            "application/vnd.jupyter.widget-view+json": {
              "version_major": 2,
              "version_minor": 0,
              "model_id": "47304832ab6e4ff6817241cf40afe488"
            }
          },
          "metadata": {}
        }
      ]
    },
    {
      "cell_type": "code",
      "source": [
        "calc_precision('prediction_svd')"
      ],
      "metadata": {
        "colab": {
          "base_uri": "https://localhost:8080/"
        },
        "id": "iLiqtOFp5ajq",
        "outputId": "c13dacd9-b214-4396-c645-a659a6e40cef"
      },
      "execution_count": 84,
      "outputs": [
        {
          "output_type": "execute_result",
          "data": {
            "text/plain": [
              "0.012212989310270756"
            ]
          },
          "metadata": {},
          "execution_count": 84
        }
      ]
    },
    {
      "cell_type": "markdown",
      "source": [
        "## CONTENTS MODEL"
      ],
      "metadata": {
        "id": "6iSQmi3cZyUB"
      }
    },
    {
      "cell_type": "code",
      "source": [
        "test_personId = np.repeat(interactions.index, len(ratings.columns)) \n",
        "test_contentId = list(ratings.columns) * len(interactions)\n",
        "test = pd.DataFrame(\n",
        "    np.array([test_personId, test_contentId]).T,\n",
        "    columns=['personId', 'contentId'])\n",
        "\n",
        "interactions_train_df = pd.concat((\n",
        "    interactions_train_df,\n",
        "    test.loc[\n",
        "        np.random.permutation(test.index)[\n",
        "            :4*len(interactions_train_df)]]), ignore_index=True)\n",
        "interactions_train_df.eventStrength.fillna(0, inplace=True)"
      ],
      "metadata": {
        "id": "rpxjBQm2aFY7"
      },
      "execution_count": 151,
      "outputs": []
    },
    {
      "cell_type": "code",
      "source": [
        "interactions_train_df = interactions_train_df.merge(articls_df, how='left', on='contentId')\n",
        "interactions_test_df = interactions_test_df.merge(articls_df, how='left', on='contentId')"
      ],
      "metadata": {
        "id": "65CkDii9peSi"
      },
      "execution_count": 153,
      "outputs": []
    },
    {
      "cell_type": "code",
      "source": [
        "# first feature index\n",
        "features_start = len(interactions_train_df.columns)"
      ],
      "metadata": {
        "id": "98f1COEYrUnO"
      },
      "execution_count": 154,
      "outputs": []
    },
    {
      "cell_type": "code",
      "source": [
        "test_personId = np.repeat(interactions.index, len(articls_df)) \n",
        "test_contentId = list(articls_df.contentId) * len(interactions)\n",
        "test = pd.DataFrame(\n",
        "    np.array([test_personId, test_contentId]).T,\n",
        "    columns=['personId', 'contentId'])\n",
        "test = test.merge(articls_df, how='left', on='contentId')\n",
        "\n",
        "test.head()"
      ],
      "metadata": {
        "colab": {
          "base_uri": "https://localhost:8080/",
          "height": 686
        },
        "id": "yWz4qFRfxLoi",
        "outputId": "caef7be2-3293-44f1-b206-e1a1be7cfd62"
      },
      "execution_count": 155,
      "outputs": [
        {
          "output_type": "execute_result",
          "data": {
            "text/plain": [
              "               personId             contentId   timestamp       eventType  \\\n",
              "0  -1007001694607905623  -4110354420726924665  1459193988  CONTENT SHARED   \n",
              "1  -1007001694607905623  -7292285110016212249  1459194146  CONTENT SHARED   \n",
              "2  -1007001694607905623  -6151852268067518688  1459194474  CONTENT SHARED   \n",
              "3  -1007001694607905623   2448026894306402386  1459194497  CONTENT SHARED   \n",
              "4  -1007001694607905623  -2826566343807132236  1459194522  CONTENT SHARED   \n",
              "\n",
              "        authorPersonId      authorSessionId authorUserAgent authorRegion  \\\n",
              "0  4340306774493623681  8940341205206233829             NaN          NaN   \n",
              "1  4340306774493623681  8940341205206233829             NaN          NaN   \n",
              "2  3891637997717104548 -1457532940883382585             NaN          NaN   \n",
              "3  4340306774493623681  8940341205206233829             NaN          NaN   \n",
              "4  4340306774493623681  8940341205206233829             NaN          NaN   \n",
              "\n",
              "  authorCountry contentType  \\\n",
              "0           NaN        HTML   \n",
              "1           NaN        HTML   \n",
              "2           NaN        HTML   \n",
              "3           NaN        HTML   \n",
              "4           NaN        HTML   \n",
              "\n",
              "                                                 url  \\\n",
              "0  http://www.nytimes.com/2016/03/28/business/dea...   \n",
              "1  http://cointelegraph.com/news/bitcoin-future-w...   \n",
              "2  https://cloudplatform.googleblog.com/2016/03/G...   \n",
              "3  https://bitcoinmagazine.com/articles/ibm-wants...   \n",
              "4  http://www.coindesk.com/ieee-blockchain-oxford...   \n",
              "\n",
              "                                               title  \\\n",
              "0  Ethereum, a Virtual Currency, Enables Transact...   \n",
              "1  Bitcoin Future: When GBPcoin of Branson Wins O...   \n",
              "2                       Google Data Center 360° Tour   \n",
              "3  IBM Wants to \"Evolve the Internet\" With Blockc...   \n",
              "4  IEEE to Talk Blockchain at Cloud Computing Oxf...   \n",
              "\n",
              "                                                text lang  \n",
              "0  All of this work is still very early. The firs...   en  \n",
              "1  The alarm clock wakes me at 8:00 with stream o...   en  \n",
              "2  We're excited to share the Google Data Center ...   en  \n",
              "3  The Aite Group projects the blockchain market ...   en  \n",
              "4  One of the largest and oldest organizations fo...   en  "
            ],
            "text/html": [
              "\n",
              "  <div id=\"df-f0221827-58ea-4ccf-9416-70aed7f8ec45\">\n",
              "    <div class=\"colab-df-container\">\n",
              "      <div>\n",
              "<style scoped>\n",
              "    .dataframe tbody tr th:only-of-type {\n",
              "        vertical-align: middle;\n",
              "    }\n",
              "\n",
              "    .dataframe tbody tr th {\n",
              "        vertical-align: top;\n",
              "    }\n",
              "\n",
              "    .dataframe thead th {\n",
              "        text-align: right;\n",
              "    }\n",
              "</style>\n",
              "<table border=\"1\" class=\"dataframe\">\n",
              "  <thead>\n",
              "    <tr style=\"text-align: right;\">\n",
              "      <th></th>\n",
              "      <th>personId</th>\n",
              "      <th>contentId</th>\n",
              "      <th>timestamp</th>\n",
              "      <th>eventType</th>\n",
              "      <th>authorPersonId</th>\n",
              "      <th>authorSessionId</th>\n",
              "      <th>authorUserAgent</th>\n",
              "      <th>authorRegion</th>\n",
              "      <th>authorCountry</th>\n",
              "      <th>contentType</th>\n",
              "      <th>url</th>\n",
              "      <th>title</th>\n",
              "      <th>text</th>\n",
              "      <th>lang</th>\n",
              "    </tr>\n",
              "  </thead>\n",
              "  <tbody>\n",
              "    <tr>\n",
              "      <th>0</th>\n",
              "      <td>-1007001694607905623</td>\n",
              "      <td>-4110354420726924665</td>\n",
              "      <td>1459193988</td>\n",
              "      <td>CONTENT SHARED</td>\n",
              "      <td>4340306774493623681</td>\n",
              "      <td>8940341205206233829</td>\n",
              "      <td>NaN</td>\n",
              "      <td>NaN</td>\n",
              "      <td>NaN</td>\n",
              "      <td>HTML</td>\n",
              "      <td>http://www.nytimes.com/2016/03/28/business/dea...</td>\n",
              "      <td>Ethereum, a Virtual Currency, Enables Transact...</td>\n",
              "      <td>All of this work is still very early. The firs...</td>\n",
              "      <td>en</td>\n",
              "    </tr>\n",
              "    <tr>\n",
              "      <th>1</th>\n",
              "      <td>-1007001694607905623</td>\n",
              "      <td>-7292285110016212249</td>\n",
              "      <td>1459194146</td>\n",
              "      <td>CONTENT SHARED</td>\n",
              "      <td>4340306774493623681</td>\n",
              "      <td>8940341205206233829</td>\n",
              "      <td>NaN</td>\n",
              "      <td>NaN</td>\n",
              "      <td>NaN</td>\n",
              "      <td>HTML</td>\n",
              "      <td>http://cointelegraph.com/news/bitcoin-future-w...</td>\n",
              "      <td>Bitcoin Future: When GBPcoin of Branson Wins O...</td>\n",
              "      <td>The alarm clock wakes me at 8:00 with stream o...</td>\n",
              "      <td>en</td>\n",
              "    </tr>\n",
              "    <tr>\n",
              "      <th>2</th>\n",
              "      <td>-1007001694607905623</td>\n",
              "      <td>-6151852268067518688</td>\n",
              "      <td>1459194474</td>\n",
              "      <td>CONTENT SHARED</td>\n",
              "      <td>3891637997717104548</td>\n",
              "      <td>-1457532940883382585</td>\n",
              "      <td>NaN</td>\n",
              "      <td>NaN</td>\n",
              "      <td>NaN</td>\n",
              "      <td>HTML</td>\n",
              "      <td>https://cloudplatform.googleblog.com/2016/03/G...</td>\n",
              "      <td>Google Data Center 360° Tour</td>\n",
              "      <td>We're excited to share the Google Data Center ...</td>\n",
              "      <td>en</td>\n",
              "    </tr>\n",
              "    <tr>\n",
              "      <th>3</th>\n",
              "      <td>-1007001694607905623</td>\n",
              "      <td>2448026894306402386</td>\n",
              "      <td>1459194497</td>\n",
              "      <td>CONTENT SHARED</td>\n",
              "      <td>4340306774493623681</td>\n",
              "      <td>8940341205206233829</td>\n",
              "      <td>NaN</td>\n",
              "      <td>NaN</td>\n",
              "      <td>NaN</td>\n",
              "      <td>HTML</td>\n",
              "      <td>https://bitcoinmagazine.com/articles/ibm-wants...</td>\n",
              "      <td>IBM Wants to \"Evolve the Internet\" With Blockc...</td>\n",
              "      <td>The Aite Group projects the blockchain market ...</td>\n",
              "      <td>en</td>\n",
              "    </tr>\n",
              "    <tr>\n",
              "      <th>4</th>\n",
              "      <td>-1007001694607905623</td>\n",
              "      <td>-2826566343807132236</td>\n",
              "      <td>1459194522</td>\n",
              "      <td>CONTENT SHARED</td>\n",
              "      <td>4340306774493623681</td>\n",
              "      <td>8940341205206233829</td>\n",
              "      <td>NaN</td>\n",
              "      <td>NaN</td>\n",
              "      <td>NaN</td>\n",
              "      <td>HTML</td>\n",
              "      <td>http://www.coindesk.com/ieee-blockchain-oxford...</td>\n",
              "      <td>IEEE to Talk Blockchain at Cloud Computing Oxf...</td>\n",
              "      <td>One of the largest and oldest organizations fo...</td>\n",
              "      <td>en</td>\n",
              "    </tr>\n",
              "  </tbody>\n",
              "</table>\n",
              "</div>\n",
              "      <button class=\"colab-df-convert\" onclick=\"convertToInteractive('df-f0221827-58ea-4ccf-9416-70aed7f8ec45')\"\n",
              "              title=\"Convert this dataframe to an interactive table.\"\n",
              "              style=\"display:none;\">\n",
              "        \n",
              "  <svg xmlns=\"http://www.w3.org/2000/svg\" height=\"24px\"viewBox=\"0 0 24 24\"\n",
              "       width=\"24px\">\n",
              "    <path d=\"M0 0h24v24H0V0z\" fill=\"none\"/>\n",
              "    <path d=\"M18.56 5.44l.94 2.06.94-2.06 2.06-.94-2.06-.94-.94-2.06-.94 2.06-2.06.94zm-11 1L8.5 8.5l.94-2.06 2.06-.94-2.06-.94L8.5 2.5l-.94 2.06-2.06.94zm10 10l.94 2.06.94-2.06 2.06-.94-2.06-.94-.94-2.06-.94 2.06-2.06.94z\"/><path d=\"M17.41 7.96l-1.37-1.37c-.4-.4-.92-.59-1.43-.59-.52 0-1.04.2-1.43.59L10.3 9.45l-7.72 7.72c-.78.78-.78 2.05 0 2.83L4 21.41c.39.39.9.59 1.41.59.51 0 1.02-.2 1.41-.59l7.78-7.78 2.81-2.81c.8-.78.8-2.07 0-2.86zM5.41 20L4 18.59l7.72-7.72 1.47 1.35L5.41 20z\"/>\n",
              "  </svg>\n",
              "      </button>\n",
              "      \n",
              "  <style>\n",
              "    .colab-df-container {\n",
              "      display:flex;\n",
              "      flex-wrap:wrap;\n",
              "      gap: 12px;\n",
              "    }\n",
              "\n",
              "    .colab-df-convert {\n",
              "      background-color: #E8F0FE;\n",
              "      border: none;\n",
              "      border-radius: 50%;\n",
              "      cursor: pointer;\n",
              "      display: none;\n",
              "      fill: #1967D2;\n",
              "      height: 32px;\n",
              "      padding: 0 0 0 0;\n",
              "      width: 32px;\n",
              "    }\n",
              "\n",
              "    .colab-df-convert:hover {\n",
              "      background-color: #E2EBFA;\n",
              "      box-shadow: 0px 1px 2px rgba(60, 64, 67, 0.3), 0px 1px 3px 1px rgba(60, 64, 67, 0.15);\n",
              "      fill: #174EA6;\n",
              "    }\n",
              "\n",
              "    [theme=dark] .colab-df-convert {\n",
              "      background-color: #3B4455;\n",
              "      fill: #D2E3FC;\n",
              "    }\n",
              "\n",
              "    [theme=dark] .colab-df-convert:hover {\n",
              "      background-color: #434B5C;\n",
              "      box-shadow: 0px 1px 3px 1px rgba(0, 0, 0, 0.15);\n",
              "      filter: drop-shadow(0px 1px 2px rgba(0, 0, 0, 0.3));\n",
              "      fill: #FFFFFF;\n",
              "    }\n",
              "  </style>\n",
              "\n",
              "      <script>\n",
              "        const buttonEl =\n",
              "          document.querySelector('#df-f0221827-58ea-4ccf-9416-70aed7f8ec45 button.colab-df-convert');\n",
              "        buttonEl.style.display =\n",
              "          google.colab.kernel.accessAllowed ? 'block' : 'none';\n",
              "\n",
              "        async function convertToInteractive(key) {\n",
              "          const element = document.querySelector('#df-f0221827-58ea-4ccf-9416-70aed7f8ec45');\n",
              "          const dataTable =\n",
              "            await google.colab.kernel.invokeFunction('convertToInteractive',\n",
              "                                                     [key], {});\n",
              "          if (!dataTable) return;\n",
              "\n",
              "          const docLinkHtml = 'Like what you see? Visit the ' +\n",
              "            '<a target=\"_blank\" href=https://colab.research.google.com/notebooks/data_table.ipynb>data table notebook</a>'\n",
              "            + ' to learn more about interactive tables.';\n",
              "          element.innerHTML = '';\n",
              "          dataTable['output_type'] = 'display_data';\n",
              "          await google.colab.output.renderOutput(dataTable, element);\n",
              "          const docLink = document.createElement('div');\n",
              "          docLink.innerHTML = docLinkHtml;\n",
              "          element.appendChild(docLink);\n",
              "        }\n",
              "      </script>\n",
              "    </div>\n",
              "  </div>\n",
              "  "
            ]
          },
          "metadata": {},
          "execution_count": 155
        }
      ]
    },
    {
      "cell_type": "code",
      "source": [
        "interactions_train_df['is_HTML'] = interactions_train_df.contentType == 'HTML'\n",
        "interactions_train_df['is_RICH'] = interactions_train_df.contentType == 'RICH'\n",
        "interactions_train_df['is_VIDEO'] = interactions_train_df.contentType == 'VIDEO'\n",
        "\n",
        "test['is_HTML'] = test.contentType == 'HTML'\n",
        "test['is_RICH'] = test.contentType == 'RICH'\n",
        "test['is_VIDEO'] = test.contentType == 'VIDEO'"
      ],
      "metadata": {
        "id": "erz97xi3tKeW"
      },
      "execution_count": 156,
      "outputs": []
    },
    {
      "cell_type": "code",
      "source": [
        "interactions_train_df['title_length'] = interactions_train_df.title.fillna('').apply(len)\n",
        "interactions_train_df['text_length'] = interactions_train_df.text.fillna('').apply(len)\n",
        "\n",
        "test['title_length'] = test.title.fillna('').apply(len)\n",
        "test['text_length'] = test.text.fillna('').apply(len)\n",
        "\n",
        "interactions_train_df['has_new'] = \\\n",
        "    interactions_train_df.title.fillna('').apply(lambda x: 'new' in x.lower())\n",
        "interactions_train_df['has_why'] = \\\n",
        "    interactions_train_df.title.fillna('').apply(lambda x: 'why' in x.lower())\n",
        "interactions_train_df['has_how'] = \\\n",
        "    interactions_train_df.title.fillna('').apply(lambda x: 'how' in x.lower())\n",
        "interactions_train_df['has_ai'] = \\\n",
        "    interactions_train_df.title.fillna('').apply(lambda x: 'ai' in x.lower())\n",
        "\n",
        "test['has_new'] = \\\n",
        "    test.title.fillna('').apply(lambda x: 'new' in x.lower())\n",
        "test['has_why'] = \\\n",
        "    test.title.fillna('').apply(lambda x: 'why' in x.lower())\n",
        "test['has_how'] = \\\n",
        "    test.title.fillna('').apply(lambda x: 'how' in x.lower())\n",
        "test['has_ai'] = \\\n",
        "    test.title.fillna('').apply(lambda x: 'ai' in x.lower())"
      ],
      "metadata": {
        "id": "AKKtu8DztZCW"
      },
      "execution_count": 157,
      "outputs": []
    },
    {
      "cell_type": "code",
      "source": [
        "interactions_train_df['is_lang_en'] = interactions_train_df.lang == 'en'\n",
        "interactions_train_df['is_lang_pt'] = interactions_train_df.lang == 'pt'\n",
        "\n",
        "test['is_lang_en'] = test.lang == 'en'\n",
        "test['is_lang_pt'] = test.lang == 'pt'"
      ],
      "metadata": {
        "id": "riR_Nbcw4kPB"
      },
      "execution_count": 158,
      "outputs": []
    },
    {
      "cell_type": "code",
      "source": [
        "!pip install catboost"
      ],
      "metadata": {
        "id": "zrOsQMyFy1ug"
      },
      "execution_count": null,
      "outputs": []
    },
    {
      "cell_type": "code",
      "source": [
        "import catboost\n",
        "model = catboost.CatBoostClassifier()\n",
        "model.fit(interactions_train_df[interactions_train_df.columns[features_start:]],\n",
        "          np.array(interactions_train_df.eventStrength > 0, dtype=int))"
      ],
      "metadata": {
        "id": "FbzComLoyt9C"
      },
      "execution_count": null,
      "outputs": []
    },
    {
      "cell_type": "code",
      "source": [
        "top_k = 10\n",
        "\n",
        "predictions = model.predict_proba(test[interactions_train_df.columns[features_start:]])[:, 1]\n",
        "test['predictions'] = predictions"
      ],
      "metadata": {
        "id": "OASG7dW14x6B"
      },
      "execution_count": 160,
      "outputs": []
    },
    {
      "cell_type": "code",
      "source": [
        "test = test.sort_values('predictions', ascending=True)\n",
        "predictions = test.groupby('personId')['contentId'].aggregate(list)\n",
        "tmp_predictions = []\n",
        "\n",
        "for personId in tqdm_notebook(interactions.index):\n",
        "    prediction = np.array(predictions.loc[personId])\n",
        "\n",
        "    tmp_predictions.append(\n",
        "        list(prediction[~np.in1d(prediction, interactions.loc[personId, 'true_train'])])[:top_k]\n",
        "\n",
        "    )\n",
        "\n",
        "interactions['prediction_content'] = tmp_predictions"
      ],
      "metadata": {
        "colab": {
          "base_uri": "https://localhost:8080/",
          "height": 104,
          "referenced_widgets": [
            "34e12d2e27e74648aebdefdf1307b824",
            "402a096bd76d4645b5e0becef542af3a",
            "dd172e7358c54325af66c80b75c3d1cd",
            "6011b326431744e2993de3f862a5d7fe",
            "53bdcaa8cadd4b48bf2193280fed1410",
            "fa4c075ffd70474da1669b0711cb37e0",
            "01c41264776b4b339323b1d38285f033",
            "c75a1676ef464a3e926b51ee3c1c9d17",
            "5d0e21d5750e4d1eadd5595e7f0fbf30",
            "da5afba3f4894c47abbadfaa5a7a45ee",
            "e468debd475543cb91f70e52dc682f8c"
          ]
        },
        "id": "C0uUly1K4yBw",
        "outputId": "bcec5bc7-baf8-49bc-8d2d-f21dc014615a"
      },
      "execution_count": 161,
      "outputs": [
        {
          "output_type": "stream",
          "name": "stderr",
          "text": [
            "<ipython-input-161-9b41d8ce340f>:5: TqdmDeprecationWarning: This function will be removed in tqdm==5.0.0\n",
            "Please use `tqdm.notebook.tqdm` instead of `tqdm.tqdm_notebook`\n",
            "  for personId in tqdm_notebook(interactions.index):\n"
          ]
        },
        {
          "output_type": "display_data",
          "data": {
            "text/plain": [
              "  0%|          | 0/1112 [00:00<?, ?it/s]"
            ],
            "application/vnd.jupyter.widget-view+json": {
              "version_major": 2,
              "version_minor": 0,
              "model_id": "34e12d2e27e74648aebdefdf1307b824"
            }
          },
          "metadata": {}
        }
      ]
    },
    {
      "cell_type": "code",
      "source": [
        "calc_precision('prediction_content')"
      ],
      "metadata": {
        "colab": {
          "base_uri": "https://localhost:8080/"
        },
        "id": "rgbG_jgF7Hx8",
        "outputId": "16408dfe-d147-41ac-ca0e-24ba02aaf6bd"
      },
      "execution_count": 162,
      "outputs": [
        {
          "output_type": "execute_result",
          "data": {
            "text/plain": [
              "0.0012588679431336915"
            ]
          },
          "metadata": {},
          "execution_count": 162
        }
      ]
    },
    {
      "cell_type": "markdown",
      "source": [
        "## FACTORISATION MASHINE\n"
      ],
      "metadata": {
        "id": "-qIsSwdb7XlJ"
      }
    },
    {
      "cell_type": "code",
      "source": [
        "!pip install pyfm"
      ],
      "metadata": {
        "colab": {
          "base_uri": "https://localhost:8080/"
        },
        "id": "ZJWEMTV47dor",
        "outputId": "f74d3e67-4dd9-4c77-a65b-330b600aae38"
      },
      "execution_count": 163,
      "outputs": [
        {
          "output_type": "stream",
          "name": "stdout",
          "text": [
            "Looking in indexes: https://pypi.org/simple, https://us-python.pkg.dev/colab-wheels/public/simple/\n",
            "Collecting pyfm\n",
            "  Downloading pyfm-0.2.4.tar.gz (12 kB)\n",
            "  Preparing metadata (setup.py) ... \u001b[?25l\u001b[?25hdone\n",
            "Requirement already satisfied: requests>=2.0.0 in /usr/local/lib/python3.9/dist-packages (from pyfm) (2.25.1)\n",
            "Collecting urwid>=1.2.1\n",
            "  Downloading urwid-2.1.2.tar.gz (634 kB)\n",
            "\u001b[2K     \u001b[90m━━━━━━━━━━━━━━━━━━━━━━━━━━━━━━━━━━━━━━\u001b[0m \u001b[32m634.6/634.6 KB\u001b[0m \u001b[31m23.2 MB/s\u001b[0m eta \u001b[36m0:00:00\u001b[0m\n",
            "\u001b[?25h  Preparing metadata (setup.py) ... \u001b[?25l\u001b[?25hdone\n",
            "Requirement already satisfied: chardet<5,>=3.0.2 in /usr/local/lib/python3.9/dist-packages (from requests>=2.0.0->pyfm) (4.0.0)\n",
            "Requirement already satisfied: urllib3<1.27,>=1.21.1 in /usr/local/lib/python3.9/dist-packages (from requests>=2.0.0->pyfm) (1.26.15)\n",
            "Requirement already satisfied: idna<3,>=2.5 in /usr/local/lib/python3.9/dist-packages (from requests>=2.0.0->pyfm) (2.10)\n",
            "Requirement already satisfied: certifi>=2017.4.17 in /usr/local/lib/python3.9/dist-packages (from requests>=2.0.0->pyfm) (2022.12.7)\n",
            "Building wheels for collected packages: pyfm, urwid\n",
            "  Building wheel for pyfm (setup.py) ... \u001b[?25l\u001b[?25hdone\n",
            "  Created wheel for pyfm: filename=pyfm-0.2.4-py3-none-any.whl size=13230 sha256=3e1fe582c8a6c2e8921239444cb01ed61a005127d5d80207a005cb0d6f42cf15\n",
            "  Stored in directory: /root/.cache/pip/wheels/c9/26/af/cf7ad3d9b212638cb3f378af52a3871edf9cd0941b88178f4e\n",
            "  Building wheel for urwid (setup.py) ... \u001b[?25l\u001b[?25hdone\n",
            "  Created wheel for urwid: filename=urwid-2.1.2-cp39-cp39-linux_x86_64.whl size=259620 sha256=1c0067cdb21ff202a7b3c1f2f0ceb1ac8980dab26acfde726f61b8c69373c39c\n",
            "  Stored in directory: /root/.cache/pip/wheels/44/ec/04/2c1080c3ee4e80e76d662ac35f0594a2a86f9df12095b05cb3\n",
            "Successfully built pyfm urwid\n",
            "Installing collected packages: urwid, pyfm\n",
            "Successfully installed pyfm-0.2.4 urwid-2.1.2\n"
          ]
        }
      ]
    },
    {
      "cell_type": "code",
      "source": [
        "!pip install git+https://github.com/coreylynch/pyFM"
      ],
      "metadata": {
        "colab": {
          "base_uri": "https://localhost:8080/",
          "height": 420
        },
        "id": "fk2ifGsj9Aio",
        "outputId": "3c8cdfbb-cc81-4df3-c116-efe4361b9fe6"
      },
      "execution_count": 165,
      "outputs": [
        {
          "output_type": "stream",
          "name": "stdout",
          "text": [
            "Looking in indexes: https://pypi.org/simple, https://us-python.pkg.dev/colab-wheels/public/simple/\n",
            "Collecting git+https://github.com/coreylynch/pyFM\n",
            "  Cloning https://github.com/coreylynch/pyFM to /tmp/pip-req-build-mkz8kcex\n",
            "  Running command git clone --filter=blob:none --quiet https://github.com/coreylynch/pyFM /tmp/pip-req-build-mkz8kcex\n",
            "  Resolved https://github.com/coreylynch/pyFM to commit 0696c980993889a9429e4ab0b6c7dc8be6dac4de\n",
            "  Preparing metadata (setup.py) ... \u001b[?25l\u001b[?25hdone\n",
            "Building wheels for collected packages: pyfm\n",
            "  Building wheel for pyfm (setup.py) ... \u001b[?25l\u001b[?25hdone\n",
            "  Created wheel for pyfm: filename=pyfm-0.0.0-cp39-cp39-linux_x86_64.whl size=320284 sha256=bc9665b3e91c54218e6dd66382a86d06c6378d03b2f7e0ff0f6c0e076adf8071\n",
            "  Stored in directory: /tmp/pip-ephem-wheel-cache-ngt7iecb/wheels/20/32/78/864c9f42cd82e3ce9f5cf64e79abd2aa032791e44aa55ad3d3\n",
            "Successfully built pyfm\n",
            "Installing collected packages: pyfm\n",
            "  Attempting uninstall: pyfm\n",
            "    Found existing installation: pyfm 0.2.4\n",
            "    Uninstalling pyfm-0.2.4:\n",
            "      Successfully uninstalled pyfm-0.2.4\n",
            "Successfully installed pyfm-0.0.0\n"
          ]
        },
        {
          "output_type": "display_data",
          "data": {
            "application/vnd.colab-display-data+json": {
              "pip_warning": {
                "packages": [
                  "pyfm"
                ]
              }
            }
          },
          "metadata": {}
        }
      ]
    },
    {
      "cell_type": "code",
      "source": [
        "from pyfm import pylibfm\n",
        "from sklearn.feature_extraction import DictVectorizer"
      ],
      "metadata": {
        "id": "BFIOLvSQ7oJl"
      },
      "execution_count": 166,
      "outputs": []
    },
    {
      "cell_type": "code",
      "source": [
        "train_data = []\n",
        "\n",
        "for i in tqdm_notebook(range(len(interactions_train_df))):\n",
        "    features = {}\n",
        "    features['personId'] = str(interactions_train_df.iloc[i].personId)\n",
        "    features['contentId'] = str(interactions_train_df.iloc[i].contentId)\n",
        "\n",
        "    try:\n",
        "        article = articls_df.loc[features['contentId']]\n",
        "        features['authorId'] = str(article.authorPersonId)\n",
        "        features['authorCountry'] = str(article.authorCountry)\n",
        "        features['lang'] = str(article.lang)\n",
        "    except:\n",
        "        features['authorId'] = 'unknown'\n",
        "        features['authorCountry'] = 'unknown'\n",
        "        features['lang'] = 'unknown'\n",
        "\n",
        "    train_data.append(features)"
      ],
      "metadata": {
        "colab": {
          "base_uri": "https://localhost:8080/",
          "height": 104,
          "referenced_widgets": [
            "b52d673b49b24c9188c953a404e1a108",
            "4965803d9e554f89a5d0a8c38bc3d1a4",
            "999a7ab631da4c10aff8fb72a39c4c49",
            "1b1960a8c2fc429b83456580635f4491",
            "ea51607f43174746a59600e7779e0b76",
            "4b40ff20281d44d2bb7b3be2c4aa014c",
            "e796f478105a48fdb90635350fa1dece",
            "70d9e97ad7da437fa34323f51c2cb532",
            "3a760b9b9b6d43c1a001b544102b4012",
            "24e7251a62824182b4973bea05cf9c69",
            "0084b86e1332420ca44cce966015cfbc"
          ]
        },
        "id": "tk8vKD3k9IGH",
        "outputId": "c368c5e9-10ae-49ac-b6b8-ea26ded8924d"
      },
      "execution_count": 168,
      "outputs": [
        {
          "output_type": "stream",
          "name": "stderr",
          "text": [
            "<ipython-input-168-494e64d881c5>:3: TqdmDeprecationWarning: This function will be removed in tqdm==5.0.0\n",
            "Please use `tqdm.notebook.tqdm` instead of `tqdm.tqdm_notebook`\n",
            "  for i in tqdm_notebook(range(len(interactions_train_df))):\n"
          ]
        },
        {
          "output_type": "display_data",
          "data": {
            "text/plain": [
              "  0%|          | 0/146645 [00:00<?, ?it/s]"
            ],
            "application/vnd.jupyter.widget-view+json": {
              "version_major": 2,
              "version_minor": 0,
              "model_id": "b52d673b49b24c9188c953a404e1a108"
            }
          },
          "metadata": {}
        }
      ]
    },
    {
      "cell_type": "code",
      "source": [
        "from copy import deepcopy\n",
        "\n",
        "test_data = []\n",
        "\n",
        "for i in tqdm_notebook(range(len(interactions))):\n",
        "    features = {}\n",
        "    features['personId'] = str(interactions.index[i])  \n",
        "    for j in range(len(ratings.columns)):\n",
        "\n",
        "        features['contentId'] = str(ratings.columns[j])\n",
        "        \n",
        "        try:\n",
        "            article = articls_df.loc[features['contentId']]\n",
        "            features['authorId'] = str(article.authorPersonId)\n",
        "            features['authorCountry'] = str(article.authorCountry)\n",
        "            features['lang'] = str(article.lang)\n",
        "        except:\n",
        "            features['authorId'] = 'unknown'\n",
        "            features['authorCountry'] = 'unknown'\n",
        "            features['lang'] = 'unknown'\n",
        "\n",
        "        test_data.append(deepcopy(features))"
      ],
      "metadata": {
        "colab": {
          "base_uri": "https://localhost:8080/",
          "height": 104,
          "referenced_widgets": [
            "ad2e993e55a240a49545438fdde23865",
            "1bea86de33da435dbc71c43bba0cc15e",
            "ee573e4b30a64317a537c7efa6bbce0d",
            "c9a7246a16d74c359ba52e87b1585c51",
            "d1d76019284642e69962d0d5b19e3811",
            "88dc1a24c204400985a78de3f8ab0b5a",
            "cdc609dcae0e48e7a533e75c582bedfd",
            "15222266dff840baad0091eb160f205f",
            "03eebed96fdb4dd0b13886c9957fed2d",
            "b457bbc2d53548a892a1dfd429b0f6e0",
            "10d599256bf0411a92d09a51c3f65f5e"
          ]
        },
        "id": "WoSfTXp-9aqp",
        "outputId": "57b99f2c-5b76-45ff-fbee-9b9837c53d93"
      },
      "execution_count": 169,
      "outputs": [
        {
          "output_type": "stream",
          "name": "stderr",
          "text": [
            "<ipython-input-169-9b2305e8d534>:5: TqdmDeprecationWarning: This function will be removed in tqdm==5.0.0\n",
            "Please use `tqdm.notebook.tqdm` instead of `tqdm.tqdm_notebook`\n",
            "  for i in tqdm_notebook(range(len(interactions))):\n"
          ]
        },
        {
          "output_type": "display_data",
          "data": {
            "text/plain": [
              "  0%|          | 0/1112 [00:00<?, ?it/s]"
            ],
            "application/vnd.jupyter.widget-view+json": {
              "version_major": 2,
              "version_minor": 0,
              "model_id": "ad2e993e55a240a49545438fdde23865"
            }
          },
          "metadata": {}
        }
      ]
    },
    {
      "cell_type": "code",
      "source": [
        "dv = DictVectorizer()\n",
        "\n",
        "train_features = dv.fit_transform(\n",
        "    train_data + list(np.random.permutation(test_data)[:100000]))\n",
        "test_features = dv.transform(test_data)"
      ],
      "metadata": {
        "id": "mGV717mH9IQb"
      },
      "execution_count": 170,
      "outputs": []
    },
    {
      "cell_type": "code",
      "source": [
        "train_features"
      ],
      "metadata": {
        "colab": {
          "base_uri": "https://localhost:8080/"
        },
        "id": "iZu_J8bM9ITb",
        "outputId": "6a2b3909-3301-4da9-8617-b80674cc8016"
      },
      "execution_count": 171,
      "outputs": [
        {
          "output_type": "execute_result",
          "data": {
            "text/plain": [
              "<246645x3481 sparse matrix of type '<class 'numpy.float64'>'\n",
              "\twith 1233225 stored elements in Compressed Sparse Row format>"
            ]
          },
          "metadata": {},
          "execution_count": 171
        }
      ]
    },
    {
      "cell_type": "code",
      "source": [
        "y_train = list(interactions_train_df.eventStrength.values) + list(np.zeros(100000))"
      ],
      "metadata": {
        "id": "DbZjAkaN9IWf"
      },
      "execution_count": 172,
      "outputs": []
    },
    {
      "cell_type": "code",
      "source": [
        "fm = pylibfm.FM(num_factors=10, num_iter=30, task='regression')\n",
        "\n",
        "fm.fit(train_features, y_train)"
      ],
      "metadata": {
        "colab": {
          "base_uri": "https://localhost:8080/"
        },
        "id": "Jwa_4gpM9IZ1",
        "outputId": "137d1495-7c08-4afc-aec1-4ca2d744f769"
      },
      "execution_count": 173,
      "outputs": [
        {
          "output_type": "stream",
          "name": "stdout",
          "text": [
            "Creating validation dataset of 0.01 of training for adaptive regularization\n",
            "-- Epoch 1\n",
            "Training MSE: 0.11769\n",
            "-- Epoch 2\n",
            "Training MSE: 0.11195\n",
            "-- Epoch 3\n",
            "Training MSE: 0.11327\n",
            "-- Epoch 4\n",
            "Training MSE: 0.11299\n",
            "-- Epoch 5\n",
            "Training MSE: 0.11236\n",
            "-- Epoch 6\n",
            "Training MSE: 0.11216\n",
            "-- Epoch 7\n",
            "Training MSE: 0.11194\n",
            "-- Epoch 8\n",
            "Training MSE: 0.11221\n",
            "-- Epoch 9\n",
            "Training MSE: 0.11201\n",
            "-- Epoch 10\n",
            "Training MSE: 0.11138\n",
            "-- Epoch 11\n",
            "Training MSE: 0.11109\n",
            "-- Epoch 12\n",
            "Training MSE: 0.11058\n",
            "-- Epoch 13\n",
            "Training MSE: 0.11005\n",
            "-- Epoch 14\n",
            "Training MSE: 0.10919\n",
            "-- Epoch 15\n",
            "Training MSE: 0.10830\n",
            "-- Epoch 16\n",
            "Training MSE: 0.10763\n",
            "-- Epoch 17\n",
            "Training MSE: 0.10697\n",
            "-- Epoch 18\n",
            "Training MSE: 0.10606\n",
            "-- Epoch 19\n",
            "Training MSE: 0.10549\n",
            "-- Epoch 20\n",
            "Training MSE: 0.10466\n",
            "-- Epoch 21\n",
            "Training MSE: 0.10372\n",
            "-- Epoch 22\n",
            "Training MSE: 0.10266\n",
            "-- Epoch 23\n",
            "Training MSE: 0.10199\n",
            "-- Epoch 24\n",
            "Training MSE: 0.10104\n",
            "-- Epoch 25\n",
            "Training MSE: 0.10055\n",
            "-- Epoch 26\n",
            "Training MSE: 0.10009\n",
            "-- Epoch 27\n",
            "Training MSE: 0.09999\n",
            "-- Epoch 28\n",
            "Training MSE: 0.09935\n",
            "-- Epoch 29\n",
            "Training MSE: 0.09909\n",
            "-- Epoch 30\n",
            "Training MSE: 0.09897\n"
          ]
        }
      ]
    },
    {
      "cell_type": "code",
      "source": [
        "test_features = dv.transform(test_data)\n",
        "\n",
        "y_predict = fm.predict(test_features)\n",
        "\n",
        "new_ratings = y_predict.reshape((1112, 2366))"
      ],
      "metadata": {
        "id": "KbgkvLGy9Icf"
      },
      "execution_count": 174,
      "outputs": []
    },
    {
      "cell_type": "code",
      "source": [
        "predictions = []\n",
        "\n",
        "for i, person in enumerate(interactions.index):\n",
        "    user_prediction = ratings.columns[np.argsort(new_ratings[i])[::-1]]\n",
        "    predictions.append(\n",
        "        user_prediction[~np.in1d(user_prediction,\n",
        "                                 interactions.loc[person, 'true_train'])][:top_k])\n",
        "    \n",
        "interactions['fm_prediction'] = predictions"
      ],
      "metadata": {
        "id": "T1OIcViw-Y2B"
      },
      "execution_count": 175,
      "outputs": []
    },
    {
      "cell_type": "code",
      "source": [
        "calc_precision('fm_prediction')"
      ],
      "metadata": {
        "colab": {
          "base_uri": "https://localhost:8080/"
        },
        "id": "0ORHjsy69Ifx",
        "outputId": "f2f5b8b5-245b-4d46-cc97-4a39f4d123a5"
      },
      "execution_count": 176,
      "outputs": [
        {
          "output_type": "execute_result",
          "data": {
            "text/plain": [
              "0.00509588023211442"
            ]
          },
          "metadata": {},
          "execution_count": 176
        }
      ]
    }
  ]
}