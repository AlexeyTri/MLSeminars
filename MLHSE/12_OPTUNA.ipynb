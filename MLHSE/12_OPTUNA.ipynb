{
  "nbformat": 4,
  "nbformat_minor": 0,
  "metadata": {
    "colab": {
      "provenance": [],
      "authorship_tag": "ABX9TyMbilM3D0+dnw15k60X3/Zt",
      "include_colab_link": true
    },
    "kernelspec": {
      "name": "python3",
      "display_name": "Python 3"
    },
    "language_info": {
      "name": "python"
    }
  },
  "cells": [
    {
      "cell_type": "markdown",
      "metadata": {
        "id": "view-in-github",
        "colab_type": "text"
      },
      "source": [
        "<a href=\"https://colab.research.google.com/github/AlexeyTri/MLSeminars/blob/main/MLHSE/12_OPTUNA.ipynb\" target=\"_parent\"><img src=\"https://colab.research.google.com/assets/colab-badge.svg\" alt=\"Open In Colab\"/></a>"
      ]
    },
    {
      "cell_type": "code",
      "execution_count": 1,
      "metadata": {
        "colab": {
          "base_uri": "https://localhost:8080/"
        },
        "id": "fq6EGgbEOQYw",
        "outputId": "8e95e463-ede7-401c-c1f4-e7aee1890ff1"
      },
      "outputs": [
        {
          "output_type": "stream",
          "name": "stdout",
          "text": [
            "Looking in indexes: https://pypi.org/simple, https://us-python.pkg.dev/colab-wheels/public/simple/\n",
            "Collecting optuna\n",
            "  Downloading optuna-3.1.0-py3-none-any.whl (365 kB)\n",
            "\u001b[2K     \u001b[90m━━━━━━━━━━━━━━━━━━━━━━━━━━━━━━━━━━━━━━\u001b[0m \u001b[32m365.3/365.3 KB\u001b[0m \u001b[31m12.2 MB/s\u001b[0m eta \u001b[36m0:00:00\u001b[0m\n",
            "\u001b[?25hRequirement already satisfied: numpy in /usr/local/lib/python3.8/dist-packages (from optuna) (1.22.4)\n",
            "Requirement already satisfied: sqlalchemy>=1.3.0 in /usr/local/lib/python3.8/dist-packages (from optuna) (1.4.46)\n",
            "Requirement already satisfied: packaging>=20.0 in /usr/local/lib/python3.8/dist-packages (from optuna) (23.0)\n",
            "Collecting colorlog\n",
            "  Downloading colorlog-6.7.0-py2.py3-none-any.whl (11 kB)\n",
            "Collecting alembic>=1.5.0\n",
            "  Downloading alembic-1.9.4-py3-none-any.whl (210 kB)\n",
            "\u001b[2K     \u001b[90m━━━━━━━━━━━━━━━━━━━━━━━━━━━━━━━━━━━━━━\u001b[0m \u001b[32m210.5/210.5 KB\u001b[0m \u001b[31m14.1 MB/s\u001b[0m eta \u001b[36m0:00:00\u001b[0m\n",
            "\u001b[?25hRequirement already satisfied: PyYAML in /usr/local/lib/python3.8/dist-packages (from optuna) (6.0)\n",
            "Collecting cmaes>=0.9.1\n",
            "  Downloading cmaes-0.9.1-py3-none-any.whl (21 kB)\n",
            "Requirement already satisfied: tqdm in /usr/local/lib/python3.8/dist-packages (from optuna) (4.64.1)\n",
            "Collecting Mako\n",
            "  Downloading Mako-1.2.4-py3-none-any.whl (78 kB)\n",
            "\u001b[2K     \u001b[90m━━━━━━━━━━━━━━━━━━━━━━━━━━━━━━━━━━━━━━━━\u001b[0m \u001b[32m78.7/78.7 KB\u001b[0m \u001b[31m5.5 MB/s\u001b[0m eta \u001b[36m0:00:00\u001b[0m\n",
            "\u001b[?25hRequirement already satisfied: importlib-resources in /usr/local/lib/python3.8/dist-packages (from alembic>=1.5.0->optuna) (5.12.0)\n",
            "Requirement already satisfied: importlib-metadata in /usr/local/lib/python3.8/dist-packages (from alembic>=1.5.0->optuna) (6.0.0)\n",
            "Requirement already satisfied: greenlet!=0.4.17 in /usr/local/lib/python3.8/dist-packages (from sqlalchemy>=1.3.0->optuna) (2.0.2)\n",
            "Requirement already satisfied: zipp>=0.5 in /usr/local/lib/python3.8/dist-packages (from importlib-metadata->alembic>=1.5.0->optuna) (3.15.0)\n",
            "Requirement already satisfied: MarkupSafe>=0.9.2 in /usr/local/lib/python3.8/dist-packages (from Mako->alembic>=1.5.0->optuna) (2.1.2)\n",
            "Installing collected packages: Mako, colorlog, cmaes, alembic, optuna\n",
            "Successfully installed Mako-1.2.4 alembic-1.9.4 cmaes-0.9.1 colorlog-6.7.0 optuna-3.1.0\n"
          ]
        }
      ],
      "source": [
        "!pip install optuna"
      ]
    },
    {
      "cell_type": "code",
      "source": [
        "import optuna\n",
        "\n",
        "def objective(trial):\n",
        "    x = trial.suggest_float('x', -10,10)\n",
        "    return (x-2)**2\n",
        "\n",
        "study = optuna.create_study()\n",
        "study.optimize(objective, n_trials=100)\n",
        "study.best_params"
      ],
      "metadata": {
        "colab": {
          "base_uri": "https://localhost:8080/"
        },
        "id": "tToHKUysPXpY",
        "outputId": "f3b00fbb-0c8d-4948-d6aa-7f65522ad01d"
      },
      "execution_count": 2,
      "outputs": [
        {
          "output_type": "stream",
          "name": "stderr",
          "text": [
            "\u001b[32m[I 2023-03-01 08:18:05,231]\u001b[0m A new study created in memory with name: no-name-b1df5e66-2009-43cf-be5d-91683a03a5c5\u001b[0m\n",
            "\u001b[32m[I 2023-03-01 08:18:05,238]\u001b[0m Trial 0 finished with value: 0.06891857400146599 and parameters: {'x': 2.2625234732389963}. Best is trial 0 with value: 0.06891857400146599.\u001b[0m\n",
            "\u001b[32m[I 2023-03-01 08:18:05,241]\u001b[0m Trial 1 finished with value: 73.02570216304424 and parameters: {'x': -6.545507718271879}. Best is trial 0 with value: 0.06891857400146599.\u001b[0m\n",
            "\u001b[32m[I 2023-03-01 08:18:05,244]\u001b[0m Trial 2 finished with value: 1.0725392719275242 and parameters: {'x': 3.0356347193521103}. Best is trial 0 with value: 0.06891857400146599.\u001b[0m\n",
            "\u001b[32m[I 2023-03-01 08:18:05,248]\u001b[0m Trial 3 finished with value: 0.01469620049603854 and parameters: {'x': 2.121227886626958}. Best is trial 3 with value: 0.01469620049603854.\u001b[0m\n",
            "\u001b[32m[I 2023-03-01 08:18:05,251]\u001b[0m Trial 4 finished with value: 51.83369991791502 and parameters: {'x': 9.1995624810064}. Best is trial 3 with value: 0.01469620049603854.\u001b[0m\n",
            "\u001b[32m[I 2023-03-01 08:18:05,254]\u001b[0m Trial 5 finished with value: 10.141224211561113 and parameters: {'x': -1.1845288837693264}. Best is trial 3 with value: 0.01469620049603854.\u001b[0m\n",
            "\u001b[32m[I 2023-03-01 08:18:05,258]\u001b[0m Trial 6 finished with value: 33.21161455967503 and parameters: {'x': -3.7629518963526865}. Best is trial 3 with value: 0.01469620049603854.\u001b[0m\n",
            "\u001b[32m[I 2023-03-01 08:18:05,261]\u001b[0m Trial 7 finished with value: 49.89603404136962 and parameters: {'x': -5.0637124829206925}. Best is trial 3 with value: 0.01469620049603854.\u001b[0m\n",
            "\u001b[32m[I 2023-03-01 08:18:05,264]\u001b[0m Trial 8 finished with value: 120.43002478189733 and parameters: {'x': -8.974061453349773}. Best is trial 3 with value: 0.01469620049603854.\u001b[0m\n",
            "\u001b[32m[I 2023-03-01 08:18:05,267]\u001b[0m Trial 9 finished with value: 53.80211634622455 and parameters: {'x': 9.3349925934676}. Best is trial 3 with value: 0.01469620049603854.\u001b[0m\n",
            "\u001b[32m[I 2023-03-01 08:18:05,282]\u001b[0m Trial 10 finished with value: 8.039097593266025 and parameters: {'x': 4.835330244127838}. Best is trial 3 with value: 0.01469620049603854.\u001b[0m\n",
            "\u001b[32m[I 2023-03-01 08:18:05,291]\u001b[0m Trial 11 finished with value: 0.006689670942608731 and parameters: {'x': 1.9182095913776638}. Best is trial 11 with value: 0.006689670942608731.\u001b[0m\n",
            "\u001b[32m[I 2023-03-01 08:18:05,300]\u001b[0m Trial 12 finished with value: 4.455150336926198 and parameters: {'x': -0.11072270488716685}. Best is trial 11 with value: 0.006689670942608731.\u001b[0m\n",
            "\u001b[32m[I 2023-03-01 08:18:05,309]\u001b[0m Trial 13 finished with value: 10.662717484601677 and parameters: {'x': 5.265381675180051}. Best is trial 11 with value: 0.006689670942608731.\u001b[0m\n",
            "\u001b[32m[I 2023-03-01 08:18:05,318]\u001b[0m Trial 14 finished with value: 11.466314658885102 and parameters: {'x': -1.3861947166229382}. Best is trial 11 with value: 0.006689670942608731.\u001b[0m\n",
            "\u001b[32m[I 2023-03-01 08:18:05,327]\u001b[0m Trial 15 finished with value: 0.03554139676480403 and parameters: {'x': 1.81147573958558}. Best is trial 11 with value: 0.006689670942608731.\u001b[0m\n",
            "\u001b[32m[I 2023-03-01 08:18:05,335]\u001b[0m Trial 16 finished with value: 21.505116292283866 and parameters: {'x': -2.6373609189153986}. Best is trial 11 with value: 0.006689670942608731.\u001b[0m\n",
            "\u001b[32m[I 2023-03-01 08:18:05,343]\u001b[0m Trial 17 finished with value: 1.2458568702521085 and parameters: {'x': 0.8838204130821472}. Best is trial 11 with value: 0.006689670942608731.\u001b[0m\n",
            "\u001b[32m[I 2023-03-01 08:18:05,352]\u001b[0m Trial 18 finished with value: 5.718607840528831 and parameters: {'x': 4.391361085350523}. Best is trial 11 with value: 0.006689670942608731.\u001b[0m\n",
            "\u001b[32m[I 2023-03-01 08:18:05,360]\u001b[0m Trial 19 finished with value: 3.9980583572262147 and parameters: {'x': 0.00048546961363271635}. Best is trial 11 with value: 0.006689670942608731.\u001b[0m\n",
            "\u001b[32m[I 2023-03-01 08:18:05,368]\u001b[0m Trial 20 finished with value: 31.221287136042875 and parameters: {'x': 7.587601196939781}. Best is trial 11 with value: 0.006689670942608731.\u001b[0m\n",
            "\u001b[32m[I 2023-03-01 08:18:05,376]\u001b[0m Trial 21 finished with value: 0.08606790759476486 and parameters: {'x': 1.7066266753865225}. Best is trial 11 with value: 0.006689670942608731.\u001b[0m\n",
            "\u001b[32m[I 2023-03-01 08:18:05,384]\u001b[0m Trial 22 finished with value: 1.1942695319085497 and parameters: {'x': 3.09282639605225}. Best is trial 11 with value: 0.006689670942608731.\u001b[0m\n",
            "\u001b[32m[I 2023-03-01 08:18:05,391]\u001b[0m Trial 23 finished with value: 1.2608112352151664 and parameters: {'x': 0.8771414892270859}. Best is trial 11 with value: 0.006689670942608731.\u001b[0m\n",
            "\u001b[32m[I 2023-03-01 08:18:05,399]\u001b[0m Trial 24 finished with value: 2.0227466579794346 and parameters: {'x': 3.422232983016297}. Best is trial 11 with value: 0.006689670942608731.\u001b[0m\n",
            "\u001b[32m[I 2023-03-01 08:18:05,409]\u001b[0m Trial 25 finished with value: 15.643703897255685 and parameters: {'x': 5.95521224427409}. Best is trial 11 with value: 0.006689670942608731.\u001b[0m\n",
            "\u001b[32m[I 2023-03-01 08:18:05,492]\u001b[0m Trial 26 finished with value: 0.49440643654183464 and parameters: {'x': 1.2968595897391229}. Best is trial 11 with value: 0.006689670942608731.\u001b[0m\n",
            "\u001b[32m[I 2023-03-01 08:18:05,502]\u001b[0m Trial 27 finished with value: 1.2332270209012535 and parameters: {'x': 3.110507551032974}. Best is trial 11 with value: 0.006689670942608731.\u001b[0m\n",
            "\u001b[32m[I 2023-03-01 08:18:05,510]\u001b[0m Trial 28 finished with value: 22.76472190625693 and parameters: {'x': 6.77123903260536}. Best is trial 11 with value: 0.006689670942608731.\u001b[0m\n",
            "\u001b[32m[I 2023-03-01 08:18:05,521]\u001b[0m Trial 29 finished with value: 0.011126960836001228 and parameters: {'x': 2.105484410393201}. Best is trial 11 with value: 0.006689670942608731.\u001b[0m\n",
            "\u001b[32m[I 2023-03-01 08:18:05,531]\u001b[0m Trial 30 finished with value: 4.103820609465918 and parameters: {'x': 4.0257888857099395}. Best is trial 11 with value: 0.006689670942608731.\u001b[0m\n",
            "\u001b[32m[I 2023-03-01 08:18:05,540]\u001b[0m Trial 31 finished with value: 0.00873636961222011 and parameters: {'x': 2.093468548786317}. Best is trial 11 with value: 0.006689670942608731.\u001b[0m\n",
            "\u001b[32m[I 2023-03-01 08:18:05,549]\u001b[0m Trial 32 finished with value: 0.6334797689594275 and parameters: {'x': 2.7959144231382087}. Best is trial 11 with value: 0.006689670942608731.\u001b[0m\n",
            "\u001b[32m[I 2023-03-01 08:18:05,558]\u001b[0m Trial 33 finished with value: 0.135462393603212 and parameters: {'x': 2.3680521615249828}. Best is trial 11 with value: 0.006689670942608731.\u001b[0m\n",
            "\u001b[32m[I 2023-03-01 08:18:05,567]\u001b[0m Trial 34 finished with value: 5.495462014007881 and parameters: {'x': 4.344240178396378}. Best is trial 11 with value: 0.006689670942608731.\u001b[0m\n",
            "\u001b[32m[I 2023-03-01 08:18:05,576]\u001b[0m Trial 35 finished with value: 4.617782953632511 and parameters: {'x': -0.14890273247360142}. Best is trial 11 with value: 0.006689670942608731.\u001b[0m\n",
            "\u001b[32m[I 2023-03-01 08:18:05,585]\u001b[0m Trial 36 finished with value: 0.01621776886554051 and parameters: {'x': 2.1273490041796186}. Best is trial 11 with value: 0.006689670942608731.\u001b[0m\n",
            "\u001b[32m[I 2023-03-01 08:18:05,593]\u001b[0m Trial 37 finished with value: 9.692090098376253 and parameters: {'x': -1.11321218332067}. Best is trial 11 with value: 0.006689670942608731.\u001b[0m\n",
            "\u001b[32m[I 2023-03-01 08:18:05,605]\u001b[0m Trial 38 finished with value: 2.878268074933997 and parameters: {'x': 3.6965459247936665}. Best is trial 11 with value: 0.006689670942608731.\u001b[0m\n",
            "\u001b[32m[I 2023-03-01 08:18:05,613]\u001b[0m Trial 39 finished with value: 13.085131112528188 and parameters: {'x': 5.617337572376704}. Best is trial 11 with value: 0.006689670942608731.\u001b[0m\n",
            "\u001b[32m[I 2023-03-01 08:18:05,622]\u001b[0m Trial 40 finished with value: 1.2031677259402525 and parameters: {'x': 0.9031099754577707}. Best is trial 11 with value: 0.006689670942608731.\u001b[0m\n",
            "\u001b[32m[I 2023-03-01 08:18:05,631]\u001b[0m Trial 41 finished with value: 0.06149617651144484 and parameters: {'x': 2.2479842263359604}. Best is trial 11 with value: 0.006689670942608731.\u001b[0m\n",
            "\u001b[32m[I 2023-03-01 08:18:05,643]\u001b[0m Trial 42 finished with value: 0.4898630848359735 and parameters: {'x': 2.6999021966217662}. Best is trial 11 with value: 0.006689670942608731.\u001b[0m\n",
            "\u001b[32m[I 2023-03-01 08:18:05,654]\u001b[0m Trial 43 finished with value: 0.060910313722551145 and parameters: {'x': 1.753199850643175}. Best is trial 11 with value: 0.006689670942608731.\u001b[0m\n",
            "\u001b[32m[I 2023-03-01 08:18:05,663]\u001b[0m Trial 44 finished with value: 2.3755542302741945 and parameters: {'x': 3.5412833062984217}. Best is trial 11 with value: 0.006689670942608731.\u001b[0m\n",
            "\u001b[32m[I 2023-03-01 08:18:05,673]\u001b[0m Trial 45 finished with value: 9.123625966197428 and parameters: {'x': 5.020534053143157}. Best is trial 11 with value: 0.006689670942608731.\u001b[0m\n",
            "\u001b[32m[I 2023-03-01 08:18:05,684]\u001b[0m Trial 46 finished with value: 0.037932669086104355 and parameters: {'x': 2.1947631101777345}. Best is trial 11 with value: 0.006689670942608731.\u001b[0m\n",
            "\u001b[32m[I 2023-03-01 08:18:05,693]\u001b[0m Trial 47 finished with value: 2.8661065568387385 and parameters: {'x': 0.3070420687923936}. Best is trial 11 with value: 0.006689670942608731.\u001b[0m\n",
            "\u001b[32m[I 2023-03-01 08:18:05,703]\u001b[0m Trial 48 finished with value: 7.6331538183885455 and parameters: {'x': -0.7628162838648076}. Best is trial 11 with value: 0.006689670942608731.\u001b[0m\n",
            "\u001b[32m[I 2023-03-01 08:18:05,712]\u001b[0m Trial 49 finished with value: 16.589842880460537 and parameters: {'x': -2.073063083290085}. Best is trial 11 with value: 0.006689670942608731.\u001b[0m\n",
            "\u001b[32m[I 2023-03-01 08:18:05,721]\u001b[0m Trial 50 finished with value: 0.3614895005497273 and parameters: {'x': 1.3987600308115509}. Best is trial 11 with value: 0.006689670942608731.\u001b[0m\n",
            "\u001b[32m[I 2023-03-01 08:18:05,734]\u001b[0m Trial 51 finished with value: 0.061523196798517636 and parameters: {'x': 1.7519612997967502}. Best is trial 11 with value: 0.006689670942608731.\u001b[0m\n",
            "\u001b[32m[I 2023-03-01 08:18:05,747]\u001b[0m Trial 52 finished with value: 1.1809799277988822 and parameters: {'x': 0.9132709961545693}. Best is trial 11 with value: 0.006689670942608731.\u001b[0m\n",
            "\u001b[32m[I 2023-03-01 08:18:05,757]\u001b[0m Trial 53 finished with value: 0.09635031837098527 and parameters: {'x': 2.310403476737915}. Best is trial 11 with value: 0.006689670942608731.\u001b[0m\n",
            "\u001b[32m[I 2023-03-01 08:18:05,766]\u001b[0m Trial 54 finished with value: 3.926873293776608 and parameters: {'x': 3.981633995917664}. Best is trial 11 with value: 0.006689670942608731.\u001b[0m\n",
            "\u001b[32m[I 2023-03-01 08:18:05,776]\u001b[0m Trial 55 finished with value: 3.87932461653985 and parameters: {'x': 0.030399884103412766}. Best is trial 11 with value: 0.006689670942608731.\u001b[0m\n",
            "\u001b[32m[I 2023-03-01 08:18:05,785]\u001b[0m Trial 56 finished with value: 1.2781367181785173 and parameters: {'x': 3.130547087997009}. Best is trial 11 with value: 0.006689670942608731.\u001b[0m\n",
            "\u001b[32m[I 2023-03-01 08:18:05,795]\u001b[0m Trial 57 finished with value: 6.631452353454168 and parameters: {'x': 4.575160646145045}. Best is trial 11 with value: 0.006689670942608731.\u001b[0m\n",
            "\u001b[32m[I 2023-03-01 08:18:05,804]\u001b[0m Trial 58 finished with value: 2.16515093797845 and parameters: {'x': 0.5285548131247124}. Best is trial 11 with value: 0.006689670942608731.\u001b[0m\n",
            "\u001b[32m[I 2023-03-01 08:18:05,815]\u001b[0m Trial 59 finished with value: 0.17960911489954373 and parameters: {'x': 1.5761968441604715}. Best is trial 11 with value: 0.006689670942608731.\u001b[0m\n",
            "\u001b[32m[I 2023-03-01 08:18:05,824]\u001b[0m Trial 60 finished with value: 5.531668611356082 and parameters: {'x': -0.35194995936479956}. Best is trial 11 with value: 0.006689670942608731.\u001b[0m\n",
            "\u001b[32m[I 2023-03-01 08:18:05,833]\u001b[0m Trial 61 finished with value: 0.22221532256913076 and parameters: {'x': 2.471397202546993}. Best is trial 11 with value: 0.006689670942608731.\u001b[0m\n",
            "\u001b[32m[I 2023-03-01 08:18:05,843]\u001b[0m Trial 62 finished with value: 0.000627333208280044 and parameters: {'x': 2.0250466206958153}. Best is trial 62 with value: 0.000627333208280044.\u001b[0m\n",
            "\u001b[32m[I 2023-03-01 08:18:05,854]\u001b[0m Trial 63 finished with value: 1.675690353243715 and parameters: {'x': 0.7055154101945766}. Best is trial 62 with value: 0.000627333208280044.\u001b[0m\n",
            "\u001b[32m[I 2023-03-01 08:18:05,867]\u001b[0m Trial 64 finished with value: 1.9739038557973383 and parameters: {'x': 3.404956887522652}. Best is trial 62 with value: 0.000627333208280044.\u001b[0m\n",
            "\u001b[32m[I 2023-03-01 08:18:05,879]\u001b[0m Trial 65 finished with value: 0.0006857277541314708 and parameters: {'x': 1.9738135960061052}. Best is trial 62 with value: 0.000627333208280044.\u001b[0m\n",
            "\u001b[32m[I 2023-03-01 08:18:05,890]\u001b[0m Trial 66 finished with value: 0.5885669589070546 and parameters: {'x': 1.2328188226324537}. Best is trial 62 with value: 0.000627333208280044.\u001b[0m\n",
            "\u001b[32m[I 2023-03-01 08:18:05,901]\u001b[0m Trial 67 finished with value: 0.5849058437730971 and parameters: {'x': 2.7647913727109485}. Best is trial 62 with value: 0.000627333208280044.\u001b[0m\n",
            "\u001b[32m[I 2023-03-01 08:18:05,912]\u001b[0m Trial 68 finished with value: 0.0017616055308964892 and parameters: {'x': 1.9580285152645693}. Best is trial 62 with value: 0.000627333208280044.\u001b[0m\n",
            "\u001b[32m[I 2023-03-01 08:18:05,922]\u001b[0m Trial 69 finished with value: 3.9878862530686843 and parameters: {'x': 3.996969266931438}. Best is trial 62 with value: 0.000627333208280044.\u001b[0m\n",
            "\u001b[32m[I 2023-03-01 08:18:05,932]\u001b[0m Trial 70 finished with value: 0.48833375398628154 and parameters: {'x': 1.3011911892468144}. Best is trial 62 with value: 0.000627333208280044.\u001b[0m\n",
            "\u001b[32m[I 2023-03-01 08:18:05,941]\u001b[0m Trial 71 finished with value: 0.005923946844074838 and parameters: {'x': 1.923032819695179}. Best is trial 62 with value: 0.000627333208280044.\u001b[0m\n",
            "\u001b[32m[I 2023-03-01 08:18:05,954]\u001b[0m Trial 72 finished with value: 0.6448402131618665 and parameters: {'x': 2.8030194351084328}. Best is trial 62 with value: 0.000627333208280044.\u001b[0m\n",
            "\u001b[32m[I 2023-03-01 08:18:05,963]\u001b[0m Trial 73 finished with value: 1.8956730013137204 and parameters: {'x': 0.6231655868210875}. Best is trial 62 with value: 0.000627333208280044.\u001b[0m\n",
            "\u001b[32m[I 2023-03-01 08:18:05,973]\u001b[0m Trial 74 finished with value: 0.0018103669444384364 and parameters: {'x': 2.0425484070728674}. Best is trial 62 with value: 0.000627333208280044.\u001b[0m\n",
            "\u001b[32m[I 2023-03-01 08:18:05,982]\u001b[0m Trial 75 finished with value: 0.022514622496566758 and parameters: {'x': 1.8499512662613684}. Best is trial 62 with value: 0.000627333208280044.\u001b[0m\n",
            "\u001b[32m[I 2023-03-01 08:18:05,995]\u001b[0m Trial 76 finished with value: 0.9119387853014985 and parameters: {'x': 2.954954860347597}. Best is trial 62 with value: 0.000627333208280044.\u001b[0m\n",
            "\u001b[32m[I 2023-03-01 08:18:06,005]\u001b[0m Trial 77 finished with value: 0.0019102924432265454 and parameters: {'x': 1.956293107600442}. Best is trial 62 with value: 0.000627333208280044.\u001b[0m\n",
            "\u001b[32m[I 2023-03-01 08:18:06,015]\u001b[0m Trial 78 finished with value: 2.1301438855139465 and parameters: {'x': 3.4595012454650207}. Best is trial 62 with value: 0.000627333208280044.\u001b[0m\n",
            "\u001b[32m[I 2023-03-01 08:18:06,026]\u001b[0m Trial 79 finished with value: 0.5370110364711062 and parameters: {'x': 1.2671896313021314}. Best is trial 62 with value: 0.000627333208280044.\u001b[0m\n",
            "\u001b[32m[I 2023-03-01 08:18:06,040]\u001b[0m Trial 80 finished with value: 2.978478411061423 and parameters: {'x': 0.274173122511582}. Best is trial 62 with value: 0.000627333208280044.\u001b[0m\n",
            "\u001b[32m[I 2023-03-01 08:18:06,050]\u001b[0m Trial 81 finished with value: 0.001301885377623305 and parameters: {'x': 2.0360816487653115}. Best is trial 62 with value: 0.000627333208280044.\u001b[0m\n",
            "\u001b[32m[I 2023-03-01 08:18:06,060]\u001b[0m Trial 82 finished with value: 0.0008644329188249205 and parameters: {'x': 1.9705987599100834}. Best is trial 62 with value: 0.000627333208280044.\u001b[0m\n",
            "\u001b[32m[I 2023-03-01 08:18:06,069]\u001b[0m Trial 83 finished with value: 0.28986045904732566 and parameters: {'x': 2.538386904602374}. Best is trial 62 with value: 0.000627333208280044.\u001b[0m\n",
            "\u001b[32m[I 2023-03-01 08:18:06,083]\u001b[0m Trial 84 finished with value: 0.03407759374161766 and parameters: {'x': 1.815398825188956}. Best is trial 62 with value: 0.000627333208280044.\u001b[0m\n",
            "\u001b[32m[I 2023-03-01 08:18:06,097]\u001b[0m Trial 85 finished with value: 0.9176612909156165 and parameters: {'x': 1.0420536074938136}. Best is trial 62 with value: 0.000627333208280044.\u001b[0m\n",
            "\u001b[32m[I 2023-03-01 08:18:06,110]\u001b[0m Trial 86 finished with value: 0.06298882723572027 and parameters: {'x': 1.7490242497058326}. Best is trial 62 with value: 0.000627333208280044.\u001b[0m\n",
            "\u001b[32m[I 2023-03-01 08:18:06,119]\u001b[0m Trial 87 finished with value: 1.4391183930043794 and parameters: {'x': 3.1996326075113077}. Best is trial 62 with value: 0.000627333208280044.\u001b[0m\n",
            "\u001b[32m[I 2023-03-01 08:18:06,128]\u001b[0m Trial 88 finished with value: 0.13088607745115652 and parameters: {'x': 2.3617818091766867}. Best is trial 62 with value: 0.000627333208280044.\u001b[0m\n",
            "\u001b[32m[I 2023-03-01 08:18:06,140]\u001b[0m Trial 89 finished with value: 2.0906799883959692 and parameters: {'x': 0.5540816107414743}. Best is trial 62 with value: 0.000627333208280044.\u001b[0m\n",
            "\u001b[32m[I 2023-03-01 08:18:06,149]\u001b[0m Trial 90 finished with value: 3.262929335352571 and parameters: {'x': 3.8063580307770026}. Best is trial 62 with value: 0.000627333208280044.\u001b[0m\n",
            "\u001b[32m[I 2023-03-01 08:18:06,158]\u001b[0m Trial 91 finished with value: 0.5075433294625583 and parameters: {'x': 1.2875792468894816}. Best is trial 62 with value: 0.000627333208280044.\u001b[0m\n",
            "\u001b[32m[I 2023-03-01 08:18:06,168]\u001b[0m Trial 92 finished with value: 0.09915769141193814 and parameters: {'x': 2.3148931428468047}. Best is trial 62 with value: 0.000627333208280044.\u001b[0m\n",
            "\u001b[32m[I 2023-03-01 08:18:06,178]\u001b[0m Trial 93 finished with value: 0.0010153509030071568 and parameters: {'x': 1.9681354287176627}. Best is trial 62 with value: 0.000627333208280044.\u001b[0m\n",
            "\u001b[32m[I 2023-03-01 08:18:06,192]\u001b[0m Trial 94 finished with value: 0.644648244231683 and parameters: {'x': 2.8028998967690075}. Best is trial 62 with value: 0.000627333208280044.\u001b[0m\n",
            "\u001b[32m[I 2023-03-01 08:18:06,202]\u001b[0m Trial 95 finished with value: 0.0021083399773982573 and parameters: {'x': 1.9540833366042538}. Best is trial 62 with value: 0.000627333208280044.\u001b[0m\n",
            "\u001b[32m[I 2023-03-01 08:18:06,212]\u001b[0m Trial 96 finished with value: 0.2493819966488368 and parameters: {'x': 1.5006183857521016}. Best is trial 62 with value: 0.000627333208280044.\u001b[0m\n",
            "\u001b[32m[I 2023-03-01 08:18:06,226]\u001b[0m Trial 97 finished with value: 1.4606292756574681 and parameters: {'x': 3.2085649654269597}. Best is trial 62 with value: 0.000627333208280044.\u001b[0m\n",
            "\u001b[32m[I 2023-03-01 08:18:06,238]\u001b[0m Trial 98 finished with value: 0.007520361732590267 and parameters: {'x': 2.0867200192146558}. Best is trial 62 with value: 0.000627333208280044.\u001b[0m\n",
            "\u001b[32m[I 2023-03-01 08:18:06,248]\u001b[0m Trial 99 finished with value: 3.3294424173179737 and parameters: {'x': 0.17532402402016212}. Best is trial 62 with value: 0.000627333208280044.\u001b[0m\n"
          ]
        },
        {
          "output_type": "execute_result",
          "data": {
            "text/plain": [
              "{'x': 2.0250466206958153}"
            ]
          },
          "metadata": {},
          "execution_count": 2
        }
      ]
    },
    {
      "cell_type": "code",
      "source": [
        "import sklearn\n",
        "import sklearn.datasets\n",
        "import sklearn.ensemble\n",
        "import sklearn.svm\n",
        "\n",
        "def objective(trial):\n",
        "    iris = sklearn.datasets.load_iris()\n",
        "    x, y = iris.data, iris.target\n",
        "\n",
        "    classifier_name = trial.suggest_categorical('classifier', ['SVC', 'RandomForest'])\n",
        "    if classifier_name == 'SVC':\n",
        "        svc_c = trial.suggest_float('svc_c', 1e-10, 1e10, log=True)\n",
        "        classifier_object = sklearn.svm.SVC(C=svc_c, gamma='auto')\n",
        "    else: \n",
        "        rf_max_deph = trial.suggest_int(\"rf_max_deph\", 1, 32, log=True)\n",
        "        n_estimators = trial.suggest_int('n_estimators', 1, 10)\n",
        "        classifier_object = sklearn.ensemble.RandomForestClassifier(n_estimators=n_estimators, max_depth=rf_max_deph)\n",
        "    score = sklearn.model_selection.cross_val_score(classifier_object, x, y, n_jobs=-1, cv=3)\n",
        "\n",
        "    accuracy = score.mean()\n",
        "    return accuracy\n",
        "\n",
        "study = optuna.create_study(direction='maximize')\n",
        "study.optimize(objective, n_trials=100)\n",
        "    "
      ],
      "metadata": {
        "colab": {
          "base_uri": "https://localhost:8080/"
        },
        "id": "dSzch36DSVxV",
        "outputId": "662ba029-5f24-46c1-bb2f-b7499f135e9c"
      },
      "execution_count": 8,
      "outputs": [
        {
          "output_type": "stream",
          "name": "stderr",
          "text": [
            "\u001b[32m[I 2023-03-01 08:54:18,096]\u001b[0m A new study created in memory with name: no-name-6e991d60-891b-48b9-9950-418ffef7f01b\u001b[0m\n",
            "\u001b[32m[I 2023-03-01 08:54:18,262]\u001b[0m Trial 0 finished with value: 0.86 and parameters: {'classifier': 'RandomForest', 'rf_max_deph': 1, 'n_estimators': 8}. Best is trial 0 with value: 0.86.\u001b[0m\n",
            "\u001b[32m[I 2023-03-01 08:54:18,306]\u001b[0m Trial 1 finished with value: 0.94 and parameters: {'classifier': 'RandomForest', 'rf_max_deph': 10, 'n_estimators': 1}. Best is trial 1 with value: 0.94.\u001b[0m\n",
            "\u001b[32m[I 2023-03-01 08:54:18,371]\u001b[0m Trial 2 finished with value: 0.8866666666666667 and parameters: {'classifier': 'RandomForest', 'rf_max_deph': 1, 'n_estimators': 9}. Best is trial 1 with value: 0.94.\u001b[0m\n",
            "\u001b[32m[I 2023-03-01 08:54:18,387]\u001b[0m Trial 3 finished with value: 0.98 and parameters: {'classifier': 'SVC', 'svc_c': 11.463404431303923}. Best is trial 3 with value: 0.98.\u001b[0m\n",
            "\u001b[32m[I 2023-03-01 08:54:18,404]\u001b[0m Trial 4 finished with value: 0.32 and parameters: {'classifier': 'SVC', 'svc_c': 1.1307212664760164e-10}. Best is trial 3 with value: 0.98.\u001b[0m\n",
            "\u001b[32m[I 2023-03-01 08:54:18,445]\u001b[0m Trial 5 finished with value: 0.94 and parameters: {'classifier': 'RandomForest', 'rf_max_deph': 17, 'n_estimators': 7}. Best is trial 3 with value: 0.98.\u001b[0m\n",
            "\u001b[32m[I 2023-03-01 08:54:18,461]\u001b[0m Trial 6 finished with value: 0.32 and parameters: {'classifier': 'SVC', 'svc_c': 0.0019737339521981906}. Best is trial 3 with value: 0.98.\u001b[0m\n",
            "\u001b[32m[I 2023-03-01 08:54:18,514]\u001b[0m Trial 7 finished with value: 0.96 and parameters: {'classifier': 'RandomForest', 'rf_max_deph': 3, 'n_estimators': 10}. Best is trial 3 with value: 0.98.\u001b[0m\n",
            "\u001b[32m[I 2023-03-01 08:54:18,552]\u001b[0m Trial 8 finished with value: 0.9533333333333333 and parameters: {'classifier': 'RandomForest', 'rf_max_deph': 6, 'n_estimators': 5}. Best is trial 3 with value: 0.98.\u001b[0m\n",
            "\u001b[32m[I 2023-03-01 08:54:18,568]\u001b[0m Trial 9 finished with value: 0.96 and parameters: {'classifier': 'SVC', 'svc_c': 124532.64251915748}. Best is trial 3 with value: 0.98.\u001b[0m\n",
            "\u001b[32m[I 2023-03-01 08:54:18,590]\u001b[0m Trial 10 finished with value: 0.96 and parameters: {'classifier': 'SVC', 'svc_c': 1594321831.108845}. Best is trial 3 with value: 0.98.\u001b[0m\n",
            "\u001b[32m[I 2023-03-01 08:54:18,610]\u001b[0m Trial 11 finished with value: 0.9866666666666667 and parameters: {'classifier': 'SVC', 'svc_c': 4.564657501467379}. Best is trial 11 with value: 0.9866666666666667.\u001b[0m\n",
            "\u001b[32m[I 2023-03-01 08:54:18,632]\u001b[0m Trial 12 finished with value: 0.9733333333333333 and parameters: {'classifier': 'SVC', 'svc_c': 2.877586217402941}. Best is trial 11 with value: 0.9866666666666667.\u001b[0m\n",
            "\u001b[32m[I 2023-03-01 08:54:18,658]\u001b[0m Trial 13 finished with value: 0.9866666666666667 and parameters: {'classifier': 'SVC', 'svc_c': 4.248983234521194}. Best is trial 11 with value: 0.9866666666666667.\u001b[0m\n",
            "\u001b[32m[I 2023-03-01 08:54:18,683]\u001b[0m Trial 14 finished with value: 0.32 and parameters: {'classifier': 'SVC', 'svc_c': 0.0021560490009879226}. Best is trial 11 with value: 0.9866666666666667.\u001b[0m\n",
            "\u001b[32m[I 2023-03-01 08:54:18,704]\u001b[0m Trial 15 finished with value: 0.96 and parameters: {'classifier': 'SVC', 'svc_c': 13695.359165239006}. Best is trial 11 with value: 0.9866666666666667.\u001b[0m\n",
            "\u001b[32m[I 2023-03-01 08:54:18,728]\u001b[0m Trial 16 finished with value: 0.32 and parameters: {'classifier': 'SVC', 'svc_c': 0.00030113522298736496}. Best is trial 11 with value: 0.9866666666666667.\u001b[0m\n",
            "\u001b[32m[I 2023-03-01 08:54:18,749]\u001b[0m Trial 17 finished with value: 0.9466666666666667 and parameters: {'classifier': 'SVC', 'svc_c': 218.27824059131868}. Best is trial 11 with value: 0.9866666666666667.\u001b[0m\n",
            "\u001b[32m[I 2023-03-01 08:54:18,778]\u001b[0m Trial 18 finished with value: 0.96 and parameters: {'classifier': 'SVC', 'svc_c': 3897262.7885487713}. Best is trial 11 with value: 0.9866666666666667.\u001b[0m\n",
            "\u001b[32m[I 2023-03-01 08:54:18,801]\u001b[0m Trial 19 finished with value: 0.9666666666666667 and parameters: {'classifier': 'SVC', 'svc_c': 1.2659552823374147}. Best is trial 11 with value: 0.9866666666666667.\u001b[0m\n",
            "\u001b[32m[I 2023-03-01 08:54:18,822]\u001b[0m Trial 20 finished with value: 0.96 and parameters: {'classifier': 'SVC', 'svc_c': 840.6729770659184}. Best is trial 11 with value: 0.9866666666666667.\u001b[0m\n",
            "\u001b[32m[I 2023-03-01 08:54:18,844]\u001b[0m Trial 21 finished with value: 0.98 and parameters: {'classifier': 'SVC', 'svc_c': 5.257744021712301}. Best is trial 11 with value: 0.9866666666666667.\u001b[0m\n",
            "\u001b[32m[I 2023-03-01 08:54:18,868]\u001b[0m Trial 22 finished with value: 0.8933333333333332 and parameters: {'classifier': 'SVC', 'svc_c': 0.04827329066517438}. Best is trial 11 with value: 0.9866666666666667.\u001b[0m\n",
            "\u001b[32m[I 2023-03-01 08:54:18,887]\u001b[0m Trial 23 finished with value: 0.9466666666666667 and parameters: {'classifier': 'SVC', 'svc_c': 286.3736975621241}. Best is trial 11 with value: 0.9866666666666667.\u001b[0m\n",
            "\u001b[32m[I 2023-03-01 08:54:18,915]\u001b[0m Trial 24 finished with value: 0.94 and parameters: {'classifier': 'SVC', 'svc_c': 0.10671167268736319}. Best is trial 11 with value: 0.9866666666666667.\u001b[0m\n",
            "\u001b[32m[I 2023-03-01 08:54:18,941]\u001b[0m Trial 25 finished with value: 0.96 and parameters: {'classifier': 'SVC', 'svc_c': 36.56821534333847}. Best is trial 11 with value: 0.9866666666666667.\u001b[0m\n",
            "\u001b[32m[I 2023-03-01 08:54:18,964]\u001b[0m Trial 26 finished with value: 0.32 and parameters: {'classifier': 'SVC', 'svc_c': 3.220983883580009e-05}. Best is trial 11 with value: 0.9866666666666667.\u001b[0m\n",
            "\u001b[32m[I 2023-03-01 08:54:18,986]\u001b[0m Trial 27 finished with value: 0.96 and parameters: {'classifier': 'SVC', 'svc_c': 6405.1401252123605}. Best is trial 11 with value: 0.9866666666666667.\u001b[0m\n",
            "\u001b[32m[I 2023-03-01 08:54:19,006]\u001b[0m Trial 28 finished with value: 0.9666666666666667 and parameters: {'classifier': 'SVC', 'svc_c': 20.414502689961342}. Best is trial 11 with value: 0.9866666666666667.\u001b[0m\n",
            "\u001b[32m[I 2023-03-01 08:54:19,038]\u001b[0m Trial 29 finished with value: 0.9333333333333332 and parameters: {'classifier': 'RandomForest', 'rf_max_deph': 31, 'n_estimators': 1}. Best is trial 11 with value: 0.9866666666666667.\u001b[0m\n",
            "\u001b[32m[I 2023-03-01 08:54:19,061]\u001b[0m Trial 30 finished with value: 0.96 and parameters: {'classifier': 'SVC', 'svc_c': 369168.6391203422}. Best is trial 11 with value: 0.9866666666666667.\u001b[0m\n",
            "\u001b[32m[I 2023-03-01 08:54:19,084]\u001b[0m Trial 31 finished with value: 0.9666666666666667 and parameters: {'classifier': 'SVC', 'svc_c': 1.2260581883954953}. Best is trial 11 with value: 0.9866666666666667.\u001b[0m\n",
            "\u001b[32m[I 2023-03-01 08:54:19,106]\u001b[0m Trial 32 finished with value: 0.9533333333333333 and parameters: {'classifier': 'SVC', 'svc_c': 0.13935828414705617}. Best is trial 11 with value: 0.9866666666666667.\u001b[0m\n",
            "\u001b[32m[I 2023-03-01 08:54:19,129]\u001b[0m Trial 33 finished with value: 0.9666666666666667 and parameters: {'classifier': 'SVC', 'svc_c': 18.27546200089299}. Best is trial 11 with value: 0.9866666666666667.\u001b[0m\n",
            "\u001b[32m[I 2023-03-01 08:54:19,180]\u001b[0m Trial 34 finished with value: 0.9533333333333333 and parameters: {'classifier': 'RandomForest', 'rf_max_deph': 3, 'n_estimators': 4}. Best is trial 11 with value: 0.9866666666666667.\u001b[0m\n",
            "\u001b[32m[I 2023-03-01 08:54:19,205]\u001b[0m Trial 35 finished with value: 0.96 and parameters: {'classifier': 'SVC', 'svc_c': 1113.615655032973}. Best is trial 11 with value: 0.9866666666666667.\u001b[0m\n",
            "\u001b[32m[I 2023-03-01 08:54:19,256]\u001b[0m Trial 36 finished with value: 0.9333333333333332 and parameters: {'classifier': 'RandomForest', 'rf_max_deph': 2, 'n_estimators': 3}. Best is trial 11 with value: 0.9866666666666667.\u001b[0m\n",
            "\u001b[32m[I 2023-03-01 08:54:19,290]\u001b[0m Trial 37 finished with value: 0.98 and parameters: {'classifier': 'SVC', 'svc_c': 10.753711214509236}. Best is trial 11 with value: 0.9866666666666667.\u001b[0m\n",
            "\u001b[32m[I 2023-03-01 08:54:19,333]\u001b[0m Trial 38 finished with value: 0.7600000000000001 and parameters: {'classifier': 'SVC', 'svc_c': 0.03301355855396616}. Best is trial 11 with value: 0.9866666666666667.\u001b[0m\n",
            "\u001b[32m[I 2023-03-01 08:54:19,415]\u001b[0m Trial 39 finished with value: 0.9666666666666667 and parameters: {'classifier': 'RandomForest', 'rf_max_deph': 7, 'n_estimators': 7}. Best is trial 11 with value: 0.9866666666666667.\u001b[0m\n",
            "\u001b[32m[I 2023-03-01 08:54:19,461]\u001b[0m Trial 40 finished with value: 0.32 and parameters: {'classifier': 'SVC', 'svc_c': 5.288314084647302e-06}. Best is trial 11 with value: 0.9866666666666667.\u001b[0m\n",
            "\u001b[32m[I 2023-03-01 08:54:19,497]\u001b[0m Trial 41 finished with value: 0.98 and parameters: {'classifier': 'SVC', 'svc_c': 7.994705360762356}. Best is trial 11 with value: 0.9866666666666667.\u001b[0m\n",
            "\u001b[32m[I 2023-03-01 08:54:19,535]\u001b[0m Trial 42 finished with value: 0.9666666666666667 and parameters: {'classifier': 'SVC', 'svc_c': 23.997253491726607}. Best is trial 11 with value: 0.9866666666666667.\u001b[0m\n",
            "\u001b[32m[I 2023-03-01 08:54:19,574]\u001b[0m Trial 43 finished with value: 0.96 and parameters: {'classifier': 'SVC', 'svc_c': 0.3458135000350489}. Best is trial 11 with value: 0.9866666666666667.\u001b[0m\n",
            "\u001b[32m[I 2023-03-01 08:54:19,610]\u001b[0m Trial 44 finished with value: 0.9666666666666667 and parameters: {'classifier': 'SVC', 'svc_c': 1.5796548319614936}. Best is trial 11 with value: 0.9866666666666667.\u001b[0m\n",
            "\u001b[32m[I 2023-03-01 08:54:19,650]\u001b[0m Trial 45 finished with value: 0.96 and parameters: {'classifier': 'SVC', 'svc_c': 91.5943351679213}. Best is trial 11 with value: 0.9866666666666667.\u001b[0m\n",
            "\u001b[32m[I 2023-03-01 08:54:19,691]\u001b[0m Trial 46 finished with value: 0.32 and parameters: {'classifier': 'SVC', 'svc_c': 0.007870503580289241}. Best is trial 11 with value: 0.9866666666666667.\u001b[0m\n",
            "\u001b[32m[I 2023-03-01 08:54:19,768]\u001b[0m Trial 47 finished with value: 0.66 and parameters: {'classifier': 'RandomForest', 'rf_max_deph': 1, 'n_estimators': 3}. Best is trial 11 with value: 0.9866666666666667.\u001b[0m\n",
            "\u001b[32m[I 2023-03-01 08:54:19,808]\u001b[0m Trial 48 finished with value: 0.9733333333333333 and parameters: {'classifier': 'SVC', 'svc_c': 2.479247776526999}. Best is trial 11 with value: 0.9866666666666667.\u001b[0m\n",
            "\u001b[32m[I 2023-03-01 08:54:19,845]\u001b[0m Trial 49 finished with value: 0.96 and parameters: {'classifier': 'SVC', 'svc_c': 5166.239442332129}. Best is trial 11 with value: 0.9866666666666667.\u001b[0m\n",
            "\u001b[32m[I 2023-03-01 08:54:19,893]\u001b[0m Trial 50 finished with value: 0.32 and parameters: {'classifier': 'SVC', 'svc_c': 0.011417206442151695}. Best is trial 11 with value: 0.9866666666666667.\u001b[0m\n",
            "\u001b[32m[I 2023-03-01 08:54:19,930]\u001b[0m Trial 51 finished with value: 0.98 and parameters: {'classifier': 'SVC', 'svc_c': 7.548903102661027}. Best is trial 11 with value: 0.9866666666666667.\u001b[0m\n",
            "\u001b[32m[I 2023-03-01 08:54:19,964]\u001b[0m Trial 52 finished with value: 0.96 and parameters: {'classifier': 'SVC', 'svc_c': 0.46409934355350774}. Best is trial 11 with value: 0.9866666666666667.\u001b[0m\n",
            "\u001b[32m[I 2023-03-01 08:54:20,002]\u001b[0m Trial 53 finished with value: 0.9533333333333333 and parameters: {'classifier': 'SVC', 'svc_c': 167.2012996248915}. Best is trial 11 with value: 0.9866666666666667.\u001b[0m\n",
            "\u001b[32m[I 2023-03-01 08:54:20,040]\u001b[0m Trial 54 finished with value: 0.98 and parameters: {'classifier': 'SVC', 'svc_c': 5.322936733300238}. Best is trial 11 with value: 0.9866666666666667.\u001b[0m\n",
            "\u001b[32m[I 2023-03-01 08:54:20,078]\u001b[0m Trial 55 finished with value: 0.96 and parameters: {'classifier': 'SVC', 'svc_c': 78.05291920890046}. Best is trial 11 with value: 0.9866666666666667.\u001b[0m\n",
            "\u001b[32m[I 2023-03-01 08:54:20,112]\u001b[0m Trial 56 finished with value: 0.96 and parameters: {'classifier': 'SVC', 'svc_c': 0.2837761297541088}. Best is trial 11 with value: 0.9866666666666667.\u001b[0m\n",
            "\u001b[32m[I 2023-03-01 08:54:20,146]\u001b[0m Trial 57 finished with value: 0.96 and parameters: {'classifier': 'SVC', 'svc_c': 1678.8985056143115}. Best is trial 11 with value: 0.9866666666666667.\u001b[0m\n",
            "\u001b[32m[I 2023-03-01 08:54:20,193]\u001b[0m Trial 58 finished with value: 0.98 and parameters: {'classifier': 'SVC', 'svc_c': 6.282662276332239}. Best is trial 11 with value: 0.9866666666666667.\u001b[0m\n",
            "\u001b[32m[I 2023-03-01 08:54:20,236]\u001b[0m Trial 59 finished with value: 0.94 and parameters: {'classifier': 'SVC', 'svc_c': 231.66556281256126}. Best is trial 11 with value: 0.9866666666666667.\u001b[0m\n",
            "\u001b[32m[I 2023-03-01 08:54:20,339]\u001b[0m Trial 60 finished with value: 0.9466666666666667 and parameters: {'classifier': 'RandomForest', 'rf_max_deph': 2, 'n_estimators': 6}. Best is trial 11 with value: 0.9866666666666667.\u001b[0m\n",
            "\u001b[32m[I 2023-03-01 08:54:20,374]\u001b[0m Trial 61 finished with value: 0.98 and parameters: {'classifier': 'SVC', 'svc_c': 7.897328516445802}. Best is trial 11 with value: 0.9866666666666667.\u001b[0m\n",
            "\u001b[32m[I 2023-03-01 08:54:20,423]\u001b[0m Trial 62 finished with value: 0.9733333333333333 and parameters: {'classifier': 'SVC', 'svc_c': 3.133399132339266}. Best is trial 11 with value: 0.9866666666666667.\u001b[0m\n",
            "\u001b[32m[I 2023-03-01 08:54:20,457]\u001b[0m Trial 63 finished with value: 0.9666666666666667 and parameters: {'classifier': 'SVC', 'svc_c': 25.49137887095866}. Best is trial 11 with value: 0.9866666666666667.\u001b[0m\n",
            "\u001b[32m[I 2023-03-01 08:54:20,494]\u001b[0m Trial 64 finished with value: 0.9666666666666667 and parameters: {'classifier': 'SVC', 'svc_c': 0.42706498127527864}. Best is trial 11 with value: 0.9866666666666667.\u001b[0m\n",
            "\u001b[32m[I 2023-03-01 08:54:20,532]\u001b[0m Trial 65 finished with value: 0.96 and parameters: {'classifier': 'SVC', 'svc_c': 609.2091730013832}. Best is trial 11 with value: 0.9866666666666667.\u001b[0m\n",
            "\u001b[32m[I 2023-03-01 08:54:20,570]\u001b[0m Trial 66 finished with value: 0.96 and parameters: {'classifier': 'SVC', 'svc_c': 30761.31635586002}. Best is trial 11 with value: 0.9866666666666667.\u001b[0m\n",
            "\u001b[32m[I 2023-03-01 08:54:20,605]\u001b[0m Trial 67 finished with value: 0.96 and parameters: {'classifier': 'SVC', 'svc_c': 87.95472988194531}. Best is trial 11 with value: 0.9866666666666667.\u001b[0m\n",
            "\u001b[32m[I 2023-03-01 08:54:20,644]\u001b[0m Trial 68 finished with value: 0.9266666666666666 and parameters: {'classifier': 'SVC', 'svc_c': 0.06223687880591737}. Best is trial 11 with value: 0.9866666666666667.\u001b[0m\n",
            "\u001b[32m[I 2023-03-01 08:54:20,686]\u001b[0m Trial 69 finished with value: 0.98 and parameters: {'classifier': 'SVC', 'svc_c': 1.7427364698607357}. Best is trial 11 with value: 0.9866666666666667.\u001b[0m\n",
            "\u001b[32m[I 2023-03-01 08:54:20,725]\u001b[0m Trial 70 finished with value: 0.98 and parameters: {'classifier': 'SVC', 'svc_c': 11.636866419180201}. Best is trial 11 with value: 0.9866666666666667.\u001b[0m\n",
            "\u001b[32m[I 2023-03-01 08:54:20,765]\u001b[0m Trial 71 finished with value: 0.98 and parameters: {'classifier': 'SVC', 'svc_c': 9.035181365144197}. Best is trial 11 with value: 0.9866666666666667.\u001b[0m\n",
            "\u001b[32m[I 2023-03-01 08:54:20,805]\u001b[0m Trial 72 finished with value: 0.9666666666666667 and parameters: {'classifier': 'SVC', 'svc_c': 0.8846647453661329}. Best is trial 11 with value: 0.9866666666666667.\u001b[0m\n",
            "\u001b[32m[I 2023-03-01 08:54:20,843]\u001b[0m Trial 73 finished with value: 0.9666666666666667 and parameters: {'classifier': 'SVC', 'svc_c': 42.93653234257444}. Best is trial 11 with value: 0.9866666666666667.\u001b[0m\n",
            "\u001b[32m[I 2023-03-01 08:54:20,880]\u001b[0m Trial 74 finished with value: 0.98 and parameters: {'classifier': 'SVC', 'svc_c': 5.629892650999049}. Best is trial 11 with value: 0.9866666666666667.\u001b[0m\n",
            "\u001b[32m[I 2023-03-01 08:54:20,914]\u001b[0m Trial 75 finished with value: 0.96 and parameters: {'classifier': 'SVC', 'svc_c': 586.7244238360596}. Best is trial 11 with value: 0.9866666666666667.\u001b[0m\n",
            "\u001b[32m[I 2023-03-01 08:54:21,029]\u001b[0m Trial 76 finished with value: 0.9533333333333333 and parameters: {'classifier': 'RandomForest', 'rf_max_deph': 29, 'n_estimators': 10}. Best is trial 11 with value: 0.9866666666666667.\u001b[0m\n",
            "\u001b[32m[I 2023-03-01 08:54:21,070]\u001b[0m Trial 77 finished with value: 0.9533333333333333 and parameters: {'classifier': 'SVC', 'svc_c': 0.14649258246038657}. Best is trial 11 with value: 0.9866666666666667.\u001b[0m\n",
            "\u001b[32m[I 2023-03-01 08:54:21,109]\u001b[0m Trial 78 finished with value: 0.96 and parameters: {'classifier': 'SVC', 'svc_c': 45.90423963418888}. Best is trial 11 with value: 0.9866666666666667.\u001b[0m\n",
            "\u001b[32m[I 2023-03-01 08:54:21,149]\u001b[0m Trial 79 finished with value: 0.9733333333333333 and parameters: {'classifier': 'SVC', 'svc_c': 1.0205183789356747}. Best is trial 11 with value: 0.9866666666666667.\u001b[0m\n",
            "\u001b[32m[I 2023-03-01 08:54:21,188]\u001b[0m Trial 80 finished with value: 0.98 and parameters: {'classifier': 'SVC', 'svc_c': 5.926426345058417}. Best is trial 11 with value: 0.9866666666666667.\u001b[0m\n",
            "\u001b[32m[I 2023-03-01 08:54:21,231]\u001b[0m Trial 81 finished with value: 0.9866666666666667 and parameters: {'classifier': 'SVC', 'svc_c': 4.230642274145332}. Best is trial 11 with value: 0.9866666666666667.\u001b[0m\n",
            "\u001b[32m[I 2023-03-01 08:54:21,288]\u001b[0m Trial 82 finished with value: 0.9533333333333333 and parameters: {'classifier': 'SVC', 'svc_c': 165.9650317376444}. Best is trial 11 with value: 0.9866666666666667.\u001b[0m\n",
            "\u001b[32m[I 2023-03-01 08:54:21,329]\u001b[0m Trial 83 finished with value: 0.9666666666666667 and parameters: {'classifier': 'SVC', 'svc_c': 21.957862861063592}. Best is trial 11 with value: 0.9866666666666667.\u001b[0m\n",
            "\u001b[32m[I 2023-03-01 08:54:21,368]\u001b[0m Trial 84 finished with value: 0.9666666666666667 and parameters: {'classifier': 'SVC', 'svc_c': 1.4879035834292298}. Best is trial 11 with value: 0.9866666666666667.\u001b[0m\n",
            "\u001b[32m[I 2023-03-01 08:54:21,410]\u001b[0m Trial 85 finished with value: 0.96 and parameters: {'classifier': 'SVC', 'svc_c': 0.14696550064608718}. Best is trial 11 with value: 0.9866666666666667.\u001b[0m\n",
            "\u001b[32m[I 2023-03-01 08:54:21,450]\u001b[0m Trial 86 finished with value: 0.9733333333333333 and parameters: {'classifier': 'SVC', 'svc_c': 2.7006018084811685}. Best is trial 11 with value: 0.9866666666666667.\u001b[0m\n",
            "\u001b[32m[I 2023-03-01 08:54:21,518]\u001b[0m Trial 87 finished with value: 0.9199999999999999 and parameters: {'classifier': 'RandomForest', 'rf_max_deph': 12, 'n_estimators': 2}. Best is trial 11 with value: 0.9866666666666667.\u001b[0m\n",
            "\u001b[32m[I 2023-03-01 08:54:21,558]\u001b[0m Trial 88 finished with value: 0.9666666666666667 and parameters: {'classifier': 'SVC', 'svc_c': 0.6332285586962619}. Best is trial 11 with value: 0.9866666666666667.\u001b[0m\n",
            "\u001b[32m[I 2023-03-01 08:54:21,606]\u001b[0m Trial 89 finished with value: 0.7600000000000001 and parameters: {'classifier': 'SVC', 'svc_c': 0.031069775658849035}. Best is trial 11 with value: 0.9866666666666667.\u001b[0m\n",
            "\u001b[32m[I 2023-03-01 08:54:21,646]\u001b[0m Trial 90 finished with value: 0.96 and parameters: {'classifier': 'SVC', 'svc_c': 67.44380573244288}. Best is trial 11 with value: 0.9866666666666667.\u001b[0m\n",
            "\u001b[32m[I 2023-03-01 08:54:21,689]\u001b[0m Trial 91 finished with value: 0.98 and parameters: {'classifier': 'SVC', 'svc_c': 7.282504688371056}. Best is trial 11 with value: 0.9866666666666667.\u001b[0m\n",
            "\u001b[32m[I 2023-03-01 08:54:21,729]\u001b[0m Trial 92 finished with value: 0.9733333333333333 and parameters: {'classifier': 'SVC', 'svc_c': 13.458571324398589}. Best is trial 11 with value: 0.9866666666666667.\u001b[0m\n",
            "\u001b[32m[I 2023-03-01 08:54:21,769]\u001b[0m Trial 93 finished with value: 0.9866666666666667 and parameters: {'classifier': 'SVC', 'svc_c': 4.157491245789056}. Best is trial 11 with value: 0.9866666666666667.\u001b[0m\n",
            "\u001b[32m[I 2023-03-01 08:54:21,808]\u001b[0m Trial 94 finished with value: 0.96 and parameters: {'classifier': 'SVC', 'svc_c': 0.3325347936397347}. Best is trial 11 with value: 0.9866666666666667.\u001b[0m\n",
            "\u001b[32m[I 2023-03-01 08:54:21,845]\u001b[0m Trial 95 finished with value: 0.9733333333333333 and parameters: {'classifier': 'SVC', 'svc_c': 2.979586947597946}. Best is trial 11 with value: 0.9866666666666667.\u001b[0m\n",
            "\u001b[32m[I 2023-03-01 08:54:21,887]\u001b[0m Trial 96 finished with value: 0.9466666666666667 and parameters: {'classifier': 'SVC', 'svc_c': 283.7910033066548}. Best is trial 11 with value: 0.9866666666666667.\u001b[0m\n",
            "\u001b[32m[I 2023-03-01 08:54:21,925]\u001b[0m Trial 97 finished with value: 0.9666666666666667 and parameters: {'classifier': 'SVC', 'svc_c': 24.256218181054614}. Best is trial 11 with value: 0.9866666666666667.\u001b[0m\n",
            "\u001b[32m[I 2023-03-01 08:54:21,966]\u001b[0m Trial 98 finished with value: 0.9733333333333333 and parameters: {'classifier': 'SVC', 'svc_c': 0.9255486630787879}. Best is trial 11 with value: 0.9866666666666667.\u001b[0m\n",
            "\u001b[32m[I 2023-03-01 08:54:22,007]\u001b[0m Trial 99 finished with value: 0.96 and parameters: {'classifier': 'SVC', 'svc_c': 87.8721015524899}. Best is trial 11 with value: 0.9866666666666667.\u001b[0m\n"
          ]
        }
      ]
    },
    {
      "cell_type": "code",
      "source": [
        "study.best_trial"
      ],
      "metadata": {
        "colab": {
          "base_uri": "https://localhost:8080/"
        },
        "id": "1UjDJ1DzYpkm",
        "outputId": "cfc9c522-068b-45a9-99d8-b1e244fa7614"
      },
      "execution_count": 9,
      "outputs": [
        {
          "output_type": "execute_result",
          "data": {
            "text/plain": [
              "FrozenTrial(number=11, state=TrialState.COMPLETE, values=[0.9866666666666667], datetime_start=datetime.datetime(2023, 3, 1, 8, 54, 18, 592348), datetime_complete=datetime.datetime(2023, 3, 1, 8, 54, 18, 610317), params={'classifier': 'SVC', 'svc_c': 4.564657501467379}, user_attrs={}, system_attrs={}, intermediate_values={}, distributions={'classifier': CategoricalDistribution(choices=('SVC', 'RandomForest')), 'svc_c': FloatDistribution(high=10000000000.0, log=True, low=1e-10, step=None)}, trial_id=11, value=None)"
            ]
          },
          "metadata": {},
          "execution_count": 9
        }
      ]
    },
    {
      "cell_type": "code",
      "source": [
        "study.best_params"
      ],
      "metadata": {
        "colab": {
          "base_uri": "https://localhost:8080/"
        },
        "id": "p7w1VhuqYxE5",
        "outputId": "8990b1f1-0e16-4bf0-dfdc-92a389eadef6"
      },
      "execution_count": 10,
      "outputs": [
        {
          "output_type": "execute_result",
          "data": {
            "text/plain": [
              "{'classifier': 'SVC', 'svc_c': 4.564657501467379}"
            ]
          },
          "metadata": {},
          "execution_count": 10
        }
      ]
    },
    {
      "cell_type": "code",
      "source": [
        "!pip install catboost"
      ],
      "metadata": {
        "colab": {
          "base_uri": "https://localhost:8080/"
        },
        "id": "dd0Xw78Pa8TW",
        "outputId": "78cf4e06-89ab-4644-cf38-65d523dce6be"
      },
      "execution_count": 12,
      "outputs": [
        {
          "output_type": "stream",
          "name": "stdout",
          "text": [
            "Looking in indexes: https://pypi.org/simple, https://us-python.pkg.dev/colab-wheels/public/simple/\n",
            "Collecting catboost\n",
            "  Downloading catboost-1.1.1-cp38-none-manylinux1_x86_64.whl (76.6 MB)\n",
            "\u001b[2K     \u001b[90m━━━━━━━━━━━━━━━━━━━━━━━━━━━━━━━━━━━━━━━━\u001b[0m \u001b[32m76.6/76.6 MB\u001b[0m \u001b[31m11.2 MB/s\u001b[0m eta \u001b[36m0:00:00\u001b[0m\n",
            "\u001b[?25hRequirement already satisfied: graphviz in /usr/local/lib/python3.8/dist-packages (from catboost) (0.10.1)\n",
            "Requirement already satisfied: six in /usr/local/lib/python3.8/dist-packages (from catboost) (1.15.0)\n",
            "Requirement already satisfied: pandas>=0.24.0 in /usr/local/lib/python3.8/dist-packages (from catboost) (1.3.5)\n",
            "Requirement already satisfied: numpy>=1.16.0 in /usr/local/lib/python3.8/dist-packages (from catboost) (1.22.4)\n",
            "Requirement already satisfied: scipy in /usr/local/lib/python3.8/dist-packages (from catboost) (1.7.3)\n",
            "Requirement already satisfied: plotly in /usr/local/lib/python3.8/dist-packages (from catboost) (5.5.0)\n",
            "Requirement already satisfied: matplotlib in /usr/local/lib/python3.8/dist-packages (from catboost) (3.5.3)\n",
            "Requirement already satisfied: python-dateutil>=2.7.3 in /usr/local/lib/python3.8/dist-packages (from pandas>=0.24.0->catboost) (2.8.2)\n",
            "Requirement already satisfied: pytz>=2017.3 in /usr/local/lib/python3.8/dist-packages (from pandas>=0.24.0->catboost) (2022.7.1)\n",
            "Requirement already satisfied: kiwisolver>=1.0.1 in /usr/local/lib/python3.8/dist-packages (from matplotlib->catboost) (1.4.4)\n",
            "Requirement already satisfied: pillow>=6.2.0 in /usr/local/lib/python3.8/dist-packages (from matplotlib->catboost) (8.4.0)\n",
            "Requirement already satisfied: fonttools>=4.22.0 in /usr/local/lib/python3.8/dist-packages (from matplotlib->catboost) (4.38.0)\n",
            "Requirement already satisfied: pyparsing>=2.2.1 in /usr/local/lib/python3.8/dist-packages (from matplotlib->catboost) (3.0.9)\n",
            "Requirement already satisfied: packaging>=20.0 in /usr/local/lib/python3.8/dist-packages (from matplotlib->catboost) (23.0)\n",
            "Requirement already satisfied: cycler>=0.10 in /usr/local/lib/python3.8/dist-packages (from matplotlib->catboost) (0.11.0)\n",
            "Requirement already satisfied: tenacity>=6.2.0 in /usr/local/lib/python3.8/dist-packages (from plotly->catboost) (8.2.1)\n",
            "Installing collected packages: catboost\n",
            "Successfully installed catboost-1.1.1\n"
          ]
        }
      ]
    },
    {
      "cell_type": "code",
      "source": [
        "import catboost as cb\n",
        "from sklearn.datasets import load_breast_cancer\n",
        "from sklearn.metrics import accuracy_score\n",
        "from sklearn.model_selection import train_test_split \n",
        "import numpy as np"
      ],
      "metadata": {
        "id": "-1J9mB6zZJuh"
      },
      "execution_count": 15,
      "outputs": []
    },
    {
      "cell_type": "code",
      "source": [
        "def objective(trial):\n",
        "    data, target = load_breast_cancer(return_X_y=True)\n",
        "    x_train, x_val, y_train, y_val = train_test_split(data, target, test_size=0.3)\n",
        "\n",
        "    param ={\n",
        "        'objective': trial.suggest_categorical('objective', ['Logloss', 'CrossEntropy']),\n",
        "        'colsample_bylevel': trial.suggest_float('colsample_bylevel', 0.01, 0.1),\n",
        "        'depth': trial.suggest_int('depth', 1, 12),\n",
        "        'boosting_type': trial.suggest_categorical('boosting_type', ['Ordered', 'Plain']),\n",
        "        'bootstrap_type': trial.suggest_categorical('bootstrap_type', ['Bayesian', 'Bernoulli', 'MVS']),\n",
        "        'used_ram_limit': '3gb'\n",
        "        }\n",
        "    if param[\"bootstrap_type\"] == \"Bayesian\":\n",
        "        param[\"bagging_temperature\"] = trial.suggest_float(\"bagging_temperature\", 0, 10)\n",
        "    elif param[\"bootstrap_type\"] == \"Bernoulli\":\n",
        "        param[\"subsample\"] = trial.suggest_float(\"subsample\", 0.1, 1)\n",
        "\n",
        "    gbm = cb.CatBoostClassifier(**param)\n",
        "    gbm.fit(x_train, y_train, eval_set=[(x_val, y_val)], verbose=0, early_stopping_rounds=100)\n",
        "\n",
        "    preds = gbm.predict(x_val)\n",
        "    pred_labels = np.rint(preds)\n",
        "    accuracy = accuracy_score(y_val, pred_labels)\n",
        "\n",
        "    return accuracy        "
      ],
      "metadata": {
        "id": "2hlX1SKZbewc"
      },
      "execution_count": 18,
      "outputs": []
    },
    {
      "cell_type": "code",
      "source": [
        "study = optuna.create_study(direction=\"maximize\")\n",
        "study.optimize(objective, n_trials=100, timeout=600)\n",
        "\n",
        "print(\"Number of finished trials: {}\".format(len(study.trials)))\n",
        "\n",
        "print(\"Best trial:\")\n",
        "trial = study.best_trial\n",
        "\n",
        "print(\"  Value: {}\".format(trial.value))\n",
        "\n",
        "print(\"  Params: \")\n",
        "for key, value in trial.params.items():\n",
        "    print(\"    {}: {}\".format(key, value))"
      ],
      "metadata": {
        "colab": {
          "base_uri": "https://localhost:8080/"
        },
        "id": "eMOZH5rJf2AI",
        "outputId": "b0345c18-96bc-4c04-b670-039226c05a80"
      },
      "execution_count": 19,
      "outputs": [
        {
          "output_type": "stream",
          "name": "stderr",
          "text": [
            "\u001b[32m[I 2023-03-01 09:28:32,673]\u001b[0m A new study created in memory with name: no-name-cda73850-5ecf-4190-95c9-468e7458418c\u001b[0m\n",
            "\u001b[32m[I 2023-03-01 09:28:37,181]\u001b[0m Trial 0 finished with value: 0.9766081871345029 and parameters: {'objective': 'CrossEntropy', 'colsample_bylevel': 0.024328874550694025, 'depth': 4, 'boosting_type': 'Ordered', 'bootstrap_type': 'Bayesian', 'bagging_temperature': 0.5879456840827824}. Best is trial 0 with value: 0.9766081871345029.\u001b[0m\n",
            "\u001b[32m[I 2023-03-01 09:28:43,932]\u001b[0m Trial 1 finished with value: 0.9824561403508771 and parameters: {'objective': 'CrossEntropy', 'colsample_bylevel': 0.09729679483983218, 'depth': 6, 'boosting_type': 'Ordered', 'bootstrap_type': 'Bernoulli', 'subsample': 0.9393483170998828}. Best is trial 1 with value: 0.9824561403508771.\u001b[0m\n",
            "\u001b[32m[I 2023-03-01 09:28:44,434]\u001b[0m Trial 2 finished with value: 0.9824561403508771 and parameters: {'objective': 'CrossEntropy', 'colsample_bylevel': 0.062017939366631664, 'depth': 2, 'boosting_type': 'Plain', 'bootstrap_type': 'Bernoulli', 'subsample': 0.9431291546082632}. Best is trial 1 with value: 0.9824561403508771.\u001b[0m\n",
            "\u001b[32m[I 2023-03-01 09:28:48,536]\u001b[0m Trial 3 finished with value: 0.9766081871345029 and parameters: {'objective': 'CrossEntropy', 'colsample_bylevel': 0.07897241331499293, 'depth': 10, 'boosting_type': 'Plain', 'bootstrap_type': 'Bayesian', 'bagging_temperature': 2.2411481386423415}. Best is trial 1 with value: 0.9824561403508771.\u001b[0m\n",
            "\u001b[32m[I 2023-03-01 09:28:50,508]\u001b[0m Trial 4 finished with value: 0.9707602339181286 and parameters: {'objective': 'CrossEntropy', 'colsample_bylevel': 0.062246246289141695, 'depth': 11, 'boosting_type': 'Plain', 'bootstrap_type': 'MVS'}. Best is trial 1 with value: 0.9824561403508771.\u001b[0m\n",
            "\u001b[32m[I 2023-03-01 09:28:51,598]\u001b[0m Trial 5 finished with value: 0.9707602339181286 and parameters: {'objective': 'CrossEntropy', 'colsample_bylevel': 0.07934140919990197, 'depth': 2, 'boosting_type': 'Plain', 'bootstrap_type': 'Bayesian', 'bagging_temperature': 5.031708294395551}. Best is trial 1 with value: 0.9824561403508771.\u001b[0m\n",
            "\u001b[32m[I 2023-03-01 09:28:58,571]\u001b[0m Trial 6 finished with value: 0.9649122807017544 and parameters: {'objective': 'Logloss', 'colsample_bylevel': 0.06293047462129792, 'depth': 4, 'boosting_type': 'Ordered', 'bootstrap_type': 'Bayesian', 'bagging_temperature': 9.440038560540621}. Best is trial 1 with value: 0.9824561403508771.\u001b[0m\n",
            "\u001b[32m[I 2023-03-01 09:29:08,036]\u001b[0m Trial 7 finished with value: 0.9766081871345029 and parameters: {'objective': 'CrossEntropy', 'colsample_bylevel': 0.0486819183690488, 'depth': 9, 'boosting_type': 'Ordered', 'bootstrap_type': 'MVS'}. Best is trial 1 with value: 0.9824561403508771.\u001b[0m\n",
            "\u001b[32m[I 2023-03-01 09:29:08,468]\u001b[0m Trial 8 finished with value: 0.935672514619883 and parameters: {'objective': 'CrossEntropy', 'colsample_bylevel': 0.026968767965470375, 'depth': 5, 'boosting_type': 'Plain', 'bootstrap_type': 'Bernoulli', 'subsample': 0.9375490650686049}. Best is trial 1 with value: 0.9824561403508771.\u001b[0m\n",
            "\u001b[32m[I 2023-03-01 09:29:12,818]\u001b[0m Trial 9 finished with value: 0.9532163742690059 and parameters: {'objective': 'Logloss', 'colsample_bylevel': 0.048302845612299174, 'depth': 1, 'boosting_type': 'Ordered', 'bootstrap_type': 'MVS'}. Best is trial 1 with value: 0.9824561403508771.\u001b[0m\n",
            "\u001b[32m[I 2023-03-01 09:29:34,463]\u001b[0m Trial 10 finished with value: 0.9766081871345029 and parameters: {'objective': 'Logloss', 'colsample_bylevel': 0.09649923715370087, 'depth': 8, 'boosting_type': 'Ordered', 'bootstrap_type': 'Bernoulli', 'subsample': 0.21102414318080936}. Best is trial 1 with value: 0.9824561403508771.\u001b[0m\n",
            "\u001b[32m[I 2023-03-01 09:29:35,400]\u001b[0m Trial 11 finished with value: 0.9824561403508771 and parameters: {'objective': 'CrossEntropy', 'colsample_bylevel': 0.09932983357136466, 'depth': 7, 'boosting_type': 'Plain', 'bootstrap_type': 'Bernoulli', 'subsample': 0.9706430365444066}. Best is trial 1 with value: 0.9824561403508771.\u001b[0m\n",
            "\u001b[32m[I 2023-03-01 09:29:47,601]\u001b[0m Trial 12 finished with value: 0.9824561403508771 and parameters: {'objective': 'CrossEntropy', 'colsample_bylevel': 0.07943355561547714, 'depth': 6, 'boosting_type': 'Ordered', 'bootstrap_type': 'Bernoulli', 'subsample': 0.7906128533269474}. Best is trial 1 with value: 0.9824561403508771.\u001b[0m\n",
            "\u001b[32m[I 2023-03-01 09:29:48,121]\u001b[0m Trial 13 finished with value: 0.9883040935672515 and parameters: {'objective': 'CrossEntropy', 'colsample_bylevel': 0.036424502948595824, 'depth': 3, 'boosting_type': 'Plain', 'bootstrap_type': 'Bernoulli', 'subsample': 0.6655460133997918}. Best is trial 13 with value: 0.9883040935672515.\u001b[0m\n",
            "\u001b[32m[I 2023-03-01 09:29:53,017]\u001b[0m Trial 14 finished with value: 0.9766081871345029 and parameters: {'objective': 'CrossEntropy', 'colsample_bylevel': 0.03913723065119563, 'depth': 4, 'boosting_type': 'Ordered', 'bootstrap_type': 'Bernoulli', 'subsample': 0.5953964244513569}. Best is trial 13 with value: 0.9883040935672515.\u001b[0m\n",
            "\u001b[32m[I 2023-03-01 09:29:53,476]\u001b[0m Trial 15 finished with value: 0.9707602339181286 and parameters: {'objective': 'Logloss', 'colsample_bylevel': 0.014541225340568571, 'depth': 6, 'boosting_type': 'Plain', 'bootstrap_type': 'Bernoulli', 'subsample': 0.6505545645540423}. Best is trial 13 with value: 0.9883040935672515.\u001b[0m\n",
            "\u001b[32m[I 2023-03-01 09:29:53,980]\u001b[0m Trial 16 finished with value: 0.9824561403508771 and parameters: {'objective': 'CrossEntropy', 'colsample_bylevel': 0.03365785295918432, 'depth': 2, 'boosting_type': 'Plain', 'bootstrap_type': 'Bernoulli', 'subsample': 0.42334494409621726}. Best is trial 13 with value: 0.9883040935672515.\u001b[0m\n",
            "\u001b[32m[I 2023-03-01 09:29:57,725]\u001b[0m Trial 17 finished with value: 0.9707602339181286 and parameters: {'objective': 'CrossEntropy', 'colsample_bylevel': 0.04347144418535381, 'depth': 8, 'boosting_type': 'Ordered', 'bootstrap_type': 'Bernoulli', 'subsample': 0.7568800005548046}. Best is trial 13 with value: 0.9883040935672515.\u001b[0m\n",
            "\u001b[32m[I 2023-03-01 09:30:02,258]\u001b[0m Trial 18 finished with value: 0.9941520467836257 and parameters: {'objective': 'Logloss', 'colsample_bylevel': 0.013267709284922921, 'depth': 3, 'boosting_type': 'Ordered', 'bootstrap_type': 'Bernoulli', 'subsample': 0.49149531583211153}. Best is trial 18 with value: 0.9941520467836257.\u001b[0m\n",
            "\u001b[32m[I 2023-03-01 09:30:02,708]\u001b[0m Trial 19 finished with value: 0.9590643274853801 and parameters: {'objective': 'Logloss', 'colsample_bylevel': 0.01079678197041758, 'depth': 3, 'boosting_type': 'Plain', 'bootstrap_type': 'MVS'}. Best is trial 18 with value: 0.9941520467836257.\u001b[0m\n",
            "\u001b[32m[I 2023-03-01 09:30:06,872]\u001b[0m Trial 20 finished with value: 0.935672514619883 and parameters: {'objective': 'Logloss', 'colsample_bylevel': 0.018943809906218204, 'depth': 1, 'boosting_type': 'Ordered', 'bootstrap_type': 'Bernoulli', 'subsample': 0.4583403088231301}. Best is trial 18 with value: 0.9941520467836257.\u001b[0m\n",
            "\u001b[32m[I 2023-03-01 09:30:11,004]\u001b[0m Trial 21 finished with value: 0.9415204678362573 and parameters: {'objective': 'Logloss', 'colsample_bylevel': 0.02698235423890697, 'depth': 5, 'boosting_type': 'Ordered', 'bootstrap_type': 'Bernoulli', 'subsample': 0.4849267081163696}. Best is trial 18 with value: 0.9941520467836257.\u001b[0m\n",
            "\u001b[32m[I 2023-03-01 09:30:15,033]\u001b[0m Trial 22 finished with value: 0.9707602339181286 and parameters: {'objective': 'Logloss', 'colsample_bylevel': 0.03691968844392199, 'depth': 3, 'boosting_type': 'Ordered', 'bootstrap_type': 'Bernoulli', 'subsample': 0.7531243701129593}. Best is trial 18 with value: 0.9941520467836257.\u001b[0m\n",
            "\u001b[32m[I 2023-03-01 09:30:19,299]\u001b[0m Trial 23 finished with value: 0.9766081871345029 and parameters: {'objective': 'Logloss', 'colsample_bylevel': 0.019710303362637155, 'depth': 12, 'boosting_type': 'Ordered', 'bootstrap_type': 'Bernoulli', 'subsample': 0.6012487336883698}. Best is trial 18 with value: 0.9941520467836257.\u001b[0m\n",
            "\u001b[32m[I 2023-03-01 09:30:25,573]\u001b[0m Trial 24 finished with value: 0.9707602339181286 and parameters: {'objective': 'CrossEntropy', 'colsample_bylevel': 0.031325377413879196, 'depth': 5, 'boosting_type': 'Ordered', 'bootstrap_type': 'Bernoulli', 'subsample': 0.36230130684296213}. Best is trial 18 with value: 0.9941520467836257.\u001b[0m\n",
            "\u001b[32m[I 2023-03-01 09:30:29,663]\u001b[0m Trial 25 finished with value: 0.9473684210526315 and parameters: {'objective': 'CrossEntropy', 'colsample_bylevel': 0.011524313527132585, 'depth': 3, 'boosting_type': 'Ordered', 'bootstrap_type': 'Bernoulli', 'subsample': 0.8467221409232697}. Best is trial 18 with value: 0.9941520467836257.\u001b[0m\n",
            "\u001b[32m[I 2023-03-01 09:30:30,149]\u001b[0m Trial 26 finished with value: 0.9590643274853801 and parameters: {'objective': 'Logloss', 'colsample_bylevel': 0.019265237178205528, 'depth': 7, 'boosting_type': 'Plain', 'bootstrap_type': 'Bernoulli', 'subsample': 0.6793227012459797}. Best is trial 18 with value: 0.9941520467836257.\u001b[0m\n",
            "\u001b[32m[I 2023-03-01 09:30:33,319]\u001b[0m Trial 27 finished with value: 0.9649122807017544 and parameters: {'objective': 'CrossEntropy', 'colsample_bylevel': 0.030311124671342695, 'depth': 4, 'boosting_type': 'Ordered', 'bootstrap_type': 'Bernoulli', 'subsample': 0.5336600377388029}. Best is trial 18 with value: 0.9941520467836257.\u001b[0m\n",
            "\u001b[32m[I 2023-03-01 09:30:33,902]\u001b[0m Trial 28 finished with value: 0.9766081871345029 and parameters: {'objective': 'Logloss', 'colsample_bylevel': 0.034470273130871504, 'depth': 6, 'boosting_type': 'Plain', 'bootstrap_type': 'Bayesian', 'bagging_temperature': 9.895287772332551}. Best is trial 18 with value: 0.9941520467836257.\u001b[0m\n",
            "\u001b[32m[I 2023-03-01 09:30:40,733]\u001b[0m Trial 29 finished with value: 0.9824561403508771 and parameters: {'objective': 'CrossEntropy', 'colsample_bylevel': 0.023493501626096168, 'depth': 5, 'boosting_type': 'Ordered', 'bootstrap_type': 'MVS'}. Best is trial 18 with value: 0.9941520467836257.\u001b[0m\n",
            "\u001b[32m[I 2023-03-01 09:30:45,462]\u001b[0m Trial 30 finished with value: 0.9824561403508771 and parameters: {'objective': 'CrossEntropy', 'colsample_bylevel': 0.04177804963100282, 'depth': 3, 'boosting_type': 'Ordered', 'bootstrap_type': 'Bayesian', 'bagging_temperature': 5.382697432180307}. Best is trial 18 with value: 0.9941520467836257.\u001b[0m\n",
            "\u001b[32m[I 2023-03-01 09:30:45,945]\u001b[0m Trial 31 finished with value: 0.9590643274853801 and parameters: {'objective': 'CrossEntropy', 'colsample_bylevel': 0.054579275328973505, 'depth': 2, 'boosting_type': 'Plain', 'bootstrap_type': 'Bernoulli', 'subsample': 0.8896130677053221}. Best is trial 18 with value: 0.9941520467836257.\u001b[0m\n",
            "\u001b[32m[I 2023-03-01 09:30:46,414]\u001b[0m Trial 32 finished with value: 0.9824561403508771 and parameters: {'objective': 'CrossEntropy', 'colsample_bylevel': 0.0714358929195478, 'depth': 1, 'boosting_type': 'Plain', 'bootstrap_type': 'Bernoulli', 'subsample': 0.9971995229143551}. Best is trial 18 with value: 0.9941520467836257.\u001b[0m\n",
            "\u001b[32m[I 2023-03-01 09:30:46,903]\u001b[0m Trial 33 finished with value: 0.9532163742690059 and parameters: {'objective': 'CrossEntropy', 'colsample_bylevel': 0.0902738037531919, 'depth': 2, 'boosting_type': 'Plain', 'bootstrap_type': 'Bernoulli', 'subsample': 0.8661159175304958}. Best is trial 18 with value: 0.9941520467836257.\u001b[0m\n",
            "\u001b[32m[I 2023-03-01 09:30:47,190]\u001b[0m Trial 34 finished with value: 0.9532163742690059 and parameters: {'objective': 'CrossEntropy', 'colsample_bylevel': 0.059473635524557436, 'depth': 4, 'boosting_type': 'Plain', 'bootstrap_type': 'Bernoulli', 'subsample': 0.9106951590308056}. Best is trial 18 with value: 0.9941520467836257.\u001b[0m\n",
            "\u001b[32m[I 2023-03-01 09:30:48,131]\u001b[0m Trial 35 finished with value: 0.9649122807017544 and parameters: {'objective': 'CrossEntropy', 'colsample_bylevel': 0.06760576038570434, 'depth': 2, 'boosting_type': 'Plain', 'bootstrap_type': 'Bayesian', 'bagging_temperature': 7.1809143568561336}. Best is trial 18 with value: 0.9941520467836257.\u001b[0m\n",
            "\u001b[32m[I 2023-03-01 09:30:48,830]\u001b[0m Trial 36 finished with value: 0.9590643274853801 and parameters: {'objective': 'CrossEntropy', 'colsample_bylevel': 0.05447754048480944, 'depth': 3, 'boosting_type': 'Plain', 'bootstrap_type': 'Bernoulli', 'subsample': 0.9974595935128294}. Best is trial 18 with value: 0.9941520467836257.\u001b[0m\n",
            "\u001b[32m[I 2023-03-01 09:30:50,595]\u001b[0m Trial 37 finished with value: 0.9707602339181286 and parameters: {'objective': 'CrossEntropy', 'colsample_bylevel': 0.044707690039793, 'depth': 10, 'boosting_type': 'Plain', 'bootstrap_type': 'MVS'}. Best is trial 18 with value: 0.9941520467836257.\u001b[0m\n",
            "\u001b[32m[I 2023-03-01 09:30:51,059]\u001b[0m Trial 38 finished with value: 0.9415204678362573 and parameters: {'objective': 'CrossEntropy', 'colsample_bylevel': 0.051114087783167034, 'depth': 1, 'boosting_type': 'Plain', 'bootstrap_type': 'Bayesian', 'bagging_temperature': 3.1142518629630844}. Best is trial 18 with value: 0.9941520467836257.\u001b[0m\n",
            "\u001b[32m[I 2023-03-01 09:30:54,367]\u001b[0m Trial 39 finished with value: 0.9473684210526315 and parameters: {'objective': 'Logloss', 'colsample_bylevel': 0.0393073449531072, 'depth': 2, 'boosting_type': 'Ordered', 'bootstrap_type': 'Bernoulli', 'subsample': 0.8195886184973517}. Best is trial 18 with value: 0.9941520467836257.\u001b[0m\n",
            "\u001b[32m[I 2023-03-01 09:30:54,868]\u001b[0m Trial 40 finished with value: 0.9707602339181286 and parameters: {'objective': 'CrossEntropy', 'colsample_bylevel': 0.05978102881133446, 'depth': 4, 'boosting_type': 'Plain', 'bootstrap_type': 'Bernoulli', 'subsample': 0.7098131689062633}. Best is trial 18 with value: 0.9941520467836257.\u001b[0m\n",
            "\u001b[32m[I 2023-03-01 09:30:56,922]\u001b[0m Trial 41 finished with value: 0.9883040935672515 and parameters: {'objective': 'CrossEntropy', 'colsample_bylevel': 0.09789148724342578, 'depth': 7, 'boosting_type': 'Plain', 'bootstrap_type': 'Bernoulli', 'subsample': 0.936799211866628}. Best is trial 18 with value: 0.9941520467836257.\u001b[0m\n",
            "\u001b[32m[I 2023-03-01 09:30:58,243]\u001b[0m Trial 42 finished with value: 0.935672514619883 and parameters: {'objective': 'CrossEntropy', 'colsample_bylevel': 0.09013948834372675, 'depth': 8, 'boosting_type': 'Plain', 'bootstrap_type': 'Bernoulli', 'subsample': 0.889613394877191}. Best is trial 18 with value: 0.9941520467836257.\u001b[0m\n",
            "\u001b[32m[I 2023-03-01 09:31:00,059]\u001b[0m Trial 43 finished with value: 0.9649122807017544 and parameters: {'objective': 'CrossEntropy', 'colsample_bylevel': 0.08341370648167952, 'depth': 9, 'boosting_type': 'Plain', 'bootstrap_type': 'Bernoulli', 'subsample': 0.8132778920824277}. Best is trial 18 with value: 0.9941520467836257.\u001b[0m\n",
            "\u001b[32m[I 2023-03-01 09:31:01,000]\u001b[0m Trial 44 finished with value: 0.9766081871345029 and parameters: {'objective': 'CrossEntropy', 'colsample_bylevel': 0.0726177309171315, 'depth': 7, 'boosting_type': 'Plain', 'bootstrap_type': 'Bernoulli', 'subsample': 0.9237662105974622}. Best is trial 18 with value: 0.9941520467836257.\u001b[0m\n",
            "\u001b[32m[I 2023-03-01 09:31:04,763]\u001b[0m Trial 45 finished with value: 0.9590643274853801 and parameters: {'objective': 'CrossEntropy', 'colsample_bylevel': 0.09294764025714558, 'depth': 9, 'boosting_type': 'Plain', 'bootstrap_type': 'MVS'}. Best is trial 18 with value: 0.9941520467836257.\u001b[0m\n",
            "\u001b[32m[I 2023-03-01 09:31:11,174]\u001b[0m Trial 46 finished with value: 0.9707602339181286 and parameters: {'objective': 'CrossEntropy', 'colsample_bylevel': 0.09819170070547437, 'depth': 6, 'boosting_type': 'Ordered', 'bootstrap_type': 'Bernoulli', 'subsample': 0.9313979064824804}. Best is trial 18 with value: 0.9941520467836257.\u001b[0m\n",
            "\u001b[32m[I 2023-03-01 09:31:12,513]\u001b[0m Trial 47 finished with value: 0.9649122807017544 and parameters: {'objective': 'Logloss', 'colsample_bylevel': 0.0856904909941964, 'depth': 8, 'boosting_type': 'Plain', 'bootstrap_type': 'Bernoulli', 'subsample': 0.942459352726455}. Best is trial 18 with value: 0.9941520467836257.\u001b[0m\n",
            "\u001b[32m[I 2023-03-01 09:31:51,209]\u001b[0m Trial 48 finished with value: 0.9766081871345029 and parameters: {'objective': 'CrossEntropy', 'colsample_bylevel': 0.09565804341897234, 'depth': 10, 'boosting_type': 'Ordered', 'bootstrap_type': 'Bernoulli', 'subsample': 0.8338700874328911}. Best is trial 18 with value: 0.9941520467836257.\u001b[0m\n",
            "\u001b[32m[I 2023-03-01 09:31:52,176]\u001b[0m Trial 49 finished with value: 0.9766081871345029 and parameters: {'objective': 'CrossEntropy', 'colsample_bylevel': 0.09992123905387297, 'depth': 5, 'boosting_type': 'Plain', 'bootstrap_type': 'Bernoulli', 'subsample': 0.9577219695530096}. Best is trial 18 with value: 0.9941520467836257.\u001b[0m\n",
            "\u001b[32m[I 2023-03-01 09:31:57,200]\u001b[0m Trial 50 finished with value: 0.9824561403508771 and parameters: {'objective': 'Logloss', 'colsample_bylevel': 0.07771358914819766, 'depth': 3, 'boosting_type': 'Ordered', 'bootstrap_type': 'Bayesian', 'bagging_temperature': 0.5137885113694391}. Best is trial 18 with value: 0.9941520467836257.\u001b[0m\n",
            "\u001b[32m[I 2023-03-01 09:31:58,510]\u001b[0m Trial 51 finished with value: 0.9590643274853801 and parameters: {'objective': 'CrossEntropy', 'colsample_bylevel': 0.0951282544660138, 'depth': 7, 'boosting_type': 'Plain', 'bootstrap_type': 'Bernoulli', 'subsample': 0.9898091123653725}. Best is trial 18 with value: 0.9941520467836257.\u001b[0m\n",
            "\u001b[32m[I 2023-03-01 09:31:59,430]\u001b[0m Trial 52 finished with value: 0.9590643274853801 and parameters: {'objective': 'CrossEntropy', 'colsample_bylevel': 0.09949166432191282, 'depth': 7, 'boosting_type': 'Plain', 'bootstrap_type': 'Bernoulli', 'subsample': 0.8771069329084102}. Best is trial 18 with value: 0.9941520467836257.\u001b[0m\n",
            "\u001b[32m[I 2023-03-01 09:31:59,954]\u001b[0m Trial 53 finished with value: 0.9649122807017544 and parameters: {'objective': 'CrossEntropy', 'colsample_bylevel': 0.09269365846740596, 'depth': 6, 'boosting_type': 'Plain', 'bootstrap_type': 'Bernoulli', 'subsample': 0.9506375471136256}. Best is trial 18 with value: 0.9941520467836257.\u001b[0m\n",
            "\u001b[32m[I 2023-03-01 09:32:01,651]\u001b[0m Trial 54 finished with value: 0.9707602339181286 and parameters: {'objective': 'CrossEntropy', 'colsample_bylevel': 0.08545138071561312, 'depth': 7, 'boosting_type': 'Plain', 'bootstrap_type': 'Bernoulli', 'subsample': 0.7766373410567378}. Best is trial 18 with value: 0.9941520467836257.\u001b[0m\n",
            "\u001b[32m[I 2023-03-01 09:32:04,453]\u001b[0m Trial 55 finished with value: 0.9239766081871345 and parameters: {'objective': 'Logloss', 'colsample_bylevel': 0.04843908670747377, 'depth': 8, 'boosting_type': 'Ordered', 'bootstrap_type': 'Bernoulli', 'subsample': 0.8568156841983894}. Best is trial 18 with value: 0.9941520467836257.\u001b[0m\n",
            "\u001b[32m[I 2023-03-01 09:32:04,963]\u001b[0m Trial 56 finished with value: 0.9707602339181286 and parameters: {'objective': 'CrossEntropy', 'colsample_bylevel': 0.09640313328967104, 'depth': 4, 'boosting_type': 'Plain', 'bootstrap_type': 'MVS'}. Best is trial 18 with value: 0.9941520467836257.\u001b[0m\n",
            "\u001b[32m[I 2023-03-01 09:32:10,355]\u001b[0m Trial 57 finished with value: 0.9649122807017544 and parameters: {'objective': 'CrossEntropy', 'colsample_bylevel': 0.02417754923942802, 'depth': 5, 'boosting_type': 'Ordered', 'bootstrap_type': 'Bernoulli', 'subsample': 0.9146190474009551}. Best is trial 18 with value: 0.9941520467836257.\u001b[0m\n",
            "\u001b[32m[I 2023-03-01 09:32:10,795]\u001b[0m Trial 58 finished with value: 0.9532163742690059 and parameters: {'objective': 'Logloss', 'colsample_bylevel': 0.027289510853223693, 'depth': 1, 'boosting_type': 'Plain', 'bootstrap_type': 'Bernoulli', 'subsample': 0.7925919733496245}. Best is trial 18 with value: 0.9941520467836257.\u001b[0m\n",
            "\u001b[32m[I 2023-03-01 09:32:22,638]\u001b[0m Trial 59 finished with value: 0.9824561403508771 and parameters: {'objective': 'CrossEntropy', 'colsample_bylevel': 0.08849605410060156, 'depth': 6, 'boosting_type': 'Ordered', 'bootstrap_type': 'Bernoulli', 'subsample': 0.7260737721531345}. Best is trial 18 with value: 0.9941520467836257.\u001b[0m\n",
            "\u001b[32m[I 2023-03-01 09:32:23,104]\u001b[0m Trial 60 finished with value: 0.9239766081871345 and parameters: {'objective': 'CrossEntropy', 'colsample_bylevel': 0.013788464415187109, 'depth': 9, 'boosting_type': 'Plain', 'bootstrap_type': 'Bernoulli', 'subsample': 0.6488633032695368}. Best is trial 18 with value: 0.9941520467836257.\u001b[0m\n",
            "\u001b[32m[I 2023-03-01 09:32:29,441]\u001b[0m Trial 61 finished with value: 0.9532163742690059 and parameters: {'objective': 'CrossEntropy', 'colsample_bylevel': 0.0936959495257451, 'depth': 6, 'boosting_type': 'Ordered', 'bootstrap_type': 'Bernoulli', 'subsample': 0.9609812005867633}. Best is trial 18 with value: 0.9941520467836257.\u001b[0m\n",
            "\u001b[32m[I 2023-03-01 09:32:35,156]\u001b[0m Trial 62 finished with value: 0.9824561403508771 and parameters: {'objective': 'CrossEntropy', 'colsample_bylevel': 0.08126704695921905, 'depth': 5, 'boosting_type': 'Ordered', 'bootstrap_type': 'Bernoulli', 'subsample': 0.7907002672343432}. Best is trial 18 with value: 0.9941520467836257.\u001b[0m\n",
            "\u001b[32m[I 2023-03-01 09:32:38,986]\u001b[0m Trial 63 finished with value: 0.9707602339181286 and parameters: {'objective': 'CrossEntropy', 'colsample_bylevel': 0.09075916064429876, 'depth': 2, 'boosting_type': 'Ordered', 'bootstrap_type': 'Bernoulli', 'subsample': 0.8889026197903613}. Best is trial 18 with value: 0.9941520467836257.\u001b[0m\n",
            "\u001b[32m[I 2023-03-01 09:32:41,266]\u001b[0m Trial 64 finished with value: 0.9590643274853801 and parameters: {'objective': 'CrossEntropy', 'colsample_bylevel': 0.09659839660884312, 'depth': 4, 'boosting_type': 'Ordered', 'bootstrap_type': 'Bernoulli', 'subsample': 0.7553957196033442}. Best is trial 18 with value: 0.9941520467836257.\u001b[0m\n",
            "\u001b[32m[I 2023-03-01 09:32:48,161]\u001b[0m Trial 65 finished with value: 0.9707602339181286 and parameters: {'objective': 'Logloss', 'colsample_bylevel': 0.07998953607941604, 'depth': 7, 'boosting_type': 'Ordered', 'bootstrap_type': 'Bernoulli', 'subsample': 0.8443551743354556}. Best is trial 18 with value: 0.9941520467836257.\u001b[0m\n",
            "\u001b[32m[I 2023-03-01 09:32:53,066]\u001b[0m Trial 66 finished with value: 0.9766081871345029 and parameters: {'objective': 'CrossEntropy', 'colsample_bylevel': 0.08637406842272008, 'depth': 3, 'boosting_type': 'Ordered', 'bootstrap_type': 'Bernoulli', 'subsample': 0.9707988342004983}. Best is trial 18 with value: 0.9941520467836257.\u001b[0m\n",
            "\u001b[32m[I 2023-03-01 09:33:06,343]\u001b[0m Trial 67 finished with value: 0.9766081871345029 and parameters: {'objective': 'CrossEntropy', 'colsample_bylevel': 0.09797292809436829, 'depth': 11, 'boosting_type': 'Plain', 'bootstrap_type': 'MVS'}. Best is trial 18 with value: 0.9941520467836257.\u001b[0m\n",
            "\u001b[32m[I 2023-03-01 09:33:19,761]\u001b[0m Trial 68 finished with value: 0.9883040935672515 and parameters: {'objective': 'CrossEntropy', 'colsample_bylevel': 0.09259804006322796, 'depth': 6, 'boosting_type': 'Ordered', 'bootstrap_type': 'Bayesian', 'bagging_temperature': 6.899998420614651}. Best is trial 18 with value: 0.9941520467836257.\u001b[0m\n",
            "\u001b[32m[I 2023-03-01 09:33:26,308]\u001b[0m Trial 69 finished with value: 0.9298245614035088 and parameters: {'objective': 'Logloss', 'colsample_bylevel': 0.09325515940622779, 'depth': 6, 'boosting_type': 'Ordered', 'bootstrap_type': 'Bayesian', 'bagging_temperature': 7.6057309097812835}. Best is trial 18 with value: 0.9941520467836257.\u001b[0m\n",
            "\u001b[32m[I 2023-03-01 09:33:26,985]\u001b[0m Trial 70 finished with value: 0.9707602339181286 and parameters: {'objective': 'CrossEntropy', 'colsample_bylevel': 0.037599321544515715, 'depth': 8, 'boosting_type': 'Plain', 'bootstrap_type': 'Bayesian', 'bagging_temperature': 6.703341285651193}. Best is trial 18 with value: 0.9941520467836257.\u001b[0m\n",
            "\u001b[32m[I 2023-03-01 09:33:35,695]\u001b[0m Trial 71 finished with value: 0.9766081871345029 and parameters: {'objective': 'CrossEntropy', 'colsample_bylevel': 0.09993491850989583, 'depth': 5, 'boosting_type': 'Ordered', 'bootstrap_type': 'Bayesian', 'bagging_temperature': 4.439454051731157}. Best is trial 18 with value: 0.9941520467836257.\u001b[0m\n",
            "\u001b[32m[I 2023-03-01 09:33:48,869]\u001b[0m Trial 72 finished with value: 0.9707602339181286 and parameters: {'objective': 'CrossEntropy', 'colsample_bylevel': 0.09598709088957433, 'depth': 7, 'boosting_type': 'Ordered', 'bootstrap_type': 'Bayesian', 'bagging_temperature': 8.387081965016977}. Best is trial 18 with value: 0.9941520467836257.\u001b[0m\n",
            "\u001b[32m[I 2023-03-01 09:34:01,795]\u001b[0m Trial 73 finished with value: 0.9766081871345029 and parameters: {'objective': 'CrossEntropy', 'colsample_bylevel': 0.08851913520647739, 'depth': 6, 'boosting_type': 'Ordered', 'bootstrap_type': 'Bayesian', 'bagging_temperature': 6.239314970244592}. Best is trial 18 with value: 0.9941520467836257.\u001b[0m\n",
            "\u001b[32m[I 2023-03-01 09:34:06,769]\u001b[0m Trial 74 finished with value: 0.9649122807017544 and parameters: {'objective': 'CrossEntropy', 'colsample_bylevel': 0.09097939488468107, 'depth': 3, 'boosting_type': 'Ordered', 'bootstrap_type': 'Bernoulli', 'subsample': 0.9208479620937813}. Best is trial 18 with value: 0.9941520467836257.\u001b[0m\n",
            "\u001b[32m[I 2023-03-01 09:34:11,010]\u001b[0m Trial 75 finished with value: 0.9707602339181286 and parameters: {'objective': 'CrossEntropy', 'colsample_bylevel': 0.02074895834714209, 'depth': 7, 'boosting_type': 'Ordered', 'bootstrap_type': 'Bernoulli', 'subsample': 0.5677559566354592}. Best is trial 18 with value: 0.9941520467836257.\u001b[0m\n",
            "\u001b[32m[I 2023-03-01 09:34:11,295]\u001b[0m Trial 76 finished with value: 0.9649122807017544 and parameters: {'objective': 'CrossEntropy', 'colsample_bylevel': 0.0655782751467859, 'depth': 2, 'boosting_type': 'Plain', 'bootstrap_type': 'Bernoulli', 'subsample': 0.958377702708745}. Best is trial 18 with value: 0.9941520467836257.\u001b[0m\n",
            "\u001b[32m[I 2023-03-01 09:34:11,675]\u001b[0m Trial 77 finished with value: 0.9590643274853801 and parameters: {'objective': 'CrossEntropy', 'colsample_bylevel': 0.07747428082416222, 'depth': 6, 'boosting_type': 'Plain', 'bootstrap_type': 'Bernoulli', 'subsample': 0.8686812477938954}. Best is trial 18 with value: 0.9941520467836257.\u001b[0m\n",
            "\u001b[32m[I 2023-03-01 09:34:16,646]\u001b[0m Trial 78 finished with value: 0.9707602339181286 and parameters: {'objective': 'Logloss', 'colsample_bylevel': 0.01731758408001935, 'depth': 4, 'boosting_type': 'Ordered', 'bootstrap_type': 'Bayesian', 'bagging_temperature': 8.482060990057466}. Best is trial 18 with value: 0.9941520467836257.\u001b[0m\n",
            "\u001b[32m[I 2023-03-01 09:34:18,421]\u001b[0m Trial 79 finished with value: 0.9707602339181286 and parameters: {'objective': 'CrossEntropy', 'colsample_bylevel': 0.04470234760259516, 'depth': 8, 'boosting_type': 'Plain', 'bootstrap_type': 'Bernoulli', 'subsample': 0.9000762137467253}. Best is trial 18 with value: 0.9941520467836257.\u001b[0m\n",
            "\u001b[32m[I 2023-03-01 09:34:23,558]\u001b[0m Trial 80 finished with value: 0.9707602339181286 and parameters: {'objective': 'CrossEntropy', 'colsample_bylevel': 0.09426468896755359, 'depth': 5, 'boosting_type': 'Ordered', 'bootstrap_type': 'MVS'}. Best is trial 18 with value: 0.9941520467836257.\u001b[0m\n",
            "\u001b[32m[I 2023-03-01 09:34:24,028]\u001b[0m Trial 81 finished with value: 0.9707602339181286 and parameters: {'objective': 'CrossEntropy', 'colsample_bylevel': 0.03022380387874546, 'depth': 2, 'boosting_type': 'Plain', 'bootstrap_type': 'Bernoulli', 'subsample': 0.4355578504124046}. Best is trial 18 with value: 0.9941520467836257.\u001b[0m\n",
            "\u001b[32m[I 2023-03-01 09:34:24,617]\u001b[0m Trial 82 finished with value: 0.9941520467836257 and parameters: {'objective': 'CrossEntropy', 'colsample_bylevel': 0.057257895847641654, 'depth': 3, 'boosting_type': 'Plain', 'bootstrap_type': 'Bernoulli', 'subsample': 0.4794799118088934}. Best is trial 18 with value: 0.9941520467836257.\u001b[0m\n",
            "\u001b[32m[I 2023-03-01 09:34:24,991]\u001b[0m Trial 83 finished with value: 0.9532163742690059 and parameters: {'objective': 'CrossEntropy', 'colsample_bylevel': 0.050970457555669736, 'depth': 3, 'boosting_type': 'Plain', 'bootstrap_type': 'Bernoulli', 'subsample': 0.5364863331087554}. Best is trial 18 with value: 0.9941520467836257.\u001b[0m\n",
            "\u001b[32m[I 2023-03-01 09:34:25,521]\u001b[0m Trial 84 finished with value: 0.9766081871345029 and parameters: {'objective': 'CrossEntropy', 'colsample_bylevel': 0.05836366263039933, 'depth': 2, 'boosting_type': 'Plain', 'bootstrap_type': 'Bernoulli', 'subsample': 0.5030781351432612}. Best is trial 18 with value: 0.9941520467836257.\u001b[0m\n",
            "\u001b[32m[I 2023-03-01 09:34:26,090]\u001b[0m Trial 85 finished with value: 0.9649122807017544 and parameters: {'objective': 'CrossEntropy', 'colsample_bylevel': 0.056897387841616257, 'depth': 3, 'boosting_type': 'Plain', 'bootstrap_type': 'Bernoulli', 'subsample': 0.39642814229418577}. Best is trial 18 with value: 0.9941520467836257.\u001b[0m\n",
            "\u001b[32m[I 2023-03-01 09:34:26,750]\u001b[0m Trial 86 finished with value: 0.9649122807017544 and parameters: {'objective': 'CrossEntropy', 'colsample_bylevel': 0.06350931917061457, 'depth': 4, 'boosting_type': 'Plain', 'bootstrap_type': 'Bernoulli', 'subsample': 0.613413080731368}. Best is trial 18 with value: 0.9941520467836257.\u001b[0m\n",
            "\u001b[32m[I 2023-03-01 09:34:27,234]\u001b[0m Trial 87 finished with value: 0.9766081871345029 and parameters: {'objective': 'Logloss', 'colsample_bylevel': 0.09772204263562412, 'depth': 1, 'boosting_type': 'Plain', 'bootstrap_type': 'Bernoulli', 'subsample': 0.9942744752007519}. Best is trial 18 with value: 0.9941520467836257.\u001b[0m\n",
            "\u001b[32m[I 2023-03-01 09:34:30,474]\u001b[0m Trial 88 finished with value: 0.9766081871345029 and parameters: {'objective': 'CrossEntropy', 'colsample_bylevel': 0.0919112523548345, 'depth': 7, 'boosting_type': 'Plain', 'bootstrap_type': 'Bernoulli', 'subsample': 0.47505358448007134}. Best is trial 18 with value: 0.9941520467836257.\u001b[0m\n",
            "\u001b[32m[I 2023-03-01 09:34:35,429]\u001b[0m Trial 89 finished with value: 0.9766081871345029 and parameters: {'objective': 'CrossEntropy', 'colsample_bylevel': 0.09470243280800317, 'depth': 6, 'boosting_type': 'Ordered', 'bootstrap_type': 'Bernoulli', 'subsample': 0.8237721075410185}. Best is trial 18 with value: 0.9941520467836257.\u001b[0m\n",
            "\u001b[32m[I 2023-03-01 09:34:36,037]\u001b[0m Trial 90 finished with value: 0.9532163742690059 and parameters: {'objective': 'CrossEntropy', 'colsample_bylevel': 0.06066871612422346, 'depth': 3, 'boosting_type': 'Plain', 'bootstrap_type': 'Bayesian', 'bagging_temperature': 6.1160274235858045}. Best is trial 18 with value: 0.9941520467836257.\u001b[0m\n",
            "\u001b[32m[I 2023-03-01 09:34:36,528]\u001b[0m Trial 91 finished with value: 0.9707602339181286 and parameters: {'objective': 'CrossEntropy', 'colsample_bylevel': 0.03217255655657302, 'depth': 2, 'boosting_type': 'Plain', 'bootstrap_type': 'Bernoulli', 'subsample': 0.514362047887241}. Best is trial 18 with value: 0.9941520467836257.\u001b[0m\n",
            "\u001b[32m[I 2023-03-01 09:34:36,978]\u001b[0m Trial 92 finished with value: 0.9824561403508771 and parameters: {'objective': 'CrossEntropy', 'colsample_bylevel': 0.04054608937163579, 'depth': 1, 'boosting_type': 'Plain', 'bootstrap_type': 'Bernoulli', 'subsample': 0.4491502279245962}. Best is trial 18 with value: 0.9941520467836257.\u001b[0m\n",
            "\u001b[32m[I 2023-03-01 09:34:37,496]\u001b[0m Trial 93 finished with value: 0.9649122807017544 and parameters: {'objective': 'CrossEntropy', 'colsample_bylevel': 0.05276493486549269, 'depth': 2, 'boosting_type': 'Plain', 'bootstrap_type': 'Bernoulli', 'subsample': 0.9176988993162898}. Best is trial 18 with value: 0.9941520467836257.\u001b[0m\n",
            "\u001b[32m[I 2023-03-01 09:34:38,020]\u001b[0m Trial 94 finished with value: 0.9649122807017544 and parameters: {'objective': 'CrossEntropy', 'colsample_bylevel': 0.04635888263603738, 'depth': 2, 'boosting_type': 'Plain', 'bootstrap_type': 'Bernoulli', 'subsample': 0.940938470670824}. Best is trial 18 with value: 0.9941520467836257.\u001b[0m\n",
            "\u001b[32m[I 2023-03-01 09:34:38,512]\u001b[0m Trial 95 finished with value: 0.9824561403508771 and parameters: {'objective': 'CrossEntropy', 'colsample_bylevel': 0.056003606601295906, 'depth': 3, 'boosting_type': 'Plain', 'bootstrap_type': 'Bernoulli', 'subsample': 0.5649534775766752}. Best is trial 18 with value: 0.9941520467836257.\u001b[0m\n",
            "\u001b[32m[I 2023-03-01 09:34:44,106]\u001b[0m Trial 96 finished with value: 0.9415204678362573 and parameters: {'objective': 'Logloss', 'colsample_bylevel': 0.010267002498684188, 'depth': 7, 'boosting_type': 'Ordered', 'bootstrap_type': 'Bernoulli', 'subsample': 0.979573286154688}. Best is trial 18 with value: 0.9941520467836257.\u001b[0m\n",
            "\u001b[32m[I 2023-03-01 09:34:44,753]\u001b[0m Trial 97 finished with value: 0.9707602339181286 and parameters: {'objective': 'CrossEntropy', 'colsample_bylevel': 0.03487346469319294, 'depth': 4, 'boosting_type': 'Plain', 'bootstrap_type': 'Bernoulli', 'subsample': 0.8733987235333797}. Best is trial 18 with value: 0.9941520467836257.\u001b[0m\n",
            "\u001b[32m[I 2023-03-01 09:34:53,389]\u001b[0m Trial 98 finished with value: 0.9649122807017544 and parameters: {'objective': 'CrossEntropy', 'colsample_bylevel': 0.09857195236422779, 'depth': 6, 'boosting_type': 'Ordered', 'bootstrap_type': 'MVS'}. Best is trial 18 with value: 0.9941520467836257.\u001b[0m\n",
            "\u001b[32m[I 2023-03-01 09:34:53,856]\u001b[0m Trial 99 finished with value: 0.9649122807017544 and parameters: {'objective': 'CrossEntropy', 'colsample_bylevel': 0.02192167596800934, 'depth': 8, 'boosting_type': 'Plain', 'bootstrap_type': 'Bernoulli', 'subsample': 0.9339972144633094}. Best is trial 18 with value: 0.9941520467836257.\u001b[0m\n"
          ]
        },
        {
          "output_type": "stream",
          "name": "stdout",
          "text": [
            "Number of finished trials: 100\n",
            "Best trial:\n",
            "  Value: 0.9941520467836257\n",
            "  Params: \n",
            "    objective: Logloss\n",
            "    colsample_bylevel: 0.013267709284922921\n",
            "    depth: 3\n",
            "    boosting_type: Ordered\n",
            "    bootstrap_type: Bernoulli\n",
            "    subsample: 0.49149531583211153\n"
          ]
        }
      ]
    }
  ]
}