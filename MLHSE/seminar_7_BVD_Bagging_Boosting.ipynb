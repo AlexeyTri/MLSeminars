{
  "nbformat": 4,
  "nbformat_minor": 0,
  "metadata": {
    "colab": {
      "provenance": [],
      "authorship_tag": "ABX9TyM/p7g4RjtUeBw5IbY4ZfTr",
      "include_colab_link": true
    },
    "kernelspec": {
      "name": "python3",
      "display_name": "Python 3"
    },
    "language_info": {
      "name": "python"
    }
  },
  "cells": [
    {
      "cell_type": "markdown",
      "metadata": {
        "id": "view-in-github",
        "colab_type": "text"
      },
      "source": [
        "<a href=\"https://colab.research.google.com/github/AlexeyTri/MLSeminars/blob/main/MLHSE/seminar_7_BVD_Bagging_Boosting.ipynb\" target=\"_parent\"><img src=\"https://colab.research.google.com/assets/colab-badge.svg\" alt=\"Open In Colab\"/></a>"
      ]
    },
    {
      "cell_type": "markdown",
      "source": [
        "**Семинар 7. BVD-decomposition, Bagging, Boosting**\n",
        "\n",
        "# План:\n",
        "Разложение ошибки\n",
        "\n",
        "Бэггинг и бустинг\n",
        "\n",
        "    задачи\n",
        "    код\n",
        "\n",
        "Feature Importance"
      ],
      "metadata": {
        "id": "vnJKg6SUlNcg"
      }
    },
    {
      "cell_type": "markdown",
      "source": [
        "Синтетический пример"
      ],
      "metadata": {
        "id": "YGP2tIifp-vf"
      }
    },
    {
      "cell_type": "code",
      "source": [
        "import sklearn"
      ],
      "metadata": {
        "id": "5_u0jUDXqdtn"
      },
      "execution_count": 1,
      "outputs": []
    },
    {
      "cell_type": "code",
      "execution_count": 2,
      "metadata": {
        "id": "ShbxYIrvk0Ju"
      },
      "outputs": [],
      "source": [
        "import numpy as np\n",
        "import matplotlib.pyplot as plt\n",
        "import pandas as pd\n",
        "from sklearn.linear_model import LinearRegression "
      ]
    },
    {
      "cell_type": "code",
      "source": [
        "N = 10\n",
        "X = np.linspace(-5, 5, N).reshape(-1, 1)\n",
        "y = np.sin(X) + np.random.normal(0, 0.2, size=N).reshape(-1,1)"
      ],
      "metadata": {
        "id": "8X1w7SgYqwY1"
      },
      "execution_count": 3,
      "outputs": []
    },
    {
      "cell_type": "code",
      "source": [
        "too_sample_model_prediction = np.mean(y) * np.ones_like(y)"
      ],
      "metadata": {
        "id": "vKGfl2K2r_bo"
      },
      "execution_count": 4,
      "outputs": []
    },
    {
      "cell_type": "code",
      "source": [
        "X_ok = np.hstack([X, X**2, X**3])\n",
        "ok_model = LinearRegression()\n",
        "ok_model.fit(X_ok, y)\n",
        "ok_model_predict = ok_model.predict(X_ok)"
      ],
      "metadata": {
        "id": "FUNJ9hSNtQ86"
      },
      "execution_count": 5,
      "outputs": []
    },
    {
      "cell_type": "code",
      "source": [
        "X_hard = np.hstack([X,X**2, X**3, X**4, X**5, X**6, X**7, X**8, X**9,X**10])\n",
        "hard_model = LinearRegression()\n",
        "hard_model.fit(X_hard, y)\n",
        "hard_model_predict = hard_model.predict(X_hard)"
      ],
      "metadata": {
        "id": "SQPPmLEKuTIr"
      },
      "execution_count": 6,
      "outputs": []
    },
    {
      "cell_type": "code",
      "source": [
        "plt.scatter(X, y)\n",
        "plt.plot(X, too_sample_model_prediction, label='очень хорошая модель')\n",
        "plt.plot(X, ok_model_predict, label='очень хорошая модель')\n",
        "plt.plot(X, hard_model_predict, label='очень переобученная модель')\n",
        "plt.grid()\n",
        "plt.show()"
      ],
      "metadata": {
        "colab": {
          "base_uri": "https://localhost:8080/",
          "height": 265
        },
        "id": "RWY2wQTru4IC",
        "outputId": "1b88911b-10b5-4520-a564-6cae7e006df2"
      },
      "execution_count": 7,
      "outputs": [
        {
          "output_type": "display_data",
          "data": {
            "text/plain": [
              "<Figure size 432x288 with 1 Axes>"
            ],
            "image/png": "[encoded data removed]"
          },
          "metadata": {
            "needs_background": "light"
          }
        }
      ]
    },
    {
      "cell_type": "code",
      "source": [
        "!pip install --upgrade mlxtend"
      ],
      "metadata": {
        "colab": {
          "base_uri": "https://localhost:8080/"
        },
        "id": "Wan2A0FNL2R5",
        "outputId": "75eadcaf-959e-4537-adde-a38c14705409"
      },
      "execution_count": 8,
      "outputs": [
        {
          "output_type": "stream",
          "name": "stdout",
          "text": [
            "Looking in indexes: https://pypi.org/simple, https://us-python.pkg.dev/colab-wheels/public/simple/\n",
            "Requirement already satisfied: mlxtend in /usr/local/lib/python3.8/dist-packages (0.14.0)\n",
            "Collecting mlxtend\n",
            "  Downloading mlxtend-0.21.0-py2.py3-none-any.whl (1.3 MB)\n",
            "\u001b[2K     \u001b[90m━━━━━━━━━━━━━━━━━━━━━━━━━━━━━━━━━━━━━━━━\u001b[0m \u001b[32m1.3/1.3 MB\u001b[0m \u001b[31m16.2 MB/s\u001b[0m eta \u001b[36m0:00:00\u001b[0m\n",
            "\u001b[?25hRequirement already satisfied: scipy>=1.2.1 in /usr/local/lib/python3.8/dist-packages (from mlxtend) (1.7.3)\n",
            "Requirement already satisfied: joblib>=0.13.2 in /usr/local/lib/python3.8/dist-packages (from mlxtend) (1.2.0)\n",
            "Requirement already satisfied: setuptools in /usr/local/lib/python3.8/dist-packages (from mlxtend) (57.4.0)\n",
            "Requirement already satisfied: numpy>=1.16.2 in /usr/local/lib/python3.8/dist-packages (from mlxtend) (1.21.6)\n",
            "Requirement already satisfied: matplotlib>=3.0.0 in /usr/local/lib/python3.8/dist-packages (from mlxtend) (3.2.2)\n",
            "Requirement already satisfied: scikit-learn>=1.0.2 in /usr/local/lib/python3.8/dist-packages (from mlxtend) (1.0.2)\n",
            "Requirement already satisfied: pandas>=0.24.2 in /usr/local/lib/python3.8/dist-packages (from mlxtend) (1.3.5)\n",
            "Requirement already satisfied: kiwisolver>=1.0.1 in /usr/local/lib/python3.8/dist-packages (from matplotlib>=3.0.0->mlxtend) (1.4.4)\n",
            "Requirement already satisfied: cycler>=0.10 in /usr/local/lib/python3.8/dist-packages (from matplotlib>=3.0.0->mlxtend) (0.11.0)\n",
            "Requirement already satisfied: pyparsing!=2.0.4,!=2.1.2,!=2.1.6,>=2.0.1 in /usr/local/lib/python3.8/dist-packages (from matplotlib>=3.0.0->mlxtend) (3.0.9)\n",
            "Requirement already satisfied: python-dateutil>=2.1 in /usr/local/lib/python3.8/dist-packages (from matplotlib>=3.0.0->mlxtend) (2.8.2)\n",
            "Requirement already satisfied: pytz>=2017.3 in /usr/local/lib/python3.8/dist-packages (from pandas>=0.24.2->mlxtend) (2022.7.1)\n",
            "Requirement already satisfied: threadpoolctl>=2.0.0 in /usr/local/lib/python3.8/dist-packages (from scikit-learn>=1.0.2->mlxtend) (3.1.0)\n",
            "Requirement already satisfied: six>=1.5 in /usr/local/lib/python3.8/dist-packages (from python-dateutil>=2.1->matplotlib>=3.0.0->mlxtend) (1.15.0)\n",
            "Installing collected packages: mlxtend\n",
            "  Attempting uninstall: mlxtend\n",
            "    Found existing installation: mlxtend 0.14.0\n",
            "    Uninstalling mlxtend-0.14.0:\n",
            "      Successfully uninstalled mlxtend-0.14.0\n",
            "Successfully installed mlxtend-0.21.0\n"
          ]
        }
      ]
    },
    {
      "cell_type": "code",
      "source": [
        "from sklearn.model_selection import train_test_split\n",
        "from mlxtend.data import boston_housing_data\n",
        "\n",
        "X, y = boston_housing_data()\n",
        "\n",
        "X_train, X_test, y_train, y_test = train_test_split(X, y, test_size=0.3, random_state=123, shuffle=True)"
      ],
      "metadata": {
        "id": "7zeAFAboMQ33"
      },
      "execution_count": 9,
      "outputs": []
    },
    {
      "cell_type": "code",
      "source": [
        "from sklearn.tree import DecisionTreeRegressor\n",
        "from sklearn.metrics import mean_squared_error\n",
        "\n",
        "dtr = DecisionTreeRegressor(random_state=123)\n",
        "dtr.fit(X_train, y_train)\n",
        "\n",
        "f'test error: {mean_squared_error(y_test, dtr.predict(X_test))}'\n",
        "# f'train error: {mean_squared_error(y_train, dtr.predict(X_train))}'"
      ],
      "metadata": {
        "colab": {
          "base_uri": "https://localhost:8080/",
          "height": 36
        },
        "id": "WazXVypmNFED",
        "outputId": "5a732654-12a0-4433-87d9-d40c2eaa29ef"
      },
      "execution_count": 12,
      "outputs": [
        {
          "output_type": "execute_result",
          "data": {
            "text/plain": [
              "'test error: 20.107368421052637'"
            ],
            "application/vnd.google.colaboratory.intrinsic+json": {
              "type": "string"
            }
          },
          "metadata": {},
          "execution_count": 12
        }
      ]
    },
    {
      "cell_type": "code",
      "source": [
        "from mlxtend.evaluate import bias_variance_decomp\n",
        "\n",
        "_, avg_b, avg_var = bias_variance_decomp(dtr, X_train, y_train, X_test, y_test, loss=\"mse\", random_seed=123)"
      ],
      "metadata": {
        "id": "hEilIrzcOlbp"
      },
      "execution_count": 14,
      "outputs": []
    },
    {
      "cell_type": "code",
      "source": [
        "avg_b"
      ],
      "metadata": {
        "colab": {
          "base_uri": "https://localhost:8080/"
        },
        "id": "r6tTKUVjPFpZ",
        "outputId": "1e1bce86-6534-4351-b698-3991e80fcf68"
      },
      "execution_count": 15,
      "outputs": [
        {
          "output_type": "execute_result",
          "data": {
            "text/plain": [
              "14.095801179276307"
            ]
          },
          "metadata": {},
          "execution_count": 15
        }
      ]
    },
    {
      "cell_type": "code",
      "source": [
        "avg_var"
      ],
      "metadata": {
        "colab": {
          "base_uri": "https://localhost:8080/"
        },
        "id": "UJNlCQtIPHhA",
        "outputId": "47c77736-5c63-42e7-a46c-a748f6ade7b2"
      },
      "execution_count": 16,
      "outputs": [
        {
          "output_type": "execute_result",
          "data": {
            "text/plain": [
              "17.440207702302633"
            ]
          },
          "metadata": {},
          "execution_count": 16
        }
      ]
    },
    {
      "cell_type": "code",
      "source": [
        "from sklearn.ensemble import BaggingRegressor\n",
        "\n",
        "# dtr_new = DecisionTreeRegressor(random_seed=123)\n",
        "bag_reg = BaggingRegressor(dtr, n_estimators=20, random_state=123)\n",
        "\n",
        "_, avg_b_b, avg_var_b = bias_variance_decomp(bag_reg, X_train, y_train, X_test, y_test, loss='mse', random_seed=123)"
      ],
      "metadata": {
        "id": "KswKtMjoPLX9"
      },
      "execution_count": 19,
      "outputs": []
    },
    {
      "cell_type": "code",
      "source": [
        "avg_b_b"
      ],
      "metadata": {
        "colab": {
          "base_uri": "https://localhost:8080/"
        },
        "id": "iPDh1OaKRn80",
        "outputId": "69d80916-71af-4051-b5a2-eb30ba77853f"
      },
      "execution_count": 20,
      "outputs": [
        {
          "output_type": "execute_result",
          "data": {
            "text/plain": [
              "15.698786665242594"
            ]
          },
          "metadata": {},
          "execution_count": 20
        }
      ]
    },
    {
      "cell_type": "code",
      "source": [
        "avg_var_b"
      ],
      "metadata": {
        "colab": {
          "base_uri": "https://localhost:8080/"
        },
        "id": "MLn5S_FSR1oZ",
        "outputId": "66e72348-e179-43d6-a557-b3a0f7a9b900"
      },
      "execution_count": 21,
      "outputs": [
        {
          "output_type": "execute_result",
          "data": {
            "text/plain": [
              "3.82613624676398"
            ]
          },
          "metadata": {},
          "execution_count": 21
        }
      ]
    },
    {
      "cell_type": "code",
      "source": [
        "print(f'test error: {mean_squared_error(y_test, bag_reg.predict(X_test))}')\n",
        "print(f'train error: {mean_squared_error(y_train, bag_reg.predict(X_train))}')"
      ],
      "metadata": {
        "colab": {
          "base_uri": "https://localhost:8080/"
        },
        "id": "rR-EkCtJR9fs",
        "outputId": "c57ab442-b7b1-4b8a-e768-c908da4725a6"
      },
      "execution_count": 22,
      "outputs": [
        {
          "output_type": "stream",
          "name": "stdout",
          "text": [
            "test error: 16.83000312499999\n",
            "train error: 3.9211391949152534\n"
          ]
        }
      ]
    },
    {
      "cell_type": "code",
      "source": [
        "from sklearn.ensemble import RandomForestRegressor\n",
        "\n",
        "rfg = RandomForestRegressor(n_estimators=20, random_state=123)\n",
        "\n",
        "_, avg_b_rfg, avg_var_rfg = bias_variance_decomp(rfg, X_train, y_train, X_test, y_test, loss='mse', random_seed=123)\n",
        "\n",
        "print(f'test error: {mean_squared_error(y_test, rfg.predict(X_test))}')\n",
        "print(f'train error: {mean_squared_error(y_train, rfg.predict(X_train))}')"
      ],
      "metadata": {
        "colab": {
          "base_uri": "https://localhost:8080/"
        },
        "id": "J4KkspLcTi_o",
        "outputId": "2ec7a4f8-a665-4e05-fb23-d84be237b246"
      },
      "execution_count": 23,
      "outputs": [
        {
          "output_type": "stream",
          "name": "stdout",
          "text": [
            "test error: 15.972788486842097\n",
            "train error: 4.073119209039547\n"
          ]
        }
      ]
    },
    {
      "cell_type": "code",
      "source": [
        "num_trees = 100\n",
        "test_loss = []\n",
        "train_loss = []\n",
        "\n",
        "for i in range(1, num_trees):\n",
        "    rdm_forest = RandomForestRegressor(n_estimators=i, random_state=123)\n",
        "    rdm_forest.fit(X_train, y_train)\n",
        "    test_loss.append(mean_squared_error(y_test, rdm_forest.predict(X_test)))\n",
        "    train_loss.append(mean_squared_error(y_train, rdm_forest.predict(X_train)))\n",
        "\n",
        "plt.figure(figsize=(15,10))\n",
        "plt.grid()\n",
        "plt.plot(test_loss, label='test loss')\n",
        "plt.plot(train_loss, label='train loss')\n",
        "plt.xlabel('# trees')\n",
        "plt.ylabel('MSE')\n",
        "plt.legend()\n",
        "plt.show()"
      ],
      "metadata": {
        "colab": {
          "base_uri": "https://localhost:8080/",
          "height": 606
        },
        "id": "gEvSOyaRVQ9I",
        "outputId": "7bdb5a24-81f3-434e-fcba-0aa21becf9ec"
      },
      "execution_count": 26,
      "outputs": [
        {
          "output_type": "display_data",
          "data": {
            "text/plain": [
              "<Figure size 1080x720 with 1 Axes>"
            ],
            "image/png": "[encoded data removed]"
          },
          "metadata": {
            "needs_background": "light"
          }
        }
      ]
    },
    {
      "cell_type": "code",
      "source": [
        "max_deth = 40\n",
        "test_loss = []\n",
        "train_loss = []\n",
        "\n",
        "for i in range(1, max_deth):\n",
        "    rdm_deth = RandomForestRegressor(n_estimators=20, max_depth=i, random_state=123)\n",
        "    rdm_deth.fit(X_train, y_train)\n",
        "    test_loss.append(mean_squared_error(y_test, rdm_deth.predict(X_test)))\n",
        "    train_loss.append(mean_squared_error(y_train, rdm_deth.predict(X_train)))\n",
        "plt.figure(figsize=(15,10))\n",
        "plt.grid()\n",
        "plt.plot(test_loss, label='test loss')\n",
        "plt.plot(train_loss, label='train loss')\n",
        "plt.xlabel('# trees')\n",
        "plt.ylabel('MSE')\n",
        "plt.legend()\n",
        "plt.show()"
      ],
      "metadata": {
        "colab": {
          "base_uri": "https://localhost:8080/",
          "height": 606
        },
        "id": "SuCAt5fdXU9w",
        "outputId": "8293aa87-7022-44e5-9990-4f5091ea7a7d"
      },
      "execution_count": 27,
      "outputs": [
        {
          "output_type": "display_data",
          "data": {
            "text/plain": [
              "<Figure size 1080x720 with 1 Axes>"
            ],
            "image/png": "[encoded data removed]"
          },
          "metadata": {
            "needs_background": "light"
          }
        }
      ]
    },
    {
      "cell_type": "markdown",
      "source": [
        "Усреднённая ошибка на неотобранных образцах по всему случайному лесу называется out-of-bag-ошибкой.\n",
        "\n",
        "НА НЕОТРАБОТАННЫХ ОБРАЗЦАХ ТРЕйНА!\n",
        "\n",
        "\n",
        "oob_score = True"
      ],
      "metadata": {
        "id": "EAZA2IwtZmw3"
      }
    },
    {
      "cell_type": "code",
      "source": [
        "rdm_oob = RandomForestRegressor(n_estimators=20, random_state=123, oob_score=True)\n",
        "rdm_oob.fit(X,y)\n",
        "rdm_oob.oob_score_"
      ],
      "metadata": {
        "colab": {
          "base_uri": "https://localhost:8080/"
        },
        "id": "LK1B-3O8ZYWA",
        "outputId": "350f8585-8406-4e5d-ff2d-263e1cd7608d"
      },
      "execution_count": 29,
      "outputs": [
        {
          "output_type": "execute_result",
          "data": {
            "text/plain": [
              "0.858785979285376"
            ]
          },
          "metadata": {},
          "execution_count": 29
        }
      ]
    },
    {
      "cell_type": "code",
      "source": [
        "rdm_oob.feature_importances_"
      ],
      "metadata": {
        "colab": {
          "base_uri": "https://localhost:8080/"
        },
        "id": "Mzhl5YlWa78s",
        "outputId": "6759de2b-d578-4c48-f003-6cb82d8b1393"
      },
      "execution_count": 41,
      "outputs": [
        {
          "output_type": "execute_result",
          "data": {
            "text/plain": [
              "array([0.03122725, 0.00123824, 0.00602431, 0.00107255, 0.02089908,\n",
              "       0.47340343, 0.01205852, 0.06189619, 0.00532502, 0.01723235,\n",
              "       0.0146189 , 0.01102187, 0.34398228])"
            ]
          },
          "metadata": {},
          "execution_count": 41
        }
      ]
    },
    {
      "cell_type": "code",
      "source": [
        "from sklearn.datasets import load_boston\n",
        "\n",
        "data = load_boston()\n",
        "# X_tr, X_ts, y_tr, y_ts = train_test_split(X, y, test_size=0.3, random_state=123)\n",
        "# rdm_oob.fit(X_tr, y_tr)"
      ],
      "metadata": {
        "id": "jTC3-ChubY19"
      },
      "execution_count": null,
      "outputs": []
    },
    {
      "cell_type": "code",
      "source": [
        "plt.figure()\n",
        "plt.bar(data['feature_names'], rdm_oob.feature_importances_)"
      ],
      "metadata": {
        "colab": {
          "base_uri": "https://localhost:8080/",
          "height": 283
        },
        "id": "ZWURQn8ycVga",
        "outputId": "393e247b-b20a-40fe-d639-73deeca59951"
      },
      "execution_count": 42,
      "outputs": [
        {
          "output_type": "execute_result",
          "data": {
            "text/plain": [
              "<BarContainer object of 13 artists>"
            ]
          },
          "metadata": {},
          "execution_count": 42
        },
        {
          "output_type": "display_data",
          "data": {
            "text/plain": [
              "<Figure size 432x288 with 1 Axes>"
            ],
            "image/png": "[encoded data removed]"
          },
          "metadata": {
            "needs_background": "light"
          }
        }
      ]
    },
    {
      "cell_type": "code",
      "source": [
        "RM_mc = (X_train[:,5]*2 + 3).reshape(-1,1)\n",
        "X_train_new = np.hstack((X_train, RM_mc))\n",
        "\n",
        "rdm_oob.fit(X_train_new, y_train)"
      ],
      "metadata": {
        "colab": {
          "base_uri": "https://localhost:8080/"
        },
        "id": "f2_3SFS1eCs3",
        "outputId": "bbae404a-cc83-4ae8-af63-cd37bef8e7ea"
      },
      "execution_count": 46,
      "outputs": [
        {
          "output_type": "execute_result",
          "data": {
            "text/plain": [
              "RandomForestRegressor(n_estimators=20, oob_score=True, random_state=123)"
            ]
          },
          "metadata": {},
          "execution_count": 46
        }
      ]
    },
    {
      "cell_type": "code",
      "source": [
        "names = list(data['feature_names']).append('RM_mc')"
      ],
      "metadata": {
        "id": "RnU0OPunevko"
      },
      "execution_count": 47,
      "outputs": []
    },
    {
      "cell_type": "code",
      "source": [
        "plt.bar(names, rdm_oob.feature_importances_)"
      ],
      "metadata": {
        "colab": {
          "base_uri": "https://localhost:8080/",
          "height": 284
        },
        "id": "k9SWppdWfDp6",
        "outputId": "b76b37f3-8181-4850-eed7-8744fc945bd3"
      },
      "execution_count": 58,
      "outputs": [
        {
          "output_type": "execute_result",
          "data": {
            "text/plain": [
              "<BarContainer object of 14 artists>"
            ]
          },
          "metadata": {},
          "execution_count": 58
        },
        {
          "output_type": "display_data",
          "data": {
            "text/plain": [
              "<Figure size 432x288 with 1 Axes>"
            ],
            "image/png": "[encoded data removed]"
          },
          "metadata": {
            "needs_background": "light"
          }
        }
      ]
    },
    {
      "cell_type": "code",
      "source": [
        "import torchvision\n",
        "fmnist = torchvision.datasets.FashionMNIST('./', download=True)"
      ],
      "metadata": {
        "id": "qSEgoaashb5R"
      },
      "execution_count": null,
      "outputs": []
    },
    {
      "cell_type": "code",
      "source": [
        "X = fmnist.data.numpy().reshape(-1,28*28)\n",
        "y = fmnist.targets.numpy()"
      ],
      "metadata": {
        "id": "zekRwmC9hcEb"
      },
      "execution_count": 64,
      "outputs": []
    },
    {
      "cell_type": "code",
      "source": [
        "fmnist.data.numpy().reshape(-1, 28*28).shape"
      ],
      "metadata": {
        "colab": {
          "base_uri": "https://localhost:8080/"
        },
        "id": "DqeU6xd2jeqd",
        "outputId": "30ccfcd3-5eff-4d61-b43b-4a9667119ddd"
      },
      "execution_count": 69,
      "outputs": [
        {
          "output_type": "execute_result",
          "data": {
            "text/plain": [
              "(60000, 784)"
            ]
          },
          "metadata": {},
          "execution_count": 69
        }
      ]
    },
    {
      "cell_type": "code",
      "source": [
        "plt.imshow(X[0, :].reshape(28,28))"
      ],
      "metadata": {
        "colab": {
          "base_uri": "https://localhost:8080/",
          "height": 283
        },
        "id": "r_AoLC8phcMH",
        "outputId": "c3254640-309d-4931-f80f-6d3999188504"
      },
      "execution_count": 71,
      "outputs": [
        {
          "output_type": "execute_result",
          "data": {
            "text/plain": [
              "<matplotlib.image.AxesImage at 0x7fec1eea8ee0>"
            ]
          },
          "metadata": {},
          "execution_count": 71
        },
        {
          "output_type": "display_data",
          "data": {
            "text/plain": [
              "<Figure size 432x288 with 1 Axes>"
            ],
            "image/png": "[encoded data removed]"
          },
          "metadata": {
            "needs_background": "light"
          }
        }
      ]
    },
    {
      "cell_type": "code",
      "source": [
        "X_tr, X_ts, y_tr, y_ts = train_test_split(X, y, test_size=0.3, random_state=123)\n"
      ],
      "metadata": {
        "id": "3iLuk6LshcPJ"
      },
      "execution_count": 72,
      "outputs": []
    },
    {
      "cell_type": "code",
      "source": [
        "from sklearn.ensemble import RandomForestClassifier\n",
        "from sklearn.neighbors import KNeighborsClassifier\n",
        "\n",
        "rfr = RandomForestRegressor()\n",
        "knn = KNeighborsClassifier()\n",
        "\n",
        "rfr.fit(X_tr, y_tr)\n",
        "knn.fit(X_ts, y_ts)"
      ],
      "metadata": {
        "colab": {
          "base_uri": "https://localhost:8080/"
        },
        "id": "0_7fnHV9hcR6",
        "outputId": "c567c61a-d3bf-4b82-d8d0-7ef80a3d4557"
      },
      "execution_count": 77,
      "outputs": [
        {
          "output_type": "execute_result",
          "data": {
            "text/plain": [
              "KNeighborsClassifier()"
            ]
          },
          "metadata": {},
          "execution_count": 77
        }
      ]
    },
    {
      "cell_type": "code",
      "source": [
        "from sklearn.metrics import accuracy_score"
      ],
      "metadata": {
        "id": "TyKLVSZwnTct"
      },
      "execution_count": 78,
      "outputs": []
    },
    {
      "cell_type": "code",
      "source": [
        "print(np.mean(y_ts == rfr.predict(X_ts)))\n",
        "print(np.mean(y_ts == knn.predict(X_ts)))"
      ],
      "metadata": {
        "colab": {
          "base_uri": "https://localhost:8080/"
        },
        "id": "5YXu-U43hcv7",
        "outputId": "84e67a55-85b2-49eb-c306-ab83bb31b578"
      },
      "execution_count": 83,
      "outputs": [
        {
          "output_type": "stream",
          "name": "stdout",
          "text": [
            "0.25244444444444447\n",
            "0.8799444444444444\n"
          ]
        }
      ]
    }
  ]
}