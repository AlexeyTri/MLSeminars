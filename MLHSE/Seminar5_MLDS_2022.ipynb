{
  "nbformat": 4,
  "nbformat_minor": 0,
  "metadata": {
    "colab": {
      "provenance": [],
      "authorship_tag": "ABX9TyP0OmcauCYp9xz0BD/vn3V1",
      "include_colab_link": true
    },
    "kernelspec": {
      "name": "python3",
      "display_name": "Python 3"
    },
    "language_info": {
      "name": "python"
    }
  },
  "cells": [
    {
      "cell_type": "markdown",
      "metadata": {
        "id": "view-in-github",
        "colab_type": "text"
      },
      "source": [
        "<a href=\"https://colab.research.google.com/github/AlexeyTri/MLSeminars/blob/main/MLHSE/Seminar5_MLDS_2022.ipynb\" target=\"_parent\"><img src=\"https://colab.research.google.com/assets/colab-badge.svg\" alt=\"Open In Colab\"/></a>"
      ]
    },
    {
      "cell_type": "markdown",
      "source": [
        "Отбор признаков"
      ],
      "metadata": {
        "id": "5Fcn3x7TzgEh"
      }
    },
    {
      "cell_type": "code",
      "source": [
        "import pandas as pd\n",
        "import numpy as np\n",
        "import seaborn as sns"
      ],
      "metadata": {
        "id": "OX_zJkU-zfCs"
      },
      "execution_count": null,
      "outputs": []
    },
    {
      "cell_type": "code",
      "source": [
        "import sklearn"
      ],
      "metadata": {
        "id": "vFJF9UlWw21D"
      },
      "execution_count": null,
      "outputs": []
    },
    {
      "cell_type": "code",
      "source": [
        "!pip install category_encoders"
      ],
      "metadata": {
        "id": "6uCwNcK9yUd2"
      },
      "execution_count": null,
      "outputs": []
    },
    {
      "cell_type": "code",
      "source": [
        "import category_encoders"
      ],
      "metadata": {
        "id": "yhbde3LFzPBN"
      },
      "execution_count": null,
      "outputs": []
    },
    {
      "cell_type": "code",
      "source": [
        "from sklearn.feature_selection import SelectKBest, SelectPercentile\n",
        "from sklearn.pipeline import Pipeline\n",
        "from sklearn.preprocessing import PolynomialFeatures, StandardScaler\n",
        "from category_encoders.leave_one_out import LeaveOneOutEncoder\n",
        "from sklearn.svm import SVC\n",
        "from sklearn.model_selection import cross_validate\n",
        "import sklearn\n",
        "from sklearn.model_selection import cross_val_score, cross_validate"
      ],
      "metadata": {
        "id": "CahisDiFw6I-"
      },
      "execution_count": null,
      "outputs": []
    },
    {
      "cell_type": "code",
      "source": [
        "np.random.seed(42)"
      ],
      "metadata": {
        "id": "3vNEDyD0zj5S"
      },
      "execution_count": null,
      "outputs": []
    },
    {
      "cell_type": "code",
      "source": [
        "data = pd.read_csv('https://raw.githubusercontent.com/Murcha1990/MLDS_ML_2022/main/%D0%97%D0%B0%D0%BD%D1%8F%D1%82%D0%B8%D0%B5%205/Pokemon.csv')"
      ],
      "metadata": {
        "id": "iXrmTiOFzq2p"
      },
      "execution_count": null,
      "outputs": []
    },
    {
      "cell_type": "code",
      "source": [
        "data"
      ],
      "metadata": {
        "id": "374Q4yUHzyoB"
      },
      "execution_count": null,
      "outputs": []
    },
    {
      "cell_type": "code",
      "source": [
        "data.isna().sum()\n",
        "# data['Type 2'] = data['Type 2'].fillna('No second type')\n",
        "\n",
        "data.drop(columns=['#', 'Name'], inplace=True)"
      ],
      "metadata": {
        "id": "mfYeEOVqz6FI"
      },
      "execution_count": null,
      "outputs": []
    },
    {
      "cell_type": "code",
      "source": [
        "X = data.drop('Legendary', axis=1)\n",
        "y = data['Legendary'].astype('int')"
      ],
      "metadata": {
        "id": "_d2X8JDBtaWo"
      },
      "execution_count": null,
      "outputs": []
    },
    {
      "cell_type": "code",
      "source": [
        "y.value_counts(normalize=True)"
      ],
      "metadata": {
        "colab": {
          "base_uri": "https://localhost:8080/"
        },
        "id": "5oFYsWK6tvWF",
        "outputId": "1e4b2ae5-bd97-4024-b31a-4a61982cfadd"
      },
      "execution_count": null,
      "outputs": [
        {
          "output_type": "execute_result",
          "data": {
            "text/plain": [
              "0    0.91875\n",
              "1    0.08125\n",
              "Name: Legendary, dtype: float64"
            ]
          },
          "metadata": {},
          "execution_count": 18
        }
      ]
    },
    {
      "cell_type": "markdown",
      "source": [
        "Make some default pipline"
      ],
      "metadata": {
        "id": "6Q0-dRfRwo4c"
      }
    },
    {
      "cell_type": "code",
      "source": [
        "X"
      ],
      "metadata": {
        "colab": {
          "base_uri": "https://localhost:8080/",
          "height": 423
        },
        "id": "hSFV0bUUwoWk",
        "outputId": "8ac30592-19af-42f0-c3e6-fa5c129ac249"
      },
      "execution_count": null,
      "outputs": [
        {
          "output_type": "execute_result",
          "data": {
            "text/plain": [
              "      Type 1          Type 2  Total  HP  Attack  Defense  Sp. Atk  Sp. Def  \\\n",
              "0      Grass          Poison    318  45      49       49       65       65   \n",
              "1      Grass          Poison    405  60      62       63       80       80   \n",
              "2      Grass          Poison    525  80      82       83      100      100   \n",
              "3      Grass          Poison    625  80     100      123      122      120   \n",
              "4       Fire  No second type    309  39      52       43       60       50   \n",
              "..       ...             ...    ...  ..     ...      ...      ...      ...   \n",
              "795     Rock           Fairy    600  50     100      150      100      150   \n",
              "796     Rock           Fairy    700  50     160      110      160      110   \n",
              "797  Psychic           Ghost    600  80     110       60      150      130   \n",
              "798  Psychic            Dark    680  80     160       60      170      130   \n",
              "799     Fire           Water    600  80     110      120      130       90   \n",
              "\n",
              "     Speed  Generation  \n",
              "0       45           1  \n",
              "1       60           1  \n",
              "2       80           1  \n",
              "3       80           1  \n",
              "4       65           1  \n",
              "..     ...         ...  \n",
              "795     50           6  \n",
              "796    110           6  \n",
              "797     70           6  \n",
              "798     80           6  \n",
              "799     70           6  \n",
              "\n",
              "[800 rows x 10 columns]"
            ],
            "text/html": [
              "\n",
              "  <div id=\"df-eac456f8-56ef-4e42-98af-5feae764b3dd\">\n",
              "    <div class=\"colab-df-container\">\n",
              "      <div>\n",
              "<style scoped>\n",
              "    .dataframe tbody tr th:only-of-type {\n",
              "        vertical-align: middle;\n",
              "    }\n",
              "\n",
              "    .dataframe tbody tr th {\n",
              "        vertical-align: top;\n",
              "    }\n",
              "\n",
              "    .dataframe thead th {\n",
              "        text-align: right;\n",
              "    }\n",
              "</style>\n",
              "<table border=\"1\" class=\"dataframe\">\n",
              "  <thead>\n",
              "    <tr style=\"text-align: right;\">\n",
              "      <th></th>\n",
              "      <th>Type 1</th>\n",
              "      <th>Type 2</th>\n",
              "      <th>Total</th>\n",
              "      <th>HP</th>\n",
              "      <th>Attack</th>\n",
              "      <th>Defense</th>\n",
              "      <th>Sp. Atk</th>\n",
              "      <th>Sp. Def</th>\n",
              "      <th>Speed</th>\n",
              "      <th>Generation</th>\n",
              "    </tr>\n",
              "  </thead>\n",
              "  <tbody>\n",
              "    <tr>\n",
              "      <th>0</th>\n",
              "      <td>Grass</td>\n",
              "      <td>Poison</td>\n",
              "      <td>318</td>\n",
              "      <td>45</td>\n",
              "      <td>49</td>\n",
              "      <td>49</td>\n",
              "      <td>65</td>\n",
              "      <td>65</td>\n",
              "      <td>45</td>\n",
              "      <td>1</td>\n",
              "    </tr>\n",
              "    <tr>\n",
              "      <th>1</th>\n",
              "      <td>Grass</td>\n",
              "      <td>Poison</td>\n",
              "      <td>405</td>\n",
              "      <td>60</td>\n",
              "      <td>62</td>\n",
              "      <td>63</td>\n",
              "      <td>80</td>\n",
              "      <td>80</td>\n",
              "      <td>60</td>\n",
              "      <td>1</td>\n",
              "    </tr>\n",
              "    <tr>\n",
              "      <th>2</th>\n",
              "      <td>Grass</td>\n",
              "      <td>Poison</td>\n",
              "      <td>525</td>\n",
              "      <td>80</td>\n",
              "      <td>82</td>\n",
              "      <td>83</td>\n",
              "      <td>100</td>\n",
              "      <td>100</td>\n",
              "      <td>80</td>\n",
              "      <td>1</td>\n",
              "    </tr>\n",
              "    <tr>\n",
              "      <th>3</th>\n",
              "      <td>Grass</td>\n",
              "      <td>Poison</td>\n",
              "      <td>625</td>\n",
              "      <td>80</td>\n",
              "      <td>100</td>\n",
              "      <td>123</td>\n",
              "      <td>122</td>\n",
              "      <td>120</td>\n",
              "      <td>80</td>\n",
              "      <td>1</td>\n",
              "    </tr>\n",
              "    <tr>\n",
              "      <th>4</th>\n",
              "      <td>Fire</td>\n",
              "      <td>No second type</td>\n",
              "      <td>309</td>\n",
              "      <td>39</td>\n",
              "      <td>52</td>\n",
              "      <td>43</td>\n",
              "      <td>60</td>\n",
              "      <td>50</td>\n",
              "      <td>65</td>\n",
              "      <td>1</td>\n",
              "    </tr>\n",
              "    <tr>\n",
              "      <th>...</th>\n",
              "      <td>...</td>\n",
              "      <td>...</td>\n",
              "      <td>...</td>\n",
              "      <td>...</td>\n",
              "      <td>...</td>\n",
              "      <td>...</td>\n",
              "      <td>...</td>\n",
              "      <td>...</td>\n",
              "      <td>...</td>\n",
              "      <td>...</td>\n",
              "    </tr>\n",
              "    <tr>\n",
              "      <th>795</th>\n",
              "      <td>Rock</td>\n",
              "      <td>Fairy</td>\n",
              "      <td>600</td>\n",
              "      <td>50</td>\n",
              "      <td>100</td>\n",
              "      <td>150</td>\n",
              "      <td>100</td>\n",
              "      <td>150</td>\n",
              "      <td>50</td>\n",
              "      <td>6</td>\n",
              "    </tr>\n",
              "    <tr>\n",
              "      <th>796</th>\n",
              "      <td>Rock</td>\n",
              "      <td>Fairy</td>\n",
              "      <td>700</td>\n",
              "      <td>50</td>\n",
              "      <td>160</td>\n",
              "      <td>110</td>\n",
              "      <td>160</td>\n",
              "      <td>110</td>\n",
              "      <td>110</td>\n",
              "      <td>6</td>\n",
              "    </tr>\n",
              "    <tr>\n",
              "      <th>797</th>\n",
              "      <td>Psychic</td>\n",
              "      <td>Ghost</td>\n",
              "      <td>600</td>\n",
              "      <td>80</td>\n",
              "      <td>110</td>\n",
              "      <td>60</td>\n",
              "      <td>150</td>\n",
              "      <td>130</td>\n",
              "      <td>70</td>\n",
              "      <td>6</td>\n",
              "    </tr>\n",
              "    <tr>\n",
              "      <th>798</th>\n",
              "      <td>Psychic</td>\n",
              "      <td>Dark</td>\n",
              "      <td>680</td>\n",
              "      <td>80</td>\n",
              "      <td>160</td>\n",
              "      <td>60</td>\n",
              "      <td>170</td>\n",
              "      <td>130</td>\n",
              "      <td>80</td>\n",
              "      <td>6</td>\n",
              "    </tr>\n",
              "    <tr>\n",
              "      <th>799</th>\n",
              "      <td>Fire</td>\n",
              "      <td>Water</td>\n",
              "      <td>600</td>\n",
              "      <td>80</td>\n",
              "      <td>110</td>\n",
              "      <td>120</td>\n",
              "      <td>130</td>\n",
              "      <td>90</td>\n",
              "      <td>70</td>\n",
              "      <td>6</td>\n",
              "    </tr>\n",
              "  </tbody>\n",
              "</table>\n",
              "<p>800 rows × 10 columns</p>\n",
              "</div>\n",
              "      <button class=\"colab-df-convert\" onclick=\"convertToInteractive('df-eac456f8-56ef-4e42-98af-5feae764b3dd')\"\n",
              "              title=\"Convert this dataframe to an interactive table.\"\n",
              "              style=\"display:none;\">\n",
              "        \n",
              "  <svg xmlns=\"http://www.w3.org/2000/svg\" height=\"24px\"viewBox=\"0 0 24 24\"\n",
              "       width=\"24px\">\n",
              "    <path d=\"M0 0h24v24H0V0z\" fill=\"none\"/>\n",
              "    <path d=\"M18.56 5.44l.94 2.06.94-2.06 2.06-.94-2.06-.94-.94-2.06-.94 2.06-2.06.94zm-11 1L8.5 8.5l.94-2.06 2.06-.94-2.06-.94L8.5 2.5l-.94 2.06-2.06.94zm10 10l.94 2.06.94-2.06 2.06-.94-2.06-.94-.94-2.06-.94 2.06-2.06.94z\"/><path d=\"M17.41 7.96l-1.37-1.37c-.4-.4-.92-.59-1.43-.59-.52 0-1.04.2-1.43.59L10.3 9.45l-7.72 7.72c-.78.78-.78 2.05 0 2.83L4 21.41c.39.39.9.59 1.41.59.51 0 1.02-.2 1.41-.59l7.78-7.78 2.81-2.81c.8-.78.8-2.07 0-2.86zM5.41 20L4 18.59l7.72-7.72 1.47 1.35L5.41 20z\"/>\n",
              "  </svg>\n",
              "      </button>\n",
              "      \n",
              "  <style>\n",
              "    .colab-df-container {\n",
              "      display:flex;\n",
              "      flex-wrap:wrap;\n",
              "      gap: 12px;\n",
              "    }\n",
              "\n",
              "    .colab-df-convert {\n",
              "      background-color: #E8F0FE;\n",
              "      border: none;\n",
              "      border-radius: 50%;\n",
              "      cursor: pointer;\n",
              "      display: none;\n",
              "      fill: #1967D2;\n",
              "      height: 32px;\n",
              "      padding: 0 0 0 0;\n",
              "      width: 32px;\n",
              "    }\n",
              "\n",
              "    .colab-df-convert:hover {\n",
              "      background-color: #E2EBFA;\n",
              "      box-shadow: 0px 1px 2px rgba(60, 64, 67, 0.3), 0px 1px 3px 1px rgba(60, 64, 67, 0.15);\n",
              "      fill: #174EA6;\n",
              "    }\n",
              "\n",
              "    [theme=dark] .colab-df-convert {\n",
              "      background-color: #3B4455;\n",
              "      fill: #D2E3FC;\n",
              "    }\n",
              "\n",
              "    [theme=dark] .colab-df-convert:hover {\n",
              "      background-color: #434B5C;\n",
              "      box-shadow: 0px 1px 3px 1px rgba(0, 0, 0, 0.15);\n",
              "      filter: drop-shadow(0px 1px 2px rgba(0, 0, 0, 0.3));\n",
              "      fill: #FFFFFF;\n",
              "    }\n",
              "  </style>\n",
              "\n",
              "      <script>\n",
              "        const buttonEl =\n",
              "          document.querySelector('#df-eac456f8-56ef-4e42-98af-5feae764b3dd button.colab-df-convert');\n",
              "        buttonEl.style.display =\n",
              "          google.colab.kernel.accessAllowed ? 'block' : 'none';\n",
              "\n",
              "        async function convertToInteractive(key) {\n",
              "          const element = document.querySelector('#df-eac456f8-56ef-4e42-98af-5feae764b3dd');\n",
              "          const dataTable =\n",
              "            await google.colab.kernel.invokeFunction('convertToInteractive',\n",
              "                                                     [key], {});\n",
              "          if (!dataTable) return;\n",
              "\n",
              "          const docLinkHtml = 'Like what you see? Visit the ' +\n",
              "            '<a target=\"_blank\" href=https://colab.research.google.com/notebooks/data_table.ipynb>data table notebook</a>'\n",
              "            + ' to learn more about interactive tables.';\n",
              "          element.innerHTML = '';\n",
              "          dataTable['output_type'] = 'display_data';\n",
              "          await google.colab.output.renderOutput(dataTable, element);\n",
              "          const docLink = document.createElement('div');\n",
              "          docLink.innerHTML = docLinkHtml;\n",
              "          element.appendChild(docLink);\n",
              "        }\n",
              "      </script>\n",
              "    </div>\n",
              "  </div>\n",
              "  "
            ]
          },
          "metadata": {},
          "execution_count": 31
        }
      ]
    },
    {
      "cell_type": "code",
      "source": [
        "cat_cols = ['Type 1', 'Type 2']\n",
        "\n",
        "default_pipeline = Pipeline([\n",
        "    ('cat_encoder_', LeaveOneOutEncoder(cols=cat_cols)), \n",
        "    ('scaler_', StandardScaler()),\n",
        "    ('model_', SVC(kernel='linear'))\n",
        "])"
      ],
      "metadata": {
        "id": "7MgZldpjz6Dg"
      },
      "execution_count": null,
      "outputs": []
    },
    {
      "cell_type": "code",
      "source": [
        "cat_cols = ['Type 1', 'Type 2']\n",
        "\n",
        "default_pipeline = Pipeline([\n",
        "    ('cat_encoder_', LeaveOneOutEncoder(cols=cat_cols)),\n",
        "    ('scaler_', StandardScaler()),\n",
        "    ('model_', SVC(kernel='linear'))]\n",
        ")"
      ],
      "metadata": {
        "id": "HvmkqQSl3L7-"
      },
      "execution_count": null,
      "outputs": []
    },
    {
      "cell_type": "code",
      "source": [
        "cv_res1 = cross_validate(default_pipeline,\n",
        "                         X,\n",
        "                         y,\n",
        "                         cv=5,\n",
        "                         scoring='f1',                         \n",
        "                         n_jobs=-1,\n",
        "                         return_train_score=True\n",
        "                         )"
      ],
      "metadata": {
        "id": "_jUzZ86M1rr8"
      },
      "execution_count": null,
      "outputs": []
    },
    {
      "cell_type": "code",
      "source": [
        "cv_res1['test_score'].mean()"
      ],
      "metadata": {
        "colab": {
          "base_uri": "https://localhost:8080/"
        },
        "id": "LFEfQnfg3WLR",
        "outputId": "1cfd5e7d-5a85-4627-dcfa-91a73261bd1b"
      },
      "execution_count": null,
      "outputs": [
        {
          "output_type": "execute_result",
          "data": {
            "text/plain": [
              "0.5466128466128467"
            ]
          },
          "metadata": {},
          "execution_count": 55
        }
      ]
    },
    {
      "cell_type": "markdown",
      "source": [
        "Make pipeline more complicated"
      ],
      "metadata": {
        "id": "TdgK2pv23qYN"
      }
    },
    {
      "cell_type": "code",
      "source": [
        "pip_diff = Pipeline([\n",
        "    ('cat_encder_', LeaveOneOutEncoder(cols=cat_cols)),\n",
        "    ('polyfeatures_', PolynomialFeatures(degree=4)),\n",
        "    ('scaler_', StandardScaler()),\n",
        "    ('model_', SVC(kernel='linear'))\n",
        "    ])"
      ],
      "metadata": {
        "id": "FpCxg8mf3wqO"
      },
      "execution_count": null,
      "outputs": []
    },
    {
      "cell_type": "code",
      "source": [
        "cv_res2 = cross_validate(pip_diff,\n",
        "                          X,\n",
        "                          y,\n",
        "                          cv=5,\n",
        "                          scoring='f1',\n",
        "                          n_jobs=-1,\n",
        "                          return_train_score=True)"
      ],
      "metadata": {
        "id": "AnhOC86z4ryb"
      },
      "execution_count": null,
      "outputs": []
    },
    {
      "cell_type": "code",
      "source": [
        "cv_res2"
      ],
      "metadata": {
        "colab": {
          "base_uri": "https://localhost:8080/"
        },
        "id": "HIvHnKhH5N78",
        "outputId": "d182e8e2-304e-4005-b95f-8180b029998a"
      },
      "execution_count": null,
      "outputs": [
        {
          "output_type": "execute_result",
          "data": {
            "text/plain": [
              "{'fit_time': array([0.06695437, 0.07403207, 0.07642555, 0.09207535, 0.08109736]),\n",
              " 'score_time': array([0.01578903, 0.01665235, 0.01390171, 0.03237462, 0.01130939]),\n",
              " 'test_score': array([0.375     , 0.88888889, 0.5       , 0.66666667, 0.53658537]),\n",
              " 'train_score': array([0.95145631, 0.89583333, 0.97142857, 0.96153846, 0.98076923])}"
            ]
          },
          "metadata": {},
          "execution_count": 59
        }
      ]
    },
    {
      "cell_type": "code",
      "source": [
        "cv_res2['train_score'].mean()"
      ],
      "metadata": {
        "colab": {
          "base_uri": "https://localhost:8080/"
        },
        "id": "MPUohVd35fOe",
        "outputId": "b01dfd56-b7dd-4000-c893-e2b825074d84"
      },
      "execution_count": null,
      "outputs": [
        {
          "output_type": "execute_result",
          "data": {
            "text/plain": [
              "0.9522051815498418"
            ]
          },
          "metadata": {},
          "execution_count": 60
        }
      ]
    },
    {
      "cell_type": "code",
      "source": [
        "cv_res2['test_score'].mean()"
      ],
      "metadata": {
        "colab": {
          "base_uri": "https://localhost:8080/"
        },
        "id": "kFgS3HS45nuk",
        "outputId": "a6391b90-2b4f-471f-ca86-0f1d59e9eb70"
      },
      "execution_count": null,
      "outputs": [
        {
          "output_type": "execute_result",
          "data": {
            "text/plain": [
              "0.5934281842818427"
            ]
          },
          "metadata": {},
          "execution_count": 61
        }
      ]
    },
    {
      "cell_type": "markdown",
      "source": [
        "Introduce feature selectors"
      ],
      "metadata": {
        "id": "ukPTRlwM6OKW"
      }
    },
    {
      "cell_type": "code",
      "source": [
        "data_tr = pip_diff[:-1]"
      ],
      "metadata": {
        "id": "MfdrYwCJ6YFN"
      },
      "execution_count": null,
      "outputs": []
    },
    {
      "cell_type": "code",
      "source": [
        "X_tr = data_tr.fit_transform(X, y)\n",
        "X_tr.shape, y.shape"
      ],
      "metadata": {
        "colab": {
          "base_uri": "https://localhost:8080/"
        },
        "id": "TNAjuC9V6k2Y",
        "outputId": "74809af4-a511-4370-a22b-095d924e4e04"
      },
      "execution_count": null,
      "outputs": [
        {
          "output_type": "execute_result",
          "data": {
            "text/plain": [
              "((800, 1001), (800,))"
            ]
          },
          "metadata": {},
          "execution_count": 64
        }
      ]
    },
    {
      "cell_type": "markdown",
      "source": [
        "Фильтрационные методы"
      ],
      "metadata": {
        "id": "OLBkQOZ27S4m"
      }
    },
    {
      "cell_type": "code",
      "source": [
        "from sklearn.feature_selection import f_classif, chi2, mutual_info_classif"
      ],
      "metadata": {
        "id": "XbzIEj7O8N6n"
      },
      "execution_count": null,
      "outputs": []
    },
    {
      "cell_type": "code",
      "source": [
        "pipe = Pipeline([\n",
        "    ('cat_encoder_', LeaveOneOutEncoder(cols=cat_cols)),\n",
        "    ('poly_featurizer_', PolynomialFeatures(degree=4)),\n",
        "    ('scaler_', StandardScaler()),\n",
        "    ('selecetor_', SelectKBest(score_func=mutual_info_classif, k=100)),\n",
        "    ('model_', SVC(kernel='linear'))\n",
        "\n",
        "])"
      ],
      "metadata": {
        "id": "M1_S8LE363aq"
      },
      "execution_count": null,
      "outputs": []
    },
    {
      "cell_type": "code",
      "source": [
        "cv_res = cross_validate(pipe,X,y,cv=5, scoring='f1', return_train_score=True)"
      ],
      "metadata": {
        "id": "_fHOTYES8jFF"
      },
      "execution_count": null,
      "outputs": []
    },
    {
      "cell_type": "code",
      "source": [
        "cv_res['test_score'].mean()"
      ],
      "metadata": {
        "colab": {
          "base_uri": "https://localhost:8080/"
        },
        "id": "sHcyR1Aj89w7",
        "outputId": "7b1807aa-6bd7-41f3-afda-3e6fdd0e9f95"
      },
      "execution_count": null,
      "outputs": [
        {
          "output_type": "execute_result",
          "data": {
            "text/plain": [
              "0.4433766233766233"
            ]
          },
          "metadata": {},
          "execution_count": 75
        }
      ]
    },
    {
      "cell_type": "code",
      "source": [
        "cv_res['test_score'].mean()"
      ],
      "metadata": {
        "id": "cgtZeRy7AyZf"
      },
      "execution_count": null,
      "outputs": []
    },
    {
      "cell_type": "code",
      "source": [
        "cv_res['train_score'].mean()"
      ],
      "metadata": {
        "colab": {
          "base_uri": "https://localhost:8080/"
        },
        "id": "-5CuRaIB9EZU",
        "outputId": "082bd5be-ddc5-44bd-b7fe-f5fc11119e05"
      },
      "execution_count": null,
      "outputs": [
        {
          "output_type": "execute_result",
          "data": {
            "text/plain": [
              "0.7823530494795374"
            ]
          },
          "metadata": {},
          "execution_count": 76
        }
      ]
    },
    {
      "cell_type": "markdown",
      "source": [
        "Жадный метод отбора"
      ],
      "metadata": {
        "id": "a0GRBE7M-u8H"
      }
    },
    {
      "cell_type": "code",
      "source": [
        "from sklearn.feature_selection import RFE\n",
        "from sklearn.linear_model import LogisticRegression"
      ],
      "metadata": {
        "id": "33I9rx4e-y8f"
      },
      "execution_count": null,
      "outputs": []
    },
    {
      "cell_type": "code",
      "source": [
        "k_best = 50\n",
        "\n",
        "rfe = RFE(LogisticRegression(max_iter=1000), n_features_to_select=k_best, step=30)"
      ],
      "metadata": {
        "id": "wcYXMTMo_WVk"
      },
      "execution_count": null,
      "outputs": []
    },
    {
      "cell_type": "code",
      "source": [
        "X_tr.shape"
      ],
      "metadata": {
        "colab": {
          "base_uri": "https://localhost:8080/"
        },
        "id": "eaJHnXbu_5p-",
        "outputId": "1d3da323-6808-4ea2-a0e6-aed8dd964040"
      },
      "execution_count": null,
      "outputs": [
        {
          "output_type": "execute_result",
          "data": {
            "text/plain": [
              "(800, 1001)"
            ]
          },
          "metadata": {},
          "execution_count": 79
        }
      ]
    },
    {
      "cell_type": "code",
      "source": [
        "res = rfe.fit_transform(X_tr, y)\n",
        "res.shape"
      ],
      "metadata": {
        "id": "9NHToPj4AIHt"
      },
      "execution_count": null,
      "outputs": []
    },
    {
      "cell_type": "code",
      "source": [
        "pipe_rfe = Pipeline([\n",
        "    ('cat_encoder_', LeaveOneOutEncoder(cols=cat_cols)),\n",
        "    ('poly_featurizer_', PolynomialFeatures(degree=4)),\n",
        "    ('scaler_', StandardScaler()),\n",
        "    ('selecetor_', RFE(LogisticRegression(max_iter=1000), n_features_to_select=k_best, step=30)),\n",
        "    ('model_', SVC(kernel='linear'))\n",
        "\n",
        "])"
      ],
      "metadata": {
        "id": "bRKqHf6MAnaw"
      },
      "execution_count": null,
      "outputs": []
    },
    {
      "cell_type": "code",
      "source": [
        "cv_res = cross_validate(pipe_rfe,X,y,cv=5, scoring='f1', return_train_score=True)"
      ],
      "metadata": {
        "id": "08nyWF45AtuH"
      },
      "execution_count": null,
      "outputs": []
    },
    {
      "cell_type": "code",
      "source": [
        "cv_res['test_score'].mean(), cv_res['train_score'].mean()"
      ],
      "metadata": {
        "colab": {
          "base_uri": "https://localhost:8080/"
        },
        "id": "Td9AK35pA0D3",
        "outputId": "3f78ccb1-9611-4484-8e01-f39fdc09666e"
      },
      "execution_count": null,
      "outputs": [
        {
          "output_type": "execute_result",
          "data": {
            "text/plain": [
              "(0.6551901108269395, 0.91305189625414)"
            ]
          },
          "metadata": {},
          "execution_count": 87
        }
      ]
    },
    {
      "cell_type": "markdown",
      "source": [
        "С помощью модели"
      ],
      "metadata": {
        "id": "xDOa8gI7BBKX"
      }
    },
    {
      "cell_type": "code",
      "source": [
        "from sklearn.feature_selection import SelectFromModel"
      ],
      "metadata": {
        "id": "-RUffkW9BDMf"
      },
      "execution_count": null,
      "outputs": []
    },
    {
      "cell_type": "code",
      "source": [
        "sel = SelectFromModel(LogisticRegression(penalty='l1', max_iter=1000, solver='liblinear'), threshold=0.1)"
      ],
      "metadata": {
        "id": "jhigzZzABMFX"
      },
      "execution_count": null,
      "outputs": []
    },
    {
      "cell_type": "code",
      "source": [
        "sel = sel.fit_transform(X_tr, y)\n",
        "sel.shape"
      ],
      "metadata": {
        "colab": {
          "base_uri": "https://localhost:8080/"
        },
        "id": "yByzKQurBlok",
        "outputId": "08c7b8c2-607e-49dd-ffa5-824123b2d045"
      },
      "execution_count": null,
      "outputs": [
        {
          "output_type": "execute_result",
          "data": {
            "text/plain": [
              "(800, 37)"
            ]
          },
          "metadata": {},
          "execution_count": 90
        }
      ]
    },
    {
      "cell_type": "code",
      "source": [
        "pipe_sel = Pipeline([\n",
        "    ('cat_encoder_', LeaveOneOutEncoder(cols=cat_cols)),\n",
        "    ('poly_featurizer_', PolynomialFeatures(degree=4)),\n",
        "    ('scaler_', StandardScaler()),\n",
        "    ('selecetor_', SelectFromModel(LogisticRegression(penalty='l1', max_iter=1000, solver='liblinear'), threshold=0.1)),\n",
        "    ('model_', SVC(kernel='linear'))\n",
        "\n",
        "])"
      ],
      "metadata": {
        "id": "9v_-YoOIBtnb"
      },
      "execution_count": null,
      "outputs": []
    },
    {
      "cell_type": "code",
      "source": [
        "cv_sel = cross_validate(pipe_sel,X,y,cv=5, scoring='f1', return_train_score=True)"
      ],
      "metadata": {
        "id": "BPZwrZZdB09A"
      },
      "execution_count": null,
      "outputs": []
    },
    {
      "cell_type": "code",
      "source": [
        "cv_sel['test_score'].mean(), cv_sel['train_score'].mean()"
      ],
      "metadata": {
        "colab": {
          "base_uri": "https://localhost:8080/"
        },
        "id": "pLExOeE-B5KY",
        "outputId": "b6b0346f-03b2-4ea9-d92c-f98c63e5a036"
      },
      "execution_count": null,
      "outputs": [
        {
          "output_type": "execute_result",
          "data": {
            "text/plain": [
              "(0.6171946003742315, 0.9186863636419137)"
            ]
          },
          "metadata": {},
          "execution_count": 93
        }
      ]
    },
    {
      "cell_type": "markdown",
      "source": [
        "PCA или метод главных компонент"
      ],
      "metadata": {
        "id": "Ds-LjmF7B_2u"
      }
    },
    {
      "cell_type": "code",
      "source": [
        "from sklearn.decomposition import PCA"
      ],
      "metadata": {
        "id": "p0RYNJtaCALX"
      },
      "execution_count": null,
      "outputs": []
    },
    {
      "cell_type": "code",
      "source": [
        "pca = PCA(n_components=2)\n",
        "\n",
        "#X = [[1,3],[0,2],[0,0],[3,3]]\n",
        "X = [[0,1],[-1,0],[-1,-2],[2,1]]\n",
        "pca.fit_transform(X)"
      ],
      "metadata": {
        "colab": {
          "base_uri": "https://localhost:8080/"
        },
        "id": "-GHgaR7GCCT3",
        "outputId": "db080d02-e071-46fb-ad8f-f558fe10deea"
      },
      "execution_count": null,
      "outputs": [
        {
          "output_type": "execute_result",
          "data": {
            "text/plain": [
              "array([[-0.70710678,  0.70710678],\n",
              "       [ 0.70710678,  0.70710678],\n",
              "       [ 2.12132034, -0.70710678],\n",
              "       [-2.12132034, -0.70710678]])"
            ]
          },
          "metadata": {},
          "execution_count": 95
        }
      ]
    },
    {
      "cell_type": "code",
      "source": [
        "pca.explained_variance_ratio_"
      ],
      "metadata": {
        "colab": {
          "base_uri": "https://localhost:8080/"
        },
        "id": "2RzFb7ohCHCP",
        "outputId": "13d83c21-8ebe-4fed-93fb-9b30c7ebad5d"
      },
      "execution_count": null,
      "outputs": [
        {
          "output_type": "execute_result",
          "data": {
            "text/plain": [
              "array([0.83333333, 0.16666667])"
            ]
          },
          "metadata": {},
          "execution_count": 96
        }
      ]
    },
    {
      "cell_type": "code",
      "source": [
        "pca = PCA(n_components = 15)"
      ],
      "metadata": {
        "id": "eRjumuLwCIOv"
      },
      "execution_count": null,
      "outputs": []
    },
    {
      "cell_type": "code",
      "source": [
        "res = pca.fit_transform(X_tr)\n",
        "display(res.shape)\n",
        "res"
      ],
      "metadata": {
        "colab": {
          "base_uri": "https://localhost:8080/",
          "height": 163
        },
        "id": "3D7r4yuJCLJH",
        "outputId": "858f04ef-4efa-43de-a3fa-d6d5768c0450"
      },
      "execution_count": null,
      "outputs": [
        {
          "output_type": "display_data",
          "data": {
            "text/plain": [
              "(800, 2)"
            ]
          },
          "metadata": {}
        },
        {
          "output_type": "execute_result",
          "data": {
            "text/plain": [
              "array([[-19.80072907,   4.46072632],\n",
              "       [-15.87855227,   3.10134435],\n",
              "       [ -6.24072086,  -0.46328011],\n",
              "       ...,\n",
              "       [ 32.67677451,  15.03404521],\n",
              "       [ 55.33222614,  14.85637261],\n",
              "       [ 19.98280532,  -4.60646431]])"
            ]
          },
          "metadata": {},
          "execution_count": 97
        }
      ]
    },
    {
      "cell_type": "code",
      "source": [
        "# суммарная доля объясненной дисперсии исходных признаков\n",
        "\n",
        "pca.explained_variance_ratio_.sum()"
      ],
      "metadata": {
        "colab": {
          "base_uri": "https://localhost:8080/"
        },
        "id": "r8PE4BUWCUdw",
        "outputId": "8775d379-49d0-410d-a6aa-f02fba65b149"
      },
      "execution_count": null,
      "outputs": [
        {
          "output_type": "execute_result",
          "data": {
            "text/plain": [
              "0.5743580120889531"
            ]
          },
          "metadata": {},
          "execution_count": 98
        }
      ]
    },
    {
      "cell_type": "code",
      "source": [
        "# каждая следующая компонента менее информативна чем предыдущая\n",
        "pca.explained_variance_ratio_"
      ],
      "metadata": {
        "colab": {
          "base_uri": "https://localhost:8080/"
        },
        "id": "mK0Swn3fCbwn",
        "outputId": "e3d35dda-555c-4c8c-8ba2-fc8aecdea0fa"
      },
      "execution_count": null,
      "outputs": [
        {
          "output_type": "execute_result",
          "data": {
            "text/plain": [
              "array([0.45670112, 0.1176569 ])"
            ]
          },
          "metadata": {},
          "execution_count": 99
        }
      ]
    },
    {
      "cell_type": "code",
      "source": [
        "from sklearn.ensemble import RandomForestClassifier\n",
        "\n",
        "n_components = 15\n",
        "\n",
        "pipe_pca = Pipeline([\n",
        "    ('cat_encoder_', LeaveOneOutEncoder(cols=cat_cols)),\n",
        "    ('poly_featurizer_', PolynomialFeatures(degree=4)),\n",
        "    ('scaler_', StandardScaler()),\n",
        "    ('selector_', PCA(n_components=n_components)), \n",
        "    ('model_', RandomForestClassifier())])\n",
        "\n",
        "cv_res5 = cross_validate(pipe_pca, X, y, cv=5, scoring='roc_auc', return_train_score=True)\n",
        "cv_res5"
      ],
      "metadata": {
        "colab": {
          "base_uri": "https://localhost:8080/"
        },
        "id": "gfIB1OT0Ccoo",
        "outputId": "99f2b4af-d16e-443a-885d-984eba297da1"
      },
      "execution_count": null,
      "outputs": [
        {
          "output_type": "execute_result",
          "data": {
            "text/plain": [
              "{'fit_time': array([0.31144643, 0.2890532 , 0.30890322, 0.30893946, 0.32903051]),\n",
              " 'score_time': array([0.02441812, 0.02052093, 0.02226686, 0.02073693, 0.02190876]),\n",
              " 'test_score': array([0.95421245, 0.9714809 , 0.96153846, 0.93799058, 0.93851387]),\n",
              " 'train_score': array([0.99926413, 0.99893707, 0.99885531, 0.99895343, 0.99914966])}"
            ]
          },
          "metadata": {},
          "execution_count": 102
        }
      ]
    },
    {
      "cell_type": "code",
      "source": [
        "cv_res5['test_score'].mean(), cv_res5['train_score'].mean()"
      ],
      "metadata": {
        "colab": {
          "base_uri": "https://localhost:8080/"
        },
        "id": "9s4Pf8FQCejv",
        "outputId": "8962256d-e77a-40d5-b5db-2d0940cf0e9b"
      },
      "execution_count": null,
      "outputs": [
        {
          "output_type": "execute_result",
          "data": {
            "text/plain": [
              "(0.9527472527472527, 0.9990319204604919)"
            ]
          },
          "metadata": {},
          "execution_count": 103
        }
      ]
    }
  ]
}