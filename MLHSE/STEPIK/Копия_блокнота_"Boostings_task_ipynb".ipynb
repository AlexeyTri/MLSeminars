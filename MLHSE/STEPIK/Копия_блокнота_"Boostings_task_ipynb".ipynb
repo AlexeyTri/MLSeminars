{
  "nbformat": 4,
  "nbformat_minor": 0,
  "metadata": {
    "colab": {
      "provenance": [],
      "include_colab_link": true
    },
    "kernelspec": {
      "name": "python3",
      "display_name": "Python 3"
    },
    "language_info": {
      "name": "python"
    }
  },
  "cells": [
    {
      "cell_type": "markdown",
      "metadata": {
        "id": "view-in-github",
        "colab_type": "text"
      },
      "source": [
        "<a href=\"https://colab.research.google.com/github/AlexeyTri/MLSeminars/blob/main/MLHSE/STEPIK/%D0%9A%D0%BE%D0%BF%D0%B8%D1%8F_%D0%B1%D0%BB%D0%BE%D0%BA%D0%BD%D0%BE%D1%82%D0%B0_%22Boostings_task_ipynb%22.ipynb\" target=\"_parent\"><img src=\"https://colab.research.google.com/assets/colab-badge.svg\" alt=\"Open In Colab\"/></a>"
      ]
    },
    {
      "cell_type": "markdown",
      "source": [
        "# Прогнозируем задержки самолетов "
      ],
      "metadata": {
        "id": "8bieQL5lwfBD"
      }
    },
    {
      "cell_type": "code",
      "source": [
        "!pip install catboost lightgbm optuna -q"
      ],
      "metadata": {
        "colab": {
          "base_uri": "https://localhost:8080/"
        },
        "id": "DARqocv0wz0z",
        "outputId": "8c88a540-1a93-4714-ac00-8599184ff8da"
      },
      "execution_count": null,
      "outputs": [
        {
          "output_type": "stream",
          "name": "stdout",
          "text": [
            "\u001b[2K     \u001b[90m━━━━━━━━━━━━━━━━━━━━━━━━━━━━━━━━━━━━━━━━\u001b[0m \u001b[32m76.6/76.6 MB\u001b[0m \u001b[31m10.4 MB/s\u001b[0m eta \u001b[36m0:00:00\u001b[0m\n",
            "\u001b[2K     \u001b[90m━━━━━━━━━━━━━━━━━━━━━━━━━━━━━━━━━━━━━━\u001b[0m \u001b[32m365.3/365.3 KB\u001b[0m \u001b[31m19.1 MB/s\u001b[0m eta \u001b[36m0:00:00\u001b[0m\n",
            "\u001b[2K     \u001b[90m━━━━━━━━━━━━━━━━━━━━━━━━━━━━━━━━━━━━━━━\u001b[0m \u001b[32m212.2/212.2 KB\u001b[0m \u001b[31m7.1 MB/s\u001b[0m eta \u001b[36m0:00:00\u001b[0m\n",
            "\u001b[2K     \u001b[90m━━━━━━━━━━━━━━━━━━━━━━━━━━━━━━━━━━━━━━━━\u001b[0m \u001b[32m78.7/78.7 KB\u001b[0m \u001b[31m3.4 MB/s\u001b[0m eta \u001b[36m0:00:00\u001b[0m\n",
            "\u001b[?25h"
          ]
        }
      ]
    },
    {
      "cell_type": "code",
      "source": [
        "from sklearn.model_selection import train_test_split, cross_val_score\n",
        "from sklearn.metrics import roc_auc_score\n",
        "import pandas as pd\n",
        "import numpy as np\n",
        "import optuna\n",
        "\n",
        "from catboost import CatBoostClassifier \n",
        "from lightgbm import LGBMClassifier"
      ],
      "metadata": {
        "id": "U-gc09zSwvyF"
      },
      "execution_count": null,
      "outputs": []
    },
    {
      "cell_type": "code",
      "execution_count": null,
      "metadata": {
        "id": "C4LFGZPXweF2"
      },
      "outputs": [],
      "source": [
        "RANDOM_STATE = 111\n",
        "DATASET_PATH = 'https://raw.githubusercontent.com/evgpat/edu_stepik_practical_ml/main/datasets/flight_delays_train.csv'"
      ]
    },
    {
      "cell_type": "code",
      "source": [
        "data = pd.read_csv(DATASET_PATH)\n",
        "\n",
        "X = data.drop('dep_delayed_15min', axis=1)\n",
        "y = data['dep_delayed_15min'] == 'Y'\n",
        "\n",
        "X.head()"
      ],
      "metadata": {
        "colab": {
          "base_uri": "https://localhost:8080/",
          "height": 206
        },
        "id": "m788vNOUxBNU",
        "outputId": "99dfe1d3-51b7-4f84-a26b-c1a1b56d61ab"
      },
      "execution_count": null,
      "outputs": [
        {
          "output_type": "execute_result",
          "data": {
            "text/plain": [
              "  Month DayofMonth DayOfWeek  DepTime UniqueCarrier Origin Dest  Distance\n",
              "0   c-8       c-21       c-7     1934            AA    ATL  DFW       732\n",
              "1   c-4       c-20       c-3     1548            US    PIT  MCO       834\n",
              "2   c-9        c-2       c-5     1422            XE    RDU  CLE       416\n",
              "3  c-11       c-25       c-6     1015            OO    DEN  MEM       872\n",
              "4  c-10        c-7       c-6     1828            WN    MDW  OMA       423"
            ],
            "text/html": [
              "\n",
              "  <div id=\"df-cd2a004d-998e-4ee0-98a9-f0805c7886b9\">\n",
              "    <div class=\"colab-df-container\">\n",
              "      <div>\n",
              "<style scoped>\n",
              "    .dataframe tbody tr th:only-of-type {\n",
              "        vertical-align: middle;\n",
              "    }\n",
              "\n",
              "    .dataframe tbody tr th {\n",
              "        vertical-align: top;\n",
              "    }\n",
              "\n",
              "    .dataframe thead th {\n",
              "        text-align: right;\n",
              "    }\n",
              "</style>\n",
              "<table border=\"1\" class=\"dataframe\">\n",
              "  <thead>\n",
              "    <tr style=\"text-align: right;\">\n",
              "      <th></th>\n",
              "      <th>Month</th>\n",
              "      <th>DayofMonth</th>\n",
              "      <th>DayOfWeek</th>\n",
              "      <th>DepTime</th>\n",
              "      <th>UniqueCarrier</th>\n",
              "      <th>Origin</th>\n",
              "      <th>Dest</th>\n",
              "      <th>Distance</th>\n",
              "    </tr>\n",
              "  </thead>\n",
              "  <tbody>\n",
              "    <tr>\n",
              "      <th>0</th>\n",
              "      <td>c-8</td>\n",
              "      <td>c-21</td>\n",
              "      <td>c-7</td>\n",
              "      <td>1934</td>\n",
              "      <td>AA</td>\n",
              "      <td>ATL</td>\n",
              "      <td>DFW</td>\n",
              "      <td>732</td>\n",
              "    </tr>\n",
              "    <tr>\n",
              "      <th>1</th>\n",
              "      <td>c-4</td>\n",
              "      <td>c-20</td>\n",
              "      <td>c-3</td>\n",
              "      <td>1548</td>\n",
              "      <td>US</td>\n",
              "      <td>PIT</td>\n",
              "      <td>MCO</td>\n",
              "      <td>834</td>\n",
              "    </tr>\n",
              "    <tr>\n",
              "      <th>2</th>\n",
              "      <td>c-9</td>\n",
              "      <td>c-2</td>\n",
              "      <td>c-5</td>\n",
              "      <td>1422</td>\n",
              "      <td>XE</td>\n",
              "      <td>RDU</td>\n",
              "      <td>CLE</td>\n",
              "      <td>416</td>\n",
              "    </tr>\n",
              "    <tr>\n",
              "      <th>3</th>\n",
              "      <td>c-11</td>\n",
              "      <td>c-25</td>\n",
              "      <td>c-6</td>\n",
              "      <td>1015</td>\n",
              "      <td>OO</td>\n",
              "      <td>DEN</td>\n",
              "      <td>MEM</td>\n",
              "      <td>872</td>\n",
              "    </tr>\n",
              "    <tr>\n",
              "      <th>4</th>\n",
              "      <td>c-10</td>\n",
              "      <td>c-7</td>\n",
              "      <td>c-6</td>\n",
              "      <td>1828</td>\n",
              "      <td>WN</td>\n",
              "      <td>MDW</td>\n",
              "      <td>OMA</td>\n",
              "      <td>423</td>\n",
              "    </tr>\n",
              "  </tbody>\n",
              "</table>\n",
              "</div>\n",
              "      <button class=\"colab-df-convert\" onclick=\"convertToInteractive('df-cd2a004d-998e-4ee0-98a9-f0805c7886b9')\"\n",
              "              title=\"Convert this dataframe to an interactive table.\"\n",
              "              style=\"display:none;\">\n",
              "        \n",
              "  <svg xmlns=\"http://www.w3.org/2000/svg\" height=\"24px\"viewBox=\"0 0 24 24\"\n",
              "       width=\"24px\">\n",
              "    <path d=\"M0 0h24v24H0V0z\" fill=\"none\"/>\n",
              "    <path d=\"M18.56 5.44l.94 2.06.94-2.06 2.06-.94-2.06-.94-.94-2.06-.94 2.06-2.06.94zm-11 1L8.5 8.5l.94-2.06 2.06-.94-2.06-.94L8.5 2.5l-.94 2.06-2.06.94zm10 10l.94 2.06.94-2.06 2.06-.94-2.06-.94-.94-2.06-.94 2.06-2.06.94z\"/><path d=\"M17.41 7.96l-1.37-1.37c-.4-.4-.92-.59-1.43-.59-.52 0-1.04.2-1.43.59L10.3 9.45l-7.72 7.72c-.78.78-.78 2.05 0 2.83L4 21.41c.39.39.9.59 1.41.59.51 0 1.02-.2 1.41-.59l7.78-7.78 2.81-2.81c.8-.78.8-2.07 0-2.86zM5.41 20L4 18.59l7.72-7.72 1.47 1.35L5.41 20z\"/>\n",
              "  </svg>\n",
              "      </button>\n",
              "      \n",
              "  <style>\n",
              "    .colab-df-container {\n",
              "      display:flex;\n",
              "      flex-wrap:wrap;\n",
              "      gap: 12px;\n",
              "    }\n",
              "\n",
              "    .colab-df-convert {\n",
              "      background-color: #E8F0FE;\n",
              "      border: none;\n",
              "      border-radius: 50%;\n",
              "      cursor: pointer;\n",
              "      display: none;\n",
              "      fill: #1967D2;\n",
              "      height: 32px;\n",
              "      padding: 0 0 0 0;\n",
              "      width: 32px;\n",
              "    }\n",
              "\n",
              "    .colab-df-convert:hover {\n",
              "      background-color: #E2EBFA;\n",
              "      box-shadow: 0px 1px 2px rgba(60, 64, 67, 0.3), 0px 1px 3px 1px rgba(60, 64, 67, 0.15);\n",
              "      fill: #174EA6;\n",
              "    }\n",
              "\n",
              "    [theme=dark] .colab-df-convert {\n",
              "      background-color: #3B4455;\n",
              "      fill: #D2E3FC;\n",
              "    }\n",
              "\n",
              "    [theme=dark] .colab-df-convert:hover {\n",
              "      background-color: #434B5C;\n",
              "      box-shadow: 0px 1px 3px 1px rgba(0, 0, 0, 0.15);\n",
              "      filter: drop-shadow(0px 1px 2px rgba(0, 0, 0, 0.3));\n",
              "      fill: #FFFFFF;\n",
              "    }\n",
              "  </style>\n",
              "\n",
              "      <script>\n",
              "        const buttonEl =\n",
              "          document.querySelector('#df-cd2a004d-998e-4ee0-98a9-f0805c7886b9 button.colab-df-convert');\n",
              "        buttonEl.style.display =\n",
              "          google.colab.kernel.accessAllowed ? 'block' : 'none';\n",
              "\n",
              "        async function convertToInteractive(key) {\n",
              "          const element = document.querySelector('#df-cd2a004d-998e-4ee0-98a9-f0805c7886b9');\n",
              "          const dataTable =\n",
              "            await google.colab.kernel.invokeFunction('convertToInteractive',\n",
              "                                                     [key], {});\n",
              "          if (!dataTable) return;\n",
              "\n",
              "          const docLinkHtml = 'Like what you see? Visit the ' +\n",
              "            '<a target=\"_blank\" href=https://colab.research.google.com/notebooks/data_table.ipynb>data table notebook</a>'\n",
              "            + ' to learn more about interactive tables.';\n",
              "          element.innerHTML = '';\n",
              "          dataTable['output_type'] = 'display_data';\n",
              "          await google.colab.output.renderOutput(dataTable, element);\n",
              "          const docLink = document.createElement('div');\n",
              "          docLink.innerHTML = docLinkHtml;\n",
              "          element.appendChild(docLink);\n",
              "        }\n",
              "      </script>\n",
              "    </div>\n",
              "  </div>\n",
              "  "
            ]
          },
          "metadata": {},
          "execution_count": 4
        }
      ]
    },
    {
      "cell_type": "code",
      "source": [
        "np.where(X.dtypes != int)"
      ],
      "metadata": {
        "id": "6FMR3S-mYtjP",
        "outputId": "acf941d5-9c77-43eb-a40d-849a885f97fe",
        "colab": {
          "base_uri": "https://localhost:8080/"
        }
      },
      "execution_count": null,
      "outputs": [
        {
          "output_type": "execute_result",
          "data": {
            "text/plain": [
              "(array([0, 1, 2, 4, 5, 6]),)"
            ]
          },
          "metadata": {},
          "execution_count": 78
        }
      ]
    },
    {
      "cell_type": "markdown",
      "source": [
        "Создайте список номеров колонок с категориальными признаками для бустингов\n",
        "\n",
        "## Quiz \n",
        "Какой длины получился список?\n",
        "\n",
        "(подсказка: колонка `DepTime` числовая)"
      ],
      "metadata": {
        "id": "WoeAqm7x7Of9"
      }
    },
    {
      "cell_type": "code",
      "source": [
        "cat_features = [0, 1, 2, 4, 5, 6]"
      ],
      "metadata": {
        "id": "f2_RDMSdxgtC"
      },
      "execution_count": null,
      "outputs": []
    },
    {
      "cell_type": "markdown",
      "source": [
        "Разобъем данные на обучение и контроль"
      ],
      "metadata": {
        "id": "AFUsTHb_7Tm0"
      }
    },
    {
      "cell_type": "code",
      "source": [
        "Xtrain, Xtest, ytrain, ytest = train_test_split(X, y, test_size=0.25, random_state=RANDOM_STATE)"
      ],
      "metadata": {
        "id": "b5hPnUwvwu_Z"
      },
      "execution_count": null,
      "outputs": []
    },
    {
      "cell_type": "code",
      "source": [
        "Xtrain.head()"
      ],
      "metadata": {
        "colab": {
          "base_uri": "https://localhost:8080/",
          "height": 206
        },
        "id": "EysJWEMy00fZ",
        "outputId": "0e88a5a9-6cb5-46d5-b6a2-5f73a30152d8"
      },
      "execution_count": null,
      "outputs": [
        {
          "output_type": "execute_result",
          "data": {
            "text/plain": [
              "      Month DayofMonth DayOfWeek  DepTime UniqueCarrier Origin Dest  Distance\n",
              "41207   c-4       c-18       c-1     1457            CO    EWR  TPA       998\n",
              "28283  c-11        c-1       c-2     1225            UA    DEN  BOS      1754\n",
              "34619   c-6       c-16       c-5     1650            YV    IAD  CAE       401\n",
              "8789    c-5       c-18       c-4      923            AA    SLC  DFW       988\n",
              "38315   c-2       c-14       c-2     1839            AA    STL  SAN      1558"
            ],
            "text/html": [
              "\n",
              "  <div id=\"df-37fc37d2-11d4-4c96-9ba6-c6dc282af42b\">\n",
              "    <div class=\"colab-df-container\">\n",
              "      <div>\n",
              "<style scoped>\n",
              "    .dataframe tbody tr th:only-of-type {\n",
              "        vertical-align: middle;\n",
              "    }\n",
              "\n",
              "    .dataframe tbody tr th {\n",
              "        vertical-align: top;\n",
              "    }\n",
              "\n",
              "    .dataframe thead th {\n",
              "        text-align: right;\n",
              "    }\n",
              "</style>\n",
              "<table border=\"1\" class=\"dataframe\">\n",
              "  <thead>\n",
              "    <tr style=\"text-align: right;\">\n",
              "      <th></th>\n",
              "      <th>Month</th>\n",
              "      <th>DayofMonth</th>\n",
              "      <th>DayOfWeek</th>\n",
              "      <th>DepTime</th>\n",
              "      <th>UniqueCarrier</th>\n",
              "      <th>Origin</th>\n",
              "      <th>Dest</th>\n",
              "      <th>Distance</th>\n",
              "    </tr>\n",
              "  </thead>\n",
              "  <tbody>\n",
              "    <tr>\n",
              "      <th>41207</th>\n",
              "      <td>c-4</td>\n",
              "      <td>c-18</td>\n",
              "      <td>c-1</td>\n",
              "      <td>1457</td>\n",
              "      <td>CO</td>\n",
              "      <td>EWR</td>\n",
              "      <td>TPA</td>\n",
              "      <td>998</td>\n",
              "    </tr>\n",
              "    <tr>\n",
              "      <th>28283</th>\n",
              "      <td>c-11</td>\n",
              "      <td>c-1</td>\n",
              "      <td>c-2</td>\n",
              "      <td>1225</td>\n",
              "      <td>UA</td>\n",
              "      <td>DEN</td>\n",
              "      <td>BOS</td>\n",
              "      <td>1754</td>\n",
              "    </tr>\n",
              "    <tr>\n",
              "      <th>34619</th>\n",
              "      <td>c-6</td>\n",
              "      <td>c-16</td>\n",
              "      <td>c-5</td>\n",
              "      <td>1650</td>\n",
              "      <td>YV</td>\n",
              "      <td>IAD</td>\n",
              "      <td>CAE</td>\n",
              "      <td>401</td>\n",
              "    </tr>\n",
              "    <tr>\n",
              "      <th>8789</th>\n",
              "      <td>c-5</td>\n",
              "      <td>c-18</td>\n",
              "      <td>c-4</td>\n",
              "      <td>923</td>\n",
              "      <td>AA</td>\n",
              "      <td>SLC</td>\n",
              "      <td>DFW</td>\n",
              "      <td>988</td>\n",
              "    </tr>\n",
              "    <tr>\n",
              "      <th>38315</th>\n",
              "      <td>c-2</td>\n",
              "      <td>c-14</td>\n",
              "      <td>c-2</td>\n",
              "      <td>1839</td>\n",
              "      <td>AA</td>\n",
              "      <td>STL</td>\n",
              "      <td>SAN</td>\n",
              "      <td>1558</td>\n",
              "    </tr>\n",
              "  </tbody>\n",
              "</table>\n",
              "</div>\n",
              "      <button class=\"colab-df-convert\" onclick=\"convertToInteractive('df-37fc37d2-11d4-4c96-9ba6-c6dc282af42b')\"\n",
              "              title=\"Convert this dataframe to an interactive table.\"\n",
              "              style=\"display:none;\">\n",
              "        \n",
              "  <svg xmlns=\"http://www.w3.org/2000/svg\" height=\"24px\"viewBox=\"0 0 24 24\"\n",
              "       width=\"24px\">\n",
              "    <path d=\"M0 0h24v24H0V0z\" fill=\"none\"/>\n",
              "    <path d=\"M18.56 5.44l.94 2.06.94-2.06 2.06-.94-2.06-.94-.94-2.06-.94 2.06-2.06.94zm-11 1L8.5 8.5l.94-2.06 2.06-.94-2.06-.94L8.5 2.5l-.94 2.06-2.06.94zm10 10l.94 2.06.94-2.06 2.06-.94-2.06-.94-.94-2.06-.94 2.06-2.06.94z\"/><path d=\"M17.41 7.96l-1.37-1.37c-.4-.4-.92-.59-1.43-.59-.52 0-1.04.2-1.43.59L10.3 9.45l-7.72 7.72c-.78.78-.78 2.05 0 2.83L4 21.41c.39.39.9.59 1.41.59.51 0 1.02-.2 1.41-.59l7.78-7.78 2.81-2.81c.8-.78.8-2.07 0-2.86zM5.41 20L4 18.59l7.72-7.72 1.47 1.35L5.41 20z\"/>\n",
              "  </svg>\n",
              "      </button>\n",
              "      \n",
              "  <style>\n",
              "    .colab-df-container {\n",
              "      display:flex;\n",
              "      flex-wrap:wrap;\n",
              "      gap: 12px;\n",
              "    }\n",
              "\n",
              "    .colab-df-convert {\n",
              "      background-color: #E8F0FE;\n",
              "      border: none;\n",
              "      border-radius: 50%;\n",
              "      cursor: pointer;\n",
              "      display: none;\n",
              "      fill: #1967D2;\n",
              "      height: 32px;\n",
              "      padding: 0 0 0 0;\n",
              "      width: 32px;\n",
              "    }\n",
              "\n",
              "    .colab-df-convert:hover {\n",
              "      background-color: #E2EBFA;\n",
              "      box-shadow: 0px 1px 2px rgba(60, 64, 67, 0.3), 0px 1px 3px 1px rgba(60, 64, 67, 0.15);\n",
              "      fill: #174EA6;\n",
              "    }\n",
              "\n",
              "    [theme=dark] .colab-df-convert {\n",
              "      background-color: #3B4455;\n",
              "      fill: #D2E3FC;\n",
              "    }\n",
              "\n",
              "    [theme=dark] .colab-df-convert:hover {\n",
              "      background-color: #434B5C;\n",
              "      box-shadow: 0px 1px 3px 1px rgba(0, 0, 0, 0.15);\n",
              "      filter: drop-shadow(0px 1px 2px rgba(0, 0, 0, 0.3));\n",
              "      fill: #FFFFFF;\n",
              "    }\n",
              "  </style>\n",
              "\n",
              "      <script>\n",
              "        const buttonEl =\n",
              "          document.querySelector('#df-37fc37d2-11d4-4c96-9ba6-c6dc282af42b button.colab-df-convert');\n",
              "        buttonEl.style.display =\n",
              "          google.colab.kernel.accessAllowed ? 'block' : 'none';\n",
              "\n",
              "        async function convertToInteractive(key) {\n",
              "          const element = document.querySelector('#df-37fc37d2-11d4-4c96-9ba6-c6dc282af42b');\n",
              "          const dataTable =\n",
              "            await google.colab.kernel.invokeFunction('convertToInteractive',\n",
              "                                                     [key], {});\n",
              "          if (!dataTable) return;\n",
              "\n",
              "          const docLinkHtml = 'Like what you see? Visit the ' +\n",
              "            '<a target=\"_blank\" href=https://colab.research.google.com/notebooks/data_table.ipynb>data table notebook</a>'\n",
              "            + ' to learn more about interactive tables.';\n",
              "          element.innerHTML = '';\n",
              "          dataTable['output_type'] = 'display_data';\n",
              "          await google.colab.output.renderOutput(dataTable, element);\n",
              "          const docLink = document.createElement('div');\n",
              "          docLink.innerHTML = docLinkHtml;\n",
              "          element.appendChild(docLink);\n",
              "        }\n",
              "      </script>\n",
              "    </div>\n",
              "  </div>\n",
              "  "
            ]
          },
          "metadata": {},
          "execution_count": 83
        }
      ]
    },
    {
      "cell_type": "markdown",
      "source": [
        "## Модели с параметрами по умолчанию"
      ],
      "metadata": {
        "id": "8E9ZC9UXymeu"
      }
    },
    {
      "cell_type": "markdown",
      "source": [
        "Обучите CatBoost с гиперпараметрами по умолчанию.\n",
        "\n",
        "## Quiz\n",
        "Чему равен ROC-AUC на тестовых данных? Ответ округлите до сотых."
      ],
      "metadata": {
        "id": "BiT-smHxypQx"
      }
    },
    {
      "cell_type": "code",
      "source": [
        "# your code here\n",
        "ctb = CatBoostClassifier()\n",
        "\n",
        "ctb.fit(Xtrain, ytrain, cat_features=cat_features)"
      ],
      "metadata": {
        "id": "vdjpjT1Gw8ff"
      },
      "execution_count": null,
      "outputs": []
    },
    {
      "cell_type": "code",
      "source": [
        "pred_ctb = ctb.predict(Xtest)"
      ],
      "metadata": {
        "id": "9sLFSWJzecxK"
      },
      "execution_count": null,
      "outputs": []
    },
    {
      "cell_type": "code",
      "source": [
        "pred_ctb_proba = ctb.predict_log_proba(Xtest)"
      ],
      "metadata": {
        "id": "q_L0DReBnO65"
      },
      "execution_count": null,
      "outputs": []
    },
    {
      "cell_type": "code",
      "source": [
        "pred_ctb_new = pred_ctb.loc[:, 0].map({'False': False, 'True': True})"
      ],
      "metadata": {
        "id": "k2YdZlNXexh2"
      },
      "execution_count": null,
      "outputs": []
    },
    {
      "cell_type": "code",
      "source": [
        "pred_ctb_proba[:, 1]"
      ],
      "metadata": {
        "id": "-FPh94vhfn68",
        "outputId": "d296a040-7f52-4591-de7a-ac9c20a86873",
        "colab": {
          "base_uri": "https://localhost:8080/"
        }
      },
      "execution_count": null,
      "outputs": [
        {
          "output_type": "execute_result",
          "data": {
            "text/plain": [
              "array([-1.75342269, -2.42810111, -0.95201183, ..., -1.89488467,\n",
              "       -2.69849154, -2.5462616 ])"
            ]
          },
          "metadata": {},
          "execution_count": 94
        }
      ]
    },
    {
      "cell_type": "code",
      "source": [
        "roc_auc_score(ytest, pred_ctb_proba[:, 1])"
      ],
      "metadata": {
        "id": "IHBI4AKfekq_",
        "outputId": "7225408e-8d18-435e-bed4-388799688d6e",
        "colab": {
          "base_uri": "https://localhost:8080/"
        }
      },
      "execution_count": null,
      "outputs": [
        {
          "output_type": "execute_result",
          "data": {
            "text/plain": [
              "0.7670858940177856"
            ]
          },
          "metadata": {},
          "execution_count": 93
        }
      ]
    },
    {
      "cell_type": "markdown",
      "source": [
        "Обучите LightGBM с гиперпараметрами по умолчанию.\n",
        "\n",
        "## Quiz\n",
        "Чему равен ROC-AUC на тестовых данных? Ответ округлите до сотых."
      ],
      "metadata": {
        "id": "fBO2HEaAy61O"
      }
    },
    {
      "cell_type": "code",
      "source": [
        "for c in X.columns:\n",
        "    col_type = X[c].dtype\n",
        "    if col_type == 'object' or col_type.name == 'category':\n",
        "        Xtrain[c] = Xtrain[c].astype('category')\n",
        "        Xtest[c] = Xtest[c].astype('category')"
      ],
      "metadata": {
        "id": "G_g3Ead3yZ5v"
      },
      "execution_count": null,
      "outputs": []
    },
    {
      "cell_type": "code",
      "source": [
        "# your code her\n",
        "from lightgbm import LGBMClassifier\n",
        "\n",
        "lgbm = LGBMClassifier()\n",
        "\n",
        "lgbm.fit(Xtrain, ytrain)"
      ],
      "metadata": {
        "id": "Z2jPIID3xUPw",
        "outputId": "08c46e9e-a3aa-4725-b3b4-e6387af9480c",
        "colab": {
          "base_uri": "https://localhost:8080/",
          "height": 75
        }
      },
      "execution_count": null,
      "outputs": [
        {
          "output_type": "execute_result",
          "data": {
            "text/plain": [
              "LGBMClassifier()"
            ],
            "text/html": [
              "<style>#sk-container-id-1 {color: black;background-color: white;}#sk-container-id-1 pre{padding: 0;}#sk-container-id-1 div.sk-toggleable {background-color: white;}#sk-container-id-1 label.sk-toggleable__label {cursor: pointer;display: block;width: 100%;margin-bottom: 0;padding: 0.3em;box-sizing: border-box;text-align: center;}#sk-container-id-1 label.sk-toggleable__label-arrow:before {content: \"▸\";float: left;margin-right: 0.25em;color: #696969;}#sk-container-id-1 label.sk-toggleable__label-arrow:hover:before {color: black;}#sk-container-id-1 div.sk-estimator:hover label.sk-toggleable__label-arrow:before {color: black;}#sk-container-id-1 div.sk-toggleable__content {max-height: 0;max-width: 0;overflow: hidden;text-align: left;background-color: #f0f8ff;}#sk-container-id-1 div.sk-toggleable__content pre {margin: 0.2em;color: black;border-radius: 0.25em;background-color: #f0f8ff;}#sk-container-id-1 input.sk-toggleable__control:checked~div.sk-toggleable__content {max-height: 200px;max-width: 100%;overflow: auto;}#sk-container-id-1 input.sk-toggleable__control:checked~label.sk-toggleable__label-arrow:before {content: \"▾\";}#sk-container-id-1 div.sk-estimator input.sk-toggleable__control:checked~label.sk-toggleable__label {background-color: #d4ebff;}#sk-container-id-1 div.sk-label input.sk-toggleable__control:checked~label.sk-toggleable__label {background-color: #d4ebff;}#sk-container-id-1 input.sk-hidden--visually {border: 0;clip: rect(1px 1px 1px 1px);clip: rect(1px, 1px, 1px, 1px);height: 1px;margin: -1px;overflow: hidden;padding: 0;position: absolute;width: 1px;}#sk-container-id-1 div.sk-estimator {font-family: monospace;background-color: #f0f8ff;border: 1px dotted black;border-radius: 0.25em;box-sizing: border-box;margin-bottom: 0.5em;}#sk-container-id-1 div.sk-estimator:hover {background-color: #d4ebff;}#sk-container-id-1 div.sk-parallel-item::after {content: \"\";width: 100%;border-bottom: 1px solid gray;flex-grow: 1;}#sk-container-id-1 div.sk-label:hover label.sk-toggleable__label {background-color: #d4ebff;}#sk-container-id-1 div.sk-serial::before {content: \"\";position: absolute;border-left: 1px solid gray;box-sizing: border-box;top: 0;bottom: 0;left: 50%;z-index: 0;}#sk-container-id-1 div.sk-serial {display: flex;flex-direction: column;align-items: center;background-color: white;padding-right: 0.2em;padding-left: 0.2em;position: relative;}#sk-container-id-1 div.sk-item {position: relative;z-index: 1;}#sk-container-id-1 div.sk-parallel {display: flex;align-items: stretch;justify-content: center;background-color: white;position: relative;}#sk-container-id-1 div.sk-item::before, #sk-container-id-1 div.sk-parallel-item::before {content: \"\";position: absolute;border-left: 1px solid gray;box-sizing: border-box;top: 0;bottom: 0;left: 50%;z-index: -1;}#sk-container-id-1 div.sk-parallel-item {display: flex;flex-direction: column;z-index: 1;position: relative;background-color: white;}#sk-container-id-1 div.sk-parallel-item:first-child::after {align-self: flex-end;width: 50%;}#sk-container-id-1 div.sk-parallel-item:last-child::after {align-self: flex-start;width: 50%;}#sk-container-id-1 div.sk-parallel-item:only-child::after {width: 0;}#sk-container-id-1 div.sk-dashed-wrapped {border: 1px dashed gray;margin: 0 0.4em 0.5em 0.4em;box-sizing: border-box;padding-bottom: 0.4em;background-color: white;}#sk-container-id-1 div.sk-label label {font-family: monospace;font-weight: bold;display: inline-block;line-height: 1.2em;}#sk-container-id-1 div.sk-label-container {text-align: center;}#sk-container-id-1 div.sk-container {/* jupyter's `normalize.less` sets `[hidden] { display: none; }` but bootstrap.min.css set `[hidden] { display: none !important; }` so we also need the `!important` here to be able to override the default hidden behavior on the sphinx rendered scikit-learn.org. See: https://github.com/scikit-learn/scikit-learn/issues/21755 */display: inline-block !important;position: relative;}#sk-container-id-1 div.sk-text-repr-fallback {display: none;}</style><div id=\"sk-container-id-1\" class=\"sk-top-container\"><div class=\"sk-text-repr-fallback\"><pre>LGBMClassifier()</pre><b>In a Jupyter environment, please rerun this cell to show the HTML representation or trust the notebook. <br />On GitHub, the HTML representation is unable to render, please try loading this page with nbviewer.org.</b></div><div class=\"sk-container\" hidden><div class=\"sk-item\"><div class=\"sk-estimator sk-toggleable\"><input class=\"sk-toggleable__control sk-hidden--visually\" id=\"sk-estimator-id-1\" type=\"checkbox\" checked><label for=\"sk-estimator-id-1\" class=\"sk-toggleable__label sk-toggleable__label-arrow\">LGBMClassifier</label><div class=\"sk-toggleable__content\"><pre>LGBMClassifier()</pre></div></div></div></div></div>"
            ]
          },
          "metadata": {},
          "execution_count": 96
        }
      ]
    },
    {
      "cell_type": "code",
      "source": [
        "predict_lgbm = lgbm.predict_proba(Xtest)"
      ],
      "metadata": {
        "id": "iQa-eOXwoqp6"
      },
      "execution_count": null,
      "outputs": []
    },
    {
      "cell_type": "code",
      "source": [
        "predict_lgbm"
      ],
      "metadata": {
        "id": "NZQYI8IJo1y1",
        "outputId": "2ae47484-f59e-430c-95be-58d7cbc61c1b",
        "colab": {
          "base_uri": "https://localhost:8080/"
        }
      },
      "execution_count": null,
      "outputs": [
        {
          "output_type": "execute_result",
          "data": {
            "text/plain": [
              "array([[0.78626587, 0.21373413],\n",
              "       [0.92100173, 0.07899827],\n",
              "       [0.36394802, 0.63605198],\n",
              "       ...,\n",
              "       [0.89451522, 0.10548478],\n",
              "       [0.93734167, 0.06265833],\n",
              "       [0.88555497, 0.11444503]])"
            ]
          },
          "metadata": {},
          "execution_count": 98
        }
      ]
    },
    {
      "cell_type": "code",
      "source": [
        "roc_auc_score(ytest, predict_lgbm[:, 1])"
      ],
      "metadata": {
        "id": "H9zE5X75o5a3",
        "outputId": "02544808-b01f-4be6-a78b-277826dcd5d1",
        "colab": {
          "base_uri": "https://localhost:8080/"
        }
      },
      "execution_count": null,
      "outputs": [
        {
          "output_type": "execute_result",
          "data": {
            "text/plain": [
              "0.7341149074685321"
            ]
          },
          "metadata": {},
          "execution_count": 100
        }
      ]
    },
    {
      "cell_type": "markdown",
      "source": [
        "## Optuna"
      ],
      "metadata": {
        "id": "zazHv43vzn2e"
      }
    },
    {
      "cell_type": "markdown",
      "source": [
        "Выделим дополнительную валидационную выборку."
      ],
      "metadata": {
        "id": "MGaTMoDr7cvz"
      }
    },
    {
      "cell_type": "code",
      "source": [
        "Xtrain_new, Xval, ytrain_new, yval = train_test_split(Xtrain, ytrain, test_size=0.25, random_state=RANDOM_STATE)"
      ],
      "metadata": {
        "id": "meyw3CyV1aF_"
      },
      "execution_count": null,
      "outputs": []
    },
    {
      "cell_type": "markdown",
      "source": [
        "Создайте функцию objective_lgbm, в которой среди гиперпараметров\n",
        "\n",
        "* num_leaves = trial.suggest_int(\"num_leaves\", 10, 100)\n",
        "* n_estimators = trial.suggest_int(\"n_estimators\", 10, 1000)\n",
        "\n",
        "подберите оптимальные, обучая LGBM на Xtrain_new, ytrain_new и проверяя качество (ROC-AUC) на Xval.\n",
        "\n",
        "Используйте 30 эпох обучения Optuna.\n"
      ],
      "metadata": {
        "id": "RatJBHjn1tq2"
      }
    },
    {
      "cell_type": "code",
      "source": [
        "# your code here\n",
        "def objective_lgbm(trial):\n",
        "    num_leaves = trial.suggest_int(\"num_leaves\", 10, 100)\n",
        "    n_estimators = trial.suggest_int('n_estimators', 10, 1000)\n",
        "    learning_rate = trial.suggest_float('learning_rate', 1e-5, 1, log=True)\n",
        "    max_depth = trial.suggest_int('max_depth', 1, 100)\n",
        "    cv =trial.suggest_int('cv', 3, 10)\n",
        "\n",
        "    score = cross_val_score(LGBMClassifier(num_leaves=num_leaves, n_estimators=n_estimators, learning_rate=learning_rate, max_depth=max_depth), Xtrain_new, ytrain_new, cv=cv, scoring='roc_auc', n_jobs=-1).mean()\n",
        "    \n",
        "    return score"
      ],
      "metadata": {
        "id": "YgOH1GMFzhW1"
      },
      "execution_count": null,
      "outputs": []
    },
    {
      "cell_type": "code",
      "source": [
        "study = optuna.create_study(direction='maximize')\n",
        "study.optimize(objective_lgbm, n_trials=30)\n",
        "study.best_params"
      ],
      "metadata": {
        "id": "fpPS4-E-2Ycm",
        "outputId": "4a6e6561-68ee-414e-8893-08894bf8c914",
        "colab": {
          "base_uri": "https://localhost:8080/"
        }
      },
      "execution_count": null,
      "outputs": [
        {
          "output_type": "stream",
          "name": "stderr",
          "text": [
            "\u001b[32m[I 2023-04-03 21:04:11,771]\u001b[0m A new study created in memory with name: no-name-a9fd33c2-7786-46c2-9157-27ba980c9014\u001b[0m\n",
            "\u001b[32m[I 2023-04-03 21:04:23,550]\u001b[0m Trial 0 finished with value: 0.7033277587441731 and parameters: {'num_leaves': 38, 'n_estimators': 496, 'learning_rate': 0.00048430933833997625, 'max_depth': 4, 'cv': 4}. Best is trial 0 with value: 0.7033277587441731.\u001b[0m\n",
            "\u001b[32m[I 2023-04-03 21:04:49,693]\u001b[0m Trial 1 finished with value: 0.6896272867741174 and parameters: {'num_leaves': 12, 'n_estimators': 703, 'learning_rate': 1.0635926973783392e-05, 'max_depth': 90, 'cv': 7}. Best is trial 0 with value: 0.7033277587441731.\u001b[0m\n",
            "\u001b[32m[I 2023-04-03 21:05:12,024]\u001b[0m Trial 2 finished with value: 0.696501892228065 and parameters: {'num_leaves': 92, 'n_estimators': 280, 'learning_rate': 3.70838275826695e-05, 'max_depth': 75, 'cv': 8}. Best is trial 0 with value: 0.7033277587441731.\u001b[0m\n",
            "\u001b[32m[I 2023-04-03 21:05:57,608]\u001b[0m Trial 3 finished with value: 0.7184088460519027 and parameters: {'num_leaves': 49, 'n_estimators': 969, 'learning_rate': 0.049022333841556846, 'max_depth': 34, 'cv': 7}. Best is trial 3 with value: 0.7184088460519027.\u001b[0m\n",
            "\u001b[32m[I 2023-04-03 21:06:17,097]\u001b[0m Trial 4 finished with value: 0.7002296214911146 and parameters: {'num_leaves': 12, 'n_estimators': 529, 'learning_rate': 0.0002126048162801669, 'max_depth': 36, 'cv': 8}. Best is trial 3 with value: 0.7184088460519027.\u001b[0m\n",
            "\u001b[32m[I 2023-04-03 21:06:33,909]\u001b[0m Trial 5 finished with value: 0.7066412183169968 and parameters: {'num_leaves': 35, 'n_estimators': 287, 'learning_rate': 0.00043470677891991255, 'max_depth': 62, 'cv': 8}. Best is trial 3 with value: 0.7184088460519027.\u001b[0m\n",
            "\u001b[32m[I 2023-04-03 21:06:44,386]\u001b[0m Trial 6 finished with value: 0.7221656517661722 and parameters: {'num_leaves': 18, 'n_estimators': 208, 'learning_rate': 0.011933207857702922, 'max_depth': 27, 'cv': 9}. Best is trial 6 with value: 0.7221656517661722.\u001b[0m\n",
            "\u001b[32m[I 2023-04-03 21:08:12,423]\u001b[0m Trial 7 finished with value: 0.6987871947154718 and parameters: {'num_leaves': 93, 'n_estimators': 839, 'learning_rate': 3.3498234154418514e-05, 'max_depth': 73, 'cv': 10}. Best is trial 6 with value: 0.7221656517661722.\u001b[0m\n",
            "\u001b[32m[I 2023-04-03 21:08:51,322]\u001b[0m Trial 8 finished with value: 0.7248458733868709 and parameters: {'num_leaves': 85, 'n_estimators': 361, 'learning_rate': 0.007318873762473181, 'max_depth': 42, 'cv': 10}. Best is trial 8 with value: 0.7248458733868709.\u001b[0m\n",
            "\u001b[32m[I 2023-04-03 21:08:56,831]\u001b[0m Trial 9 finished with value: 0.6903441334902755 and parameters: {'num_leaves': 59, 'n_estimators': 143, 'learning_rate': 0.43214856430383536, 'max_depth': 79, 'cv': 6}. Best is trial 8 with value: 0.7248458733868709.\u001b[0m\n",
            "\u001b[32m[I 2023-04-03 21:09:00,187]\u001b[0m Trial 10 finished with value: 0.6816147181967387 and parameters: {'num_leaves': 74, 'n_estimators': 460, 'learning_rate': 0.003404943625880058, 'max_depth': 1, 'cv': 4}. Best is trial 8 with value: 0.7248458733868709.\u001b[0m\n",
            "\u001b[32m[I 2023-04-03 21:09:03,104]\u001b[0m Trial 11 finished with value: 0.7092203461870452 and parameters: {'num_leaves': 73, 'n_estimators': 18, 'learning_rate': 0.010205808186034636, 'max_depth': 27, 'cv': 10}. Best is trial 8 with value: 0.7248458733868709.\u001b[0m\n",
            "\u001b[32m[I 2023-04-03 21:09:38,695]\u001b[0m Trial 12 finished with value: 0.72528825034355 and parameters: {'num_leaves': 73, 'n_estimators': 331, 'learning_rate': 0.016578305349341203, 'max_depth': 49, 'cv': 10}. Best is trial 12 with value: 0.72528825034355.\u001b[0m\n",
            "\u001b[32m[I 2023-04-03 21:10:09,963]\u001b[0m Trial 13 finished with value: 0.7186617477728623 and parameters: {'num_leaves': 78, 'n_estimators': 387, 'learning_rate': 0.07377445122537656, 'max_depth': 55, 'cv': 10}. Best is trial 12 with value: 0.72528825034355.\u001b[0m\n",
            "\u001b[32m[I 2023-04-03 21:11:12,788]\u001b[0m Trial 14 finished with value: 0.7195719883104704 and parameters: {'num_leaves': 99, 'n_estimators': 618, 'learning_rate': 0.0017428353287395337, 'max_depth': 43, 'cv': 9}. Best is trial 12 with value: 0.72528825034355.\u001b[0m\n",
            "\u001b[32m[I 2023-04-03 21:11:28,963]\u001b[0m Trial 15 finished with value: 0.6945071203710832 and parameters: {'num_leaves': 83, 'n_estimators': 368, 'learning_rate': 0.7282663984708886, 'max_depth': 18, 'cv': 5}. Best is trial 12 with value: 0.72528825034355.\u001b[0m\n",
            "\u001b[32m[I 2023-04-03 21:11:37,444]\u001b[0m Trial 16 finished with value: 0.724002668114026 and parameters: {'num_leaves': 61, 'n_estimators': 85, 'learning_rate': 0.04837505532185103, 'max_depth': 49, 'cv': 9}. Best is trial 12 with value: 0.72528825034355.\u001b[0m\n",
            "\u001b[32m[I 2023-04-03 21:12:16,605]\u001b[0m Trial 17 finished with value: 0.7236531441335053 and parameters: {'num_leaves': 65, 'n_estimators': 651, 'learning_rate': 0.009930884702582188, 'max_depth': 60, 'cv': 6}. Best is trial 12 with value: 0.72528825034355.\u001b[0m\n",
            "\u001b[32m[I 2023-04-03 21:12:23,789]\u001b[0m Trial 18 finished with value: 0.7041981779016732 and parameters: {'num_leaves': 86, 'n_estimators': 264, 'learning_rate': 0.14625314206255735, 'max_depth': 99, 'cv': 3}. Best is trial 12 with value: 0.72528825034355.\u001b[0m\n",
            "\u001b[32m[I 2023-04-03 21:12:59,433]\u001b[0m Trial 19 finished with value: 0.7202894132542335 and parameters: {'num_leaves': 49, 'n_estimators': 413, 'learning_rate': 0.00294397704865193, 'max_depth': 44, 'cv': 10}. Best is trial 12 with value: 0.72528825034355.\u001b[0m\n",
            "\u001b[32m[I 2023-04-03 21:13:47,249]\u001b[0m Trial 20 finished with value: 0.7237433581690365 and parameters: {'num_leaves': 70, 'n_estimators': 544, 'learning_rate': 0.018319814618102403, 'max_depth': 15, 'cv': 9}. Best is trial 12 with value: 0.72528825034355.\u001b[0m\n",
            "\u001b[32m[I 2023-04-03 21:13:54,336]\u001b[0m Trial 21 finished with value: 0.723694520006139 and parameters: {'num_leaves': 56, 'n_estimators': 68, 'learning_rate': 0.045021317922011424, 'max_depth': 49, 'cv': 9}. Best is trial 12 with value: 0.72528825034355.\u001b[0m\n",
            "\u001b[32m[I 2023-04-03 21:14:06,357]\u001b[0m Trial 22 finished with value: 0.7120146485798566 and parameters: {'num_leaves': 64, 'n_estimators': 146, 'learning_rate': 0.15277026333327332, 'max_depth': 65, 'cv': 10}. Best is trial 12 with value: 0.72528825034355.\u001b[0m\n",
            "\u001b[32m[I 2023-04-03 21:14:20,371]\u001b[0m Trial 23 finished with value: 0.7249402851598102 and parameters: {'num_leaves': 82, 'n_estimators': 143, 'learning_rate': 0.026468323734638095, 'max_depth': 51, 'cv': 9}. Best is trial 12 with value: 0.72528825034355.\u001b[0m\n",
            "\u001b[32m[I 2023-04-03 21:14:49,583]\u001b[0m Trial 24 finished with value: 0.7223961012114243 and parameters: {'num_leaves': 83, 'n_estimators': 340, 'learning_rate': 0.02234065176211208, 'max_depth': 36, 'cv': 8}. Best is trial 12 with value: 0.72528825034355.\u001b[0m\n",
            "\u001b[32m[I 2023-04-03 21:15:10,626]\u001b[0m Trial 25 finished with value: 0.7210172151728724 and parameters: {'num_leaves': 89, 'n_estimators': 209, 'learning_rate': 0.006352451273111061, 'max_depth': 54, 'cv': 10}. Best is trial 12 with value: 0.72528825034355.\u001b[0m\n",
            "\u001b[32m[I 2023-04-03 21:15:31,309]\u001b[0m Trial 26 finished with value: 0.7247504985398406 and parameters: {'num_leaves': 98, 'n_estimators': 187, 'learning_rate': 0.022626684434439832, 'max_depth': 67, 'cv': 9}. Best is trial 12 with value: 0.72528825034355.\u001b[0m\n",
            "\u001b[32m[I 2023-04-03 21:15:54,210]\u001b[0m Trial 27 finished with value: 0.7226011593317179 and parameters: {'num_leaves': 78, 'n_estimators': 310, 'learning_rate': 0.005251134154645455, 'max_depth': 43, 'cv': 7}. Best is trial 12 with value: 0.72528825034355.\u001b[0m\n",
            "\u001b[32m[I 2023-04-03 21:15:56,026]\u001b[0m Trial 28 finished with value: 0.6966086821928892 and parameters: {'num_leaves': 80, 'n_estimators': 10, 'learning_rate': 0.0015547186651217108, 'max_depth': 30, 'cv': 10}. Best is trial 12 with value: 0.72528825034355.\u001b[0m\n",
            "\u001b[32m[I 2023-04-03 21:16:30,732]\u001b[0m Trial 29 finished with value: 0.7168317920601444 and parameters: {'num_leaves': 69, 'n_estimators': 469, 'learning_rate': 0.0017045289128754867, 'max_depth': 18, 'cv': 8}. Best is trial 12 with value: 0.72528825034355.\u001b[0m\n"
          ]
        },
        {
          "output_type": "execute_result",
          "data": {
            "text/plain": [
              "{'num_leaves': 73,\n",
              " 'n_estimators': 331,\n",
              " 'learning_rate': 0.016578305349341203,\n",
              " 'max_depth': 49,\n",
              " 'cv': 10}"
            ]
          },
          "metadata": {},
          "execution_count": 115
        }
      ]
    },
    {
      "cell_type": "markdown",
      "source": [
        "Обучите модель с найденными гиперпараметрами на Xtrain, ytrain и оцените ROC-AUC на тестовых данных."
      ],
      "metadata": {
        "id": "VSWz4A5w7mpW"
      }
    },
    {
      "cell_type": "code",
      "source": [
        "# your code here\n",
        "lgbm_new = LGBMClassifier(**{'num_leaves': 73,\n",
        " 'n_estimators': 331,\n",
        " 'learning_rate': 0.016578305349341203,\n",
        " 'max_depth': 49})\n",
        "lgbm_new.fit(Xtrain, ytrain)"
      ],
      "metadata": {
        "id": "C2i6MY720D1Y",
        "outputId": "f19d5cdf-6343-4af5-b7a7-54d0daeff713",
        "colab": {
          "base_uri": "https://localhost:8080/",
          "height": 92
        }
      },
      "execution_count": null,
      "outputs": [
        {
          "output_type": "execute_result",
          "data": {
            "text/plain": [
              "LGBMClassifier(learning_rate=0.016578305349341203, max_depth=49,\n",
              "               n_estimators=331, num_leaves=73)"
            ],
            "text/html": [
              "<style>#sk-container-id-5 {color: black;background-color: white;}#sk-container-id-5 pre{padding: 0;}#sk-container-id-5 div.sk-toggleable {background-color: white;}#sk-container-id-5 label.sk-toggleable__label {cursor: pointer;display: block;width: 100%;margin-bottom: 0;padding: 0.3em;box-sizing: border-box;text-align: center;}#sk-container-id-5 label.sk-toggleable__label-arrow:before {content: \"▸\";float: left;margin-right: 0.25em;color: #696969;}#sk-container-id-5 label.sk-toggleable__label-arrow:hover:before {color: black;}#sk-container-id-5 div.sk-estimator:hover label.sk-toggleable__label-arrow:before {color: black;}#sk-container-id-5 div.sk-toggleable__content {max-height: 0;max-width: 0;overflow: hidden;text-align: left;background-color: #f0f8ff;}#sk-container-id-5 div.sk-toggleable__content pre {margin: 0.2em;color: black;border-radius: 0.25em;background-color: #f0f8ff;}#sk-container-id-5 input.sk-toggleable__control:checked~div.sk-toggleable__content {max-height: 200px;max-width: 100%;overflow: auto;}#sk-container-id-5 input.sk-toggleable__control:checked~label.sk-toggleable__label-arrow:before {content: \"▾\";}#sk-container-id-5 div.sk-estimator input.sk-toggleable__control:checked~label.sk-toggleable__label {background-color: #d4ebff;}#sk-container-id-5 div.sk-label input.sk-toggleable__control:checked~label.sk-toggleable__label {background-color: #d4ebff;}#sk-container-id-5 input.sk-hidden--visually {border: 0;clip: rect(1px 1px 1px 1px);clip: rect(1px, 1px, 1px, 1px);height: 1px;margin: -1px;overflow: hidden;padding: 0;position: absolute;width: 1px;}#sk-container-id-5 div.sk-estimator {font-family: monospace;background-color: #f0f8ff;border: 1px dotted black;border-radius: 0.25em;box-sizing: border-box;margin-bottom: 0.5em;}#sk-container-id-5 div.sk-estimator:hover {background-color: #d4ebff;}#sk-container-id-5 div.sk-parallel-item::after {content: \"\";width: 100%;border-bottom: 1px solid gray;flex-grow: 1;}#sk-container-id-5 div.sk-label:hover label.sk-toggleable__label {background-color: #d4ebff;}#sk-container-id-5 div.sk-serial::before {content: \"\";position: absolute;border-left: 1px solid gray;box-sizing: border-box;top: 0;bottom: 0;left: 50%;z-index: 0;}#sk-container-id-5 div.sk-serial {display: flex;flex-direction: column;align-items: center;background-color: white;padding-right: 0.2em;padding-left: 0.2em;position: relative;}#sk-container-id-5 div.sk-item {position: relative;z-index: 1;}#sk-container-id-5 div.sk-parallel {display: flex;align-items: stretch;justify-content: center;background-color: white;position: relative;}#sk-container-id-5 div.sk-item::before, #sk-container-id-5 div.sk-parallel-item::before {content: \"\";position: absolute;border-left: 1px solid gray;box-sizing: border-box;top: 0;bottom: 0;left: 50%;z-index: -1;}#sk-container-id-5 div.sk-parallel-item {display: flex;flex-direction: column;z-index: 1;position: relative;background-color: white;}#sk-container-id-5 div.sk-parallel-item:first-child::after {align-self: flex-end;width: 50%;}#sk-container-id-5 div.sk-parallel-item:last-child::after {align-self: flex-start;width: 50%;}#sk-container-id-5 div.sk-parallel-item:only-child::after {width: 0;}#sk-container-id-5 div.sk-dashed-wrapped {border: 1px dashed gray;margin: 0 0.4em 0.5em 0.4em;box-sizing: border-box;padding-bottom: 0.4em;background-color: white;}#sk-container-id-5 div.sk-label label {font-family: monospace;font-weight: bold;display: inline-block;line-height: 1.2em;}#sk-container-id-5 div.sk-label-container {text-align: center;}#sk-container-id-5 div.sk-container {/* jupyter's `normalize.less` sets `[hidden] { display: none; }` but bootstrap.min.css set `[hidden] { display: none !important; }` so we also need the `!important` here to be able to override the default hidden behavior on the sphinx rendered scikit-learn.org. See: https://github.com/scikit-learn/scikit-learn/issues/21755 */display: inline-block !important;position: relative;}#sk-container-id-5 div.sk-text-repr-fallback {display: none;}</style><div id=\"sk-container-id-5\" class=\"sk-top-container\"><div class=\"sk-text-repr-fallback\"><pre>LGBMClassifier(learning_rate=0.016578305349341203, max_depth=49,\n",
              "               n_estimators=331, num_leaves=73)</pre><b>In a Jupyter environment, please rerun this cell to show the HTML representation or trust the notebook. <br />On GitHub, the HTML representation is unable to render, please try loading this page with nbviewer.org.</b></div><div class=\"sk-container\" hidden><div class=\"sk-item\"><div class=\"sk-estimator sk-toggleable\"><input class=\"sk-toggleable__control sk-hidden--visually\" id=\"sk-estimator-id-5\" type=\"checkbox\" checked><label for=\"sk-estimator-id-5\" class=\"sk-toggleable__label sk-toggleable__label-arrow\">LGBMClassifier</label><div class=\"sk-toggleable__content\"><pre>LGBMClassifier(learning_rate=0.016578305349341203, max_depth=49,\n",
              "               n_estimators=331, num_leaves=73)</pre></div></div></div></div></div>"
            ]
          },
          "metadata": {},
          "execution_count": 117
        }
      ]
    },
    {
      "cell_type": "code",
      "source": [
        "roc_auc_score(ytest, lgbm_new.predict_proba(Xtest)[:, 1])"
      ],
      "metadata": {
        "id": "BvRUYL31yc41",
        "outputId": "2586adab-e3ac-4f00-b9c4-2790c1ba94dc",
        "colab": {
          "base_uri": "https://localhost:8080/"
        }
      },
      "execution_count": null,
      "outputs": [
        {
          "output_type": "execute_result",
          "data": {
            "text/plain": [
              "0.7362538105429639"
            ]
          },
          "metadata": {},
          "execution_count": 118
        }
      ]
    },
    {
      "cell_type": "markdown",
      "source": [
        "## Quiz\n",
        "\n",
        "Чему равно количество листьев в LGBM после подбора гиперпараметров? "
      ],
      "metadata": {
        "id": "bP4nfUCA5gnm"
      }
    },
    {
      "cell_type": "markdown",
      "source": [
        "## Работа над улучшением модели\n",
        "\n",
        "* Попробуйте при помощи Optuna подобрать и другие гиперпарамтеры\n",
        "* Также подберите гиперпараметры у CatBoost (а не только у LightGBM)"
      ],
      "metadata": {
        "id": "pPVSkXK76b17"
      }
    },
    {
      "cell_type": "code",
      "source": [
        "def objective_lgbm_new(trial):\n",
        "    num_leaves = trial.suggest_int(\"num_leaves\", 10, 100)\n",
        "    min_split_gain = trial.suggest_float('min_split_gain', 0.01, 0.07)\n",
        "    reg_alpha = trial.suggest_float('reg_alpha', 0., 0.5)\n",
        "    reg_lambda = trial.suggest_float('reg_lambda', 0., 0.5)\n",
        "    n_estimators = trial.suggest_int('n_estimators', 10, 1000)\n",
        "    learning_rate = trial.suggest_float('learning_rate', 1e-5, 1, log=True)\n",
        "    max_depth = trial.suggest_int('max_depth', 1, 100)\n",
        "\n",
        "    score = cross_val_score(LGBMClassifier(min_split_gain=min_split_gain, reg_alpha=reg_alpha, reg_lambda=reg_lambda,  num_leaves=num_leaves, n_estimators=n_estimators, learning_rate=learning_rate, max_depth=max_depth, ), Xtrain_new, ytrain_new, cv=3, scoring='roc_auc', n_jobs=-1).mean()\n",
        "    \n",
        "    return score"
      ],
      "metadata": {
        "id": "NJa-G9FfzZ4P"
      },
      "execution_count": null,
      "outputs": []
    },
    {
      "cell_type": "code",
      "source": [
        "study = optuna.create_study(direction='maximize')\n",
        "study.optimize(objective_lgbm_new, n_trials=50)\n",
        "study.best_params"
      ],
      "metadata": {
        "id": "FvUJ31243x-l",
        "outputId": "605a8e55-08e6-478b-d9b0-ba59e7dda865",
        "colab": {
          "base_uri": "https://localhost:8080/"
        }
      },
      "execution_count": null,
      "outputs": [
        {
          "output_type": "stream",
          "name": "stderr",
          "text": [
            "\u001b[32m[I 2023-04-03 20:46:53,757]\u001b[0m A new study created in memory with name: no-name-42207e9b-ab83-47a3-9047-78686d4c04f2\u001b[0m\n",
            "\u001b[32m[I 2023-04-03 20:47:10,549]\u001b[0m Trial 0 finished with value: 0.6938685160495712 and parameters: {'num_leaves': 46, 'min_split_gain': 0.02342522869080089, 'reg_alpha': 0.19146774720049003, 'reg_lambda': 0.4840314835618635, 'n_estimators': 580, 'learning_rate': 3.363897023081196e-05, 'max_depth': 12}. Best is trial 0 with value: 0.6938685160495712.\u001b[0m\n",
            "\u001b[32m[I 2023-04-03 20:47:27,844]\u001b[0m Trial 1 finished with value: 0.7058846373221127 and parameters: {'num_leaves': 24, 'min_split_gain': 0.06325037651014814, 'reg_alpha': 0.44453182026861193, 'reg_lambda': 0.3349176118042415, 'n_estimators': 854, 'learning_rate': 0.0003290543652844921, 'max_depth': 59}. Best is trial 1 with value: 0.7058846373221127.\u001b[0m\n",
            "\u001b[32m[I 2023-04-03 20:47:33,613]\u001b[0m Trial 2 finished with value: 0.7005668525333638 and parameters: {'num_leaves': 36, 'min_split_gain': 0.03632914365276334, 'reg_alpha': 0.23436499391422982, 'reg_lambda': 0.25188185067969276, 'n_estimators': 229, 'learning_rate': 0.0004380739827990241, 'max_depth': 91}. Best is trial 1 with value: 0.7058846373221127.\u001b[0m\n",
            "\u001b[32m[I 2023-04-03 20:47:53,197]\u001b[0m Trial 3 finished with value: 0.7115220041834723 and parameters: {'num_leaves': 29, 'min_split_gain': 0.04246148568619231, 'reg_alpha': 0.20818647884304448, 'reg_lambda': 0.4242626240329394, 'n_estimators': 918, 'learning_rate': 0.0007547810781497014, 'max_depth': 19}. Best is trial 3 with value: 0.7115220041834723.\u001b[0m\n",
            "\u001b[32m[I 2023-04-03 20:48:08,921]\u001b[0m Trial 4 finished with value: 0.6973583870006866 and parameters: {'num_leaves': 97, 'min_split_gain': 0.011042903788578922, 'reg_alpha': 0.24591759224458243, 'reg_lambda': 0.0582452852723771, 'n_estimators': 722, 'learning_rate': 0.21455234701736245, 'max_depth': 75}. Best is trial 3 with value: 0.7115220041834723.\u001b[0m\n",
            "\u001b[32m[I 2023-04-03 20:48:11,334]\u001b[0m Trial 5 finished with value: 0.6323267268443239 and parameters: {'num_leaves': 96, 'min_split_gain': 0.03603232342473918, 'reg_alpha': 0.28005490501416047, 'reg_lambda': 0.4476417518697334, 'n_estimators': 320, 'learning_rate': 0.00011732603061511719, 'max_depth': 1}. Best is trial 3 with value: 0.7115220041834723.\u001b[0m\n",
            "\u001b[32m[I 2023-04-03 20:48:23,810]\u001b[0m Trial 6 finished with value: 0.6946864907156122 and parameters: {'num_leaves': 75, 'min_split_gain': 0.05950867695939571, 'reg_alpha': 0.4817300125782543, 'reg_lambda': 0.33511649973525487, 'n_estimators': 461, 'learning_rate': 6.77507856064198e-05, 'max_depth': 7}. Best is trial 3 with value: 0.7115220041834723.\u001b[0m\n",
            "\u001b[32m[I 2023-04-03 20:48:28,331]\u001b[0m Trial 7 finished with value: 0.7154261637735773 and parameters: {'num_leaves': 57, 'min_split_gain': 0.021914353177600085, 'reg_alpha': 0.2770202188695247, 'reg_lambda': 0.3969786001556435, 'n_estimators': 130, 'learning_rate': 0.008346672155707441, 'max_depth': 34}. Best is trial 7 with value: 0.7154261637735773.\u001b[0m\n",
            "\u001b[32m[I 2023-04-03 20:48:41,003]\u001b[0m Trial 8 finished with value: 0.7199280841093619 and parameters: {'num_leaves': 15, 'min_split_gain': 0.059821818363552215, 'reg_alpha': 0.30722975107742406, 'reg_lambda': 0.08249503979063655, 'n_estimators': 720, 'learning_rate': 0.010694364668616419, 'max_depth': 94}. Best is trial 8 with value: 0.7199280841093619.\u001b[0m\n",
            "\u001b[32m[I 2023-04-03 20:49:06,850]\u001b[0m Trial 9 finished with value: 0.7198699582277528 and parameters: {'num_leaves': 61, 'min_split_gain': 0.05202701245753692, 'reg_alpha': 0.4085757804180545, 'reg_lambda': 0.13468292110318947, 'n_estimators': 802, 'learning_rate': 0.0032227445171039656, 'max_depth': 70}. Best is trial 8 with value: 0.7199280841093619.\u001b[0m\n",
            "\u001b[32m[I 2023-04-03 20:49:15,175]\u001b[0m Trial 10 finished with value: 0.7184391465071841 and parameters: {'num_leaves': 13, 'min_split_gain': 0.0688713172563397, 'reg_alpha': 0.02141518777242757, 'reg_lambda': 0.026793260500078853, 'n_estimators': 623, 'learning_rate': 0.02973851838839913, 'max_depth': 98}. Best is trial 8 with value: 0.7199280841093619.\u001b[0m\n",
            "\u001b[32m[I 2023-04-03 20:49:41,109]\u001b[0m Trial 11 finished with value: 0.7200557728759839 and parameters: {'num_leaves': 60, 'min_split_gain': 0.055887779019685876, 'reg_alpha': 0.3787821953257117, 'reg_lambda': 0.12788670399501675, 'n_estimators': 782, 'learning_rate': 0.003975382293008646, 'max_depth': 74}. Best is trial 11 with value: 0.7200557728759839.\u001b[0m\n",
            "\u001b[32m[I 2023-04-03 20:50:15,899]\u001b[0m Trial 12 finished with value: 0.7127461532593752 and parameters: {'num_leaves': 72, 'min_split_gain': 0.05324190556242582, 'reg_alpha': 0.35484966779403104, 'reg_lambda': 0.13160741839672863, 'n_estimators': 986, 'learning_rate': 0.024264128292566644, 'max_depth': 82}. Best is trial 11 with value: 0.7200557728759839.\u001b[0m\n",
            "\u001b[32m[I 2023-04-03 20:50:34,857]\u001b[0m Trial 13 finished with value: 0.7183343309353697 and parameters: {'num_leaves': 44, 'min_split_gain': 0.05493353690051426, 'reg_alpha': 0.3604792206503209, 'reg_lambda': 0.13711698384591878, 'n_estimators': 707, 'learning_rate': 0.00245031512593324, 'max_depth': 49}. Best is trial 11 with value: 0.7200557728759839.\u001b[0m\n",
            "\u001b[32m[I 2023-04-03 20:50:48,642]\u001b[0m Trial 14 finished with value: 0.6907266077699984 and parameters: {'num_leaves': 79, 'min_split_gain': 0.06868153558358521, 'reg_alpha': 0.36922926725693367, 'reg_lambda': 0.0005895201256156113, 'n_estimators': 452, 'learning_rate': 1.1707654174936099e-05, 'max_depth': 57}. Best is trial 11 with value: 0.7200557728759839.\u001b[0m\n",
            "\u001b[32m[I 2023-04-03 20:50:57,308]\u001b[0m Trial 15 finished with value: 0.7097014559992024 and parameters: {'num_leaves': 10, 'min_split_gain': 0.04683197317771472, 'reg_alpha': 0.47485839747201114, 'reg_lambda': 0.08432387331529423, 'n_estimators': 714, 'learning_rate': 0.08444862880534895, 'max_depth': 84}. Best is trial 11 with value: 0.7200557728759839.\u001b[0m\n",
            "\u001b[32m[I 2023-04-03 20:50:57,806]\u001b[0m Trial 16 finished with value: 0.6978305858678008 and parameters: {'num_leaves': 65, 'min_split_gain': 0.06004096616269841, 'reg_alpha': 0.3160965085286215, 'reg_lambda': 0.19272897775167716, 'n_estimators': 10, 'learning_rate': 0.006898932151928264, 'max_depth': 99}. Best is trial 11 with value: 0.7200557728759839.\u001b[0m\n",
            "\u001b[32m[I 2023-04-03 20:51:05,865]\u001b[0m Trial 17 finished with value: 0.6876936938262789 and parameters: {'num_leaves': 48, 'min_split_gain': 0.04875497249885769, 'reg_alpha': 0.40474538103526775, 'reg_lambda': 0.07514561035659928, 'n_estimators': 828, 'learning_rate': 0.3657703049897158, 'max_depth': 67}. Best is trial 11 with value: 0.7200557728759839.\u001b[0m\n",
            "\u001b[32m[I 2023-04-03 20:51:29,987]\u001b[0m Trial 18 finished with value: 0.7110351505489154 and parameters: {'num_leaves': 85, 'min_split_gain': 0.06222338282581581, 'reg_alpha': 0.3081790960153123, 'reg_lambda': 0.20734629931941384, 'n_estimators': 578, 'learning_rate': 0.04722404692719748, 'max_depth': 46}. Best is trial 11 with value: 0.7200557728759839.\u001b[0m\n",
            "\u001b[32m[I 2023-04-03 20:51:38,315]\u001b[0m Trial 19 finished with value: 0.7109864360567352 and parameters: {'num_leaves': 25, 'min_split_gain': 0.05664312616831774, 'reg_alpha': 0.16440308398840597, 'reg_lambda': 0.044317688172646, 'n_estimators': 388, 'learning_rate': 0.001664069404754521, 'max_depth': 84}. Best is trial 11 with value: 0.7200557728759839.\u001b[0m\n",
            "\u001b[32m[I 2023-04-03 20:52:08,611]\u001b[0m Trial 20 finished with value: 0.7161865737852319 and parameters: {'num_leaves': 53, 'min_split_gain': 0.06555311097141059, 'reg_alpha': 0.4049164990909222, 'reg_lambda': 0.10757517332778593, 'n_estimators': 963, 'learning_rate': 0.011848124517810943, 'max_depth': 35}. Best is trial 11 with value: 0.7200557728759839.\u001b[0m\n",
            "\u001b[32m[I 2023-04-03 20:52:35,201]\u001b[0m Trial 21 finished with value: 0.7197108291568446 and parameters: {'num_leaves': 63, 'min_split_gain': 0.052794871086840896, 'reg_alpha': 0.4188036421851809, 'reg_lambda': 0.14847503892111485, 'n_estimators': 799, 'learning_rate': 0.0033132500789267295, 'max_depth': 70}. Best is trial 11 with value: 0.7200557728759839.\u001b[0m\n",
            "\u001b[32m[I 2023-04-03 20:53:00,981]\u001b[0m Trial 22 finished with value: 0.7201484597741247 and parameters: {'num_leaves': 61, 'min_split_gain': 0.04984459731773466, 'reg_alpha': 0.4360789776326612, 'reg_lambda': 0.0991208521922467, 'n_estimators': 764, 'learning_rate': 0.005660311013074942, 'max_depth': 76}. Best is trial 22 with value: 0.7201484597741247.\u001b[0m\n",
            "\u001b[32m[I 2023-04-03 20:53:06,519]\u001b[0m Trial 23 finished with value: 0.6637203514133949 and parameters: {'num_leaves': 38, 'min_split_gain': 0.057318645607309184, 'reg_alpha': 0.49595290603539816, 'reg_lambda': 0.08050131195275481, 'n_estimators': 644, 'learning_rate': 0.896538856745655, 'max_depth': 91}. Best is trial 22 with value: 0.7201484597741247.\u001b[0m\n",
            "\u001b[32m[I 2023-04-03 20:53:38,508]\u001b[0m Trial 24 finished with value: 0.7154403444362484 and parameters: {'num_leaves': 69, 'min_split_gain': 0.04602478279624035, 'reg_alpha': 0.44191799519881736, 'reg_lambda': 2.466651311371082e-05, 'n_estimators': 877, 'learning_rate': 0.013306617199869688, 'max_depth': 79}. Best is trial 22 with value: 0.7201484597741247.\u001b[0m\n",
            "\u001b[32m[I 2023-04-03 20:54:05,368]\u001b[0m Trial 25 finished with value: 0.7145805262687294 and parameters: {'num_leaves': 87, 'min_split_gain': 0.06370519068767105, 'reg_alpha': 0.33466642294609106, 'reg_lambda': 0.18502022283262334, 'n_estimators': 757, 'learning_rate': 0.0012032998527774592, 'max_depth': 60}. Best is trial 22 with value: 0.7201484597741247.\u001b[0m\n",
            "\u001b[32m[I 2023-04-03 20:54:20,556]\u001b[0m Trial 26 finished with value: 0.7197511619431599 and parameters: {'num_leaves': 54, 'min_split_gain': 0.058814502286388834, 'reg_alpha': 0.3858424157173985, 'reg_lambda': 0.10393729558497707, 'n_estimators': 511, 'learning_rate': 0.005032918614186624, 'max_depth': 92}. Best is trial 22 with value: 0.7201484597741247.\u001b[0m\n",
            "\u001b[32m[I 2023-04-03 20:54:37,364]\u001b[0m Trial 27 finished with value: 0.7181202325242574 and parameters: {'num_leaves': 37, 'min_split_gain': 0.05027337123574572, 'reg_alpha': 0.4449175564133139, 'reg_lambda': 0.039556982684539874, 'n_estimators': 635, 'learning_rate': 0.012414905658756064, 'max_depth': 74}. Best is trial 22 with value: 0.7201484597741247.\u001b[0m\n",
            "\u001b[32m[I 2023-04-03 20:54:56,842]\u001b[0m Trial 28 finished with value: 0.7203150145526719 and parameters: {'num_leaves': 19, 'min_split_gain': 0.055745808766036076, 'reg_alpha': 0.33148505998831657, 'reg_lambda': 0.10640737540871328, 'n_estimators': 905, 'learning_rate': 0.004263047398833384, 'max_depth': 63}. Best is trial 28 with value: 0.7203150145526719.\u001b[0m\n",
            "\u001b[32m[I 2023-04-03 20:55:21,459]\u001b[0m Trial 29 finished with value: 0.7146178280063005 and parameters: {'num_leaves': 48, 'min_split_gain': 0.043044534119809894, 'reg_alpha': 0.3519685560295277, 'reg_lambda': 0.16361942275917432, 'n_estimators': 911, 'learning_rate': 0.001085459212610924, 'max_depth': 42}. Best is trial 28 with value: 0.7203150145526719.\u001b[0m\n",
            "\u001b[32m[I 2023-04-03 20:55:49,788]\u001b[0m Trial 30 finished with value: 0.7198915950307864 and parameters: {'num_leaves': 43, 'min_split_gain': 0.055056906638372115, 'reg_alpha': 0.37426535186890697, 'reg_lambda': 0.10710934322546412, 'n_estimators': 952, 'learning_rate': 0.0045877450175000984, 'max_depth': 64}. Best is trial 28 with value: 0.7203150145526719.\u001b[0m\n",
            "\u001b[32m[I 2023-04-03 20:56:04,387]\u001b[0m Trial 31 finished with value: 0.7165180150852201 and parameters: {'num_leaves': 18, 'min_split_gain': 0.04926189591761349, 'reg_alpha': 0.3243117566708381, 'reg_lambda': 0.06525696498048976, 'n_estimators': 760, 'learning_rate': 0.0021918527675353545, 'max_depth': 77}. Best is trial 28 with value: 0.7203150145526719.\u001b[0m\n",
            "\u001b[32m[I 2023-04-03 20:56:21,805]\u001b[0m Trial 32 finished with value: 0.7199516522190356 and parameters: {'num_leaves': 20, 'min_split_gain': 0.06125914699874764, 'reg_alpha': 0.29747294116267087, 'reg_lambda': 0.10744265803306563, 'n_estimators': 860, 'learning_rate': 0.005704463735892503, 'max_depth': 58}. Best is trial 28 with value: 0.7203150145526719.\u001b[0m\n",
            "\u001b[32m[I 2023-04-03 20:56:41,261]\u001b[0m Trial 33 finished with value: 0.7105489187028576 and parameters: {'num_leaves': 30, 'min_split_gain': 0.06544643540625852, 'reg_alpha': 0.4435326391255099, 'reg_lambda': 0.22988430030415585, 'n_estimators': 875, 'learning_rate': 0.000648769922498766, 'max_depth': 56}. Best is trial 28 with value: 0.7203150145526719.\u001b[0m\n",
            "\u001b[32m[I 2023-04-03 20:56:59,648]\u001b[0m Trial 34 finished with value: 0.7162905523308162 and parameters: {'num_leaves': 22, 'min_split_gain': 0.056387338269473425, 'reg_alpha': 0.3907886236802538, 'reg_lambda': 0.16594178728995662, 'n_estimators': 844, 'learning_rate': 0.0018147532777180776, 'max_depth': 63}. Best is trial 28 with value: 0.7203150145526719.\u001b[0m\n",
            "\u001b[32m[I 2023-04-03 20:57:19,133]\u001b[0m Trial 35 finished with value: 0.7074126869757674 and parameters: {'num_leaves': 30, 'min_split_gain': 0.052458202289678284, 'reg_alpha': 0.3505173480432994, 'reg_lambda': 0.23198271395267084, 'n_estimators': 905, 'learning_rate': 0.0004043679430236204, 'max_depth': 72}. Best is trial 28 with value: 0.7203150145526719.\u001b[0m\n",
            "\u001b[32m[I 2023-04-03 20:57:48,465]\u001b[0m Trial 36 finished with value: 0.7058550670788968 and parameters: {'num_leaves': 59, 'min_split_gain': 0.06138500237224001, 'reg_alpha': 0.28040474859289216, 'reg_lambda': 0.11469104604435593, 'n_estimators': 1000, 'learning_rate': 0.0002452081865032443, 'max_depth': 53}. Best is trial 28 with value: 0.7203150145526719.\u001b[0m\n",
            "\u001b[32m[I 2023-04-03 20:58:00,357]\u001b[0m Trial 37 finished with value: 0.7198083024686218 and parameters: {'num_leaves': 19, 'min_split_gain': 0.04477873553110649, 'reg_alpha': 0.4223641990401599, 'reg_lambda': 0.14367632909427866, 'n_estimators': 572, 'learning_rate': 0.005225739360828401, 'max_depth': 22}. Best is trial 28 with value: 0.7203150145526719.\u001b[0m\n",
            "\u001b[32m[I 2023-04-03 20:58:22,114]\u001b[0m Trial 38 finished with value: 0.7098037431065177 and parameters: {'num_leaves': 68, 'min_split_gain': 0.04130515965526833, 'reg_alpha': 0.3816369313503273, 'reg_lambda': 0.2770089432582761, 'n_estimators': 679, 'learning_rate': 0.0006887441337041938, 'max_depth': 65}. Best is trial 28 with value: 0.7203150145526719.\u001b[0m\n",
            "\u001b[32m[I 2023-04-03 20:58:44,869]\u001b[0m Trial 39 finished with value: 0.7148780256980188 and parameters: {'num_leaves': 52, 'min_split_gain': 0.04006935998015211, 'reg_alpha': 0.22376201136588042, 'reg_lambda': 0.1696047149044485, 'n_estimators': 774, 'learning_rate': 0.019983793149030184, 'max_depth': 39}. Best is trial 28 with value: 0.7203150145526719.\u001b[0m\n",
            "\u001b[32m[I 2023-04-03 20:59:09,257]\u001b[0m Trial 40 finished with value: 0.7190211138404363 and parameters: {'num_leaves': 34, 'min_split_gain': 0.0376405029374096, 'reg_alpha': 0.2726207687181078, 'reg_lambda': 0.05850443104161343, 'n_estimators': 933, 'learning_rate': 0.006840148522442821, 'max_depth': 50}. Best is trial 28 with value: 0.7203150145526719.\u001b[0m\n",
            "\u001b[32m[I 2023-04-03 20:59:24,889]\u001b[0m Trial 41 finished with value: 0.7201370648170591 and parameters: {'num_leaves': 15, 'min_split_gain': 0.05869519553638478, 'reg_alpha': 0.3049089641135685, 'reg_lambda': 0.08227449942684661, 'n_estimators': 844, 'learning_rate': 0.008992351989122179, 'max_depth': 89}. Best is trial 28 with value: 0.7203150145526719.\u001b[0m\n",
            "\u001b[32m[I 2023-04-03 20:59:44,369]\u001b[0m Trial 42 finished with value: 0.7199000740301923 and parameters: {'num_leaves': 24, 'min_split_gain': 0.058422158440747066, 'reg_alpha': 0.3409143878702276, 'reg_lambda': 0.10375831634332747, 'n_estimators': 843, 'learning_rate': 0.0035786403455132097, 'max_depth': 88}. Best is trial 28 with value: 0.7203150145526719.\u001b[0m\n",
            "\u001b[32m[I 2023-04-03 20:59:56,735]\u001b[0m Trial 43 finished with value: 0.7206391288378754 and parameters: {'num_leaves': 10, 'min_split_gain': 0.06253686561557348, 'reg_alpha': 0.2983052055599931, 'reg_lambda': 0.08771493720031032, 'n_estimators': 812, 'learning_rate': 0.005758648205179112, 'max_depth': 77}. Best is trial 43 with value: 0.7206391288378754.\u001b[0m\n",
            "\u001b[32m[I 2023-04-03 21:00:08,722]\u001b[0m Trial 44 finished with value: 0.7209052553351204 and parameters: {'num_leaves': 10, 'min_split_gain': 0.0535049493971278, 'reg_alpha': 0.266102172629794, 'reg_lambda': 0.03211895145286614, 'n_estimators': 800, 'learning_rate': 0.00910679016073083, 'max_depth': 80}. Best is trial 44 with value: 0.7209052553351204.\u001b[0m\n",
            "\u001b[32m[I 2023-04-03 21:00:19,101]\u001b[0m Trial 45 finished with value: 0.7202244781046043 and parameters: {'num_leaves': 10, 'min_split_gain': 0.050870793866474986, 'reg_alpha': 0.25938936599350737, 'reg_lambda': 0.027371260726165483, 'n_estimators': 814, 'learning_rate': 0.01969844573596058, 'max_depth': 81}. Best is trial 44 with value: 0.7209052553351204.\u001b[0m\n",
            "\u001b[32m[I 2023-04-03 21:00:28,807]\u001b[0m Trial 46 finished with value: 0.7202425173185988 and parameters: {'num_leaves': 11, 'min_split_gain': 0.049908561742676105, 'reg_alpha': 0.24958358311480414, 'reg_lambda': 0.017277369836285215, 'n_estimators': 679, 'learning_rate': 0.02006004063146453, 'max_depth': 81}. Best is trial 44 with value: 0.7209052553351204.\u001b[0m\n",
            "\u001b[32m[I 2023-04-03 21:00:37,523]\u001b[0m Trial 47 finished with value: 0.7148085281369448 and parameters: {'num_leaves': 10, 'min_split_gain': 0.05445801663879456, 'reg_alpha': 0.25112827561335643, 'reg_lambda': 0.023997646408894957, 'n_estimators': 692, 'learning_rate': 0.05200535565292472, 'max_depth': 81}. Best is trial 44 with value: 0.7209052553351204.\u001b[0m\n",
            "\u001b[32m[I 2023-04-03 21:00:50,453]\u001b[0m Trial 48 finished with value: 0.7182407064508264 and parameters: {'num_leaves': 14, 'min_split_gain': 0.0523858255413537, 'reg_alpha': 0.2006892900267866, 'reg_lambda': 0.020161948877124115, 'n_estimators': 804, 'learning_rate': 0.01945688831663012, 'max_depth': 87}. Best is trial 44 with value: 0.7209052553351204.\u001b[0m\n",
            "\u001b[32m[I 2023-04-03 21:00:57,065]\u001b[0m Trial 49 finished with value: 0.7185245794736431 and parameters: {'num_leaves': 11, 'min_split_gain': 0.04654436100542393, 'reg_alpha': 0.2584149192389958, 'reg_lambda': 0.051669356241840145, 'n_estimators': 538, 'learning_rate': 0.034549658329639264, 'max_depth': 69}. Best is trial 44 with value: 0.7209052553351204.\u001b[0m\n"
          ]
        },
        {
          "output_type": "execute_result",
          "data": {
            "text/plain": [
              "{'num_leaves': 10,\n",
              " 'min_split_gain': 0.0535049493971278,\n",
              " 'reg_alpha': 0.266102172629794,\n",
              " 'reg_lambda': 0.03211895145286614,\n",
              " 'n_estimators': 800,\n",
              " 'learning_rate': 0.00910679016073083,\n",
              " 'max_depth': 80}"
            ]
          },
          "metadata": {},
          "execution_count": 110
        }
      ]
    },
    {
      "cell_type": "code",
      "source": [
        "lgbm_new = LGBMClassifier(**study.best_params)\n",
        "lgbm_new.fit(Xtrain, ytrain)"
      ],
      "metadata": {
        "id": "4jXYmV_N0Xcg",
        "outputId": "fc3bc457-f792-44f1-9b6e-26ec01782a99",
        "colab": {
          "base_uri": "https://localhost:8080/",
          "height": 127
        }
      },
      "execution_count": null,
      "outputs": [
        {
          "output_type": "execute_result",
          "data": {
            "text/plain": [
              "LGBMClassifier(learning_rate=0.00910679016073083, max_depth=80,\n",
              "               min_split_gain=0.0535049493971278, n_estimators=800,\n",
              "               num_leaves=10, reg_alpha=0.266102172629794,\n",
              "               reg_lambda=0.03211895145286614)"
            ],
            "text/html": [
              "<style>#sk-container-id-3 {color: black;background-color: white;}#sk-container-id-3 pre{padding: 0;}#sk-container-id-3 div.sk-toggleable {background-color: white;}#sk-container-id-3 label.sk-toggleable__label {cursor: pointer;display: block;width: 100%;margin-bottom: 0;padding: 0.3em;box-sizing: border-box;text-align: center;}#sk-container-id-3 label.sk-toggleable__label-arrow:before {content: \"▸\";float: left;margin-right: 0.25em;color: #696969;}#sk-container-id-3 label.sk-toggleable__label-arrow:hover:before {color: black;}#sk-container-id-3 div.sk-estimator:hover label.sk-toggleable__label-arrow:before {color: black;}#sk-container-id-3 div.sk-toggleable__content {max-height: 0;max-width: 0;overflow: hidden;text-align: left;background-color: #f0f8ff;}#sk-container-id-3 div.sk-toggleable__content pre {margin: 0.2em;color: black;border-radius: 0.25em;background-color: #f0f8ff;}#sk-container-id-3 input.sk-toggleable__control:checked~div.sk-toggleable__content {max-height: 200px;max-width: 100%;overflow: auto;}#sk-container-id-3 input.sk-toggleable__control:checked~label.sk-toggleable__label-arrow:before {content: \"▾\";}#sk-container-id-3 div.sk-estimator input.sk-toggleable__control:checked~label.sk-toggleable__label {background-color: #d4ebff;}#sk-container-id-3 div.sk-label input.sk-toggleable__control:checked~label.sk-toggleable__label {background-color: #d4ebff;}#sk-container-id-3 input.sk-hidden--visually {border: 0;clip: rect(1px 1px 1px 1px);clip: rect(1px, 1px, 1px, 1px);height: 1px;margin: -1px;overflow: hidden;padding: 0;position: absolute;width: 1px;}#sk-container-id-3 div.sk-estimator {font-family: monospace;background-color: #f0f8ff;border: 1px dotted black;border-radius: 0.25em;box-sizing: border-box;margin-bottom: 0.5em;}#sk-container-id-3 div.sk-estimator:hover {background-color: #d4ebff;}#sk-container-id-3 div.sk-parallel-item::after {content: \"\";width: 100%;border-bottom: 1px solid gray;flex-grow: 1;}#sk-container-id-3 div.sk-label:hover label.sk-toggleable__label {background-color: #d4ebff;}#sk-container-id-3 div.sk-serial::before {content: \"\";position: absolute;border-left: 1px solid gray;box-sizing: border-box;top: 0;bottom: 0;left: 50%;z-index: 0;}#sk-container-id-3 div.sk-serial {display: flex;flex-direction: column;align-items: center;background-color: white;padding-right: 0.2em;padding-left: 0.2em;position: relative;}#sk-container-id-3 div.sk-item {position: relative;z-index: 1;}#sk-container-id-3 div.sk-parallel {display: flex;align-items: stretch;justify-content: center;background-color: white;position: relative;}#sk-container-id-3 div.sk-item::before, #sk-container-id-3 div.sk-parallel-item::before {content: \"\";position: absolute;border-left: 1px solid gray;box-sizing: border-box;top: 0;bottom: 0;left: 50%;z-index: -1;}#sk-container-id-3 div.sk-parallel-item {display: flex;flex-direction: column;z-index: 1;position: relative;background-color: white;}#sk-container-id-3 div.sk-parallel-item:first-child::after {align-self: flex-end;width: 50%;}#sk-container-id-3 div.sk-parallel-item:last-child::after {align-self: flex-start;width: 50%;}#sk-container-id-3 div.sk-parallel-item:only-child::after {width: 0;}#sk-container-id-3 div.sk-dashed-wrapped {border: 1px dashed gray;margin: 0 0.4em 0.5em 0.4em;box-sizing: border-box;padding-bottom: 0.4em;background-color: white;}#sk-container-id-3 div.sk-label label {font-family: monospace;font-weight: bold;display: inline-block;line-height: 1.2em;}#sk-container-id-3 div.sk-label-container {text-align: center;}#sk-container-id-3 div.sk-container {/* jupyter's `normalize.less` sets `[hidden] { display: none; }` but bootstrap.min.css set `[hidden] { display: none !important; }` so we also need the `!important` here to be able to override the default hidden behavior on the sphinx rendered scikit-learn.org. See: https://github.com/scikit-learn/scikit-learn/issues/21755 */display: inline-block !important;position: relative;}#sk-container-id-3 div.sk-text-repr-fallback {display: none;}</style><div id=\"sk-container-id-3\" class=\"sk-top-container\"><div class=\"sk-text-repr-fallback\"><pre>LGBMClassifier(learning_rate=0.00910679016073083, max_depth=80,\n",
              "               min_split_gain=0.0535049493971278, n_estimators=800,\n",
              "               num_leaves=10, reg_alpha=0.266102172629794,\n",
              "               reg_lambda=0.03211895145286614)</pre><b>In a Jupyter environment, please rerun this cell to show the HTML representation or trust the notebook. <br />On GitHub, the HTML representation is unable to render, please try loading this page with nbviewer.org.</b></div><div class=\"sk-container\" hidden><div class=\"sk-item\"><div class=\"sk-estimator sk-toggleable\"><input class=\"sk-toggleable__control sk-hidden--visually\" id=\"sk-estimator-id-3\" type=\"checkbox\" checked><label for=\"sk-estimator-id-3\" class=\"sk-toggleable__label sk-toggleable__label-arrow\">LGBMClassifier</label><div class=\"sk-toggleable__content\"><pre>LGBMClassifier(learning_rate=0.00910679016073083, max_depth=80,\n",
              "               min_split_gain=0.0535049493971278, n_estimators=800,\n",
              "               num_leaves=10, reg_alpha=0.266102172629794,\n",
              "               reg_lambda=0.03211895145286614)</pre></div></div></div></div></div>"
            ]
          },
          "metadata": {},
          "execution_count": 111
        }
      ]
    },
    {
      "cell_type": "code",
      "source": [
        "roc_auc_score(ytest, lgbm_new.predict_proba(Xtest)[:, 1])"
      ],
      "metadata": {
        "id": "zqe3Bkxb7Im-",
        "outputId": "0a9ea601-d6a0-4022-ff8f-0f67c40a3604",
        "colab": {
          "base_uri": "https://localhost:8080/"
        }
      },
      "execution_count": null,
      "outputs": [
        {
          "output_type": "execute_result",
          "data": {
            "text/plain": [
              "0.735020465135668"
            ]
          },
          "metadata": {},
          "execution_count": 112
        }
      ]
    },
    {
      "cell_type": "code",
      "source": [
        "# your code here"
      ],
      "metadata": {
        "id": "NTjHyWL-6lm-"
      },
      "execution_count": null,
      "outputs": []
    },
    {
      "cell_type": "markdown",
      "source": [
        "## Quiz\n",
        "\n",
        "Поделитесь своими результатами!"
      ],
      "metadata": {
        "id": "3kJk1Czm6nJg"
      }
    }
  ]
}